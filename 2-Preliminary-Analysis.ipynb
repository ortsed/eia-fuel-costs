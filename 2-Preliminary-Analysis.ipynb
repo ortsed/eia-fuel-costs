{
 "cells": [
  {
   "cell_type": "code",
   "execution_count": 78,
   "metadata": {
    "ExecuteTime": {
     "end_time": "2019-07-17T14:35:46.287833Z",
     "start_time": "2019-07-17T14:35:46.070540Z"
    }
   },
   "outputs": [],
   "source": [
    "import pandas as pd\n",
    "import matplotlib.pyplot as plt\n",
    "%matplotlib inline\n",
    "pd.set_option(\"display.max_columns\", 500)\n",
    "import seaborn as sns"
   ]
  },
  {
   "cell_type": "code",
   "execution_count": 38,
   "metadata": {
    "ExecuteTime": {
     "end_time": "2019-07-17T13:47:26.358379Z",
     "start_time": "2019-07-17T13:47:22.496963Z"
    }
   },
   "outputs": [],
   "source": [
    "df = pd.read_csv(\"refined.csv\")\n",
    "df = df.drop(columns=\"Column\")"
   ]
  },
  {
   "cell_type": "code",
   "execution_count": 12,
   "metadata": {
    "ExecuteTime": {
     "end_time": "2019-07-17T13:34:38.844515Z",
     "start_time": "2019-07-17T13:34:38.827335Z"
    }
   },
   "outputs": [
    {
     "data": {
      "text/plain": [
       "Column                                  int64\n",
       "average_ash_content                   float64\n",
       "average_heat_content                  float64\n",
       "average_mercury_content               float64\n",
       "average_sulfur_content                float64\n",
       "chlorine_content                      float64\n",
       "coalmine_county                        object\n",
       "coalmine_msha_id                      float64\n",
       "coalmine_name                          object\n",
       "coalmine_state                         object\n",
       "coalmine_type                          object\n",
       "contract_expiration_date               object\n",
       "contract_type                          object\n",
       "energy_source                          object\n",
       "fuel_cost                             float64\n",
       "fuel_group                             object\n",
       "moisture_content                      float64\n",
       "month                                   int64\n",
       "natural_gas_delivery_contract_type     object\n",
       "natural_gas_supply_contract_type       object\n",
       "natural_gas_transportation_service     object\n",
       "operator_id                            object\n",
       "operator_name                          object\n",
       "plant_id                                int64\n",
       "plant_name                             object\n",
       "plant_state                            object\n",
       "primary_transportation_mode            object\n",
       "purchase_type                          object\n",
       "quantity                                int64\n",
       "regulated                              object\n",
       "reporting_frequency                    object\n",
       "secondary_transportation_mode          object\n",
       "supplier                               object\n",
       "year                                    int64\n",
       "dtype: object"
      ]
     },
     "execution_count": 12,
     "metadata": {},
     "output_type": "execute_result"
    }
   ],
   "source": [
    "df.dtypes"
   ]
  },
  {
   "cell_type": "code",
   "execution_count": 5,
   "metadata": {
    "ExecuteTime": {
     "end_time": "2019-07-16T21:43:35.385612Z",
     "start_time": "2019-07-16T21:43:35.051106Z"
    }
   },
   "outputs": [
    {
     "data": {
      "text/html": [
       "<div>\n",
       "<style scoped>\n",
       "    .dataframe tbody tr th:only-of-type {\n",
       "        vertical-align: middle;\n",
       "    }\n",
       "\n",
       "    .dataframe tbody tr th {\n",
       "        vertical-align: top;\n",
       "    }\n",
       "\n",
       "    .dataframe thead th {\n",
       "        text-align: right;\n",
       "    }\n",
       "</style>\n",
       "<table border=\"1\" class=\"dataframe\">\n",
       "  <thead>\n",
       "    <tr style=\"text-align: right;\">\n",
       "      <th></th>\n",
       "      <th>Unnamed: 0</th>\n",
       "      <th>average_ash_content</th>\n",
       "      <th>average_heat_content</th>\n",
       "      <th>average_mercury_content</th>\n",
       "      <th>average_sulfur_content</th>\n",
       "      <th>chlorine_content</th>\n",
       "      <th>coalmine_msha_id</th>\n",
       "      <th>fuel_cost</th>\n",
       "      <th>moisture_content</th>\n",
       "      <th>month</th>\n",
       "      <th>plant_id</th>\n",
       "      <th>quantity</th>\n",
       "      <th>year</th>\n",
       "    </tr>\n",
       "  </thead>\n",
       "  <tbody>\n",
       "    <tr>\n",
       "      <th>count</th>\n",
       "      <td>378045.000000</td>\n",
       "      <td>378045.000000</td>\n",
       "      <td>378045.000000</td>\n",
       "      <td>136483.000000</td>\n",
       "      <td>378045.000000</td>\n",
       "      <td>9084.000000</td>\n",
       "      <td>1.373830e+05</td>\n",
       "      <td>3.128770e+05</td>\n",
       "      <td>18038.000000</td>\n",
       "      <td>378045.000000</td>\n",
       "      <td>378045.000000</td>\n",
       "      <td>3.780450e+05</td>\n",
       "      <td>378045.000000</td>\n",
       "    </tr>\n",
       "    <tr>\n",
       "      <th>mean</th>\n",
       "      <td>227876.856361</td>\n",
       "      <td>3.822055</td>\n",
       "      <td>10.095588</td>\n",
       "      <td>0.636175</td>\n",
       "      <td>0.563239</td>\n",
       "      <td>9538.313408</td>\n",
       "      <td>3.429264e+06</td>\n",
       "      <td>1.020476e+03</td>\n",
       "      <td>1283.056381</td>\n",
       "      <td>6.430123</td>\n",
       "      <td>13868.045860</td>\n",
       "      <td>1.782682e+05</td>\n",
       "      <td>2011.727136</td>\n",
       "    </tr>\n",
       "    <tr>\n",
       "      <th>std</th>\n",
       "      <td>144155.991576</td>\n",
       "      <td>5.714074</td>\n",
       "      <td>10.230534</td>\n",
       "      <td>2.296342</td>\n",
       "      <td>1.006608</td>\n",
       "      <td>36227.702288</td>\n",
       "      <td>1.668549e+06</td>\n",
       "      <td>5.954490e+04</td>\n",
       "      <td>1078.905668</td>\n",
       "      <td>3.442772</td>\n",
       "      <td>20218.944966</td>\n",
       "      <td>6.135453e+05</td>\n",
       "      <td>3.218277</td>\n",
       "    </tr>\n",
       "    <tr>\n",
       "      <th>min</th>\n",
       "      <td>0.000000</td>\n",
       "      <td>0.000000</td>\n",
       "      <td>0.000000</td>\n",
       "      <td>0.000000</td>\n",
       "      <td>0.000000</td>\n",
       "      <td>0.000000</td>\n",
       "      <td>1.001140e+05</td>\n",
       "      <td>-7.193000e+03</td>\n",
       "      <td>0.000000</td>\n",
       "      <td>1.000000</td>\n",
       "      <td>3.000000</td>\n",
       "      <td>1.000000e+00</td>\n",
       "      <td>2008.000000</td>\n",
       "    </tr>\n",
       "    <tr>\n",
       "      <th>25%</th>\n",
       "      <td>95039.000000</td>\n",
       "      <td>0.000000</td>\n",
       "      <td>1.022000</td>\n",
       "      <td>0.000000</td>\n",
       "      <td>0.000000</td>\n",
       "      <td>0.000000</td>\n",
       "      <td>1.518544e+06</td>\n",
       "      <td>2.331000e+02</td>\n",
       "      <td>288.000000</td>\n",
       "      <td>3.000000</td>\n",
       "      <td>2070.000000</td>\n",
       "      <td>4.127000e+03</td>\n",
       "      <td>2009.000000</td>\n",
       "    </tr>\n",
       "    <tr>\n",
       "      <th>50%</th>\n",
       "      <td>221993.000000</td>\n",
       "      <td>0.000000</td>\n",
       "      <td>5.708000</td>\n",
       "      <td>0.000000</td>\n",
       "      <td>0.000000</td>\n",
       "      <td>0.000000</td>\n",
       "      <td>4.601433e+06</td>\n",
       "      <td>3.451000e+02</td>\n",
       "      <td>918.000000</td>\n",
       "      <td>6.000000</td>\n",
       "      <td>4940.000000</td>\n",
       "      <td>2.009600e+04</td>\n",
       "      <td>2011.000000</td>\n",
       "    </tr>\n",
       "    <tr>\n",
       "      <th>75%</th>\n",
       "      <td>365326.000000</td>\n",
       "      <td>7.400000</td>\n",
       "      <td>21.450000</td>\n",
       "      <td>0.000000</td>\n",
       "      <td>0.680000</td>\n",
       "      <td>0.000000</td>\n",
       "      <td>4.800977e+06</td>\n",
       "      <td>5.004000e+02</td>\n",
       "      <td>2621.000000</td>\n",
       "      <td>9.000000</td>\n",
       "      <td>8059.000000</td>\n",
       "      <td>8.122800e+04</td>\n",
       "      <td>2014.000000</td>\n",
       "    </tr>\n",
       "    <tr>\n",
       "      <th>max</th>\n",
       "      <td>481118.000000</td>\n",
       "      <td>62.700000</td>\n",
       "      <td>1049.000000</td>\n",
       "      <td>10.000000</td>\n",
       "      <td>8.830000</td>\n",
       "      <td>374700.000000</td>\n",
       "      <td>4.801135e+07</td>\n",
       "      <td>2.353811e+07</td>\n",
       "      <td>3824.000000</td>\n",
       "      <td>12.000000</td>\n",
       "      <td>61643.000000</td>\n",
       "      <td>4.815976e+07</td>\n",
       "      <td>2019.000000</td>\n",
       "    </tr>\n",
       "  </tbody>\n",
       "</table>\n",
       "</div>"
      ],
      "text/plain": [
       "          Unnamed: 0  average_ash_content  average_heat_content  \\\n",
       "count  378045.000000        378045.000000         378045.000000   \n",
       "mean   227876.856361             3.822055             10.095588   \n",
       "std    144155.991576             5.714074             10.230534   \n",
       "min         0.000000             0.000000              0.000000   \n",
       "25%     95039.000000             0.000000              1.022000   \n",
       "50%    221993.000000             0.000000              5.708000   \n",
       "75%    365326.000000             7.400000             21.450000   \n",
       "max    481118.000000            62.700000           1049.000000   \n",
       "\n",
       "       average_mercury_content  average_sulfur_content  chlorine_content  \\\n",
       "count            136483.000000           378045.000000       9084.000000   \n",
       "mean                  0.636175                0.563239       9538.313408   \n",
       "std                   2.296342                1.006608      36227.702288   \n",
       "min                   0.000000                0.000000          0.000000   \n",
       "25%                   0.000000                0.000000          0.000000   \n",
       "50%                   0.000000                0.000000          0.000000   \n",
       "75%                   0.000000                0.680000          0.000000   \n",
       "max                  10.000000                8.830000     374700.000000   \n",
       "\n",
       "       coalmine_msha_id     fuel_cost  moisture_content          month  \\\n",
       "count      1.373830e+05  3.128770e+05      18038.000000  378045.000000   \n",
       "mean       3.429264e+06  1.020476e+03       1283.056381       6.430123   \n",
       "std        1.668549e+06  5.954490e+04       1078.905668       3.442772   \n",
       "min        1.001140e+05 -7.193000e+03          0.000000       1.000000   \n",
       "25%        1.518544e+06  2.331000e+02        288.000000       3.000000   \n",
       "50%        4.601433e+06  3.451000e+02        918.000000       6.000000   \n",
       "75%        4.800977e+06  5.004000e+02       2621.000000       9.000000   \n",
       "max        4.801135e+07  2.353811e+07       3824.000000      12.000000   \n",
       "\n",
       "            plant_id      quantity           year  \n",
       "count  378045.000000  3.780450e+05  378045.000000  \n",
       "mean    13868.045860  1.782682e+05    2011.727136  \n",
       "std     20218.944966  6.135453e+05       3.218277  \n",
       "min         3.000000  1.000000e+00    2008.000000  \n",
       "25%      2070.000000  4.127000e+03    2009.000000  \n",
       "50%      4940.000000  2.009600e+04    2011.000000  \n",
       "75%      8059.000000  8.122800e+04    2014.000000  \n",
       "max     61643.000000  4.815976e+07    2019.000000  "
      ]
     },
     "execution_count": 5,
     "metadata": {},
     "output_type": "execute_result"
    }
   ],
   "source": [
    "df.describe()"
   ]
  },
  {
   "cell_type": "code",
   "execution_count": 46,
   "metadata": {
    "ExecuteTime": {
     "end_time": "2019-07-17T13:49:22.295645Z",
     "start_time": "2019-07-17T13:49:21.935256Z"
    }
   },
   "outputs": [],
   "source": []
  },
  {
   "cell_type": "code",
   "execution_count": 54,
   "metadata": {
    "ExecuteTime": {
     "end_time": "2019-07-17T13:53:25.779156Z",
     "start_time": "2019-07-17T13:53:25.078349Z"
    }
   },
   "outputs": [
    {
     "name": "stderr",
     "output_type": "stream",
     "text": [
      "/Users/lhinkesjones/anaconda3/lib/python3.7/site-packages/numpy/lib/histograms.py:824: RuntimeWarning: invalid value encountered in greater_equal\n",
      "  keep = (tmp_a >= first_edge)\n",
      "/Users/lhinkesjones/anaconda3/lib/python3.7/site-packages/numpy/lib/histograms.py:825: RuntimeWarning: invalid value encountered in less_equal\n",
      "  keep &= (tmp_a <= last_edge)\n"
     ]
    },
    {
     "data": {
      "image/png": "[encoded data removed]",
      "text/plain": [
       "<Figure size 864x864 with 1 Axes>"
      ]
     },
     "metadata": {
      "needs_background": "light"
     },
     "output_type": "display_data"
    }
   ],
   "source": [
    "fig = plt.figure(figsize=(12,12))\n",
    "(n, bins, patches) = plt.hist(df.fuel_cost)"
   ]
  },
  {
   "cell_type": "code",
   "execution_count": 58,
   "metadata": {
    "ExecuteTime": {
     "end_time": "2019-07-17T13:54:46.359557Z",
     "start_time": "2019-07-17T13:54:46.289495Z"
    }
   },
   "outputs": [
    {
     "data": {
      "text/plain": [
       "2551.6"
      ]
     },
     "execution_count": 58,
     "metadata": {},
     "output_type": "execute_result"
    }
   ],
   "source": [
    "df.fuel_cost.quantile(.99)"
   ]
  },
  {
   "cell_type": "code",
   "execution_count": 61,
   "metadata": {
    "ExecuteTime": {
     "end_time": "2019-07-17T13:56:35.878264Z",
     "start_time": "2019-07-17T13:56:35.661776Z"
    }
   },
   "outputs": [],
   "source": [
    "df_2 = df[(df.fuel_cost <= df.fuel_cost.quantile(.99)) & (df.fuel_cost >0)]\n",
    "df_large = df[df.fuel_cost > df.fuel_cost.quantile(.99)]\n",
    "df_neg = df[df.fuel_cost <0]"
   ]
  },
  {
   "cell_type": "code",
   "execution_count": 62,
   "metadata": {
    "ExecuteTime": {
     "end_time": "2019-07-17T13:56:37.310313Z",
     "start_time": "2019-07-17T13:56:36.997187Z"
    }
   },
   "outputs": [
    {
     "data": {
      "text/plain": [
       "<matplotlib.axes._subplots.AxesSubplot at 0x1207aada0>"
      ]
     },
     "execution_count": 62,
     "metadata": {},
     "output_type": "execute_result"
    },
    {
     "data": {
      "image/png": "[encoded data removed]",
      "text/plain": [
       "<Figure size 432x288 with 1 Axes>"
      ]
     },
     "metadata": {
      "needs_background": "light"
     },
     "output_type": "display_data"
    }
   ],
   "source": [
    "df_2.fuel_cost.hist()"
   ]
  },
  {
   "cell_type": "code",
   "execution_count": 36,
   "metadata": {
    "ExecuteTime": {
     "end_time": "2019-07-17T13:43:38.203333Z",
     "start_time": "2019-07-17T13:43:38.191534Z"
    }
   },
   "outputs": [
    {
     "data": {
      "text/plain": [
       "Petroleum      14\n",
       "Natural Gas     6\n",
       "Coal            2\n",
       "Name: fuel_group, dtype: int64"
      ]
     },
     "execution_count": 36,
     "metadata": {},
     "output_type": "execute_result"
    }
   ],
   "source": [
    "df_neg.fuel_group.value_counts()"
   ]
  },
  {
   "cell_type": "code",
   "execution_count": 41,
   "metadata": {
    "ExecuteTime": {
     "end_time": "2019-07-17T13:47:35.970399Z",
     "start_time": "2019-07-17T13:47:35.911015Z"
    }
   },
   "outputs": [
    {
     "data": {
      "text/html": [
       "<div>\n",
       "<style scoped>\n",
       "    .dataframe tbody tr th:only-of-type {\n",
       "        vertical-align: middle;\n",
       "    }\n",
       "\n",
       "    .dataframe tbody tr th {\n",
       "        vertical-align: top;\n",
       "    }\n",
       "\n",
       "    .dataframe thead th {\n",
       "        text-align: right;\n",
       "    }\n",
       "</style>\n",
       "<table border=\"1\" class=\"dataframe\">\n",
       "  <thead>\n",
       "    <tr style=\"text-align: right;\">\n",
       "      <th></th>\n",
       "      <th>average_ash_content</th>\n",
       "      <th>average_heat_content</th>\n",
       "      <th>average_mercury_content</th>\n",
       "      <th>average_sulfur_content</th>\n",
       "      <th>chlorine_content</th>\n",
       "      <th>coalmine_county</th>\n",
       "      <th>coalmine_msha_id</th>\n",
       "      <th>coalmine_name</th>\n",
       "      <th>coalmine_state</th>\n",
       "      <th>coalmine_type</th>\n",
       "      <th>contract_expiration_date</th>\n",
       "      <th>contract_type</th>\n",
       "      <th>energy_source</th>\n",
       "      <th>fuel_cost</th>\n",
       "      <th>fuel_group</th>\n",
       "      <th>moisture_content</th>\n",
       "      <th>month</th>\n",
       "      <th>natural_gas_delivery_contract_type</th>\n",
       "      <th>natural_gas_supply_contract_type</th>\n",
       "      <th>natural_gas_transportation_service</th>\n",
       "      <th>operator_id</th>\n",
       "      <th>operator_name</th>\n",
       "      <th>plant_id</th>\n",
       "      <th>plant_name</th>\n",
       "      <th>plant_state</th>\n",
       "      <th>primary_transportation_mode</th>\n",
       "      <th>purchase_type</th>\n",
       "      <th>quantity</th>\n",
       "      <th>regulated</th>\n",
       "      <th>reporting_frequency</th>\n",
       "      <th>secondary_transportation_mode</th>\n",
       "      <th>supplier</th>\n",
       "      <th>year</th>\n",
       "    </tr>\n",
       "  </thead>\n",
       "  <tbody>\n",
       "    <tr>\n",
       "      <th>0</th>\n",
       "      <td>5.4</td>\n",
       "      <td>23.100</td>\n",
       "      <td>NaN</td>\n",
       "      <td>0.49</td>\n",
       "      <td>NaN</td>\n",
       "      <td>IMP</td>\n",
       "      <td>NaN</td>\n",
       "      <td>MINA PRIBBENOW</td>\n",
       "      <td>CL</td>\n",
       "      <td>SU</td>\n",
       "      <td>408</td>\n",
       "      <td>C</td>\n",
       "      <td>BIT</td>\n",
       "      <td>213.5</td>\n",
       "      <td>Coal</td>\n",
       "      <td>NaN</td>\n",
       "      <td>1</td>\n",
       "      <td>NaN</td>\n",
       "      <td>NaN</td>\n",
       "      <td>F</td>\n",
       "      <td>195.0</td>\n",
       "      <td>Alabama Power Co</td>\n",
       "      <td>3</td>\n",
       "      <td>Barry</td>\n",
       "      <td>AL</td>\n",
       "      <td>RV</td>\n",
       "      <td>NaN</td>\n",
       "      <td>259412</td>\n",
       "      <td>REG</td>\n",
       "      <td>M</td>\n",
       "      <td>NaN</td>\n",
       "      <td>INTEROCEAN COAL</td>\n",
       "      <td>2008</td>\n",
       "    </tr>\n",
       "    <tr>\n",
       "      <th>1</th>\n",
       "      <td>5.7</td>\n",
       "      <td>22.800</td>\n",
       "      <td>NaN</td>\n",
       "      <td>0.48</td>\n",
       "      <td>NaN</td>\n",
       "      <td>IMP</td>\n",
       "      <td>NaN</td>\n",
       "      <td>MINA PRIBBENOW</td>\n",
       "      <td>CL</td>\n",
       "      <td>SU</td>\n",
       "      <td>408</td>\n",
       "      <td>C</td>\n",
       "      <td>BIT</td>\n",
       "      <td>211.5</td>\n",
       "      <td>Coal</td>\n",
       "      <td>NaN</td>\n",
       "      <td>1</td>\n",
       "      <td>NaN</td>\n",
       "      <td>NaN</td>\n",
       "      <td>F</td>\n",
       "      <td>195.0</td>\n",
       "      <td>Alabama Power Co</td>\n",
       "      <td>3</td>\n",
       "      <td>Barry</td>\n",
       "      <td>AL</td>\n",
       "      <td>RV</td>\n",
       "      <td>NaN</td>\n",
       "      <td>52241</td>\n",
       "      <td>REG</td>\n",
       "      <td>M</td>\n",
       "      <td>NaN</td>\n",
       "      <td>INTEROCEAN COAL</td>\n",
       "      <td>2008</td>\n",
       "    </tr>\n",
       "    <tr>\n",
       "      <th>2</th>\n",
       "      <td>0.0</td>\n",
       "      <td>1.039</td>\n",
       "      <td>NaN</td>\n",
       "      <td>0.00</td>\n",
       "      <td>NaN</td>\n",
       "      <td>NaN</td>\n",
       "      <td>NaN</td>\n",
       "      <td>NaN</td>\n",
       "      <td>NaN</td>\n",
       "      <td>NaN</td>\n",
       "      <td>NaN</td>\n",
       "      <td>C</td>\n",
       "      <td>NG</td>\n",
       "      <td>863.1</td>\n",
       "      <td>Natural Gas</td>\n",
       "      <td>NaN</td>\n",
       "      <td>1</td>\n",
       "      <td>NaN</td>\n",
       "      <td>NaN</td>\n",
       "      <td>F</td>\n",
       "      <td>195.0</td>\n",
       "      <td>Alabama Power Co</td>\n",
       "      <td>3</td>\n",
       "      <td>Barry</td>\n",
       "      <td>AL</td>\n",
       "      <td>PL</td>\n",
       "      <td>NaN</td>\n",
       "      <td>2783619</td>\n",
       "      <td>REG</td>\n",
       "      <td>M</td>\n",
       "      <td>NaN</td>\n",
       "      <td>BAY GAS PIPELINE</td>\n",
       "      <td>2008</td>\n",
       "    </tr>\n",
       "    <tr>\n",
       "      <th>3</th>\n",
       "      <td>14.7</td>\n",
       "      <td>24.610</td>\n",
       "      <td>NaN</td>\n",
       "      <td>1.69</td>\n",
       "      <td>NaN</td>\n",
       "      <td>007</td>\n",
       "      <td>NaN</td>\n",
       "      <td>ALABAMA COAL</td>\n",
       "      <td>AL</td>\n",
       "      <td>SU</td>\n",
       "      <td>1215</td>\n",
       "      <td>C</td>\n",
       "      <td>BIT</td>\n",
       "      <td>277.6</td>\n",
       "      <td>Coal</td>\n",
       "      <td>NaN</td>\n",
       "      <td>1</td>\n",
       "      <td>NaN</td>\n",
       "      <td>NaN</td>\n",
       "      <td>F</td>\n",
       "      <td>195.0</td>\n",
       "      <td>Alabama Power Co</td>\n",
       "      <td>7</td>\n",
       "      <td>Gadsden</td>\n",
       "      <td>AL</td>\n",
       "      <td>TR</td>\n",
       "      <td>NaN</td>\n",
       "      <td>25397</td>\n",
       "      <td>REG</td>\n",
       "      <td>A</td>\n",
       "      <td>NaN</td>\n",
       "      <td>ALABAMA COAL</td>\n",
       "      <td>2008</td>\n",
       "    </tr>\n",
       "    <tr>\n",
       "      <th>4</th>\n",
       "      <td>15.5</td>\n",
       "      <td>24.446</td>\n",
       "      <td>NaN</td>\n",
       "      <td>0.84</td>\n",
       "      <td>NaN</td>\n",
       "      <td>145</td>\n",
       "      <td>NaN</td>\n",
       "      <td>flat rock #2</td>\n",
       "      <td>AL</td>\n",
       "      <td>S</td>\n",
       "      <td>1108</td>\n",
       "      <td>S</td>\n",
       "      <td>BIT</td>\n",
       "      <td>338.1</td>\n",
       "      <td>Coal</td>\n",
       "      <td>NaN</td>\n",
       "      <td>1</td>\n",
       "      <td>NaN</td>\n",
       "      <td>NaN</td>\n",
       "      <td>F</td>\n",
       "      <td>195.0</td>\n",
       "      <td>Alabama Power Co</td>\n",
       "      <td>7</td>\n",
       "      <td>Gadsden</td>\n",
       "      <td>AL</td>\n",
       "      <td>TR</td>\n",
       "      <td>NaN</td>\n",
       "      <td>764</td>\n",
       "      <td>REG</td>\n",
       "      <td>A</td>\n",
       "      <td>NaN</td>\n",
       "      <td>D &amp; E MINING</td>\n",
       "      <td>2008</td>\n",
       "    </tr>\n",
       "  </tbody>\n",
       "</table>\n",
       "</div>"
      ],
      "text/plain": [
       "   average_ash_content  average_heat_content  average_mercury_content  \\\n",
       "0                  5.4                23.100                      NaN   \n",
       "1                  5.7                22.800                      NaN   \n",
       "2                  0.0                 1.039                      NaN   \n",
       "3                 14.7                24.610                      NaN   \n",
       "4                 15.5                24.446                      NaN   \n",
       "\n",
       "   average_sulfur_content  chlorine_content coalmine_county  coalmine_msha_id  \\\n",
       "0                    0.49               NaN             IMP               NaN   \n",
       "1                    0.48               NaN             IMP               NaN   \n",
       "2                    0.00               NaN             NaN               NaN   \n",
       "3                    1.69               NaN             007               NaN   \n",
       "4                    0.84               NaN             145               NaN   \n",
       "\n",
       "    coalmine_name coalmine_state coalmine_type contract_expiration_date  \\\n",
       "0  MINA PRIBBENOW             CL            SU                      408   \n",
       "1  MINA PRIBBENOW             CL            SU                      408   \n",
       "2             NaN            NaN           NaN                      NaN   \n",
       "3    ALABAMA COAL             AL            SU                     1215   \n",
       "4    flat rock #2             AL             S                     1108   \n",
       "\n",
       "  contract_type energy_source  fuel_cost   fuel_group  moisture_content  \\\n",
       "0             C           BIT      213.5         Coal               NaN   \n",
       "1             C           BIT      211.5         Coal               NaN   \n",
       "2             C            NG      863.1  Natural Gas               NaN   \n",
       "3             C           BIT      277.6         Coal               NaN   \n",
       "4             S           BIT      338.1         Coal               NaN   \n",
       "\n",
       "   month natural_gas_delivery_contract_type natural_gas_supply_contract_type  \\\n",
       "0      1                                NaN                              NaN   \n",
       "1      1                                NaN                              NaN   \n",
       "2      1                                NaN                              NaN   \n",
       "3      1                                NaN                              NaN   \n",
       "4      1                                NaN                              NaN   \n",
       "\n",
       "  natural_gas_transportation_service operator_id     operator_name  plant_id  \\\n",
       "0                                  F       195.0  Alabama Power Co         3   \n",
       "1                                  F       195.0  Alabama Power Co         3   \n",
       "2                                  F       195.0  Alabama Power Co         3   \n",
       "3                                  F       195.0  Alabama Power Co         7   \n",
       "4                                  F       195.0  Alabama Power Co         7   \n",
       "\n",
       "  plant_name plant_state primary_transportation_mode purchase_type  quantity  \\\n",
       "0      Barry          AL                          RV           NaN    259412   \n",
       "1      Barry          AL                          RV           NaN     52241   \n",
       "2      Barry          AL                          PL           NaN   2783619   \n",
       "3    Gadsden          AL                          TR           NaN     25397   \n",
       "4    Gadsden          AL                          TR           NaN       764   \n",
       "\n",
       "  regulated reporting_frequency secondary_transportation_mode  \\\n",
       "0       REG                   M                           NaN   \n",
       "1       REG                   M                           NaN   \n",
       "2       REG                   M                           NaN   \n",
       "3       REG                   A                           NaN   \n",
       "4       REG                   A                           NaN   \n",
       "\n",
       "           supplier  year  \n",
       "0   INTEROCEAN COAL  2008  \n",
       "1   INTEROCEAN COAL  2008  \n",
       "2  BAY GAS PIPELINE  2008  \n",
       "3      ALABAMA COAL  2008  \n",
       "4      D & E MINING  2008  "
      ]
     },
     "execution_count": 41,
     "metadata": {},
     "output_type": "execute_result"
    }
   ],
   "source": [
    "df_2.head()"
   ]
  },
  {
   "cell_type": "code",
   "execution_count": 44,
   "metadata": {
    "ExecuteTime": {
     "end_time": "2019-07-17T13:48:27.156215Z",
     "start_time": "2019-07-17T13:48:27.139090Z"
    }
   },
   "outputs": [
    {
     "data": {
      "text/plain": [
       "S     14034\n",
       "C      7492\n",
       "NC       76\n",
       "Name: contract_type, dtype: int64"
      ]
     },
     "execution_count": 44,
     "metadata": {},
     "output_type": "execute_result"
    }
   ],
   "source": [
    "df_large.contract_type.value_counts()"
   ]
  },
  {
   "cell_type": "code",
   "execution_count": 63,
   "metadata": {
    "ExecuteTime": {
     "end_time": "2019-07-17T14:27:13.352662Z",
     "start_time": "2019-07-17T14:27:13.183238Z"
    }
   },
   "outputs": [],
   "source": [
    "from patsy import dmatrices"
   ]
  },
  {
   "cell_type": "code",
   "execution_count": 88,
   "metadata": {
    "ExecuteTime": {
     "end_time": "2019-07-17T14:39:29.464017Z",
     "start_time": "2019-07-17T14:39:29.448304Z"
    }
   },
   "outputs": [],
   "source": [
    "fields = [\"contract_type\", \"energy_source\", \"fuel_group\", \"plant_state\", \"plant_id\", \"operator_id\", \"quantity\", \"regulated\", \"reporting_frequency\", \"supplier\", \"year\", \"month\"]\n",
    "fields_c = [\"C(contract_type)\", \"C(energy_source)\", \"C(fuel_group)\", \"C(plant_state)\", \"C(plant_id)\", \"C(operator_id)\", \"quantity\", \"C(regulated)\", \"C(reporting_frequency)\", \"C(supplier)\", \"C(year)\", \"C(month)\"]"
   ]
  },
  {
   "cell_type": "code",
   "execution_count": 95,
   "metadata": {
    "ExecuteTime": {
     "end_time": "2019-07-17T14:40:23.138536Z",
     "start_time": "2019-07-17T14:40:23.080246Z"
    }
   },
   "outputs": [],
   "source": [
    "y, X = dmatrices(\"fuel_cost ~ \" + \"+\".join(fields_c), df_2.head())"
   ]
  },
  {
   "cell_type": "code",
   "execution_count": 90,
   "metadata": {
    "ExecuteTime": {
     "end_time": "2019-07-17T14:39:31.652523Z",
     "start_time": "2019-07-17T14:39:31.647811Z"
    }
   },
   "outputs": [],
   "source": [
    "from sklearn.model_selection import train_test_split\n",
    "X_train, X_test, y_train, y_test = train_test_split(X, y, test_size = 0.2)"
   ]
  },
  {
   "cell_type": "code",
   "execution_count": 106,
   "metadata": {
    "ExecuteTime": {
     "end_time": "2019-07-17T14:43:59.649897Z",
     "start_time": "2019-07-17T14:43:59.645974Z"
    }
   },
   "outputs": [],
   "source": [
    "cols = X.design_info.column_names"
   ]
  },
  {
   "cell_type": "code",
   "execution_count": 107,
   "metadata": {
    "ExecuteTime": {
     "end_time": "2019-07-17T14:44:11.413549Z",
     "start_time": "2019-07-17T14:44:10.158891Z"
    }
   },
   "outputs": [
    {
     "data": {
      "text/plain": [
       "<matplotlib.axes._subplots.AxesSubplot at 0x11916ef60>"
      ]
     },
     "execution_count": 107,
     "metadata": {},
     "output_type": "execute_result"
    },
    {
     "data": {
      "image/png": "[encoded data removed]",
      "text/plain": [
       "<Figure size 864x864 with 2 Axes>"
      ]
     },
     "metadata": {
      "needs_background": "light"
     },
     "output_type": "display_data"
    }
   ],
   "source": [
    "X = pd.DataFrame(X)\n",
    "X.columns = cols\n",
    "fig = plt.figure(figsize=(12,12))\n",
    "corr = X.corr()\n",
    "sns.heatmap(corr, annot=True)\n"
   ]
  },
  {
   "cell_type": "code",
   "execution_count": null,
   "metadata": {},
   "outputs": [],
   "source": []
  }
 ],
 "metadata": {
  "kernelspec": {
   "display_name": "Python 3",
   "language": "python",
   "name": "python3"
  },
  "language_info": {
   "codemirror_mode": {
    "name": "ipython",
    "version": 3
   },
   "file_extension": ".py",
   "mimetype": "text/x-python",
   "name": "python",
   "nbconvert_exporter": "python",
   "pygments_lexer": "ipython3",
   "version": "3.7.3"
  },
  "toc": {
   "base_numbering": 1,
   "nav_menu": {},
   "number_sections": true,
   "sideBar": true,
   "skip_h1_title": false,
   "title_cell": "Table of Contents",
   "title_sidebar": "Contents",
   "toc_cell": false,
   "toc_position": {},
   "toc_section_display": true,
   "toc_window_display": false
  },
  "varInspector": {
   "cols": {
    "lenName": 16,
    "lenType": 16,
    "lenVar": 40
   },
   "kernels_config": {
    "python": {
     "delete_cmd_postfix": "",
     "delete_cmd_prefix": "del ",
     "library": "var_list.py",
     "varRefreshCmd": "print(var_dic_list())"
    },
    "r": {
     "delete_cmd_postfix": ") ",
     "delete_cmd_prefix": "rm(",
     "library": "var_list.r",
     "varRefreshCmd": "cat(var_dic_list()) "
    }
   },
   "types_to_exclude": [
    "module",
    "function",
    "builtin_function_or_method",
    "instance",
    "_Feature"
   ],
   "window_display": false
  }
 },
 "nbformat": 4,
 "nbformat_minor": 2
}
