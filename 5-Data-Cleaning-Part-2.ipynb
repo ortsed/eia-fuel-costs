{
 "cells": [
  {
   "cell_type": "code",
   "execution_count": 2,
   "metadata": {
    "ExecuteTime": {
     "end_time": "2019-07-19T14:35:53.316879Z",
     "start_time": "2019-07-19T14:35:51.013067Z"
    }
   },
   "outputs": [],
   "source": [
    "from statsmodels.regression.linear_model import OLS\n",
    "from sklearn.model_selection import train_test_split\n",
    "import matplotlib.pyplot as plt\n",
    "%matplotlib inline\n",
    "import sqlite3\n",
    "import pandas as pd\n",
    "pd.set_option(\"display.max_columns\", 500)"
   ]
  },
  {
   "cell_type": "markdown",
   "metadata": {},
   "source": [
    "# Import Data"
   ]
  },
  {
   "cell_type": "code",
   "execution_count": 3,
   "metadata": {
    "ExecuteTime": {
     "end_time": "2019-07-19T14:36:04.165212Z",
     "start_time": "2019-07-19T14:36:04.155678Z"
    }
   },
   "outputs": [],
   "source": [
    "conn = sqlite3.connect(\"eia\")\n",
    "cursor = conn.cursor()\n"
   ]
  },
  {
   "cell_type": "code",
   "execution_count": 4,
   "metadata": {
    "ExecuteTime": {
     "end_time": "2019-07-19T14:36:28.682249Z",
     "start_time": "2019-07-19T14:36:05.473616Z"
    }
   },
   "outputs": [],
   "source": [
    "df = pd.DataFrame(cursor.execute(\"\"\"select * from combined2\"\"\").fetchall())\n",
    "df.columns = [description[0] for description in cursor.description]"
   ]
  },
  {
   "cell_type": "code",
   "execution_count": 5,
   "metadata": {
    "ExecuteTime": {
     "end_time": "2019-07-19T14:36:30.834265Z",
     "start_time": "2019-07-19T14:36:30.022981Z"
    }
   },
   "outputs": [],
   "source": [
    "df = df.drop(columns=[\"index\"])"
   ]
  },
  {
   "cell_type": "code",
   "execution_count": 6,
   "metadata": {
    "ExecuteTime": {
     "end_time": "2019-07-19T14:36:56.382205Z",
     "start_time": "2019-07-19T14:36:31.381551Z"
    }
   },
   "outputs": [],
   "source": [
    "df[\"year_month\"] = df.apply(lambda x: str(x[\"year\"]) + \"-\" + str(x[\"month\"]).zfill(2), axis=1)"
   ]
  },
  {
   "cell_type": "markdown",
   "metadata": {},
   "source": [
    "# Cleaning new fields"
   ]
  },
  {
   "cell_type": "code",
   "execution_count": 7,
   "metadata": {
    "ExecuteTime": {
     "end_time": "2019-07-19T14:37:00.477242Z",
     "start_time": "2019-07-19T14:36:58.020593Z"
    }
   },
   "outputs": [],
   "source": [
    "df[\"total_fuel_consumption_mmbtu\"] = df[\"total_fuel_consumption_mmbtu\"].apply(lambda x: str(x).replace(\",\", \"\"))\n",
    "df[\"total_fuel_consumption_mmbtu\"] = df[\"total_fuel_consumption_mmbtu\"].astype(int)"
   ]
  },
  {
   "cell_type": "code",
   "execution_count": 8,
   "metadata": {
    "ExecuteTime": {
     "end_time": "2019-07-19T14:37:01.205223Z",
     "start_time": "2019-07-19T14:37:01.199289Z"
    }
   },
   "outputs": [],
   "source": [
    "def none_to_zero(x):\n",
    "    if (x==\"None\") or (x == \".\"):\n",
    "        return 0\n",
    "    else:\n",
    "        return x"
   ]
  },
  {
   "cell_type": "code",
   "execution_count": 9,
   "metadata": {
    "ExecuteTime": {
     "end_time": "2019-07-19T14:37:02.051330Z",
     "start_time": "2019-07-19T14:37:02.045523Z"
    }
   },
   "outputs": [],
   "source": [
    "fields_to_clean = [\"total_fuel_consumption_quantity\", \"electric_fuel_consumption_quantity\", \"total_fuel_consumption_mmbtu\", \"elec_fuel_consumption_mmbtu\", \"net_generation_megawatthours\", \"quantity_gen\", \"elec_quantity_gen\", \"tot_mmbtu_gen\", \"elec_mmbtu_gen\", \"netgen_gen\"]\n"
   ]
  },
  {
   "cell_type": "code",
   "execution_count": 10,
   "metadata": {
    "ExecuteTime": {
     "end_time": "2019-07-19T14:37:08.174660Z",
     "start_time": "2019-07-19T14:37:02.917386Z"
    }
   },
   "outputs": [],
   "source": [
    "for fld in fields_to_clean:\n",
    "    df[fld] = df[fld].apply(lambda x: str(x).replace(\",\", \"\"))"
   ]
  },
  {
   "cell_type": "code",
   "execution_count": 11,
   "metadata": {
    "ExecuteTime": {
     "end_time": "2019-07-19T14:37:11.445187Z",
     "start_time": "2019-07-19T14:37:08.407760Z"
    }
   },
   "outputs": [],
   "source": [
    "for fld in fields_to_clean:\n",
    "    df[fld] = df[fld].apply(none_to_zero)\n"
   ]
  },
  {
   "cell_type": "code",
   "execution_count": 12,
   "metadata": {
    "ExecuteTime": {
     "end_time": "2019-07-19T14:37:15.888809Z",
     "start_time": "2019-07-19T14:37:11.666458Z"
    }
   },
   "outputs": [],
   "source": [
    "for fld in fields_to_clean:\n",
    "    df[fld] = df[fld].apply(lambda x: str(x).replace(\",\", \"\"))\n"
   ]
  },
  {
   "cell_type": "code",
   "execution_count": 13,
   "metadata": {
    "ExecuteTime": {
     "end_time": "2019-07-19T14:37:32.284413Z",
     "start_time": "2019-07-19T14:37:16.117264Z"
    }
   },
   "outputs": [],
   "source": [
    "for fld in fields_to_clean:\n",
    "    df[fld] = df[fld].astype(int)"
   ]
  },
  {
   "cell_type": "code",
   "execution_count": 14,
   "metadata": {
    "ExecuteTime": {
     "end_time": "2019-07-19T14:37:37.495496Z",
     "start_time": "2019-07-19T14:37:32.500009Z"
    }
   },
   "outputs": [],
   "source": [
    "# if fuel_cost isnt defined, its no use to us\n",
    "df = df[df.fuel_cost.notna()].copy()"
   ]
  },
  {
   "cell_type": "code",
   "execution_count": 15,
   "metadata": {
    "ExecuteTime": {
     "end_time": "2019-07-19T14:37:39.267592Z",
     "start_time": "2019-07-19T14:37:37.699773Z"
    }
   },
   "outputs": [],
   "source": [
    "def try_float(x):\n",
    "    if x ==\"\" or x == None or x == \".\":\n",
    "        return 0\n",
    "    else:\n",
    "        return float(x)\n",
    "df[\"mmbtu_per_unit_gen\"] = df[\"mmbtu_per_unit_gen\"].apply(try_float)"
   ]
  },
  {
   "cell_type": "code",
   "execution_count": 16,
   "metadata": {
    "ExecuteTime": {
     "end_time": "2019-07-19T14:39:16.504549Z",
     "start_time": "2019-07-19T14:39:16.493949Z"
    }
   },
   "outputs": [],
   "source": [
    "df[\"mmbtu_per_unit_gen\"] = df[\"mmbtu_per_unit_gen\"].astype(float)"
   ]
  },
  {
   "cell_type": "code",
   "execution_count": 17,
   "metadata": {
    "ExecuteTime": {
     "end_time": "2019-07-19T14:39:17.525289Z",
     "start_time": "2019-07-19T14:39:17.175212Z"
    }
   },
   "outputs": [],
   "source": [
    "df[\"operator_id\"] = df[\"operator_id\"].apply(lambda x: x.replace(\"operator_\", \"\"))"
   ]
  },
  {
   "cell_type": "code",
   "execution_count": 18,
   "metadata": {
    "ExecuteTime": {
     "end_time": "2019-07-19T14:39:19.686913Z",
     "start_time": "2019-07-19T14:39:18.093318Z"
    },
    "scrolled": true
   },
   "outputs": [],
   "source": [
    "df[\"operator_id\"] = df[\"operator_id\"].apply(lambda x: int(round(float(x))))"
   ]
  },
  {
   "cell_type": "code",
   "execution_count": 20,
   "metadata": {
    "ExecuteTime": {
     "end_time": "2019-07-19T14:39:41.345034Z",
     "start_time": "2019-07-19T14:39:41.285415Z"
    }
   },
   "outputs": [
    {
     "name": "stdout",
     "output_type": "stream",
     "text": [
      "coalmine_msha_id\n",
      "nuclear_unit_id\n",
      "operator_id_gen\n"
     ]
    }
   ],
   "source": [
    "for col in df.columns:\n",
    "    if \"_id\" in col:\n",
    "        try:\n",
    "            df[col] = df[col].astype(int)\n",
    "        except:\n",
    "            print(col)"
   ]
  },
  {
   "cell_type": "code",
   "execution_count": 23,
   "metadata": {
    "ExecuteTime": {
     "end_time": "2019-07-19T14:41:10.849089Z",
     "start_time": "2019-07-19T14:41:09.553725Z"
    }
   },
   "outputs": [],
   "source": [
    "df.coalmine_msha_id = df.coalmine_msha_id.fillna(value=0)\n",
    "df.nuclear_unit_id = df.nuclear_unit_id.fillna(value=0)\n",
    "df.operator_id_gen = df.operator_id_gen.fillna(value=0)\n",
    "\n"
   ]
  },
  {
   "cell_type": "code",
   "execution_count": 28,
   "metadata": {
    "ExecuteTime": {
     "end_time": "2019-07-19T15:18:14.069769Z",
     "start_time": "2019-07-19T15:18:11.966614Z"
    }
   },
   "outputs": [],
   "source": [
    "# For category columns, switch None values to N/A\n",
    "def none_to_na(x):\n",
    "    if x == None:\n",
    "        return \"N/A\"\n",
    "    else:\n",
    "        return x\n",
    "df.contract_type = df.contract_type.apply(none_to_na)\n",
    "df.natural_gas_delivery_contract_type = df.natural_gas_delivery_contract_type.apply(none_to_na)\n",
    "df.natural_gas_supply_contract_type = df.natural_gas_supply_contract_type.apply(none_to_na)\n",
    "df.natural_gas_transportation_service = df.natural_gas_transportation_service.apply(none_to_na)\n",
    "df.primary_transportation_mode = df.primary_transportation_mode.apply(none_to_na)\n",
    "df.secondary_transportation_mode = df.secondary_transportation_mode.apply(none_to_na)\n",
    "df.nerc_region = df.nerc_region.apply(none_to_na)\n",
    "df.purchase_type = df.purchase_type.apply(none_to_na)"
   ]
  },
  {
   "cell_type": "code",
   "execution_count": 29,
   "metadata": {
    "ExecuteTime": {
     "end_time": "2019-07-19T15:31:09.676820Z",
     "start_time": "2019-07-19T15:31:06.350496Z"
    }
   },
   "outputs": [],
   "source": [
    "for col in df.columns:\n",
    "    if \"_id\" in col:\n",
    "        try:\n",
    "            df[col] = df[col].astype(str)\n",
    "        except:\n",
    "            print(col)"
   ]
  },
  {
   "cell_type": "code",
   "execution_count": 30,
   "metadata": {
    "ExecuteTime": {
     "end_time": "2019-07-19T15:31:20.423288Z",
     "start_time": "2019-07-19T15:31:14.653714Z"
    }
   },
   "outputs": [
    {
     "name": "stdout",
     "output_type": "stream",
     "text": [
      "<class 'pandas.core.frame.DataFrame'>\n",
      "Int64Index: 440666 entries, 0 to 532619\n",
      "Data columns (total 65 columns):\n",
      "average_ash_content                   440666 non-null float64\n",
      "average_heat_content                  440666 non-null float64\n",
      "average_mercury_content               193405 non-null float64\n",
      "average_sulfur_content                440666 non-null float64\n",
      "chlorine_content                      9106 non-null float64\n",
      "coalmine_county                       137172 non-null object\n",
      "coalmine_msha_id                      440666 non-null object\n",
      "coalmine_name                         136322 non-null object\n",
      "coalmine_state                        138337 non-null object\n",
      "coalmine_type                         138122 non-null object\n",
      "contract_expiration_date              340240 non-null object\n",
      "contract_type                         440666 non-null object\n",
      "energy_source                         440666 non-null object\n",
      "fuel_cost                             440666 non-null float64\n",
      "fuel_group                            440666 non-null object\n",
      "moisture_content                      18086 non-null float64\n",
      "month                                 440666 non-null int64\n",
      "natural_gas_delivery_contract_type    440666 non-null object\n",
      "natural_gas_supply_contract_type      440666 non-null object\n",
      "natural_gas_transportation_service    440666 non-null object\n",
      "operator_id                           440666 non-null object\n",
      "operator_name                         440666 non-null object\n",
      "plant_id                              440666 non-null object\n",
      "plant_name                            440666 non-null object\n",
      "plant_state                           440666 non-null object\n",
      "primary_transportation_mode           440666 non-null object\n",
      "purchase_type                         440666 non-null object\n",
      "quantity                              440666 non-null int64\n",
      "regulated                             440666 non-null object\n",
      "reporting_frequency                   440666 non-null object\n",
      "secondary_transportation_mode         440666 non-null object\n",
      "supplier                              440665 non-null object\n",
      "year                                  440666 non-null int64\n",
      "plant_id_gen                          440666 non-null object\n",
      "combined_heat_and_power_plant         440666 non-null object\n",
      "nuclear_unit_id                       440666 non-null object\n",
      "plant_name_gen                        440663 non-null object\n",
      "operator_name_gen                     440663 non-null object\n",
      "operator_id_gen                       440666 non-null object\n",
      "state_gen                             440663 non-null object\n",
      "census_region                         440663 non-null object\n",
      "nerc_region                           440666 non-null object\n",
      "reserved_                             0 non-null object\n",
      "naics_code                            440666 non-null int64\n",
      "eia_sector_number                     440666 non-null int64\n",
      "sector_name                           440666 non-null object\n",
      "reported_prime_mover                  440666 non-null object\n",
      "reported_fuel_type_code               440666 non-null object\n",
      "aer_fuel_type_code                    440666 non-null object\n",
      "reserved_1                            0 non-null object\n",
      "reserved_2                            0 non-null object\n",
      "physical_unit_label                   440666 non-null object\n",
      "total_fuel_consumption_quantity       440666 non-null int64\n",
      "electric_fuel_consumption_quantity    440666 non-null int64\n",
      "total_fuel_consumption_mmbtu          440666 non-null int64\n",
      "elec_fuel_consumption_mmbtu           440666 non-null int64\n",
      "net_generation_megawatthours          440666 non-null int64\n",
      "year_gen                              440666 non-null int64\n",
      "quantity_gen                          440666 non-null int64\n",
      "elec_quantity_gen                     440666 non-null int64\n",
      "mmbtu_per_unit_gen                    440666 non-null float64\n",
      "tot_mmbtu_gen                         440666 non-null int64\n",
      "elec_mmbtu_gen                        440666 non-null int64\n",
      "netgen_gen                            440666 non-null int64\n",
      "year_month                            440666 non-null object\n",
      "dtypes: float64(8), int64(16), object(41)\n",
      "memory usage: 221.9+ MB\n"
     ]
    }
   ],
   "source": [
    "df.info()"
   ]
  },
  {
   "cell_type": "code",
   "execution_count": 33,
   "metadata": {
    "ExecuteTime": {
     "end_time": "2019-07-19T15:32:30.729980Z",
     "start_time": "2019-07-19T15:32:28.120329Z"
    }
   },
   "outputs": [
    {
     "data": {
      "text/plain": [
       "<sqlite3.Cursor at 0x1a1e2dd340>"
      ]
     },
     "execution_count": 33,
     "metadata": {},
     "output_type": "execute_result"
    }
   ],
   "source": [
    "cursor.execute(\"\"\"drop table combined4\"\"\")"
   ]
  },
  {
   "cell_type": "code",
   "execution_count": 32,
   "metadata": {
    "ExecuteTime": {
     "end_time": "2019-07-19T15:32:24.504137Z",
     "start_time": "2019-07-19T15:32:00.842951Z"
    }
   },
   "outputs": [],
   "source": [
    "df.to_sql(\"combined4\", conn)"
   ]
  },
  {
   "cell_type": "code",
   "execution_count": 25,
   "metadata": {
    "ExecuteTime": {
     "end_time": "2019-07-19T14:41:28.926040Z",
     "start_time": "2019-07-19T14:41:28.914190Z"
    }
   },
   "outputs": [
    {
     "data": {
      "text/plain": [
       "440666"
      ]
     },
     "execution_count": 25,
     "metadata": {},
     "output_type": "execute_result"
    }
   ],
   "source": [
    "len(df)"
   ]
  },
  {
   "cell_type": "code",
   "execution_count": null,
   "metadata": {},
   "outputs": [],
   "source": []
  }
 ],
 "metadata": {
  "kernelspec": {
   "display_name": "Python 3",
   "language": "python",
   "name": "python3"
  },
  "language_info": {
   "codemirror_mode": {
    "name": "ipython",
    "version": 3
   },
   "file_extension": ".py",
   "mimetype": "text/x-python",
   "name": "python",
   "nbconvert_exporter": "python",
   "pygments_lexer": "ipython3",
   "version": "3.7.3"
  },
  "toc": {
   "base_numbering": 1,
   "nav_menu": {},
   "number_sections": true,
   "sideBar": true,
   "skip_h1_title": false,
   "title_cell": "Table of Contents",
   "title_sidebar": "Contents",
   "toc_cell": false,
   "toc_position": {},
   "toc_section_display": true,
   "toc_window_display": false
  },
  "varInspector": {
   "cols": {
    "lenName": 16,
    "lenType": 16,
    "lenVar": 40
   },
   "kernels_config": {
    "python": {
     "delete_cmd_postfix": "",
     "delete_cmd_prefix": "del ",
     "library": "var_list.py",
     "varRefreshCmd": "print(var_dic_list())"
    },
    "r": {
     "delete_cmd_postfix": ") ",
     "delete_cmd_prefix": "rm(",
     "library": "var_list.r",
     "varRefreshCmd": "cat(var_dic_list()) "
    }
   },
   "types_to_exclude": [
    "module",
    "function",
    "builtin_function_or_method",
    "instance",
    "_Feature"
   ],
   "window_display": false
  }
 },
 "nbformat": 4,
 "nbformat_minor": 2
}
