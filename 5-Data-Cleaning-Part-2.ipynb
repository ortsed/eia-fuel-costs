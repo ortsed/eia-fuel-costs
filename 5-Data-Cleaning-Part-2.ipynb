{
 "cells": [
  {
   "cell_type": "code",
   "execution_count": 2,
   "metadata": {
    "ExecuteTime": {
     "end_time": "2019-07-19T14:35:53.316879Z",
     "start_time": "2019-07-19T14:35:51.013067Z"
    }
   },
   "outputs": [],
   "source": [
    "from statsmodels.regression.linear_model import OLS\n",
    "from sklearn.model_selection import train_test_split\n",
    "import matplotlib.pyplot as plt\n",
    "%matplotlib inline\n",
    "import sqlite3\n",
    "import pandas as pd\n",
    "pd.set_option(\"display.max_columns\", 500)"
   ]
  },
  {
   "cell_type": "markdown",
   "metadata": {},
   "source": [
    "# Import Data"
   ]
  },
  {
   "cell_type": "code",
   "execution_count": 3,
   "metadata": {
    "ExecuteTime": {
     "end_time": "2019-07-19T14:36:04.165212Z",
     "start_time": "2019-07-19T14:36:04.155678Z"
    }
   },
   "outputs": [],
   "source": [
    "conn = sqlite3.connect(\"eia\")\n",
    "cursor = conn.cursor()\n"
   ]
  },
  {
   "cell_type": "code",
   "execution_count": 4,
   "metadata": {
    "ExecuteTime": {
     "end_time": "2019-07-19T14:36:28.682249Z",
     "start_time": "2019-07-19T14:36:05.473616Z"
    }
   },
   "outputs": [],
   "source": [
    "df = pd.DataFrame(cursor.execute(\"\"\"select * from combined2\"\"\").fetchall())\n",
    "df.columns = [description[0] for description in cursor.description]"
   ]
  },
  {
   "cell_type": "code",
   "execution_count": 5,
   "metadata": {
    "ExecuteTime": {
     "end_time": "2019-07-19T14:36:30.834265Z",
     "start_time": "2019-07-19T14:36:30.022981Z"
    }
   },
   "outputs": [],
   "source": [
    "df = df.drop(columns=[\"index\"])"
   ]
  },
  {
   "cell_type": "code",
   "execution_count": 6,
   "metadata": {
    "ExecuteTime": {
     "end_time": "2019-07-19T14:36:56.382205Z",
     "start_time": "2019-07-19T14:36:31.381551Z"
    }
   },
   "outputs": [],
   "source": [
    "df[\"year_month\"] = df.apply(lambda x: str(x[\"year\"]) + \"-\" + str(x[\"month\"]).zfill(2), axis=1)"
   ]
  },
  {
   "cell_type": "markdown",
   "metadata": {},
   "source": [
    "# Cleaning new fields"
   ]
  },
  {
   "cell_type": "code",
   "execution_count": 7,
   "metadata": {
    "ExecuteTime": {
     "end_time": "2019-07-19T14:37:00.477242Z",
     "start_time": "2019-07-19T14:36:58.020593Z"
    }
   },
   "outputs": [],
   "source": [
    "df[\"total_fuel_consumption_mmbtu\"] = df[\"total_fuel_consumption_mmbtu\"].apply(lambda x: str(x).replace(\",\", \"\"))\n",
    "df[\"total_fuel_consumption_mmbtu\"] = df[\"total_fuel_consumption_mmbtu\"].astype(int)"
   ]
  },
  {
   "cell_type": "code",
   "execution_count": 8,
   "metadata": {
    "ExecuteTime": {
     "end_time": "2019-07-19T14:37:01.205223Z",
     "start_time": "2019-07-19T14:37:01.199289Z"
    }
   },
   "outputs": [],
   "source": [
    "def none_to_zero(x):\n",
    "    if (x==\"None\") or (x == \".\"):\n",
    "        return 0\n",
    "    else:\n",
    "        return x"
   ]
  },
  {
   "cell_type": "code",
   "execution_count": 9,
   "metadata": {
    "ExecuteTime": {
     "end_time": "2019-07-19T14:37:02.051330Z",
     "start_time": "2019-07-19T14:37:02.045523Z"
    }
   },
   "outputs": [],
   "source": [
    "fields_to_clean = [\"total_fuel_consumption_quantity\", \"electric_fuel_consumption_quantity\", \"total_fuel_consumption_mmbtu\", \"elec_fuel_consumption_mmbtu\", \"net_generation_megawatthours\", \"quantity_gen\", \"elec_quantity_gen\", \"tot_mmbtu_gen\", \"elec_mmbtu_gen\", \"netgen_gen\"]\n"
   ]
  },
  {
   "cell_type": "code",
   "execution_count": 10,
   "metadata": {
    "ExecuteTime": {
     "end_time": "2019-07-19T14:37:08.174660Z",
     "start_time": "2019-07-19T14:37:02.917386Z"
    }
   },
   "outputs": [],
   "source": [
    "for fld in fields_to_clean:\n",
    "    df[fld] = df[fld].apply(lambda x: str(x).replace(\",\", \"\"))"
   ]
  },
  {
   "cell_type": "code",
   "execution_count": 11,
   "metadata": {
    "ExecuteTime": {
     "end_time": "2019-07-19T14:37:11.445187Z",
     "start_time": "2019-07-19T14:37:08.407760Z"
    }
   },
   "outputs": [],
   "source": [
    "for fld in fields_to_clean:\n",
    "    df[fld] = df[fld].apply(none_to_zero)\n"
   ]
  },
  {
   "cell_type": "code",
   "execution_count": 12,
   "metadata": {
    "ExecuteTime": {
     "end_time": "2019-07-19T14:37:15.888809Z",
     "start_time": "2019-07-19T14:37:11.666458Z"
    }
   },
   "outputs": [],
   "source": [
    "for fld in fields_to_clean:\n",
    "    df[fld] = df[fld].apply(lambda x: str(x).replace(\",\", \"\"))\n"
   ]
  },
  {
   "cell_type": "code",
   "execution_count": 13,
   "metadata": {
    "ExecuteTime": {
     "end_time": "2019-07-19T14:37:32.284413Z",
     "start_time": "2019-07-19T14:37:16.117264Z"
    }
   },
   "outputs": [],
   "source": [
    "for fld in fields_to_clean:\n",
    "    df[fld] = df[fld].astype(int)"
   ]
  },
  {
   "cell_type": "code",
   "execution_count": 14,
   "metadata": {
    "ExecuteTime": {
     "end_time": "2019-07-19T14:37:37.495496Z",
     "start_time": "2019-07-19T14:37:32.500009Z"
    }
   },
   "outputs": [],
   "source": [
    "# if fuel_cost isnt defined, its no use to us\n",
    "df = df[df.fuel_cost.notna()].copy()"
   ]
  },
  {
   "cell_type": "code",
   "execution_count": 15,
   "metadata": {
    "ExecuteTime": {
     "end_time": "2019-07-19T14:37:39.267592Z",
     "start_time": "2019-07-19T14:37:37.699773Z"
    }
   },
   "outputs": [],
   "source": [
    "def try_float(x):\n",
    "    if x ==\"\" or x == None or x == \".\":\n",
    "        return 0\n",
    "    else:\n",
    "        return float(x)\n",
    "df[\"mmbtu_per_unit_gen\"] = df[\"mmbtu_per_unit_gen\"].apply(try_float)"
   ]
  },
  {
   "cell_type": "code",
   "execution_count": 16,
   "metadata": {
    "ExecuteTime": {
     "end_time": "2019-07-19T14:39:16.504549Z",
     "start_time": "2019-07-19T14:39:16.493949Z"
    }
   },
   "outputs": [],
   "source": [
    "df[\"mmbtu_per_unit_gen\"] = df[\"mmbtu_per_unit_gen\"].astype(float)"
   ]
  },
  {
   "cell_type": "code",
   "execution_count": 17,
   "metadata": {
    "ExecuteTime": {
     "end_time": "2019-07-19T14:39:17.525289Z",
     "start_time": "2019-07-19T14:39:17.175212Z"
    }
   },
   "outputs": [],
   "source": [
    "df[\"operator_id\"] = df[\"operator_id\"].apply(lambda x: x.replace(\"operator_\", \"\"))"
   ]
  },
  {
   "cell_type": "code",
   "execution_count": 18,
   "metadata": {
    "ExecuteTime": {
     "end_time": "2019-07-19T14:39:19.686913Z",
     "start_time": "2019-07-19T14:39:18.093318Z"
    },
    "scrolled": true
   },
   "outputs": [],
   "source": [
    "df[\"operator_id\"] = df[\"operator_id\"].apply(lambda x: int(round(float(x))))"
   ]
  },
  {
   "cell_type": "code",
   "execution_count": 20,
   "metadata": {
    "ExecuteTime": {
     "end_time": "2019-07-19T14:39:41.345034Z",
     "start_time": "2019-07-19T14:39:41.285415Z"
    }
   },
   "outputs": [
    {
     "name": "stdout",
     "output_type": "stream",
     "text": [
      "coalmine_msha_id\n",
      "nuclear_unit_id\n",
      "operator_id_gen\n"
     ]
    }
   ],
   "source": [
    "for col in df.columns:\n",
    "    if \"_id\" in col:\n",
    "        try:\n",
    "            df[col] = df[col].astype(int)\n",
    "        except:\n",
    "            print(col)"
   ]
  },
  {
   "cell_type": "code",
   "execution_count": 23,
   "metadata": {
    "ExecuteTime": {
     "end_time": "2019-07-19T14:41:10.849089Z",
     "start_time": "2019-07-19T14:41:09.553725Z"
    }
   },
   "outputs": [],
   "source": [
    "df.coalmine_msha_id = df.coalmine_msha_id.fillna(value=0)\n",
    "df.nuclear_unit_id = df.nuclear_unit_id.fillna(value=0)\n",
    "df.operator_id_gen = df.operator_id_gen.fillna(value=0)\n",
    "\n"
   ]
  },
  {
   "cell_type": "code",
   "execution_count": 24,
   "metadata": {
    "ExecuteTime": {
     "end_time": "2019-07-19T14:41:20.127371Z",
     "start_time": "2019-07-19T14:41:20.049889Z"
    }
   },
   "outputs": [],
   "source": [
    "for col in df.columns:\n",
    "    if \"_id\" in col:\n",
    "        try:\n",
    "            df[col] = df[col].astype(int)\n",
    "        except:\n",
    "            print(col)"
   ]
  },
  {
   "cell_type": "code",
   "execution_count": 27,
   "metadata": {
    "ExecuteTime": {
     "end_time": "2019-07-19T14:42:16.120113Z",
     "start_time": "2019-07-19T14:41:49.860510Z"
    }
   },
   "outputs": [],
   "source": [
    "df.to_sql(\"combined4\", conn)"
   ]
  },
  {
   "cell_type": "code",
   "execution_count": 25,
   "metadata": {
    "ExecuteTime": {
     "end_time": "2019-07-19T14:41:28.926040Z",
     "start_time": "2019-07-19T14:41:28.914190Z"
    }
   },
   "outputs": [
    {
     "data": {
      "text/plain": [
       "440666"
      ]
     },
     "execution_count": 25,
     "metadata": {},
     "output_type": "execute_result"
    }
   ],
   "source": [
    "len(df)"
   ]
  },
  {
   "cell_type": "code",
   "execution_count": null,
   "metadata": {},
   "outputs": [],
   "source": []
  }
 ],
 "metadata": {
  "kernelspec": {
   "display_name": "Python 3",
   "language": "python",
   "name": "python3"
  },
  "language_info": {
   "codemirror_mode": {
    "name": "ipython",
    "version": 3
   },
   "file_extension": ".py",
   "mimetype": "text/x-python",
   "name": "python",
   "nbconvert_exporter": "python",
   "pygments_lexer": "ipython3",
   "version": "3.7.3"
  },
  "toc": {
   "base_numbering": 1,
   "nav_menu": {},
   "number_sections": true,
   "sideBar": true,
   "skip_h1_title": false,
   "title_cell": "Table of Contents",
   "title_sidebar": "Contents",
   "toc_cell": false,
   "toc_position": {},
   "toc_section_display": true,
   "toc_window_display": false
  },
  "varInspector": {
   "cols": {
    "lenName": 16,
    "lenType": 16,
    "lenVar": 40
   },
   "kernels_config": {
    "python": {
     "delete_cmd_postfix": "",
     "delete_cmd_prefix": "del ",
     "library": "var_list.py",
     "varRefreshCmd": "print(var_dic_list())"
    },
    "r": {
     "delete_cmd_postfix": ") ",
     "delete_cmd_prefix": "rm(",
     "library": "var_list.r",
     "varRefreshCmd": "cat(var_dic_list()) "
    }
   },
   "types_to_exclude": [
    "module",
    "function",
    "builtin_function_or_method",
    "instance",
    "_Feature"
   ],
   "window_display": false
  }
 },
 "nbformat": 4,
 "nbformat_minor": 2
}
