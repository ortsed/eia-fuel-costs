{
 "cells": [
  {
   "cell_type": "markdown",
   "metadata": {},
   "source": [
    "# Load the cleaned, refined data"
   ]
  },
  {
   "cell_type": "code",
   "execution_count": 1,
   "metadata": {
    "ExecuteTime": {
     "end_time": "2019-07-17T22:13:56.047005Z",
     "start_time": "2019-07-17T22:13:54.070749Z"
    }
   },
   "outputs": [],
   "source": [
    "import pandas as pd\n",
    "import matplotlib.pyplot as plt\n",
    "%matplotlib inline\n",
    "pd.set_option(\"display.max_columns\", 500)\n",
    "import seaborn as sns\n",
    "from patsy import dmatrices\n",
    "import matplotlib.pyplot as plt\n",
    "%matplotlib inline\n",
    "from sklearn.model_selection import train_test_split\n",
    "from sklearn.linear_model import LinearRegression"
   ]
  },
  {
   "cell_type": "code",
   "execution_count": 2,
   "metadata": {
    "ExecuteTime": {
     "end_time": "2019-07-17T22:13:58.867757Z",
     "start_time": "2019-07-17T22:13:56.075789Z"
    }
   },
   "outputs": [
    {
     "name": "stderr",
     "output_type": "stream",
     "text": [
      "/Users/lhinkesjones/anaconda3/lib/python3.7/site-packages/IPython/core/interactiveshell.py:3049: DtypeWarning: Columns (6,11,12,18,19,20,21,27) have mixed types. Specify dtype option on import or set low_memory=False.\n",
      "  interactivity=interactivity, compiler=compiler, result=result)\n"
     ]
    }
   ],
   "source": [
    "df = pd.read_csv(\"refined.csv\")\n",
    "df = df.drop(columns=\"Column\")"
   ]
  },
  {
   "cell_type": "markdown",
   "metadata": {},
   "source": [
    "# Preview the data"
   ]
  },
  {
   "cell_type": "code",
   "execution_count": 3,
   "metadata": {
    "ExecuteTime": {
     "end_time": "2019-07-17T22:14:24.758692Z",
     "start_time": "2019-07-17T22:14:24.713271Z"
    }
   },
   "outputs": [
    {
     "data": {
      "text/html": [
       "<div>\n",
       "<style scoped>\n",
       "    .dataframe tbody tr th:only-of-type {\n",
       "        vertical-align: middle;\n",
       "    }\n",
       "\n",
       "    .dataframe tbody tr th {\n",
       "        vertical-align: top;\n",
       "    }\n",
       "\n",
       "    .dataframe thead th {\n",
       "        text-align: right;\n",
       "    }\n",
       "</style>\n",
       "<table border=\"1\" class=\"dataframe\">\n",
       "  <thead>\n",
       "    <tr style=\"text-align: right;\">\n",
       "      <th></th>\n",
       "      <th>average_ash_content</th>\n",
       "      <th>average_heat_content</th>\n",
       "      <th>average_mercury_content</th>\n",
       "      <th>average_sulfur_content</th>\n",
       "      <th>chlorine_content</th>\n",
       "      <th>coalmine_county</th>\n",
       "      <th>coalmine_msha_id</th>\n",
       "      <th>coalmine_name</th>\n",
       "      <th>coalmine_state</th>\n",
       "      <th>coalmine_type</th>\n",
       "      <th>contract_expiration_date</th>\n",
       "      <th>contract_type</th>\n",
       "      <th>energy_source</th>\n",
       "      <th>fuel_cost</th>\n",
       "      <th>fuel_group</th>\n",
       "      <th>moisture_content</th>\n",
       "      <th>month</th>\n",
       "      <th>natural_gas_delivery_contract_type</th>\n",
       "      <th>natural_gas_supply_contract_type</th>\n",
       "      <th>natural_gas_transportation_service</th>\n",
       "      <th>operator_id</th>\n",
       "      <th>operator_name</th>\n",
       "      <th>plant_id</th>\n",
       "      <th>plant_name</th>\n",
       "      <th>plant_state</th>\n",
       "      <th>primary_transportation_mode</th>\n",
       "      <th>purchase_type</th>\n",
       "      <th>quantity</th>\n",
       "      <th>regulated</th>\n",
       "      <th>reporting_frequency</th>\n",
       "      <th>secondary_transportation_mode</th>\n",
       "      <th>supplier</th>\n",
       "      <th>year</th>\n",
       "    </tr>\n",
       "  </thead>\n",
       "  <tbody>\n",
       "    <tr>\n",
       "      <th>0</th>\n",
       "      <td>5.4</td>\n",
       "      <td>23.100</td>\n",
       "      <td>NaN</td>\n",
       "      <td>0.49</td>\n",
       "      <td>NaN</td>\n",
       "      <td>IMP</td>\n",
       "      <td>NaN</td>\n",
       "      <td>MINA PRIBBENOW</td>\n",
       "      <td>CL</td>\n",
       "      <td>SU</td>\n",
       "      <td>408</td>\n",
       "      <td>C</td>\n",
       "      <td>BIT</td>\n",
       "      <td>213.5</td>\n",
       "      <td>Coal</td>\n",
       "      <td>NaN</td>\n",
       "      <td>1</td>\n",
       "      <td>NaN</td>\n",
       "      <td>NaN</td>\n",
       "      <td>F</td>\n",
       "      <td>195.0</td>\n",
       "      <td>Alabama Power Co</td>\n",
       "      <td>3</td>\n",
       "      <td>Barry</td>\n",
       "      <td>AL</td>\n",
       "      <td>RV</td>\n",
       "      <td>NaN</td>\n",
       "      <td>259412</td>\n",
       "      <td>REG</td>\n",
       "      <td>M</td>\n",
       "      <td>NaN</td>\n",
       "      <td>INTEROCEAN COAL</td>\n",
       "      <td>2008</td>\n",
       "    </tr>\n",
       "    <tr>\n",
       "      <th>1</th>\n",
       "      <td>5.7</td>\n",
       "      <td>22.800</td>\n",
       "      <td>NaN</td>\n",
       "      <td>0.48</td>\n",
       "      <td>NaN</td>\n",
       "      <td>IMP</td>\n",
       "      <td>NaN</td>\n",
       "      <td>MINA PRIBBENOW</td>\n",
       "      <td>CL</td>\n",
       "      <td>SU</td>\n",
       "      <td>408</td>\n",
       "      <td>C</td>\n",
       "      <td>BIT</td>\n",
       "      <td>211.5</td>\n",
       "      <td>Coal</td>\n",
       "      <td>NaN</td>\n",
       "      <td>1</td>\n",
       "      <td>NaN</td>\n",
       "      <td>NaN</td>\n",
       "      <td>F</td>\n",
       "      <td>195.0</td>\n",
       "      <td>Alabama Power Co</td>\n",
       "      <td>3</td>\n",
       "      <td>Barry</td>\n",
       "      <td>AL</td>\n",
       "      <td>RV</td>\n",
       "      <td>NaN</td>\n",
       "      <td>52241</td>\n",
       "      <td>REG</td>\n",
       "      <td>M</td>\n",
       "      <td>NaN</td>\n",
       "      <td>INTEROCEAN COAL</td>\n",
       "      <td>2008</td>\n",
       "    </tr>\n",
       "    <tr>\n",
       "      <th>2</th>\n",
       "      <td>0.0</td>\n",
       "      <td>1.039</td>\n",
       "      <td>NaN</td>\n",
       "      <td>0.00</td>\n",
       "      <td>NaN</td>\n",
       "      <td>NaN</td>\n",
       "      <td>NaN</td>\n",
       "      <td>NaN</td>\n",
       "      <td>NaN</td>\n",
       "      <td>NaN</td>\n",
       "      <td>NaN</td>\n",
       "      <td>C</td>\n",
       "      <td>NG</td>\n",
       "      <td>863.1</td>\n",
       "      <td>Natural Gas</td>\n",
       "      <td>NaN</td>\n",
       "      <td>1</td>\n",
       "      <td>NaN</td>\n",
       "      <td>NaN</td>\n",
       "      <td>F</td>\n",
       "      <td>195.0</td>\n",
       "      <td>Alabama Power Co</td>\n",
       "      <td>3</td>\n",
       "      <td>Barry</td>\n",
       "      <td>AL</td>\n",
       "      <td>PL</td>\n",
       "      <td>NaN</td>\n",
       "      <td>2783619</td>\n",
       "      <td>REG</td>\n",
       "      <td>M</td>\n",
       "      <td>NaN</td>\n",
       "      <td>BAY GAS PIPELINE</td>\n",
       "      <td>2008</td>\n",
       "    </tr>\n",
       "    <tr>\n",
       "      <th>3</th>\n",
       "      <td>14.7</td>\n",
       "      <td>24.610</td>\n",
       "      <td>NaN</td>\n",
       "      <td>1.69</td>\n",
       "      <td>NaN</td>\n",
       "      <td>007</td>\n",
       "      <td>NaN</td>\n",
       "      <td>ALABAMA COAL</td>\n",
       "      <td>AL</td>\n",
       "      <td>SU</td>\n",
       "      <td>1215</td>\n",
       "      <td>C</td>\n",
       "      <td>BIT</td>\n",
       "      <td>277.6</td>\n",
       "      <td>Coal</td>\n",
       "      <td>NaN</td>\n",
       "      <td>1</td>\n",
       "      <td>NaN</td>\n",
       "      <td>NaN</td>\n",
       "      <td>F</td>\n",
       "      <td>195.0</td>\n",
       "      <td>Alabama Power Co</td>\n",
       "      <td>7</td>\n",
       "      <td>Gadsden</td>\n",
       "      <td>AL</td>\n",
       "      <td>TR</td>\n",
       "      <td>NaN</td>\n",
       "      <td>25397</td>\n",
       "      <td>REG</td>\n",
       "      <td>A</td>\n",
       "      <td>NaN</td>\n",
       "      <td>ALABAMA COAL</td>\n",
       "      <td>2008</td>\n",
       "    </tr>\n",
       "    <tr>\n",
       "      <th>4</th>\n",
       "      <td>15.5</td>\n",
       "      <td>24.446</td>\n",
       "      <td>NaN</td>\n",
       "      <td>0.84</td>\n",
       "      <td>NaN</td>\n",
       "      <td>145</td>\n",
       "      <td>NaN</td>\n",
       "      <td>flat rock #2</td>\n",
       "      <td>AL</td>\n",
       "      <td>S</td>\n",
       "      <td>1108</td>\n",
       "      <td>S</td>\n",
       "      <td>BIT</td>\n",
       "      <td>338.1</td>\n",
       "      <td>Coal</td>\n",
       "      <td>NaN</td>\n",
       "      <td>1</td>\n",
       "      <td>NaN</td>\n",
       "      <td>NaN</td>\n",
       "      <td>F</td>\n",
       "      <td>195.0</td>\n",
       "      <td>Alabama Power Co</td>\n",
       "      <td>7</td>\n",
       "      <td>Gadsden</td>\n",
       "      <td>AL</td>\n",
       "      <td>TR</td>\n",
       "      <td>NaN</td>\n",
       "      <td>764</td>\n",
       "      <td>REG</td>\n",
       "      <td>A</td>\n",
       "      <td>NaN</td>\n",
       "      <td>D &amp; E MINING</td>\n",
       "      <td>2008</td>\n",
       "    </tr>\n",
       "  </tbody>\n",
       "</table>\n",
       "</div>"
      ],
      "text/plain": [
       "   average_ash_content  average_heat_content  average_mercury_content  \\\n",
       "0                  5.4                23.100                      NaN   \n",
       "1                  5.7                22.800                      NaN   \n",
       "2                  0.0                 1.039                      NaN   \n",
       "3                 14.7                24.610                      NaN   \n",
       "4                 15.5                24.446                      NaN   \n",
       "\n",
       "   average_sulfur_content  chlorine_content coalmine_county  coalmine_msha_id  \\\n",
       "0                    0.49               NaN             IMP               NaN   \n",
       "1                    0.48               NaN             IMP               NaN   \n",
       "2                    0.00               NaN             NaN               NaN   \n",
       "3                    1.69               NaN             007               NaN   \n",
       "4                    0.84               NaN             145               NaN   \n",
       "\n",
       "    coalmine_name coalmine_state coalmine_type contract_expiration_date  \\\n",
       "0  MINA PRIBBENOW             CL            SU                      408   \n",
       "1  MINA PRIBBENOW             CL            SU                      408   \n",
       "2             NaN            NaN           NaN                      NaN   \n",
       "3    ALABAMA COAL             AL            SU                     1215   \n",
       "4    flat rock #2             AL             S                     1108   \n",
       "\n",
       "  contract_type energy_source  fuel_cost   fuel_group  moisture_content  \\\n",
       "0             C           BIT      213.5         Coal               NaN   \n",
       "1             C           BIT      211.5         Coal               NaN   \n",
       "2             C            NG      863.1  Natural Gas               NaN   \n",
       "3             C           BIT      277.6         Coal               NaN   \n",
       "4             S           BIT      338.1         Coal               NaN   \n",
       "\n",
       "   month natural_gas_delivery_contract_type natural_gas_supply_contract_type  \\\n",
       "0      1                                NaN                              NaN   \n",
       "1      1                                NaN                              NaN   \n",
       "2      1                                NaN                              NaN   \n",
       "3      1                                NaN                              NaN   \n",
       "4      1                                NaN                              NaN   \n",
       "\n",
       "  natural_gas_transportation_service operator_id     operator_name  plant_id  \\\n",
       "0                                  F       195.0  Alabama Power Co         3   \n",
       "1                                  F       195.0  Alabama Power Co         3   \n",
       "2                                  F       195.0  Alabama Power Co         3   \n",
       "3                                  F       195.0  Alabama Power Co         7   \n",
       "4                                  F       195.0  Alabama Power Co         7   \n",
       "\n",
       "  plant_name plant_state primary_transportation_mode purchase_type  quantity  \\\n",
       "0      Barry          AL                          RV           NaN    259412   \n",
       "1      Barry          AL                          RV           NaN     52241   \n",
       "2      Barry          AL                          PL           NaN   2783619   \n",
       "3    Gadsden          AL                          TR           NaN     25397   \n",
       "4    Gadsden          AL                          TR           NaN       764   \n",
       "\n",
       "  regulated reporting_frequency secondary_transportation_mode  \\\n",
       "0       REG                   M                           NaN   \n",
       "1       REG                   M                           NaN   \n",
       "2       REG                   M                           NaN   \n",
       "3       REG                   A                           NaN   \n",
       "4       REG                   A                           NaN   \n",
       "\n",
       "           supplier  year  \n",
       "0   INTEROCEAN COAL  2008  \n",
       "1   INTEROCEAN COAL  2008  \n",
       "2  BAY GAS PIPELINE  2008  \n",
       "3      ALABAMA COAL  2008  \n",
       "4      D & E MINING  2008  "
      ]
     },
     "execution_count": 3,
     "metadata": {},
     "output_type": "execute_result"
    }
   ],
   "source": [
    "df.head()"
   ]
  },
  {
   "cell_type": "code",
   "execution_count": 4,
   "metadata": {
    "ExecuteTime": {
     "end_time": "2019-07-17T22:14:26.973275Z",
     "start_time": "2019-07-17T22:14:26.684460Z"
    }
   },
   "outputs": [
    {
     "data": {
      "text/html": [
       "<div>\n",
       "<style scoped>\n",
       "    .dataframe tbody tr th:only-of-type {\n",
       "        vertical-align: middle;\n",
       "    }\n",
       "\n",
       "    .dataframe tbody tr th {\n",
       "        vertical-align: top;\n",
       "    }\n",
       "\n",
       "    .dataframe thead th {\n",
       "        text-align: right;\n",
       "    }\n",
       "</style>\n",
       "<table border=\"1\" class=\"dataframe\">\n",
       "  <thead>\n",
       "    <tr style=\"text-align: right;\">\n",
       "      <th></th>\n",
       "      <th>average_ash_content</th>\n",
       "      <th>average_heat_content</th>\n",
       "      <th>average_mercury_content</th>\n",
       "      <th>average_sulfur_content</th>\n",
       "      <th>chlorine_content</th>\n",
       "      <th>coalmine_msha_id</th>\n",
       "      <th>fuel_cost</th>\n",
       "      <th>moisture_content</th>\n",
       "      <th>month</th>\n",
       "      <th>plant_id</th>\n",
       "      <th>quantity</th>\n",
       "      <th>year</th>\n",
       "    </tr>\n",
       "  </thead>\n",
       "  <tbody>\n",
       "    <tr>\n",
       "      <th>count</th>\n",
       "      <td>378045.000000</td>\n",
       "      <td>378045.000000</td>\n",
       "      <td>136483.000000</td>\n",
       "      <td>378045.000000</td>\n",
       "      <td>9084.000000</td>\n",
       "      <td>1.373830e+05</td>\n",
       "      <td>3.128770e+05</td>\n",
       "      <td>18038.000000</td>\n",
       "      <td>378045.000000</td>\n",
       "      <td>378045.000000</td>\n",
       "      <td>3.780450e+05</td>\n",
       "      <td>378045.000000</td>\n",
       "    </tr>\n",
       "    <tr>\n",
       "      <th>mean</th>\n",
       "      <td>3.822055</td>\n",
       "      <td>10.095588</td>\n",
       "      <td>0.636175</td>\n",
       "      <td>0.563239</td>\n",
       "      <td>9538.313408</td>\n",
       "      <td>3.429264e+06</td>\n",
       "      <td>1.020476e+03</td>\n",
       "      <td>1283.056381</td>\n",
       "      <td>6.430123</td>\n",
       "      <td>13868.045860</td>\n",
       "      <td>1.782682e+05</td>\n",
       "      <td>2011.727136</td>\n",
       "    </tr>\n",
       "    <tr>\n",
       "      <th>std</th>\n",
       "      <td>5.714074</td>\n",
       "      <td>10.230534</td>\n",
       "      <td>2.296342</td>\n",
       "      <td>1.006608</td>\n",
       "      <td>36227.702288</td>\n",
       "      <td>1.668549e+06</td>\n",
       "      <td>5.954490e+04</td>\n",
       "      <td>1078.905668</td>\n",
       "      <td>3.442772</td>\n",
       "      <td>20218.944966</td>\n",
       "      <td>6.135453e+05</td>\n",
       "      <td>3.218277</td>\n",
       "    </tr>\n",
       "    <tr>\n",
       "      <th>min</th>\n",
       "      <td>0.000000</td>\n",
       "      <td>0.000000</td>\n",
       "      <td>0.000000</td>\n",
       "      <td>0.000000</td>\n",
       "      <td>0.000000</td>\n",
       "      <td>1.001140e+05</td>\n",
       "      <td>-7.193000e+03</td>\n",
       "      <td>0.000000</td>\n",
       "      <td>1.000000</td>\n",
       "      <td>3.000000</td>\n",
       "      <td>1.000000e+00</td>\n",
       "      <td>2008.000000</td>\n",
       "    </tr>\n",
       "    <tr>\n",
       "      <th>25%</th>\n",
       "      <td>0.000000</td>\n",
       "      <td>1.022000</td>\n",
       "      <td>0.000000</td>\n",
       "      <td>0.000000</td>\n",
       "      <td>0.000000</td>\n",
       "      <td>1.518544e+06</td>\n",
       "      <td>2.331000e+02</td>\n",
       "      <td>288.000000</td>\n",
       "      <td>3.000000</td>\n",
       "      <td>2070.000000</td>\n",
       "      <td>4.127000e+03</td>\n",
       "      <td>2009.000000</td>\n",
       "    </tr>\n",
       "    <tr>\n",
       "      <th>50%</th>\n",
       "      <td>0.000000</td>\n",
       "      <td>5.708000</td>\n",
       "      <td>0.000000</td>\n",
       "      <td>0.000000</td>\n",
       "      <td>0.000000</td>\n",
       "      <td>4.601433e+06</td>\n",
       "      <td>3.451000e+02</td>\n",
       "      <td>918.000000</td>\n",
       "      <td>6.000000</td>\n",
       "      <td>4940.000000</td>\n",
       "      <td>2.009600e+04</td>\n",
       "      <td>2011.000000</td>\n",
       "    </tr>\n",
       "    <tr>\n",
       "      <th>75%</th>\n",
       "      <td>7.400000</td>\n",
       "      <td>21.450000</td>\n",
       "      <td>0.000000</td>\n",
       "      <td>0.680000</td>\n",
       "      <td>0.000000</td>\n",
       "      <td>4.800977e+06</td>\n",
       "      <td>5.004000e+02</td>\n",
       "      <td>2621.000000</td>\n",
       "      <td>9.000000</td>\n",
       "      <td>8059.000000</td>\n",
       "      <td>8.122800e+04</td>\n",
       "      <td>2014.000000</td>\n",
       "    </tr>\n",
       "    <tr>\n",
       "      <th>max</th>\n",
       "      <td>62.700000</td>\n",
       "      <td>1049.000000</td>\n",
       "      <td>10.000000</td>\n",
       "      <td>8.830000</td>\n",
       "      <td>374700.000000</td>\n",
       "      <td>4.801135e+07</td>\n",
       "      <td>2.353811e+07</td>\n",
       "      <td>3824.000000</td>\n",
       "      <td>12.000000</td>\n",
       "      <td>61643.000000</td>\n",
       "      <td>4.815976e+07</td>\n",
       "      <td>2019.000000</td>\n",
       "    </tr>\n",
       "  </tbody>\n",
       "</table>\n",
       "</div>"
      ],
      "text/plain": [
       "       average_ash_content  average_heat_content  average_mercury_content  \\\n",
       "count        378045.000000         378045.000000            136483.000000   \n",
       "mean              3.822055             10.095588                 0.636175   \n",
       "std               5.714074             10.230534                 2.296342   \n",
       "min               0.000000              0.000000                 0.000000   \n",
       "25%               0.000000              1.022000                 0.000000   \n",
       "50%               0.000000              5.708000                 0.000000   \n",
       "75%               7.400000             21.450000                 0.000000   \n",
       "max              62.700000           1049.000000                10.000000   \n",
       "\n",
       "       average_sulfur_content  chlorine_content  coalmine_msha_id  \\\n",
       "count           378045.000000       9084.000000      1.373830e+05   \n",
       "mean                 0.563239       9538.313408      3.429264e+06   \n",
       "std                  1.006608      36227.702288      1.668549e+06   \n",
       "min                  0.000000          0.000000      1.001140e+05   \n",
       "25%                  0.000000          0.000000      1.518544e+06   \n",
       "50%                  0.000000          0.000000      4.601433e+06   \n",
       "75%                  0.680000          0.000000      4.800977e+06   \n",
       "max                  8.830000     374700.000000      4.801135e+07   \n",
       "\n",
       "          fuel_cost  moisture_content          month       plant_id  \\\n",
       "count  3.128770e+05      18038.000000  378045.000000  378045.000000   \n",
       "mean   1.020476e+03       1283.056381       6.430123   13868.045860   \n",
       "std    5.954490e+04       1078.905668       3.442772   20218.944966   \n",
       "min   -7.193000e+03          0.000000       1.000000       3.000000   \n",
       "25%    2.331000e+02        288.000000       3.000000    2070.000000   \n",
       "50%    3.451000e+02        918.000000       6.000000    4940.000000   \n",
       "75%    5.004000e+02       2621.000000       9.000000    8059.000000   \n",
       "max    2.353811e+07       3824.000000      12.000000   61643.000000   \n",
       "\n",
       "           quantity           year  \n",
       "count  3.780450e+05  378045.000000  \n",
       "mean   1.782682e+05    2011.727136  \n",
       "std    6.135453e+05       3.218277  \n",
       "min    1.000000e+00    2008.000000  \n",
       "25%    4.127000e+03    2009.000000  \n",
       "50%    2.009600e+04    2011.000000  \n",
       "75%    8.122800e+04    2014.000000  \n",
       "max    4.815976e+07    2019.000000  "
      ]
     },
     "execution_count": 4,
     "metadata": {},
     "output_type": "execute_result"
    }
   ],
   "source": [
    "df.describe()"
   ]
  },
  {
   "cell_type": "code",
   "execution_count": 4,
   "metadata": {
    "ExecuteTime": {
     "end_time": "2019-07-17T17:11:23.405815Z",
     "start_time": "2019-07-17T17:11:22.941439Z"
    }
   },
   "outputs": [
    {
     "name": "stderr",
     "output_type": "stream",
     "text": [
      "/Users/lhinkesjones/anaconda3/lib/python3.7/site-packages/numpy/lib/histograms.py:824: RuntimeWarning: invalid value encountered in greater_equal\n",
      "  keep = (tmp_a >= first_edge)\n",
      "/Users/lhinkesjones/anaconda3/lib/python3.7/site-packages/numpy/lib/histograms.py:825: RuntimeWarning: invalid value encountered in less_equal\n",
      "  keep &= (tmp_a <= last_edge)\n"
     ]
    },
    {
     "data": {
      "image/png": "[encoded data removed]",
      "text/plain": [
       "<Figure size 864x864 with 1 Axes>"
      ]
     },
     "metadata": {
      "needs_background": "light"
     },
     "output_type": "display_data"
    }
   ],
   "source": [
    "fig = plt.figure(figsize=(12,12))\n",
    "(n, bins, patches) = plt.hist(df.fuel_cost)"
   ]
  },
  {
   "cell_type": "code",
   "execution_count": 5,
   "metadata": {
    "ExecuteTime": {
     "end_time": "2019-07-17T17:11:27.409304Z",
     "start_time": "2019-07-17T17:11:27.388819Z"
    }
   },
   "outputs": [
    {
     "data": {
      "text/plain": [
       "2551.6"
      ]
     },
     "execution_count": 5,
     "metadata": {},
     "output_type": "execute_result"
    }
   ],
   "source": [
    "df.fuel_cost.quantile(.99)"
   ]
  },
  {
   "cell_type": "markdown",
   "metadata": {
    "heading_collapsed": true
   },
   "source": [
    "## Since fuel_cost is so skewed, separate anomolous values for now"
   ]
  },
  {
   "cell_type": "code",
   "execution_count": 6,
   "metadata": {
    "ExecuteTime": {
     "end_time": "2019-07-17T17:11:31.458240Z",
     "start_time": "2019-07-17T17:11:31.316511Z"
    },
    "hidden": true
   },
   "outputs": [],
   "source": [
    "df_2 = df[(df.fuel_cost <= df.fuel_cost.quantile(.99)) & (df.fuel_cost >0)]\n",
    "df_large = df[df.fuel_cost > df.fuel_cost.quantile(.99)]\n",
    "df_neg = df[df.fuel_cost <0]"
   ]
  },
  {
   "cell_type": "code",
   "execution_count": 7,
   "metadata": {
    "ExecuteTime": {
     "end_time": "2019-07-17T17:11:32.306318Z",
     "start_time": "2019-07-17T17:11:31.969539Z"
    },
    "hidden": true
   },
   "outputs": [
    {
     "data": {
      "text/plain": [
       "<matplotlib.axes._subplots.AxesSubplot at 0x1a17dce470>"
      ]
     },
     "execution_count": 7,
     "metadata": {},
     "output_type": "execute_result"
    },
    {
     "data": {
      "image/png": "[encoded data removed]",
      "text/plain": [
       "<Figure size 432x288 with 1 Axes>"
      ]
     },
     "metadata": {
      "needs_background": "light"
     },
     "output_type": "display_data"
    }
   ],
   "source": [
    "df_2.fuel_cost.hist()"
   ]
  },
  {
   "cell_type": "code",
   "execution_count": 10,
   "metadata": {
    "ExecuteTime": {
     "end_time": "2019-07-17T15:53:06.492977Z",
     "start_time": "2019-07-17T15:53:06.481171Z"
    },
    "hidden": true
   },
   "outputs": [
    {
     "data": {
      "text/plain": [
       "Natural Gas    6\n",
       "Name: fuel_group, dtype: int64"
      ]
     },
     "execution_count": 10,
     "metadata": {},
     "output_type": "execute_result"
    }
   ],
   "source": [
    "df_neg.fuel_group.value_counts()"
   ]
  },
  {
   "cell_type": "code",
   "execution_count": 11,
   "metadata": {
    "ExecuteTime": {
     "end_time": "2019-07-17T15:53:13.013483Z",
     "start_time": "2019-07-17T15:53:12.947957Z"
    },
    "hidden": true
   },
   "outputs": [
    {
     "data": {
      "text/html": [
       "<div>\n",
       "<style scoped>\n",
       "    .dataframe tbody tr th:only-of-type {\n",
       "        vertical-align: middle;\n",
       "    }\n",
       "\n",
       "    .dataframe tbody tr th {\n",
       "        vertical-align: top;\n",
       "    }\n",
       "\n",
       "    .dataframe thead th {\n",
       "        text-align: right;\n",
       "    }\n",
       "</style>\n",
       "<table border=\"1\" class=\"dataframe\">\n",
       "  <thead>\n",
       "    <tr style=\"text-align: right;\">\n",
       "      <th></th>\n",
       "      <th>average_ash_content</th>\n",
       "      <th>average_heat_content</th>\n",
       "      <th>average_mercury_content</th>\n",
       "      <th>average_sulfur_content</th>\n",
       "      <th>chlorine_content</th>\n",
       "      <th>coalmine_county</th>\n",
       "      <th>coalmine_msha_id</th>\n",
       "      <th>coalmine_name</th>\n",
       "      <th>coalmine_state</th>\n",
       "      <th>coalmine_type</th>\n",
       "      <th>contract_expiration_date</th>\n",
       "      <th>contract_type</th>\n",
       "      <th>energy_source</th>\n",
       "      <th>fuel_cost</th>\n",
       "      <th>fuel_group</th>\n",
       "      <th>moisture_content</th>\n",
       "      <th>month</th>\n",
       "      <th>natural_gas_delivery_contract_type</th>\n",
       "      <th>natural_gas_supply_contract_type</th>\n",
       "      <th>natural_gas_transportation_service</th>\n",
       "      <th>operator_id</th>\n",
       "      <th>operator_name</th>\n",
       "      <th>plant_id</th>\n",
       "      <th>plant_name</th>\n",
       "      <th>plant_state</th>\n",
       "      <th>primary_transportation_mode</th>\n",
       "      <th>purchase_type</th>\n",
       "      <th>quantity</th>\n",
       "      <th>regulated</th>\n",
       "      <th>reporting_frequency</th>\n",
       "      <th>secondary_transportation_mode</th>\n",
       "      <th>supplier</th>\n",
       "      <th>year</th>\n",
       "    </tr>\n",
       "  </thead>\n",
       "  <tbody>\n",
       "    <tr>\n",
       "      <th>0</th>\n",
       "      <td>5.4</td>\n",
       "      <td>23.100</td>\n",
       "      <td>NaN</td>\n",
       "      <td>0.49</td>\n",
       "      <td>NaN</td>\n",
       "      <td>IMP</td>\n",
       "      <td>NaN</td>\n",
       "      <td>MINA PRIBBENOW</td>\n",
       "      <td>CL</td>\n",
       "      <td>SU</td>\n",
       "      <td>408</td>\n",
       "      <td>C</td>\n",
       "      <td>BIT</td>\n",
       "      <td>213.5</td>\n",
       "      <td>Coal</td>\n",
       "      <td>NaN</td>\n",
       "      <td>1</td>\n",
       "      <td>NaN</td>\n",
       "      <td>NaN</td>\n",
       "      <td>F</td>\n",
       "      <td>195.0</td>\n",
       "      <td>Alabama Power Co</td>\n",
       "      <td>3</td>\n",
       "      <td>Barry</td>\n",
       "      <td>AL</td>\n",
       "      <td>RV</td>\n",
       "      <td>NaN</td>\n",
       "      <td>259412</td>\n",
       "      <td>REG</td>\n",
       "      <td>M</td>\n",
       "      <td>NaN</td>\n",
       "      <td>INTEROCEAN COAL</td>\n",
       "      <td>2008</td>\n",
       "    </tr>\n",
       "    <tr>\n",
       "      <th>1</th>\n",
       "      <td>5.7</td>\n",
       "      <td>22.800</td>\n",
       "      <td>NaN</td>\n",
       "      <td>0.48</td>\n",
       "      <td>NaN</td>\n",
       "      <td>IMP</td>\n",
       "      <td>NaN</td>\n",
       "      <td>MINA PRIBBENOW</td>\n",
       "      <td>CL</td>\n",
       "      <td>SU</td>\n",
       "      <td>408</td>\n",
       "      <td>C</td>\n",
       "      <td>BIT</td>\n",
       "      <td>211.5</td>\n",
       "      <td>Coal</td>\n",
       "      <td>NaN</td>\n",
       "      <td>1</td>\n",
       "      <td>NaN</td>\n",
       "      <td>NaN</td>\n",
       "      <td>F</td>\n",
       "      <td>195.0</td>\n",
       "      <td>Alabama Power Co</td>\n",
       "      <td>3</td>\n",
       "      <td>Barry</td>\n",
       "      <td>AL</td>\n",
       "      <td>RV</td>\n",
       "      <td>NaN</td>\n",
       "      <td>52241</td>\n",
       "      <td>REG</td>\n",
       "      <td>M</td>\n",
       "      <td>NaN</td>\n",
       "      <td>INTEROCEAN COAL</td>\n",
       "      <td>2008</td>\n",
       "    </tr>\n",
       "    <tr>\n",
       "      <th>2</th>\n",
       "      <td>0.0</td>\n",
       "      <td>1.039</td>\n",
       "      <td>NaN</td>\n",
       "      <td>0.00</td>\n",
       "      <td>NaN</td>\n",
       "      <td>NaN</td>\n",
       "      <td>NaN</td>\n",
       "      <td>NaN</td>\n",
       "      <td>NaN</td>\n",
       "      <td>NaN</td>\n",
       "      <td>NaN</td>\n",
       "      <td>C</td>\n",
       "      <td>NG</td>\n",
       "      <td>863.1</td>\n",
       "      <td>Natural Gas</td>\n",
       "      <td>NaN</td>\n",
       "      <td>1</td>\n",
       "      <td>NaN</td>\n",
       "      <td>NaN</td>\n",
       "      <td>F</td>\n",
       "      <td>195.0</td>\n",
       "      <td>Alabama Power Co</td>\n",
       "      <td>3</td>\n",
       "      <td>Barry</td>\n",
       "      <td>AL</td>\n",
       "      <td>PL</td>\n",
       "      <td>NaN</td>\n",
       "      <td>2783619</td>\n",
       "      <td>REG</td>\n",
       "      <td>M</td>\n",
       "      <td>NaN</td>\n",
       "      <td>BAY GAS PIPELINE</td>\n",
       "      <td>2008</td>\n",
       "    </tr>\n",
       "    <tr>\n",
       "      <th>3</th>\n",
       "      <td>14.7</td>\n",
       "      <td>24.610</td>\n",
       "      <td>NaN</td>\n",
       "      <td>1.69</td>\n",
       "      <td>NaN</td>\n",
       "      <td>007</td>\n",
       "      <td>NaN</td>\n",
       "      <td>ALABAMA COAL</td>\n",
       "      <td>AL</td>\n",
       "      <td>SU</td>\n",
       "      <td>1215</td>\n",
       "      <td>C</td>\n",
       "      <td>BIT</td>\n",
       "      <td>277.6</td>\n",
       "      <td>Coal</td>\n",
       "      <td>NaN</td>\n",
       "      <td>1</td>\n",
       "      <td>NaN</td>\n",
       "      <td>NaN</td>\n",
       "      <td>F</td>\n",
       "      <td>195.0</td>\n",
       "      <td>Alabama Power Co</td>\n",
       "      <td>7</td>\n",
       "      <td>Gadsden</td>\n",
       "      <td>AL</td>\n",
       "      <td>TR</td>\n",
       "      <td>NaN</td>\n",
       "      <td>25397</td>\n",
       "      <td>REG</td>\n",
       "      <td>A</td>\n",
       "      <td>NaN</td>\n",
       "      <td>ALABAMA COAL</td>\n",
       "      <td>2008</td>\n",
       "    </tr>\n",
       "    <tr>\n",
       "      <th>4</th>\n",
       "      <td>15.5</td>\n",
       "      <td>24.446</td>\n",
       "      <td>NaN</td>\n",
       "      <td>0.84</td>\n",
       "      <td>NaN</td>\n",
       "      <td>145</td>\n",
       "      <td>NaN</td>\n",
       "      <td>flat rock #2</td>\n",
       "      <td>AL</td>\n",
       "      <td>S</td>\n",
       "      <td>1108</td>\n",
       "      <td>S</td>\n",
       "      <td>BIT</td>\n",
       "      <td>338.1</td>\n",
       "      <td>Coal</td>\n",
       "      <td>NaN</td>\n",
       "      <td>1</td>\n",
       "      <td>NaN</td>\n",
       "      <td>NaN</td>\n",
       "      <td>F</td>\n",
       "      <td>195.0</td>\n",
       "      <td>Alabama Power Co</td>\n",
       "      <td>7</td>\n",
       "      <td>Gadsden</td>\n",
       "      <td>AL</td>\n",
       "      <td>TR</td>\n",
       "      <td>NaN</td>\n",
       "      <td>764</td>\n",
       "      <td>REG</td>\n",
       "      <td>A</td>\n",
       "      <td>NaN</td>\n",
       "      <td>D &amp; E MINING</td>\n",
       "      <td>2008</td>\n",
       "    </tr>\n",
       "  </tbody>\n",
       "</table>\n",
       "</div>"
      ],
      "text/plain": [
       "   average_ash_content  average_heat_content  average_mercury_content  \\\n",
       "0                  5.4                23.100                      NaN   \n",
       "1                  5.7                22.800                      NaN   \n",
       "2                  0.0                 1.039                      NaN   \n",
       "3                 14.7                24.610                      NaN   \n",
       "4                 15.5                24.446                      NaN   \n",
       "\n",
       "   average_sulfur_content  chlorine_content coalmine_county  coalmine_msha_id  \\\n",
       "0                    0.49               NaN             IMP               NaN   \n",
       "1                    0.48               NaN             IMP               NaN   \n",
       "2                    0.00               NaN             NaN               NaN   \n",
       "3                    1.69               NaN             007               NaN   \n",
       "4                    0.84               NaN             145               NaN   \n",
       "\n",
       "    coalmine_name coalmine_state coalmine_type contract_expiration_date  \\\n",
       "0  MINA PRIBBENOW             CL            SU                      408   \n",
       "1  MINA PRIBBENOW             CL            SU                      408   \n",
       "2             NaN            NaN           NaN                      NaN   \n",
       "3    ALABAMA COAL             AL            SU                     1215   \n",
       "4    flat rock #2             AL             S                     1108   \n",
       "\n",
       "  contract_type energy_source  fuel_cost   fuel_group  moisture_content  \\\n",
       "0             C           BIT      213.5         Coal               NaN   \n",
       "1             C           BIT      211.5         Coal               NaN   \n",
       "2             C            NG      863.1  Natural Gas               NaN   \n",
       "3             C           BIT      277.6         Coal               NaN   \n",
       "4             S           BIT      338.1         Coal               NaN   \n",
       "\n",
       "   month natural_gas_delivery_contract_type natural_gas_supply_contract_type  \\\n",
       "0      1                                NaN                              NaN   \n",
       "1      1                                NaN                              NaN   \n",
       "2      1                                NaN                              NaN   \n",
       "3      1                                NaN                              NaN   \n",
       "4      1                                NaN                              NaN   \n",
       "\n",
       "  natural_gas_transportation_service operator_id     operator_name  plant_id  \\\n",
       "0                                  F       195.0  Alabama Power Co         3   \n",
       "1                                  F       195.0  Alabama Power Co         3   \n",
       "2                                  F       195.0  Alabama Power Co         3   \n",
       "3                                  F       195.0  Alabama Power Co         7   \n",
       "4                                  F       195.0  Alabama Power Co         7   \n",
       "\n",
       "  plant_name plant_state primary_transportation_mode purchase_type  quantity  \\\n",
       "0      Barry          AL                          RV           NaN    259412   \n",
       "1      Barry          AL                          RV           NaN     52241   \n",
       "2      Barry          AL                          PL           NaN   2783619   \n",
       "3    Gadsden          AL                          TR           NaN     25397   \n",
       "4    Gadsden          AL                          TR           NaN       764   \n",
       "\n",
       "  regulated reporting_frequency secondary_transportation_mode  \\\n",
       "0       REG                   M                           NaN   \n",
       "1       REG                   M                           NaN   \n",
       "2       REG                   M                           NaN   \n",
       "3       REG                   A                           NaN   \n",
       "4       REG                   A                           NaN   \n",
       "\n",
       "           supplier  year  \n",
       "0   INTEROCEAN COAL  2008  \n",
       "1   INTEROCEAN COAL  2008  \n",
       "2  BAY GAS PIPELINE  2008  \n",
       "3      ALABAMA COAL  2008  \n",
       "4      D & E MINING  2008  "
      ]
     },
     "execution_count": 11,
     "metadata": {},
     "output_type": "execute_result"
    }
   ],
   "source": [
    "df_2.head()"
   ]
  },
  {
   "cell_type": "code",
   "execution_count": 8,
   "metadata": {
    "ExecuteTime": {
     "end_time": "2019-07-17T17:11:42.468996Z",
     "start_time": "2019-07-17T17:11:42.442616Z"
    },
    "hidden": true
   },
   "outputs": [
    {
     "data": {
      "text/plain": [
       "S     1236\n",
       "C      612\n",
       "NC       8\n",
       "Name: contract_type, dtype: int64"
      ]
     },
     "execution_count": 8,
     "metadata": {},
     "output_type": "execute_result"
    }
   ],
   "source": [
    "df_large.contract_type.value_counts()"
   ]
  },
  {
   "cell_type": "markdown",
   "metadata": {},
   "source": [
    "## Remove coal/gas related fields for now"
   ]
  },
  {
   "cell_type": "code",
   "execution_count": 9,
   "metadata": {
    "ExecuteTime": {
     "end_time": "2019-07-17T17:11:45.604597Z",
     "start_time": "2019-07-17T17:11:45.598794Z"
    }
   },
   "outputs": [],
   "source": [
    "fields = [\"contract_type\", \"energy_source\", \"fuel_group\", \"plant_state\", \"plant_id\", \"operator_id\", \"quantity\", \"regulated\", \"reporting_frequency\", \"supplier\", \"year\", \"month\"]\n"
   ]
  },
  {
   "cell_type": "code",
   "execution_count": 10,
   "metadata": {
    "ExecuteTime": {
     "end_time": "2019-07-17T17:11:47.738977Z",
     "start_time": "2019-07-17T17:11:47.675406Z"
    }
   },
   "outputs": [
    {
     "data": {
      "text/html": [
       "<div>\n",
       "<style scoped>\n",
       "    .dataframe tbody tr th:only-of-type {\n",
       "        vertical-align: middle;\n",
       "    }\n",
       "\n",
       "    .dataframe tbody tr th {\n",
       "        vertical-align: top;\n",
       "    }\n",
       "\n",
       "    .dataframe thead th {\n",
       "        text-align: right;\n",
       "    }\n",
       "</style>\n",
       "<table border=\"1\" class=\"dataframe\">\n",
       "  <thead>\n",
       "    <tr style=\"text-align: right;\">\n",
       "      <th></th>\n",
       "      <th>contract_type</th>\n",
       "      <th>energy_source</th>\n",
       "      <th>fuel_group</th>\n",
       "      <th>plant_state</th>\n",
       "      <th>plant_id</th>\n",
       "      <th>operator_id</th>\n",
       "      <th>quantity</th>\n",
       "      <th>regulated</th>\n",
       "      <th>reporting_frequency</th>\n",
       "      <th>supplier</th>\n",
       "      <th>year</th>\n",
       "      <th>month</th>\n",
       "    </tr>\n",
       "  </thead>\n",
       "  <tbody>\n",
       "    <tr>\n",
       "      <th>0</th>\n",
       "      <td>C</td>\n",
       "      <td>BIT</td>\n",
       "      <td>Coal</td>\n",
       "      <td>AL</td>\n",
       "      <td>3</td>\n",
       "      <td>195.0</td>\n",
       "      <td>259412</td>\n",
       "      <td>REG</td>\n",
       "      <td>M</td>\n",
       "      <td>INTEROCEAN COAL</td>\n",
       "      <td>2008</td>\n",
       "      <td>1</td>\n",
       "    </tr>\n",
       "    <tr>\n",
       "      <th>1</th>\n",
       "      <td>C</td>\n",
       "      <td>BIT</td>\n",
       "      <td>Coal</td>\n",
       "      <td>AL</td>\n",
       "      <td>3</td>\n",
       "      <td>195.0</td>\n",
       "      <td>52241</td>\n",
       "      <td>REG</td>\n",
       "      <td>M</td>\n",
       "      <td>INTEROCEAN COAL</td>\n",
       "      <td>2008</td>\n",
       "      <td>1</td>\n",
       "    </tr>\n",
       "    <tr>\n",
       "      <th>2</th>\n",
       "      <td>C</td>\n",
       "      <td>NG</td>\n",
       "      <td>Natural Gas</td>\n",
       "      <td>AL</td>\n",
       "      <td>3</td>\n",
       "      <td>195.0</td>\n",
       "      <td>2783619</td>\n",
       "      <td>REG</td>\n",
       "      <td>M</td>\n",
       "      <td>BAY GAS PIPELINE</td>\n",
       "      <td>2008</td>\n",
       "      <td>1</td>\n",
       "    </tr>\n",
       "    <tr>\n",
       "      <th>3</th>\n",
       "      <td>C</td>\n",
       "      <td>BIT</td>\n",
       "      <td>Coal</td>\n",
       "      <td>AL</td>\n",
       "      <td>7</td>\n",
       "      <td>195.0</td>\n",
       "      <td>25397</td>\n",
       "      <td>REG</td>\n",
       "      <td>A</td>\n",
       "      <td>ALABAMA COAL</td>\n",
       "      <td>2008</td>\n",
       "      <td>1</td>\n",
       "    </tr>\n",
       "    <tr>\n",
       "      <th>4</th>\n",
       "      <td>S</td>\n",
       "      <td>BIT</td>\n",
       "      <td>Coal</td>\n",
       "      <td>AL</td>\n",
       "      <td>7</td>\n",
       "      <td>195.0</td>\n",
       "      <td>764</td>\n",
       "      <td>REG</td>\n",
       "      <td>A</td>\n",
       "      <td>D &amp; E MINING</td>\n",
       "      <td>2008</td>\n",
       "      <td>1</td>\n",
       "    </tr>\n",
       "  </tbody>\n",
       "</table>\n",
       "</div>"
      ],
      "text/plain": [
       "  contract_type energy_source   fuel_group plant_state  plant_id operator_id  \\\n",
       "0             C           BIT         Coal          AL         3       195.0   \n",
       "1             C           BIT         Coal          AL         3       195.0   \n",
       "2             C            NG  Natural Gas          AL         3       195.0   \n",
       "3             C           BIT         Coal          AL         7       195.0   \n",
       "4             S           BIT         Coal          AL         7       195.0   \n",
       "\n",
       "   quantity regulated reporting_frequency          supplier  year  month  \n",
       "0    259412       REG                   M   INTEROCEAN COAL  2008      1  \n",
       "1     52241       REG                   M   INTEROCEAN COAL  2008      1  \n",
       "2   2783619       REG                   M  BAY GAS PIPELINE  2008      1  \n",
       "3     25397       REG                   A      ALABAMA COAL  2008      1  \n",
       "4       764       REG                   A      D & E MINING  2008      1  "
      ]
     },
     "execution_count": 10,
     "metadata": {},
     "output_type": "execute_result"
    }
   ],
   "source": [
    "df[fields].head()"
   ]
  },
  {
   "cell_type": "code",
   "execution_count": 6,
   "metadata": {
    "ExecuteTime": {
     "end_time": "2019-07-17T22:16:33.971530Z",
     "start_time": "2019-07-17T22:16:18.140262Z"
    }
   },
   "outputs": [],
   "source": [
    "df[\"year_month\"] = df.apply(lambda x: str(x[\"year\"]) + \"-\" + str(x[\"month\"]), axis=1)"
   ]
  },
  {
   "cell_type": "code",
   "execution_count": 17,
   "metadata": {
    "ExecuteTime": {
     "end_time": "2019-07-17T22:20:11.660225Z",
     "start_time": "2019-07-17T22:20:11.495787Z"
    }
   },
   "outputs": [],
   "source": [
    "df_temp = df[(df[\"fuel_cost\"] <100000) & (df[\"fuel_group\"] == \"Coal\") & (df[\"contract_type\"] == \"C\")].copy()"
   ]
  },
  {
   "cell_type": "code",
   "execution_count": 18,
   "metadata": {
    "ExecuteTime": {
     "end_time": "2019-07-17T22:20:14.770901Z",
     "start_time": "2019-07-17T22:20:12.837976Z"
    }
   },
   "outputs": [
    {
     "data": {
      "text/plain": [
       "<matplotlib.collections.PathCollection at 0x1a30e34d30>"
      ]
     },
     "execution_count": 18,
     "metadata": {},
     "output_type": "execute_result"
    },
    {
     "data": {
      "image/png": "[encoded data removed]",
      "text/plain": [
       "<Figure size 432x288 with 1 Axes>"
      ]
     },
     "metadata": {
      "needs_background": "light"
     },
     "output_type": "display_data"
    }
   ],
   "source": [
    "plt.scatter(df_temp[\"year_month\"], df_temp[\"fuel_cost\"])"
   ]
  },
  {
   "cell_type": "markdown",
   "metadata": {},
   "source": [
    "## Dummy categorical fields"
   ]
  },
  {
   "cell_type": "code",
   "execution_count": 50,
   "metadata": {
    "ExecuteTime": {
     "end_time": "2019-07-17T17:51:29.109401Z",
     "start_time": "2019-07-17T17:51:28.349997Z"
    }
   },
   "outputs": [],
   "source": [
    "cat_fields = [\"contract_type\", \"energy_source\", \"plant_state\", \"regulated\", \"reporting_frequency\", \"year\", \"month\"]\n",
    "non_cat_fields = [\"fuel_cost\", \"quantity\"]\n",
    "temp1 = df[non_cat_fields].reset_index()\n",
    "temp2 = pd.get_dummies(df[cat_fields]).reset_index()\n",
    "df_3 = temp1.merge(temp2, on=\"index\").set_index(\"index\")\n"
   ]
  },
  {
   "cell_type": "markdown",
   "metadata": {},
   "source": [
    "# Dealing with NAs"
   ]
  },
  {
   "cell_type": "code",
   "execution_count": 69,
   "metadata": {
    "ExecuteTime": {
     "end_time": "2019-07-17T18:05:45.072356Z",
     "start_time": "2019-07-17T18:05:44.263410Z"
    },
    "scrolled": false
   },
   "outputs": [
    {
     "data": {
      "text/plain": [
       "fuel_cost                  65168\n",
       "quantity                       0\n",
       "year                           0\n",
       "month                          0\n",
       "contract_type_C                0\n",
       "contract_type_NC               0\n",
       "contract_type_S                0\n",
       "energy_source_BFG              0\n",
       "energy_source_BIT              0\n",
       "energy_source_DFO              0\n",
       "energy_source_JF               0\n",
       "energy_source_KER              0\n",
       "energy_source_LIG              0\n",
       "energy_source_NG               0\n",
       "energy_source_OG               0\n",
       "energy_source_PC               0\n",
       "energy_source_PG               0\n",
       "energy_source_RFO              0\n",
       "energy_source_SC               0\n",
       "energy_source_SGP              0\n",
       "energy_source_SUB              0\n",
       "energy_source_WC               0\n",
       "energy_source_WO               0\n",
       "plant_state_AK                 0\n",
       "plant_state_AL                 0\n",
       "plant_state_AR                 0\n",
       "plant_state_AZ                 0\n",
       "plant_state_CA                 0\n",
       "plant_state_CO                 0\n",
       "plant_state_CT                 0\n",
       "                           ...  \n",
       "plant_state_ND                 0\n",
       "plant_state_NE                 0\n",
       "plant_state_NH                 0\n",
       "plant_state_NJ                 0\n",
       "plant_state_NM                 0\n",
       "plant_state_NV                 0\n",
       "plant_state_NY                 0\n",
       "plant_state_OH                 0\n",
       "plant_state_OK                 0\n",
       "plant_state_OR                 0\n",
       "plant_state_PA                 0\n",
       "plant_state_RI                 0\n",
       "plant_state_SC                 0\n",
       "plant_state_SD                 0\n",
       "plant_state_TN                 0\n",
       "plant_state_TX                 0\n",
       "plant_state_UT                 0\n",
       "plant_state_VA                 0\n",
       "plant_state_VT                 0\n",
       "plant_state_WA                 0\n",
       "plant_state_WI                 0\n",
       "plant_state_WV                 0\n",
       "plant_state_WY                 0\n",
       "plant_state_plant_13438        0\n",
       "plant_state_plant_18414        0\n",
       "plant_state_plant_8564         0\n",
       "regulated_REG                  0\n",
       "regulated_UNR                  0\n",
       "reporting_frequency_A          0\n",
       "reporting_frequency_M          0\n",
       "Length: 81, dtype: int64"
      ]
     },
     "execution_count": 69,
     "metadata": {},
     "output_type": "execute_result"
    }
   ],
   "source": [
    "df_3.isna().sum()"
   ]
  },
  {
   "cell_type": "code",
   "execution_count": 70,
   "metadata": {
    "ExecuteTime": {
     "end_time": "2019-07-17T18:06:59.154908Z",
     "start_time": "2019-07-17T18:06:59.016101Z"
    }
   },
   "outputs": [],
   "source": [
    "df_4 = df_3[df_3[\"fuel_cost\"].notna()].copy()"
   ]
  },
  {
   "cell_type": "markdown",
   "metadata": {},
   "source": [
    "## Check correlations"
   ]
  },
  {
   "cell_type": "code",
   "execution_count": 71,
   "metadata": {
    "ExecuteTime": {
     "end_time": "2019-07-17T18:07:07.172266Z",
     "start_time": "2019-07-17T18:07:03.010377Z"
    }
   },
   "outputs": [
    {
     "data": {
      "text/plain": [
       "<Figure size 864x864 with 0 Axes>"
      ]
     },
     "metadata": {},
     "output_type": "display_data"
    }
   ],
   "source": [
    "fig = plt.figure(figsize=(12,12))\n",
    "corr = df_4.corr()"
   ]
  },
  {
   "cell_type": "markdown",
   "metadata": {
    "ExecuteTime": {
     "end_time": "2019-07-17T17:57:31.561606Z",
     "start_time": "2019-07-17T17:57:31.557065Z"
    }
   },
   "source": [
    "### Since correlation map is too large with the dummied variables, loop through the largest correlations manually"
   ]
  },
  {
   "cell_type": "code",
   "execution_count": 72,
   "metadata": {
    "ExecuteTime": {
     "end_time": "2019-07-17T18:07:13.019514Z",
     "start_time": "2019-07-17T18:07:12.895766Z"
    }
   },
   "outputs": [
    {
     "data": {
      "text/plain": [
       "[['energy_source_RFO', 'plant_state_HI', 0.616654748532155],\n",
       " ['plant_state_ND', 'energy_source_LIG', 0.5587863157118816],\n",
       " ['plant_state_CA', 'reporting_frequency_A', 0.4202441595462171],\n",
       " ['contract_type_S', 'energy_source_NG', 0.3332026188549634],\n",
       " ['contract_type_S', 'reporting_frequency_A', 0.3107760931159799],\n",
       " ['plant_state_CA', 'energy_source_NG', 0.2996709732773863],\n",
       " ['contract_type_S', 'plant_state_CA', 0.2814514160628784],\n",
       " ['plant_state_CA', 'contract_type_S', 0.2814514160628784],\n",
       " ['contract_type_C', 'energy_source_BIT', 0.2663866710592053],\n",
       " ['energy_source_SUB', 'plant_state_MO', 0.22840643019409754],\n",
       " ['quantity', 'plant_state_FL', 0.2276097146918606],\n",
       " ['quantity', 'energy_source_NG', 0.21207165122057536],\n",
       " ['year', 'reporting_frequency_M', 0.19114674075306043],\n",
       " ['plant_state_AK', 'energy_source_JF', 0.1878815153121501],\n",
       " ['energy_source_SUB', 'plant_state_IA', 0.17327882747748155],\n",
       " ['energy_source_SUB', 'plant_state_MI', 0.15736165098486696],\n",
       " ['energy_source_SUB', 'reporting_frequency_M', 0.15534429711153128],\n",
       " ['energy_source_SUB', 'plant_state_WI', 0.155158683374077],\n",
       " ['contract_type_C', 'energy_source_SUB', 0.15209304478880195],\n",
       " ['energy_source_WC', 'plant_state_IL', 0.14825272647998594]]"
      ]
     },
     "execution_count": 72,
     "metadata": {},
     "output_type": "execute_result"
    }
   ],
   "source": [
    "corrs = []\n",
    "for col in corr.columns:\n",
    "    top_3 = corr[col].sort_values(ascending=False)[1:6]        \n",
    "    for val in top_3.index:\n",
    "        corrs.append([col, val, top_3[val]])\n",
    "\n",
    "corrs = sorted(corrs, key=lambda x: x[2], reverse=True)\n",
    "corrs[0:20]                      "
   ]
  },
  {
   "cell_type": "markdown",
   "metadata": {
    "ExecuteTime": {
     "end_time": "2019-07-17T17:59:44.723662Z",
     "start_time": "2019-07-17T17:59:44.720506Z"
    }
   },
   "source": [
    "Some insights here. Certain states are associated with certain energy sources (ND with lignite coal, Hawaii with Residual Fuel Oil). But no sign of fuel costs in the top values. \n",
    "\n",
    "Let's see if fuel_cost is associated with anything."
   ]
  },
  {
   "cell_type": "code",
   "execution_count": 73,
   "metadata": {
    "ExecuteTime": {
     "end_time": "2019-07-17T18:07:19.504442Z",
     "start_time": "2019-07-17T18:07:19.383896Z"
    },
    "scrolled": true
   },
   "outputs": [
    {
     "data": {
      "text/plain": [
       "[['fuel_cost', 'plant_state_AZ', 0.020812096771379147],\n",
       " ['fuel_cost', 'plant_state_VA', 0.012556165520502276],\n",
       " ['fuel_cost', 'energy_source_NG', 0.009384091081745597],\n",
       " ['fuel_cost', 'month', 0.003892014966156782],\n",
       " ['fuel_cost', 'energy_source_DFO', 0.0038530084405234565],\n",
       " ['fuel_cost', 'plant_state_MO', 0.003592968000099606],\n",
       " ['fuel_cost', 'year', 0.003546989016163334],\n",
       " ['fuel_cost', 'reporting_frequency_M', 0.002351770168980527],\n",
       " ['fuel_cost', 'plant_state_NV', 0.0014243503064728328],\n",
       " ['fuel_cost', 'plant_state_CO', 0.0014179837707276647],\n",
       " ['fuel_cost', 'plant_state_AR', 0.0012964131367043396],\n",
       " ['fuel_cost', 'plant_state_HI', 0.0008807020278882378],\n",
       " ['fuel_cost', 'plant_state_LA', 0.0008028645369064019],\n",
       " ['fuel_cost', 'energy_source_RFO', 0.0004625162983428249],\n",
       " ['fuel_cost', 'energy_source_KER', 0.00039111123715222204],\n",
       " ['fuel_cost', 'energy_source_JF', 0.0002933778777547932],\n",
       " ['fuel_cost', 'energy_source_PG', 0.00021430013806545436],\n",
       " ['fuel_cost', 'plant_state_IL', 0.00020175869279190977],\n",
       " ['fuel_cost', 'plant_state_CT', 0.00015881472637572182],\n",
       " ['fuel_cost', 'plant_state_NJ', 8.422206183565622e-05]]"
      ]
     },
     "execution_count": 73,
     "metadata": {},
     "output_type": "execute_result"
    }
   ],
   "source": [
    "corrs = []\n",
    "for col in corr.columns:\n",
    "    top_3 = corr[col].sort_values(ascending=False)[1:]       \n",
    "    for val in top_3.index:\n",
    "        if col == \"fuel_cost\" or val == \"fuel_cost\":\n",
    "            corrs.append([col, val, top_3[val]])\n",
    "\n",
    "corrs = sorted(corrs, key=lambda x: x[2], reverse=True)\n",
    "corrs[0:20]  "
   ]
  },
  {
   "cell_type": "markdown",
   "metadata": {},
   "source": [
    "Some associations but the values are so low as to be inconclusive. May need some modeling."
   ]
  },
  {
   "cell_type": "markdown",
   "metadata": {},
   "source": [
    "# Modelling the Data"
   ]
  },
  {
   "cell_type": "code",
   "execution_count": 81,
   "metadata": {
    "ExecuteTime": {
     "end_time": "2019-07-17T18:10:38.087878Z",
     "start_time": "2019-07-17T18:10:38.061707Z"
    },
    "code_folding": [
     0
    ]
   },
   "outputs": [],
   "source": [
    "def model_summary(model, X, y, columns=[]):\n",
    "\t\"\"\"\n",
    "\tTakes a sklearn model and outputs basic stats,\n",
    "\tbased on input features (X) and target (y)\n",
    "\t\"\"\"\n",
    "\timport pandas as pd\n",
    "\tfrom scipy import stats\n",
    "\timport numpy as np\n",
    "\tlm = model\n",
    "\tparams = np.append(lm.intercept_,lm.coef_)\n",
    "\tpredictions = lm.predict(X)\n",
    "\t\n",
    "\tdef r_adjusted(r_squared, X, y):\n",
    "\t\t\"\"\" \n",
    "\t\tOutputs the R^2 adjusted value for a sklearn linear regression model\n",
    "\t\tbased on r_squared and the X and y of the data sets being used\n",
    "\t\t\"\"\"\n",
    "\t\treturn 1 - (1-r_squared)*(len(y)-1)/(len(y)-X.shape[1]-1)\n",
    "\t\t\n",
    "\tr_squared = model.score(X, y)\n",
    "\t\n",
    "\t#from sklearn.feature_selection import f_regression\n",
    "\t#f_values, p_values = f_regression(X, y) # for each coefficient\n",
    "\t\n",
    "\tprint(\"R^2: %s\" % r_squared)\n",
    "\tprint(\"R^2 Adjusted: %s\" % r_adjusted(r_squared, X, y))\n",
    "\tif hasattr(model, \"aic\"): print(\"AIC: %s\" % model.aic)\n",
    "\tif hasattr(model, \"bic\"): print(\"BIC: %s\" % model.bic)\n",
    "\t\n",
    "\tnewX = pd.DataFrame({\"Constant\":np.ones(len(X))}).join(pd.DataFrame(X))\n",
    "\tMSE = (sum((y-predictions)**2))/(len(newX)-len(newX.columns))\n",
    "\n",
    "\t# Note if you don't want to use a DataFrame replace the two lines above with\n",
    "\t# newX = np.append(np.ones((len(X),1)), X, axis=1)\n",
    "\t# MSE = (sum((y-predictions)**2))/(len(newX)-len(newX[0]))\n",
    "\n",
    "\tvar_b = MSE*(np.linalg.inv(np.dot(newX.T,newX)).diagonal())\n",
    "\tsd_b = np.sqrt(var_b)\n",
    "\tts_b = params/ sd_b\n",
    "\n",
    "\tp_values =[2*(1-stats.t.cdf(np.abs(i),(len(newX)-1))) for i in ts_b]\n",
    "\n",
    "\tsd_b = np.round(sd_b,3)\n",
    "\tts_b = np.round(ts_b,3)\n",
    "\tp_values = np.round(p_values,3)\n",
    "\tparams = np.round(params,4)\n",
    "\n",
    "\tmyDF3 = pd.DataFrame()\n",
    "\tmyDF3[\"Coefficients\"],myDF3[\"Standard Errors\"],myDF3[\"t values\"],myDF3[\"Probabilites\"] = [params,sd_b,ts_b,p_values]\n",
    "\tif any(columns): myDF3.index = [\"Intercept\"] + list(columns)\n",
    "\tprint(myDF3)"
   ]
  },
  {
   "cell_type": "code",
   "execution_count": 79,
   "metadata": {
    "ExecuteTime": {
     "end_time": "2019-07-17T18:09:00.461367Z",
     "start_time": "2019-07-17T18:09:00.456610Z"
    }
   },
   "outputs": [],
   "source": [
    "#from sklearn.tree import DecisionTreeClassifier\n",
    "#model = DecisionTreeClassifier(random_state=0) \n",
    "\n",
    "\n"
   ]
  },
  {
   "cell_type": "code",
   "execution_count": 98,
   "metadata": {
    "ExecuteTime": {
     "end_time": "2019-07-17T18:39:24.280621Z",
     "start_time": "2019-07-17T18:39:24.252097Z"
    }
   },
   "outputs": [
    {
     "data": {
      "text/plain": [
       "Index(['fuel_cost', 'quantity', 'year', 'month', 'contract_type_C',\n",
       "       'contract_type_NC', 'contract_type_S', 'energy_source_BFG',\n",
       "       'energy_source_BIT', 'energy_source_DFO', 'energy_source_JF',\n",
       "       'energy_source_KER', 'energy_source_LIG', 'energy_source_NG',\n",
       "       'energy_source_OG', 'energy_source_PC', 'energy_source_PG',\n",
       "       'energy_source_RFO', 'energy_source_SC', 'energy_source_SGP',\n",
       "       'energy_source_SUB', 'energy_source_WC', 'energy_source_WO',\n",
       "       'plant_state_AK', 'plant_state_AL', 'plant_state_AR', 'plant_state_AZ',\n",
       "       'plant_state_CA', 'plant_state_CO', 'plant_state_CT', 'plant_state_DC',\n",
       "       'plant_state_DE', 'plant_state_FL', 'plant_state_GA', 'plant_state_HI',\n",
       "       'plant_state_IA', 'plant_state_ID', 'plant_state_IL', 'plant_state_IN',\n",
       "       'plant_state_KS', 'plant_state_KY', 'plant_state_LA', 'plant_state_MA',\n",
       "       'plant_state_MD', 'plant_state_ME', 'plant_state_MI', 'plant_state_MN',\n",
       "       'plant_state_MO', 'plant_state_MS', 'plant_state_MT', 'plant_state_NC',\n",
       "       'plant_state_ND', 'plant_state_NE', 'plant_state_NH', 'plant_state_NJ',\n",
       "       'plant_state_NM', 'plant_state_NV', 'plant_state_NY', 'plant_state_OH',\n",
       "       'plant_state_OK', 'plant_state_OR', 'plant_state_PA', 'plant_state_RI',\n",
       "       'plant_state_SC', 'plant_state_SD', 'plant_state_TN', 'plant_state_TX',\n",
       "       'plant_state_UT', 'plant_state_VA', 'plant_state_VT', 'plant_state_WA',\n",
       "       'plant_state_WI', 'plant_state_WV', 'plant_state_WY',\n",
       "       'plant_state_plant_13438', 'plant_state_plant_18414',\n",
       "       'plant_state_plant_8564', 'regulated_REG', 'regulated_UNR',\n",
       "       'reporting_frequency_A', 'reporting_frequency_M'],\n",
       "      dtype='object')"
      ]
     },
     "execution_count": 98,
     "metadata": {},
     "output_type": "execute_result"
    }
   ],
   "source": [
    "df_4.columns"
   ]
  },
  {
   "cell_type": "code",
   "execution_count": 102,
   "metadata": {
    "ExecuteTime": {
     "end_time": "2019-07-17T18:41:12.631842Z",
     "start_time": "2019-07-17T18:41:12.449789Z"
    }
   },
   "outputs": [],
   "source": [
    "df_5 = df_4[df_4[\"contract_type_S\"] == 0].copy()\n",
    "#X = df_4.drop(columns=\"fuel_cost\")\n",
    "X = df_5[[\"year\", \"month\", \"quantity\", \"contract_type_C\", \"contract_type_NC\", \"contract_type_S\",'energy_source_BFG',\n",
    "       'energy_source_BIT', 'energy_source_DFO', 'energy_source_JF',\n",
    "       'energy_source_KER', 'energy_source_LIG', 'energy_source_NG',\n",
    "       'energy_source_OG', 'energy_source_PC', 'energy_source_PG',\n",
    "       'energy_source_RFO', 'energy_source_SC', 'energy_source_SGP',\n",
    "       'energy_source_SUB', 'energy_source_WC', 'energy_source_WO',]]\n",
    "y = df_5[\"fuel_cost\"]\n",
    "X_train, X_test, y_train, y_test = train_test_split(X, y, test_size = 0.2)"
   ]
  },
  {
   "cell_type": "code",
   "execution_count": 106,
   "metadata": {
    "ExecuteTime": {
     "end_time": "2019-07-17T18:42:21.252292Z",
     "start_time": "2019-07-17T18:42:20.853888Z"
    }
   },
   "outputs": [
    {
     "name": "stdout",
     "output_type": "stream",
     "text": [
      "R^2: 0.00019891386562553848\n",
      "R^2 Adjusted: 7.581528380773417e-05\n",
      "                   Coefficients  Standard Errors  t values  Probabilites\n",
      "Intercept            78714.5529              NaN       NaN           NaN\n",
      "year                   -38.7004              NaN       NaN           NaN\n",
      "month                   88.5941              NaN       NaN           NaN\n",
      "quantity                -0.0007              NaN       NaN           NaN\n",
      "contract_type_C       -363.2899              NaN       NaN           NaN\n",
      "contract_type_NC      -688.8169              NaN       NaN           NaN\n",
      "contract_type_S          0.0000              NaN       NaN           NaN\n",
      "energy_source_BFG        0.0000              NaN       NaN           NaN\n",
      "energy_source_BIT     -893.5175              NaN       NaN           NaN\n",
      "energy_source_DFO      590.8370              NaN       NaN           NaN\n",
      "energy_source_JF      1241.1523              NaN       NaN           NaN\n",
      "energy_source_KER     1458.4226              NaN       NaN           NaN\n",
      "energy_source_LIG     -875.3171              NaN       NaN           NaN\n",
      "energy_source_NG      1161.0543              NaN       NaN           NaN\n",
      "energy_source_OG      -618.8047              NaN       NaN           NaN\n",
      "energy_source_PC      -999.3774              NaN       NaN           NaN\n",
      "energy_source_PG       502.9620              NaN       NaN           NaN\n",
      "energy_source_RFO      249.7100              NaN       NaN           NaN\n",
      "energy_source_SC     -1027.6994              NaN       NaN           NaN\n",
      "energy_source_SGP     1509.9375              NaN       NaN           NaN\n",
      "energy_source_SUB     -973.1119              NaN       NaN           NaN\n",
      "energy_source_WC     -1035.4874              NaN       NaN           NaN\n",
      "energy_source_WO      -290.7603              NaN       NaN           NaN\n"
     ]
    }
   ],
   "source": [
    "model = LinearRegression()\n",
    "results = model.fit(X_train, y_train)\n",
    "model_summary(model, X_train, y_train, columns=X.columns)"
   ]
  },
  {
   "cell_type": "code",
   "execution_count": 84,
   "metadata": {
    "ExecuteTime": {
     "end_time": "2019-07-17T18:12:51.247657Z",
     "start_time": "2019-07-17T18:12:51.158357Z"
    }
   },
   "outputs": [],
   "source": [
    "from statsmodels.regression.linear_model import OLS"
   ]
  },
  {
   "cell_type": "code",
   "execution_count": 103,
   "metadata": {
    "ExecuteTime": {
     "end_time": "2019-07-17T18:41:17.266524Z",
     "start_time": "2019-07-17T18:41:16.686967Z"
    }
   },
   "outputs": [],
   "source": [
    "model = OLS(y_train,X_train)\n",
    "results = model.fit()"
   ]
  },
  {
   "cell_type": "code",
   "execution_count": 104,
   "metadata": {
    "ExecuteTime": {
     "end_time": "2019-07-17T18:41:19.821482Z",
     "start_time": "2019-07-17T18:41:19.702738Z"
    }
   },
   "outputs": [
    {
     "data": {
      "text/html": [
       "<table class=\"simpletable\">\n",
       "<caption>OLS Regression Results</caption>\n",
       "<tr>\n",
       "  <th>Dep. Variable:</th>        <td>fuel_cost</td>    <th>  R-squared:         </th>  <td>   0.000</td>  \n",
       "</tr>\n",
       "<tr>\n",
       "  <th>Model:</th>                   <td>OLS</td>       <th>  Adj. R-squared:    </th>  <td>   0.000</td>  \n",
       "</tr>\n",
       "<tr>\n",
       "  <th>Method:</th>             <td>Least Squares</td>  <th>  F-statistic:       </th>  <td>   1.871</td>  \n",
       "</tr>\n",
       "<tr>\n",
       "  <th>Date:</th>             <td>Wed, 17 Jul 2019</td> <th>  Prob (F-statistic):</th>   <td>0.0120</td>   \n",
       "</tr>\n",
       "<tr>\n",
       "  <th>Time:</th>                 <td>14:41:19</td>     <th>  Log-Likelihood:    </th> <td>-2.2590e+06</td>\n",
       "</tr>\n",
       "<tr>\n",
       "  <th>No. Observations:</th>      <td>178706</td>      <th>  AIC:               </th>  <td>4.518e+06</td> \n",
       "</tr>\n",
       "<tr>\n",
       "  <th>Df Residuals:</th>          <td>178686</td>      <th>  BIC:               </th>  <td>4.518e+06</td> \n",
       "</tr>\n",
       "<tr>\n",
       "  <th>Df Model:</th>              <td>    19</td>      <th>                     </th>      <td> </td>     \n",
       "</tr>\n",
       "<tr>\n",
       "  <th>Covariance Type:</th>      <td>nonrobust</td>    <th>                     </th>      <td> </td>     \n",
       "</tr>\n",
       "</table>\n",
       "<table class=\"simpletable\">\n",
       "<tr>\n",
       "          <td></td>             <th>coef</th>     <th>std err</th>      <th>t</th>      <th>P>|t|</th>  <th>[0.025</th>    <th>0.975]</th>  \n",
       "</tr>\n",
       "<tr>\n",
       "  <th>year</th>              <td>  -38.7004</td> <td>   91.804</td> <td>   -0.422</td> <td> 0.673</td> <td> -218.633</td> <td>  141.233</td>\n",
       "</tr>\n",
       "<tr>\n",
       "  <th>month</th>             <td>   88.5941</td> <td>   51.482</td> <td>    1.721</td> <td> 0.085</td> <td>  -12.309</td> <td>  189.497</td>\n",
       "</tr>\n",
       "<tr>\n",
       "  <th>quantity</th>          <td>   -0.0007</td> <td>    0.000</td> <td>   -2.345</td> <td> 0.019</td> <td>   -0.001</td> <td>   -0.000</td>\n",
       "</tr>\n",
       "<tr>\n",
       "  <th>contract_type_C</th>   <td> -363.2899</td> <td>  615.282</td> <td>   -0.590</td> <td> 0.555</td> <td>-1569.228</td> <td>  842.648</td>\n",
       "</tr>\n",
       "<tr>\n",
       "  <th>contract_type_NC</th>  <td> -688.8169</td> <td> 2517.645</td> <td>   -0.274</td> <td> 0.784</td> <td>-5623.344</td> <td> 4245.710</td>\n",
       "</tr>\n",
       "<tr>\n",
       "  <th>contract_type_S</th>   <td> 6.698e-10</td> <td> 1.57e-09</td> <td>    0.426</td> <td> 0.670</td> <td>-2.41e-09</td> <td> 3.75e-09</td>\n",
       "</tr>\n",
       "<tr>\n",
       "  <th>energy_source_BFG</th> <td>-1.051e-09</td> <td> 2.47e-09</td> <td>   -0.426</td> <td> 0.670</td> <td>-5.88e-09</td> <td> 3.78e-09</td>\n",
       "</tr>\n",
       "<tr>\n",
       "  <th>energy_source_BIT</th> <td> 7.782e+04</td> <td> 1.85e+05</td> <td>    0.421</td> <td> 0.674</td> <td>-2.85e+05</td> <td>  4.4e+05</td>\n",
       "</tr>\n",
       "<tr>\n",
       "  <th>energy_source_DFO</th> <td> 7.931e+04</td> <td> 1.85e+05</td> <td>    0.429</td> <td> 0.668</td> <td>-2.83e+05</td> <td> 4.42e+05</td>\n",
       "</tr>\n",
       "<tr>\n",
       "  <th>energy_source_JF</th>  <td> 7.996e+04</td> <td> 1.86e+05</td> <td>    0.430</td> <td> 0.667</td> <td>-2.85e+05</td> <td> 4.45e+05</td>\n",
       "</tr>\n",
       "<tr>\n",
       "  <th>energy_source_KER</th> <td> 8.017e+04</td> <td> 1.85e+05</td> <td>    0.433</td> <td> 0.665</td> <td>-2.83e+05</td> <td> 4.43e+05</td>\n",
       "</tr>\n",
       "<tr>\n",
       "  <th>energy_source_LIG</th> <td> 7.784e+04</td> <td> 1.85e+05</td> <td>    0.421</td> <td> 0.674</td> <td>-2.85e+05</td> <td> 4.41e+05</td>\n",
       "</tr>\n",
       "<tr>\n",
       "  <th>energy_source_NG</th>  <td> 7.988e+04</td> <td> 1.85e+05</td> <td>    0.432</td> <td> 0.666</td> <td>-2.83e+05</td> <td> 4.43e+05</td>\n",
       "</tr>\n",
       "<tr>\n",
       "  <th>energy_source_OG</th>  <td>  7.81e+04</td> <td> 1.85e+05</td> <td>    0.422</td> <td> 0.673</td> <td>-2.85e+05</td> <td> 4.41e+05</td>\n",
       "</tr>\n",
       "<tr>\n",
       "  <th>energy_source_PC</th>  <td> 7.772e+04</td> <td> 1.85e+05</td> <td>    0.420</td> <td> 0.675</td> <td>-2.85e+05</td> <td>  4.4e+05</td>\n",
       "</tr>\n",
       "<tr>\n",
       "  <th>energy_source_PG</th>  <td> 7.922e+04</td> <td> 1.85e+05</td> <td>    0.428</td> <td> 0.669</td> <td>-2.84e+05</td> <td> 4.42e+05</td>\n",
       "</tr>\n",
       "<tr>\n",
       "  <th>energy_source_RFO</th> <td> 7.896e+04</td> <td> 1.85e+05</td> <td>    0.427</td> <td> 0.670</td> <td>-2.84e+05</td> <td> 4.42e+05</td>\n",
       "</tr>\n",
       "<tr>\n",
       "  <th>energy_source_SC</th>  <td> 7.769e+04</td> <td> 1.86e+05</td> <td>    0.417</td> <td> 0.676</td> <td>-2.87e+05</td> <td> 4.42e+05</td>\n",
       "</tr>\n",
       "<tr>\n",
       "  <th>energy_source_SGP</th> <td> 8.022e+04</td> <td> 1.86e+05</td> <td>    0.431</td> <td> 0.667</td> <td>-2.85e+05</td> <td> 4.45e+05</td>\n",
       "</tr>\n",
       "<tr>\n",
       "  <th>energy_source_SUB</th> <td> 7.774e+04</td> <td> 1.85e+05</td> <td>    0.420</td> <td> 0.674</td> <td>-2.85e+05</td> <td>  4.4e+05</td>\n",
       "</tr>\n",
       "<tr>\n",
       "  <th>energy_source_WC</th>  <td> 7.768e+04</td> <td> 1.85e+05</td> <td>    0.420</td> <td> 0.675</td> <td>-2.85e+05</td> <td>  4.4e+05</td>\n",
       "</tr>\n",
       "<tr>\n",
       "  <th>energy_source_WO</th>  <td> 7.842e+04</td> <td> 1.85e+05</td> <td>    0.424</td> <td> 0.672</td> <td>-2.84e+05</td> <td> 4.41e+05</td>\n",
       "</tr>\n",
       "</table>\n",
       "<table class=\"simpletable\">\n",
       "<tr>\n",
       "  <th>Omnibus:</th>       <td>903048.407</td> <th>  Durbin-Watson:     </th>      <td>   2.000</td>     \n",
       "</tr>\n",
       "<tr>\n",
       "  <th>Prob(Omnibus):</th>   <td> 0.000</td>   <th>  Jarque-Bera (JB):  </th> <td>27934951473743.145</td>\n",
       "</tr>\n",
       "<tr>\n",
       "  <th>Skew:</th>            <td>224.262</td>  <th>  Prob(JB):          </th>      <td>    0.00</td>     \n",
       "</tr>\n",
       "<tr>\n",
       "  <th>Kurtosis:</th>       <td>61251.911</td> <th>  Cond. No.          </th>      <td>3.67e+22</td>     \n",
       "</tr>\n",
       "</table><br/><br/>Warnings:<br/>[1] Standard Errors assume that the covariance matrix of the errors is correctly specified.<br/>[2] The smallest eigenvalue is 6.02e-29. This might indicate that there are<br/>strong multicollinearity problems or that the design matrix is singular."
      ],
      "text/plain": [
       "<class 'statsmodels.iolib.summary.Summary'>\n",
       "\"\"\"\n",
       "                            OLS Regression Results                            \n",
       "==============================================================================\n",
       "Dep. Variable:              fuel_cost   R-squared:                       0.000\n",
       "Model:                            OLS   Adj. R-squared:                  0.000\n",
       "Method:                 Least Squares   F-statistic:                     1.871\n",
       "Date:                Wed, 17 Jul 2019   Prob (F-statistic):             0.0120\n",
       "Time:                        14:41:19   Log-Likelihood:            -2.2590e+06\n",
       "No. Observations:              178706   AIC:                         4.518e+06\n",
       "Df Residuals:                  178686   BIC:                         4.518e+06\n",
       "Df Model:                          19                                         \n",
       "Covariance Type:            nonrobust                                         \n",
       "=====================================================================================\n",
       "                        coef    std err          t      P>|t|      [0.025      0.975]\n",
       "-------------------------------------------------------------------------------------\n",
       "year                -38.7004     91.804     -0.422      0.673    -218.633     141.233\n",
       "month                88.5941     51.482      1.721      0.085     -12.309     189.497\n",
       "quantity             -0.0007      0.000     -2.345      0.019      -0.001      -0.000\n",
       "contract_type_C    -363.2899    615.282     -0.590      0.555   -1569.228     842.648\n",
       "contract_type_NC   -688.8169   2517.645     -0.274      0.784   -5623.344    4245.710\n",
       "contract_type_S    6.698e-10   1.57e-09      0.426      0.670   -2.41e-09    3.75e-09\n",
       "energy_source_BFG -1.051e-09   2.47e-09     -0.426      0.670   -5.88e-09    3.78e-09\n",
       "energy_source_BIT  7.782e+04   1.85e+05      0.421      0.674   -2.85e+05     4.4e+05\n",
       "energy_source_DFO  7.931e+04   1.85e+05      0.429      0.668   -2.83e+05    4.42e+05\n",
       "energy_source_JF   7.996e+04   1.86e+05      0.430      0.667   -2.85e+05    4.45e+05\n",
       "energy_source_KER  8.017e+04   1.85e+05      0.433      0.665   -2.83e+05    4.43e+05\n",
       "energy_source_LIG  7.784e+04   1.85e+05      0.421      0.674   -2.85e+05    4.41e+05\n",
       "energy_source_NG   7.988e+04   1.85e+05      0.432      0.666   -2.83e+05    4.43e+05\n",
       "energy_source_OG    7.81e+04   1.85e+05      0.422      0.673   -2.85e+05    4.41e+05\n",
       "energy_source_PC   7.772e+04   1.85e+05      0.420      0.675   -2.85e+05     4.4e+05\n",
       "energy_source_PG   7.922e+04   1.85e+05      0.428      0.669   -2.84e+05    4.42e+05\n",
       "energy_source_RFO  7.896e+04   1.85e+05      0.427      0.670   -2.84e+05    4.42e+05\n",
       "energy_source_SC   7.769e+04   1.86e+05      0.417      0.676   -2.87e+05    4.42e+05\n",
       "energy_source_SGP  8.022e+04   1.86e+05      0.431      0.667   -2.85e+05    4.45e+05\n",
       "energy_source_SUB  7.774e+04   1.85e+05      0.420      0.674   -2.85e+05     4.4e+05\n",
       "energy_source_WC   7.768e+04   1.85e+05      0.420      0.675   -2.85e+05     4.4e+05\n",
       "energy_source_WO   7.842e+04   1.85e+05      0.424      0.672   -2.84e+05    4.41e+05\n",
       "==============================================================================\n",
       "Omnibus:                   903048.407   Durbin-Watson:                   2.000\n",
       "Prob(Omnibus):                  0.000   Jarque-Bera (JB):   27934951473743.145\n",
       "Skew:                         224.262   Prob(JB):                         0.00\n",
       "Kurtosis:                   61251.911   Cond. No.                     3.67e+22\n",
       "==============================================================================\n",
       "\n",
       "Warnings:\n",
       "[1] Standard Errors assume that the covariance matrix of the errors is correctly specified.\n",
       "[2] The smallest eigenvalue is 6.02e-29. This might indicate that there are\n",
       "strong multicollinearity problems or that the design matrix is singular.\n",
       "\"\"\""
      ]
     },
     "execution_count": 104,
     "metadata": {},
     "output_type": "execute_result"
    }
   ],
   "source": [
    "results.summary()"
   ]
  },
  {
   "cell_type": "markdown",
   "metadata": {},
   "source": [
    "Wow that model is terrible."
   ]
  },
  {
   "cell_type": "code",
   "execution_count": 88,
   "metadata": {
    "ExecuteTime": {
     "end_time": "2019-07-17T18:14:41.427300Z",
     "start_time": "2019-07-17T18:14:41.395308Z"
    }
   },
   "outputs": [],
   "source": [
    "from sklearn.ensemble import RandomForestRegressor"
   ]
  },
  {
   "cell_type": "code",
   "execution_count": 89,
   "metadata": {
    "ExecuteTime": {
     "end_time": "2019-07-17T18:16:09.281916Z",
     "start_time": "2019-07-17T18:15:31.972672Z"
    }
   },
   "outputs": [
    {
     "name": "stderr",
     "output_type": "stream",
     "text": [
      "/Users/lhinkesjones/anaconda3/lib/python3.7/site-packages/sklearn/ensemble/forest.py:246: FutureWarning: The default value of n_estimators will change from 10 in version 0.20 to 100 in 0.22.\n",
      "  \"10 in version 0.20 to 100 in 0.22.\", FutureWarning)\n"
     ]
    }
   ],
   "source": [
    "model = RandomForestRegressor()\n",
    "y_pred = model.fit(X_train, y_train).predict(X_test)"
   ]
  },
  {
   "cell_type": "code",
   "execution_count": 90,
   "metadata": {
    "ExecuteTime": {
     "end_time": "2019-07-17T18:24:05.935761Z",
     "start_time": "2019-07-17T18:24:05.929131Z"
    }
   },
   "outputs": [],
   "source": [
    "from sklearn.metrics import mean_squared_error"
   ]
  },
  {
   "cell_type": "code",
   "execution_count": 91,
   "metadata": {
    "ExecuteTime": {
     "end_time": "2019-07-17T18:24:18.983483Z",
     "start_time": "2019-07-17T18:24:18.971508Z"
    }
   },
   "outputs": [
    {
     "data": {
      "text/plain": [
       "6066856776.021499"
      ]
     },
     "execution_count": 91,
     "metadata": {},
     "output_type": "execute_result"
    }
   ],
   "source": [
    "mean_squared_error(y_test, y_pred)"
   ]
  },
  {
   "cell_type": "code",
   "execution_count": 92,
   "metadata": {
    "ExecuteTime": {
     "end_time": "2019-07-17T18:30:32.212647Z",
     "start_time": "2019-07-17T18:29:49.499952Z"
    }
   },
   "outputs": [
    {
     "data": {
      "text/plain": [
       "791339913.4425234"
      ]
     },
     "execution_count": 92,
     "metadata": {},
     "output_type": "execute_result"
    }
   ],
   "source": [
    "y_train_pred = model.fit(X_train, y_train).predict(X_train)\n",
    "mean_squared_error(y_train, y_train_pred)"
   ]
  }
 ],
 "metadata": {
  "kernelspec": {
   "display_name": "Python 3",
   "language": "python",
   "name": "python3"
  },
  "language_info": {
   "codemirror_mode": {
    "name": "ipython",
    "version": 3
   },
   "file_extension": ".py",
   "mimetype": "text/x-python",
   "name": "python",
   "nbconvert_exporter": "python",
   "pygments_lexer": "ipython3",
   "version": "3.7.3"
  },
  "toc": {
   "base_numbering": 1,
   "nav_menu": {},
   "number_sections": true,
   "sideBar": true,
   "skip_h1_title": false,
   "title_cell": "Table of Contents",
   "title_sidebar": "Contents",
   "toc_cell": false,
   "toc_position": {},
   "toc_section_display": true,
   "toc_window_display": false
  },
  "varInspector": {
   "cols": {
    "lenName": 16,
    "lenType": 16,
    "lenVar": 40
   },
   "kernels_config": {
    "python": {
     "delete_cmd_postfix": "",
     "delete_cmd_prefix": "del ",
     "library": "var_list.py",
     "varRefreshCmd": "print(var_dic_list())"
    },
    "r": {
     "delete_cmd_postfix": ") ",
     "delete_cmd_prefix": "rm(",
     "library": "var_list.r",
     "varRefreshCmd": "cat(var_dic_list()) "
    }
   },
   "types_to_exclude": [
    "module",
    "function",
    "builtin_function_or_method",
    "instance",
    "_Feature"
   ],
   "window_display": false
  }
 },
 "nbformat": 4,
 "nbformat_minor": 2
}
