{
 "cells": [
  {
   "cell_type": "code",
   "execution_count": 14,
   "metadata": {
    "ExecuteTime": {
     "end_time": "2019-07-24T19:31:17.344837Z",
     "start_time": "2019-07-24T19:31:17.337030Z"
    }
   },
   "outputs": [],
   "source": [
    "import pandas as pd\n",
    "pd.set_option(\"display.max_columns\", 500)"
   ]
  },
  {
   "cell_type": "code",
   "execution_count": 15,
   "metadata": {
    "ExecuteTime": {
     "end_time": "2019-07-24T19:32:06.263665Z",
     "start_time": "2019-07-24T19:32:06.254089Z"
    }
   },
   "outputs": [],
   "source": [
    "def diff_cols(cols1, cols2):\n",
    "    for col in cols1:\n",
    "        if col not in cols2:\n",
    "            print(col)\n",
    "    print(\"\")\n",
    "    for col in cols2:\n",
    "        if col not in cols1:\n",
    "            print(col)"
   ]
  },
  {
   "cell_type": "code",
   "execution_count": 16,
   "metadata": {
    "ExecuteTime": {
     "end_time": "2019-07-24T19:32:10.826130Z",
     "start_time": "2019-07-24T19:32:10.820583Z"
    }
   },
   "outputs": [],
   "source": [
    "import os"
   ]
  },
  {
   "cell_type": "code",
   "execution_count": 28,
   "metadata": {
    "ExecuteTime": {
     "end_time": "2019-07-24T19:47:22.688424Z",
     "start_time": "2019-07-24T19:47:15.863623Z"
    }
   },
   "outputs": [],
   "source": [
    "cols = [\"fuel_cost\", \"year\", \"month\"]\n",
    "df = []\n",
    "dir_ = \"ferc_data/\"\n",
    "for file in os.listdir(dir_):\n",
    "    if \"new_\" in file:\n",
    "        df2 = pd.read_csv(dir_ + file)\n",
    "        if \"fuel_cost\" not in df2.columns: df2[\"fuel_cost\"] = df2.cost\n",
    "#        if \"specf_fuel\" not in df2.columns: df2[\"specf_fuel\"] = df2.fuel_group\n",
    "        if len(df):\n",
    "            try:\n",
    "                df = df.append(df2[cols])\n",
    "            except:\n",
    "                print(file)\n",
    "                print(df2.columns)\n",
    "        else:\n",
    "            df = df2[cols]"
   ]
  },
  {
   "cell_type": "code",
   "execution_count": 29,
   "metadata": {
    "ExecuteTime": {
     "end_time": "2019-07-24T19:47:32.762141Z",
     "start_time": "2019-07-24T19:47:25.079225Z"
    }
   },
   "outputs": [],
   "source": [
    "df.to_csv(\"ferc_data/all.csv\")\n"
   ]
  },
  {
   "cell_type": "code",
   "execution_count": null,
   "metadata": {},
   "outputs": [],
   "source": []
  }
 ],
 "metadata": {
  "kernelspec": {
   "display_name": "Python 3",
   "language": "python",
   "name": "python3"
  },
  "language_info": {
   "codemirror_mode": {
    "name": "ipython",
    "version": 3
   },
   "file_extension": ".py",
   "mimetype": "text/x-python",
   "name": "python",
   "nbconvert_exporter": "python",
   "pygments_lexer": "ipython3",
   "version": "3.7.3"
  },
  "toc": {
   "base_numbering": 1,
   "nav_menu": {},
   "number_sections": true,
   "sideBar": true,
   "skip_h1_title": false,
   "title_cell": "Table of Contents",
   "title_sidebar": "Contents",
   "toc_cell": false,
   "toc_position": {},
   "toc_section_display": true,
   "toc_window_display": false
  },
  "varInspector": {
   "cols": {
    "lenName": 16,
    "lenType": 16,
    "lenVar": 40
   },
   "kernels_config": {
    "python": {
     "delete_cmd_postfix": "",
     "delete_cmd_prefix": "del ",
     "library": "var_list.py",
     "varRefreshCmd": "print(var_dic_list())"
    },
    "r": {
     "delete_cmd_postfix": ") ",
     "delete_cmd_prefix": "rm(",
     "library": "var_list.r",
     "varRefreshCmd": "cat(var_dic_list()) "
    }
   },
   "types_to_exclude": [
    "module",
    "function",
    "builtin_function_or_method",
    "instance",
    "_Feature"
   ],
   "window_display": false
  }
 },
 "nbformat": 4,
 "nbformat_minor": 2
}
