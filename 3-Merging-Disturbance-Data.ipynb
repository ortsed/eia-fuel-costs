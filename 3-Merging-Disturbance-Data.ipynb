{
 "cells": [
  {
   "cell_type": "markdown",
   "metadata": {},
   "source": [
    "# Cleaning Disturbance Data\n",
    "Importing individual spreadsheets of electricity generation disturbance data one at a time (each one is slightly different in formatting), cleaning and merging into a single data file. Coalescing column names."
   ]
  },
  {
   "cell_type": "code",
   "execution_count": 2,
   "metadata": {
    "ExecuteTime": {
     "end_time": "2019-07-19T18:16:10.500404Z",
     "start_time": "2019-07-19T18:16:09.737762Z"
    }
   },
   "outputs": [],
   "source": [
    "import os\n",
    "import pandas as pd"
   ]
  },
  {
   "cell_type": "code",
   "execution_count": 18,
   "metadata": {
    "ExecuteTime": {
     "end_time": "2019-07-19T18:28:31.493465Z",
     "start_time": "2019-07-19T18:28:31.423770Z"
    }
   },
   "outputs": [
    {
     "data": {
      "text/plain": [
       "95"
      ]
     },
     "execution_count": 18,
     "metadata": {},
     "output_type": "execute_result"
    }
   ],
   "source": [
    "df = pd.read_excel(\"disturbance/epm_b2_2013.xlsx\", skiprows=1)\n",
    "len(df)"
   ]
  },
  {
   "cell_type": "code",
   "execution_count": 5,
   "metadata": {
    "ExecuteTime": {
     "end_time": "2019-07-19T18:25:26.904870Z",
     "start_time": "2019-07-19T18:25:26.870504Z"
    }
   },
   "outputs": [
    {
     "data": {
      "text/html": [
       "<div>\n",
       "<style scoped>\n",
       "    .dataframe tbody tr th:only-of-type {\n",
       "        vertical-align: middle;\n",
       "    }\n",
       "\n",
       "    .dataframe tbody tr th {\n",
       "        vertical-align: top;\n",
       "    }\n",
       "\n",
       "    .dataframe thead th {\n",
       "        text-align: right;\n",
       "    }\n",
       "</style>\n",
       "<table border=\"1\" class=\"dataframe\">\n",
       "  <thead>\n",
       "    <tr style=\"text-align: right;\">\n",
       "      <th></th>\n",
       "      <th>Year</th>\n",
       "      <th>Month</th>\n",
       "      <th>Event Date and Time</th>\n",
       "      <th>Restoration Date and Time</th>\n",
       "      <th>Duration</th>\n",
       "      <th>Utility/Power Pool</th>\n",
       "      <th>NERC Region</th>\n",
       "      <th>Area Affected</th>\n",
       "      <th>Type of Disturbance</th>\n",
       "      <th>Loss (megawatts)</th>\n",
       "      <th>Number of Customers Affected</th>\n",
       "    </tr>\n",
       "  </thead>\n",
       "  <tbody>\n",
       "    <tr>\n",
       "      <th>0</th>\n",
       "      <td>2013</td>\n",
       "      <td>1.0</td>\n",
       "      <td>01/17/2013  6:07 PM</td>\n",
       "      <td>01/20/2013  7:30 PM</td>\n",
       "      <td>73 Hours, 23 Minutes</td>\n",
       "      <td>American Electric Power (AEP)</td>\n",
       "      <td>RFC</td>\n",
       "      <td>Southwest Virginia, Southern West Virginia</td>\n",
       "      <td>Severe Weather - Winter Storm</td>\n",
       "      <td>Unknown</td>\n",
       "      <td>127000</td>\n",
       "    </tr>\n",
       "    <tr>\n",
       "      <th>1</th>\n",
       "      <td>2013</td>\n",
       "      <td>1.0</td>\n",
       "      <td>01/17/2013  7:02 PM</td>\n",
       "      <td>01/19/2013  6:00 PM</td>\n",
       "      <td>46 Hours, 58 Minutes</td>\n",
       "      <td>Tennessee Valley Authority</td>\n",
       "      <td>SERC</td>\n",
       "      <td>Northeast Tennessee</td>\n",
       "      <td>Severe Weather - Winter Storm</td>\n",
       "      <td>Unknown</td>\n",
       "      <td>80000</td>\n",
       "    </tr>\n",
       "    <tr>\n",
       "      <th>2</th>\n",
       "      <td>2013</td>\n",
       "      <td>1.0</td>\n",
       "      <td>01/17/2013  8:35 PM</td>\n",
       "      <td>01/17/2013  9:20 PM</td>\n",
       "      <td>0 Hours, 45 Minutes</td>\n",
       "      <td>North Carolina Eastern M P A</td>\n",
       "      <td>SERC</td>\n",
       "      <td>Elizabeth City, North Carolina</td>\n",
       "      <td>Distribution Interruption</td>\n",
       "      <td>40</td>\n",
       "      <td>12000</td>\n",
       "    </tr>\n",
       "    <tr>\n",
       "      <th>3</th>\n",
       "      <td>2013</td>\n",
       "      <td>1.0</td>\n",
       "      <td>01/20/2013  3:30 AM</td>\n",
       "      <td>01/23/2013  6:15 AM</td>\n",
       "      <td>74 Hours, 45 Minutes</td>\n",
       "      <td>Detroit Edison Co</td>\n",
       "      <td>RFC</td>\n",
       "      <td>Southeastern Michigan</td>\n",
       "      <td>Severe Weather - Wind Storm</td>\n",
       "      <td>Unknown</td>\n",
       "      <td>146500</td>\n",
       "    </tr>\n",
       "    <tr>\n",
       "      <th>4</th>\n",
       "      <td>2013</td>\n",
       "      <td>1.0</td>\n",
       "      <td>01/31/2013  3:05 AM</td>\n",
       "      <td>01/31/2013  4:48 AM</td>\n",
       "      <td>1 Hours, 43 Minutes</td>\n",
       "      <td>Dominion Virginia Power</td>\n",
       "      <td>SERC</td>\n",
       "      <td>Central and Eastern Virginia</td>\n",
       "      <td>Severe Weather - Wind Storm</td>\n",
       "      <td>188</td>\n",
       "      <td>119000</td>\n",
       "    </tr>\n",
       "  </tbody>\n",
       "</table>\n",
       "</div>"
      ],
      "text/plain": [
       "   Year  Month  Event Date and Time Restoration Date and Time  \\\n",
       "0  2013    1.0  01/17/2013  6:07 PM       01/20/2013  7:30 PM   \n",
       "1  2013    1.0  01/17/2013  7:02 PM       01/19/2013  6:00 PM   \n",
       "2  2013    1.0  01/17/2013  8:35 PM       01/17/2013  9:20 PM   \n",
       "3  2013    1.0  01/20/2013  3:30 AM       01/23/2013  6:15 AM   \n",
       "4  2013    1.0  01/31/2013  3:05 AM       01/31/2013  4:48 AM   \n",
       "\n",
       "               Duration             Utility/Power Pool NERC Region  \\\n",
       "0  73 Hours, 23 Minutes  American Electric Power (AEP)         RFC   \n",
       "1  46 Hours, 58 Minutes     Tennessee Valley Authority        SERC   \n",
       "2   0 Hours, 45 Minutes   North Carolina Eastern M P A        SERC   \n",
       "3  74 Hours, 45 Minutes              Detroit Edison Co         RFC   \n",
       "4   1 Hours, 43 Minutes        Dominion Virginia Power        SERC   \n",
       "\n",
       "                                Area Affected            Type of Disturbance  \\\n",
       "0  Southwest Virginia, Southern West Virginia  Severe Weather - Winter Storm   \n",
       "1                         Northeast Tennessee  Severe Weather - Winter Storm   \n",
       "2              Elizabeth City, North Carolina      Distribution Interruption   \n",
       "3                       Southeastern Michigan    Severe Weather - Wind Storm   \n",
       "4                Central and Eastern Virginia    Severe Weather - Wind Storm   \n",
       "\n",
       "  Loss (megawatts) Number of Customers Affected  \n",
       "0          Unknown                       127000  \n",
       "1          Unknown                        80000  \n",
       "2               40                        12000  \n",
       "3          Unknown                       146500  \n",
       "4              188                       119000  "
      ]
     },
     "execution_count": 5,
     "metadata": {},
     "output_type": "execute_result"
    }
   ],
   "source": [
    "df.head()"
   ]
  },
  {
   "cell_type": "code",
   "execution_count": 6,
   "metadata": {
    "ExecuteTime": {
     "end_time": "2019-07-19T18:25:43.546171Z",
     "start_time": "2019-07-19T18:25:43.478119Z"
    }
   },
   "outputs": [],
   "source": [
    "df2 = pd.read_excel(\"disturbance/epm_b2_2012.xlsx\", skiprows=1)"
   ]
  },
  {
   "cell_type": "code",
   "execution_count": 8,
   "metadata": {
    "ExecuteTime": {
     "end_time": "2019-07-19T18:27:03.638481Z",
     "start_time": "2019-07-19T18:27:03.633111Z"
    }
   },
   "outputs": [],
   "source": [
    "def diff_col(df1, df2):\n",
    "    for col in df1.columns:\n",
    "        if col not in df2: print(col)\n",
    "    print(\"\")\n",
    "    for col in df2.columns:\n",
    "        if col not in df1: print(col)"
   ]
  },
  {
   "cell_type": "code",
   "execution_count": 10,
   "metadata": {
    "ExecuteTime": {
     "end_time": "2019-07-19T18:27:16.333375Z",
     "start_time": "2019-07-19T18:27:16.325678Z"
    }
   },
   "outputs": [
    {
     "name": "stdout",
     "output_type": "stream",
     "text": [
      "\n"
     ]
    }
   ],
   "source": [
    "diff_col(df,df2)"
   ]
  },
  {
   "cell_type": "code",
   "execution_count": 19,
   "metadata": {
    "ExecuteTime": {
     "end_time": "2019-07-19T18:28:35.711903Z",
     "start_time": "2019-07-19T18:28:35.701724Z"
    }
   },
   "outputs": [],
   "source": [
    "df = df.append(df2)"
   ]
  },
  {
   "cell_type": "code",
   "execution_count": 16,
   "metadata": {
    "ExecuteTime": {
     "end_time": "2019-07-19T18:28:22.016118Z",
     "start_time": "2019-07-19T18:28:22.003529Z"
    }
   },
   "outputs": [
    {
     "data": {
      "text/plain": [
       "200"
      ]
     },
     "execution_count": 16,
     "metadata": {},
     "output_type": "execute_result"
    }
   ],
   "source": [
    "len(df)"
   ]
  },
  {
   "cell_type": "code",
   "execution_count": 17,
   "metadata": {
    "ExecuteTime": {
     "end_time": "2019-07-19T18:28:23.925100Z",
     "start_time": "2019-07-19T18:28:23.897151Z"
    }
   },
   "outputs": [
    {
     "data": {
      "text/html": [
       "<div>\n",
       "<style scoped>\n",
       "    .dataframe tbody tr th:only-of-type {\n",
       "        vertical-align: middle;\n",
       "    }\n",
       "\n",
       "    .dataframe tbody tr th {\n",
       "        vertical-align: top;\n",
       "    }\n",
       "\n",
       "    .dataframe thead th {\n",
       "        text-align: right;\n",
       "    }\n",
       "</style>\n",
       "<table border=\"1\" class=\"dataframe\">\n",
       "  <thead>\n",
       "    <tr style=\"text-align: right;\">\n",
       "      <th></th>\n",
       "      <th>Year</th>\n",
       "      <th>Month</th>\n",
       "      <th>Event Date and Time</th>\n",
       "      <th>Restoration Date and Time</th>\n",
       "      <th>Duration</th>\n",
       "      <th>Utility/Power Pool</th>\n",
       "      <th>NERC Region</th>\n",
       "      <th>Area Affected</th>\n",
       "      <th>Type of Disturbance</th>\n",
       "      <th>Loss (megawatts)</th>\n",
       "      <th>Number of Customers Affected</th>\n",
       "    </tr>\n",
       "  </thead>\n",
       "  <tbody>\n",
       "    <tr>\n",
       "      <th>0</th>\n",
       "      <td>2013</td>\n",
       "      <td>1.0</td>\n",
       "      <td>01/17/2013  6:07 PM</td>\n",
       "      <td>01/20/2013  7:30 PM</td>\n",
       "      <td>73 Hours, 23 Minutes</td>\n",
       "      <td>American Electric Power (AEP)</td>\n",
       "      <td>RFC</td>\n",
       "      <td>Southwest Virginia, Southern West Virginia</td>\n",
       "      <td>Severe Weather - Winter Storm</td>\n",
       "      <td>Unknown</td>\n",
       "      <td>127000</td>\n",
       "    </tr>\n",
       "    <tr>\n",
       "      <th>1</th>\n",
       "      <td>2013</td>\n",
       "      <td>1.0</td>\n",
       "      <td>01/17/2013  7:02 PM</td>\n",
       "      <td>01/19/2013  6:00 PM</td>\n",
       "      <td>46 Hours, 58 Minutes</td>\n",
       "      <td>Tennessee Valley Authority</td>\n",
       "      <td>SERC</td>\n",
       "      <td>Northeast Tennessee</td>\n",
       "      <td>Severe Weather - Winter Storm</td>\n",
       "      <td>Unknown</td>\n",
       "      <td>80000</td>\n",
       "    </tr>\n",
       "    <tr>\n",
       "      <th>2</th>\n",
       "      <td>2013</td>\n",
       "      <td>1.0</td>\n",
       "      <td>01/17/2013  8:35 PM</td>\n",
       "      <td>01/17/2013  9:20 PM</td>\n",
       "      <td>0 Hours, 45 Minutes</td>\n",
       "      <td>North Carolina Eastern M P A</td>\n",
       "      <td>SERC</td>\n",
       "      <td>Elizabeth City, North Carolina</td>\n",
       "      <td>Distribution Interruption</td>\n",
       "      <td>40</td>\n",
       "      <td>12000</td>\n",
       "    </tr>\n",
       "    <tr>\n",
       "      <th>3</th>\n",
       "      <td>2013</td>\n",
       "      <td>1.0</td>\n",
       "      <td>01/20/2013  3:30 AM</td>\n",
       "      <td>01/23/2013  6:15 AM</td>\n",
       "      <td>74 Hours, 45 Minutes</td>\n",
       "      <td>Detroit Edison Co</td>\n",
       "      <td>RFC</td>\n",
       "      <td>Southeastern Michigan</td>\n",
       "      <td>Severe Weather - Wind Storm</td>\n",
       "      <td>Unknown</td>\n",
       "      <td>146500</td>\n",
       "    </tr>\n",
       "    <tr>\n",
       "      <th>4</th>\n",
       "      <td>2013</td>\n",
       "      <td>1.0</td>\n",
       "      <td>01/31/2013  3:05 AM</td>\n",
       "      <td>01/31/2013  4:48 AM</td>\n",
       "      <td>1 Hours, 43 Minutes</td>\n",
       "      <td>Dominion Virginia Power</td>\n",
       "      <td>SERC</td>\n",
       "      <td>Central and Eastern Virginia</td>\n",
       "      <td>Severe Weather - Wind Storm</td>\n",
       "      <td>188</td>\n",
       "      <td>119000</td>\n",
       "    </tr>\n",
       "  </tbody>\n",
       "</table>\n",
       "</div>"
      ],
      "text/plain": [
       "   Year  Month  Event Date and Time Restoration Date and Time  \\\n",
       "0  2013    1.0  01/17/2013  6:07 PM       01/20/2013  7:30 PM   \n",
       "1  2013    1.0  01/17/2013  7:02 PM       01/19/2013  6:00 PM   \n",
       "2  2013    1.0  01/17/2013  8:35 PM       01/17/2013  9:20 PM   \n",
       "3  2013    1.0  01/20/2013  3:30 AM       01/23/2013  6:15 AM   \n",
       "4  2013    1.0  01/31/2013  3:05 AM       01/31/2013  4:48 AM   \n",
       "\n",
       "               Duration             Utility/Power Pool NERC Region  \\\n",
       "0  73 Hours, 23 Minutes  American Electric Power (AEP)         RFC   \n",
       "1  46 Hours, 58 Minutes     Tennessee Valley Authority        SERC   \n",
       "2   0 Hours, 45 Minutes   North Carolina Eastern M P A        SERC   \n",
       "3  74 Hours, 45 Minutes              Detroit Edison Co         RFC   \n",
       "4   1 Hours, 43 Minutes        Dominion Virginia Power        SERC   \n",
       "\n",
       "                                Area Affected            Type of Disturbance  \\\n",
       "0  Southwest Virginia, Southern West Virginia  Severe Weather - Winter Storm   \n",
       "1                         Northeast Tennessee  Severe Weather - Winter Storm   \n",
       "2              Elizabeth City, North Carolina      Distribution Interruption   \n",
       "3                       Southeastern Michigan    Severe Weather - Wind Storm   \n",
       "4                Central and Eastern Virginia    Severe Weather - Wind Storm   \n",
       "\n",
       "  Loss (megawatts) Number of Customers Affected  \n",
       "0          Unknown                       127000  \n",
       "1          Unknown                        80000  \n",
       "2               40                        12000  \n",
       "3          Unknown                       146500  \n",
       "4              188                       119000  "
      ]
     },
     "execution_count": 17,
     "metadata": {},
     "output_type": "execute_result"
    }
   ],
   "source": [
    "df.head()"
   ]
  },
  {
   "cell_type": "code",
   "execution_count": 20,
   "metadata": {
    "ExecuteTime": {
     "end_time": "2019-07-19T18:28:51.468300Z",
     "start_time": "2019-07-19T18:28:51.390884Z"
    }
   },
   "outputs": [],
   "source": [
    "df2 = pd.read_excel(\"disturbance/epm_b2_2011.xlsx\", skiprows=1)"
   ]
  },
  {
   "cell_type": "code",
   "execution_count": 21,
   "metadata": {
    "ExecuteTime": {
     "end_time": "2019-07-19T18:28:58.759374Z",
     "start_time": "2019-07-19T18:28:58.750993Z"
    }
   },
   "outputs": [
    {
     "name": "stdout",
     "output_type": "stream",
     "text": [
      "\n"
     ]
    }
   ],
   "source": [
    "diff_col(df,df2)"
   ]
  },
  {
   "cell_type": "code",
   "execution_count": 22,
   "metadata": {
    "ExecuteTime": {
     "end_time": "2019-07-19T18:29:07.671002Z",
     "start_time": "2019-07-19T18:29:07.663358Z"
    }
   },
   "outputs": [],
   "source": [
    "df = df.append(df2)"
   ]
  },
  {
   "cell_type": "code",
   "execution_count": 24,
   "metadata": {
    "ExecuteTime": {
     "end_time": "2019-07-19T18:29:46.479395Z",
     "start_time": "2019-07-19T18:29:46.406844Z"
    }
   },
   "outputs": [],
   "source": [
    "df2 = pd.read_excel(\"disturbance/epmxlfileb2_2010.xls\", skiprows=1)"
   ]
  },
  {
   "cell_type": "code",
   "execution_count": 25,
   "metadata": {
    "ExecuteTime": {
     "end_time": "2019-07-19T18:29:51.612416Z",
     "start_time": "2019-07-19T18:29:51.589479Z"
    }
   },
   "outputs": [
    {
     "data": {
      "text/html": [
       "<div>\n",
       "<style scoped>\n",
       "    .dataframe tbody tr th:only-of-type {\n",
       "        vertical-align: middle;\n",
       "    }\n",
       "\n",
       "    .dataframe tbody tr th {\n",
       "        vertical-align: top;\n",
       "    }\n",
       "\n",
       "    .dataframe thead th {\n",
       "        text-align: right;\n",
       "    }\n",
       "</style>\n",
       "<table border=\"1\" class=\"dataframe\">\n",
       "  <thead>\n",
       "    <tr style=\"text-align: right;\">\n",
       "      <th></th>\n",
       "      <th>Date</th>\n",
       "      <th>Utility/Power Pool (NERC Region)</th>\n",
       "      <th>Time</th>\n",
       "      <th>Area Affected</th>\n",
       "      <th>Type of Disturbance</th>\n",
       "      <th>Loss (megawatts)</th>\n",
       "      <th>Number of Customers Affected 1</th>\n",
       "      <th>Restoration</th>\n",
       "    </tr>\n",
       "  </thead>\n",
       "  <tbody>\n",
       "    <tr>\n",
       "      <th>0</th>\n",
       "      <td>January</td>\n",
       "      <td>NaN</td>\n",
       "      <td>NaN</td>\n",
       "      <td>NaN</td>\n",
       "      <td>NaN</td>\n",
       "      <td>NaN</td>\n",
       "      <td>NaN</td>\n",
       "      <td>NaN</td>\n",
       "    </tr>\n",
       "    <tr>\n",
       "      <th>1</th>\n",
       "      <td>2010-01-06 00:00:00</td>\n",
       "      <td>Southwest Louisiana Electric Membership Corpor...</td>\n",
       "      <td>6:00 p.m.</td>\n",
       "      <td>Southwest Louisiana</td>\n",
       "      <td>Made Public Appeals</td>\n",
       "      <td>NaN</td>\n",
       "      <td>NaN</td>\n",
       "      <td>6:00 p.m. January 08</td>\n",
       "    </tr>\n",
       "    <tr>\n",
       "      <th>2</th>\n",
       "      <td>2010-01-11 00:00:00</td>\n",
       "      <td>Progress Energy Florida (FRCC/SERC)</td>\n",
       "      <td>3:45 a.m.</td>\n",
       "      <td>Northern and Central Florida</td>\n",
       "      <td>Interruptible Load Shed/Made Public Appeals</td>\n",
       "      <td>NaN</td>\n",
       "      <td>NaN</td>\n",
       "      <td>9:57 a.m. January 11</td>\n",
       "    </tr>\n",
       "    <tr>\n",
       "      <th>3</th>\n",
       "      <td>2010-01-18 00:00:00</td>\n",
       "      <td>Pacific Gas and Electric Company (WECC)</td>\n",
       "      <td>11:30 a.m.</td>\n",
       "      <td>Northern and Central California</td>\n",
       "      <td>Severe Storm</td>\n",
       "      <td>290</td>\n",
       "      <td>1700000</td>\n",
       "      <td>8:00 a.m. January 28</td>\n",
       "    </tr>\n",
       "    <tr>\n",
       "      <th>4</th>\n",
       "      <td>2010-01-19 00:00:00</td>\n",
       "      <td>California ISO (WECC)</td>\n",
       "      <td>7:30 a.m.</td>\n",
       "      <td>San Francisco</td>\n",
       "      <td>Severe Storm</td>\n",
       "      <td>300</td>\n",
       "      <td>30000</td>\n",
       "      <td>12:24 p.m. January 19</td>\n",
       "    </tr>\n",
       "  </tbody>\n",
       "</table>\n",
       "</div>"
      ],
      "text/plain": [
       "                  Date                   Utility/Power Pool (NERC Region)  \\\n",
       "0            January                                                  NaN   \n",
       "1  2010-01-06 00:00:00  Southwest Louisiana Electric Membership Corpor...   \n",
       "2  2010-01-11 00:00:00                Progress Energy Florida (FRCC/SERC)   \n",
       "3  2010-01-18 00:00:00            Pacific Gas and Electric Company (WECC)   \n",
       "4  2010-01-19 00:00:00                              California ISO (WECC)   \n",
       "\n",
       "         Time                    Area Affected  \\\n",
       "0         NaN                              NaN   \n",
       "1   6:00 p.m.              Southwest Louisiana   \n",
       "2   3:45 a.m.     Northern and Central Florida   \n",
       "3  11:30 a.m.  Northern and Central California   \n",
       "4   7:30 a.m.                    San Francisco   \n",
       "\n",
       "                           Type of Disturbance Loss (megawatts)  \\\n",
       "0                                          NaN              NaN   \n",
       "1                          Made Public Appeals              NaN   \n",
       "2  Interruptible Load Shed/Made Public Appeals              NaN   \n",
       "3                                 Severe Storm              290   \n",
       "4                                 Severe Storm              300   \n",
       "\n",
       "  Number of Customers Affected 1            Restoration  \n",
       "0                            NaN                    NaN  \n",
       "1                            NaN   6:00 p.m. January 08  \n",
       "2                            NaN   9:57 a.m. January 11  \n",
       "3                        1700000   8:00 a.m. January 28  \n",
       "4                          30000  12:24 p.m. January 19  "
      ]
     },
     "execution_count": 25,
     "metadata": {},
     "output_type": "execute_result"
    }
   ],
   "source": [
    "df2.head()"
   ]
  },
  {
   "cell_type": "code",
   "execution_count": 64,
   "metadata": {
    "ExecuteTime": {
     "end_time": "2019-07-19T18:44:20.250174Z",
     "start_time": "2019-07-19T18:44:20.243703Z"
    }
   },
   "outputs": [
    {
     "name": "stdout",
     "output_type": "stream",
     "text": [
      "\n",
      "Time\n"
     ]
    }
   ],
   "source": [
    "diff_col(df,df2)"
   ]
  },
  {
   "cell_type": "code",
   "execution_count": 29,
   "metadata": {
    "ExecuteTime": {
     "end_time": "2019-07-19T18:33:10.057638Z",
     "start_time": "2019-07-19T18:33:10.050937Z"
    }
   },
   "outputs": [],
   "source": [
    "df2 = df2[df2[\"Utility/Power Pool (NERC Region)\"].notna()]"
   ]
  },
  {
   "cell_type": "code",
   "execution_count": 41,
   "metadata": {
    "ExecuteTime": {
     "end_time": "2019-07-19T18:36:15.850447Z",
     "start_time": "2019-07-19T18:36:15.743091Z"
    }
   },
   "outputs": [],
   "source": [
    "df2[\"NERC Region\"] = df2[\"Utility/Power Pool (NERC Region)\"]"
   ]
  },
  {
   "cell_type": "code",
   "execution_count": 42,
   "metadata": {
    "ExecuteTime": {
     "end_time": "2019-07-19T18:36:31.512204Z",
     "start_time": "2019-07-19T18:36:31.500927Z"
    }
   },
   "outputs": [],
   "source": [
    "df2 = df2.drop(columns=\"Utility/Power Pool (NERC Region)\")"
   ]
  },
  {
   "cell_type": "code",
   "execution_count": 43,
   "metadata": {
    "ExecuteTime": {
     "end_time": "2019-07-19T18:37:26.539110Z",
     "start_time": "2019-07-19T18:37:26.528228Z"
    }
   },
   "outputs": [],
   "source": [
    "df2[\"Restoration Date and Time\"] = df2[\"Restoration\"]"
   ]
  },
  {
   "cell_type": "code",
   "execution_count": 44,
   "metadata": {
    "ExecuteTime": {
     "end_time": "2019-07-19T18:37:35.567768Z",
     "start_time": "2019-07-19T18:37:35.559003Z"
    }
   },
   "outputs": [],
   "source": [
    "df2 = df2.drop(columns=\"Restoration\")"
   ]
  },
  {
   "cell_type": "code",
   "execution_count": 45,
   "metadata": {
    "ExecuteTime": {
     "end_time": "2019-07-19T18:37:59.707817Z",
     "start_time": "2019-07-19T18:37:59.691106Z"
    }
   },
   "outputs": [],
   "source": [
    "df2[\"Number of Customers Affected\"] = df2[\"Number of Customers Affected 1\"]"
   ]
  },
  {
   "cell_type": "code",
   "execution_count": 46,
   "metadata": {
    "ExecuteTime": {
     "end_time": "2019-07-19T18:38:11.900043Z",
     "start_time": "2019-07-19T18:38:11.893274Z"
    }
   },
   "outputs": [],
   "source": [
    "df2 = df2.drop(columns=\"Number of Customers Affected 1\")"
   ]
  },
  {
   "cell_type": "code",
   "execution_count": 55,
   "metadata": {
    "ExecuteTime": {
     "end_time": "2019-07-19T18:41:37.764544Z",
     "start_time": "2019-07-19T18:41:37.738085Z"
    }
   },
   "outputs": [
    {
     "data": {
      "text/html": [
       "<div>\n",
       "<style scoped>\n",
       "    .dataframe tbody tr th:only-of-type {\n",
       "        vertical-align: middle;\n",
       "    }\n",
       "\n",
       "    .dataframe tbody tr th {\n",
       "        vertical-align: top;\n",
       "    }\n",
       "\n",
       "    .dataframe thead th {\n",
       "        text-align: right;\n",
       "    }\n",
       "</style>\n",
       "<table border=\"1\" class=\"dataframe\">\n",
       "  <thead>\n",
       "    <tr style=\"text-align: right;\">\n",
       "      <th></th>\n",
       "      <th>Date</th>\n",
       "      <th>Time</th>\n",
       "      <th>Area Affected</th>\n",
       "      <th>Type of Disturbance</th>\n",
       "      <th>Loss (megawatts)</th>\n",
       "      <th>NERC Region</th>\n",
       "      <th>Restoration Date and Time</th>\n",
       "      <th>Number of Customers Affected</th>\n",
       "      <th>Utility/Power Pool</th>\n",
       "      <th>NERC Region2</th>\n",
       "    </tr>\n",
       "  </thead>\n",
       "  <tbody>\n",
       "    <tr>\n",
       "      <th>1</th>\n",
       "      <td>2010-01-06 00:00:00</td>\n",
       "      <td>6:00 p.m.</td>\n",
       "      <td>Southwest Louisiana</td>\n",
       "      <td>Made Public Appeals</td>\n",
       "      <td>NaN</td>\n",
       "      <td>Southwest Louisiana Electric Membership Corpor...</td>\n",
       "      <td>6:00 p.m. January 08</td>\n",
       "      <td>NaN</td>\n",
       "      <td>Southwest Louisiana Electric Membership Corpor...</td>\n",
       "      <td>SERC</td>\n",
       "    </tr>\n",
       "    <tr>\n",
       "      <th>2</th>\n",
       "      <td>2010-01-11 00:00:00</td>\n",
       "      <td>3:45 a.m.</td>\n",
       "      <td>Northern and Central Florida</td>\n",
       "      <td>Interruptible Load Shed/Made Public Appeals</td>\n",
       "      <td>NaN</td>\n",
       "      <td>Progress Energy Florida (FRCC/SERC)</td>\n",
       "      <td>9:57 a.m. January 11</td>\n",
       "      <td>NaN</td>\n",
       "      <td>Progress Energy Florida</td>\n",
       "      <td>FRCC/SERC</td>\n",
       "    </tr>\n",
       "    <tr>\n",
       "      <th>3</th>\n",
       "      <td>2010-01-18 00:00:00</td>\n",
       "      <td>11:30 a.m.</td>\n",
       "      <td>Northern and Central California</td>\n",
       "      <td>Severe Storm</td>\n",
       "      <td>290</td>\n",
       "      <td>Pacific Gas and Electric Company (WECC)</td>\n",
       "      <td>8:00 a.m. January 28</td>\n",
       "      <td>1700000</td>\n",
       "      <td>Pacific Gas and Electric Company</td>\n",
       "      <td>WECC</td>\n",
       "    </tr>\n",
       "    <tr>\n",
       "      <th>4</th>\n",
       "      <td>2010-01-19 00:00:00</td>\n",
       "      <td>7:30 a.m.</td>\n",
       "      <td>San Francisco</td>\n",
       "      <td>Severe Storm</td>\n",
       "      <td>300</td>\n",
       "      <td>California ISO (WECC)</td>\n",
       "      <td>12:24 p.m. January 19</td>\n",
       "      <td>30000</td>\n",
       "      <td>California ISO</td>\n",
       "      <td>WECC</td>\n",
       "    </tr>\n",
       "    <tr>\n",
       "      <th>5</th>\n",
       "      <td>2010-01-19 00:00:00</td>\n",
       "      <td>2:30 p.m.</td>\n",
       "      <td>San Diego and Orange Counties</td>\n",
       "      <td>Severe Storm</td>\n",
       "      <td>2650</td>\n",
       "      <td>San Diego Gas &amp; Electric Company (WECC)</td>\n",
       "      <td>3:00 p.m. January 20</td>\n",
       "      <td>50000</td>\n",
       "      <td>San Diego Gas &amp; Electric Company</td>\n",
       "      <td>WECC</td>\n",
       "    </tr>\n",
       "  </tbody>\n",
       "</table>\n",
       "</div>"
      ],
      "text/plain": [
       "                  Date        Time                    Area Affected  \\\n",
       "1  2010-01-06 00:00:00   6:00 p.m.              Southwest Louisiana   \n",
       "2  2010-01-11 00:00:00   3:45 a.m.     Northern and Central Florida   \n",
       "3  2010-01-18 00:00:00  11:30 a.m.  Northern and Central California   \n",
       "4  2010-01-19 00:00:00   7:30 a.m.                    San Francisco   \n",
       "5  2010-01-19 00:00:00   2:30 p.m.    San Diego and Orange Counties   \n",
       "\n",
       "                           Type of Disturbance Loss (megawatts)  \\\n",
       "1                          Made Public Appeals              NaN   \n",
       "2  Interruptible Load Shed/Made Public Appeals              NaN   \n",
       "3                                 Severe Storm              290   \n",
       "4                                 Severe Storm              300   \n",
       "5                                 Severe Storm             2650   \n",
       "\n",
       "                                         NERC Region  \\\n",
       "1  Southwest Louisiana Electric Membership Corpor...   \n",
       "2                Progress Energy Florida (FRCC/SERC)   \n",
       "3            Pacific Gas and Electric Company (WECC)   \n",
       "4                              California ISO (WECC)   \n",
       "5            San Diego Gas & Electric Company (WECC)   \n",
       "\n",
       "  Restoration Date and Time Number of Customers Affected  \\\n",
       "1      6:00 p.m. January 08                          NaN   \n",
       "2      9:57 a.m. January 11                          NaN   \n",
       "3      8:00 a.m. January 28                      1700000   \n",
       "4     12:24 p.m. January 19                        30000   \n",
       "5      3:00 p.m. January 20                        50000   \n",
       "\n",
       "                                  Utility/Power Pool NERC Region2  \n",
       "1  Southwest Louisiana Electric Membership Corpor...         SERC  \n",
       "2                           Progress Energy Florida     FRCC/SERC  \n",
       "3                  Pacific Gas and Electric Company          WECC  \n",
       "4                                    California ISO          WECC  \n",
       "5                  San Diego Gas & Electric Company          WECC  "
      ]
     },
     "execution_count": 55,
     "metadata": {},
     "output_type": "execute_result"
    }
   ],
   "source": [
    "df2.head()"
   ]
  },
  {
   "cell_type": "code",
   "execution_count": 50,
   "metadata": {
    "ExecuteTime": {
     "end_time": "2019-07-19T18:40:39.372996Z",
     "start_time": "2019-07-19T18:40:39.363869Z"
    }
   },
   "outputs": [],
   "source": [
    "df2[\"Utility/Power Pool\"] = df2[\"NERC Region\"].apply(lambda x: x[0:x.find(\"(\")])"
   ]
  },
  {
   "cell_type": "code",
   "execution_count": 56,
   "metadata": {
    "ExecuteTime": {
     "end_time": "2019-07-19T18:41:43.925862Z",
     "start_time": "2019-07-19T18:41:43.919952Z"
    }
   },
   "outputs": [],
   "source": [
    "df2[\"NERC Region\"] = df2[\"NERC Region\"].apply(lambda x: x[x.find(\"(\") + 1:x.find(\")\")])"
   ]
  },
  {
   "cell_type": "code",
   "execution_count": 58,
   "metadata": {
    "ExecuteTime": {
     "end_time": "2019-07-19T18:42:03.055019Z",
     "start_time": "2019-07-19T18:42:03.049332Z"
    }
   },
   "outputs": [],
   "source": [
    "df2 = df2.drop(columns=\"NERC Region2\")"
   ]
  },
  {
   "cell_type": "code",
   "execution_count": 60,
   "metadata": {
    "ExecuteTime": {
     "end_time": "2019-07-19T18:43:32.132933Z",
     "start_time": "2019-07-19T18:43:32.123398Z"
    }
   },
   "outputs": [],
   "source": [
    "df = df.drop(columns=[\"Year\", \"Month\", \"Duration\"])"
   ]
  },
  {
   "cell_type": "code",
   "execution_count": 61,
   "metadata": {
    "ExecuteTime": {
     "end_time": "2019-07-19T18:44:00.550466Z",
     "start_time": "2019-07-19T18:44:00.545083Z"
    }
   },
   "outputs": [],
   "source": [
    "df[\"Date\"] = df[\"Event Date and Time\"]"
   ]
  },
  {
   "cell_type": "code",
   "execution_count": 63,
   "metadata": {
    "ExecuteTime": {
     "end_time": "2019-07-19T18:44:17.032399Z",
     "start_time": "2019-07-19T18:44:17.020826Z"
    }
   },
   "outputs": [],
   "source": [
    "df = df.drop(columns=\"Event Date and Time\")"
   ]
  },
  {
   "cell_type": "code",
   "execution_count": 65,
   "metadata": {
    "ExecuteTime": {
     "end_time": "2019-07-19T18:44:40.754496Z",
     "start_time": "2019-07-19T18:44:40.747243Z"
    }
   },
   "outputs": [],
   "source": [
    "df2[\"Time\"] = \"\""
   ]
  },
  {
   "cell_type": "code",
   "execution_count": 66,
   "metadata": {
    "ExecuteTime": {
     "end_time": "2019-07-19T18:44:49.040445Z",
     "start_time": "2019-07-19T18:44:49.010084Z"
    }
   },
   "outputs": [
    {
     "name": "stderr",
     "output_type": "stream",
     "text": [
      "/Users/lhinkesjones/anaconda3/lib/python3.7/site-packages/pandas/core/frame.py:6692: FutureWarning: Sorting because non-concatenation axis is not aligned. A future version\n",
      "of pandas will change to not sort by default.\n",
      "\n",
      "To accept the future behavior, pass 'sort=False'.\n",
      "\n",
      "To retain the current behavior and silence the warning, pass 'sort=True'.\n",
      "\n",
      "  sort=sort)\n"
     ]
    }
   ],
   "source": [
    "df = df.append(df2)"
   ]
  },
  {
   "cell_type": "code",
   "execution_count": 67,
   "metadata": {
    "ExecuteTime": {
     "end_time": "2019-07-19T18:45:13.349757Z",
     "start_time": "2019-07-19T18:45:13.307073Z"
    }
   },
   "outputs": [],
   "source": [
    "df2 = pd.read_excel(\"disturbance/b2_epm_2009.xls\", skiprows=1)"
   ]
  },
  {
   "cell_type": "code",
   "execution_count": 70,
   "metadata": {
    "ExecuteTime": {
     "end_time": "2019-07-19T18:45:47.682346Z",
     "start_time": "2019-07-19T18:45:47.649796Z"
    }
   },
   "outputs": [
    {
     "data": {
      "text/html": [
       "<div>\n",
       "<style scoped>\n",
       "    .dataframe tbody tr th:only-of-type {\n",
       "        vertical-align: middle;\n",
       "    }\n",
       "\n",
       "    .dataframe tbody tr th {\n",
       "        vertical-align: top;\n",
       "    }\n",
       "\n",
       "    .dataframe thead th {\n",
       "        text-align: right;\n",
       "    }\n",
       "</style>\n",
       "<table border=\"1\" class=\"dataframe\">\n",
       "  <thead>\n",
       "    <tr style=\"text-align: right;\">\n",
       "      <th></th>\n",
       "      <th>Date</th>\n",
       "      <th>Utility/Power Pool (NERC Region)</th>\n",
       "      <th>Time</th>\n",
       "      <th>Area Affected</th>\n",
       "      <th>Type of Disturbance</th>\n",
       "      <th>Loss (megawatts)</th>\n",
       "      <th>Number of Customers Affected 1</th>\n",
       "      <th>Restoration</th>\n",
       "    </tr>\n",
       "  </thead>\n",
       "  <tbody>\n",
       "    <tr>\n",
       "      <th>2</th>\n",
       "      <td>2009-01-05 00:00:00</td>\n",
       "      <td>Oncor Electric Delivery Company, LLC (TRE)</td>\n",
       "      <td>5:00 a.m.</td>\n",
       "      <td>North and Central Texas</td>\n",
       "      <td>Severe Storm</td>\n",
       "      <td>NaN</td>\n",
       "      <td>157019</td>\n",
       "      <td>6:00 p.m. January 06</td>\n",
       "    </tr>\n",
       "    <tr>\n",
       "      <th>3</th>\n",
       "      <td>2009-01-07 00:00:00</td>\n",
       "      <td>Duke Energy Carolinas (SERC)</td>\n",
       "      <td>5:00 p.m.</td>\n",
       "      <td>Piedmont of North and South Carolina</td>\n",
       "      <td>High Winds</td>\n",
       "      <td>300</td>\n",
       "      <td>70000</td>\n",
       "      <td>8:05 p.m. January 07</td>\n",
       "    </tr>\n",
       "    <tr>\n",
       "      <th>4</th>\n",
       "      <td>2009-01-08 00:00:00</td>\n",
       "      <td>Florida Keys Electric Cooperative Assoc. Inc. ...</td>\n",
       "      <td>11:46 p.m.</td>\n",
       "      <td>Florida Keys</td>\n",
       "      <td>Transmission Equipment Failure</td>\n",
       "      <td>55</td>\n",
       "      <td>31000</td>\n",
       "      <td>11:25 a.m. January 09</td>\n",
       "    </tr>\n",
       "    <tr>\n",
       "      <th>5</th>\n",
       "      <td>2009-01-17 00:00:00</td>\n",
       "      <td>State Line Energy, LLC (RFC)</td>\n",
       "      <td>8:00 a.m.</td>\n",
       "      <td>PJM, Indiana</td>\n",
       "      <td>Fuel Supply Deficiency</td>\n",
       "      <td>NaN</td>\n",
       "      <td>NaN</td>\n",
       "      <td>8:00 a.m. January 25</td>\n",
       "    </tr>\n",
       "    <tr>\n",
       "      <th>6</th>\n",
       "      <td>2009-01-22 00:00:00</td>\n",
       "      <td>Crawfordsville Electric Light and Power (RFC)</td>\n",
       "      <td>4:00 p.m.</td>\n",
       "      <td>Crawfordsville, Indiana</td>\n",
       "      <td>Shed Load</td>\n",
       "      <td>50</td>\n",
       "      <td>9700</td>\n",
       "      <td>5:05 p.m. January 22</td>\n",
       "    </tr>\n",
       "  </tbody>\n",
       "</table>\n",
       "</div>"
      ],
      "text/plain": [
       "                  Date                   Utility/Power Pool (NERC Region)  \\\n",
       "2  2009-01-05 00:00:00         Oncor Electric Delivery Company, LLC (TRE)   \n",
       "3  2009-01-07 00:00:00                       Duke Energy Carolinas (SERC)   \n",
       "4  2009-01-08 00:00:00  Florida Keys Electric Cooperative Assoc. Inc. ...   \n",
       "5  2009-01-17 00:00:00                       State Line Energy, LLC (RFC)   \n",
       "6  2009-01-22 00:00:00      Crawfordsville Electric Light and Power (RFC)   \n",
       "\n",
       "         Time                         Area Affected  \\\n",
       "2   5:00 a.m.               North and Central Texas   \n",
       "3   5:00 p.m.  Piedmont of North and South Carolina   \n",
       "4  11:46 p.m.                          Florida Keys   \n",
       "5   8:00 a.m.                          PJM, Indiana   \n",
       "6   4:00 p.m.               Crawfordsville, Indiana   \n",
       "\n",
       "              Type of Disturbance Loss (megawatts)  \\\n",
       "2                    Severe Storm              NaN   \n",
       "3                      High Winds              300   \n",
       "4  Transmission Equipment Failure               55   \n",
       "5          Fuel Supply Deficiency              NaN   \n",
       "6                       Shed Load               50   \n",
       "\n",
       "  Number of Customers Affected 1            Restoration  \n",
       "2                         157019   6:00 p.m. January 06  \n",
       "3                          70000   8:05 p.m. January 07  \n",
       "4                          31000  11:25 a.m. January 09  \n",
       "5                            NaN   8:00 a.m. January 25  \n",
       "6                           9700   5:05 p.m. January 22  "
      ]
     },
     "execution_count": 70,
     "metadata": {},
     "output_type": "execute_result"
    }
   ],
   "source": [
    "df2.head()"
   ]
  },
  {
   "cell_type": "code",
   "execution_count": 69,
   "metadata": {
    "ExecuteTime": {
     "end_time": "2019-07-19T18:45:44.856327Z",
     "start_time": "2019-07-19T18:45:44.850268Z"
    }
   },
   "outputs": [],
   "source": [
    "df2 = df2[df2[\"Utility/Power Pool (NERC Region)\"].notna()]"
   ]
  },
  {
   "cell_type": "code",
   "execution_count": 72,
   "metadata": {
    "ExecuteTime": {
     "end_time": "2019-07-19T18:46:26.006234Z",
     "start_time": "2019-07-19T18:46:25.975703Z"
    }
   },
   "outputs": [
    {
     "data": {
      "text/html": [
       "<div>\n",
       "<style scoped>\n",
       "    .dataframe tbody tr th:only-of-type {\n",
       "        vertical-align: middle;\n",
       "    }\n",
       "\n",
       "    .dataframe tbody tr th {\n",
       "        vertical-align: top;\n",
       "    }\n",
       "\n",
       "    .dataframe thead th {\n",
       "        text-align: right;\n",
       "    }\n",
       "</style>\n",
       "<table border=\"1\" class=\"dataframe\">\n",
       "  <thead>\n",
       "    <tr style=\"text-align: right;\">\n",
       "      <th></th>\n",
       "      <th>Area Affected</th>\n",
       "      <th>Date</th>\n",
       "      <th>Loss (megawatts)</th>\n",
       "      <th>NERC Region</th>\n",
       "      <th>Number of Customers Affected</th>\n",
       "      <th>Restoration Date and Time</th>\n",
       "      <th>Time</th>\n",
       "      <th>Type of Disturbance</th>\n",
       "      <th>Utility/Power Pool</th>\n",
       "    </tr>\n",
       "  </thead>\n",
       "  <tbody>\n",
       "    <tr>\n",
       "      <th>0</th>\n",
       "      <td>Southwest Virginia, Southern West Virginia</td>\n",
       "      <td>01/17/2013  6:07 PM</td>\n",
       "      <td>Unknown</td>\n",
       "      <td>RFC</td>\n",
       "      <td>127000</td>\n",
       "      <td>01/20/2013  7:30 PM</td>\n",
       "      <td>NaN</td>\n",
       "      <td>Severe Weather - Winter Storm</td>\n",
       "      <td>American Electric Power (AEP)</td>\n",
       "    </tr>\n",
       "  </tbody>\n",
       "</table>\n",
       "</div>"
      ],
      "text/plain": [
       "                                Area Affected                 Date  \\\n",
       "0  Southwest Virginia, Southern West Virginia  01/17/2013  6:07 PM   \n",
       "\n",
       "  Loss (megawatts) NERC Region Number of Customers Affected  \\\n",
       "0          Unknown         RFC                       127000   \n",
       "\n",
       "  Restoration Date and Time Time            Type of Disturbance  \\\n",
       "0       01/20/2013  7:30 PM  NaN  Severe Weather - Winter Storm   \n",
       "\n",
       "              Utility/Power Pool  \n",
       "0  American Electric Power (AEP)  "
      ]
     },
     "execution_count": 72,
     "metadata": {},
     "output_type": "execute_result"
    }
   ],
   "source": [
    "df.head(1)"
   ]
  },
  {
   "cell_type": "code",
   "execution_count": 73,
   "metadata": {
    "ExecuteTime": {
     "end_time": "2019-07-19T18:46:30.565166Z",
     "start_time": "2019-07-19T18:46:30.545415Z"
    }
   },
   "outputs": [
    {
     "data": {
      "text/html": [
       "<div>\n",
       "<style scoped>\n",
       "    .dataframe tbody tr th:only-of-type {\n",
       "        vertical-align: middle;\n",
       "    }\n",
       "\n",
       "    .dataframe tbody tr th {\n",
       "        vertical-align: top;\n",
       "    }\n",
       "\n",
       "    .dataframe thead th {\n",
       "        text-align: right;\n",
       "    }\n",
       "</style>\n",
       "<table border=\"1\" class=\"dataframe\">\n",
       "  <thead>\n",
       "    <tr style=\"text-align: right;\">\n",
       "      <th></th>\n",
       "      <th>Date</th>\n",
       "      <th>Utility/Power Pool (NERC Region)</th>\n",
       "      <th>Time</th>\n",
       "      <th>Area Affected</th>\n",
       "      <th>Type of Disturbance</th>\n",
       "      <th>Loss (megawatts)</th>\n",
       "      <th>Number of Customers Affected 1</th>\n",
       "      <th>Restoration</th>\n",
       "    </tr>\n",
       "  </thead>\n",
       "  <tbody>\n",
       "    <tr>\n",
       "      <th>2</th>\n",
       "      <td>2009-01-05 00:00:00</td>\n",
       "      <td>Oncor Electric Delivery Company, LLC (TRE)</td>\n",
       "      <td>5:00 a.m.</td>\n",
       "      <td>North and Central Texas</td>\n",
       "      <td>Severe Storm</td>\n",
       "      <td>NaN</td>\n",
       "      <td>157019</td>\n",
       "      <td>6:00 p.m. January 06</td>\n",
       "    </tr>\n",
       "  </tbody>\n",
       "</table>\n",
       "</div>"
      ],
      "text/plain": [
       "                  Date            Utility/Power Pool (NERC Region)       Time  \\\n",
       "2  2009-01-05 00:00:00  Oncor Electric Delivery Company, LLC (TRE)  5:00 a.m.   \n",
       "\n",
       "             Area Affected Type of Disturbance Loss (megawatts)  \\\n",
       "2  North and Central Texas        Severe Storm              NaN   \n",
       "\n",
       "  Number of Customers Affected 1           Restoration  \n",
       "2                         157019  6:00 p.m. January 06  "
      ]
     },
     "execution_count": 73,
     "metadata": {},
     "output_type": "execute_result"
    }
   ],
   "source": [
    "df2.head(1)"
   ]
  },
  {
   "cell_type": "code",
   "execution_count": 74,
   "metadata": {
    "ExecuteTime": {
     "end_time": "2019-07-19T18:47:09.093778Z",
     "start_time": "2019-07-19T18:47:09.006505Z"
    }
   },
   "outputs": [],
   "source": [
    "df2[\"Utility/Power Pool\"] = df2[\"Utility/Power Pool (NERC Region)\"].apply(lambda x: x[0:x.find(\"(\")])"
   ]
  },
  {
   "cell_type": "code",
   "execution_count": 75,
   "metadata": {
    "ExecuteTime": {
     "end_time": "2019-07-19T18:47:22.210883Z",
     "start_time": "2019-07-19T18:47:22.200809Z"
    }
   },
   "outputs": [],
   "source": [
    "df2[\"NERC Region\"] = df2[\"Utility/Power Pool (NERC Region)\"].apply(lambda x: x[x.find(\"(\") + 1:x.find(\")\")])"
   ]
  },
  {
   "cell_type": "code",
   "execution_count": 85,
   "metadata": {
    "ExecuteTime": {
     "end_time": "2019-07-19T18:51:18.446642Z",
     "start_time": "2019-07-19T18:51:18.440699Z"
    }
   },
   "outputs": [
    {
     "name": "stdout",
     "output_type": "stream",
     "text": [
      "\n",
      "Utility/Power Pool (NERC Region)\n",
      "Number of Customers Affected 1\n",
      "Restoration\n"
     ]
    }
   ],
   "source": [
    "diff_col(df, df2)"
   ]
  },
  {
   "cell_type": "code",
   "execution_count": 83,
   "metadata": {
    "ExecuteTime": {
     "end_time": "2019-07-19T18:50:57.983124Z",
     "start_time": "2019-07-19T18:50:57.977700Z"
    }
   },
   "outputs": [],
   "source": [
    "df2[\"Number of Customers Affected\"] = df2[\"Number of Customers Affected 1\"]"
   ]
  },
  {
   "cell_type": "code",
   "execution_count": 84,
   "metadata": {
    "ExecuteTime": {
     "end_time": "2019-07-19T18:51:15.168489Z",
     "start_time": "2019-07-19T18:51:15.163125Z"
    }
   },
   "outputs": [],
   "source": [
    "df2[\"Restoration Date and Time\"] = df2[\"Restoration\"]"
   ]
  },
  {
   "cell_type": "code",
   "execution_count": 87,
   "metadata": {
    "ExecuteTime": {
     "end_time": "2019-07-19T18:51:47.570221Z",
     "start_time": "2019-07-19T18:51:47.564481Z"
    }
   },
   "outputs": [],
   "source": [
    "df2 = df2.drop(columns=[\"Utility/Power Pool (NERC Region)\", \"Number of Customers Affected 1\", \"Restoration\"])"
   ]
  },
  {
   "cell_type": "code",
   "execution_count": 88,
   "metadata": {
    "ExecuteTime": {
     "end_time": "2019-07-19T18:51:55.095539Z",
     "start_time": "2019-07-19T18:51:55.087458Z"
    }
   },
   "outputs": [
    {
     "name": "stderr",
     "output_type": "stream",
     "text": [
      "/Users/lhinkesjones/anaconda3/lib/python3.7/site-packages/pandas/core/frame.py:6692: FutureWarning: Sorting because non-concatenation axis is not aligned. A future version\n",
      "of pandas will change to not sort by default.\n",
      "\n",
      "To accept the future behavior, pass 'sort=False'.\n",
      "\n",
      "To retain the current behavior and silence the warning, pass 'sort=True'.\n",
      "\n",
      "  sort=sort)\n"
     ]
    }
   ],
   "source": [
    "df = df.append(df2)"
   ]
  },
  {
   "cell_type": "code",
   "execution_count": 89,
   "metadata": {
    "ExecuteTime": {
     "end_time": "2019-07-19T18:51:59.526655Z",
     "start_time": "2019-07-19T18:51:59.518581Z"
    }
   },
   "outputs": [
    {
     "data": {
      "text/plain": [
       "612"
      ]
     },
     "execution_count": 89,
     "metadata": {},
     "output_type": "execute_result"
    }
   ],
   "source": [
    "len(df)"
   ]
  },
  {
   "cell_type": "code",
   "execution_count": 92,
   "metadata": {
    "ExecuteTime": {
     "end_time": "2019-07-19T18:52:51.359806Z",
     "start_time": "2019-07-19T18:52:51.304048Z"
    }
   },
   "outputs": [],
   "source": [
    "df2 = pd.read_excel(\"disturbance/b2_epm_2008.xls\", skiprows=2)"
   ]
  },
  {
   "cell_type": "code",
   "execution_count": 93,
   "metadata": {
    "ExecuteTime": {
     "end_time": "2019-07-19T18:52:52.190175Z",
     "start_time": "2019-07-19T18:52:52.162398Z"
    }
   },
   "outputs": [
    {
     "data": {
      "text/html": [
       "<div>\n",
       "<style scoped>\n",
       "    .dataframe tbody tr th:only-of-type {\n",
       "        vertical-align: middle;\n",
       "    }\n",
       "\n",
       "    .dataframe tbody tr th {\n",
       "        vertical-align: top;\n",
       "    }\n",
       "\n",
       "    .dataframe thead th {\n",
       "        text-align: right;\n",
       "    }\n",
       "</style>\n",
       "<table border=\"1\" class=\"dataframe\">\n",
       "  <thead>\n",
       "    <tr style=\"text-align: right;\">\n",
       "      <th></th>\n",
       "      <th>Date</th>\n",
       "      <th>Utility/Power Pool (NERC Region)</th>\n",
       "      <th>Time</th>\n",
       "      <th>Area Affected</th>\n",
       "      <th>Type of Disturbance</th>\n",
       "      <th>Loss (megawatts)</th>\n",
       "      <th>Number of Customers Affected 1</th>\n",
       "      <th>Restoration</th>\n",
       "    </tr>\n",
       "  </thead>\n",
       "  <tbody>\n",
       "    <tr>\n",
       "      <th>0</th>\n",
       "      <td>NaN</td>\n",
       "      <td>NaN</td>\n",
       "      <td>NaN</td>\n",
       "      <td>NaN</td>\n",
       "      <td>NaN</td>\n",
       "      <td>NaN</td>\n",
       "      <td>NaN</td>\n",
       "      <td>Date/Time</td>\n",
       "    </tr>\n",
       "    <tr>\n",
       "      <th>1</th>\n",
       "      <td>January</td>\n",
       "      <td>NaN</td>\n",
       "      <td>NaN</td>\n",
       "      <td>NaN</td>\n",
       "      <td>NaN</td>\n",
       "      <td>NaN</td>\n",
       "      <td>NaN</td>\n",
       "      <td>NaN</td>\n",
       "    </tr>\n",
       "    <tr>\n",
       "      <th>2</th>\n",
       "      <td>2008-01-04 00:00:00</td>\n",
       "      <td>Pacific Gas and Electric Company (WECC)</td>\n",
       "      <td>4:00 a.m.</td>\n",
       "      <td>Northern California</td>\n",
       "      <td>Winter Storm</td>\n",
       "      <td>500</td>\n",
       "      <td>2606931</td>\n",
       "      <td>5:00 p.m. January 14</td>\n",
       "    </tr>\n",
       "    <tr>\n",
       "      <th>3</th>\n",
       "      <td>2008-01-04 00:00:00</td>\n",
       "      <td>Sacramento Municipal Utility District (WECC)</td>\n",
       "      <td>7:47 a.m.</td>\n",
       "      <td>Sacramento County</td>\n",
       "      <td>Severe Storm</td>\n",
       "      <td>300</td>\n",
       "      <td>150000</td>\n",
       "      <td>4:30 p.m. January 04</td>\n",
       "    </tr>\n",
       "    <tr>\n",
       "      <th>4</th>\n",
       "      <td>2008-01-29 00:00:00</td>\n",
       "      <td>Crockett Cogeneration (WECC)</td>\n",
       "      <td>5:00 a.m.</td>\n",
       "      <td>San Francisco Bay Area, California</td>\n",
       "      <td>Exciter Faulted</td>\n",
       "      <td>NaN</td>\n",
       "      <td>-</td>\n",
       "      <td>12:17 p.m. January 29</td>\n",
       "    </tr>\n",
       "  </tbody>\n",
       "</table>\n",
       "</div>"
      ],
      "text/plain": [
       "                  Date              Utility/Power Pool (NERC Region)  \\\n",
       "0                  NaN                                           NaN   \n",
       "1            January                                             NaN   \n",
       "2  2008-01-04 00:00:00       Pacific Gas and Electric Company (WECC)   \n",
       "3  2008-01-04 00:00:00  Sacramento Municipal Utility District (WECC)   \n",
       "4  2008-01-29 00:00:00                  Crockett Cogeneration (WECC)   \n",
       "\n",
       "        Time                       Area Affected Type of Disturbance  \\\n",
       "0        NaN                                 NaN                 NaN   \n",
       "1        NaN                                 NaN                 NaN   \n",
       "2  4:00 a.m.                 Northern California        Winter Storm   \n",
       "3  7:47 a.m.                   Sacramento County        Severe Storm   \n",
       "4  5:00 a.m.  San Francisco Bay Area, California     Exciter Faulted   \n",
       "\n",
       "  Loss (megawatts) Number of Customers Affected 1            Restoration  \n",
       "0              NaN                            NaN              Date/Time  \n",
       "1              NaN                            NaN                    NaN  \n",
       "2              500                        2606931   5:00 p.m. January 14  \n",
       "3              300                         150000   4:30 p.m. January 04  \n",
       "4              NaN                              -  12:17 p.m. January 29  "
      ]
     },
     "execution_count": 93,
     "metadata": {},
     "output_type": "execute_result"
    }
   ],
   "source": [
    "df2.head()"
   ]
  },
  {
   "cell_type": "code",
   "execution_count": 94,
   "metadata": {
    "ExecuteTime": {
     "end_time": "2019-07-19T18:53:58.114250Z",
     "start_time": "2019-07-19T18:53:58.016746Z"
    }
   },
   "outputs": [],
   "source": [
    "df2 = df2[df2[\"Utility/Power Pool (NERC Region)\"].notna()]\n",
    "df2[\"Utility/Power Pool\"] = df2[\"Utility/Power Pool (NERC Region)\"].apply(lambda x: x[0:x.find(\"(\")])\n",
    "df2[\"NERC Region\"] = df2[\"Utility/Power Pool (NERC Region)\"].apply(lambda x: x[x.find(\"(\") + 1:x.find(\")\")])\n",
    "df2[\"Number of Customers Affected\"] = df2[\"Number of Customers Affected 1\"]\n",
    "\n",
    "df2[\"Restoration Date and Time\"] = df2[\"Restoration\"]\n",
    "\n",
    "df2 = df2.drop(columns=[\"Utility/Power Pool (NERC Region)\", \"Number of Customers Affected 1\", \"Restoration\"])"
   ]
  },
  {
   "cell_type": "code",
   "execution_count": 95,
   "metadata": {
    "ExecuteTime": {
     "end_time": "2019-07-19T18:54:08.836481Z",
     "start_time": "2019-07-19T18:54:08.831788Z"
    }
   },
   "outputs": [
    {
     "name": "stdout",
     "output_type": "stream",
     "text": [
      "\n"
     ]
    }
   ],
   "source": [
    "diff_col(df, df2)"
   ]
  },
  {
   "cell_type": "code",
   "execution_count": 96,
   "metadata": {
    "ExecuteTime": {
     "end_time": "2019-07-19T18:54:28.582146Z",
     "start_time": "2019-07-19T18:54:28.569632Z"
    }
   },
   "outputs": [
    {
     "name": "stderr",
     "output_type": "stream",
     "text": [
      "/Users/lhinkesjones/anaconda3/lib/python3.7/site-packages/pandas/core/frame.py:6692: FutureWarning: Sorting because non-concatenation axis is not aligned. A future version\n",
      "of pandas will change to not sort by default.\n",
      "\n",
      "To accept the future behavior, pass 'sort=False'.\n",
      "\n",
      "To retain the current behavior and silence the warning, pass 'sort=True'.\n",
      "\n",
      "  sort=sort)\n"
     ]
    }
   ],
   "source": [
    "df = df.append(df2)"
   ]
  },
  {
   "cell_type": "code",
   "execution_count": 97,
   "metadata": {
    "ExecuteTime": {
     "end_time": "2019-07-19T18:55:09.437182Z",
     "start_time": "2019-07-19T18:55:09.413536Z"
    }
   },
   "outputs": [
    {
     "data": {
      "text/html": [
       "<div>\n",
       "<style scoped>\n",
       "    .dataframe tbody tr th:only-of-type {\n",
       "        vertical-align: middle;\n",
       "    }\n",
       "\n",
       "    .dataframe tbody tr th {\n",
       "        vertical-align: top;\n",
       "    }\n",
       "\n",
       "    .dataframe thead th {\n",
       "        text-align: right;\n",
       "    }\n",
       "</style>\n",
       "<table border=\"1\" class=\"dataframe\">\n",
       "  <thead>\n",
       "    <tr style=\"text-align: right;\">\n",
       "      <th></th>\n",
       "      <th>Area Affected</th>\n",
       "      <th>Date</th>\n",
       "      <th>Loss (megawatts)</th>\n",
       "      <th>NERC Region</th>\n",
       "      <th>Number of Customers Affected</th>\n",
       "      <th>Restoration Date and Time</th>\n",
       "      <th>Time</th>\n",
       "      <th>Type of Disturbance</th>\n",
       "      <th>Utility/Power Pool</th>\n",
       "    </tr>\n",
       "  </thead>\n",
       "  <tbody>\n",
       "    <tr>\n",
       "      <th>0</th>\n",
       "      <td>Southwest Virginia, Southern West Virginia</td>\n",
       "      <td>01/17/2013  6:07 PM</td>\n",
       "      <td>Unknown</td>\n",
       "      <td>RFC</td>\n",
       "      <td>127000</td>\n",
       "      <td>01/20/2013  7:30 PM</td>\n",
       "      <td>NaN</td>\n",
       "      <td>Severe Weather - Winter Storm</td>\n",
       "      <td>American Electric Power (AEP)</td>\n",
       "    </tr>\n",
       "    <tr>\n",
       "      <th>1</th>\n",
       "      <td>Northeast Tennessee</td>\n",
       "      <td>01/17/2013  7:02 PM</td>\n",
       "      <td>Unknown</td>\n",
       "      <td>SERC</td>\n",
       "      <td>80000</td>\n",
       "      <td>01/19/2013  6:00 PM</td>\n",
       "      <td>NaN</td>\n",
       "      <td>Severe Weather - Winter Storm</td>\n",
       "      <td>Tennessee Valley Authority</td>\n",
       "    </tr>\n",
       "    <tr>\n",
       "      <th>2</th>\n",
       "      <td>Elizabeth City, North Carolina</td>\n",
       "      <td>01/17/2013  8:35 PM</td>\n",
       "      <td>40</td>\n",
       "      <td>SERC</td>\n",
       "      <td>12000</td>\n",
       "      <td>01/17/2013  9:20 PM</td>\n",
       "      <td>NaN</td>\n",
       "      <td>Distribution Interruption</td>\n",
       "      <td>North Carolina Eastern M P A</td>\n",
       "    </tr>\n",
       "    <tr>\n",
       "      <th>3</th>\n",
       "      <td>Southeastern Michigan</td>\n",
       "      <td>01/20/2013  3:30 AM</td>\n",
       "      <td>Unknown</td>\n",
       "      <td>RFC</td>\n",
       "      <td>146500</td>\n",
       "      <td>01/23/2013  6:15 AM</td>\n",
       "      <td>NaN</td>\n",
       "      <td>Severe Weather - Wind Storm</td>\n",
       "      <td>Detroit Edison Co</td>\n",
       "    </tr>\n",
       "    <tr>\n",
       "      <th>4</th>\n",
       "      <td>Central and Eastern Virginia</td>\n",
       "      <td>01/31/2013  3:05 AM</td>\n",
       "      <td>188</td>\n",
       "      <td>SERC</td>\n",
       "      <td>119000</td>\n",
       "      <td>01/31/2013  4:48 AM</td>\n",
       "      <td>NaN</td>\n",
       "      <td>Severe Weather - Wind Storm</td>\n",
       "      <td>Dominion Virginia Power</td>\n",
       "    </tr>\n",
       "  </tbody>\n",
       "</table>\n",
       "</div>"
      ],
      "text/plain": [
       "                                Area Affected                 Date  \\\n",
       "0  Southwest Virginia, Southern West Virginia  01/17/2013  6:07 PM   \n",
       "1                         Northeast Tennessee  01/17/2013  7:02 PM   \n",
       "2              Elizabeth City, North Carolina  01/17/2013  8:35 PM   \n",
       "3                       Southeastern Michigan  01/20/2013  3:30 AM   \n",
       "4                Central and Eastern Virginia  01/31/2013  3:05 AM   \n",
       "\n",
       "  Loss (megawatts) NERC Region Number of Customers Affected  \\\n",
       "0          Unknown         RFC                       127000   \n",
       "1          Unknown        SERC                        80000   \n",
       "2               40        SERC                        12000   \n",
       "3          Unknown         RFC                       146500   \n",
       "4              188        SERC                       119000   \n",
       "\n",
       "  Restoration Date and Time Time            Type of Disturbance  \\\n",
       "0       01/20/2013  7:30 PM  NaN  Severe Weather - Winter Storm   \n",
       "1       01/19/2013  6:00 PM  NaN  Severe Weather - Winter Storm   \n",
       "2       01/17/2013  9:20 PM  NaN      Distribution Interruption   \n",
       "3       01/23/2013  6:15 AM  NaN    Severe Weather - Wind Storm   \n",
       "4       01/31/2013  4:48 AM  NaN    Severe Weather - Wind Storm   \n",
       "\n",
       "              Utility/Power Pool  \n",
       "0  American Electric Power (AEP)  \n",
       "1     Tennessee Valley Authority  \n",
       "2   North Carolina Eastern M P A  \n",
       "3              Detroit Edison Co  \n",
       "4        Dominion Virginia Power  "
      ]
     },
     "execution_count": 97,
     "metadata": {},
     "output_type": "execute_result"
    }
   ],
   "source": [
    "df.head()"
   ]
  },
  {
   "cell_type": "code",
   "execution_count": 102,
   "metadata": {
    "ExecuteTime": {
     "end_time": "2019-07-19T19:14:53.834149Z",
     "start_time": "2019-07-19T19:14:53.817813Z"
    }
   },
   "outputs": [],
   "source": [
    "df2 = pd.read_csv(\"disturbance/tabula.csv\")"
   ]
  },
  {
   "cell_type": "code",
   "execution_count": 103,
   "metadata": {
    "ExecuteTime": {
     "end_time": "2019-07-19T19:14:54.595037Z",
     "start_time": "2019-07-19T19:14:54.574553Z"
    }
   },
   "outputs": [
    {
     "data": {
      "text/html": [
       "<div>\n",
       "<style scoped>\n",
       "    .dataframe tbody tr th:only-of-type {\n",
       "        vertical-align: middle;\n",
       "    }\n",
       "\n",
       "    .dataframe tbody tr th {\n",
       "        vertical-align: top;\n",
       "    }\n",
       "\n",
       "    .dataframe thead th {\n",
       "        text-align: right;\n",
       "    }\n",
       "</style>\n",
       "<table border=\"1\" class=\"dataframe\">\n",
       "  <thead>\n",
       "    <tr style=\"text-align: right;\">\n",
       "      <th></th>\n",
       "      <th>Year</th>\n",
       "      <th>Month</th>\n",
       "      <th>Event Date and Time</th>\n",
       "      <th>Restoration Date and\r",
       "Time</th>\n",
       "      <th>Duration</th>\n",
       "      <th>Utility/Power Pool</th>\n",
       "      <th>NERC Region</th>\n",
       "      <th>Area Affected</th>\n",
       "      <th>Type of Disturbance</th>\n",
       "      <th>Loss (megawatts)</th>\n",
       "      <th>Number of\r",
       "Customers\r",
       "Affected</th>\n",
       "    </tr>\n",
       "  </thead>\n",
       "  <tbody>\n",
       "    <tr>\n",
       "      <th>0</th>\n",
       "      <td>2014</td>\n",
       "      <td>4</td>\n",
       "      <td>4/23/14 20:37</td>\n",
       "      <td>NaN</td>\n",
       "      <td>0 Hours, 52 Minutes</td>\n",
       "      <td>MISO / Entergy Transmission</td>\n",
       "      <td>SERC</td>\n",
       "      <td>Baton Rouge, Louisiana</td>\n",
       "      <td>Load shedding of 100\\rMegawatts</td>\n",
       "      <td>163</td>\n",
       "      <td>28000</td>\n",
       "    </tr>\n",
       "    <tr>\n",
       "      <th>1</th>\n",
       "      <td>2014</td>\n",
       "      <td>4</td>\n",
       "      <td>4/30/14 14:00</td>\n",
       "      <td>NaN</td>\n",
       "      <td>10 Hours, 10 Minutes</td>\n",
       "      <td>Southern Company</td>\n",
       "      <td>SERC</td>\n",
       "      <td>Alabama, Florida, Georgia</td>\n",
       "      <td>Severe Weather -\\rThunderstorms</td>\n",
       "      <td>296</td>\n",
       "      <td>89000</td>\n",
       "    </tr>\n",
       "    <tr>\n",
       "      <th>2</th>\n",
       "      <td>2014</td>\n",
       "      <td>1</td>\n",
       "      <td>1/6/14 7:01</td>\n",
       "      <td>1/7/14 9:00</td>\n",
       "      <td>25 Hours, 59 Minutes</td>\n",
       "      <td>ERCOT</td>\n",
       "      <td>TRE</td>\n",
       "      <td>Texas</td>\n",
       "      <td>Public Appeal due to Severe\\rWeather - Cold</td>\n",
       "      <td>NaN</td>\n",
       "      <td>NaN</td>\n",
       "    </tr>\n",
       "    <tr>\n",
       "      <th>3</th>\n",
       "      <td>2014</td>\n",
       "      <td>1</td>\n",
       "      <td>1/6/14 19:50</td>\n",
       "      <td>1/6/14 20:44</td>\n",
       "      <td>0 Hours, 54 Minutes</td>\n",
       "      <td>PPL Electric Utilities Corp</td>\n",
       "      <td>RFC</td>\n",
       "      <td>Pennsylvania</td>\n",
       "      <td>Voltage Reduction due to\\rSevere Weather - Cold</td>\n",
       "      <td>Unknown</td>\n",
       "      <td>Unknown</td>\n",
       "    </tr>\n",
       "    <tr>\n",
       "      <th>4</th>\n",
       "      <td>2014</td>\n",
       "      <td>1</td>\n",
       "      <td>1/6/14 19:50</td>\n",
       "      <td>1/6/14 20:44</td>\n",
       "      <td>0 Hours, 54 Minutes</td>\n",
       "      <td>PJM Interconnection</td>\n",
       "      <td>RFC</td>\n",
       "      <td>Unknown</td>\n",
       "      <td>Voltage Reduction due to\\rSevere Weather - Cold</td>\n",
       "      <td>Unknown</td>\n",
       "      <td>Unknown</td>\n",
       "    </tr>\n",
       "  </tbody>\n",
       "</table>\n",
       "</div>"
      ],
      "text/plain": [
       "   Year  Month Event Date and Time Restoration Date and\\rTime  \\\n",
       "0  2014      4       4/23/14 20:37                        NaN   \n",
       "1  2014      4       4/30/14 14:00                        NaN   \n",
       "2  2014      1         1/6/14 7:01                1/7/14 9:00   \n",
       "3  2014      1        1/6/14 19:50               1/6/14 20:44   \n",
       "4  2014      1        1/6/14 19:50               1/6/14 20:44   \n",
       "\n",
       "               Duration           Utility/Power Pool NERC Region  \\\n",
       "0   0 Hours, 52 Minutes  MISO / Entergy Transmission        SERC   \n",
       "1  10 Hours, 10 Minutes             Southern Company        SERC   \n",
       "2  25 Hours, 59 Minutes                        ERCOT         TRE   \n",
       "3   0 Hours, 54 Minutes  PPL Electric Utilities Corp         RFC   \n",
       "4   0 Hours, 54 Minutes          PJM Interconnection         RFC   \n",
       "\n",
       "               Area Affected                              Type of Disturbance  \\\n",
       "0     Baton Rouge, Louisiana                  Load shedding of 100\\rMegawatts   \n",
       "1  Alabama, Florida, Georgia                  Severe Weather -\\rThunderstorms   \n",
       "2                      Texas      Public Appeal due to Severe\\rWeather - Cold   \n",
       "3               Pennsylvania  Voltage Reduction due to\\rSevere Weather - Cold   \n",
       "4                    Unknown  Voltage Reduction due to\\rSevere Weather - Cold   \n",
       "\n",
       "  Loss (megawatts) Number of\\rCustomers\\rAffected  \n",
       "0              163                          28000  \n",
       "1              296                          89000  \n",
       "2              NaN                            NaN  \n",
       "3          Unknown                        Unknown  \n",
       "4          Unknown                        Unknown  "
      ]
     },
     "execution_count": 103,
     "metadata": {},
     "output_type": "execute_result"
    }
   ],
   "source": [
    "df2.head()"
   ]
  },
  {
   "cell_type": "code",
   "execution_count": 126,
   "metadata": {
    "ExecuteTime": {
     "end_time": "2019-07-19T19:20:43.180288Z",
     "start_time": "2019-07-19T19:20:43.172401Z"
    }
   },
   "outputs": [
    {
     "name": "stdout",
     "output_type": "stream",
     "text": [
      "\n",
      "Year\n",
      "Month\n"
     ]
    }
   ],
   "source": [
    "diff_col(df, df2)"
   ]
  },
  {
   "cell_type": "code",
   "execution_count": 111,
   "metadata": {
    "ExecuteTime": {
     "end_time": "2019-07-19T19:17:21.560520Z",
     "start_time": "2019-07-19T19:17:21.553054Z"
    }
   },
   "outputs": [],
   "source": [
    "cols = list(df2.columns)"
   ]
  },
  {
   "cell_type": "code",
   "execution_count": 107,
   "metadata": {
    "ExecuteTime": {
     "end_time": "2019-07-19T19:16:02.220624Z",
     "start_time": "2019-07-19T19:16:02.210367Z"
    }
   },
   "outputs": [
    {
     "data": {
      "text/plain": [
       "Index(['Area Affected', 'Date', 'Loss (megawatts)', 'NERC Region',\n",
       "       'Number of Customers Affected', 'Restoration Date and Time', 'Time',\n",
       "       'Type of Disturbance', 'Utility/Power Pool'],\n",
       "      dtype='object')"
      ]
     },
     "execution_count": 107,
     "metadata": {},
     "output_type": "execute_result"
    }
   ],
   "source": [
    "df.columns"
   ]
  },
  {
   "cell_type": "code",
   "execution_count": 109,
   "metadata": {
    "ExecuteTime": {
     "end_time": "2019-07-19T19:16:59.004394Z",
     "start_time": "2019-07-19T19:16:58.994419Z"
    }
   },
   "outputs": [
    {
     "data": {
      "text/plain": [
       "Index(['Year', 'Month', 'Event Date and Time', 'Restoration Date and\\rTime',\n",
       "       'Duration', 'Utility/Power Pool', 'NERC Region', 'Area Affected',\n",
       "       'Type of Disturbance', 'Loss (megawatts)',\n",
       "       'Number of\\rCustomers\\rAffected'],\n",
       "      dtype='object')"
      ]
     },
     "execution_count": 109,
     "metadata": {},
     "output_type": "execute_result"
    }
   ],
   "source": [
    "cols"
   ]
  },
  {
   "cell_type": "code",
   "execution_count": 112,
   "metadata": {
    "ExecuteTime": {
     "end_time": "2019-07-19T19:17:23.437063Z",
     "start_time": "2019-07-19T19:17:23.432656Z"
    }
   },
   "outputs": [],
   "source": [
    "cols[-1] = 'Number of Customers Affected'"
   ]
  },
  {
   "cell_type": "code",
   "execution_count": 117,
   "metadata": {
    "ExecuteTime": {
     "end_time": "2019-07-19T19:18:30.140425Z",
     "start_time": "2019-07-19T19:18:30.135072Z"
    }
   },
   "outputs": [],
   "source": [
    "df2.columns= cols"
   ]
  },
  {
   "cell_type": "code",
   "execution_count": 116,
   "metadata": {
    "ExecuteTime": {
     "end_time": "2019-07-19T19:18:27.212602Z",
     "start_time": "2019-07-19T19:18:27.208566Z"
    }
   },
   "outputs": [],
   "source": [
    "cols[3] = 'Restoration Date and Time'"
   ]
  },
  {
   "cell_type": "code",
   "execution_count": 119,
   "metadata": {
    "ExecuteTime": {
     "end_time": "2019-07-19T19:19:15.005902Z",
     "start_time": "2019-07-19T19:19:14.997495Z"
    }
   },
   "outputs": [],
   "source": [
    "df2 = df2.drop(columns=\"Duration\")"
   ]
  },
  {
   "cell_type": "code",
   "execution_count": 121,
   "metadata": {
    "ExecuteTime": {
     "end_time": "2019-07-19T19:19:36.603511Z",
     "start_time": "2019-07-19T19:19:36.586854Z"
    }
   },
   "outputs": [],
   "source": [
    "df2[\"Date\"] = df2['Event Date and Time']"
   ]
  },
  {
   "cell_type": "code",
   "execution_count": 122,
   "metadata": {
    "ExecuteTime": {
     "end_time": "2019-07-19T19:19:44.864659Z",
     "start_time": "2019-07-19T19:19:44.854474Z"
    }
   },
   "outputs": [],
   "source": [
    "df2 = df2.drop(columns=\"Event Date and Time\")"
   ]
  },
  {
   "cell_type": "code",
   "execution_count": 124,
   "metadata": {
    "ExecuteTime": {
     "end_time": "2019-07-19T19:19:58.111548Z",
     "start_time": "2019-07-19T19:19:58.092568Z"
    }
   },
   "outputs": [
    {
     "data": {
      "text/html": [
       "<div>\n",
       "<style scoped>\n",
       "    .dataframe tbody tr th:only-of-type {\n",
       "        vertical-align: middle;\n",
       "    }\n",
       "\n",
       "    .dataframe tbody tr th {\n",
       "        vertical-align: top;\n",
       "    }\n",
       "\n",
       "    .dataframe thead th {\n",
       "        text-align: right;\n",
       "    }\n",
       "</style>\n",
       "<table border=\"1\" class=\"dataframe\">\n",
       "  <thead>\n",
       "    <tr style=\"text-align: right;\">\n",
       "      <th></th>\n",
       "      <th>Year</th>\n",
       "      <th>Month</th>\n",
       "      <th>Restoration Date and Time</th>\n",
       "      <th>Utility/Power Pool</th>\n",
       "      <th>NERC Region</th>\n",
       "      <th>Area Affected</th>\n",
       "      <th>Type of Disturbance</th>\n",
       "      <th>Loss (megawatts)</th>\n",
       "      <th>Number of Customers Affected</th>\n",
       "      <th>Date</th>\n",
       "    </tr>\n",
       "  </thead>\n",
       "  <tbody>\n",
       "    <tr>\n",
       "      <th>0</th>\n",
       "      <td>2014</td>\n",
       "      <td>4</td>\n",
       "      <td>NaN</td>\n",
       "      <td>MISO / Entergy Transmission</td>\n",
       "      <td>SERC</td>\n",
       "      <td>Baton Rouge, Louisiana</td>\n",
       "      <td>Load shedding of 100\\rMegawatts</td>\n",
       "      <td>163</td>\n",
       "      <td>28000</td>\n",
       "      <td>4/23/14 20:37</td>\n",
       "    </tr>\n",
       "    <tr>\n",
       "      <th>1</th>\n",
       "      <td>2014</td>\n",
       "      <td>4</td>\n",
       "      <td>NaN</td>\n",
       "      <td>Southern Company</td>\n",
       "      <td>SERC</td>\n",
       "      <td>Alabama, Florida, Georgia</td>\n",
       "      <td>Severe Weather -\\rThunderstorms</td>\n",
       "      <td>296</td>\n",
       "      <td>89000</td>\n",
       "      <td>4/30/14 14:00</td>\n",
       "    </tr>\n",
       "    <tr>\n",
       "      <th>2</th>\n",
       "      <td>2014</td>\n",
       "      <td>1</td>\n",
       "      <td>1/7/14 9:00</td>\n",
       "      <td>ERCOT</td>\n",
       "      <td>TRE</td>\n",
       "      <td>Texas</td>\n",
       "      <td>Public Appeal due to Severe\\rWeather - Cold</td>\n",
       "      <td>NaN</td>\n",
       "      <td>NaN</td>\n",
       "      <td>1/6/14 7:01</td>\n",
       "    </tr>\n",
       "    <tr>\n",
       "      <th>3</th>\n",
       "      <td>2014</td>\n",
       "      <td>1</td>\n",
       "      <td>1/6/14 20:44</td>\n",
       "      <td>PPL Electric Utilities Corp</td>\n",
       "      <td>RFC</td>\n",
       "      <td>Pennsylvania</td>\n",
       "      <td>Voltage Reduction due to\\rSevere Weather - Cold</td>\n",
       "      <td>Unknown</td>\n",
       "      <td>Unknown</td>\n",
       "      <td>1/6/14 19:50</td>\n",
       "    </tr>\n",
       "    <tr>\n",
       "      <th>4</th>\n",
       "      <td>2014</td>\n",
       "      <td>1</td>\n",
       "      <td>1/6/14 20:44</td>\n",
       "      <td>PJM Interconnection</td>\n",
       "      <td>RFC</td>\n",
       "      <td>Unknown</td>\n",
       "      <td>Voltage Reduction due to\\rSevere Weather - Cold</td>\n",
       "      <td>Unknown</td>\n",
       "      <td>Unknown</td>\n",
       "      <td>1/6/14 19:50</td>\n",
       "    </tr>\n",
       "  </tbody>\n",
       "</table>\n",
       "</div>"
      ],
      "text/plain": [
       "   Year  Month Restoration Date and Time           Utility/Power Pool  \\\n",
       "0  2014      4                       NaN  MISO / Entergy Transmission   \n",
       "1  2014      4                       NaN             Southern Company   \n",
       "2  2014      1               1/7/14 9:00                        ERCOT   \n",
       "3  2014      1              1/6/14 20:44  PPL Electric Utilities Corp   \n",
       "4  2014      1              1/6/14 20:44          PJM Interconnection   \n",
       "\n",
       "  NERC Region              Area Affected  \\\n",
       "0        SERC     Baton Rouge, Louisiana   \n",
       "1        SERC  Alabama, Florida, Georgia   \n",
       "2         TRE                      Texas   \n",
       "3         RFC               Pennsylvania   \n",
       "4         RFC                    Unknown   \n",
       "\n",
       "                               Type of Disturbance Loss (megawatts)  \\\n",
       "0                  Load shedding of 100\\rMegawatts              163   \n",
       "1                  Severe Weather -\\rThunderstorms              296   \n",
       "2      Public Appeal due to Severe\\rWeather - Cold              NaN   \n",
       "3  Voltage Reduction due to\\rSevere Weather - Cold          Unknown   \n",
       "4  Voltage Reduction due to\\rSevere Weather - Cold          Unknown   \n",
       "\n",
       "  Number of Customers Affected           Date  \n",
       "0                        28000  4/23/14 20:37  \n",
       "1                        89000  4/30/14 14:00  \n",
       "2                          NaN    1/6/14 7:01  \n",
       "3                      Unknown   1/6/14 19:50  \n",
       "4                      Unknown   1/6/14 19:50  "
      ]
     },
     "execution_count": 124,
     "metadata": {},
     "output_type": "execute_result"
    }
   ],
   "source": [
    "df2.head()"
   ]
  },
  {
   "cell_type": "code",
   "execution_count": 125,
   "metadata": {
    "ExecuteTime": {
     "end_time": "2019-07-19T19:20:39.830075Z",
     "start_time": "2019-07-19T19:20:39.822954Z"
    }
   },
   "outputs": [],
   "source": [
    "df2[\"Time\"] = None"
   ]
  },
  {
   "cell_type": "code",
   "execution_count": 127,
   "metadata": {
    "ExecuteTime": {
     "end_time": "2019-07-19T19:21:03.609268Z",
     "start_time": "2019-07-19T19:21:03.596209Z"
    }
   },
   "outputs": [],
   "source": [
    "df[\"Year\"] = None\n",
    "df[\"Month\"] = None"
   ]
  },
  {
   "cell_type": "code",
   "execution_count": 128,
   "metadata": {
    "ExecuteTime": {
     "end_time": "2019-07-19T19:21:12.005404Z",
     "start_time": "2019-07-19T19:21:11.988975Z"
    }
   },
   "outputs": [
    {
     "name": "stderr",
     "output_type": "stream",
     "text": [
      "/Users/lhinkesjones/anaconda3/lib/python3.7/site-packages/pandas/core/frame.py:6692: FutureWarning: Sorting because non-concatenation axis is not aligned. A future version\n",
      "of pandas will change to not sort by default.\n",
      "\n",
      "To accept the future behavior, pass 'sort=False'.\n",
      "\n",
      "To retain the current behavior and silence the warning, pass 'sort=True'.\n",
      "\n",
      "  sort=sort)\n"
     ]
    }
   ],
   "source": [
    "df = df.append(df2)"
   ]
  },
  {
   "cell_type": "code",
   "execution_count": 129,
   "metadata": {
    "ExecuteTime": {
     "end_time": "2019-07-19T19:21:15.397969Z",
     "start_time": "2019-07-19T19:21:15.388835Z"
    }
   },
   "outputs": [
    {
     "data": {
      "text/plain": [
       "1074"
      ]
     },
     "execution_count": 129,
     "metadata": {},
     "output_type": "execute_result"
    }
   ],
   "source": [
    "len(df)"
   ]
  },
  {
   "cell_type": "code",
   "execution_count": 130,
   "metadata": {
    "ExecuteTime": {
     "end_time": "2019-07-19T19:21:45.472358Z",
     "start_time": "2019-07-19T19:21:45.448115Z"
    }
   },
   "outputs": [
    {
     "data": {
      "text/html": [
       "<div>\n",
       "<style scoped>\n",
       "    .dataframe tbody tr th:only-of-type {\n",
       "        vertical-align: middle;\n",
       "    }\n",
       "\n",
       "    .dataframe tbody tr th {\n",
       "        vertical-align: top;\n",
       "    }\n",
       "\n",
       "    .dataframe thead th {\n",
       "        text-align: right;\n",
       "    }\n",
       "</style>\n",
       "<table border=\"1\" class=\"dataframe\">\n",
       "  <thead>\n",
       "    <tr style=\"text-align: right;\">\n",
       "      <th></th>\n",
       "      <th>Area Affected</th>\n",
       "      <th>Date</th>\n",
       "      <th>Loss (megawatts)</th>\n",
       "      <th>Month</th>\n",
       "      <th>NERC Region</th>\n",
       "      <th>Number of Customers Affected</th>\n",
       "      <th>Restoration Date and Time</th>\n",
       "      <th>Time</th>\n",
       "      <th>Type of Disturbance</th>\n",
       "      <th>Utility/Power Pool</th>\n",
       "      <th>Year</th>\n",
       "    </tr>\n",
       "  </thead>\n",
       "  <tbody>\n",
       "    <tr>\n",
       "      <th>0</th>\n",
       "      <td>Southwest Virginia, Southern West Virginia</td>\n",
       "      <td>01/17/2013  6:07 PM</td>\n",
       "      <td>Unknown</td>\n",
       "      <td>None</td>\n",
       "      <td>RFC</td>\n",
       "      <td>127000</td>\n",
       "      <td>01/20/2013  7:30 PM</td>\n",
       "      <td>NaN</td>\n",
       "      <td>Severe Weather - Winter Storm</td>\n",
       "      <td>American Electric Power (AEP)</td>\n",
       "      <td>None</td>\n",
       "    </tr>\n",
       "    <tr>\n",
       "      <th>1</th>\n",
       "      <td>Northeast Tennessee</td>\n",
       "      <td>01/17/2013  7:02 PM</td>\n",
       "      <td>Unknown</td>\n",
       "      <td>None</td>\n",
       "      <td>SERC</td>\n",
       "      <td>80000</td>\n",
       "      <td>01/19/2013  6:00 PM</td>\n",
       "      <td>NaN</td>\n",
       "      <td>Severe Weather - Winter Storm</td>\n",
       "      <td>Tennessee Valley Authority</td>\n",
       "      <td>None</td>\n",
       "    </tr>\n",
       "    <tr>\n",
       "      <th>2</th>\n",
       "      <td>Elizabeth City, North Carolina</td>\n",
       "      <td>01/17/2013  8:35 PM</td>\n",
       "      <td>40</td>\n",
       "      <td>None</td>\n",
       "      <td>SERC</td>\n",
       "      <td>12000</td>\n",
       "      <td>01/17/2013  9:20 PM</td>\n",
       "      <td>NaN</td>\n",
       "      <td>Distribution Interruption</td>\n",
       "      <td>North Carolina Eastern M P A</td>\n",
       "      <td>None</td>\n",
       "    </tr>\n",
       "    <tr>\n",
       "      <th>3</th>\n",
       "      <td>Southeastern Michigan</td>\n",
       "      <td>01/20/2013  3:30 AM</td>\n",
       "      <td>Unknown</td>\n",
       "      <td>None</td>\n",
       "      <td>RFC</td>\n",
       "      <td>146500</td>\n",
       "      <td>01/23/2013  6:15 AM</td>\n",
       "      <td>NaN</td>\n",
       "      <td>Severe Weather - Wind Storm</td>\n",
       "      <td>Detroit Edison Co</td>\n",
       "      <td>None</td>\n",
       "    </tr>\n",
       "    <tr>\n",
       "      <th>4</th>\n",
       "      <td>Central and Eastern Virginia</td>\n",
       "      <td>01/31/2013  3:05 AM</td>\n",
       "      <td>188</td>\n",
       "      <td>None</td>\n",
       "      <td>SERC</td>\n",
       "      <td>119000</td>\n",
       "      <td>01/31/2013  4:48 AM</td>\n",
       "      <td>NaN</td>\n",
       "      <td>Severe Weather - Wind Storm</td>\n",
       "      <td>Dominion Virginia Power</td>\n",
       "      <td>None</td>\n",
       "    </tr>\n",
       "  </tbody>\n",
       "</table>\n",
       "</div>"
      ],
      "text/plain": [
       "                                Area Affected                 Date  \\\n",
       "0  Southwest Virginia, Southern West Virginia  01/17/2013  6:07 PM   \n",
       "1                         Northeast Tennessee  01/17/2013  7:02 PM   \n",
       "2              Elizabeth City, North Carolina  01/17/2013  8:35 PM   \n",
       "3                       Southeastern Michigan  01/20/2013  3:30 AM   \n",
       "4                Central and Eastern Virginia  01/31/2013  3:05 AM   \n",
       "\n",
       "  Loss (megawatts) Month NERC Region Number of Customers Affected  \\\n",
       "0          Unknown  None         RFC                       127000   \n",
       "1          Unknown  None        SERC                        80000   \n",
       "2               40  None        SERC                        12000   \n",
       "3          Unknown  None         RFC                       146500   \n",
       "4              188  None        SERC                       119000   \n",
       "\n",
       "  Restoration Date and Time Time            Type of Disturbance  \\\n",
       "0       01/20/2013  7:30 PM  NaN  Severe Weather - Winter Storm   \n",
       "1       01/19/2013  6:00 PM  NaN  Severe Weather - Winter Storm   \n",
       "2       01/17/2013  9:20 PM  NaN      Distribution Interruption   \n",
       "3       01/23/2013  6:15 AM  NaN    Severe Weather - Wind Storm   \n",
       "4       01/31/2013  4:48 AM  NaN    Severe Weather - Wind Storm   \n",
       "\n",
       "              Utility/Power Pool  Year  \n",
       "0  American Electric Power (AEP)  None  \n",
       "1     Tennessee Valley Authority  None  \n",
       "2   North Carolina Eastern M P A  None  \n",
       "3              Detroit Edison Co  None  \n",
       "4        Dominion Virginia Power  None  "
      ]
     },
     "execution_count": 130,
     "metadata": {},
     "output_type": "execute_result"
    }
   ],
   "source": [
    "df.head()"
   ]
  },
  {
   "cell_type": "code",
   "execution_count": 138,
   "metadata": {
    "ExecuteTime": {
     "end_time": "2019-07-19T19:24:07.560357Z",
     "start_time": "2019-07-19T19:24:06.997031Z"
    }
   },
   "outputs": [],
   "source": [
    "def try_dt(x):\n",
    "    try:\n",
    "        return pd.to_datetime(x)\n",
    "    except:\n",
    "        print(x)\n",
    "df.Date = df.Date.apply(try_dt)"
   ]
  },
  {
   "cell_type": "code",
   "execution_count": 136,
   "metadata": {
    "ExecuteTime": {
     "end_time": "2019-07-19T19:23:57.052658Z",
     "start_time": "2019-07-19T19:23:57.042747Z"
    }
   },
   "outputs": [],
   "source": [
    "df = df[df.Date != \"Date\"]"
   ]
  },
  {
   "cell_type": "code",
   "execution_count": 139,
   "metadata": {
    "ExecuteTime": {
     "end_time": "2019-07-19T19:24:10.888799Z",
     "start_time": "2019-07-19T19:24:10.866183Z"
    }
   },
   "outputs": [
    {
     "data": {
      "text/html": [
       "<div>\n",
       "<style scoped>\n",
       "    .dataframe tbody tr th:only-of-type {\n",
       "        vertical-align: middle;\n",
       "    }\n",
       "\n",
       "    .dataframe tbody tr th {\n",
       "        vertical-align: top;\n",
       "    }\n",
       "\n",
       "    .dataframe thead th {\n",
       "        text-align: right;\n",
       "    }\n",
       "</style>\n",
       "<table border=\"1\" class=\"dataframe\">\n",
       "  <thead>\n",
       "    <tr style=\"text-align: right;\">\n",
       "      <th></th>\n",
       "      <th>Area Affected</th>\n",
       "      <th>Date</th>\n",
       "      <th>Loss (megawatts)</th>\n",
       "      <th>Month</th>\n",
       "      <th>NERC Region</th>\n",
       "      <th>Number of Customers Affected</th>\n",
       "      <th>Restoration Date and Time</th>\n",
       "      <th>Time</th>\n",
       "      <th>Type of Disturbance</th>\n",
       "      <th>Utility/Power Pool</th>\n",
       "      <th>Year</th>\n",
       "    </tr>\n",
       "  </thead>\n",
       "  <tbody>\n",
       "    <tr>\n",
       "      <th>0</th>\n",
       "      <td>Southwest Virginia, Southern West Virginia</td>\n",
       "      <td>2013-01-17 18:07:00</td>\n",
       "      <td>Unknown</td>\n",
       "      <td>None</td>\n",
       "      <td>RFC</td>\n",
       "      <td>127000</td>\n",
       "      <td>01/20/2013  7:30 PM</td>\n",
       "      <td>NaN</td>\n",
       "      <td>Severe Weather - Winter Storm</td>\n",
       "      <td>American Electric Power (AEP)</td>\n",
       "      <td>None</td>\n",
       "    </tr>\n",
       "    <tr>\n",
       "      <th>1</th>\n",
       "      <td>Northeast Tennessee</td>\n",
       "      <td>2013-01-17 19:02:00</td>\n",
       "      <td>Unknown</td>\n",
       "      <td>None</td>\n",
       "      <td>SERC</td>\n",
       "      <td>80000</td>\n",
       "      <td>01/19/2013  6:00 PM</td>\n",
       "      <td>NaN</td>\n",
       "      <td>Severe Weather - Winter Storm</td>\n",
       "      <td>Tennessee Valley Authority</td>\n",
       "      <td>None</td>\n",
       "    </tr>\n",
       "    <tr>\n",
       "      <th>2</th>\n",
       "      <td>Elizabeth City, North Carolina</td>\n",
       "      <td>2013-01-17 20:35:00</td>\n",
       "      <td>40</td>\n",
       "      <td>None</td>\n",
       "      <td>SERC</td>\n",
       "      <td>12000</td>\n",
       "      <td>01/17/2013  9:20 PM</td>\n",
       "      <td>NaN</td>\n",
       "      <td>Distribution Interruption</td>\n",
       "      <td>North Carolina Eastern M P A</td>\n",
       "      <td>None</td>\n",
       "    </tr>\n",
       "    <tr>\n",
       "      <th>3</th>\n",
       "      <td>Southeastern Michigan</td>\n",
       "      <td>2013-01-20 03:30:00</td>\n",
       "      <td>Unknown</td>\n",
       "      <td>None</td>\n",
       "      <td>RFC</td>\n",
       "      <td>146500</td>\n",
       "      <td>01/23/2013  6:15 AM</td>\n",
       "      <td>NaN</td>\n",
       "      <td>Severe Weather - Wind Storm</td>\n",
       "      <td>Detroit Edison Co</td>\n",
       "      <td>None</td>\n",
       "    </tr>\n",
       "    <tr>\n",
       "      <th>4</th>\n",
       "      <td>Central and Eastern Virginia</td>\n",
       "      <td>2013-01-31 03:05:00</td>\n",
       "      <td>188</td>\n",
       "      <td>None</td>\n",
       "      <td>SERC</td>\n",
       "      <td>119000</td>\n",
       "      <td>01/31/2013  4:48 AM</td>\n",
       "      <td>NaN</td>\n",
       "      <td>Severe Weather - Wind Storm</td>\n",
       "      <td>Dominion Virginia Power</td>\n",
       "      <td>None</td>\n",
       "    </tr>\n",
       "  </tbody>\n",
       "</table>\n",
       "</div>"
      ],
      "text/plain": [
       "                                Area Affected                Date  \\\n",
       "0  Southwest Virginia, Southern West Virginia 2013-01-17 18:07:00   \n",
       "1                         Northeast Tennessee 2013-01-17 19:02:00   \n",
       "2              Elizabeth City, North Carolina 2013-01-17 20:35:00   \n",
       "3                       Southeastern Michigan 2013-01-20 03:30:00   \n",
       "4                Central and Eastern Virginia 2013-01-31 03:05:00   \n",
       "\n",
       "  Loss (megawatts) Month NERC Region Number of Customers Affected  \\\n",
       "0          Unknown  None         RFC                       127000   \n",
       "1          Unknown  None        SERC                        80000   \n",
       "2               40  None        SERC                        12000   \n",
       "3          Unknown  None         RFC                       146500   \n",
       "4              188  None        SERC                       119000   \n",
       "\n",
       "  Restoration Date and Time Time            Type of Disturbance  \\\n",
       "0       01/20/2013  7:30 PM  NaN  Severe Weather - Winter Storm   \n",
       "1       01/19/2013  6:00 PM  NaN  Severe Weather - Winter Storm   \n",
       "2       01/17/2013  9:20 PM  NaN      Distribution Interruption   \n",
       "3       01/23/2013  6:15 AM  NaN    Severe Weather - Wind Storm   \n",
       "4       01/31/2013  4:48 AM  NaN    Severe Weather - Wind Storm   \n",
       "\n",
       "              Utility/Power Pool  Year  \n",
       "0  American Electric Power (AEP)  None  \n",
       "1     Tennessee Valley Authority  None  \n",
       "2   North Carolina Eastern M P A  None  \n",
       "3              Detroit Edison Co  None  \n",
       "4        Dominion Virginia Power  None  "
      ]
     },
     "execution_count": 139,
     "metadata": {},
     "output_type": "execute_result"
    }
   ],
   "source": [
    "df.head()"
   ]
  },
  {
   "cell_type": "code",
   "execution_count": 151,
   "metadata": {
    "ExecuteTime": {
     "end_time": "2019-07-19T19:28:27.354591Z",
     "start_time": "2019-07-19T19:28:27.342701Z"
    }
   },
   "outputs": [],
   "source": [
    "df[\"Year2\"] = df[\"Date\"].apply(lambda x: x.year)"
   ]
  },
  {
   "cell_type": "code",
   "execution_count": 153,
   "metadata": {
    "ExecuteTime": {
     "end_time": "2019-07-19T19:28:42.544107Z",
     "start_time": "2019-07-19T19:28:42.535578Z"
    }
   },
   "outputs": [
    {
     "data": {
      "text/plain": [
       "5"
      ]
     },
     "execution_count": 153,
     "metadata": {},
     "output_type": "execute_result"
    }
   ],
   "source": [
    "df[\"Year2\"].isna().sum()"
   ]
  },
  {
   "cell_type": "code",
   "execution_count": 155,
   "metadata": {
    "ExecuteTime": {
     "end_time": "2019-07-19T19:29:08.571969Z",
     "start_time": "2019-07-19T19:29:08.563002Z"
    }
   },
   "outputs": [],
   "source": [
    "df = df[df[\"Year2\"].notna()]"
   ]
  },
  {
   "cell_type": "code",
   "execution_count": 156,
   "metadata": {
    "ExecuteTime": {
     "end_time": "2019-07-19T19:29:30.076592Z",
     "start_time": "2019-07-19T19:29:30.067551Z"
    }
   },
   "outputs": [
    {
     "data": {
      "text/plain": [
       "16"
      ]
     },
     "execution_count": 156,
     "metadata": {},
     "output_type": "execute_result"
    }
   ],
   "source": [
    "df[\"NERC Region\"].isna().sum()"
   ]
  },
  {
   "cell_type": "code",
   "execution_count": 157,
   "metadata": {
    "ExecuteTime": {
     "end_time": "2019-07-19T19:29:42.808198Z",
     "start_time": "2019-07-19T19:29:42.766862Z"
    }
   },
   "outputs": [
    {
     "data": {
      "text/html": [
       "<div>\n",
       "<style scoped>\n",
       "    .dataframe tbody tr th:only-of-type {\n",
       "        vertical-align: middle;\n",
       "    }\n",
       "\n",
       "    .dataframe tbody tr th {\n",
       "        vertical-align: top;\n",
       "    }\n",
       "\n",
       "    .dataframe thead th {\n",
       "        text-align: right;\n",
       "    }\n",
       "</style>\n",
       "<table border=\"1\" class=\"dataframe\">\n",
       "  <thead>\n",
       "    <tr style=\"text-align: right;\">\n",
       "      <th></th>\n",
       "      <th>Area Affected</th>\n",
       "      <th>Date</th>\n",
       "      <th>Loss (megawatts)</th>\n",
       "      <th>Month</th>\n",
       "      <th>NERC Region</th>\n",
       "      <th>Number of Customers Affected</th>\n",
       "      <th>Restoration Date and Time</th>\n",
       "      <th>Time</th>\n",
       "      <th>Type of Disturbance</th>\n",
       "      <th>Utility/Power Pool</th>\n",
       "      <th>Year</th>\n",
       "      <th>Year2</th>\n",
       "    </tr>\n",
       "  </thead>\n",
       "  <tbody>\n",
       "    <tr>\n",
       "      <th>9</th>\n",
       "      <td>Puerto Rico</td>\n",
       "      <td>2013-02-10 19:46:00</td>\n",
       "      <td>350</td>\n",
       "      <td>None</td>\n",
       "      <td>NaN</td>\n",
       "      <td>Unknown</td>\n",
       "      <td>02/10/2013  8:15 PM</td>\n",
       "      <td>NaN</td>\n",
       "      <td>Generator Trip; Voltage Reduction</td>\n",
       "      <td>Puerto Rico Electric Power Authority</td>\n",
       "      <td>None</td>\n",
       "      <td>2013.0</td>\n",
       "    </tr>\n",
       "    <tr>\n",
       "      <th>14</th>\n",
       "      <td>Metropolitan area Puerto Rico</td>\n",
       "      <td>2013-03-04 09:49:00</td>\n",
       "      <td>Unknown</td>\n",
       "      <td>None</td>\n",
       "      <td>NaN</td>\n",
       "      <td>Unknown</td>\n",
       "      <td>03/04/2013 10:00 PM</td>\n",
       "      <td>NaN</td>\n",
       "      <td>Equipment Failure; Transmission System Interru...</td>\n",
       "      <td>Puerto Rico Electric Power Authority</td>\n",
       "      <td>None</td>\n",
       "      <td>2013.0</td>\n",
       "    </tr>\n",
       "    <tr>\n",
       "      <th>16</th>\n",
       "      <td>Systemwide Puerto Rico</td>\n",
       "      <td>2013-03-18 05:21:00</td>\n",
       "      <td>350</td>\n",
       "      <td>None</td>\n",
       "      <td>NaN</td>\n",
       "      <td>262937</td>\n",
       "      <td>03/18/2013  5:41 AM</td>\n",
       "      <td>NaN</td>\n",
       "      <td>Generator Trip; Load Shed</td>\n",
       "      <td>Puerto Rico Electric Power Authority</td>\n",
       "      <td>None</td>\n",
       "      <td>2013.0</td>\n",
       "    </tr>\n",
       "    <tr>\n",
       "      <th>27</th>\n",
       "      <td>System wide Puerto Rico</td>\n",
       "      <td>2013-05-22 10:51:00</td>\n",
       "      <td>280</td>\n",
       "      <td>None</td>\n",
       "      <td>NaN</td>\n",
       "      <td>197287</td>\n",
       "      <td>05/22/2013 10:57 AM</td>\n",
       "      <td>NaN</td>\n",
       "      <td>System Wide Voltage Reduction</td>\n",
       "      <td>Puerto Rico Electric Power Authority</td>\n",
       "      <td>None</td>\n",
       "      <td>2013.0</td>\n",
       "    </tr>\n",
       "    <tr>\n",
       "      <th>51</th>\n",
       "      <td>System-wide Puerto Rico</td>\n",
       "      <td>2013-07-03 12:04:00</td>\n",
       "      <td>480</td>\n",
       "      <td>None</td>\n",
       "      <td>NaN</td>\n",
       "      <td>393000</td>\n",
       "      <td>07/03/2013 12:48 PM</td>\n",
       "      <td>NaN</td>\n",
       "      <td>Voltage Reduction; Line and Generator Trip</td>\n",
       "      <td>Puerto Rico Electric Power Authority</td>\n",
       "      <td>None</td>\n",
       "      <td>2013.0</td>\n",
       "    </tr>\n",
       "    <tr>\n",
       "      <th>22</th>\n",
       "      <td>Puerto Rico</td>\n",
       "      <td>2012-06-29 12:10:00</td>\n",
       "      <td>1800</td>\n",
       "      <td>None</td>\n",
       "      <td>NaN</td>\n",
       "      <td>900000</td>\n",
       "      <td>06/29/2012  5:02 PM</td>\n",
       "      <td>NaN</td>\n",
       "      <td>Equipment Trip &amp; Failure</td>\n",
       "      <td>Puerto Rico Electric Power Authority (PREPA)</td>\n",
       "      <td>None</td>\n",
       "      <td>2012.0</td>\n",
       "    </tr>\n",
       "    <tr>\n",
       "      <th>71</th>\n",
       "      <td>Puerto Rico</td>\n",
       "      <td>2012-09-26 21:16:00</td>\n",
       "      <td>600</td>\n",
       "      <td>None</td>\n",
       "      <td>NaN</td>\n",
       "      <td>371526</td>\n",
       "      <td>09/26/2012 10:18 PM</td>\n",
       "      <td>NaN</td>\n",
       "      <td>Voltage Reduction</td>\n",
       "      <td>Puerto Rico Electric Power Authority (PREPA)</td>\n",
       "      <td>None</td>\n",
       "      <td>2012.0</td>\n",
       "    </tr>\n",
       "    <tr>\n",
       "      <th>62</th>\n",
       "      <td>Hawaii</td>\n",
       "      <td>2011-05-02 17:06:00</td>\n",
       "      <td>220</td>\n",
       "      <td>None</td>\n",
       "      <td>NaN</td>\n",
       "      <td>62000</td>\n",
       "      <td>05/02/2011  8:00 PM</td>\n",
       "      <td>NaN</td>\n",
       "      <td>Severe Weather</td>\n",
       "      <td>Hawaiian Electric Company</td>\n",
       "      <td>None</td>\n",
       "      <td>2011.0</td>\n",
       "    </tr>\n",
       "    <tr>\n",
       "      <th>131</th>\n",
       "      <td>Puerto Rico</td>\n",
       "      <td>2011-08-21 22:45:00</td>\n",
       "      <td>2200</td>\n",
       "      <td>None</td>\n",
       "      <td>NaN</td>\n",
       "      <td>931000</td>\n",
       "      <td>08/23/2011 10:45 PM</td>\n",
       "      <td>NaN</td>\n",
       "      <td>Severe Weather</td>\n",
       "      <td>Puerto Rico Electric Power Authority (PREPA)</td>\n",
       "      <td>None</td>\n",
       "      <td>2011.0</td>\n",
       "    </tr>\n",
       "    <tr>\n",
       "      <th>164</th>\n",
       "      <td>Puerto Rico</td>\n",
       "      <td>2011-09-21 14:37:00</td>\n",
       "      <td>600</td>\n",
       "      <td>None</td>\n",
       "      <td>NaN</td>\n",
       "      <td>319616</td>\n",
       "      <td>09/21/2011  3:47 PM</td>\n",
       "      <td>NaN</td>\n",
       "      <td>Generation Inadequacy; Load Shed</td>\n",
       "      <td>Puerto Rico Electric Power Authority (PREPA)</td>\n",
       "      <td>None</td>\n",
       "      <td>2011.0</td>\n",
       "    </tr>\n",
       "    <tr>\n",
       "      <th>54</th>\n",
       "      <td>Puerto Rico</td>\n",
       "      <td>2014-03-31 15:41:00</td>\n",
       "      <td>Unknown</td>\n",
       "      <td>3</td>\n",
       "      <td>NaN</td>\n",
       "      <td>Unknown</td>\n",
       "      <td>3/31/14 20:08</td>\n",
       "      <td>None</td>\n",
       "      <td>System Wide Voltage\\rReduction</td>\n",
       "      <td>Puerto Rico Electric Power Authority</td>\n",
       "      <td>2014</td>\n",
       "      <td>2014.0</td>\n",
       "    </tr>\n",
       "    <tr>\n",
       "      <th>58</th>\n",
       "      <td>Puerto Rico</td>\n",
       "      <td>2014-04-08 11:09:00</td>\n",
       "      <td>Unknown</td>\n",
       "      <td>4</td>\n",
       "      <td>NaN</td>\n",
       "      <td>Unknown</td>\n",
       "      <td>4/8/14 11:20</td>\n",
       "      <td>None</td>\n",
       "      <td>Voltage Reduction</td>\n",
       "      <td>Puerto Rico Electric Power Authority</td>\n",
       "      <td>2014</td>\n",
       "      <td>2014.0</td>\n",
       "    </tr>\n",
       "    <tr>\n",
       "      <th>126</th>\n",
       "      <td>Puerto Rico</td>\n",
       "      <td>2014-10-14 18:20:00</td>\n",
       "      <td>Unknown</td>\n",
       "      <td>10</td>\n",
       "      <td>NaN</td>\n",
       "      <td>Unknown</td>\n",
       "      <td>10/14/14 18:28</td>\n",
       "      <td>None</td>\n",
       "      <td>Voltage Reduction</td>\n",
       "      <td>Puerto Rico Electric Power Authority</td>\n",
       "      <td>2014</td>\n",
       "      <td>2014.0</td>\n",
       "    </tr>\n",
       "    <tr>\n",
       "      <th>197</th>\n",
       "      <td>Puerto Rico</td>\n",
       "      <td>2015-07-28 12:05:00</td>\n",
       "      <td>150</td>\n",
       "      <td>7</td>\n",
       "      <td>NaN</td>\n",
       "      <td>Unknown</td>\n",
       "      <td>7/28/15 12:26</td>\n",
       "      <td>None</td>\n",
       "      <td>System-wide voltage reductions\\rof 3 percent o...</td>\n",
       "      <td>Puerto Rico Electric Power Authority</td>\n",
       "      <td>2015</td>\n",
       "      <td>2015.0</td>\n",
       "    </tr>\n",
       "    <tr>\n",
       "      <th>216</th>\n",
       "      <td>Puerto Rico</td>\n",
       "      <td>2015-10-23 09:42:00</td>\n",
       "      <td>500</td>\n",
       "      <td>10</td>\n",
       "      <td>NaN</td>\n",
       "      <td>300000</td>\n",
       "      <td>10/23/15 13:26</td>\n",
       "      <td>None</td>\n",
       "      <td>Electrical System Separation\\r(Islanding) wher...</td>\n",
       "      <td>Puerto Rico Electric Power Authority</td>\n",
       "      <td>2015</td>\n",
       "      <td>2015.0</td>\n",
       "    </tr>\n",
       "    <tr>\n",
       "      <th>282</th>\n",
       "      <td>Puerto Rico:</td>\n",
       "      <td>2016-09-21 14:30:00</td>\n",
       "      <td>2750</td>\n",
       "      <td>9</td>\n",
       "      <td>NaN</td>\n",
       "      <td>1475000</td>\n",
       "      <td>9/24/16 2:30</td>\n",
       "      <td>None</td>\n",
       "      <td>Complete operational failure or\\rshut-down of ...</td>\n",
       "      <td>Puerto Rico Electric Power Authority</td>\n",
       "      <td>2016</td>\n",
       "      <td>2016.0</td>\n",
       "    </tr>\n",
       "  </tbody>\n",
       "</table>\n",
       "</div>"
      ],
      "text/plain": [
       "                     Area Affected                Date Loss (megawatts) Month  \\\n",
       "9                      Puerto Rico 2013-02-10 19:46:00              350  None   \n",
       "14   Metropolitan area Puerto Rico 2013-03-04 09:49:00          Unknown  None   \n",
       "16          Systemwide Puerto Rico 2013-03-18 05:21:00              350  None   \n",
       "27         System wide Puerto Rico 2013-05-22 10:51:00              280  None   \n",
       "51         System-wide Puerto Rico 2013-07-03 12:04:00              480  None   \n",
       "22                     Puerto Rico 2012-06-29 12:10:00             1800  None   \n",
       "71                     Puerto Rico 2012-09-26 21:16:00              600  None   \n",
       "62                          Hawaii 2011-05-02 17:06:00              220  None   \n",
       "131                    Puerto Rico 2011-08-21 22:45:00             2200  None   \n",
       "164                    Puerto Rico 2011-09-21 14:37:00              600  None   \n",
       "54                     Puerto Rico 2014-03-31 15:41:00          Unknown     3   \n",
       "58                     Puerto Rico 2014-04-08 11:09:00          Unknown     4   \n",
       "126                    Puerto Rico 2014-10-14 18:20:00          Unknown    10   \n",
       "197                    Puerto Rico 2015-07-28 12:05:00              150     7   \n",
       "216                    Puerto Rico 2015-10-23 09:42:00              500    10   \n",
       "282                   Puerto Rico: 2016-09-21 14:30:00             2750     9   \n",
       "\n",
       "    NERC Region Number of Customers Affected Restoration Date and Time  Time  \\\n",
       "9           NaN                      Unknown       02/10/2013  8:15 PM   NaN   \n",
       "14          NaN                      Unknown       03/04/2013 10:00 PM   NaN   \n",
       "16          NaN                       262937       03/18/2013  5:41 AM   NaN   \n",
       "27          NaN                       197287       05/22/2013 10:57 AM   NaN   \n",
       "51          NaN                       393000       07/03/2013 12:48 PM   NaN   \n",
       "22          NaN                       900000       06/29/2012  5:02 PM   NaN   \n",
       "71          NaN                       371526       09/26/2012 10:18 PM   NaN   \n",
       "62          NaN                        62000       05/02/2011  8:00 PM   NaN   \n",
       "131         NaN                       931000       08/23/2011 10:45 PM   NaN   \n",
       "164         NaN                       319616       09/21/2011  3:47 PM   NaN   \n",
       "54          NaN                      Unknown             3/31/14 20:08  None   \n",
       "58          NaN                      Unknown              4/8/14 11:20  None   \n",
       "126         NaN                      Unknown            10/14/14 18:28  None   \n",
       "197         NaN                      Unknown             7/28/15 12:26  None   \n",
       "216         NaN                       300000            10/23/15 13:26  None   \n",
       "282         NaN                      1475000              9/24/16 2:30  None   \n",
       "\n",
       "                                   Type of Disturbance  \\\n",
       "9                    Generator Trip; Voltage Reduction   \n",
       "14   Equipment Failure; Transmission System Interru...   \n",
       "16                           Generator Trip; Load Shed   \n",
       "27                       System Wide Voltage Reduction   \n",
       "51          Voltage Reduction; Line and Generator Trip   \n",
       "22                            Equipment Trip & Failure   \n",
       "71                                   Voltage Reduction   \n",
       "62                                      Severe Weather   \n",
       "131                                     Severe Weather   \n",
       "164                   Generation Inadequacy; Load Shed   \n",
       "54                      System Wide Voltage\\rReduction   \n",
       "58                                   Voltage Reduction   \n",
       "126                                  Voltage Reduction   \n",
       "197  System-wide voltage reductions\\rof 3 percent o...   \n",
       "216  Electrical System Separation\\r(Islanding) wher...   \n",
       "282  Complete operational failure or\\rshut-down of ...   \n",
       "\n",
       "                               Utility/Power Pool  Year   Year2  \n",
       "9            Puerto Rico Electric Power Authority  None  2013.0  \n",
       "14           Puerto Rico Electric Power Authority  None  2013.0  \n",
       "16           Puerto Rico Electric Power Authority  None  2013.0  \n",
       "27           Puerto Rico Electric Power Authority  None  2013.0  \n",
       "51           Puerto Rico Electric Power Authority  None  2013.0  \n",
       "22   Puerto Rico Electric Power Authority (PREPA)  None  2012.0  \n",
       "71   Puerto Rico Electric Power Authority (PREPA)  None  2012.0  \n",
       "62                      Hawaiian Electric Company  None  2011.0  \n",
       "131  Puerto Rico Electric Power Authority (PREPA)  None  2011.0  \n",
       "164  Puerto Rico Electric Power Authority (PREPA)  None  2011.0  \n",
       "54           Puerto Rico Electric Power Authority  2014  2014.0  \n",
       "58           Puerto Rico Electric Power Authority  2014  2014.0  \n",
       "126          Puerto Rico Electric Power Authority  2014  2014.0  \n",
       "197          Puerto Rico Electric Power Authority  2015  2015.0  \n",
       "216          Puerto Rico Electric Power Authority  2015  2015.0  \n",
       "282          Puerto Rico Electric Power Authority  2016  2016.0  "
      ]
     },
     "execution_count": 157,
     "metadata": {},
     "output_type": "execute_result"
    }
   ],
   "source": [
    "df[df[\"NERC Region\"].isna()]"
   ]
  },
  {
   "cell_type": "code",
   "execution_count": 172,
   "metadata": {
    "ExecuteTime": {
     "end_time": "2019-07-19T19:33:55.752675Z",
     "start_time": "2019-07-19T19:33:55.667997Z"
    }
   },
   "outputs": [],
   "source": [
    "df[df[\"Area Affected\"] == \"Hawaii\"].loc[62,\"NERC Region\"] = \"HICC\""
   ]
  },
  {
   "cell_type": "code",
   "execution_count": 184,
   "metadata": {
    "ExecuteTime": {
     "end_time": "2019-07-19T19:37:46.797538Z",
     "start_time": "2019-07-19T19:37:46.770934Z"
    }
   },
   "outputs": [
    {
     "data": {
      "text/html": [
       "<div>\n",
       "<style scoped>\n",
       "    .dataframe tbody tr th:only-of-type {\n",
       "        vertical-align: middle;\n",
       "    }\n",
       "\n",
       "    .dataframe tbody tr th {\n",
       "        vertical-align: top;\n",
       "    }\n",
       "\n",
       "    .dataframe thead th {\n",
       "        text-align: right;\n",
       "    }\n",
       "</style>\n",
       "<table border=\"1\" class=\"dataframe\">\n",
       "  <thead>\n",
       "    <tr style=\"text-align: right;\">\n",
       "      <th></th>\n",
       "      <th>Area Affected</th>\n",
       "      <th>Date</th>\n",
       "      <th>Loss (megawatts)</th>\n",
       "      <th>Month</th>\n",
       "      <th>NERC Region</th>\n",
       "      <th>Number of Customers Affected</th>\n",
       "      <th>Restoration Date and Time</th>\n",
       "      <th>Time</th>\n",
       "      <th>Type of Disturbance</th>\n",
       "      <th>Utility/Power Pool</th>\n",
       "      <th>Year</th>\n",
       "      <th>Year2</th>\n",
       "      <th>NERC_Region</th>\n",
       "    </tr>\n",
       "  </thead>\n",
       "  <tbody>\n",
       "    <tr>\n",
       "      <th>62</th>\n",
       "      <td>Hawaii</td>\n",
       "      <td>2011-05-02 17:06:00</td>\n",
       "      <td>220</td>\n",
       "      <td>None</td>\n",
       "      <td>NaN</td>\n",
       "      <td>62000</td>\n",
       "      <td>05/02/2011  8:00 PM</td>\n",
       "      <td>NaN</td>\n",
       "      <td>Severe Weather</td>\n",
       "      <td>Hawaiian Electric Company</td>\n",
       "      <td>None</td>\n",
       "      <td>2011.0</td>\n",
       "      <td>HICC</td>\n",
       "    </tr>\n",
       "  </tbody>\n",
       "</table>\n",
       "</div>"
      ],
      "text/plain": [
       "   Area Affected                Date Loss (megawatts) Month NERC Region  \\\n",
       "62        Hawaii 2011-05-02 17:06:00              220  None         NaN   \n",
       "\n",
       "   Number of Customers Affected Restoration Date and Time Time  \\\n",
       "62                        62000       05/02/2011  8:00 PM  NaN   \n",
       "\n",
       "   Type of Disturbance         Utility/Power Pool  Year   Year2 NERC_Region  \n",
       "62      Severe Weather  Hawaiian Electric Company  None  2011.0        HICC  "
      ]
     },
     "execution_count": 184,
     "metadata": {},
     "output_type": "execute_result"
    }
   ],
   "source": [
    "df[df[\"Area Affected\"] == \"Hawaii\"]"
   ]
  },
  {
   "cell_type": "code",
   "execution_count": 186,
   "metadata": {
    "ExecuteTime": {
     "end_time": "2019-07-19T19:38:28.387877Z",
     "start_time": "2019-07-19T19:38:28.287017Z"
    }
   },
   "outputs": [],
   "source": [
    "def fix_hi(x):\n",
    "    if x[\"Area Affected\"] == \"Hawaii\":\n",
    "        return \"HICC\"\n",
    "    else:\n",
    "        return x[\"NERC Region\"]\n",
    "df[\"NERC Region\"] = df.apply(fix_hi, axis=1)"
   ]
  },
  {
   "cell_type": "code",
   "execution_count": 189,
   "metadata": {
    "ExecuteTime": {
     "end_time": "2019-07-19T19:38:46.349276Z",
     "start_time": "2019-07-19T19:38:46.327018Z"
    }
   },
   "outputs": [
    {
     "data": {
      "text/html": [
       "<div>\n",
       "<style scoped>\n",
       "    .dataframe tbody tr th:only-of-type {\n",
       "        vertical-align: middle;\n",
       "    }\n",
       "\n",
       "    .dataframe tbody tr th {\n",
       "        vertical-align: top;\n",
       "    }\n",
       "\n",
       "    .dataframe thead th {\n",
       "        text-align: right;\n",
       "    }\n",
       "</style>\n",
       "<table border=\"1\" class=\"dataframe\">\n",
       "  <thead>\n",
       "    <tr style=\"text-align: right;\">\n",
       "      <th></th>\n",
       "      <th>Area Affected</th>\n",
       "      <th>Date</th>\n",
       "      <th>Loss (megawatts)</th>\n",
       "      <th>Month</th>\n",
       "      <th>NERC Region</th>\n",
       "      <th>Number of Customers Affected</th>\n",
       "      <th>Restoration Date and Time</th>\n",
       "      <th>Time</th>\n",
       "      <th>Type of Disturbance</th>\n",
       "      <th>Utility/Power Pool</th>\n",
       "      <th>Year</th>\n",
       "      <th>Year2</th>\n",
       "    </tr>\n",
       "  </thead>\n",
       "  <tbody>\n",
       "    <tr>\n",
       "      <th>62</th>\n",
       "      <td>Hawaii</td>\n",
       "      <td>2011-05-02 17:06:00</td>\n",
       "      <td>220</td>\n",
       "      <td>None</td>\n",
       "      <td>HICC</td>\n",
       "      <td>62000</td>\n",
       "      <td>05/02/2011  8:00 PM</td>\n",
       "      <td>NaN</td>\n",
       "      <td>Severe Weather</td>\n",
       "      <td>Hawaiian Electric Company</td>\n",
       "      <td>None</td>\n",
       "      <td>2011.0</td>\n",
       "    </tr>\n",
       "  </tbody>\n",
       "</table>\n",
       "</div>"
      ],
      "text/plain": [
       "   Area Affected                Date Loss (megawatts) Month NERC Region  \\\n",
       "62        Hawaii 2011-05-02 17:06:00              220  None        HICC   \n",
       "\n",
       "   Number of Customers Affected Restoration Date and Time Time  \\\n",
       "62                        62000       05/02/2011  8:00 PM  NaN   \n",
       "\n",
       "   Type of Disturbance         Utility/Power Pool  Year   Year2  \n",
       "62      Severe Weather  Hawaiian Electric Company  None  2011.0  "
      ]
     },
     "execution_count": 189,
     "metadata": {},
     "output_type": "execute_result"
    }
   ],
   "source": [
    "df[df[\"Area Affected\"] == \"Hawaii\"]"
   ]
  },
  {
   "cell_type": "code",
   "execution_count": 188,
   "metadata": {
    "ExecuteTime": {
     "end_time": "2019-07-19T19:38:43.496288Z",
     "start_time": "2019-07-19T19:38:43.486893Z"
    }
   },
   "outputs": [],
   "source": [
    "df = df.drop(columns=\"NERC_Region\")"
   ]
  },
  {
   "cell_type": "code",
   "execution_count": 196,
   "metadata": {
    "ExecuteTime": {
     "end_time": "2019-07-19T19:45:14.606472Z",
     "start_time": "2019-07-19T19:45:14.533442Z"
    }
   },
   "outputs": [],
   "source": [
    "def fix_pr(x):\n",
    "    if x[\"Utility/Power Pool\"] == \"Puerto Rico Electric Power Authority\" or x[\"Utility/Power Pool\"] ==\"Puerto Rico Electric Power Authority (PREPA)\":\n",
    "        return \"PR\"\n",
    "    else:\n",
    "        return x[\"NERC Region\"]\n",
    "df[\"NERC Region\"] = df.apply(fix_pr, axis=1)"
   ]
  },
  {
   "cell_type": "code",
   "execution_count": 197,
   "metadata": {
    "ExecuteTime": {
     "end_time": "2019-07-19T19:45:16.789810Z",
     "start_time": "2019-07-19T19:45:16.759879Z"
    }
   },
   "outputs": [
    {
     "data": {
      "text/html": [
       "<div>\n",
       "<style scoped>\n",
       "    .dataframe tbody tr th:only-of-type {\n",
       "        vertical-align: middle;\n",
       "    }\n",
       "\n",
       "    .dataframe tbody tr th {\n",
       "        vertical-align: top;\n",
       "    }\n",
       "\n",
       "    .dataframe thead th {\n",
       "        text-align: right;\n",
       "    }\n",
       "</style>\n",
       "<table border=\"1\" class=\"dataframe\">\n",
       "  <thead>\n",
       "    <tr style=\"text-align: right;\">\n",
       "      <th></th>\n",
       "      <th>Area Affected</th>\n",
       "      <th>Date</th>\n",
       "      <th>Loss (megawatts)</th>\n",
       "      <th>Month</th>\n",
       "      <th>NERC Region</th>\n",
       "      <th>Number of Customers Affected</th>\n",
       "      <th>Restoration Date and Time</th>\n",
       "      <th>Time</th>\n",
       "      <th>Type of Disturbance</th>\n",
       "      <th>Utility/Power Pool</th>\n",
       "      <th>Year</th>\n",
       "      <th>Year2</th>\n",
       "    </tr>\n",
       "  </thead>\n",
       "  <tbody>\n",
       "    <tr>\n",
       "      <th>9</th>\n",
       "      <td>Puerto Rico</td>\n",
       "      <td>2013-02-10 19:46:00</td>\n",
       "      <td>350</td>\n",
       "      <td>None</td>\n",
       "      <td>PR</td>\n",
       "      <td>Unknown</td>\n",
       "      <td>02/10/2013  8:15 PM</td>\n",
       "      <td>NaN</td>\n",
       "      <td>Generator Trip; Voltage Reduction</td>\n",
       "      <td>Puerto Rico Electric Power Authority</td>\n",
       "      <td>None</td>\n",
       "      <td>2013.0</td>\n",
       "    </tr>\n",
       "    <tr>\n",
       "      <th>22</th>\n",
       "      <td>Puerto Rico</td>\n",
       "      <td>2012-06-29 12:10:00</td>\n",
       "      <td>1800</td>\n",
       "      <td>None</td>\n",
       "      <td>PR</td>\n",
       "      <td>900000</td>\n",
       "      <td>06/29/2012  5:02 PM</td>\n",
       "      <td>NaN</td>\n",
       "      <td>Equipment Trip &amp; Failure</td>\n",
       "      <td>Puerto Rico Electric Power Authority (PREPA)</td>\n",
       "      <td>None</td>\n",
       "      <td>2012.0</td>\n",
       "    </tr>\n",
       "    <tr>\n",
       "      <th>71</th>\n",
       "      <td>Puerto Rico</td>\n",
       "      <td>2012-09-26 21:16:00</td>\n",
       "      <td>600</td>\n",
       "      <td>None</td>\n",
       "      <td>PR</td>\n",
       "      <td>371526</td>\n",
       "      <td>09/26/2012 10:18 PM</td>\n",
       "      <td>NaN</td>\n",
       "      <td>Voltage Reduction</td>\n",
       "      <td>Puerto Rico Electric Power Authority (PREPA)</td>\n",
       "      <td>None</td>\n",
       "      <td>2012.0</td>\n",
       "    </tr>\n",
       "    <tr>\n",
       "      <th>131</th>\n",
       "      <td>Puerto Rico</td>\n",
       "      <td>2011-08-21 22:45:00</td>\n",
       "      <td>2200</td>\n",
       "      <td>None</td>\n",
       "      <td>PR</td>\n",
       "      <td>931000</td>\n",
       "      <td>08/23/2011 10:45 PM</td>\n",
       "      <td>NaN</td>\n",
       "      <td>Severe Weather</td>\n",
       "      <td>Puerto Rico Electric Power Authority (PREPA)</td>\n",
       "      <td>None</td>\n",
       "      <td>2011.0</td>\n",
       "    </tr>\n",
       "    <tr>\n",
       "      <th>164</th>\n",
       "      <td>Puerto Rico</td>\n",
       "      <td>2011-09-21 14:37:00</td>\n",
       "      <td>600</td>\n",
       "      <td>None</td>\n",
       "      <td>PR</td>\n",
       "      <td>319616</td>\n",
       "      <td>09/21/2011  3:47 PM</td>\n",
       "      <td>NaN</td>\n",
       "      <td>Generation Inadequacy; Load Shed</td>\n",
       "      <td>Puerto Rico Electric Power Authority (PREPA)</td>\n",
       "      <td>None</td>\n",
       "      <td>2011.0</td>\n",
       "    </tr>\n",
       "    <tr>\n",
       "      <th>54</th>\n",
       "      <td>Puerto Rico</td>\n",
       "      <td>2014-03-31 15:41:00</td>\n",
       "      <td>Unknown</td>\n",
       "      <td>3</td>\n",
       "      <td>PR</td>\n",
       "      <td>Unknown</td>\n",
       "      <td>3/31/14 20:08</td>\n",
       "      <td>None</td>\n",
       "      <td>System Wide Voltage\\rReduction</td>\n",
       "      <td>Puerto Rico Electric Power Authority</td>\n",
       "      <td>2014</td>\n",
       "      <td>2014.0</td>\n",
       "    </tr>\n",
       "    <tr>\n",
       "      <th>58</th>\n",
       "      <td>Puerto Rico</td>\n",
       "      <td>2014-04-08 11:09:00</td>\n",
       "      <td>Unknown</td>\n",
       "      <td>4</td>\n",
       "      <td>PR</td>\n",
       "      <td>Unknown</td>\n",
       "      <td>4/8/14 11:20</td>\n",
       "      <td>None</td>\n",
       "      <td>Voltage Reduction</td>\n",
       "      <td>Puerto Rico Electric Power Authority</td>\n",
       "      <td>2014</td>\n",
       "      <td>2014.0</td>\n",
       "    </tr>\n",
       "    <tr>\n",
       "      <th>126</th>\n",
       "      <td>Puerto Rico</td>\n",
       "      <td>2014-10-14 18:20:00</td>\n",
       "      <td>Unknown</td>\n",
       "      <td>10</td>\n",
       "      <td>PR</td>\n",
       "      <td>Unknown</td>\n",
       "      <td>10/14/14 18:28</td>\n",
       "      <td>None</td>\n",
       "      <td>Voltage Reduction</td>\n",
       "      <td>Puerto Rico Electric Power Authority</td>\n",
       "      <td>2014</td>\n",
       "      <td>2014.0</td>\n",
       "    </tr>\n",
       "    <tr>\n",
       "      <th>197</th>\n",
       "      <td>Puerto Rico</td>\n",
       "      <td>2015-07-28 12:05:00</td>\n",
       "      <td>150</td>\n",
       "      <td>7</td>\n",
       "      <td>PR</td>\n",
       "      <td>Unknown</td>\n",
       "      <td>7/28/15 12:26</td>\n",
       "      <td>None</td>\n",
       "      <td>System-wide voltage reductions\\rof 3 percent o...</td>\n",
       "      <td>Puerto Rico Electric Power Authority</td>\n",
       "      <td>2015</td>\n",
       "      <td>2015.0</td>\n",
       "    </tr>\n",
       "    <tr>\n",
       "      <th>207</th>\n",
       "      <td>Puerto Rico</td>\n",
       "      <td>2015-08-27 21:51:00</td>\n",
       "      <td>360</td>\n",
       "      <td>8</td>\n",
       "      <td>PR</td>\n",
       "      <td>Unknown</td>\n",
       "      <td>8/28/15 18:00</td>\n",
       "      <td>None</td>\n",
       "      <td>Uncontrolled loss of 300\\rMegawatts or more of...</td>\n",
       "      <td>Puerto Rico Electric Power Authority</td>\n",
       "      <td>2015</td>\n",
       "      <td>2015.0</td>\n",
       "    </tr>\n",
       "    <tr>\n",
       "      <th>216</th>\n",
       "      <td>Puerto Rico</td>\n",
       "      <td>2015-10-23 09:42:00</td>\n",
       "      <td>500</td>\n",
       "      <td>10</td>\n",
       "      <td>PR</td>\n",
       "      <td>300000</td>\n",
       "      <td>10/23/15 13:26</td>\n",
       "      <td>None</td>\n",
       "      <td>Electrical System Separation\\r(Islanding) wher...</td>\n",
       "      <td>Puerto Rico Electric Power Authority</td>\n",
       "      <td>2015</td>\n",
       "      <td>2015.0</td>\n",
       "    </tr>\n",
       "    <tr>\n",
       "      <th>248</th>\n",
       "      <td>Puerto Rico</td>\n",
       "      <td>2016-07-12 14:10:00</td>\n",
       "      <td>450</td>\n",
       "      <td>7</td>\n",
       "      <td>PR</td>\n",
       "      <td>218000</td>\n",
       "      <td>7/12/16 20:33</td>\n",
       "      <td>None</td>\n",
       "      <td>Voltage Reduction-System\\rOperations</td>\n",
       "      <td>Puerto Rico Electric Power Authority</td>\n",
       "      <td>2016</td>\n",
       "      <td>2016.0</td>\n",
       "    </tr>\n",
       "    <tr>\n",
       "      <th>255</th>\n",
       "      <td>Puerto Rico</td>\n",
       "      <td>2016-07-21 19:21:00</td>\n",
       "      <td>200</td>\n",
       "      <td>7</td>\n",
       "      <td>PR</td>\n",
       "      <td>266000</td>\n",
       "      <td>7/22/16 0:09</td>\n",
       "      <td>None</td>\n",
       "      <td>Load Shed 100+ MW, Voltage\\rReduction-System O...</td>\n",
       "      <td>Puerto Rico Electric Power Authority</td>\n",
       "      <td>2016</td>\n",
       "      <td>2016.0</td>\n",
       "    </tr>\n",
       "    <tr>\n",
       "      <th>259</th>\n",
       "      <td>Puerto Rico</td>\n",
       "      <td>2016-07-25 18:51:00</td>\n",
       "      <td>0</td>\n",
       "      <td>7</td>\n",
       "      <td>PR</td>\n",
       "      <td>0</td>\n",
       "      <td>7/26/16 2:19</td>\n",
       "      <td>None</td>\n",
       "      <td>Voltage Reduction-System\\rOperations</td>\n",
       "      <td>Puerto Rico Electric Power Authority</td>\n",
       "      <td>2016</td>\n",
       "      <td>2016.0</td>\n",
       "    </tr>\n",
       "    <tr>\n",
       "      <th>260</th>\n",
       "      <td>Puerto Rico</td>\n",
       "      <td>2016-07-26 18:51:00</td>\n",
       "      <td>25</td>\n",
       "      <td>7</td>\n",
       "      <td>PR</td>\n",
       "      <td>37100</td>\n",
       "      <td>7/27/16 1:45</td>\n",
       "      <td>None</td>\n",
       "      <td>Voltage Reduction-System\\rOperations</td>\n",
       "      <td>Puerto Rico Electric Power Authority</td>\n",
       "      <td>2016</td>\n",
       "      <td>2016.0</td>\n",
       "    </tr>\n",
       "    <tr>\n",
       "      <th>261</th>\n",
       "      <td>Puerto Rico</td>\n",
       "      <td>2016-07-27 18:50:00</td>\n",
       "      <td>80</td>\n",
       "      <td>7</td>\n",
       "      <td>PR</td>\n",
       "      <td>106300</td>\n",
       "      <td>7/28/16 1:38</td>\n",
       "      <td>None</td>\n",
       "      <td>Voltage Reduction-System\\rOperations</td>\n",
       "      <td>Puerto Rico Electric Power Authority</td>\n",
       "      <td>2016</td>\n",
       "      <td>2016.0</td>\n",
       "    </tr>\n",
       "    <tr>\n",
       "      <th>262</th>\n",
       "      <td>Puerto Rico</td>\n",
       "      <td>2016-07-28 18:51:00</td>\n",
       "      <td>22</td>\n",
       "      <td>7</td>\n",
       "      <td>PR</td>\n",
       "      <td>21600</td>\n",
       "      <td>7/29/16 2:02</td>\n",
       "      <td>None</td>\n",
       "      <td>Voltage Reduction-System\\rOperations</td>\n",
       "      <td>Puerto Rico Electric Power Authority</td>\n",
       "      <td>2016</td>\n",
       "      <td>2016.0</td>\n",
       "    </tr>\n",
       "    <tr>\n",
       "      <th>263</th>\n",
       "      <td>Puerto Rico</td>\n",
       "      <td>2016-07-29 19:09:00</td>\n",
       "      <td>0</td>\n",
       "      <td>7</td>\n",
       "      <td>PR</td>\n",
       "      <td>0</td>\n",
       "      <td>7/29/16 19:57</td>\n",
       "      <td>None</td>\n",
       "      <td>Voltage Reduction-System\\rOperations</td>\n",
       "      <td>Puerto Rico Electric Power Authority</td>\n",
       "      <td>2016</td>\n",
       "      <td>2016.0</td>\n",
       "    </tr>\n",
       "  </tbody>\n",
       "</table>\n",
       "</div>"
      ],
      "text/plain": [
       "    Area Affected                Date Loss (megawatts) Month NERC Region  \\\n",
       "9     Puerto Rico 2013-02-10 19:46:00              350  None          PR   \n",
       "22    Puerto Rico 2012-06-29 12:10:00             1800  None          PR   \n",
       "71    Puerto Rico 2012-09-26 21:16:00              600  None          PR   \n",
       "131   Puerto Rico 2011-08-21 22:45:00             2200  None          PR   \n",
       "164   Puerto Rico 2011-09-21 14:37:00              600  None          PR   \n",
       "54    Puerto Rico 2014-03-31 15:41:00          Unknown     3          PR   \n",
       "58    Puerto Rico 2014-04-08 11:09:00          Unknown     4          PR   \n",
       "126   Puerto Rico 2014-10-14 18:20:00          Unknown    10          PR   \n",
       "197   Puerto Rico 2015-07-28 12:05:00              150     7          PR   \n",
       "207   Puerto Rico 2015-08-27 21:51:00              360     8          PR   \n",
       "216   Puerto Rico 2015-10-23 09:42:00              500    10          PR   \n",
       "248   Puerto Rico 2016-07-12 14:10:00              450     7          PR   \n",
       "255   Puerto Rico 2016-07-21 19:21:00              200     7          PR   \n",
       "259   Puerto Rico 2016-07-25 18:51:00                0     7          PR   \n",
       "260   Puerto Rico 2016-07-26 18:51:00               25     7          PR   \n",
       "261   Puerto Rico 2016-07-27 18:50:00               80     7          PR   \n",
       "262   Puerto Rico 2016-07-28 18:51:00               22     7          PR   \n",
       "263   Puerto Rico 2016-07-29 19:09:00                0     7          PR   \n",
       "\n",
       "    Number of Customers Affected Restoration Date and Time  Time  \\\n",
       "9                        Unknown       02/10/2013  8:15 PM   NaN   \n",
       "22                        900000       06/29/2012  5:02 PM   NaN   \n",
       "71                        371526       09/26/2012 10:18 PM   NaN   \n",
       "131                       931000       08/23/2011 10:45 PM   NaN   \n",
       "164                       319616       09/21/2011  3:47 PM   NaN   \n",
       "54                       Unknown             3/31/14 20:08  None   \n",
       "58                       Unknown              4/8/14 11:20  None   \n",
       "126                      Unknown            10/14/14 18:28  None   \n",
       "197                      Unknown             7/28/15 12:26  None   \n",
       "207                      Unknown             8/28/15 18:00  None   \n",
       "216                       300000            10/23/15 13:26  None   \n",
       "248                       218000             7/12/16 20:33  None   \n",
       "255                       266000              7/22/16 0:09  None   \n",
       "259                            0              7/26/16 2:19  None   \n",
       "260                        37100              7/27/16 1:45  None   \n",
       "261                       106300              7/28/16 1:38  None   \n",
       "262                        21600              7/29/16 2:02  None   \n",
       "263                            0             7/29/16 19:57  None   \n",
       "\n",
       "                                   Type of Disturbance  \\\n",
       "9                    Generator Trip; Voltage Reduction   \n",
       "22                            Equipment Trip & Failure   \n",
       "71                                   Voltage Reduction   \n",
       "131                                     Severe Weather   \n",
       "164                   Generation Inadequacy; Load Shed   \n",
       "54                      System Wide Voltage\\rReduction   \n",
       "58                                   Voltage Reduction   \n",
       "126                                  Voltage Reduction   \n",
       "197  System-wide voltage reductions\\rof 3 percent o...   \n",
       "207  Uncontrolled loss of 300\\rMegawatts or more of...   \n",
       "216  Electrical System Separation\\r(Islanding) wher...   \n",
       "248               Voltage Reduction-System\\rOperations   \n",
       "255  Load Shed 100+ MW, Voltage\\rReduction-System O...   \n",
       "259               Voltage Reduction-System\\rOperations   \n",
       "260               Voltage Reduction-System\\rOperations   \n",
       "261               Voltage Reduction-System\\rOperations   \n",
       "262               Voltage Reduction-System\\rOperations   \n",
       "263               Voltage Reduction-System\\rOperations   \n",
       "\n",
       "                               Utility/Power Pool  Year   Year2  \n",
       "9            Puerto Rico Electric Power Authority  None  2013.0  \n",
       "22   Puerto Rico Electric Power Authority (PREPA)  None  2012.0  \n",
       "71   Puerto Rico Electric Power Authority (PREPA)  None  2012.0  \n",
       "131  Puerto Rico Electric Power Authority (PREPA)  None  2011.0  \n",
       "164  Puerto Rico Electric Power Authority (PREPA)  None  2011.0  \n",
       "54           Puerto Rico Electric Power Authority  2014  2014.0  \n",
       "58           Puerto Rico Electric Power Authority  2014  2014.0  \n",
       "126          Puerto Rico Electric Power Authority  2014  2014.0  \n",
       "197          Puerto Rico Electric Power Authority  2015  2015.0  \n",
       "207          Puerto Rico Electric Power Authority  2015  2015.0  \n",
       "216          Puerto Rico Electric Power Authority  2015  2015.0  \n",
       "248          Puerto Rico Electric Power Authority  2016  2016.0  \n",
       "255          Puerto Rico Electric Power Authority  2016  2016.0  \n",
       "259          Puerto Rico Electric Power Authority  2016  2016.0  \n",
       "260          Puerto Rico Electric Power Authority  2016  2016.0  \n",
       "261          Puerto Rico Electric Power Authority  2016  2016.0  \n",
       "262          Puerto Rico Electric Power Authority  2016  2016.0  \n",
       "263          Puerto Rico Electric Power Authority  2016  2016.0  "
      ]
     },
     "execution_count": 197,
     "metadata": {},
     "output_type": "execute_result"
    }
   ],
   "source": [
    "df[df[\"Area Affected\"] == \"Puerto Rico\"]"
   ]
  },
  {
   "cell_type": "markdown",
   "metadata": {},
   "source": [
    "# Data all merged and Cleaned"
   ]
  },
  {
   "cell_type": "code",
   "execution_count": 39,
   "metadata": {
    "ExecuteTime": {
     "end_time": "2019-07-22T17:52:59.331679Z",
     "start_time": "2019-07-22T17:52:59.324596Z"
    }
   },
   "outputs": [],
   "source": [
    "import pandas as pd"
   ]
  },
  {
   "cell_type": "code",
   "execution_count": 40,
   "metadata": {
    "ExecuteTime": {
     "end_time": "2019-07-22T17:53:00.369563Z",
     "start_time": "2019-07-22T17:53:00.326527Z"
    }
   },
   "outputs": [],
   "source": [
    "df = pd.read_csv(\"disturbances.csv\")"
   ]
  },
  {
   "cell_type": "code",
   "execution_count": 201,
   "metadata": {
    "ExecuteTime": {
     "end_time": "2019-07-19T20:05:12.316798Z",
     "start_time": "2019-07-19T20:05:12.284214Z"
    }
   },
   "outputs": [],
   "source": [
    "#df.to_csv(\"disturbances.csv\")"
   ]
  },
  {
   "cell_type": "code",
   "execution_count": 41,
   "metadata": {
    "ExecuteTime": {
     "end_time": "2019-07-22T17:53:02.354379Z",
     "start_time": "2019-07-22T17:53:02.140147Z"
    }
   },
   "outputs": [],
   "source": [
    "df.Date = pd.to_datetime(df.Date)\n",
    "df.Year = df.Date.apply(lambda x: x.year)\n",
    "df.Month = df.Date.apply(lambda x: x.month)"
   ]
  },
  {
   "cell_type": "code",
   "execution_count": 42,
   "metadata": {
    "ExecuteTime": {
     "end_time": "2019-07-22T17:53:03.321566Z",
     "start_time": "2019-07-22T17:53:03.314144Z"
    }
   },
   "outputs": [],
   "source": [
    "def replace_dash(x):\n",
    "    if x == \"-\" or x==\"Unknown\":\n",
    "        return 0\n",
    "    else:\n",
    "        return x\n",
    "    \n",
    "df[ 'Number of Customers Affected'] = df[ 'Number of Customers Affected'].apply(replace_dash)"
   ]
  },
  {
   "cell_type": "code",
   "execution_count": 43,
   "metadata": {
    "ExecuteTime": {
     "end_time": "2019-07-22T17:53:04.628811Z",
     "start_time": "2019-07-22T17:53:04.550939Z"
    }
   },
   "outputs": [],
   "source": [
    "def fixna(x):\n",
    "    if x.temp == True:\n",
    "        return 0\n",
    "    else:\n",
    "        return x[\"Number of Customers Affected\"]\n",
    "    \n",
    "df[ 'Number of Customers Affected'] = df.apply(fixna, axis=1)"
   ]
  },
  {
   "cell_type": "code",
   "execution_count": 44,
   "metadata": {
    "ExecuteTime": {
     "end_time": "2019-07-22T17:53:05.597175Z",
     "start_time": "2019-07-22T17:53:05.589555Z"
    }
   },
   "outputs": [],
   "source": [
    "df[ 'Number of Customers Affected'] = df[ 'Number of Customers Affected'].astype(int)"
   ]
  },
  {
   "cell_type": "code",
   "execution_count": 45,
   "metadata": {
    "ExecuteTime": {
     "end_time": "2019-07-22T17:53:06.601669Z",
     "start_time": "2019-07-22T17:53:06.519541Z"
    }
   },
   "outputs": [],
   "source": [
    "df[\"year_month\"] = df.apply(lambda x: str(x.Year) + \"-\" + str(x.Month), axis=1)"
   ]
  },
  {
   "cell_type": "code",
   "execution_count": 46,
   "metadata": {
    "ExecuteTime": {
     "end_time": "2019-07-22T17:53:07.622066Z",
     "start_time": "2019-07-22T17:53:07.539228Z"
    }
   },
   "outputs": [],
   "source": [
    "def make_nerc(x):\n",
    "    return str(x.year_month) + \"-\" + str(x[\"NERC Region\"])\n",
    "\n",
    "df[\"year_month_nerc\"] = df.apply(make_nerc, axis=1)"
   ]
  },
  {
   "cell_type": "code",
   "execution_count": 47,
   "metadata": {
    "ExecuteTime": {
     "end_time": "2019-07-22T17:53:08.562182Z",
     "start_time": "2019-07-22T17:53:08.537242Z"
    }
   },
   "outputs": [],
   "source": [
    "df_affect = df.groupby(\"year_month_nerc\").sum().reset_index()[[\"year_month_nerc\", \"Number of Customers Affected\"]]"
   ]
  },
  {
   "cell_type": "code",
   "execution_count": 48,
   "metadata": {
    "ExecuteTime": {
     "end_time": "2019-07-22T17:53:09.485997Z",
     "start_time": "2019-07-22T17:53:09.463237Z"
    }
   },
   "outputs": [],
   "source": [
    "df_ct = df.groupby(\"year_month_nerc\").count().reset_index()[[\"year_month_nerc\", \"Number of Customers Affected\"]]"
   ]
  },
  {
   "cell_type": "code",
   "execution_count": 49,
   "metadata": {
    "ExecuteTime": {
     "end_time": "2019-07-22T17:53:10.445309Z",
     "start_time": "2019-07-22T17:53:10.431510Z"
    }
   },
   "outputs": [],
   "source": [
    "df_nercs = df_affect.merge(df_ct, on=\"year_month_nerc\")"
   ]
  },
  {
   "cell_type": "code",
   "execution_count": 50,
   "metadata": {
    "ExecuteTime": {
     "end_time": "2019-07-22T17:53:11.389218Z",
     "start_time": "2019-07-22T17:53:11.381881Z"
    }
   },
   "outputs": [],
   "source": [
    "df_nercs[\"year\"] = df_nercs[\"year_month_nerc\"].apply(lambda x: x[0:4])"
   ]
  },
  {
   "cell_type": "code",
   "execution_count": 51,
   "metadata": {
    "ExecuteTime": {
     "end_time": "2019-07-22T17:53:12.304788Z",
     "start_time": "2019-07-22T17:53:12.292132Z"
    }
   },
   "outputs": [],
   "source": [
    "df_nercs[\"month\"] = df_nercs[\"year_month_nerc\"].apply(lambda x: x.split(\"-\")[1])"
   ]
  },
  {
   "cell_type": "code",
   "execution_count": 52,
   "metadata": {
    "ExecuteTime": {
     "end_time": "2019-07-22T17:53:13.267863Z",
     "start_time": "2019-07-22T17:53:13.258611Z"
    }
   },
   "outputs": [],
   "source": [
    "df_nercs[\"nerc\"] = df_nercs[\"year_month_nerc\"].apply(lambda x: x.split(\"-\")[2])\n"
   ]
  },
  {
   "cell_type": "code",
   "execution_count": 53,
   "metadata": {
    "ExecuteTime": {
     "end_time": "2019-07-22T17:53:14.221056Z",
     "start_time": "2019-07-22T17:53:14.209341Z"
    }
   },
   "outputs": [],
   "source": [
    "def temp_func(x):\n",
    "    vals = x.split(\"-\")\n",
    "    vals[1] = vals[1].zfill(2)\n",
    "    return \"-\".join(vals)\n",
    "df_nercs.year_month_nerc = df_nercs.year_month_nerc.apply(temp_func)"
   ]
  },
  {
   "cell_type": "code",
   "execution_count": 54,
   "metadata": {
    "ExecuteTime": {
     "end_time": "2019-07-22T17:53:15.166231Z",
     "start_time": "2019-07-22T17:53:15.149933Z"
    }
   },
   "outputs": [
    {
     "data": {
      "text/plain": [
       "110000"
      ]
     },
     "execution_count": 54,
     "metadata": {},
     "output_type": "execute_result"
    }
   ],
   "source": [
    " df_nercs[df_nercs[\"year_month_nerc\"] == '2008-01-SERC'][\"Number of Customers Affected_x\"].values[0]"
   ]
  },
  {
   "cell_type": "code",
   "execution_count": 55,
   "metadata": {
    "ExecuteTime": {
     "end_time": "2019-07-22T17:53:16.172818Z",
     "start_time": "2019-07-22T17:53:16.158726Z"
    }
   },
   "outputs": [],
   "source": [
    "df_nercs[\"Number of Customers Affected_x\"] = df_nercs[\"Number of Customers Affected_x\"].fillna(value=0)\n",
    "df_nercs[\"Number of Customers Affected_y\"] = df_nercs[\"Number of Customers Affected_y\"].fillna(value=0)\n",
    "df_nercs = df_nercs.rename(columns={\"Number of Customers Affected_y\": \"disturbance_events\", \"Number of Customers Affected_x\": \"number_affected\"})"
   ]
  },
  {
   "cell_type": "code",
   "execution_count": 57,
   "metadata": {
    "ExecuteTime": {
     "end_time": "2019-07-22T17:53:21.105739Z",
     "start_time": "2019-07-22T17:53:21.083719Z"
    }
   },
   "outputs": [],
   "source": [
    "cursor.execute(\"\"\"drop table disturbance\"\"\")\n",
    "df_nercs.to_sql(\"disturbance\", conn)"
   ]
  },
  {
   "cell_type": "code",
   "execution_count": 30,
   "metadata": {
    "ExecuteTime": {
     "end_time": "2019-07-23T17:11:01.368490Z",
     "start_time": "2019-07-23T17:11:01.357135Z"
    }
   },
   "outputs": [],
   "source": [
    "temp = pd.DataFrame(cursor.execute(\"\"\"\n",
    "select * from disturbance\n",
    "\n",
    "\"\"\").fetchall())\n",
    "temp.columns = [description[0] for description in cursor.description]"
   ]
  },
  {
   "cell_type": "code",
   "execution_count": 31,
   "metadata": {
    "ExecuteTime": {
     "end_time": "2019-07-23T17:11:07.135465Z",
     "start_time": "2019-07-23T17:11:07.109730Z"
    }
   },
   "outputs": [
    {
     "data": {
      "text/html": [
       "<div>\n",
       "<style scoped>\n",
       "    .dataframe tbody tr th:only-of-type {\n",
       "        vertical-align: middle;\n",
       "    }\n",
       "\n",
       "    .dataframe tbody tr th {\n",
       "        vertical-align: top;\n",
       "    }\n",
       "\n",
       "    .dataframe thead th {\n",
       "        text-align: right;\n",
       "    }\n",
       "</style>\n",
       "<table border=\"1\" class=\"dataframe\">\n",
       "  <thead>\n",
       "    <tr style=\"text-align: right;\">\n",
       "      <th></th>\n",
       "      <th>index</th>\n",
       "      <th>year_month_nerc</th>\n",
       "      <th>disturbance_events</th>\n",
       "      <th>number_affected</th>\n",
       "      <th>year</th>\n",
       "      <th>month</th>\n",
       "      <th>nerc</th>\n",
       "    </tr>\n",
       "  </thead>\n",
       "  <tbody>\n",
       "    <tr>\n",
       "      <th>0</th>\n",
       "      <td>0</td>\n",
       "      <td>2008-01-NPCC</td>\n",
       "      <td>54316</td>\n",
       "      <td>1</td>\n",
       "      <td>2008</td>\n",
       "      <td>1</td>\n",
       "      <td>NPCC</td>\n",
       "    </tr>\n",
       "    <tr>\n",
       "      <th>1</th>\n",
       "      <td>1</td>\n",
       "      <td>2008-01-RFC</td>\n",
       "      <td>131915</td>\n",
       "      <td>2</td>\n",
       "      <td>2008</td>\n",
       "      <td>1</td>\n",
       "      <td>RFC</td>\n",
       "    </tr>\n",
       "    <tr>\n",
       "      <th>2</th>\n",
       "      <td>2</td>\n",
       "      <td>2008-01-SERC</td>\n",
       "      <td>110000</td>\n",
       "      <td>1</td>\n",
       "      <td>2008</td>\n",
       "      <td>1</td>\n",
       "      <td>SERC</td>\n",
       "    </tr>\n",
       "    <tr>\n",
       "      <th>3</th>\n",
       "      <td>3</td>\n",
       "      <td>2008-01-WECC</td>\n",
       "      <td>2756931</td>\n",
       "      <td>3</td>\n",
       "      <td>2008</td>\n",
       "      <td>1</td>\n",
       "      <td>WECC</td>\n",
       "    </tr>\n",
       "    <tr>\n",
       "      <th>4</th>\n",
       "      <td>4</td>\n",
       "      <td>2008-10-NPCC</td>\n",
       "      <td>52000</td>\n",
       "      <td>1</td>\n",
       "      <td>2008</td>\n",
       "      <td>10</td>\n",
       "      <td>NPCC</td>\n",
       "    </tr>\n",
       "  </tbody>\n",
       "</table>\n",
       "</div>"
      ],
      "text/plain": [
       "   index year_month_nerc  disturbance_events  number_affected  year month  \\\n",
       "0      0    2008-01-NPCC               54316                1  2008     1   \n",
       "1      1     2008-01-RFC              131915                2  2008     1   \n",
       "2      2    2008-01-SERC              110000                1  2008     1   \n",
       "3      3    2008-01-WECC             2756931                3  2008     1   \n",
       "4      4    2008-10-NPCC               52000                1  2008    10   \n",
       "\n",
       "   nerc  \n",
       "0  NPCC  \n",
       "1   RFC  \n",
       "2  SERC  \n",
       "3  WECC  \n",
       "4  NPCC  "
      ]
     },
     "execution_count": 31,
     "metadata": {},
     "output_type": "execute_result"
    }
   ],
   "source": [
    "temp.head()"
   ]
  },
  {
   "cell_type": "code",
   "execution_count": 1,
   "metadata": {
    "ExecuteTime": {
     "end_time": "2019-07-23T18:28:09.295067Z",
     "start_time": "2019-07-23T18:28:08.474133Z"
    }
   },
   "outputs": [],
   "source": [
    "import pandas as pd\n",
    "import sqlite3 \n",
    "conn = sqlite3.connect(\"eia\")\n",
    "cursor = conn.cursor()"
   ]
  },
  {
   "cell_type": "code",
   "execution_count": 2,
   "metadata": {
    "ExecuteTime": {
     "end_time": "2019-07-23T18:28:53.705636Z",
     "start_time": "2019-07-23T18:28:10.110179Z"
    }
   },
   "outputs": [],
   "source": [
    "df_temp = pd.DataFrame(cursor.execute(\"\"\"\n",
    "select c.*, d.number_affected, d.disturbance_events from combined2 c\n",
    "Left join disturbance d\n",
    "on d.year_month_nerc = c.year_month_nerc\n",
    "\n",
    "\"\"\").fetchall())\n",
    "df_temp.columns = [description[0] for description in cursor.description]"
   ]
  },
  {
   "cell_type": "code",
   "execution_count": 3,
   "metadata": {
    "ExecuteTime": {
     "end_time": "2019-07-23T18:28:56.987538Z",
     "start_time": "2019-07-23T18:28:55.902493Z"
    }
   },
   "outputs": [],
   "source": [
    "df_temp = df_temp[df_temp.fuel_cost.notna()]"
   ]
  },
  {
   "cell_type": "code",
   "execution_count": 4,
   "metadata": {
    "ExecuteTime": {
     "end_time": "2019-07-23T18:29:00.853515Z",
     "start_time": "2019-07-23T18:29:00.794969Z"
    }
   },
   "outputs": [],
   "source": [
    "df_temp.disturbance_events = df_temp.disturbance_events.fillna(value=0)\n",
    "df_temp.number_affected = df_temp.number_affected.fillna(value=0)"
   ]
  },
  {
   "cell_type": "code",
   "execution_count": 5,
   "metadata": {
    "ExecuteTime": {
     "end_time": "2019-07-23T18:29:04.935102Z",
     "start_time": "2019-07-23T18:29:02.636674Z"
    }
   },
   "outputs": [],
   "source": [
    "def try_float(x):\n",
    "    if x ==\"\" or x == None or x == \".\":\n",
    "        return 0\n",
    "    else:\n",
    "        return float(x)\n",
    "df_temp[\"mmbtu_per_unit_gen\"] = df_temp[\"mmbtu_per_unit_gen\"].apply(try_float)\n",
    "df_temp[\"mmbtu_per_unit_gen\"] = df_temp[\"mmbtu_per_unit_gen\"].astype(float)"
   ]
  },
  {
   "cell_type": "code",
   "execution_count": 6,
   "metadata": {
    "ExecuteTime": {
     "end_time": "2019-07-23T18:29:06.452220Z",
     "start_time": "2019-07-23T18:29:06.444408Z"
    }
   },
   "outputs": [],
   "source": [
    "fields_to_clean = [\"total_fuel_consumption_quantity\", \"electric_fuel_consumption_quantity\", \"total_fuel_consumption_mmbtu\", \"elec_fuel_consumption_mmbtu\", \"net_generation_megawatthours\", \"quantity_gen\", \"elec_quantity_gen\", \"tot_mmbtu_gen\", \"elec_mmbtu_gen\", \"netgen_gen\"]"
   ]
  },
  {
   "cell_type": "code",
   "execution_count": 7,
   "metadata": {
    "ExecuteTime": {
     "end_time": "2019-07-23T18:29:07.656207Z",
     "start_time": "2019-07-23T18:29:07.645043Z"
    }
   },
   "outputs": [],
   "source": [
    "def none_to_zero(x):\n",
    "    if (x==\"None\") or (x == \".\"):\n",
    "        return 0\n",
    "    else:\n",
    "        return x"
   ]
  },
  {
   "cell_type": "code",
   "execution_count": 8,
   "metadata": {
    "ExecuteTime": {
     "end_time": "2019-07-23T18:29:13.662406Z",
     "start_time": "2019-07-23T18:29:08.765659Z"
    }
   },
   "outputs": [],
   "source": [
    "for fld in fields_to_clean:\n",
    "    df_temp[fld] = df_temp[fld].apply(lambda x: str(x).replace(\",\", \"\"))"
   ]
  },
  {
   "cell_type": "code",
   "execution_count": 9,
   "metadata": {
    "ExecuteTime": {
     "end_time": "2019-07-23T18:29:17.264167Z",
     "start_time": "2019-07-23T18:29:14.634452Z"
    }
   },
   "outputs": [],
   "source": [
    "for fld in fields_to_clean:\n",
    "    df_temp[fld] = df_temp[fld].apply(none_to_zero)"
   ]
  },
  {
   "cell_type": "code",
   "execution_count": 10,
   "metadata": {
    "ExecuteTime": {
     "end_time": "2019-07-23T18:29:21.736374Z",
     "start_time": "2019-07-23T18:29:18.041405Z"
    }
   },
   "outputs": [],
   "source": [
    "for fld in fields_to_clean:\n",
    "    df_temp[fld] = df_temp[fld].apply(lambda x: str(x).replace(\",\", \"\"))"
   ]
  },
  {
   "cell_type": "code",
   "execution_count": 11,
   "metadata": {
    "ExecuteTime": {
     "end_time": "2019-07-23T18:29:37.922608Z",
     "start_time": "2019-07-23T18:29:22.635517Z"
    }
   },
   "outputs": [],
   "source": [
    "for fld in fields_to_clean:\n",
    "    df_temp[fld] = df_temp[fld].astype(int)"
   ]
  },
  {
   "cell_type": "code",
   "execution_count": 12,
   "metadata": {
    "ExecuteTime": {
     "end_time": "2019-07-23T18:29:40.342390Z",
     "start_time": "2019-07-23T18:29:38.600587Z"
    }
   },
   "outputs": [],
   "source": [
    "# For category columns, switch None values to N/A\n",
    "def none_to_na(x):\n",
    "    if x == None:\n",
    "        return \"N/A\"\n",
    "    else:\n",
    "        return x\n",
    "df_temp.contract_type = df_temp.contract_type.apply(none_to_na)\n",
    "df_temp.natural_gas_delivery_contract_type = df_temp.natural_gas_delivery_contract_type.apply(none_to_na)\n",
    "df_temp.natural_gas_supply_contract_type = df_temp.natural_gas_supply_contract_type.apply(none_to_na)\n",
    "df_temp.natural_gas_transportation_service = df_temp.natural_gas_transportation_service.apply(none_to_na)\n",
    "df_temp.primary_transportation_mode = df_temp.primary_transportation_mode.apply(none_to_na)\n",
    "df_temp.secondary_transportation_mode = df_temp.secondary_transportation_mode.apply(none_to_na)\n",
    "df_temp.nerc_region = df_temp.nerc_region.apply(none_to_na)\n",
    "df_temp.purchase_type = df_temp.purchase_type.apply(none_to_na)\n",
    "df_temp.supplier = df_temp.supplier.apply(none_to_na)"
   ]
  },
  {
   "cell_type": "code",
   "execution_count": 13,
   "metadata": {
    "ExecuteTime": {
     "end_time": "2019-07-23T18:29:41.815686Z",
     "start_time": "2019-07-23T18:29:40.859625Z"
    }
   },
   "outputs": [],
   "source": [
    "coal_fixes = [\"coalmine_county\", \"coalmine_state\", \"coalmine_type\"]\n",
    "for fld in coal_fixes:\n",
    "    df_temp[fld] = df_temp[fld].fillna(value=\"N/A\")\n",
    "    df_temp[fld] = df_temp[fld].apply(none_to_na)\n",
    "    df_temp[fld] = df_temp[fld].astype(str)"
   ]
  },
  {
   "cell_type": "code",
   "execution_count": 14,
   "metadata": {
    "ExecuteTime": {
     "end_time": "2019-07-23T18:29:47.872912Z",
     "start_time": "2019-07-23T18:29:47.841987Z"
    }
   },
   "outputs": [],
   "source": [
    "df_temp.average_mercury_content = df_temp.average_mercury_content.fillna(value=0)\n",
    "df_temp.average_sulfur_content = df_temp.average_sulfur_content.fillna(value=0)\n",
    "df_temp.moisture_content = df_temp.moisture_content.fillna(value=0)\n",
    "df_temp.chlorine_content = df_temp.chlorine_content.fillna(value=0)"
   ]
  },
  {
   "cell_type": "code",
   "execution_count": 15,
   "metadata": {
    "ExecuteTime": {
     "end_time": "2019-07-23T18:29:48.842466Z",
     "start_time": "2019-07-23T18:29:48.721881Z"
    }
   },
   "outputs": [],
   "source": [
    "df_temp.coalmine_msha_id = df_temp.coalmine_msha_id.fillna(value=\"N/A\")"
   ]
  },
  {
   "cell_type": "code",
   "execution_count": 16,
   "metadata": {
    "ExecuteTime": {
     "end_time": "2019-07-23T18:29:53.327749Z",
     "start_time": "2019-07-23T18:29:50.000432Z"
    }
   },
   "outputs": [],
   "source": [
    "df_temp = df_temp.drop(columns=[\"nuclear_unit_id\", \"operator_id_gen\"])"
   ]
  },
  {
   "cell_type": "code",
   "execution_count": 17,
   "metadata": {
    "ExecuteTime": {
     "end_time": "2019-07-23T18:29:55.458529Z",
     "start_time": "2019-07-23T18:29:54.065228Z"
    }
   },
   "outputs": [],
   "source": [
    "for col in df_temp.columns:\n",
    "    if \"_id\" in col:\n",
    "        try:\n",
    "            df_temp[col] = df_temp[col].astype(str)\n",
    "        except:\n",
    "            print(col)"
   ]
  },
  {
   "cell_type": "code",
   "execution_count": 18,
   "metadata": {
    "ExecuteTime": {
     "end_time": "2019-07-23T18:30:00.739013Z",
     "start_time": "2019-07-23T18:29:57.704756Z"
    }
   },
   "outputs": [
    {
     "data": {
      "text/plain": [
       "<sqlite3.Cursor at 0x1042caab0>"
      ]
     },
     "execution_count": 18,
     "metadata": {},
     "output_type": "execute_result"
    }
   ],
   "source": [
    "cursor.execute(\"\"\"drop table combined5\"\"\")"
   ]
  },
  {
   "cell_type": "code",
   "execution_count": 19,
   "metadata": {
    "ExecuteTime": {
     "end_time": "2019-07-23T18:30:26.113759Z",
     "start_time": "2019-07-23T18:30:01.543680Z"
    }
   },
   "outputs": [],
   "source": [
    "df_temp.to_sql(\"combined5\", conn)"
   ]
  }
 ],
 "metadata": {
  "kernelspec": {
   "display_name": "Python 3",
   "language": "python",
   "name": "python3"
  },
  "language_info": {
   "codemirror_mode": {
    "name": "ipython",
    "version": 3
   },
   "file_extension": ".py",
   "mimetype": "text/x-python",
   "name": "python",
   "nbconvert_exporter": "python",
   "pygments_lexer": "ipython3",
   "version": "3.7.3"
  },
  "toc": {
   "base_numbering": 1,
   "nav_menu": {},
   "number_sections": true,
   "sideBar": true,
   "skip_h1_title": false,
   "title_cell": "Table of Contents",
   "title_sidebar": "Contents",
   "toc_cell": false,
   "toc_position": {},
   "toc_section_display": true,
   "toc_window_display": false
  },
  "varInspector": {
   "cols": {
    "lenName": 16,
    "lenType": 16,
    "lenVar": 40
   },
   "kernels_config": {
    "python": {
     "delete_cmd_postfix": "",
     "delete_cmd_prefix": "del ",
     "library": "var_list.py",
     "varRefreshCmd": "print(var_dic_list())"
    },
    "r": {
     "delete_cmd_postfix": ") ",
     "delete_cmd_prefix": "rm(",
     "library": "var_list.r",
     "varRefreshCmd": "cat(var_dic_list()) "
    }
   },
   "types_to_exclude": [
    "module",
    "function",
    "builtin_function_or_method",
    "instance",
    "_Feature"
   ],
   "window_display": false
  }
 },
 "nbformat": 4,
 "nbformat_minor": 2
}
