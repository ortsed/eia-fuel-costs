{
 "cells": [
  {
   "cell_type": "code",
   "execution_count": 190,
   "metadata": {
    "ExecuteTime": {
     "end_time": "2019-07-16T20:03:26.787159Z",
     "start_time": "2019-07-16T20:03:26.780139Z"
    }
   },
   "outputs": [],
   "source": [
    "import pandas as pd\n",
    "import os\n",
    "import numpy as np\n",
    "pd.set_option(\"display.max_columns\", 500)"
   ]
  },
  {
   "cell_type": "code",
   "execution_count": 32,
   "metadata": {
    "ExecuteTime": {
     "end_time": "2019-07-16T18:34:34.269802Z",
     "start_time": "2019-07-16T18:34:34.082209Z"
    }
   },
   "outputs": [
    {
     "name": "stdout",
     "output_type": "stream",
     "text": [
      "2008.csv 2010.csv 2012.csv 2014.csv 2016.csv 2018.csv\r\n",
      "2009.csv 2011.csv 2013.csv 2015.csv 2017.csv 2019.csv\r\n"
     ]
    }
   ],
   "source": [
    "!ls combined"
   ]
  },
  {
   "cell_type": "markdown",
   "metadata": {
    "heading_collapsed": true
   },
   "source": [
    "# Coalescing Yearly Files"
   ]
  },
  {
   "cell_type": "code",
   "execution_count": 144,
   "metadata": {
    "ExecuteTime": {
     "end_time": "2019-07-16T19:44:45.342354Z",
     "start_time": "2019-07-16T19:44:45.332946Z"
    },
    "hidden": true
   },
   "outputs": [],
   "source": [
    "# function to format columns into a standard style, coalesce names\n",
    "def format_column_name(cols):\n",
    "    cols = [col.lower() for col in cols]\n",
    "    cols = [col.replace(\"\\n\", \" \") for col in cols]\n",
    "    cols = [col.replace(\" \", \"_\") for col in cols]\n",
    "    if \"state\" in cols: cols[cols.index(\"state\")] = \"plant_state\"  \n",
    "    if 'contract_exp_date' in cols: cols[cols.index('contract_exp_date')] =  'contract_expiration_date'  \n",
    "    if 'respondent_frequency' in cols: cols[cols.index('respondent_frequency')] =  'reporting_frequency'  \n",
    "    return cols"
   ]
  },
  {
   "cell_type": "code",
   "execution_count": 145,
   "metadata": {
    "ExecuteTime": {
     "end_time": "2019-07-16T19:44:46.392388Z",
     "start_time": "2019-07-16T19:44:46.075393Z"
    },
    "hidden": true
   },
   "outputs": [
    {
     "data": {
      "text/plain": [
       "['reporting_frequency',\n",
       " 'average_heat_content',\n",
       " 'plant_id',\n",
       " 'coalmine_type',\n",
       " 'coalmine_county',\n",
       " 'operator_id',\n",
       " 'coalmine_name',\n",
       " 'plant_name',\n",
       " 'fuel_cost',\n",
       " 'average_ash_content',\n",
       " 'regulated',\n",
       " 'secondary_transportation_mode',\n",
       " 'coalmine_state',\n",
       " 'coalmine_msha_id',\n",
       " 'quantity',\n",
       " 'operator_name',\n",
       " 'contract_expiration_date',\n",
       " 'energy_source',\n",
       " 'supplier',\n",
       " 'year',\n",
       " 'plant_state',\n",
       " 'average_sulfur_content',\n",
       " 'primary_transportation_mode',\n",
       " 'fuel_group',\n",
       " 'month']"
      ]
     },
     "execution_count": 145,
     "metadata": {},
     "output_type": "execute_result"
    }
   ],
   "source": [
    "# loop through to get a common set of fields across all documents\n",
    "common_fields = set()\n",
    "for file in os.listdir(\"combined\"):\n",
    "    if \".csv\" in file:\n",
    "        df = pd.read_csv(\"combined/\" + file, nrows=1)\n",
    "        cols = format_column_name(df.columns)\n",
    "        if len(common_fields) > 0:\n",
    "            common_fields = common_fields.intersection(set(cols))\n",
    "            unused = common_fields.union(set(cols))\n",
    "        else: common_fields = set(cols)\n",
    "common_fields = list(common_fields)\n",
    "common_fields"
   ]
  },
  {
   "cell_type": "code",
   "execution_count": 146,
   "metadata": {
    "ExecuteTime": {
     "end_time": "2019-07-16T19:44:48.660747Z",
     "start_time": "2019-07-16T19:44:48.483559Z"
    },
    "hidden": true,
    "scrolled": true
   },
   "outputs": [
    {
     "data": {
      "text/plain": [
       "['average_ash_content',\n",
       " 'average_ash_content',\n",
       " 'average_ash_content',\n",
       " 'average_ash_content',\n",
       " 'average_ash_content',\n",
       " 'average_ash_content',\n",
       " 'average_ash_content',\n",
       " 'average_ash_content',\n",
       " 'average_ash_content',\n",
       " 'average_ash_content',\n",
       " 'average_ash_content',\n",
       " 'average_ash_content',\n",
       " 'average_heat_content',\n",
       " 'average_heat_content',\n",
       " 'average_heat_content',\n",
       " 'average_heat_content',\n",
       " 'average_heat_content',\n",
       " 'average_heat_content',\n",
       " 'average_heat_content',\n",
       " 'average_heat_content',\n",
       " 'average_heat_content',\n",
       " 'average_heat_content',\n",
       " 'average_heat_content',\n",
       " 'average_heat_content',\n",
       " 'average_mercury_content',\n",
       " 'average_mercury_content',\n",
       " 'average_mercury_content',\n",
       " 'average_mercury_content',\n",
       " 'average_mercury_content',\n",
       " 'average_mercury_content',\n",
       " 'average_mercury_content',\n",
       " 'average_sulfur_content',\n",
       " 'average_sulfur_content',\n",
       " 'average_sulfur_content',\n",
       " 'average_sulfur_content',\n",
       " 'average_sulfur_content',\n",
       " 'average_sulfur_content',\n",
       " 'average_sulfur_content',\n",
       " 'average_sulfur_content',\n",
       " 'average_sulfur_content',\n",
       " 'average_sulfur_content',\n",
       " 'average_sulfur_content',\n",
       " 'average_sulfur_content',\n",
       " 'chlorine_content',\n",
       " 'chlorine_content',\n",
       " 'chlorine_content',\n",
       " 'coalmine_county',\n",
       " 'coalmine_county',\n",
       " 'coalmine_county',\n",
       " 'coalmine_county',\n",
       " 'coalmine_county',\n",
       " 'coalmine_county',\n",
       " 'coalmine_county',\n",
       " 'coalmine_county',\n",
       " 'coalmine_county',\n",
       " 'coalmine_county',\n",
       " 'coalmine_county',\n",
       " 'coalmine_county',\n",
       " 'coalmine_msha_id',\n",
       " 'coalmine_msha_id',\n",
       " 'coalmine_msha_id',\n",
       " 'coalmine_msha_id',\n",
       " 'coalmine_msha_id',\n",
       " 'coalmine_msha_id',\n",
       " 'coalmine_msha_id',\n",
       " 'coalmine_msha_id',\n",
       " 'coalmine_msha_id',\n",
       " 'coalmine_msha_id',\n",
       " 'coalmine_msha_id',\n",
       " 'coalmine_msha_id',\n",
       " 'coalmine_name',\n",
       " 'coalmine_name',\n",
       " 'coalmine_name',\n",
       " 'coalmine_name',\n",
       " 'coalmine_name',\n",
       " 'coalmine_name',\n",
       " 'coalmine_name',\n",
       " 'coalmine_name',\n",
       " 'coalmine_name',\n",
       " 'coalmine_name',\n",
       " 'coalmine_name',\n",
       " 'coalmine_name',\n",
       " 'coalmine_state',\n",
       " 'coalmine_state',\n",
       " 'coalmine_state',\n",
       " 'coalmine_state',\n",
       " 'coalmine_state',\n",
       " 'coalmine_state',\n",
       " 'coalmine_state',\n",
       " 'coalmine_state',\n",
       " 'coalmine_state',\n",
       " 'coalmine_state',\n",
       " 'coalmine_state',\n",
       " 'coalmine_state',\n",
       " 'coalmine_type',\n",
       " 'coalmine_type',\n",
       " 'coalmine_type',\n",
       " 'coalmine_type',\n",
       " 'coalmine_type',\n",
       " 'coalmine_type',\n",
       " 'coalmine_type',\n",
       " 'coalmine_type',\n",
       " 'coalmine_type',\n",
       " 'coalmine_type',\n",
       " 'coalmine_type',\n",
       " 'coalmine_type',\n",
       " 'contract_expiration_date',\n",
       " 'contract_expiration_date',\n",
       " 'contract_expiration_date',\n",
       " 'contract_expiration_date',\n",
       " 'contract_expiration_date',\n",
       " 'contract_expiration_date',\n",
       " 'contract_expiration_date',\n",
       " 'contract_expiration_date',\n",
       " 'contract_expiration_date',\n",
       " 'contract_expiration_date',\n",
       " 'contract_expiration_date',\n",
       " 'contract_expiration_date',\n",
       " 'contract_type',\n",
       " 'contract_type',\n",
       " 'contract_type',\n",
       " 'contract_type',\n",
       " 'contract_type',\n",
       " 'energy_source',\n",
       " 'energy_source',\n",
       " 'energy_source',\n",
       " 'energy_source',\n",
       " 'energy_source',\n",
       " 'energy_source',\n",
       " 'energy_source',\n",
       " 'energy_source',\n",
       " 'energy_source',\n",
       " 'energy_source',\n",
       " 'energy_source',\n",
       " 'energy_source',\n",
       " 'fuel_cost',\n",
       " 'fuel_cost',\n",
       " 'fuel_cost',\n",
       " 'fuel_cost',\n",
       " 'fuel_cost',\n",
       " 'fuel_cost',\n",
       " 'fuel_cost',\n",
       " 'fuel_cost',\n",
       " 'fuel_cost',\n",
       " 'fuel_cost',\n",
       " 'fuel_cost',\n",
       " 'fuel_cost',\n",
       " 'fuel_group',\n",
       " 'fuel_group',\n",
       " 'fuel_group',\n",
       " 'fuel_group',\n",
       " 'fuel_group',\n",
       " 'fuel_group',\n",
       " 'fuel_group',\n",
       " 'fuel_group',\n",
       " 'fuel_group',\n",
       " 'fuel_group',\n",
       " 'fuel_group',\n",
       " 'fuel_group',\n",
       " 'moisture_content',\n",
       " 'moisture_content',\n",
       " 'moisture_content',\n",
       " 'month',\n",
       " 'month',\n",
       " 'month',\n",
       " 'month',\n",
       " 'month',\n",
       " 'month',\n",
       " 'month',\n",
       " 'month',\n",
       " 'month',\n",
       " 'month',\n",
       " 'month',\n",
       " 'month',\n",
       " 'natural_gas_delivery_contract_type',\n",
       " 'natural_gas_delivery_contract_type',\n",
       " 'natural_gas_delivery_contract_type',\n",
       " 'natural_gas_delivery_contract_type',\n",
       " 'natural_gas_supply_contract_type',\n",
       " 'natural_gas_supply_contract_type',\n",
       " 'natural_gas_supply_contract_type',\n",
       " 'natural_gas_supply_contract_type',\n",
       " 'natural_gas_transportation_service',\n",
       " 'natural_gas_transportation_service',\n",
       " 'natural_gas_transportation_service',\n",
       " 'natural_gas_transportation_service',\n",
       " 'natural_gas_transportation_service',\n",
       " 'natural_gas_transportation_service',\n",
       " 'natural_gas_transportation_service',\n",
       " 'natural_gas_transportation_service',\n",
       " 'operator_id',\n",
       " 'operator_id',\n",
       " 'operator_id',\n",
       " 'operator_id',\n",
       " 'operator_id',\n",
       " 'operator_id',\n",
       " 'operator_id',\n",
       " 'operator_id',\n",
       " 'operator_id',\n",
       " 'operator_id',\n",
       " 'operator_id',\n",
       " 'operator_id',\n",
       " 'operator_name',\n",
       " 'operator_name',\n",
       " 'operator_name',\n",
       " 'operator_name',\n",
       " 'operator_name',\n",
       " 'operator_name',\n",
       " 'operator_name',\n",
       " 'operator_name',\n",
       " 'operator_name',\n",
       " 'operator_name',\n",
       " 'operator_name',\n",
       " 'operator_name',\n",
       " 'plant_id',\n",
       " 'plant_id',\n",
       " 'plant_id',\n",
       " 'plant_id',\n",
       " 'plant_id',\n",
       " 'plant_id',\n",
       " 'plant_id',\n",
       " 'plant_id',\n",
       " 'plant_id',\n",
       " 'plant_id',\n",
       " 'plant_id',\n",
       " 'plant_id',\n",
       " 'plant_name',\n",
       " 'plant_name',\n",
       " 'plant_name',\n",
       " 'plant_name',\n",
       " 'plant_name',\n",
       " 'plant_name',\n",
       " 'plant_name',\n",
       " 'plant_name',\n",
       " 'plant_name',\n",
       " 'plant_name',\n",
       " 'plant_name',\n",
       " 'plant_name',\n",
       " 'plant_state',\n",
       " 'plant_state',\n",
       " 'plant_state',\n",
       " 'plant_state',\n",
       " 'plant_state',\n",
       " 'plant_state',\n",
       " 'plant_state',\n",
       " 'plant_state',\n",
       " 'plant_state',\n",
       " 'plant_state',\n",
       " 'plant_state',\n",
       " 'plant_state',\n",
       " 'primary_transportation_mode',\n",
       " 'primary_transportation_mode',\n",
       " 'primary_transportation_mode',\n",
       " 'primary_transportation_mode',\n",
       " 'primary_transportation_mode',\n",
       " 'primary_transportation_mode',\n",
       " 'primary_transportation_mode',\n",
       " 'primary_transportation_mode',\n",
       " 'primary_transportation_mode',\n",
       " 'primary_transportation_mode',\n",
       " 'primary_transportation_mode',\n",
       " 'primary_transportation_mode',\n",
       " 'purchase_type',\n",
       " 'purchase_type',\n",
       " 'purchase_type',\n",
       " 'purchase_type',\n",
       " 'purchase_type',\n",
       " 'purchase_type',\n",
       " 'purchase_type',\n",
       " 'quantity',\n",
       " 'quantity',\n",
       " 'quantity',\n",
       " 'quantity',\n",
       " 'quantity',\n",
       " 'quantity',\n",
       " 'quantity',\n",
       " 'quantity',\n",
       " 'quantity',\n",
       " 'quantity',\n",
       " 'quantity',\n",
       " 'quantity',\n",
       " 'regulated',\n",
       " 'regulated',\n",
       " 'regulated',\n",
       " 'regulated',\n",
       " 'regulated',\n",
       " 'regulated',\n",
       " 'regulated',\n",
       " 'regulated',\n",
       " 'regulated',\n",
       " 'regulated',\n",
       " 'regulated',\n",
       " 'regulated',\n",
       " 'reporting_frequency',\n",
       " 'reporting_frequency',\n",
       " 'reporting_frequency',\n",
       " 'reporting_frequency',\n",
       " 'reporting_frequency',\n",
       " 'reporting_frequency',\n",
       " 'reporting_frequency',\n",
       " 'reporting_frequency',\n",
       " 'reporting_frequency',\n",
       " 'reporting_frequency',\n",
       " 'reporting_frequency',\n",
       " 'reporting_frequency',\n",
       " 'secondary_transportation_mode',\n",
       " 'secondary_transportation_mode',\n",
       " 'secondary_transportation_mode',\n",
       " 'secondary_transportation_mode',\n",
       " 'secondary_transportation_mode',\n",
       " 'secondary_transportation_mode',\n",
       " 'secondary_transportation_mode',\n",
       " 'secondary_transportation_mode',\n",
       " 'secondary_transportation_mode',\n",
       " 'secondary_transportation_mode',\n",
       " 'secondary_transportation_mode',\n",
       " 'secondary_transportation_mode',\n",
       " 'supplier',\n",
       " 'supplier',\n",
       " 'supplier',\n",
       " 'supplier',\n",
       " 'supplier',\n",
       " 'supplier',\n",
       " 'supplier',\n",
       " 'supplier',\n",
       " 'supplier',\n",
       " 'supplier',\n",
       " 'supplier',\n",
       " 'supplier',\n",
       " 'unnamed:_27',\n",
       " 'unnamed:_28',\n",
       " 'unnamed:_29',\n",
       " 'unnamed:_30',\n",
       " 'unnamed:_31',\n",
       " 'unnamed:_32',\n",
       " 'unnamed:_33',\n",
       " 'unnamed:_34',\n",
       " 'unnamed:_35',\n",
       " 'unnamed:_36',\n",
       " 'unnamed:_37',\n",
       " 'unnamed:_38',\n",
       " 'unnamed:_39',\n",
       " 'unnamed:_40',\n",
       " 'unnamed:_41',\n",
       " 'unnamed:_42',\n",
       " 'unnamed:_43',\n",
       " 'unnamed:_44',\n",
       " 'unnamed:_45',\n",
       " 'unnamed:_46',\n",
       " 'unnamed:_47',\n",
       " 'unnamed:_48',\n",
       " 'unnamed:_49',\n",
       " 'unnamed:_50',\n",
       " 'unnamed:_51',\n",
       " 'unnamed:_52',\n",
       " 'unnamed:_53',\n",
       " 'unnamed:_54',\n",
       " 'unnamed:_55',\n",
       " 'unnamed:_56',\n",
       " 'unnamed:_57',\n",
       " 'unnamed:_58',\n",
       " 'unnamed:_59',\n",
       " 'unnamed:_60',\n",
       " 'unnamed:_61',\n",
       " 'unnamed:_62',\n",
       " 'unnamed:_63',\n",
       " 'unnamed:_64',\n",
       " 'unnamed:_65',\n",
       " 'unnamed:_66',\n",
       " 'unnamed:_67',\n",
       " 'unnamed:_68',\n",
       " 'unnamed:_69',\n",
       " 'unnamed:_70',\n",
       " 'unnamed:_71',\n",
       " 'unnamed:_72',\n",
       " 'unnamed:_73',\n",
       " 'unnamed:_74',\n",
       " 'unnamed:_75',\n",
       " 'unnamed:_76',\n",
       " 'unnamed:_77',\n",
       " 'unnamed:_78',\n",
       " 'unnamed:_79',\n",
       " 'unnamed:_80',\n",
       " 'unnamed:_81',\n",
       " 'unnamed:_82',\n",
       " 'unnamed:_83',\n",
       " 'unnamed:_84',\n",
       " 'unnamed:_85',\n",
       " 'unnamed:_86',\n",
       " 'unnamed:_87',\n",
       " 'unnamed:_88',\n",
       " 'unnamed:_89',\n",
       " 'unnamed:_90',\n",
       " 'unnamed:_91',\n",
       " 'unnamed:_92',\n",
       " 'unnamed:_93',\n",
       " 'unnamed:_94',\n",
       " 'unnamed:_95',\n",
       " 'year',\n",
       " 'year',\n",
       " 'year',\n",
       " 'year',\n",
       " 'year',\n",
       " 'year',\n",
       " 'year',\n",
       " 'year',\n",
       " 'year',\n",
       " 'year',\n",
       " 'year',\n",
       " 'year']"
      ]
     },
     "execution_count": 146,
     "metadata": {},
     "output_type": "execute_result"
    }
   ],
   "source": [
    "# list all fields to check for typos, variations that havent been coalesced\n",
    "all_fields = []\n",
    "for file in os.listdir(\"combined\"):\n",
    "    if \".csv\" in file:\n",
    "        df = pd.read_csv(\"combined/\" + file, nrows=1)\n",
    "        cols = format_column_name(df.columns)\n",
    "        all_fields = all_fields + cols\n",
    "sorted(all_fields)"
   ]
  },
  {
   "cell_type": "code",
   "execution_count": 149,
   "metadata": {
    "ExecuteTime": {
     "end_time": "2019-07-16T19:45:38.877649Z",
     "start_time": "2019-07-16T19:45:38.868857Z"
    },
    "hidden": true
   },
   "outputs": [
    {
     "data": {
      "text/plain": [
       "['reporting_frequency',\n",
       " 'average_heat_content',\n",
       " 'purchase_type',\n",
       " 'plant_id',\n",
       " 'coalmine_type',\n",
       " 'coalmine_county',\n",
       " 'operator_id',\n",
       " 'coalmine_name',\n",
       " 'plant_name',\n",
       " 'natural_gas_supply_contract_type',\n",
       " 'fuel_cost',\n",
       " 'average_ash_content',\n",
       " 'regulated',\n",
       " 'contract_type',\n",
       " 'secondary_transportation_mode',\n",
       " 'chlorine_content',\n",
       " 'coalmine_state',\n",
       " 'coalmine_msha_id',\n",
       " 'average_mercury_content',\n",
       " 'quantity',\n",
       " 'operator_name',\n",
       " 'contract_expiration_date',\n",
       " 'energy_source',\n",
       " 'supplier',\n",
       " 'natural_gas_delivery_contract_type',\n",
       " 'year',\n",
       " 'plant_state',\n",
       " 'average_sulfur_content',\n",
       " 'primary_transportation_mode',\n",
       " 'fuel_group',\n",
       " 'natural_gas_transportation_service',\n",
       " 'moisture_content',\n",
       " 'month']"
      ]
     },
     "execution_count": 149,
     "metadata": {},
     "output_type": "execute_result"
    }
   ],
   "source": [
    "# get a list of all unique fields, remove unnamed cols\n",
    "all_fields = list(set(all_fields))\n",
    "all_fields = [col for col in all_fields if \"unnamed\" not in col]\n",
    "all_fields"
   ]
  },
  {
   "cell_type": "code",
   "execution_count": 175,
   "metadata": {
    "ExecuteTime": {
     "end_time": "2019-07-16T19:55:39.406321Z",
     "start_time": "2019-07-16T19:55:23.078960Z"
    },
    "hidden": true
   },
   "outputs": [
    {
     "name": "stdout",
     "output_type": "stream",
     "text": [
      "2008.csv 61849\n",
      "2009.csv 60141\n",
      "2019.csv 7972\n",
      "2018.csv 34195\n",
      "2015.csv 34068\n",
      "2014.csv 37484\n",
      "2016.csv 30751\n",
      "2017.csv 20870\n",
      "2013.csv 36715\n",
      "2012.csv 39087\n",
      "2010.csv 58993\n",
      "2011.csv 58994\n"
     ]
    }
   ],
   "source": [
    "# Append all of the dataframes into a single DF\n",
    "df = None\n",
    "for file in os.listdir(\"combined\"):\n",
    "    if \".csv\" in file:\n",
    "        df_temp = pd.read_csv(\"combined/\" + file)\n",
    "        df_temp.columns = format_column_name(df_temp.columns)\n",
    "        for col in all_fields:\n",
    "            if col not in df_temp.columns:\n",
    "                df_temp[col] = None\n",
    "\n",
    "        if type(df) == pd.DataFrame:\n",
    "            df = df.append(df_temp[all_fields], ignore_index=True, verify_integrity=True)\n",
    "            \n",
    "            # print out how many lines in each, just to keep a track of things\n",
    "            print(file, len(df_temp))\n",
    "        else:\n",
    "            df = df_temp[all_fields]\n",
    "            print(file, len(df_temp))\n",
    "            \n",
    "\n",
    "            "
   ]
  },
  {
   "cell_type": "code",
   "execution_count": 173,
   "metadata": {
    "ExecuteTime": {
     "end_time": "2019-07-16T19:54:42.958866Z",
     "start_time": "2019-07-16T19:54:42.945717Z"
    },
    "hidden": true
   },
   "outputs": [
    {
     "data": {
      "text/plain": [
       "481119"
      ]
     },
     "execution_count": 173,
     "metadata": {},
     "output_type": "execute_result"
    }
   ],
   "source": [
    "len(df)"
   ]
  },
  {
   "cell_type": "code",
   "execution_count": 172,
   "metadata": {
    "ExecuteTime": {
     "end_time": "2019-07-16T19:54:35.264675Z",
     "start_time": "2019-07-16T19:54:33.182395Z"
    },
    "hidden": true
   },
   "outputs": [
    {
     "data": {
      "text/plain": [
       "477884"
      ]
     },
     "execution_count": 172,
     "metadata": {},
     "output_type": "execute_result"
    }
   ],
   "source": [
    "len(df.drop_duplicates())\n"
   ]
  },
  {
   "cell_type": "code",
   "execution_count": 176,
   "metadata": {
    "ExecuteTime": {
     "end_time": "2019-07-16T19:55:59.648086Z",
     "start_time": "2019-07-16T19:55:56.181114Z"
    },
    "hidden": true
   },
   "outputs": [],
   "source": [
    "df = df.drop_duplicates()"
   ]
  },
  {
   "cell_type": "code",
   "execution_count": 191,
   "metadata": {
    "ExecuteTime": {
     "end_time": "2019-07-16T20:03:30.804519Z",
     "start_time": "2019-07-16T20:03:30.739490Z"
    },
    "hidden": true,
    "scrolled": false
   },
   "outputs": [
    {
     "data": {
      "text/html": [
       "<div>\n",
       "<style scoped>\n",
       "    .dataframe tbody tr th:only-of-type {\n",
       "        vertical-align: middle;\n",
       "    }\n",
       "\n",
       "    .dataframe tbody tr th {\n",
       "        vertical-align: top;\n",
       "    }\n",
       "\n",
       "    .dataframe thead th {\n",
       "        text-align: right;\n",
       "    }\n",
       "</style>\n",
       "<table border=\"1\" class=\"dataframe\">\n",
       "  <thead>\n",
       "    <tr style=\"text-align: right;\">\n",
       "      <th></th>\n",
       "      <th>reporting_frequency</th>\n",
       "      <th>average_heat_content</th>\n",
       "      <th>purchase_type</th>\n",
       "      <th>plant_id</th>\n",
       "      <th>coalmine_type</th>\n",
       "      <th>coalmine_county</th>\n",
       "      <th>operator_id</th>\n",
       "      <th>coalmine_name</th>\n",
       "      <th>plant_name</th>\n",
       "      <th>natural_gas_supply_contract_type</th>\n",
       "      <th>fuel_cost</th>\n",
       "      <th>average_ash_content</th>\n",
       "      <th>regulated</th>\n",
       "      <th>contract_type</th>\n",
       "      <th>secondary_transportation_mode</th>\n",
       "      <th>chlorine_content</th>\n",
       "      <th>coalmine_state</th>\n",
       "      <th>coalmine_msha_id</th>\n",
       "      <th>average_mercury_content</th>\n",
       "      <th>quantity</th>\n",
       "      <th>operator_name</th>\n",
       "      <th>contract_expiration_date</th>\n",
       "      <th>energy_source</th>\n",
       "      <th>supplier</th>\n",
       "      <th>natural_gas_delivery_contract_type</th>\n",
       "      <th>year</th>\n",
       "      <th>plant_state</th>\n",
       "      <th>average_sulfur_content</th>\n",
       "      <th>primary_transportation_mode</th>\n",
       "      <th>fuel_group</th>\n",
       "      <th>natural_gas_transportation_service</th>\n",
       "      <th>moisture_content</th>\n",
       "      <th>month</th>\n",
       "    </tr>\n",
       "  </thead>\n",
       "  <tbody>\n",
       "    <tr>\n",
       "      <th>0</th>\n",
       "      <td>M</td>\n",
       "      <td>23.100</td>\n",
       "      <td>None</td>\n",
       "      <td>3</td>\n",
       "      <td>SU</td>\n",
       "      <td>IMP</td>\n",
       "      <td>195.0</td>\n",
       "      <td>MINA PRIBBENOW</td>\n",
       "      <td>Barry</td>\n",
       "      <td>None</td>\n",
       "      <td>213.5</td>\n",
       "      <td>5.4</td>\n",
       "      <td>REG</td>\n",
       "      <td>C</td>\n",
       "      <td>NaN</td>\n",
       "      <td>None</td>\n",
       "      <td>CL</td>\n",
       "      <td>NaN</td>\n",
       "      <td>None</td>\n",
       "      <td>259,412</td>\n",
       "      <td>Alabama Power Co</td>\n",
       "      <td>408</td>\n",
       "      <td>BIT</td>\n",
       "      <td>INTEROCEAN COAL</td>\n",
       "      <td>None</td>\n",
       "      <td>2008</td>\n",
       "      <td>AL</td>\n",
       "      <td>0.49</td>\n",
       "      <td>RV</td>\n",
       "      <td>Coal</td>\n",
       "      <td>F</td>\n",
       "      <td>None</td>\n",
       "      <td>1</td>\n",
       "    </tr>\n",
       "    <tr>\n",
       "      <th>1</th>\n",
       "      <td>M</td>\n",
       "      <td>22.800</td>\n",
       "      <td>None</td>\n",
       "      <td>3</td>\n",
       "      <td>SU</td>\n",
       "      <td>IMP</td>\n",
       "      <td>195.0</td>\n",
       "      <td>MINA PRIBBENOW</td>\n",
       "      <td>Barry</td>\n",
       "      <td>None</td>\n",
       "      <td>211.5</td>\n",
       "      <td>5.7</td>\n",
       "      <td>REG</td>\n",
       "      <td>C</td>\n",
       "      <td>NaN</td>\n",
       "      <td>None</td>\n",
       "      <td>CL</td>\n",
       "      <td>NaN</td>\n",
       "      <td>None</td>\n",
       "      <td>52,241</td>\n",
       "      <td>Alabama Power Co</td>\n",
       "      <td>408</td>\n",
       "      <td>BIT</td>\n",
       "      <td>INTEROCEAN COAL</td>\n",
       "      <td>None</td>\n",
       "      <td>2008</td>\n",
       "      <td>AL</td>\n",
       "      <td>0.48</td>\n",
       "      <td>RV</td>\n",
       "      <td>Coal</td>\n",
       "      <td>F</td>\n",
       "      <td>None</td>\n",
       "      <td>1</td>\n",
       "    </tr>\n",
       "    <tr>\n",
       "      <th>2</th>\n",
       "      <td>M</td>\n",
       "      <td>1.039</td>\n",
       "      <td>None</td>\n",
       "      <td>3</td>\n",
       "      <td>NaN</td>\n",
       "      <td>NaN</td>\n",
       "      <td>195.0</td>\n",
       "      <td>NaN</td>\n",
       "      <td>Barry</td>\n",
       "      <td>None</td>\n",
       "      <td>863.1</td>\n",
       "      <td>0.0</td>\n",
       "      <td>REG</td>\n",
       "      <td>C</td>\n",
       "      <td>NaN</td>\n",
       "      <td>None</td>\n",
       "      <td>NaN</td>\n",
       "      <td>NaN</td>\n",
       "      <td>None</td>\n",
       "      <td>2,783,619</td>\n",
       "      <td>Alabama Power Co</td>\n",
       "      <td>NaN</td>\n",
       "      <td>NG</td>\n",
       "      <td>BAY GAS PIPELINE</td>\n",
       "      <td>None</td>\n",
       "      <td>2008</td>\n",
       "      <td>AL</td>\n",
       "      <td>0.00</td>\n",
       "      <td>PL</td>\n",
       "      <td>Natural Gas</td>\n",
       "      <td>F</td>\n",
       "      <td>None</td>\n",
       "      <td>1</td>\n",
       "    </tr>\n",
       "    <tr>\n",
       "      <th>3</th>\n",
       "      <td>A</td>\n",
       "      <td>24.610</td>\n",
       "      <td>None</td>\n",
       "      <td>7</td>\n",
       "      <td>SU</td>\n",
       "      <td>007</td>\n",
       "      <td>195.0</td>\n",
       "      <td>ALABAMA COAL</td>\n",
       "      <td>Gadsden</td>\n",
       "      <td>None</td>\n",
       "      <td>277.6</td>\n",
       "      <td>14.7</td>\n",
       "      <td>REG</td>\n",
       "      <td>C</td>\n",
       "      <td>NaN</td>\n",
       "      <td>None</td>\n",
       "      <td>AL</td>\n",
       "      <td>NaN</td>\n",
       "      <td>None</td>\n",
       "      <td>25,397</td>\n",
       "      <td>Alabama Power Co</td>\n",
       "      <td>1215</td>\n",
       "      <td>BIT</td>\n",
       "      <td>ALABAMA COAL</td>\n",
       "      <td>None</td>\n",
       "      <td>2008</td>\n",
       "      <td>AL</td>\n",
       "      <td>1.69</td>\n",
       "      <td>TR</td>\n",
       "      <td>Coal</td>\n",
       "      <td>F</td>\n",
       "      <td>None</td>\n",
       "      <td>1</td>\n",
       "    </tr>\n",
       "    <tr>\n",
       "      <th>4</th>\n",
       "      <td>A</td>\n",
       "      <td>24.446</td>\n",
       "      <td>None</td>\n",
       "      <td>7</td>\n",
       "      <td>S</td>\n",
       "      <td>145</td>\n",
       "      <td>195.0</td>\n",
       "      <td>flat rock #2</td>\n",
       "      <td>Gadsden</td>\n",
       "      <td>None</td>\n",
       "      <td>338.1</td>\n",
       "      <td>15.5</td>\n",
       "      <td>REG</td>\n",
       "      <td>S</td>\n",
       "      <td>NaN</td>\n",
       "      <td>None</td>\n",
       "      <td>AL</td>\n",
       "      <td>NaN</td>\n",
       "      <td>None</td>\n",
       "      <td>764</td>\n",
       "      <td>Alabama Power Co</td>\n",
       "      <td>1108</td>\n",
       "      <td>BIT</td>\n",
       "      <td>D &amp; E MINING</td>\n",
       "      <td>None</td>\n",
       "      <td>2008</td>\n",
       "      <td>AL</td>\n",
       "      <td>0.84</td>\n",
       "      <td>TR</td>\n",
       "      <td>Coal</td>\n",
       "      <td>F</td>\n",
       "      <td>None</td>\n",
       "      <td>1</td>\n",
       "    </tr>\n",
       "  </tbody>\n",
       "</table>\n",
       "</div>"
      ],
      "text/plain": [
       "  reporting_frequency  average_heat_content purchase_type  plant_id  \\\n",
       "0                   M                23.100          None         3   \n",
       "1                   M                22.800          None         3   \n",
       "2                   M                 1.039          None         3   \n",
       "3                   A                24.610          None         7   \n",
       "4                   A                24.446          None         7   \n",
       "\n",
       "  coalmine_type coalmine_county  operator_id   coalmine_name plant_name  \\\n",
       "0            SU             IMP        195.0  MINA PRIBBENOW      Barry   \n",
       "1            SU             IMP        195.0  MINA PRIBBENOW      Barry   \n",
       "2           NaN             NaN        195.0             NaN      Barry   \n",
       "3            SU             007        195.0    ALABAMA COAL    Gadsden   \n",
       "4             S             145        195.0    flat rock #2    Gadsden   \n",
       "\n",
       "  natural_gas_supply_contract_type fuel_cost  average_ash_content regulated  \\\n",
       "0                             None     213.5                  5.4       REG   \n",
       "1                             None     211.5                  5.7       REG   \n",
       "2                             None     863.1                  0.0       REG   \n",
       "3                             None     277.6                 14.7       REG   \n",
       "4                             None     338.1                 15.5       REG   \n",
       "\n",
       "  contract_type secondary_transportation_mode chlorine_content coalmine_state  \\\n",
       "0             C                           NaN             None             CL   \n",
       "1             C                           NaN             None             CL   \n",
       "2             C                           NaN             None            NaN   \n",
       "3             C                           NaN             None             AL   \n",
       "4             S                           NaN             None             AL   \n",
       "\n",
       "   coalmine_msha_id average_mercury_content   quantity     operator_name  \\\n",
       "0               NaN                    None    259,412  Alabama Power Co   \n",
       "1               NaN                    None     52,241  Alabama Power Co   \n",
       "2               NaN                    None  2,783,619  Alabama Power Co   \n",
       "3               NaN                    None     25,397  Alabama Power Co   \n",
       "4               NaN                    None        764  Alabama Power Co   \n",
       "\n",
       "  contract_expiration_date energy_source          supplier  \\\n",
       "0                      408           BIT   INTEROCEAN COAL   \n",
       "1                      408           BIT   INTEROCEAN COAL   \n",
       "2                      NaN            NG  BAY GAS PIPELINE   \n",
       "3                     1215           BIT      ALABAMA COAL   \n",
       "4                     1108           BIT      D & E MINING   \n",
       "\n",
       "  natural_gas_delivery_contract_type  year plant_state  \\\n",
       "0                               None  2008          AL   \n",
       "1                               None  2008          AL   \n",
       "2                               None  2008          AL   \n",
       "3                               None  2008          AL   \n",
       "4                               None  2008          AL   \n",
       "\n",
       "   average_sulfur_content primary_transportation_mode   fuel_group  \\\n",
       "0                    0.49                          RV         Coal   \n",
       "1                    0.48                          RV         Coal   \n",
       "2                    0.00                          PL  Natural Gas   \n",
       "3                    1.69                          TR         Coal   \n",
       "4                    0.84                          TR         Coal   \n",
       "\n",
       "  natural_gas_transportation_service moisture_content  month  \n",
       "0                                  F             None      1  \n",
       "1                                  F             None      1  \n",
       "2                                  F             None      1  \n",
       "3                                  F             None      1  \n",
       "4                                  F             None      1  "
      ]
     },
     "execution_count": 191,
     "metadata": {},
     "output_type": "execute_result"
    }
   ],
   "source": [
    "df.head()"
   ]
  },
  {
   "cell_type": "markdown",
   "metadata": {
    "heading_collapsed": true
   },
   "source": [
    "# Formatting Column Data"
   ]
  },
  {
   "cell_type": "code",
   "execution_count": 228,
   "metadata": {
    "ExecuteTime": {
     "end_time": "2019-07-16T20:22:27.359593Z",
     "start_time": "2019-07-16T20:22:26.581837Z"
    },
    "hidden": true
   },
   "outputs": [
    {
     "name": "stdout",
     "output_type": "stream",
     "text": [
      "<class 'pandas.core.frame.DataFrame'>\n",
      "Int64Index: 378045 entries, 0 to 481118\n",
      "Data columns (total 33 columns):\n",
      "reporting_frequency                   378045 non-null object\n",
      "average_heat_content                  378045 non-null float64\n",
      "purchase_type                         136470 non-null object\n",
      "plant_id                              378045 non-null int64\n",
      "coalmine_type                         158373 non-null object\n",
      "coalmine_county                       157339 non-null object\n",
      "operator_id                           378042 non-null float64\n",
      "coalmine_name                         156133 non-null object\n",
      "plant_name                            378042 non-null object\n",
      "natural_gas_supply_contract_type      33617 non-null object\n",
      "fuel_cost                             312877 non-null float64\n",
      "average_ash_content                   378045 non-null float64\n",
      "regulated                             378045 non-null object\n",
      "contract_type                         241521 non-null object\n",
      "secondary_transportation_mode         25311 non-null object\n",
      "chlorine_content                      37678 non-null object\n",
      "coalmine_state                        158617 non-null object\n",
      "coalmine_msha_id                      137383 non-null float64\n",
      "average_mercury_content               136483 non-null object\n",
      "quantity                              378045 non-null int64\n",
      "operator_name                         378042 non-null object\n",
      "contract_expiration_date              279737 non-null object\n",
      "energy_source                         378044 non-null object\n",
      "supplier                              378042 non-null object\n",
      "natural_gas_delivery_contract_type    33613 non-null object\n",
      "year                                  378045 non-null int64\n",
      "plant_state                           378042 non-null object\n",
      "average_sulfur_content                378045 non-null float64\n",
      "primary_transportation_mode           321515 non-null object\n",
      "fuel_group                            378043 non-null object\n",
      "natural_gas_transportation_service    157051 non-null object\n",
      "moisture_content                      37678 non-null object\n",
      "month                                 378045 non-null int64\n",
      "dtypes: float64(6), int64(4), object(23)\n",
      "memory usage: 98.1+ MB\n"
     ]
    }
   ],
   "source": [
    "df.info()"
   ]
  },
  {
   "cell_type": "markdown",
   "metadata": {
    "hidden": true
   },
   "source": [
    "## Cleaning up errant characters"
   ]
  },
  {
   "cell_type": "code",
   "execution_count": 186,
   "metadata": {
    "ExecuteTime": {
     "end_time": "2019-07-16T20:01:01.396976Z",
     "start_time": "2019-07-16T20:01:01.384978Z"
    },
    "hidden": true
   },
   "outputs": [],
   "source": [
    "df[\"average_heat_content\"] = df[\"average_heat_content\"].apply(lambda x: float(str(x).replace(\",\", \"\")))\n",
    "df[\"average_heat_content\"] = df[\"average_heat_content\"].astype(float)"
   ]
  },
  {
   "cell_type": "code",
   "execution_count": 189,
   "metadata": {
    "ExecuteTime": {
     "end_time": "2019-07-16T20:01:51.653498Z",
     "start_time": "2019-07-16T20:01:51.637615Z"
    },
    "hidden": true
   },
   "outputs": [],
   "source": [
    "df[\"average_sulfur_content\"] = df[\"average_sulfur_content\"].astype(float)"
   ]
  },
  {
   "cell_type": "code",
   "execution_count": 226,
   "metadata": {
    "ExecuteTime": {
     "end_time": "2019-07-16T20:21:10.723250Z",
     "start_time": "2019-07-16T20:21:10.702915Z"
    },
    "hidden": true
   },
   "outputs": [],
   "source": [
    "df[\"average_ash_content\"] = df[\"average_ash_content\"].astype(float)"
   ]
  },
  {
   "cell_type": "code",
   "execution_count": 227,
   "metadata": {
    "ExecuteTime": {
     "end_time": "2019-07-16T20:22:12.961696Z",
     "start_time": "2019-07-16T20:22:12.068544Z"
    },
    "hidden": true
   },
   "outputs": [],
   "source": [
    "df[\"quantity\"] = df[\"quantity\"].apply(lambda x: float(str(x).replace(\",\", \"\")))\n",
    "df[\"quantity\"] = df[\"quantity\"].astype(int)"
   ]
  },
  {
   "cell_type": "code",
   "execution_count": 229,
   "metadata": {
    "ExecuteTime": {
     "end_time": "2019-07-16T20:22:56.838379Z",
     "start_time": "2019-07-16T20:22:56.801441Z"
    },
    "hidden": true
   },
   "outputs": [],
   "source": [
    "df[\"month\"] = df[\"month\"].astype(int)\n",
    "df[\"year\"] = df[\"year\"].astype(int)"
   ]
  },
  {
   "cell_type": "markdown",
   "metadata": {
    "hidden": true
   },
   "source": [
    "## Fuel Cost - Target Variable"
   ]
  },
  {
   "cell_type": "code",
   "execution_count": 214,
   "metadata": {
    "ExecuteTime": {
     "end_time": "2019-07-16T20:13:10.587555Z",
     "start_time": "2019-07-16T20:13:10.057601Z"
    },
    "hidden": true
   },
   "outputs": [],
   "source": [
    "def format_fuel_cost(x):\n",
    "    if x == \".\": x = \"\"\n",
    "    x = str(x).replace(\",\", \"\")\n",
    "    return x\n",
    "    \n",
    "df[\"fuel_cost\"] = df[\"fuel_cost\"].apply(format_fuel_cost)"
   ]
  },
  {
   "cell_type": "code",
   "execution_count": 216,
   "metadata": {
    "ExecuteTime": {
     "end_time": "2019-07-16T20:13:34.170500Z",
     "start_time": "2019-07-16T20:13:34.070200Z"
    },
    "hidden": true
   },
   "outputs": [
    {
     "data": {
      "text/plain": [
       "0.20891890082111977"
      ]
     },
     "execution_count": 216,
     "metadata": {},
     "output_type": "execute_result"
    }
   ],
   "source": [
    "len(df[df[\"fuel_cost\"] == \"\"])/len(df)\n",
    "\n",
    "# 20% of entries have no value. Since it will be the target, they need to be removed."
   ]
  },
  {
   "cell_type": "code",
   "execution_count": 217,
   "metadata": {
    "ExecuteTime": {
     "end_time": "2019-07-16T20:17:52.962744Z",
     "start_time": "2019-07-16T20:17:51.721328Z"
    },
    "hidden": true
   },
   "outputs": [],
   "source": [
    "df = df[df[\"fuel_cost\"] != \"\"].copy()"
   ]
  },
  {
   "cell_type": "code",
   "execution_count": 223,
   "metadata": {
    "ExecuteTime": {
     "end_time": "2019-07-16T20:19:52.318293Z",
     "start_time": "2019-07-16T20:19:51.896070Z"
    },
    "hidden": true
   },
   "outputs": [],
   "source": [
    "df[\"fuel_cost\"] = df[\"fuel_cost\"].astype(float)"
   ]
  },
  {
   "cell_type": "code",
   "execution_count": 230,
   "metadata": {
    "ExecuteTime": {
     "end_time": "2019-07-16T20:23:09.678208Z",
     "start_time": "2019-07-16T20:23:09.539080Z"
    },
    "hidden": true
   },
   "outputs": [
    {
     "data": {
      "text/html": [
       "<div>\n",
       "<style scoped>\n",
       "    .dataframe tbody tr th:only-of-type {\n",
       "        vertical-align: middle;\n",
       "    }\n",
       "\n",
       "    .dataframe tbody tr th {\n",
       "        vertical-align: top;\n",
       "    }\n",
       "\n",
       "    .dataframe thead th {\n",
       "        text-align: right;\n",
       "    }\n",
       "</style>\n",
       "<table border=\"1\" class=\"dataframe\">\n",
       "  <thead>\n",
       "    <tr style=\"text-align: right;\">\n",
       "      <th></th>\n",
       "      <th>reporting_frequency</th>\n",
       "      <th>average_heat_content</th>\n",
       "      <th>purchase_type</th>\n",
       "      <th>plant_id</th>\n",
       "      <th>coalmine_type</th>\n",
       "      <th>coalmine_county</th>\n",
       "      <th>operator_id</th>\n",
       "      <th>coalmine_name</th>\n",
       "      <th>plant_name</th>\n",
       "      <th>natural_gas_supply_contract_type</th>\n",
       "      <th>fuel_cost</th>\n",
       "      <th>average_ash_content</th>\n",
       "      <th>regulated</th>\n",
       "      <th>contract_type</th>\n",
       "      <th>secondary_transportation_mode</th>\n",
       "      <th>chlorine_content</th>\n",
       "      <th>coalmine_state</th>\n",
       "      <th>coalmine_msha_id</th>\n",
       "      <th>average_mercury_content</th>\n",
       "      <th>quantity</th>\n",
       "      <th>operator_name</th>\n",
       "      <th>contract_expiration_date</th>\n",
       "      <th>energy_source</th>\n",
       "      <th>supplier</th>\n",
       "      <th>natural_gas_delivery_contract_type</th>\n",
       "      <th>year</th>\n",
       "      <th>plant_state</th>\n",
       "      <th>average_sulfur_content</th>\n",
       "      <th>primary_transportation_mode</th>\n",
       "      <th>fuel_group</th>\n",
       "      <th>natural_gas_transportation_service</th>\n",
       "      <th>moisture_content</th>\n",
       "      <th>month</th>\n",
       "    </tr>\n",
       "  </thead>\n",
       "  <tbody>\n",
       "    <tr>\n",
       "      <th>0</th>\n",
       "      <td>M</td>\n",
       "      <td>23.100</td>\n",
       "      <td>None</td>\n",
       "      <td>3</td>\n",
       "      <td>SU</td>\n",
       "      <td>IMP</td>\n",
       "      <td>195.0</td>\n",
       "      <td>MINA PRIBBENOW</td>\n",
       "      <td>Barry</td>\n",
       "      <td>None</td>\n",
       "      <td>213.5</td>\n",
       "      <td>5.4</td>\n",
       "      <td>REG</td>\n",
       "      <td>C</td>\n",
       "      <td>NaN</td>\n",
       "      <td>None</td>\n",
       "      <td>CL</td>\n",
       "      <td>NaN</td>\n",
       "      <td>None</td>\n",
       "      <td>259412</td>\n",
       "      <td>Alabama Power Co</td>\n",
       "      <td>408</td>\n",
       "      <td>BIT</td>\n",
       "      <td>INTEROCEAN COAL</td>\n",
       "      <td>None</td>\n",
       "      <td>2008</td>\n",
       "      <td>AL</td>\n",
       "      <td>0.49</td>\n",
       "      <td>RV</td>\n",
       "      <td>Coal</td>\n",
       "      <td>F</td>\n",
       "      <td>None</td>\n",
       "      <td>1</td>\n",
       "    </tr>\n",
       "    <tr>\n",
       "      <th>1</th>\n",
       "      <td>M</td>\n",
       "      <td>22.800</td>\n",
       "      <td>None</td>\n",
       "      <td>3</td>\n",
       "      <td>SU</td>\n",
       "      <td>IMP</td>\n",
       "      <td>195.0</td>\n",
       "      <td>MINA PRIBBENOW</td>\n",
       "      <td>Barry</td>\n",
       "      <td>None</td>\n",
       "      <td>211.5</td>\n",
       "      <td>5.7</td>\n",
       "      <td>REG</td>\n",
       "      <td>C</td>\n",
       "      <td>NaN</td>\n",
       "      <td>None</td>\n",
       "      <td>CL</td>\n",
       "      <td>NaN</td>\n",
       "      <td>None</td>\n",
       "      <td>52241</td>\n",
       "      <td>Alabama Power Co</td>\n",
       "      <td>408</td>\n",
       "      <td>BIT</td>\n",
       "      <td>INTEROCEAN COAL</td>\n",
       "      <td>None</td>\n",
       "      <td>2008</td>\n",
       "      <td>AL</td>\n",
       "      <td>0.48</td>\n",
       "      <td>RV</td>\n",
       "      <td>Coal</td>\n",
       "      <td>F</td>\n",
       "      <td>None</td>\n",
       "      <td>1</td>\n",
       "    </tr>\n",
       "    <tr>\n",
       "      <th>2</th>\n",
       "      <td>M</td>\n",
       "      <td>1.039</td>\n",
       "      <td>None</td>\n",
       "      <td>3</td>\n",
       "      <td>NaN</td>\n",
       "      <td>NaN</td>\n",
       "      <td>195.0</td>\n",
       "      <td>NaN</td>\n",
       "      <td>Barry</td>\n",
       "      <td>None</td>\n",
       "      <td>863.1</td>\n",
       "      <td>0.0</td>\n",
       "      <td>REG</td>\n",
       "      <td>C</td>\n",
       "      <td>NaN</td>\n",
       "      <td>None</td>\n",
       "      <td>NaN</td>\n",
       "      <td>NaN</td>\n",
       "      <td>None</td>\n",
       "      <td>2783619</td>\n",
       "      <td>Alabama Power Co</td>\n",
       "      <td>NaN</td>\n",
       "      <td>NG</td>\n",
       "      <td>BAY GAS PIPELINE</td>\n",
       "      <td>None</td>\n",
       "      <td>2008</td>\n",
       "      <td>AL</td>\n",
       "      <td>0.00</td>\n",
       "      <td>PL</td>\n",
       "      <td>Natural Gas</td>\n",
       "      <td>F</td>\n",
       "      <td>None</td>\n",
       "      <td>1</td>\n",
       "    </tr>\n",
       "    <tr>\n",
       "      <th>3</th>\n",
       "      <td>A</td>\n",
       "      <td>24.610</td>\n",
       "      <td>None</td>\n",
       "      <td>7</td>\n",
       "      <td>SU</td>\n",
       "      <td>007</td>\n",
       "      <td>195.0</td>\n",
       "      <td>ALABAMA COAL</td>\n",
       "      <td>Gadsden</td>\n",
       "      <td>None</td>\n",
       "      <td>277.6</td>\n",
       "      <td>14.7</td>\n",
       "      <td>REG</td>\n",
       "      <td>C</td>\n",
       "      <td>NaN</td>\n",
       "      <td>None</td>\n",
       "      <td>AL</td>\n",
       "      <td>NaN</td>\n",
       "      <td>None</td>\n",
       "      <td>25397</td>\n",
       "      <td>Alabama Power Co</td>\n",
       "      <td>1215</td>\n",
       "      <td>BIT</td>\n",
       "      <td>ALABAMA COAL</td>\n",
       "      <td>None</td>\n",
       "      <td>2008</td>\n",
       "      <td>AL</td>\n",
       "      <td>1.69</td>\n",
       "      <td>TR</td>\n",
       "      <td>Coal</td>\n",
       "      <td>F</td>\n",
       "      <td>None</td>\n",
       "      <td>1</td>\n",
       "    </tr>\n",
       "    <tr>\n",
       "      <th>4</th>\n",
       "      <td>A</td>\n",
       "      <td>24.446</td>\n",
       "      <td>None</td>\n",
       "      <td>7</td>\n",
       "      <td>S</td>\n",
       "      <td>145</td>\n",
       "      <td>195.0</td>\n",
       "      <td>flat rock #2</td>\n",
       "      <td>Gadsden</td>\n",
       "      <td>None</td>\n",
       "      <td>338.1</td>\n",
       "      <td>15.5</td>\n",
       "      <td>REG</td>\n",
       "      <td>S</td>\n",
       "      <td>NaN</td>\n",
       "      <td>None</td>\n",
       "      <td>AL</td>\n",
       "      <td>NaN</td>\n",
       "      <td>None</td>\n",
       "      <td>764</td>\n",
       "      <td>Alabama Power Co</td>\n",
       "      <td>1108</td>\n",
       "      <td>BIT</td>\n",
       "      <td>D &amp; E MINING</td>\n",
       "      <td>None</td>\n",
       "      <td>2008</td>\n",
       "      <td>AL</td>\n",
       "      <td>0.84</td>\n",
       "      <td>TR</td>\n",
       "      <td>Coal</td>\n",
       "      <td>F</td>\n",
       "      <td>None</td>\n",
       "      <td>1</td>\n",
       "    </tr>\n",
       "  </tbody>\n",
       "</table>\n",
       "</div>"
      ],
      "text/plain": [
       "  reporting_frequency  average_heat_content purchase_type  plant_id  \\\n",
       "0                   M                23.100          None         3   \n",
       "1                   M                22.800          None         3   \n",
       "2                   M                 1.039          None         3   \n",
       "3                   A                24.610          None         7   \n",
       "4                   A                24.446          None         7   \n",
       "\n",
       "  coalmine_type coalmine_county  operator_id   coalmine_name plant_name  \\\n",
       "0            SU             IMP        195.0  MINA PRIBBENOW      Barry   \n",
       "1            SU             IMP        195.0  MINA PRIBBENOW      Barry   \n",
       "2           NaN             NaN        195.0             NaN      Barry   \n",
       "3            SU             007        195.0    ALABAMA COAL    Gadsden   \n",
       "4             S             145        195.0    flat rock #2    Gadsden   \n",
       "\n",
       "  natural_gas_supply_contract_type  fuel_cost  average_ash_content regulated  \\\n",
       "0                             None      213.5                  5.4       REG   \n",
       "1                             None      211.5                  5.7       REG   \n",
       "2                             None      863.1                  0.0       REG   \n",
       "3                             None      277.6                 14.7       REG   \n",
       "4                             None      338.1                 15.5       REG   \n",
       "\n",
       "  contract_type secondary_transportation_mode chlorine_content coalmine_state  \\\n",
       "0             C                           NaN             None             CL   \n",
       "1             C                           NaN             None             CL   \n",
       "2             C                           NaN             None            NaN   \n",
       "3             C                           NaN             None             AL   \n",
       "4             S                           NaN             None             AL   \n",
       "\n",
       "   coalmine_msha_id average_mercury_content  quantity     operator_name  \\\n",
       "0               NaN                    None    259412  Alabama Power Co   \n",
       "1               NaN                    None     52241  Alabama Power Co   \n",
       "2               NaN                    None   2783619  Alabama Power Co   \n",
       "3               NaN                    None     25397  Alabama Power Co   \n",
       "4               NaN                    None       764  Alabama Power Co   \n",
       "\n",
       "  contract_expiration_date energy_source          supplier  \\\n",
       "0                      408           BIT   INTEROCEAN COAL   \n",
       "1                      408           BIT   INTEROCEAN COAL   \n",
       "2                      NaN            NG  BAY GAS PIPELINE   \n",
       "3                     1215           BIT      ALABAMA COAL   \n",
       "4                     1108           BIT      D & E MINING   \n",
       "\n",
       "  natural_gas_delivery_contract_type  year plant_state  \\\n",
       "0                               None  2008          AL   \n",
       "1                               None  2008          AL   \n",
       "2                               None  2008          AL   \n",
       "3                               None  2008          AL   \n",
       "4                               None  2008          AL   \n",
       "\n",
       "   average_sulfur_content primary_transportation_mode   fuel_group  \\\n",
       "0                    0.49                          RV         Coal   \n",
       "1                    0.48                          RV         Coal   \n",
       "2                    0.00                          PL  Natural Gas   \n",
       "3                    1.69                          TR         Coal   \n",
       "4                    0.84                          TR         Coal   \n",
       "\n",
       "  natural_gas_transportation_service moisture_content  month  \n",
       "0                                  F             None      1  \n",
       "1                                  F             None      1  \n",
       "2                                  F             None      1  \n",
       "3                                  F             None      1  \n",
       "4                                  F             None      1  "
      ]
     },
     "execution_count": 230,
     "metadata": {},
     "output_type": "execute_result"
    }
   ],
   "source": [
    "df.head()"
   ]
  },
  {
   "cell_type": "code",
   "execution_count": 231,
   "metadata": {
    "ExecuteTime": {
     "end_time": "2019-07-16T20:23:50.170913Z",
     "start_time": "2019-07-16T20:23:50.096587Z"
    },
    "hidden": true
   },
   "outputs": [
    {
     "data": {
      "text/plain": [
       "Natural Gas       182923\n",
       "Coal              158119\n",
       "Petroleum          33668\n",
       "Petroleum Coke      2076\n",
       "Other Gas           1257\n",
       "Name: fuel_group, dtype: int64"
      ]
     },
     "execution_count": 231,
     "metadata": {},
     "output_type": "execute_result"
    }
   ],
   "source": [
    "df.fuel_group.value_counts()"
   ]
  },
  {
   "cell_type": "code",
   "execution_count": 240,
   "metadata": {
    "ExecuteTime": {
     "end_time": "2019-07-16T20:27:14.135575Z",
     "start_time": "2019-07-16T20:27:14.074747Z"
    },
    "hidden": true
   },
   "outputs": [
    {
     "data": {
      "text/plain": [
       "PL    133053\n",
       "RR    103196\n",
       "TR     50549\n",
       "RV     29639\n",
       "TC      2263\n",
       "WT      2112\n",
       "TP       458\n",
       "GL       244\n",
       "tr         1\n",
       "Name: primary_transportation_mode, dtype: int64"
      ]
     },
     "execution_count": 240,
     "metadata": {},
     "output_type": "execute_result"
    }
   ],
   "source": [
    "df[\"primary_transportation_mode\"].value_counts()"
   ]
  },
  {
   "cell_type": "code",
   "execution_count": 241,
   "metadata": {
    "ExecuteTime": {
     "end_time": "2019-07-16T20:27:22.974463Z",
     "start_time": "2019-07-16T20:27:22.728063Z"
    },
    "hidden": true
   },
   "outputs": [],
   "source": [
    "df[\"primary_transportation_mode\"] = df[\"primary_transportation_mode\"].apply(lambda x: str(x).upper())"
   ]
  },
  {
   "cell_type": "code",
   "execution_count": 244,
   "metadata": {
    "ExecuteTime": {
     "end_time": "2019-07-16T20:30:56.829815Z",
     "start_time": "2019-07-16T20:30:56.624647Z"
    },
    "hidden": true
   },
   "outputs": [],
   "source": [
    "def fix_nan(x):\n",
    "    if x == \"NAN\":\n",
    "        return None\n",
    "    else:\n",
    "        return x\n",
    "df[\"primary_transportation_mode\"] = df[\"primary_transportation_mode\"].apply(fix_nan)"
   ]
  },
  {
   "cell_type": "code",
   "execution_count": 252,
   "metadata": {
    "ExecuteTime": {
     "end_time": "2019-07-16T20:41:01.865354Z",
     "start_time": "2019-07-16T20:41:01.507557Z"
    },
    "hidden": true
   },
   "outputs": [],
   "source": [
    "df.coalmine_type = df.coalmine_type.apply(lambda x: str(x).upper())\n",
    "df.coalmine_type = df.coalmine_type.apply(fix_nan)"
   ]
  },
  {
   "cell_type": "code",
   "execution_count": 262,
   "metadata": {
    "ExecuteTime": {
     "end_time": "2019-07-16T20:48:13.710635Z",
     "start_time": "2019-07-16T20:48:13.649691Z"
    },
    "hidden": true
   },
   "outputs": [
    {
     "data": {
      "text/plain": [
       "S    31094\n",
       "C    30245\n",
       "N      342\n",
       "Name: contract_type, dtype: int64"
      ]
     },
     "execution_count": 262,
     "metadata": {},
     "output_type": "execute_result"
    }
   ],
   "source": [
    "df[df[\"year\"] == 2008].contract_type.value_counts()"
   ]
  },
  {
   "cell_type": "code",
   "execution_count": 263,
   "metadata": {
    "ExecuteTime": {
     "end_time": "2019-07-16T20:49:28.282774Z",
     "start_time": "2019-07-16T20:49:28.163538Z"
    },
    "hidden": true
   },
   "outputs": [],
   "source": [
    "def n_to_nc(x):\n",
    "    if x == \"N\":\n",
    "        return \"NC\"\n",
    "    else:\n",
    "        return x\n",
    "df.contract_type = df.contract_type.apply(n_to_nc)"
   ]
  },
  {
   "cell_type": "code",
   "execution_count": 325,
   "metadata": {
    "ExecuteTime": {
     "end_time": "2019-07-16T21:18:08.235912Z",
     "start_time": "2019-07-16T21:18:08.230951Z"
    },
    "hidden": true
   },
   "outputs": [],
   "source": [
    "def find_str(x):\n",
    "    if x ==\"\" or x == None or x == 'None':\n",
    "        return np.nan\n",
    "    else:\n",
    "        return x"
   ]
  },
  {
   "cell_type": "code",
   "execution_count": 280,
   "metadata": {
    "ExecuteTime": {
     "end_time": "2019-07-16T20:57:49.664020Z",
     "start_time": "2019-07-16T20:57:49.010119Z"
    },
    "hidden": true
   },
   "outputs": [],
   "source": [
    " \n",
    "df[\"chlorine_content\"] = df[\"chlorine_content\"].apply(lambda x: x.replace(\"None\", \"\"))\n",
    "df[\"chlorine_content\"] = df[\"chlorine_content\"].apply(lambda x: x.replace(\".\", \"\"))\n",
    "\n",
    "df[\"chlorine_content\"] = df[\"chlorine_content\"].apply(find_str)\n",
    "df[\"chlorine_content\"] = df[\"chlorine_content\"].astype(float)"
   ]
  },
  {
   "cell_type": "code",
   "execution_count": 286,
   "metadata": {
    "ExecuteTime": {
     "end_time": "2019-07-16T20:58:55.973475Z",
     "start_time": "2019-07-16T20:58:55.670009Z"
    },
    "hidden": true
   },
   "outputs": [],
   "source": [
    "df.average_mercury_content = df.average_mercury_content.astype(float)"
   ]
  },
  {
   "cell_type": "code",
   "execution_count": 298,
   "metadata": {
    "ExecuteTime": {
     "end_time": "2019-07-16T21:05:41.009836Z",
     "start_time": "2019-07-16T21:05:40.958736Z"
    },
    "hidden": true
   },
   "outputs": [
    {
     "data": {
      "text/plain": [
       "NG     182923\n",
       "BIT     96592\n",
       "SUB     56893\n",
       "DFO     29235\n",
       "RFO      3102\n",
       "WC       2444\n",
       "LIG      2156\n",
       "PC       2076\n",
       "OG        927\n",
       "KER       619\n",
       "WO        574\n",
       "BFG       190\n",
       "JF        138\n",
       "PG        122\n",
       "SC         34\n",
       "SGP        18\n",
       "Name: energy_source, dtype: int64"
      ]
     },
     "execution_count": 298,
     "metadata": {},
     "output_type": "execute_result"
    }
   ],
   "source": [
    "df.energy_source.value_counts()"
   ]
  },
  {
   "cell_type": "code",
   "execution_count": 294,
   "metadata": {
    "ExecuteTime": {
     "end_time": "2019-07-16T21:02:27.736640Z",
     "start_time": "2019-07-16T21:02:27.657766Z"
    },
    "hidden": true
   },
   "outputs": [
    {
     "data": {
      "text/html": [
       "<div>\n",
       "<style scoped>\n",
       "    .dataframe tbody tr th:only-of-type {\n",
       "        vertical-align: middle;\n",
       "    }\n",
       "\n",
       "    .dataframe tbody tr th {\n",
       "        vertical-align: top;\n",
       "    }\n",
       "\n",
       "    .dataframe thead th {\n",
       "        text-align: right;\n",
       "    }\n",
       "</style>\n",
       "<table border=\"1\" class=\"dataframe\">\n",
       "  <thead>\n",
       "    <tr style=\"text-align: right;\">\n",
       "      <th></th>\n",
       "      <th>reporting_frequency</th>\n",
       "      <th>average_heat_content</th>\n",
       "      <th>purchase_type</th>\n",
       "      <th>plant_id</th>\n",
       "      <th>coalmine_type</th>\n",
       "      <th>coalmine_county</th>\n",
       "      <th>operator_id</th>\n",
       "      <th>coalmine_name</th>\n",
       "      <th>plant_name</th>\n",
       "      <th>natural_gas_supply_contract_type</th>\n",
       "      <th>fuel_cost</th>\n",
       "      <th>average_ash_content</th>\n",
       "      <th>regulated</th>\n",
       "      <th>contract_type</th>\n",
       "      <th>secondary_transportation_mode</th>\n",
       "      <th>chlorine_content</th>\n",
       "      <th>coalmine_state</th>\n",
       "      <th>coalmine_msha_id</th>\n",
       "      <th>average_mercury_content</th>\n",
       "      <th>quantity</th>\n",
       "      <th>operator_name</th>\n",
       "      <th>contract_expiration_date</th>\n",
       "      <th>energy_source</th>\n",
       "      <th>supplier</th>\n",
       "      <th>natural_gas_delivery_contract_type</th>\n",
       "      <th>year</th>\n",
       "      <th>plant_state</th>\n",
       "      <th>average_sulfur_content</th>\n",
       "      <th>primary_transportation_mode</th>\n",
       "      <th>fuel_group</th>\n",
       "      <th>natural_gas_transportation_service</th>\n",
       "      <th>moisture_content</th>\n",
       "      <th>month</th>\n",
       "      <th>temp</th>\n",
       "    </tr>\n",
       "  </thead>\n",
       "  <tbody>\n",
       "    <tr>\n",
       "      <th>129329</th>\n",
       "      <td>M</td>\n",
       "      <td>25.162</td>\n",
       "      <td>C</td>\n",
       "      <td>8848</td>\n",
       "      <td>None</td>\n",
       "      <td>NaN</td>\n",
       "      <td>6455.0</td>\n",
       "      <td>NaN</td>\n",
       "      <td>Ceredo</td>\n",
       "      <td>NaN</td>\n",
       "      <td>205.6</td>\n",
       "      <td>8.2</td>\n",
       "      <td>REG</td>\n",
       "      <td>None</td>\n",
       "      <td>NaN</td>\n",
       "      <td>NaN</td>\n",
       "      <td>NaN</td>\n",
       "      <td>NaN</td>\n",
       "      <td>0.0</td>\n",
       "      <td>57783</td>\n",
       "      <td>Duke Energy Florida, LLC</td>\n",
       "      <td>1219</td>\n",
       "      <td>151</td>\n",
       "      <td>ALLIANCE  COAL</td>\n",
       "      <td>NaN</td>\n",
       "      <td>2019</td>\n",
       "      <td>WV</td>\n",
       "      <td>2.69</td>\n",
       "      <td>RV</td>\n",
       "      <td>NaN</td>\n",
       "      <td>None</td>\n",
       "      <td>.</td>\n",
       "      <td>4</td>\n",
       "      <td>NaN</td>\n",
       "    </tr>\n",
       "  </tbody>\n",
       "</table>\n",
       "</div>"
      ],
      "text/plain": [
       "       reporting_frequency  average_heat_content purchase_type  plant_id  \\\n",
       "129329                   M                25.162             C      8848   \n",
       "\n",
       "       coalmine_type coalmine_county  operator_id coalmine_name plant_name  \\\n",
       "129329          None             NaN       6455.0           NaN     Ceredo   \n",
       "\n",
       "       natural_gas_supply_contract_type  fuel_cost  average_ash_content  \\\n",
       "129329                              NaN      205.6                  8.2   \n",
       "\n",
       "       regulated contract_type secondary_transportation_mode  \\\n",
       "129329       REG          None                           NaN   \n",
       "\n",
       "        chlorine_content coalmine_state  coalmine_msha_id  \\\n",
       "129329               NaN            NaN               NaN   \n",
       "\n",
       "        average_mercury_content  quantity             operator_name  \\\n",
       "129329                      0.0     57783  Duke Energy Florida, LLC   \n",
       "\n",
       "       contract_expiration_date energy_source        supplier  \\\n",
       "129329                     1219           151  ALLIANCE  COAL   \n",
       "\n",
       "       natural_gas_delivery_contract_type  year plant_state  \\\n",
       "129329                                NaN  2019          WV   \n",
       "\n",
       "        average_sulfur_content primary_transportation_mode fuel_group  \\\n",
       "129329                    2.69                          RV        NaN   \n",
       "\n",
       "       natural_gas_transportation_service moisture_content  month temp  \n",
       "129329                               None                .      4  NaN  "
      ]
     },
     "execution_count": 294,
     "metadata": {},
     "output_type": "execute_result"
    }
   ],
   "source": [
    "df[df.energy_source == \"151\"]"
   ]
  },
  {
   "cell_type": "code",
   "execution_count": 297,
   "metadata": {
    "ExecuteTime": {
     "end_time": "2019-07-16T21:05:36.526203Z",
     "start_time": "2019-07-16T21:05:36.453637Z"
    },
    "hidden": true
   },
   "outputs": [],
   "source": [
    "df.loc[129329,\"energy_source\"] = np.nan"
   ]
  },
  {
   "cell_type": "code",
   "execution_count": 310,
   "metadata": {
    "ExecuteTime": {
     "end_time": "2019-07-16T21:14:22.745833Z",
     "start_time": "2019-07-16T21:14:22.551525Z"
    },
    "hidden": true
   },
   "outputs": [],
   "source": [
    "def natgas_trans(x):\n",
    "    if x in [\"F\", \"I\", np.nan]:\n",
    "        return x\n",
    "    else:\n",
    "        return np.nan\n",
    "df.natural_gas_transportation_service = df.natural_gas_transportation_service.apply(natgas_trans)"
   ]
  },
  {
   "cell_type": "code",
   "execution_count": 319,
   "metadata": {
    "ExecuteTime": {
     "end_time": "2019-07-16T21:16:04.485976Z",
     "start_time": "2019-07-16T21:16:04.158293Z"
    },
    "hidden": true
   },
   "outputs": [],
   "source": [
    "df.moisture_content = df.moisture_content.apply(lambda x: str(x).replace(\".\", \"\"))"
   ]
  },
  {
   "cell_type": "code",
   "execution_count": 327,
   "metadata": {
    "ExecuteTime": {
     "end_time": "2019-07-16T21:18:14.796297Z",
     "start_time": "2019-07-16T21:18:14.615298Z"
    },
    "hidden": true
   },
   "outputs": [],
   "source": [
    "df.moisture_content = df.moisture_content.apply(find_str)"
   ]
  },
  {
   "cell_type": "code",
   "execution_count": 329,
   "metadata": {
    "ExecuteTime": {
     "end_time": "2019-07-16T21:18:25.569991Z",
     "start_time": "2019-07-16T21:18:25.133994Z"
    },
    "hidden": true
   },
   "outputs": [],
   "source": [
    "df.moisture_content = df.moisture_content.astype(float)"
   ]
  },
  {
   "cell_type": "markdown",
   "metadata": {
    "heading_collapsed": true
   },
   "source": [
    "# Dealing with NAs"
   ]
  },
  {
   "cell_type": "code",
   "execution_count": 361,
   "metadata": {
    "ExecuteTime": {
     "end_time": "2019-07-16T21:32:38.436764Z",
     "start_time": "2019-07-16T21:32:37.770736Z"
    },
    "hidden": true
   },
   "outputs": [
    {
     "data": {
      "text/plain": [
       "reporting_frequency                        0\n",
       "average_heat_content                       0\n",
       "purchase_type                         241575\n",
       "plant_id                                   0\n",
       "coalmine_type                         219672\n",
       "coalmine_county                       220706\n",
       "operator_id                                0\n",
       "coalmine_name                         221912\n",
       "plant_name                                 0\n",
       "natural_gas_supply_contract_type      344428\n",
       "fuel_cost                              65168\n",
       "average_ash_content                        0\n",
       "regulated                                  0\n",
       "contract_type                         136524\n",
       "secondary_transportation_mode         352734\n",
       "chlorine_content                      368961\n",
       "coalmine_state                        219428\n",
       "coalmine_msha_id                      240662\n",
       "average_mercury_content               241562\n",
       "quantity                                   0\n",
       "operator_name                              0\n",
       "contract_expiration_date               98308\n",
       "energy_source                              2\n",
       "supplier                                   3\n",
       "natural_gas_delivery_contract_type    344432\n",
       "year                                       0\n",
       "plant_state                                0\n",
       "average_sulfur_content                     0\n",
       "primary_transportation_mode            56530\n",
       "fuel_group                                 2\n",
       "natural_gas_transportation_service    221139\n",
       "moisture_content                      360007\n",
       "month                                      0\n",
       "dtype: int64"
      ]
     },
     "execution_count": 361,
     "metadata": {},
     "output_type": "execute_result"
    }
   ],
   "source": [
    "df.isna().sum()"
   ]
  },
  {
   "cell_type": "code",
   "execution_count": null,
   "metadata": {
    "hidden": true
   },
   "outputs": [],
   "source": [
    "# Fill ID/name fields with unique ID"
   ]
  },
  {
   "cell_type": "code",
   "execution_count": 359,
   "metadata": {
    "ExecuteTime": {
     "end_time": "2019-07-16T21:30:45.943733Z",
     "start_time": "2019-07-16T21:30:45.782999Z"
    },
    "hidden": true
   },
   "outputs": [],
   "source": [
    "for i in df[df.plant_state.isna()].index:\n",
    "    df.loc[i, \"plant_state\"] = \"plant_\" + str(i)\n",
    "    df.loc[i, \"operator_id\"] = \"operator_\" + str(i)\n",
    "    df.loc[i, \"operator_name\"] = \"operator_\" + str(i)\n",
    "    df.loc[i, \"plant_id\"] = \"plant_\" + str(i)"
   ]
  },
  {
   "cell_type": "code",
   "execution_count": 364,
   "metadata": {
    "ExecuteTime": {
     "end_time": "2019-07-16T21:33:38.603616Z",
     "start_time": "2019-07-16T21:33:38.544788Z"
    },
    "hidden": true
   },
   "outputs": [
    {
     "data": {
      "text/html": [
       "<div>\n",
       "<style scoped>\n",
       "    .dataframe tbody tr th:only-of-type {\n",
       "        vertical-align: middle;\n",
       "    }\n",
       "\n",
       "    .dataframe tbody tr th {\n",
       "        vertical-align: top;\n",
       "    }\n",
       "\n",
       "    .dataframe thead th {\n",
       "        text-align: right;\n",
       "    }\n",
       "</style>\n",
       "<table border=\"1\" class=\"dataframe\">\n",
       "  <thead>\n",
       "    <tr style=\"text-align: right;\">\n",
       "      <th></th>\n",
       "      <th>average_ash_content</th>\n",
       "      <th>average_heat_content</th>\n",
       "      <th>average_mercury_content</th>\n",
       "      <th>average_sulfur_content</th>\n",
       "      <th>chlorine_content</th>\n",
       "      <th>coalmine_county</th>\n",
       "      <th>coalmine_msha_id</th>\n",
       "      <th>coalmine_name</th>\n",
       "      <th>coalmine_state</th>\n",
       "      <th>coalmine_type</th>\n",
       "      <th>contract_expiration_date</th>\n",
       "      <th>contract_type</th>\n",
       "      <th>energy_source</th>\n",
       "      <th>fuel_cost</th>\n",
       "      <th>fuel_group</th>\n",
       "      <th>moisture_content</th>\n",
       "      <th>month</th>\n",
       "      <th>natural_gas_delivery_contract_type</th>\n",
       "      <th>natural_gas_supply_contract_type</th>\n",
       "      <th>natural_gas_transportation_service</th>\n",
       "      <th>operator_id</th>\n",
       "      <th>operator_name</th>\n",
       "      <th>plant_id</th>\n",
       "      <th>plant_name</th>\n",
       "      <th>plant_state</th>\n",
       "      <th>primary_transportation_mode</th>\n",
       "      <th>purchase_type</th>\n",
       "      <th>quantity</th>\n",
       "      <th>regulated</th>\n",
       "      <th>reporting_frequency</th>\n",
       "      <th>secondary_transportation_mode</th>\n",
       "      <th>supplier</th>\n",
       "      <th>year</th>\n",
       "    </tr>\n",
       "  </thead>\n",
       "  <tbody>\n",
       "    <tr>\n",
       "      <th>129329</th>\n",
       "      <td>8.2</td>\n",
       "      <td>25.162</td>\n",
       "      <td>0.0</td>\n",
       "      <td>2.69</td>\n",
       "      <td>NaN</td>\n",
       "      <td>NaN</td>\n",
       "      <td>NaN</td>\n",
       "      <td>NaN</td>\n",
       "      <td>NaN</td>\n",
       "      <td>None</td>\n",
       "      <td>1219</td>\n",
       "      <td>None</td>\n",
       "      <td>NaN</td>\n",
       "      <td>205.6</td>\n",
       "      <td>NaN</td>\n",
       "      <td>NaN</td>\n",
       "      <td>4</td>\n",
       "      <td>NaN</td>\n",
       "      <td>NaN</td>\n",
       "      <td>NaN</td>\n",
       "      <td>6455</td>\n",
       "      <td>Duke Energy Florida, LLC</td>\n",
       "      <td>8848</td>\n",
       "      <td>Ceredo</td>\n",
       "      <td>WV</td>\n",
       "      <td>RV</td>\n",
       "      <td>C</td>\n",
       "      <td>57783</td>\n",
       "      <td>REG</td>\n",
       "      <td>M</td>\n",
       "      <td>NaN</td>\n",
       "      <td>ALLIANCE  COAL</td>\n",
       "      <td>2019</td>\n",
       "    </tr>\n",
       "    <tr>\n",
       "      <th>228233</th>\n",
       "      <td>0.0</td>\n",
       "      <td>5.560</td>\n",
       "      <td>0.0</td>\n",
       "      <td>0.00</td>\n",
       "      <td>NaN</td>\n",
       "      <td>NaN</td>\n",
       "      <td>NaN</td>\n",
       "      <td>NaN</td>\n",
       "      <td>NaN</td>\n",
       "      <td>None</td>\n",
       "      <td>.</td>\n",
       "      <td>None</td>\n",
       "      <td>NaN</td>\n",
       "      <td>1953.7</td>\n",
       "      <td>NaN</td>\n",
       "      <td>NaN</td>\n",
       "      <td>10</td>\n",
       "      <td>None</td>\n",
       "      <td>None</td>\n",
       "      <td>NaN</td>\n",
       "      <td>5860</td>\n",
       "      <td>Empire District Electric Co</td>\n",
       "      <td>6223</td>\n",
       "      <td>Empire Energy Center</td>\n",
       "      <td>MO</td>\n",
       "      <td>TR</td>\n",
       "      <td>S</td>\n",
       "      <td>15176</td>\n",
       "      <td>REG</td>\n",
       "      <td>M</td>\n",
       "      <td>NaN</td>\n",
       "      <td>AVFUEL</td>\n",
       "      <td>2014</td>\n",
       "    </tr>\n",
       "  </tbody>\n",
       "</table>\n",
       "</div>"
      ],
      "text/plain": [
       "        average_ash_content  average_heat_content  average_mercury_content  \\\n",
       "129329                  8.2                25.162                      0.0   \n",
       "228233                  0.0                 5.560                      0.0   \n",
       "\n",
       "        average_sulfur_content  chlorine_content coalmine_county  \\\n",
       "129329                    2.69               NaN             NaN   \n",
       "228233                    0.00               NaN             NaN   \n",
       "\n",
       "        coalmine_msha_id coalmine_name coalmine_state coalmine_type  \\\n",
       "129329               NaN           NaN            NaN          None   \n",
       "228233               NaN           NaN            NaN          None   \n",
       "\n",
       "       contract_expiration_date contract_type energy_source  fuel_cost  \\\n",
       "129329                     1219          None           NaN      205.6   \n",
       "228233                        .          None           NaN     1953.7   \n",
       "\n",
       "       fuel_group  moisture_content  month natural_gas_delivery_contract_type  \\\n",
       "129329        NaN               NaN      4                                NaN   \n",
       "228233        NaN               NaN     10                               None   \n",
       "\n",
       "       natural_gas_supply_contract_type natural_gas_transportation_service  \\\n",
       "129329                              NaN                                NaN   \n",
       "228233                             None                                NaN   \n",
       "\n",
       "       operator_id                operator_name  plant_id  \\\n",
       "129329        6455     Duke Energy Florida, LLC      8848   \n",
       "228233        5860  Empire District Electric Co      6223   \n",
       "\n",
       "                  plant_name plant_state primary_transportation_mode  \\\n",
       "129329                Ceredo          WV                          RV   \n",
       "228233  Empire Energy Center          MO                          TR   \n",
       "\n",
       "       purchase_type  quantity regulated reporting_frequency  \\\n",
       "129329             C     57783       REG                   M   \n",
       "228233             S     15176       REG                   M   \n",
       "\n",
       "       secondary_transportation_mode        supplier  year  \n",
       "129329                           NaN  ALLIANCE  COAL  2019  \n",
       "228233                           NaN          AVFUEL  2014  "
      ]
     },
     "execution_count": 364,
     "metadata": {},
     "output_type": "execute_result"
    }
   ],
   "source": [
    "df[df.fuel_group.isna()]"
   ]
  },
  {
   "cell_type": "code",
   "execution_count": 363,
   "metadata": {
    "ExecuteTime": {
     "end_time": "2019-07-16T21:33:36.589809Z",
     "start_time": "2019-07-16T21:33:36.425215Z"
    },
    "hidden": true
   },
   "outputs": [],
   "source": [
    "df = df.reindex(sorted(df.columns), axis=1)"
   ]
  },
  {
   "cell_type": "code",
   "execution_count": 365,
   "metadata": {
    "ExecuteTime": {
     "end_time": "2019-07-16T21:40:15.692784Z",
     "start_time": "2019-07-16T21:40:05.351175Z"
    },
    "hidden": true
   },
   "outputs": [],
   "source": [
    "df.to_csv(\"cleaned.csv\")"
   ]
  }
 ],
 "metadata": {
  "kernelspec": {
   "display_name": "Python 3",
   "language": "python",
   "name": "python3"
  },
  "language_info": {
   "codemirror_mode": {
    "name": "ipython",
    "version": 3
   },
   "file_extension": ".py",
   "mimetype": "text/x-python",
   "name": "python",
   "nbconvert_exporter": "python",
   "pygments_lexer": "ipython3",
   "version": "3.7.3"
  },
  "toc": {
   "base_numbering": 1,
   "nav_menu": {},
   "number_sections": true,
   "sideBar": true,
   "skip_h1_title": false,
   "title_cell": "Table of Contents",
   "title_sidebar": "Contents",
   "toc_cell": false,
   "toc_position": {},
   "toc_section_display": true,
   "toc_window_display": false
  },
  "varInspector": {
   "cols": {
    "lenName": 16,
    "lenType": 16,
    "lenVar": 40
   },
   "kernels_config": {
    "python": {
     "delete_cmd_postfix": "",
     "delete_cmd_prefix": "del ",
     "library": "var_list.py",
     "varRefreshCmd": "print(var_dic_list())"
    },
    "r": {
     "delete_cmd_postfix": ") ",
     "delete_cmd_prefix": "rm(",
     "library": "var_list.r",
     "varRefreshCmd": "cat(var_dic_list()) "
    }
   },
   "types_to_exclude": [
    "module",
    "function",
    "builtin_function_or_method",
    "instance",
    "_Feature"
   ],
   "window_display": false
  }
 },
 "nbformat": 4,
 "nbformat_minor": 2
}
