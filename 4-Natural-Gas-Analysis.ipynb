{
 "cells": [
  {
   "cell_type": "markdown",
   "metadata": {},
   "source": [
    "# Load Models and Data"
   ]
  },
  {
   "cell_type": "code",
   "execution_count": 239,
   "metadata": {
    "ExecuteTime": {
     "end_time": "2019-07-30T14:23:56.078847Z",
     "start_time": "2019-07-30T14:23:55.580155Z"
    }
   },
   "outputs": [],
   "source": [
    "from sklearn.model_selection import train_test_split\n",
    "import matplotlib.pyplot as plt\n",
    "%matplotlib inline\n",
    "import sqlite3\n",
    "import pandas as pd\n",
    "pd.set_option(\"display.max_columns\", 500)\n",
    "from sklearn.preprocessing import LabelEncoder\n",
    "from sklearn.metrics import mean_squared_error\n",
    "from sklearn.model_selection import cross_val_score\n",
    "from sklearn.tree import DecisionTreeClassifier\n",
    "import seaborn as sns\n",
    "from sklearn.metrics import f1_score, recall_score, precision_score\n",
    "from sklearn.metrics import confusion_matrix, auc, roc_curve\n",
    "from sklearn.model_selection import KFold"
   ]
  },
  {
   "cell_type": "code",
   "execution_count": 240,
   "metadata": {
    "ExecuteTime": {
     "end_time": "2019-07-30T14:24:13.601895Z",
     "start_time": "2019-07-30T14:24:13.576656Z"
    }
   },
   "outputs": [],
   "source": [
    "def get_auc(results, y_test, y_pred):\n",
    "    y_pred_proba = results.predict_proba(X_test)\n",
    "    y_pred_proba_1 = [x[1] for x in y_pred_proba]\n",
    "    pr = roc_curve(y_test, y_pred_proba_1)\n",
    "    return auc(pr[0], pr[1])"
   ]
  },
  {
   "cell_type": "code",
   "execution_count": 241,
   "metadata": {
    "ExecuteTime": {
     "end_time": "2019-07-30T14:24:30.902514Z",
     "start_time": "2019-07-30T14:24:30.869727Z"
    }
   },
   "outputs": [],
   "source": [
    "from utils import cost_function, coster, get_scores"
   ]
  },
  {
   "cell_type": "code",
   "execution_count": 242,
   "metadata": {
    "ExecuteTime": {
     "end_time": "2019-07-30T14:25:35.354684Z",
     "start_time": "2019-07-30T14:24:48.645126Z"
    },
    "scrolled": true
   },
   "outputs": [
    {
     "data": {
      "text/html": [
       "<div>\n",
       "<style scoped>\n",
       "    .dataframe tbody tr th:only-of-type {\n",
       "        vertical-align: middle;\n",
       "    }\n",
       "\n",
       "    .dataframe tbody tr th {\n",
       "        vertical-align: top;\n",
       "    }\n",
       "\n",
       "    .dataframe thead th {\n",
       "        text-align: right;\n",
       "    }\n",
       "</style>\n",
       "<table border=\"1\" class=\"dataframe\">\n",
       "  <thead>\n",
       "    <tr style=\"text-align: right;\">\n",
       "      <th></th>\n",
       "      <th>average_ash_content</th>\n",
       "      <th>average_heat_content</th>\n",
       "      <th>average_mercury_content</th>\n",
       "      <th>average_sulfur_content</th>\n",
       "      <th>chlorine_content</th>\n",
       "      <th>coalmine_county</th>\n",
       "      <th>coalmine_msha_id</th>\n",
       "      <th>coalmine_name</th>\n",
       "      <th>coalmine_state</th>\n",
       "      <th>coalmine_type</th>\n",
       "      <th>contract_expiration_date</th>\n",
       "      <th>contract_type</th>\n",
       "      <th>energy_source</th>\n",
       "      <th>fuel_cost</th>\n",
       "      <th>fuel_group</th>\n",
       "      <th>moisture_content</th>\n",
       "      <th>month</th>\n",
       "      <th>natural_gas_delivery_contract_type</th>\n",
       "      <th>natural_gas_supply_contract_type</th>\n",
       "      <th>natural_gas_transportation_service</th>\n",
       "      <th>operator_id</th>\n",
       "      <th>operator_name</th>\n",
       "      <th>plant_id</th>\n",
       "      <th>plant_name</th>\n",
       "      <th>plant_state</th>\n",
       "      <th>primary_transportation_mode</th>\n",
       "      <th>purchase_type</th>\n",
       "      <th>quantity</th>\n",
       "      <th>regulated</th>\n",
       "      <th>reporting_frequency</th>\n",
       "      <th>secondary_transportation_mode</th>\n",
       "      <th>supplier</th>\n",
       "      <th>year</th>\n",
       "      <th>plant_id_gen</th>\n",
       "      <th>combined_heat_and_power_plant</th>\n",
       "      <th>plant_name_gen</th>\n",
       "      <th>operator_name_gen</th>\n",
       "      <th>state_gen</th>\n",
       "      <th>census_region</th>\n",
       "      <th>nerc_region</th>\n",
       "      <th>reserved_</th>\n",
       "      <th>naics_code</th>\n",
       "      <th>eia_sector_number</th>\n",
       "      <th>sector_name</th>\n",
       "      <th>reported_prime_mover</th>\n",
       "      <th>reported_fuel_type_code</th>\n",
       "      <th>aer_fuel_type_code</th>\n",
       "      <th>reserved_1</th>\n",
       "      <th>reserved_2</th>\n",
       "      <th>physical_unit_label</th>\n",
       "      <th>total_fuel_consumption_quantity</th>\n",
       "      <th>electric_fuel_consumption_quantity</th>\n",
       "      <th>total_fuel_consumption_mmbtu</th>\n",
       "      <th>elec_fuel_consumption_mmbtu</th>\n",
       "      <th>net_generation_megawatthours</th>\n",
       "      <th>year_gen</th>\n",
       "      <th>quantity_gen</th>\n",
       "      <th>elec_quantity_gen</th>\n",
       "      <th>mmbtu_per_unit_gen</th>\n",
       "      <th>tot_mmbtu_gen</th>\n",
       "      <th>elec_mmbtu_gen</th>\n",
       "      <th>netgen_gen</th>\n",
       "      <th>year_month_nerc</th>\n",
       "      <th>number_affected</th>\n",
       "      <th>disturbance_events</th>\n",
       "    </tr>\n",
       "  </thead>\n",
       "  <tbody>\n",
       "    <tr>\n",
       "      <th>0</th>\n",
       "      <td>5.4</td>\n",
       "      <td>23.100</td>\n",
       "      <td>0.0</td>\n",
       "      <td>0.49</td>\n",
       "      <td>0.0</td>\n",
       "      <td>IMP</td>\n",
       "      <td>N/A</td>\n",
       "      <td>MINA PRIBBENOW</td>\n",
       "      <td>CL</td>\n",
       "      <td>SU</td>\n",
       "      <td>408.0</td>\n",
       "      <td>C</td>\n",
       "      <td>BIT</td>\n",
       "      <td>213.5</td>\n",
       "      <td>Coal</td>\n",
       "      <td>0.0</td>\n",
       "      <td>1</td>\n",
       "      <td>N/A</td>\n",
       "      <td>N/A</td>\n",
       "      <td>F</td>\n",
       "      <td>195.0</td>\n",
       "      <td>Alabama Power Co</td>\n",
       "      <td>3</td>\n",
       "      <td>Barry</td>\n",
       "      <td>AL</td>\n",
       "      <td>RV</td>\n",
       "      <td>N/A</td>\n",
       "      <td>259412</td>\n",
       "      <td>REG</td>\n",
       "      <td>M</td>\n",
       "      <td>N/A</td>\n",
       "      <td>INTEROCEAN COAL</td>\n",
       "      <td>2008</td>\n",
       "      <td>3</td>\n",
       "      <td>N</td>\n",
       "      <td>Barry</td>\n",
       "      <td>Alabama Power Co</td>\n",
       "      <td>AL</td>\n",
       "      <td>ESC</td>\n",
       "      <td>SERC</td>\n",
       "      <td>None</td>\n",
       "      <td>22</td>\n",
       "      <td>1</td>\n",
       "      <td>Electric Utility</td>\n",
       "      <td>ST</td>\n",
       "      <td>BIT</td>\n",
       "      <td>COL</td>\n",
       "      <td>None</td>\n",
       "      <td>None</td>\n",
       "      <td>short tons</td>\n",
       "      <td>4208251</td>\n",
       "      <td>4208251</td>\n",
       "      <td>94561606</td>\n",
       "      <td>94561606</td>\n",
       "      <td>9472859</td>\n",
       "      <td>2008</td>\n",
       "      <td>340778</td>\n",
       "      <td>340778</td>\n",
       "      <td>22.59</td>\n",
       "      <td>7697153</td>\n",
       "      <td>7697153</td>\n",
       "      <td>778699</td>\n",
       "      <td>2008-1-SERC</td>\n",
       "      <td>0.0</td>\n",
       "      <td>0.0</td>\n",
       "    </tr>\n",
       "    <tr>\n",
       "      <th>1</th>\n",
       "      <td>5.7</td>\n",
       "      <td>22.800</td>\n",
       "      <td>0.0</td>\n",
       "      <td>0.48</td>\n",
       "      <td>0.0</td>\n",
       "      <td>IMP</td>\n",
       "      <td>N/A</td>\n",
       "      <td>MINA PRIBBENOW</td>\n",
       "      <td>CL</td>\n",
       "      <td>SU</td>\n",
       "      <td>408.0</td>\n",
       "      <td>C</td>\n",
       "      <td>BIT</td>\n",
       "      <td>211.5</td>\n",
       "      <td>Coal</td>\n",
       "      <td>0.0</td>\n",
       "      <td>1</td>\n",
       "      <td>N/A</td>\n",
       "      <td>N/A</td>\n",
       "      <td>F</td>\n",
       "      <td>195.0</td>\n",
       "      <td>Alabama Power Co</td>\n",
       "      <td>3</td>\n",
       "      <td>Barry</td>\n",
       "      <td>AL</td>\n",
       "      <td>RV</td>\n",
       "      <td>N/A</td>\n",
       "      <td>52241</td>\n",
       "      <td>REG</td>\n",
       "      <td>M</td>\n",
       "      <td>N/A</td>\n",
       "      <td>INTEROCEAN COAL</td>\n",
       "      <td>2008</td>\n",
       "      <td>3</td>\n",
       "      <td>N</td>\n",
       "      <td>Barry</td>\n",
       "      <td>Alabama Power Co</td>\n",
       "      <td>AL</td>\n",
       "      <td>ESC</td>\n",
       "      <td>SERC</td>\n",
       "      <td>None</td>\n",
       "      <td>22</td>\n",
       "      <td>1</td>\n",
       "      <td>Electric Utility</td>\n",
       "      <td>ST</td>\n",
       "      <td>BIT</td>\n",
       "      <td>COL</td>\n",
       "      <td>None</td>\n",
       "      <td>None</td>\n",
       "      <td>short tons</td>\n",
       "      <td>4208251</td>\n",
       "      <td>4208251</td>\n",
       "      <td>94561606</td>\n",
       "      <td>94561606</td>\n",
       "      <td>9472859</td>\n",
       "      <td>2008</td>\n",
       "      <td>340778</td>\n",
       "      <td>340778</td>\n",
       "      <td>22.59</td>\n",
       "      <td>7697153</td>\n",
       "      <td>7697153</td>\n",
       "      <td>778699</td>\n",
       "      <td>2008-1-SERC</td>\n",
       "      <td>0.0</td>\n",
       "      <td>0.0</td>\n",
       "    </tr>\n",
       "    <tr>\n",
       "      <th>2</th>\n",
       "      <td>0.0</td>\n",
       "      <td>1.039</td>\n",
       "      <td>0.0</td>\n",
       "      <td>0.00</td>\n",
       "      <td>0.0</td>\n",
       "      <td>N/A</td>\n",
       "      <td>N/A</td>\n",
       "      <td>None</td>\n",
       "      <td>N/A</td>\n",
       "      <td>N/A</td>\n",
       "      <td>None</td>\n",
       "      <td>C</td>\n",
       "      <td>NG</td>\n",
       "      <td>863.1</td>\n",
       "      <td>Natural Gas</td>\n",
       "      <td>0.0</td>\n",
       "      <td>1</td>\n",
       "      <td>N/A</td>\n",
       "      <td>N/A</td>\n",
       "      <td>F</td>\n",
       "      <td>195.0</td>\n",
       "      <td>Alabama Power Co</td>\n",
       "      <td>3</td>\n",
       "      <td>Barry</td>\n",
       "      <td>AL</td>\n",
       "      <td>PL</td>\n",
       "      <td>N/A</td>\n",
       "      <td>2783619</td>\n",
       "      <td>REG</td>\n",
       "      <td>M</td>\n",
       "      <td>N/A</td>\n",
       "      <td>BAY GAS PIPELINE</td>\n",
       "      <td>2008</td>\n",
       "      <td>3</td>\n",
       "      <td>N</td>\n",
       "      <td>Barry</td>\n",
       "      <td>Alabama Power Co</td>\n",
       "      <td>AL</td>\n",
       "      <td>ESC</td>\n",
       "      <td>SERC</td>\n",
       "      <td>None</td>\n",
       "      <td>22</td>\n",
       "      <td>1</td>\n",
       "      <td>Electric Utility</td>\n",
       "      <td>CA</td>\n",
       "      <td>NG</td>\n",
       "      <td>NG</td>\n",
       "      <td>None</td>\n",
       "      <td>None</td>\n",
       "      <td>mcf</td>\n",
       "      <td>3433</td>\n",
       "      <td>3433</td>\n",
       "      <td>3559</td>\n",
       "      <td>3559</td>\n",
       "      <td>1609033</td>\n",
       "      <td>2008</td>\n",
       "      <td>2400</td>\n",
       "      <td>2400</td>\n",
       "      <td>1.04</td>\n",
       "      <td>2489</td>\n",
       "      <td>2489</td>\n",
       "      <td>146327</td>\n",
       "      <td>2008-1-SERC</td>\n",
       "      <td>0.0</td>\n",
       "      <td>0.0</td>\n",
       "    </tr>\n",
       "    <tr>\n",
       "      <th>3</th>\n",
       "      <td>0.0</td>\n",
       "      <td>1.039</td>\n",
       "      <td>0.0</td>\n",
       "      <td>0.00</td>\n",
       "      <td>0.0</td>\n",
       "      <td>N/A</td>\n",
       "      <td>N/A</td>\n",
       "      <td>None</td>\n",
       "      <td>N/A</td>\n",
       "      <td>N/A</td>\n",
       "      <td>None</td>\n",
       "      <td>C</td>\n",
       "      <td>NG</td>\n",
       "      <td>863.1</td>\n",
       "      <td>Natural Gas</td>\n",
       "      <td>0.0</td>\n",
       "      <td>1</td>\n",
       "      <td>N/A</td>\n",
       "      <td>N/A</td>\n",
       "      <td>F</td>\n",
       "      <td>195.0</td>\n",
       "      <td>Alabama Power Co</td>\n",
       "      <td>3</td>\n",
       "      <td>Barry</td>\n",
       "      <td>AL</td>\n",
       "      <td>PL</td>\n",
       "      <td>N/A</td>\n",
       "      <td>2783619</td>\n",
       "      <td>REG</td>\n",
       "      <td>M</td>\n",
       "      <td>N/A</td>\n",
       "      <td>BAY GAS PIPELINE</td>\n",
       "      <td>2008</td>\n",
       "      <td>3</td>\n",
       "      <td>N</td>\n",
       "      <td>Barry</td>\n",
       "      <td>Alabama Power Co</td>\n",
       "      <td>AL</td>\n",
       "      <td>ESC</td>\n",
       "      <td>SERC</td>\n",
       "      <td>None</td>\n",
       "      <td>22</td>\n",
       "      <td>1</td>\n",
       "      <td>Electric Utility</td>\n",
       "      <td>CT</td>\n",
       "      <td>NG</td>\n",
       "      <td>NG</td>\n",
       "      <td>None</td>\n",
       "      <td>None</td>\n",
       "      <td>mcf</td>\n",
       "      <td>30932077</td>\n",
       "      <td>30932077</td>\n",
       "      <td>32090118</td>\n",
       "      <td>32090118</td>\n",
       "      <td>2858195</td>\n",
       "      <td>2008</td>\n",
       "      <td>2781102</td>\n",
       "      <td>2781102</td>\n",
       "      <td>1.04</td>\n",
       "      <td>2884003</td>\n",
       "      <td>2884003</td>\n",
       "      <td>244784</td>\n",
       "      <td>2008-1-SERC</td>\n",
       "      <td>0.0</td>\n",
       "      <td>0.0</td>\n",
       "    </tr>\n",
       "    <tr>\n",
       "      <th>4</th>\n",
       "      <td>0.0</td>\n",
       "      <td>1.039</td>\n",
       "      <td>0.0</td>\n",
       "      <td>0.00</td>\n",
       "      <td>0.0</td>\n",
       "      <td>N/A</td>\n",
       "      <td>N/A</td>\n",
       "      <td>None</td>\n",
       "      <td>N/A</td>\n",
       "      <td>N/A</td>\n",
       "      <td>None</td>\n",
       "      <td>C</td>\n",
       "      <td>NG</td>\n",
       "      <td>863.1</td>\n",
       "      <td>Natural Gas</td>\n",
       "      <td>0.0</td>\n",
       "      <td>1</td>\n",
       "      <td>N/A</td>\n",
       "      <td>N/A</td>\n",
       "      <td>F</td>\n",
       "      <td>195.0</td>\n",
       "      <td>Alabama Power Co</td>\n",
       "      <td>3</td>\n",
       "      <td>Barry</td>\n",
       "      <td>AL</td>\n",
       "      <td>PL</td>\n",
       "      <td>N/A</td>\n",
       "      <td>2783619</td>\n",
       "      <td>REG</td>\n",
       "      <td>M</td>\n",
       "      <td>N/A</td>\n",
       "      <td>BAY GAS PIPELINE</td>\n",
       "      <td>2008</td>\n",
       "      <td>3</td>\n",
       "      <td>N</td>\n",
       "      <td>Barry</td>\n",
       "      <td>Alabama Power Co</td>\n",
       "      <td>AL</td>\n",
       "      <td>ESC</td>\n",
       "      <td>SERC</td>\n",
       "      <td>None</td>\n",
       "      <td>22</td>\n",
       "      <td>1</td>\n",
       "      <td>Electric Utility</td>\n",
       "      <td>ST</td>\n",
       "      <td>NG</td>\n",
       "      <td>NG</td>\n",
       "      <td>None</td>\n",
       "      <td>None</td>\n",
       "      <td>mcf</td>\n",
       "      <td>837652</td>\n",
       "      <td>837652</td>\n",
       "      <td>871270</td>\n",
       "      <td>871270</td>\n",
       "      <td>87265</td>\n",
       "      <td>2008</td>\n",
       "      <td>109281</td>\n",
       "      <td>109281</td>\n",
       "      <td>1.04</td>\n",
       "      <td>113543</td>\n",
       "      <td>113543</td>\n",
       "      <td>11487</td>\n",
       "      <td>2008-1-SERC</td>\n",
       "      <td>0.0</td>\n",
       "      <td>0.0</td>\n",
       "    </tr>\n",
       "  </tbody>\n",
       "</table>\n",
       "</div>"
      ],
      "text/plain": [
       "   average_ash_content  average_heat_content  average_mercury_content  \\\n",
       "0                  5.4                23.100                      0.0   \n",
       "1                  5.7                22.800                      0.0   \n",
       "2                  0.0                 1.039                      0.0   \n",
       "3                  0.0                 1.039                      0.0   \n",
       "4                  0.0                 1.039                      0.0   \n",
       "\n",
       "   average_sulfur_content  chlorine_content coalmine_county coalmine_msha_id  \\\n",
       "0                    0.49               0.0             IMP              N/A   \n",
       "1                    0.48               0.0             IMP              N/A   \n",
       "2                    0.00               0.0             N/A              N/A   \n",
       "3                    0.00               0.0             N/A              N/A   \n",
       "4                    0.00               0.0             N/A              N/A   \n",
       "\n",
       "    coalmine_name coalmine_state coalmine_type contract_expiration_date  \\\n",
       "0  MINA PRIBBENOW             CL            SU                    408.0   \n",
       "1  MINA PRIBBENOW             CL            SU                    408.0   \n",
       "2            None            N/A           N/A                     None   \n",
       "3            None            N/A           N/A                     None   \n",
       "4            None            N/A           N/A                     None   \n",
       "\n",
       "  contract_type energy_source  fuel_cost   fuel_group  moisture_content  \\\n",
       "0             C           BIT      213.5         Coal               0.0   \n",
       "1             C           BIT      211.5         Coal               0.0   \n",
       "2             C            NG      863.1  Natural Gas               0.0   \n",
       "3             C            NG      863.1  Natural Gas               0.0   \n",
       "4             C            NG      863.1  Natural Gas               0.0   \n",
       "\n",
       "   month natural_gas_delivery_contract_type natural_gas_supply_contract_type  \\\n",
       "0      1                                N/A                              N/A   \n",
       "1      1                                N/A                              N/A   \n",
       "2      1                                N/A                              N/A   \n",
       "3      1                                N/A                              N/A   \n",
       "4      1                                N/A                              N/A   \n",
       "\n",
       "  natural_gas_transportation_service operator_id     operator_name plant_id  \\\n",
       "0                                  F       195.0  Alabama Power Co        3   \n",
       "1                                  F       195.0  Alabama Power Co        3   \n",
       "2                                  F       195.0  Alabama Power Co        3   \n",
       "3                                  F       195.0  Alabama Power Co        3   \n",
       "4                                  F       195.0  Alabama Power Co        3   \n",
       "\n",
       "  plant_name plant_state primary_transportation_mode purchase_type  quantity  \\\n",
       "0      Barry          AL                          RV           N/A    259412   \n",
       "1      Barry          AL                          RV           N/A     52241   \n",
       "2      Barry          AL                          PL           N/A   2783619   \n",
       "3      Barry          AL                          PL           N/A   2783619   \n",
       "4      Barry          AL                          PL           N/A   2783619   \n",
       "\n",
       "  regulated reporting_frequency secondary_transportation_mode  \\\n",
       "0       REG                   M                           N/A   \n",
       "1       REG                   M                           N/A   \n",
       "2       REG                   M                           N/A   \n",
       "3       REG                   M                           N/A   \n",
       "4       REG                   M                           N/A   \n",
       "\n",
       "           supplier  year plant_id_gen combined_heat_and_power_plant  \\\n",
       "0   INTEROCEAN COAL  2008            3                             N   \n",
       "1   INTEROCEAN COAL  2008            3                             N   \n",
       "2  BAY GAS PIPELINE  2008            3                             N   \n",
       "3  BAY GAS PIPELINE  2008            3                             N   \n",
       "4  BAY GAS PIPELINE  2008            3                             N   \n",
       "\n",
       "  plant_name_gen operator_name_gen state_gen census_region nerc_region  \\\n",
       "0          Barry  Alabama Power Co        AL          ESC         SERC   \n",
       "1          Barry  Alabama Power Co        AL          ESC         SERC   \n",
       "2          Barry  Alabama Power Co        AL          ESC         SERC   \n",
       "3          Barry  Alabama Power Co        AL          ESC         SERC   \n",
       "4          Barry  Alabama Power Co        AL          ESC         SERC   \n",
       "\n",
       "  reserved_  naics_code  eia_sector_number       sector_name  \\\n",
       "0      None          22                  1  Electric Utility   \n",
       "1      None          22                  1  Electric Utility   \n",
       "2      None          22                  1  Electric Utility   \n",
       "3      None          22                  1  Electric Utility   \n",
       "4      None          22                  1  Electric Utility   \n",
       "\n",
       "  reported_prime_mover reported_fuel_type_code aer_fuel_type_code reserved_1  \\\n",
       "0                   ST                     BIT                COL       None   \n",
       "1                   ST                     BIT                COL       None   \n",
       "2                   CA                      NG                 NG       None   \n",
       "3                   CT                      NG                 NG       None   \n",
       "4                   ST                      NG                 NG       None   \n",
       "\n",
       "  reserved_2 physical_unit_label  total_fuel_consumption_quantity  \\\n",
       "0       None          short tons                          4208251   \n",
       "1       None          short tons                          4208251   \n",
       "2       None                 mcf                             3433   \n",
       "3       None                 mcf                         30932077   \n",
       "4       None                 mcf                           837652   \n",
       "\n",
       "   electric_fuel_consumption_quantity  total_fuel_consumption_mmbtu  \\\n",
       "0                             4208251                      94561606   \n",
       "1                             4208251                      94561606   \n",
       "2                                3433                          3559   \n",
       "3                            30932077                      32090118   \n",
       "4                              837652                        871270   \n",
       "\n",
       "   elec_fuel_consumption_mmbtu  net_generation_megawatthours  year_gen  \\\n",
       "0                     94561606                       9472859      2008   \n",
       "1                     94561606                       9472859      2008   \n",
       "2                         3559                       1609033      2008   \n",
       "3                     32090118                       2858195      2008   \n",
       "4                       871270                         87265      2008   \n",
       "\n",
       "   quantity_gen  elec_quantity_gen  mmbtu_per_unit_gen  tot_mmbtu_gen  \\\n",
       "0        340778             340778               22.59        7697153   \n",
       "1        340778             340778               22.59        7697153   \n",
       "2          2400               2400                1.04           2489   \n",
       "3       2781102            2781102                1.04        2884003   \n",
       "4        109281             109281                1.04         113543   \n",
       "\n",
       "   elec_mmbtu_gen  netgen_gen year_month_nerc  number_affected  \\\n",
       "0         7697153      778699     2008-1-SERC              0.0   \n",
       "1         7697153      778699     2008-1-SERC              0.0   \n",
       "2            2489      146327     2008-1-SERC              0.0   \n",
       "3         2884003      244784     2008-1-SERC              0.0   \n",
       "4          113543       11487     2008-1-SERC              0.0   \n",
       "\n",
       "   disturbance_events  \n",
       "0                 0.0  \n",
       "1                 0.0  \n",
       "2                 0.0  \n",
       "3                 0.0  \n",
       "4                 0.0  "
      ]
     },
     "execution_count": 242,
     "metadata": {},
     "output_type": "execute_result"
    }
   ],
   "source": [
    "conn = sqlite3.connect(\"eia\")\n",
    "cursor = conn.cursor()\n",
    "df = pd.DataFrame(cursor.execute(\"\"\"select * from combined5\"\"\").fetchall())\n",
    "df.columns = [description[0] for description in cursor.description]\n",
    "df = df.drop(columns=[\"index\", \"level_0\"])\n",
    "df.head()"
   ]
  },
  {
   "cell_type": "code",
   "execution_count": 222,
   "metadata": {
    "ExecuteTime": {
     "end_time": "2019-07-29T19:38:56.129523Z",
     "start_time": "2019-07-29T19:38:56.120383Z"
    }
   },
   "outputs": [
    {
     "data": {
      "text/plain": [
       "(440666, 65)"
      ]
     },
     "execution_count": 222,
     "metadata": {},
     "output_type": "execute_result"
    }
   ],
   "source": [
    "df.shape"
   ]
  },
  {
   "cell_type": "code",
   "execution_count": 243,
   "metadata": {
    "ExecuteTime": {
     "end_time": "2019-07-30T14:25:52.969011Z",
     "start_time": "2019-07-30T14:25:52.933798Z"
    }
   },
   "outputs": [],
   "source": [
    "ng_fields = [ 'contract_type', 'fuel_cost', 'natural_gas_delivery_contract_type', 'natural_gas_supply_contract_type', 'natural_gas_transportation_service', 'operator_id',  'plant_id', 'plant_state', 'primary_transportation_mode', 'purchase_type', 'quantity', 'regulated', \"reporting_frequency\", \"secondary_transportation_mode\", \"supplier\", \"combined_heat_and_power_plant\", \"nerc_region\", \"reported_prime_mover\", \"mmbtu_per_unit_gen\", \"disturbance_events\", \"number_affected\", \"net_generation_megawatthours\"]"
   ]
  },
  {
   "cell_type": "markdown",
   "metadata": {
    "heading_collapsed": true
   },
   "source": [
    "# Checking Correlations"
   ]
  },
  {
   "cell_type": "code",
   "execution_count": 223,
   "metadata": {
    "ExecuteTime": {
     "end_time": "2019-07-29T19:39:08.139106Z",
     "start_time": "2019-07-29T19:39:08.129524Z"
    },
    "hidden": true
   },
   "outputs": [
    {
     "data": {
      "text/plain": [
       "(268454, 1708)"
      ]
     },
     "execution_count": 223,
     "metadata": {},
     "output_type": "execute_result"
    }
   ],
   "source": [
    "df_ng.shape"
   ]
  },
  {
   "cell_type": "code",
   "execution_count": 6,
   "metadata": {
    "ExecuteTime": {
     "end_time": "2019-07-23T14:23:49.908088Z",
     "start_time": "2019-07-23T14:23:46.973812Z"
    },
    "hidden": true
   },
   "outputs": [],
   "source": [
    "# Label encode categorical fields so that they can be correlated\n",
    "df_ng = df[df[\"fuel_group\"] == \"Natural Gas\"][ng_fields]\n",
    "not_encode = []\n",
    "to_encode = []\n",
    "for fld, fld_type in df_ng[ng_fields].dtypes.items():\n",
    "    if \"object\" == fld_type:\n",
    "        to_encode.append(fld)\n",
    "    else:\n",
    "        not_encode.append(fld)\n",
    "le = LabelEncoder()\n",
    "temp1 = df_ng[not_encode].reset_index()\n",
    "temp2 = df_ng[to_encode].apply(le.fit_transform).reset_index()\n",
    "df_ng = temp1.merge(temp2, on=\"index\").set_index(\"index\")"
   ]
  },
  {
   "cell_type": "code",
   "execution_count": 7,
   "metadata": {
    "ExecuteTime": {
     "end_time": "2019-07-23T14:23:53.113876Z",
     "start_time": "2019-07-23T14:23:52.724328Z"
    },
    "hidden": true
   },
   "outputs": [],
   "source": [
    "corr = df_ng.corr()"
   ]
  },
  {
   "cell_type": "code",
   "execution_count": 8,
   "metadata": {
    "ExecuteTime": {
     "end_time": "2019-07-23T14:23:55.134743Z",
     "start_time": "2019-07-23T14:23:55.084059Z"
    },
    "hidden": true,
    "scrolled": true
   },
   "outputs": [
    {
     "data": {
      "text/plain": [
       "[['natural_gas_delivery_contract_type',\n",
       "  'natural_gas_supply_contract_type',\n",
       "  0.9949670257245146],\n",
       " ['natural_gas_supply_contract_type',\n",
       "  'natural_gas_delivery_contract_type',\n",
       "  0.9949670257245146],\n",
       " ['disturbance_events', 'number_affected', 0.7655082998226197],\n",
       " ['number_affected', 'disturbance_events', 0.7655082998226197],\n",
       " ['mmbtu_per_unit_gen', 'reported_prime_mover', 0.4551813724903194],\n",
       " ['natural_gas_transportation_service', 'purchase_type', 0.375298202366619],\n",
       " ['purchase_type', 'natural_gas_transportation_service', 0.375298202366619],\n",
       " ['contract_type', 'natural_gas_delivery_contract_type', 0.35006057060938583],\n",
       " ['natural_gas_delivery_contract_type', 'contract_type', 0.35006057060938583],\n",
       " ['contract_type', 'natural_gas_supply_contract_type', 0.34927582099496446],\n",
       " ['natural_gas_supply_contract_type', 'contract_type', 0.34927582099496446],\n",
       " ['primary_transportation_mode', 'purchase_type', 0.2942462825380524],\n",
       " ['purchase_type', 'primary_transportation_mode', 0.2942462825380524],\n",
       " ['plant_state', 'reporting_frequency', 0.26971142171420365],\n",
       " ['natural_gas_transportation_service',\n",
       "  'primary_transportation_mode',\n",
       "  0.2688992243365775],\n",
       " ['primary_transportation_mode',\n",
       "  'natural_gas_transportation_service',\n",
       "  0.2688992243365775],\n",
       " ['contract_type', 'nerc_region', 0.26223426909386793],\n",
       " ['purchase_type', 'reporting_frequency', 0.22132451381074086],\n",
       " ['quantity', 'reporting_frequency', 0.21165008245222203],\n",
       " ['natural_gas_transportation_service',\n",
       "  'reporting_frequency',\n",
       "  0.1889542682868365]]"
      ]
     },
     "execution_count": 8,
     "metadata": {},
     "output_type": "execute_result"
    }
   ],
   "source": [
    "corrs = []\n",
    "for col in corr.columns:\n",
    "    top_3 = corr[col].sort_values(ascending=False)[1:6]        \n",
    "    for val in top_3.index:\n",
    "        corrs.append([col, val, top_3[val]])\n",
    "\n",
    "corrs = sorted(corrs, key=lambda x: x[2], reverse=True)\n",
    "corrs[0:20]  "
   ]
  },
  {
   "cell_type": "markdown",
   "metadata": {
    "hidden": true
   },
   "source": [
    "Some obvious correlations in here, like gas supply and delivery contract type or disturbance events and number affected (by disturbance events). It helps give an idea of the data, btu it doesn't indicate any changes to features."
   ]
  },
  {
   "cell_type": "markdown",
   "metadata": {
    "ExecuteTime": {
     "end_time": "2019-07-23T14:28:10.442297Z",
     "start_time": "2019-07-23T14:28:10.438360Z"
    },
    "hidden": true
   },
   "source": [
    "### Checking Correlations Involving Fuel Cost"
   ]
  },
  {
   "cell_type": "code",
   "execution_count": 9,
   "metadata": {
    "ExecuteTime": {
     "end_time": "2019-07-23T14:24:36.416175Z",
     "start_time": "2019-07-23T14:24:36.376303Z"
    },
    "hidden": true,
    "scrolled": true
   },
   "outputs": [
    {
     "data": {
      "text/plain": [
       "[['fuel_cost', 'number_affected', 0.016547105838107864],\n",
       " ['fuel_cost', 'regulated', nan],\n",
       " ['number_affected', 'fuel_cost', 0.016547105838107864],\n",
       " ['fuel_cost', 'disturbance_events', 0.008163806819898293],\n",
       " ['disturbance_events', 'fuel_cost', 0.008163806819898293],\n",
       " ['fuel_cost', 'reporting_frequency', 0.005495275823372207],\n",
       " ['reporting_frequency', 'fuel_cost', 0.005495275823372207],\n",
       " ['fuel_cost', 'nerc_region', 0.00423735556784291],\n",
       " ['nerc_region', 'fuel_cost', 0.00423735556784291],\n",
       " ['fuel_cost', 'plant_id', 0.003095974637123335],\n",
       " ['plant_id', 'fuel_cost', 0.003095974637123335],\n",
       " ['fuel_cost', 'primary_transportation_mode', 0.002930004254140046],\n",
       " ['primary_transportation_mode', 'fuel_cost', 0.002930004254140046],\n",
       " ['fuel_cost', 'supplier', 0.00274519529513206],\n",
       " ['supplier', 'fuel_cost', 0.00274519529513206],\n",
       " ['fuel_cost', 'natural_gas_supply_contract_type', 0.0006275626240884574],\n",
       " ['natural_gas_supply_contract_type', 'fuel_cost', 0.0006275626240884574],\n",
       " ['fuel_cost', 'natural_gas_delivery_contract_type', 0.0003224660167887991],\n",
       " ['natural_gas_delivery_contract_type', 'fuel_cost', 0.0003224660167887991],\n",
       " ['fuel_cost', 'reported_prime_mover', 0.00010096364183117714]]"
      ]
     },
     "execution_count": 9,
     "metadata": {},
     "output_type": "execute_result"
    }
   ],
   "source": [
    "corrs = []\n",
    "for col in corr.columns:\n",
    "    top_3 = corr[col].sort_values(ascending=False)[1:]       \n",
    "    for val in top_3.index:\n",
    "        if col == \"fuel_cost\" or val == \"fuel_cost\":\n",
    "            corrs.append([col, val, top_3[val]])\n",
    "\n",
    "corrs = sorted(corrs, key=lambda x: x[2], reverse=True)\n",
    "corrs[0:20]  "
   ]
  },
  {
   "cell_type": "markdown",
   "metadata": {
    "hidden": true
   },
   "source": [
    "Interesting that disturbance events and number affected are correlated to fuel cost, but the correlation is not high. Same for other correlations: interesting but not strong enough to infer anything. On to modelling."
   ]
  },
  {
   "cell_type": "code",
   "execution_count": null,
   "metadata": {
    "hidden": true
   },
   "outputs": [],
   "source": []
  },
  {
   "cell_type": "code",
   "execution_count": null,
   "metadata": {
    "hidden": true
   },
   "outputs": [],
   "source": []
  },
  {
   "cell_type": "markdown",
   "metadata": {},
   "source": [
    "# Modelling"
   ]
  },
  {
   "cell_type": "code",
   "execution_count": 244,
   "metadata": {
    "ExecuteTime": {
     "end_time": "2019-07-30T14:26:11.611158Z",
     "start_time": "2019-07-30T14:26:11.585428Z"
    }
   },
   "outputs": [],
   "source": [
    "def get_ng():\n",
    "    df_ng = df[df[\"fuel_group\"] == \"Natural Gas\"][ng_fields]\n",
    "    not_encode = []\n",
    "    to_encode = []\n",
    "    for fld, fld_type in df_ng[ng_fields].dtypes.items():\n",
    "        if \"object\" == fld_type:\n",
    "            to_encode.append(fld)\n",
    "        else:\n",
    "            not_encode.append(fld)\n",
    "    temp1 = df_ng[not_encode].reset_index()\n",
    "    temp2 = pd.get_dummies(df_ng[to_encode]).reset_index()\n",
    "    df_ng = temp1.merge(temp2, on=\"index\").set_index(\"index\")\n",
    "    return df_ng"
   ]
  },
  {
   "cell_type": "code",
   "execution_count": 245,
   "metadata": {
    "ExecuteTime": {
     "end_time": "2019-07-30T14:26:28.085834Z",
     "start_time": "2019-07-30T14:26:28.075833Z"
    }
   },
   "outputs": [],
   "source": [
    "def get_xy():\n",
    "    X = df_ng.drop(columns=[\"fuel_cost\"])\n",
    "    y = (df_ng.fuel_cost > df_ng.fuel_cost.quantile(.9))\n",
    "    return X, y"
   ]
  },
  {
   "cell_type": "markdown",
   "metadata": {},
   "source": [
    "## Decision Tree"
   ]
  },
  {
   "cell_type": "code",
   "execution_count": 184,
   "metadata": {
    "ExecuteTime": {
     "end_time": "2019-07-29T18:33:25.133126Z",
     "start_time": "2019-07-29T18:32:41.063024Z"
    }
   },
   "outputs": [],
   "source": [
    "df_ng = get_ng()\n",
    "X, y = get_xy()\n",
    "\n",
    "X_train, X_test, y_train, y_test = train_test_split(X, y, test_size = 0.2)\n",
    "\n",
    "model = DecisionTreeClassifier(random_state=23, max_depth=10)\n",
    "results = model.fit(X_train, y_train)"
   ]
  },
  {
   "cell_type": "code",
   "execution_count": 163,
   "metadata": {
    "ExecuteTime": {
     "end_time": "2019-07-29T18:06:51.018729Z",
     "start_time": "2019-07-29T18:06:47.507246Z"
    }
   },
   "outputs": [
    {
     "data": {
      "text/plain": [
       "0.9116943684951612"
      ]
     },
     "execution_count": 163,
     "metadata": {},
     "output_type": "execute_result"
    }
   ],
   "source": [
    "results.score(X_test, y_test)"
   ]
  },
  {
   "cell_type": "markdown",
   "metadata": {},
   "source": [
    "Decent score for accuracy, indicating better than baseline == \"no price spikes\" for the imbalanced model (p=.9). But f1 score will be the better determinant."
   ]
  },
  {
   "cell_type": "code",
   "execution_count": 110,
   "metadata": {
    "ExecuteTime": {
     "end_time": "2019-07-29T15:32:49.313699Z",
     "start_time": "2019-07-29T15:32:49.299123Z"
    },
    "code_folding": [
     0,
     7
    ]
   },
   "outputs": [],
   "source": [
    "def get_scores(y_test, y_pred, X):\n",
    "    from sklearn.metrics import f1_score, recall_score, precision_score\n",
    "    print(\"Precision: %s\" % precision_score(y_test, y_pred))\n",
    "    print(\"Recall: %s\" % recall_score(y_test, y_pred))\n",
    "    print(\"F1: %s\" % f1_score(y_test, y_pred))\n",
    "    print(\"Cost Function: %s\" % cost_function(y_test, y_pred, X))\n",
    "\n",
    "def coster(model, X, y):\n",
    "    y_pred = model.predict(X)\n",
    "    get_scores(y, y_pred, X)\n",
    "    return cost_function(y, y_pred, X)\n"
   ]
  },
  {
   "cell_type": "code",
   "execution_count": 201,
   "metadata": {
    "ExecuteTime": {
     "end_time": "2019-07-29T18:51:37.599155Z",
     "start_time": "2019-07-29T18:51:36.003429Z"
    }
   },
   "outputs": [
    {
     "name": "stdout",
     "output_type": "stream",
     "text": [
      "Precision: 0.7181767648693719\n",
      "Recall: 0.24199288256227758\n",
      "F1: 0.3620061641916503\n",
      "       0     1\n",
      "0  47845   507\n",
      "1   4047  1292\n",
      "Cost Function: -0.015731876629165188\n"
     ]
    }
   ],
   "source": [
    "y_pred = results.predict(X_test)\n",
    "get_scores(y_test, y_pred, X_test)"
   ]
  },
  {
   "cell_type": "markdown",
   "metadata": {},
   "source": [
    "Decent. All scores around 70 is not bad. Cost function is negative indicating a net benefit to  using the model."
   ]
  },
  {
   "cell_type": "code",
   "execution_count": 185,
   "metadata": {
    "ExecuteTime": {
     "end_time": "2019-07-29T18:33:40.206929Z",
     "start_time": "2019-07-29T18:33:39.240867Z"
    }
   },
   "outputs": [],
   "source": [
    "y_pred_proba = results.predict_proba(X_test)"
   ]
  },
  {
   "cell_type": "code",
   "execution_count": 188,
   "metadata": {
    "ExecuteTime": {
     "end_time": "2019-07-29T18:34:39.385705Z",
     "start_time": "2019-07-29T18:34:39.361774Z"
    }
   },
   "outputs": [],
   "source": [
    "y_pred_proba_1 = [x[1] for x in y_pred_proba]"
   ]
  },
  {
   "cell_type": "code",
   "execution_count": 197,
   "metadata": {
    "ExecuteTime": {
     "end_time": "2019-07-29T18:37:31.651285Z",
     "start_time": "2019-07-29T18:37:31.187316Z"
    },
    "scrolled": true
   },
   "outputs": [
    {
     "data": {
      "text/plain": [
       "[<matplotlib.lines.Line2D at 0x1a7cf1e7b8>]"
      ]
     },
     "execution_count": 197,
     "metadata": {},
     "output_type": "execute_result"
    },
    {
     "data": {
      "image/png": "[encoded data removed]",
      "text/plain": [
       "<Figure size 1152x720 with 1 Axes>"
      ]
     },
     "metadata": {
      "needs_background": "light"
     },
     "output_type": "display_data"
    }
   ],
   "source": [
    "fig = plt.figure(figsize=(16,10))\n",
    "plt.title(\"ROC Curve\")\n",
    "plt.xlabel(\"True Positive Rate\")\n",
    "plt.ylabel(\"False Positive Rate\")\n",
    "plt.plot(pr[0], pr[1])\n",
    "plt.plot(pr[0],pr[0])"
   ]
  },
  {
   "cell_type": "code",
   "execution_count": 191,
   "metadata": {
    "ExecuteTime": {
     "end_time": "2019-07-29T18:35:14.295113Z",
     "start_time": "2019-07-29T18:35:14.255410Z"
    }
   },
   "outputs": [],
   "source": [
    "pr = roc_curve(y_test, y_pred_proba_1)"
   ]
  },
  {
   "cell_type": "code",
   "execution_count": 203,
   "metadata": {
    "ExecuteTime": {
     "end_time": "2019-07-29T18:52:44.270088Z",
     "start_time": "2019-07-29T18:52:44.260429Z"
    },
    "scrolled": false
   },
   "outputs": [
    {
     "data": {
      "text/plain": [
       "0.8231283725954724"
      ]
     },
     "execution_count": 203,
     "metadata": {},
     "output_type": "execute_result"
    }
   ],
   "source": [
    "auc(pr[0], pr[1])"
   ]
  },
  {
   "cell_type": "markdown",
   "metadata": {},
   "source": [
    "# K Folds"
   ]
  },
  {
   "cell_type": "code",
   "execution_count": 247,
   "metadata": {
    "ExecuteTime": {
     "end_time": "2019-07-30T14:27:14.182530Z",
     "start_time": "2019-07-30T14:26:59.599292Z"
    }
   },
   "outputs": [],
   "source": [
    "df_ng = get_ng()\n",
    "X, y = get_xy()\n"
   ]
  },
  {
   "cell_type": "code",
   "execution_count": 250,
   "metadata": {
    "ExecuteTime": {
     "end_time": "2019-07-30T14:31:03.535416Z",
     "start_time": "2019-07-30T14:31:03.466485Z"
    },
    "code_folding": [
     1,
     10,
     19,
     26,
     61
    ]
   },
   "outputs": [],
   "source": [
    "\n",
    "def get_scores(y_test, y_pred, X):\n",
    "    from sklearn.metrics import f1_score, recall_score, precision_score\n",
    "    print(\"Precision: %s\" % precision_score(y_test, y_pred))\n",
    "    print(\"Recall: %s\" % recall_score(y_test, y_pred))\n",
    "    print(\"F1: %s\" % f1_score(y_test, y_pred))\n",
    "    print(\"Cost Function: %s\" % cost_function(y_test, y_pred, X))\n",
    "    \n",
    "\n",
    "\"\"\"\n",
    "Defining cost function:\n",
    "    False Negative: Incurs 2x median price of fuel\n",
    "    False Positive: Incurs 1.1x median price of fuel (1 + .1 for storage costs)\n",
    "    True Negative: Incurs median cost of fuel (1x)\n",
    "    True Positive: Saves 1.1x the cost of fuel (1 + .1 for storage costs)\n",
    "\n",
    "\n",
    "Function returns difference of cost based on model minus cost of baseline that assumes no price spikes.\n",
    "\n",
    "Baseline cost function = \n",
    "    2x median cost of fuel for price spikes (true positives and false negatives) +\n",
    "    1x median cost of fuel for all other times (true negatives and false positives)\n",
    "    \n",
    "\"\"\"\n",
    "\n",
    "from sklearn.metrics import make_scorer\n",
    "def cost_function(y_test, y_pred, X=None, **kwargs):\n",
    "\n",
    "    if not len(X): \n",
    "        import numpy as np\n",
    "        quantity = np.ones(len(y_test))\n",
    "    else:\n",
    "        quantity = X.quantity.values\n",
    "    \n",
    "    import pandas as pd\n",
    "    from sklearn.metrics import confusion_matrix\n",
    "    cm = pd.DataFrame(confusion_matrix(y_test, y_pred))\n",
    "    print(cm)\n",
    "\n",
    "    tp = 0\n",
    "    fp =0\n",
    "    tn = 0\n",
    "    fn = 0\n",
    "    for i, val in enumerate(y_test):\n",
    "        if val == y_pred[i] and val: \n",
    "            tp += quantity[i]\n",
    "        elif val == y_pred[i] and not val:\n",
    "            tn += quantity[i]\n",
    "        elif val != y_pred[i] and val:\n",
    "            fn += quantity[i]\n",
    "        elif val != y_pred[i] and not val:\n",
    "            fp += quantity[i]\n",
    "            \n",
    "    #tp = cm.iloc[1,1]\n",
    "    #tn = cm.iloc[0,0]\n",
    "    #fp = cm.iloc[1,0]\n",
    "    #fn = cm.iloc[0,1]\n",
    "    #return (-.9 * tp + fp * 1.1)\n",
    "    return (1.1 * tp + 1.1*fp + fn + tn - 2*tp - tn - 2*fn - fp )/sum(quantity)\n",
    "\n",
    "\n",
    "def coster(model, X, y):\n",
    "    y_pred = model.predict(X)\n",
    "    get_scores(y, y_pred, X)\n",
    "    return cost_function(y, y_pred, X)\n",
    "\n"
   ]
  },
  {
   "cell_type": "code",
   "execution_count": 272,
   "metadata": {
    "ExecuteTime": {
     "end_time": "2019-07-30T15:18:17.353289Z",
     "start_time": "2019-07-30T15:16:04.567578Z"
    }
   },
   "outputs": [
    {
     "name": "stdout",
     "output_type": "stream",
     "text": [
      "Precision: 0.6621621621621622\n",
      "Recall: 0.037794060933281914\n",
      "F1: 0.07150674936154687\n",
      "       0    1\n",
      "0  35190  350\n",
      "1  17465  686\n",
      "Cost Function: -0.4262904463960912\n",
      "Precision: 0.46041412911084045\n",
      "Recall: 0.16342412451361868\n",
      "F1: 0.2412252712188896\n",
      "       0    1\n",
      "0  50935  443\n",
      "1   1935  378\n",
      "Cost Function: -0.014139870751020273\n",
      "Precision: 0.5701754385964912\n",
      "Recall: 0.08803611738148984\n",
      "F1: 0.1525224872897927\n",
      "       0    1\n",
      "0  51329  147\n",
      "1   2020  195\n",
      "Cost Function: -0.006199393330628399\n",
      "Precision: 0.4970873786407767\n",
      "Recall: 0.1270471464019851\n",
      "F1: 0.20237154150197625\n",
      "       0    1\n",
      "0  51417  259\n",
      "1   1759  256\n",
      "Cost Function: -0.005624875064680656\n",
      "Precision: 0.40797546012269936\n",
      "Recall: 0.1859273066169618\n",
      "F1: 0.25544174135723435\n",
      "       0    1\n",
      "0  50965  579\n",
      "1   1747  399\n",
      "Cost Function: -0.006525741682505816\n"
     ]
    }
   ],
   "source": [
    "for train_index, test_index in folds.split(X):\n",
    "    X_train, X_test = X.iloc[train_index], X.iloc[test_index]\n",
    "    y_train, y_test = y.iloc[train_index], y.iloc[test_index]\n",
    "    \n",
    "    model = DecisionTreeClassifier(random_state=23, max_depth=10)\n",
    "    y_pred = model.fit(X_train, y_train).predict(X_test)\n",
    "    get_scores(y_test, y_pred, X_test)"
   ]
  },
  {
   "cell_type": "markdown",
   "metadata": {},
   "source": [
    "# Trying Different Depths"
   ]
  },
  {
   "cell_type": "code",
   "execution_count": 112,
   "metadata": {
    "ExecuteTime": {
     "end_time": "2019-07-29T15:38:37.501308Z",
     "start_time": "2019-07-29T15:35:53.932718Z"
    }
   },
   "outputs": [
    {
     "name": "stdout",
     "output_type": "stream",
     "text": [
      "Precision: 0.6085714285714285\n",
      "Recall: 0.03940795559666975\n",
      "F1: 0.07402258905299738\n",
      "       0    1\n",
      "0  48149  137\n",
      "1   5192  213\n",
      "Cost Function: -0.0005723756180906507\n",
      "Precision: 0.7380952380952381\n",
      "Recall: 0.15485661424606845\n",
      "F1: 0.25600244685731766\n",
      "       0    1\n",
      "0  47989  297\n",
      "1   4568  837\n",
      "Cost Function: -0.003781918939984932\n",
      "Precision: 0.7251509054325955\n",
      "Recall: 0.3333950046253469\n",
      "F1: 0.4567807351077313\n",
      "       0     1\n",
      "0  47603   683\n",
      "1   3603  1802\n",
      "Cost Function: -0.009581553377898825\n",
      "Precision: 0.7200360468609192\n",
      "Recall: 0.4434782608695652\n",
      "F1: 0.5488893977558965\n",
      "       0     1\n",
      "0  47354   932\n",
      "1   3008  2397\n",
      "Cost Function: -0.019629702899649003\n",
      "Precision: 0.7108719052744887\n",
      "Recall: 0.6109158186864014\n",
      "F1: 0.6571144278606965\n",
      "       0     1\n",
      "0  46943  1343\n",
      "1   2103  3302\n",
      "Cost Function: -0.028499225948148677\n"
     ]
    }
   ],
   "source": [
    "for depth in [5, 10, 15, 20, 30]:\n",
    "    model = DecisionTreeClassifier(random_state=23, criterion='entropy', max_depth=depth)\n",
    "    results = model.fit(X_train, y_train)\n",
    "    y_pred = results.predict(X_test)\n",
    "    get_scores(y_test, y_pred, X_test)"
   ]
  },
  {
   "cell_type": "markdown",
   "metadata": {},
   "source": [
    "Precision tops out at depth=10, which is good. Don't need too many levels"
   ]
  },
  {
   "cell_type": "markdown",
   "metadata": {
    "heading_collapsed": true
   },
   "source": [
    "# Trying Different Cutoff Thesholds"
   ]
  },
  {
   "cell_type": "code",
   "execution_count": 48,
   "metadata": {
    "ExecuteTime": {
     "end_time": "2019-07-26T20:09:58.059038Z",
     "start_time": "2019-07-26T20:05:27.550509Z"
    },
    "hidden": true,
    "scrolled": false
   },
   "outputs": [
    {
     "name": "stdout",
     "output_type": "stream",
     "text": [
      "Precision: 0.783563718992615\n",
      "Recall: 0.7734579439252336\n",
      "F1: 0.7784780359326497\n",
      "       0     1\n",
      "0  40705  2286\n",
      "1   2424  8276\n",
      "Cost Function: -0.11831184418460877\n",
      "Precision: 0.7680020283975659\n",
      "Recall: 0.7581977471839799\n",
      "F1: 0.7630683965234917\n",
      "       0     1\n",
      "0  43871  1830\n",
      "1   1932  6058\n",
      "Cost Function: -0.08041131426850526\n",
      "Precision: 0.6982515510434292\n",
      "Recall: 0.6969412647776319\n",
      "F1: 0.6975957926371149\n",
      "       0     1\n",
      "0  46757  1605\n",
      "1   1615  3714\n",
      "Cost Function: -0.04685456535875492\n",
      "Precision: 0.577818853974122\n",
      "Recall: 0.5963372758489126\n",
      "F1: 0.5869320315433721\n",
      "       0     1\n",
      "0  49928  1142\n",
      "1   1058  1563\n",
      "Cost Function: -0.015292740288847901\n",
      "Precision: 0.7903225806451613\n",
      "Recall: 0.735\n",
      "F1: 0.7616580310880828\n",
      "       0    1\n",
      "0  52974  117\n",
      "1    159  441\n",
      "Cost Function: -0.0005302167548820255\n"
     ]
    }
   ],
   "source": [
    "df_ng = get_ng()\n",
    "X = df_ng.drop(columns=[\"fuel_cost\"])\n",
    "\n",
    "for cutoff in [.8, .85, .9, .95, .99]:\n",
    "    y = (df_ng.fuel_cost > df_ng.fuel_cost.quantile(cutoff))\n",
    "\n",
    "    X_train, X_test, y_train, y_test = train_test_split(X, y, test_size = 0.2)\n",
    "\n",
    "    model = DecisionTreeClassifier(random_state=23, criterion='entropy')\n",
    "    results = model.fit(X_train, y_train)\n",
    "    y_pred = results.predict(X_test)\n",
    "    get_scores(y_test, y_pred, X_test)\n",
    "    "
   ]
  },
  {
   "cell_type": "code",
   "execution_count": 55,
   "metadata": {
    "ExecuteTime": {
     "end_time": "2019-07-26T20:58:44.554835Z",
     "start_time": "2019-07-26T20:58:44.112154Z"
    },
    "hidden": true
   },
   "outputs": [
    {
     "data": {
      "text/plain": [
       "[<matplotlib.lines.Line2D at 0x1a5c1eb358>]"
      ]
     },
     "execution_count": 55,
     "metadata": {},
     "output_type": "execute_result"
    },
    {
     "data": {
      "image/png": "[encoded data removed]",
      "text/plain": [
       "<Figure size 432x288 with 1 Axes>"
      ]
     },
     "metadata": {
      "needs_background": "light"
     },
     "output_type": "display_data"
    }
   ],
   "source": [
    "precision = [0.783563718992615, 0.7680020283975659,  0.6982515510434292,   0.577818853974122, 0.7903225806451613]\n",
    "recall = [0.7734579439252336, 0.7581977471839799, 0.6969412647776319, 0.5963372758489126, 0.735]\n",
    "f1 = [0.7784780359326497, 0.7630683965234917, 0.6975957926371149, 0.5869320315433721, 0.7616580310880828]\n",
    "cost = [-0.11831184418460877, -0.08041131426850526, -0.04685456535875492, -0.015292740288847901, -0.015292740288847901]\n",
    "cutoffs = [.8, .85, .9, .95, .99]\n",
    "plt.plot(cutoffs, precision)\n",
    "plt.plot(cutoffs, recall)\n",
    "plt.plot(cutoffs, f1)\n",
    "plt.plot(cutoffs, cost)"
   ]
  },
  {
   "cell_type": "markdown",
   "metadata": {
    "hidden": true
   },
   "source": [
    "Maybe .8 is a better cutoff. Could do .98 but "
   ]
  },
  {
   "cell_type": "markdown",
   "metadata": {
    "heading_collapsed": true
   },
   "source": [
    "# Max Depth=10, Fuel Cost Cutoff = .8"
   ]
  },
  {
   "cell_type": "markdown",
   "metadata": {
    "hidden": true
   },
   "source": [
    "## Stratify vs. Not Stratify"
   ]
  },
  {
   "cell_type": "code",
   "execution_count": 205,
   "metadata": {
    "ExecuteTime": {
     "end_time": "2019-07-29T18:56:44.034049Z",
     "start_time": "2019-07-29T18:55:53.368593Z"
    },
    "hidden": true
   },
   "outputs": [],
   "source": [
    "df_ng = get_ng()\n",
    "X = df_ng.drop(columns=[\"fuel_cost\"])\n",
    "\n",
    "y = (df_ng.fuel_cost > df_ng.fuel_cost.quantile(.8))\n",
    "\n",
    "X_train, X_test, y_train, y_test = train_test_split(X, y, test_size = 0.2, stratify=y)\n",
    "\n",
    "model = DecisionTreeClassifier(random_state=23, max_depth=10)\n",
    "results = model.fit(X_train, y_train)\n"
   ]
  },
  {
   "cell_type": "code",
   "execution_count": 206,
   "metadata": {
    "ExecuteTime": {
     "end_time": "2019-07-29T18:56:58.049531Z",
     "start_time": "2019-07-29T18:56:56.772330Z"
    },
    "hidden": true,
    "scrolled": true
   },
   "outputs": [
    {
     "name": "stdout",
     "output_type": "stream",
     "text": [
      "Precision: 0.6812396236856668\n",
      "Recall: 0.3443998880910193\n",
      "F1: 0.4575074331020812\n",
      "       0     1\n",
      "0  41240  1728\n",
      "1   7030  3693\n",
      "Cost Function: -0.06573906426039261\n"
     ]
    }
   ],
   "source": [
    "y_pred = results.predict(X_test)\n",
    "get_scores(y_test, y_pred, X_test)"
   ]
  },
  {
   "cell_type": "markdown",
   "metadata": {
    "hidden": true
   },
   "source": [
    "Looking good. A number of false positives, but few false negatives and good number of true positives."
   ]
  },
  {
   "cell_type": "code",
   "execution_count": 207,
   "metadata": {
    "ExecuteTime": {
     "end_time": "2019-07-29T18:57:14.643093Z",
     "start_time": "2019-07-29T18:57:13.737473Z"
    },
    "hidden": true
   },
   "outputs": [
    {
     "data": {
      "text/plain": [
       "0.8343156195971843"
      ]
     },
     "execution_count": 207,
     "metadata": {},
     "output_type": "execute_result"
    }
   ],
   "source": [
    "get_auc(results, y_test, y_pred)"
   ]
  },
  {
   "cell_type": "markdown",
   "metadata": {
    "hidden": true
   },
   "source": [
    "Improved AUC"
   ]
  },
  {
   "cell_type": "code",
   "execution_count": 118,
   "metadata": {
    "ExecuteTime": {
     "end_time": "2019-07-29T15:50:12.176857Z",
     "start_time": "2019-07-29T15:48:15.721452Z"
    },
    "hidden": true,
    "scrolled": false
   },
   "outputs": [
    {
     "name": "stdout",
     "output_type": "stream",
     "text": [
      "Precision: 0.27450503083414474\n",
      "Recall: 0.6309801361559265\n",
      "F1: 0.38257329450679933\n",
      "       0      1\n",
      "0  25086  17882\n",
      "1   3957   6766\n",
      "Cost Function: -0.06705154161351794\n",
      "       0      1\n",
      "0  25086  17882\n",
      "1   3957   6766\n",
      "Precision: 0.9548587181254308\n",
      "Recall: 0.25841648792315586\n",
      "F1: 0.40675229357798176\n",
      "       0     1\n",
      "0  42837   131\n",
      "1   7952  2771\n",
      "Cost Function: -0.030963385346891137\n",
      "       0     1\n",
      "0  42837   131\n",
      "1   7952  2771\n",
      "Precision: 0.922633744855967\n",
      "Recall: 0.3136249183997016\n",
      "F1: 0.4681236080178174\n",
      "       0     1\n",
      "0  42686   282\n",
      "1   7360  3363\n",
      "Cost Function: -0.07957151982534372\n",
      "       0     1\n",
      "0  42686   282\n",
      "1   7360  3363\n",
      "Precision: 0.4888673765730881\n",
      "Recall: 0.09419005875221487\n",
      "F1: 0.15794823676597075\n",
      "       0     1\n",
      "0  41912  1056\n",
      "1   9713  1010\n",
      "Cost Function: -0.007081946254419294\n",
      "       0     1\n",
      "0  41912  1056\n",
      "1   9713  1010\n",
      "Precision: 0.5490022172949002\n",
      "Recall: 0.3463905987688864\n",
      "F1: 0.4247726882827243\n",
      "       0     1\n",
      "0  39917  3051\n",
      "1   7008  3714\n",
      "Cost Function: -0.13559833628470905\n",
      "       0     1\n",
      "0  39917  3051\n",
      "1   7008  3714\n"
     ]
    },
    {
     "data": {
      "text/plain": [
       "array([-0.06705154, -0.03096339, -0.07957152, -0.00708195, -0.13559834])"
      ]
     },
     "execution_count": 118,
     "metadata": {},
     "output_type": "execute_result"
    }
   ],
   "source": [
    "cross_val_score(results, X, y, scoring=coster, cv=5)"
   ]
  },
  {
   "cell_type": "code",
   "execution_count": 225,
   "metadata": {
    "ExecuteTime": {
     "end_time": "2019-07-29T20:54:33.567423Z",
     "start_time": "2019-07-29T20:54:33.558233Z"
    },
    "hidden": true
   },
   "outputs": [
    {
     "data": {
      "text/plain": [
       "0.6379734175367061"
      ]
     },
     "execution_count": 225,
     "metadata": {},
     "output_type": "execute_result"
    }
   ],
   "source": [
    "np.mean([0.27450503083414474,\n",
    "0.9548587181254308,\n",
    "0.922633744855967,\n",
    "0.4888673765730881,\n",
    "0.5490022172949002])"
   ]
  },
  {
   "cell_type": "code",
   "execution_count": 224,
   "metadata": {
    "ExecuteTime": {
     "end_time": "2019-07-29T20:53:23.452428Z",
     "start_time": "2019-07-29T20:53:23.425199Z"
    },
    "hidden": true
   },
   "outputs": [
    {
     "data": {
      "text/plain": [
       "-0.064053348"
      ]
     },
     "execution_count": 224,
     "metadata": {},
     "output_type": "execute_result"
    }
   ],
   "source": [
    "np.mean([-0.06705154, -0.03096339, -0.07957152, -0.00708195, -0.13559834])"
   ]
  },
  {
   "cell_type": "markdown",
   "metadata": {
    "hidden": true
   },
   "source": [
    "Some of the scores are not great. But the costs are pretty good, possibly because of the weighting by quantity in the cost function. And some of the precisions (92%) are really good."
   ]
  },
  {
   "cell_type": "code",
   "execution_count": 119,
   "metadata": {
    "ExecuteTime": {
     "end_time": "2019-07-29T15:57:46.306242Z",
     "start_time": "2019-07-29T15:54:47.875458Z"
    },
    "hidden": true,
    "scrolled": true
   },
   "outputs": [
    {
     "name": "stdout",
     "output_type": "stream",
     "text": [
      "Precision: 0.27450503083414474\n",
      "Recall: 0.6309801361559265\n",
      "F1: 0.38257329450679933\n",
      "       0      1\n",
      "0  25086  17882\n",
      "1   3957   6766\n",
      "Cost Function: -0.06705154161351794\n",
      "       0      1\n",
      "0  25086  17882\n",
      "1   3957   6766\n",
      "Precision: 0.9548587181254308\n",
      "Recall: 0.25841648792315586\n",
      "F1: 0.40675229357798176\n",
      "       0     1\n",
      "0  42837   131\n",
      "1   7952  2771\n",
      "Cost Function: -0.030963385346891137\n",
      "       0     1\n",
      "0  42837   131\n",
      "1   7952  2771\n",
      "Precision: 0.922633744855967\n",
      "Recall: 0.3136249183997016\n",
      "F1: 0.4681236080178174\n",
      "       0     1\n",
      "0  42686   282\n",
      "1   7360  3363\n",
      "Cost Function: -0.07957151982534372\n",
      "       0     1\n",
      "0  42686   282\n",
      "1   7360  3363\n",
      "Precision: 0.4888673765730881\n",
      "Recall: 0.09419005875221487\n",
      "F1: 0.15794823676597075\n",
      "       0     1\n",
      "0  41912  1056\n",
      "1   9713  1010\n",
      "Cost Function: -0.007081946254419294\n",
      "       0     1\n",
      "0  41912  1056\n",
      "1   9713  1010\n",
      "Precision: 0.5490022172949002\n",
      "Recall: 0.3463905987688864\n",
      "F1: 0.4247726882827243\n",
      "       0     1\n",
      "0  39917  3051\n",
      "1   7008  3714\n",
      "Cost Function: -0.13559833628470905\n",
      "       0     1\n",
      "0  39917  3051\n",
      "1   7008  3714\n"
     ]
    },
    {
     "data": {
      "text/plain": [
       "array([-0.06705154, -0.03096339, -0.07957152, -0.00708195, -0.13559834])"
      ]
     },
     "execution_count": 119,
     "metadata": {},
     "output_type": "execute_result"
    }
   ],
   "source": [
    "df_ng = get_ng()\n",
    "X = df_ng.drop(columns=[\"fuel_cost\"])\n",
    "\n",
    "y = (df_ng.fuel_cost > df_ng.fuel_cost.quantile(.8))\n",
    "\n",
    "X_train, X_test, y_train, y_test = train_test_split(X, y, test_size = 0.2)\n",
    "\n",
    "model = DecisionTreeClassifier(random_state=23, max_depth=10)\n",
    "results = model.fit(X_train, y_train)\n",
    "cross_val_score(results, X, y, scoring=coster, cv=5)"
   ]
  },
  {
   "cell_type": "markdown",
   "metadata": {
    "ExecuteTime": {
     "end_time": "2019-07-29T15:58:47.862563Z",
     "start_time": "2019-07-29T15:58:47.842461Z"
    },
    "hidden": true
   },
   "source": [
    "No difference with stratifying."
   ]
  },
  {
   "cell_type": "markdown",
   "metadata": {
    "heading_collapsed": true
   },
   "source": [
    "# Feature Analysis"
   ]
  },
  {
   "cell_type": "code",
   "execution_count": 232,
   "metadata": {
    "ExecuteTime": {
     "end_time": "2019-07-25T18:52:56.126298Z",
     "start_time": "2019-07-25T18:52:55.573340Z"
    },
    "hidden": true,
    "scrolled": false
   },
   "outputs": [
    {
     "name": "stdout",
     "output_type": "stream",
     "text": [
      "quantity 0.2639298532196594\n",
      "net_generation_megawatthours 0.16681981916677763\n",
      "primary_transportation_mode_PL 0.059156543020373924\n",
      "mmbtu_per_unit_gen 0.040228505837030755\n",
      "disturbance_events 0.014906923145290261\n",
      "purchase_type_N/A 0.01316632585737791\n",
      "operator_id_16534.0 0.012635394716005995\n",
      "supplier_VARIOUS 0.00971207734557755\n",
      "plant_id_7314 0.008714524169864665\n",
      "operator_id_15474.0 0.007566184455746114\n",
      "contract_type_C 0.007157665243566569\n",
      "operator_id_19876.0 0.007130747991459389\n",
      "contract_type_S 0.0063189426896943434\n",
      "plant_state_CA 0.006184559898135931\n",
      "reporting_frequency_M 0.006137612931740958\n",
      "natural_gas_transportation_service_F 0.0058624950443495055\n",
      "number_affected 0.005840093323124269\n",
      "operator_id_11249.0 0.005643361016537877\n",
      "plant_id_56328 0.005590504971553016\n",
      "operator_id_16572.0 0.005586322537720061\n",
      "supplier_SHELL ENERGY NORTH AMERICA 0.005212109609028521\n",
      "plant_state_OK 0.0048970895498224466\n",
      "natural_gas_transportation_service_I 0.004875437405651156\n",
      "plant_state_TX 0.004260917068465454\n",
      "reporting_frequency_A 0.0041642178010276336\n",
      "supplier_VARIOUS (NATURAL GAS SPOT PURCHASES ONLY) 0.004147976103628641\n",
      "supplier_BPE 0.004110857548595564\n",
      "plant_id_7266 0.0040102328076249165\n",
      "nerc_region_RFC 0.0035924330913405696\n",
      "nerc_region_SERC 0.003535831852652504\n",
      "reported_prime_mover_CA 0.0035236183777731375\n",
      "reported_prime_mover_GT 0.003508815564265954\n",
      "plant_state_NC 0.0033924396013433633\n",
      "reported_prime_mover_ST 0.003038880372385902\n",
      "nerc_region_MRO 0.00296356552254932\n",
      "supplier_IBERDROLA RENEWABLES 0.0026729901519797396\n",
      "plant_state_NY 0.002639547284931107\n",
      "nerc_region_NPCC 0.002592833649845619\n",
      "plant_id_55269 0.002558114907723903\n",
      "plant_state_LA 0.0025487666663803464\n",
      "reported_prime_mover_CT 0.002523486310674906\n",
      "plant_state_WA 0.002451824735772088\n",
      "supplier_Sequent 0.002416314549459844\n",
      "supplier_CONOCOPHILLIPS 0.0023697338435183495\n",
      "plant_id_7552 0.002336944775427052\n",
      "supplier_MUNIGAS - BP ENERGY 0.002266930129667733\n",
      "nerc_region_WECC 0.002213785682403235\n",
      "plant_state_VA 0.0022123338052620744\n",
      "plant_id_3 0.002176202602957377\n",
      "plant_id_2790 0.0021745273122148697\n",
      "plant_state_AK 0.0021496683235409948\n",
      "supplier_VIRGINIA POWER SERVICES ENERGY 0.002091781975171772\n",
      "plant_state_MI 0.0020863433879297188\n",
      "operator_id_18642.0 0.002069126947415279\n",
      "supplier_TENASKA MARKETING 0.0020595839711295048\n",
      "plant_id_8219 0.0019926968855987505\n",
      "nerc_region_FRCC 0.0019384842132530462\n",
      "supplier_KEYSPAN ENERGY 0.0019304358888161013\n",
      "nerc_region_SPP 0.0019087440962708116\n",
      "supplier_constellation 0.0018710329622377818\n",
      "supplier_B P ENERGY 0.0018517160222960615\n",
      "plant_id_3295 0.0016246607649083307\n",
      "supplier_ONEOK 0.001611746649963796\n",
      "purchase_type_S 0.0015846213777270266\n",
      "supplier_Sempra 0.0015791432331350196\n",
      "operator_id_17539.0 0.0015172849966330183\n",
      "operator_id_12341.0 0.001438079408644205\n",
      "operator_id_11018.0 0.0014299457605578124\n",
      "operator_id_12745.0 0.0013392004944462097\n",
      "plant_id_7914 0.001328963278703685\n",
      "supplier_CORAL 0.0013266371640455281\n",
      "supplier_PUGET SOUND ENERGY - NORTHWEST PIPELINE 0.001325310654486125\n",
      "plant_state_SC 0.001322643535449484\n",
      "supplier_LOUIS DREYFUS ENERGY 0.001318863808640605\n",
      "plant_id_676 0.0013141473857616794\n",
      "secondary_transportation_mode_N/A 0.0013028676944086338\n",
      "operator_id_10623.0 0.001301422550527954\n",
      "plant_id_7913 0.0012721277759233228\n",
      "plant_id_141 0.0012651496253367615\n",
      "supplier_Enbridge 0.001257782942722019\n",
      "supplier_MERRILL LYNCH 0.0012442836485157636\n",
      "supplier_TENASKA GAS 0.0012335416221512545\n",
      "supplier_TENASKA MARKETING VENTURES 0.0012215563961705347\n",
      "operator_id_9645.0 0.0011941172114169412\n",
      "supplier_PACIFIC SUMMIT 0.0011803586628791\n",
      "plant_id_56799 0.0011656803551582749\n",
      "supplier_MACQUARIE COOK 0.0011292728794980687\n",
      "secondary_transportation_mode_PL 0.0011164951548924761\n",
      "supplier_CITIGROUP 0.0011116788661096077\n",
      "purchase_type_C 0.0011096257679608832\n",
      "supplier_NAME PENDING 0.001097348674881634\n",
      "supplier_FLORIDA GAS 0.0010935762948793878\n",
      "plant_state_AZ 0.001086162980570891\n",
      "operator_id_14063.0 0.001085727220837274\n",
      "supplier_JP Morgan 0.001072875361288601\n",
      "operator_id_924.0 0.0010656923528923209\n",
      "supplier_BP 0.0010609676116150736\n",
      "supplier_Shell 0.001048266637915834\n",
      "operator_id_7801.0 0.0010472579480082247\n",
      "plant_id_2953 0.001044682436674012\n",
      "plant_id_3628 0.001039010538724897\n",
      "supplier_CHEVRON 0.0010388280027778004\n",
      "supplier_LG&E 0.00102716597323727\n",
      "plant_id_2322 0.0010168200586651464\n",
      "supplier_BG ENERGY 0.001008328856458044\n",
      "supplier_ENSERCO 0.001007040935183305\n",
      "supplier_POWEREX 0.0010017854094064279\n",
      "supplier_CONOCO 0.0009769250396321834\n",
      "operator_id_19436.0 0.0009672796189049671\n",
      "plant_id_7527 0.0009446952713699296\n",
      "supplier_EL PASO NATURAL GAS 0.0009362246594282181\n",
      "plant_state_NV 0.0008819442275646167\n",
      "supplier_FORTIS ENERGY 0.000878851477401663\n",
      "plant_id_7504 0.000876136574239945\n",
      "supplier_FGU 0.0008703785493207902\n",
      "plant_id_56196 0.0008642266604390835\n",
      "plant_id_2964 0.0008619041362401949\n",
      "supplier_VIRGINIA POWER 0.0008546832074903331\n",
      "plant_id_1702 0.0008496406676599596\n",
      "nerc_region_TRE 0.0008467075909485483\n",
      "operator_id_15500.0 0.0008229415069226522\n",
      "supplier_EAGLE ENERGY 0.0008229196318145879\n",
      "plant_state_WI 0.0008060637701547285\n",
      "natural_gas_supply_contract_type_N/A 0.0007931299353798707\n",
      "supplier_SOUTHWEST GAS 0.000786721330441867\n",
      "operator_id_2172.0 0.0007782048862903065\n",
      "plant_id_8000 0.0007712159590944576\n",
      "plant_id_469 0.000770452528899768\n",
      "plant_id_56068 0.000766817326445015\n",
      "plant_id_170 0.0007621172759274971\n",
      "natural_gas_supply_contract_type_F 0.0007604795635127972\n",
      "supplier_BP CANADA ENERGY COMPANY 0.0007429789976548893\n",
      "plant_state_MS 0.0007378677899121034\n",
      "supplier_MUNIGAS - TENASKA 0.000736906603407201\n",
      "supplier_BOSS ENERGY 0.0007346146949283261\n",
      "supplier_VECTREN 0.0007343149529776175\n",
      "supplier_CARGILL 0.0007311129487336994\n",
      "plant_state_TN 0.0007303483672809759\n",
      "plant_id_1240 0.0007205069091865009\n",
      "supplier_OGE 0.0007158143387037853\n",
      "operator_id_6455.0 0.0007088132890661202\n",
      "plant_state_IN 0.0007013721999342696\n",
      "contract_type_N/A 0.0006950356083825839\n",
      "operator_id_5860.0 0.0006914138906902578\n",
      "operator_id_13683.0 0.0006839723895448567\n",
      "supplier_ROSA UNIT @ MILAGRO 0.0006771810016957748\n",
      "plant_id_2122 0.0006770997779749734\n",
      "operator_id_14354.0 0.0006727976761474784\n",
      "operator_id_17718.0 0.0006704185299577385\n",
      "operator_id_17698.0 0.0006679086324420867\n",
      "supplier_EDF TRADING 0.0006660811844637723\n",
      "plant_id_2336 0.000660186250224078\n",
      "plant_id_533 0.000659471940781154\n",
      "plant_id_6243 0.0006590631304445385\n",
      "operator_id_12686.0 0.0006529565121135045\n",
      "supplier_MIDAMERICAN ENERGY 0.0006514288766678794\n",
      "supplier_ENJET 0.0006464940867331343\n",
      "plant_id_6071 0.0006426628642752852\n",
      "plant_id_2104 0.000640373328215242\n",
      "supplier_SPARK ENERGY GAS 0.0006398470727761845\n",
      "supplier_NJR Energy 0.0006374081990734173\n",
      "plant_id_3804 0.0006350336683768842\n",
      "plant_id_6088 0.0006348905473174279\n",
      "supplier_NEXTERA 0.000628398170691448\n",
      "operator_id_7294.0 0.0006253248701175086\n",
      "operator_id_15296.0 0.0006229358323419586\n",
      "supplier_VIRGINIA POWER ENERGY MARKETING 0.0006210806929096485\n",
      "supplier_ETC 0.0006173893807746468\n",
      "natural_gas_delivery_contract_type_F 0.00061509783743233\n",
      "supplier_MSR ENERGY AUTHORITY 0.0006126939728205665\n",
      "plant_id_6035 0.0006105004507778634\n",
      "natural_gas_delivery_contract_type_N/A 0.0006076775822071005\n",
      "operator_id_3989.0 0.0006046203536285034\n",
      "supplier_BEAR ENERGY 0.000604027865153893\n",
      "supplier_APACHE 0.0006032849830405524\n",
      "supplier_Marathon 0.0005855928264486761\n",
      "supplier_SCANA 0.0005808265877701414\n",
      "plant_id_7981 0.0005764262968969649\n",
      "plant_id_2936 0.0005750391312971862\n",
      "plant_state_MN 0.000574419973812929\n",
      "supplier_J AARON  @ PG&E CITYGATE 0.0005685405246127179\n",
      "supplier_BARCLAY'S CAPITAL 0.000565843930331675\n",
      "supplier_VARIOUS SUPPLIERS (NATURAL GAS ONLY) 0.0005648371914210693\n",
      "supplier_Gavilon 0.00056360475114504\n",
      "supplier_CO OWNED DISTRIBUTION 0.0005606018252475566\n",
      "operator_id_9417.0 0.0005512353407121127\n",
      "natural_gas_transportation_service_N/A 0.000550882225531161\n",
      "supplier_CECG 0.000550370653887442\n",
      "plant_id_55662 0.0005483277985070927\n",
      "operator_id_15472.0 0.0005465153279898255\n",
      "supplier_FLORIDA GAS TRANSMISSION 0.000540975021195511\n",
      "supplier_MIDCONTINENT EXPRESS PIPELINE LLC 0.0005396631846378297\n",
      "plant_id_55447 0.0005370245917259393\n",
      "plant_id_1904 0.0005321571295759587\n",
      "operator_id_5416.0 0.0005294625916352877\n",
      "natural_gas_supply_contract_type_I 0.000524518713172473\n",
      "operator_id_19545.0 0.0005225924119505051\n",
      "supplier_OGE ENERGY 0.0005148862871663495\n",
      "supplier_OCCIDENTAL ENERGY MARKETING 0.0005128951219718853\n",
      "plant_id_2706 0.0005097911325390906\n",
      "plant_id_7985 0.0005092585294432137\n",
      "supplier_AQUILA 0.0005092003653079296\n",
      "supplier_VPSE 0.0005088093900318667\n",
      "plant_id_7845 0.0005082889789612887\n",
      "plant_id_4940 0.0005067102754147605\n",
      "plant_id_55081 0.0004985913627885524\n",
      "supplier_SAN DIEGO GAS & ELECTRIC 0.0004943403192120439\n",
      "supplier_Niska 0.0004883048519401769\n",
      "plant_state_AR 0.00048460906699149237\n",
      "operator_id_3046.0 0.00047897971998028365\n",
      "operator_id_56505.0 0.0004768978660663205\n",
      "operator_id_15783.0 0.0004746486640552125\n",
      "plant_id_7 0.0004675182950320325\n",
      "plant_id_477 0.0004669021275208246\n",
      "supplier_SHELL CANADA - SUMAS - NORTHWEST PIPELINE 0.00046506721124960114\n",
      "supplier_CANADIAN NATURAL RESOURCES 0.00046357912298699774\n",
      "supplier_SEMPRA ENERGY TRADING 0.00046134064356090804\n",
      "supplier_HIGH PLAINS BIOENERGY,LLC 0.00045899342980013845\n",
      "natural_gas_delivery_contract_type_I 0.0004486313981871115\n",
      "operator_id_5109.0 0.00044744456095789604\n",
      "supplier_NORTHWEST PIPELINE 0.00044212214131887683\n",
      "supplier_Devon 0.00044131107697008184\n",
      "plant_state_NM 0.00043717239833731907\n",
      "supplier_UBS 0.0004366438287734458\n",
      "supplier_Gulf South 0.0004305004189765165\n",
      "plant_state_IL 0.00043032777133862436\n",
      "supplier_SEACOAST GAS TRANSMISSION 0.00042836753750986336\n",
      "supplier_PG&E 0.0004280468873579234\n",
      "plant_id_2049 0.00042753655858167815\n",
      "plant_id_1252 0.0004246828762506031\n",
      "plant_state_FL 0.00042179466696409677\n",
      "operator_id_13994.0 0.00042076578839019403\n",
      "supplier_BRITISH PETROLEUM 0.0004177710689430399\n",
      "plant_id_8027 0.0004117912476426185\n",
      "operator_id_17166.0 0.0004080812742866191\n",
      "operator_id_15473.0 0.000407252196649029\n",
      "supplier_NJR ENERGY SERVICES CO 0.0004030529299181839\n",
      "supplier_DOMINION 0.00039832818444416\n",
      "plant_id_3250 0.00039546524565560443\n",
      "operator_id_20856.0 0.0003950083720093348\n",
      "plant_state_IA 0.00039352324441722995\n",
      "supplier_NWPL - SUMAS 0.00039199265251039367\n",
      "supplier_LACLEDE ENERGY RESOURCES 0.00039167775371446925\n",
      "operator_id_9267.0 0.00039041077984266874\n",
      "supplier_MICHIGAN GAS UTILITIES 0.00038958406946914783\n",
      "plant_state_KS 0.00038437215913240453\n",
      "operator_id_5701.0 0.0003831680690481643\n",
      "operator_id_4254.0 0.00038191853625288837\n",
      "plant_id_50555 0.0003787272419253355\n",
      "plant_id_126 0.00037868004366740194\n",
      "supplier_UNITED ENERGY TRADING, LLC 0.0003772251277668148\n",
      "plant_id_7551 0.0003765485520811437\n",
      "supplier_SUNCOR ENERGY 0.0003759635975663896\n",
      "plant_id_54476 0.00037570159809029494\n",
      "supplier_JLA ENERGY 0.00037237088764136044\n",
      "plant_id_55210 0.00037188601117436475\n",
      "supplier_FGT 0.00037184130716146454\n",
      "supplier_PROLIANCE ENERGY 0.00037042461663952975\n",
      "supplier_CHEVRON TEXACO 0.0003668152894682122\n",
      "plant_id_2367 0.00036505717800059344\n",
      "supplier_UNITED ENERGY 0.00036417912499759833\n",
      "supplier_TEXLA 0.00036274135328804994\n",
      "operator_id_11241.0 0.00036103005801437236\n",
      "plant_id_54817 0.0003605922038478949\n",
      "supplier_CROSSTEX 0.00035732152132986894\n",
      "supplier_SPOTLIGHT ENERGY,LLC 0.0003550379162350988\n",
      "plant_id_55417 0.00035442523344911096\n",
      "supplier_SEMINOLE 0.0003506229082485755\n",
      "supplier_B P CANADA 0.00034859893628564075\n",
      "supplier_SOUTHWEST ENERGY 0.00034347302148551737\n",
      "supplier_VA PWR SVCS ENERGY 0.00034189969196666745\n",
      "operator_id_3660.0 0.00034173119044428763\n",
      "supplier_DEVON ENERGY 0.0003404646893965032\n",
      "supplier_Tenaska 0.0003365832896519153\n",
      "supplier_ATMOS ENERGY 0.0003353978558938281\n",
      "operator_id_9273.0 0.0003294801093231996\n",
      "supplier_AVISTA 0.00032937024161211215\n",
      "supplier_Chevron NG 0.00032912702500051454\n",
      "plant_id_8031 0.00032755692852980063\n",
      "plant_id_1400 0.00032730072730883646\n",
      "plant_state_ID 0.00032531779116222454\n",
      "supplier_CHESAPEAKE ENERGY MARKETING 0.0003223432093249428\n",
      "plant_state_CO 0.0003211866767849587\n",
      "plant_id_2963 0.0003211730608836284\n",
      "plant_id_56164 0.00031882775626369353\n",
      "plant_state_MO 0.00031726194136070445\n",
      "supplier_DEVON GAS SERVICES 0.00031408743975640035\n",
      "plant_id_7605 0.0003127982271198002\n",
      "operator_id_16604.0 0.0003124285746424538\n",
      "plant_id_7296 0.000308237568923359\n",
      "supplier_WPS 0.0003062097420609062\n",
      "plant_state_WY 0.00030366681195299097\n",
      "supplier_COLONIAL 0.0003025074289113036\n",
      "supplier_ConocoPhil 0.0003015386182775766\n",
      "supplier_TENNESSEE GAS PIPELINE 0.00030077999292394986\n",
      "plant_id_54 0.0002993192827159451\n",
      "plant_id_8059 0.0002965555227698193\n",
      "plant_id_55247 0.000296441061663715\n",
      "plant_id_6190 0.0002928698878791431\n",
      "plant_id_607 0.00029045727680638764\n",
      "plant_id_55418 0.00028962155891462264\n",
      "plant_id_3548 0.0002879669519967093\n",
      "plant_id_1001 0.0002863090496697917\n",
      "supplier_INTERSTATE GAS MARKET 0.0002849487185356298\n",
      "plant_state_GA 0.0002843143988374375\n",
      "plant_id_2965 0.00028402543217499423\n",
      "supplier_Cimarex 0.00028292798804703724\n",
      "operator_id_195.0 0.0002828362610744794\n",
      "operator_id_4226.0 0.0002774069619863217\n",
      "operator_id_15470.0 0.00027660869382450335\n",
      "supplier_Chesapeake 0.0002756703953220409\n",
      "supplier_WILD GOOSE STORAGE 0.00027510347813703865\n",
      "plant_id_55496 0.00027385018349571213\n",
      "operator_id_13756.0 0.00027221762405970495\n",
      "plant_id_1417 0.0002720050581454954\n",
      "plant_id_377 0.0002715842717942137\n",
      "supplier_HILCORP ENERGY CO 0.00027150783723362795\n",
      "plant_id_470 0.0002701951966179441\n",
      "operator_id_17697.0 0.00026769375559277796\n",
      "operator_id_5695.0 0.0002660595141989477\n",
      "plant_id_2709 0.000265059064928593\n",
      "supplier_NEW BRAUNFELS 0.0002644243012754302\n",
      "supplier_SEMI 0.00026352981047522245\n",
      "operator_id_13781.0 0.0002626338426458575\n",
      "plant_id_1404 0.00026190324947415576\n",
      "operator_id_6235.0 0.0002618278425622295\n",
      "operator_id_7140.0 0.00025967539644830605\n",
      "plant_id_55224 0.00025856960544144757\n",
      "operator_id_20847.0 0.00025827237585676963\n",
      "supplier_Texas Gas 0.00025804961618085324\n",
      "plant_state_SD 0.000257131170168568\n",
      "supplier_CORAL ENERGY 0.0002559507564228695\n",
      "supplier_CORNERSTONE ENERGY 0.00025594295135970683\n",
      "supplier_ENTERPRISE 0.00025557101207165266\n",
      "plant_id_55620 0.0002499977091608938\n",
      "plant_id_55467 0.000249830902726404\n",
      "supplier_MACQUARIE ENERGY 0.00024723579654931143\n",
      "plant_id_2956 0.00024698599260677815\n",
      "plant_id_7837 0.00024399980467817265\n",
      "supplier_KINDER MORGAN 0.00024336406739992113\n",
      "supplier_PANHANDLE EASTERN PIPELINE 0.00024318801103657275\n",
      "supplier_UNITED COAL 0.00024153200846793618\n",
      "operator_id_61137.0 0.00024135698263003428\n",
      "supplier_Eagle EP 1 0.000241297932422377\n",
      "supplier_TD COMMODITIES 0.00023863296621677785\n",
      "operator_id_9617.0 0.00023735559165251105\n",
      "plant_id_7159 0.0002370040308145578\n",
      "plant_id_55985 0.0002367771702195744\n",
      "plant_id_612 0.00023537465773817217\n",
      "supplier_SHELL GAS 0.0002347675923228012\n",
      "plant_id_2720 0.00023452737522834826\n",
      "plant_id_913 0.00023420576342759067\n",
      "supplier_DTE Energy 0.00023199566907650712\n",
      "supplier_GULF STREAM 0.00023140389521903593\n",
      "operator_id_1015.0 0.00023045258254026738\n",
      "supplier_ENERGY AUTHORITY 0.00023022273101040876\n",
      "plant_id_2241 0.00022904471219513687\n",
      "plant_id_58557 0.00022847112538952982\n",
      "supplier_J ARON 0.00022580440749793437\n",
      "operator_id_10005.0 0.00022116446138664952\n",
      "supplier_DBET 0.0002192302991969084\n",
      "supplier_INTERSTATE POWER & LIGHT 0.00021876732466910085\n",
      "plant_id_733 0.00021714642402858277\n",
      "plant_id_6042 0.00021536863311869065\n",
      "plant_state_AL 0.00021500807009930913\n",
      "supplier_TWIN EAGLE RESOURCE MANAGEMENT 0.00021426857890634025\n",
      "plant_state_NE 0.00021416138472209653\n",
      "supplier_CENTERPOINT ENERGY GAS TRANSMISSION 0.00021343396916087692\n",
      "operator_id_12685.0 0.00021317490962394878\n",
      "operator_id_12199.0 0.00021303513848197178\n",
      "plant_id_3403 0.00021268329168209552\n",
      "supplier_SOUTHERN CALIFORNIA GAS 0.0002116553069970515\n",
      "plant_id_58215 0.0002110617990775352\n",
      "plant_id_7887 0.00020732022995132956\n",
      "plant_id_2951 0.00020719545942033155\n",
      "operator_id_733.0 0.00020568410406087865\n",
      "plant_id_7925 0.00020567699872961205\n",
      "plant_id_4078 0.00020483879784721776\n",
      "plant_id_56596 0.00020462096539742365\n",
      "operator_id_13337.0 0.000203776353216977\n",
      "plant_id_1016 0.0002035473000216205\n",
      "plant_id_6170 0.00020304676373959188\n",
      "supplier_SOUTHERN CONN GAS 0.0002020792324645224\n",
      "plant_id_6120 0.00020156402964108128\n",
      "plant_id_1927 0.000200907165156569\n",
      "supplier_NET 0.00020006868684641256\n",
      "supplier_NCG1 0.0002000023894690434\n",
      "supplier_PIEDMONT 0.00019905136486301212\n",
      "plant_id_689 0.0001988276646134215\n",
      "supplier_ET FUEL 0.0001988084325508257\n",
      "supplier_OCCIDENTAL ENERGY 0.0001986211426454299\n",
      "plant_id_3946 0.0001984877798485443\n",
      "supplier_ATMOS PIPELINE 0.00019838761516155736\n",
      "supplier_DCP 0.00019817367987940725\n",
      "supplier_BP CANADA ENERGY MARKETING 0.0001975839356863012\n",
      "plant_id_7538 0.00019581640167957718\n",
      "plant_id_57027 0.00019541224641012872\n",
      "plant_id_55110 0.00019396768428712126\n",
      "plant_id_1682 0.00019208372595020103\n",
      "supplier_TERASEN 0.00019078047925341743\n",
      "supplier_ENOGEX 0.00018997615003213397\n",
      "plant_id_7380 0.00018951338614698877\n",
      "supplier_Enerfin 0.0001879129161870283\n",
      "supplier_TOTAL 0.0001872508558578684\n",
      "operator_id_189.0 0.0001859626085911482\n",
      "operator_id_56211.0 0.0001848183416366879\n",
      "operator_id_6909.0 0.00018462321195673734\n",
      "supplier_COLORADO SPRINGS UTILITIES ENERGY SUPPLY DEPT 0.00018432741417967946\n",
      "operator_id_11208.0 0.00018424717283201943\n",
      "plant_id_57028 0.00018417126058827758\n",
      "operator_id_17583.0 0.00018351874112721144\n",
      "plant_id_1366 0.0001832585342626067\n",
      "supplier_ENABLE OKLAHOMA INTRASTATE TRANSMISSION LLC 0.000181578793484997\n",
      "operator_id_12647.0 0.00018066650906149693\n",
      "plant_id_55129 0.00018040143641056102\n",
      "operator_id_18315.0 0.0001799503111440624\n",
      "supplier_SEMCO ENERGY 0.0001784097398178564\n",
      "plant_id_147 0.00017780469123607046\n",
      "supplier_EnCana 0.0001775349869582787\n",
      "plant_id_59784 0.00017710455639308008\n",
      "supplier_MONTANA-DAKOTA UTILITIES 0.00017633590530717028\n",
      "plant_id_56502 0.00017599450900778046\n",
      "supplier_ALLIANT 0.00017437500072771023\n",
      "plant_id_55283 0.00017413005536550066\n",
      "supplier_LCRA GAS 0.00017375874138418087\n",
      "supplier_CENTERPOINT ENERGY 0.0001735360969669278\n",
      "plant_id_634 0.0001733985085033486\n",
      "supplier_KERN RIVER 0.000172665793776268\n",
      "plant_id_995 0.00017256309450926595\n",
      "plant_id_3280 0.00017238467850109923\n",
      "plant_id_2176 0.00017225867457908126\n",
      "supplier_Virginia 0.00017218974372440465\n",
      "operator_id_49893.0 0.0001705601106369591\n",
      "supplier_SOUTH CAROLINA ELECTRIC & GAS 0.00016934360526853738\n",
      "supplier_ANR 0.00016791419047470894\n",
      "plant_id_1082 0.0001667005771130142\n",
      "supplier_SCISSORTAIL ENERGY 0.0001655654196214381\n",
      "plant_state_OH 0.00016475252770648666\n",
      "supplier_ROYAL BANK OF CANADA 0.00016474094278663088\n",
      "plant_id_641 0.0001645684973009947\n",
      "supplier_NISKA GAS STORAGE 0.00016334918495705545\n",
      "plant_id_2679 0.00016270404872315605\n",
      "plant_id_1913 0.00016217761961189028\n",
      "supplier_STATOIL 0.0001616328557333349\n",
      "supplier_COOK INLET 0.00016048628232432328\n",
      "plant_id_2454 0.00016047415509230144\n",
      "plant_id_10 0.00016019557318869564\n",
      "purchase_type_NC 0.0001600017843090445\n",
      "plant_id_7512 0.00015984812506009718\n",
      "operator_id_803.0 0.0001594567470325528\n",
      "supplier_WESTAR ENERGY 0.0001590091743222549\n",
      "supplier_PPM ENERGY 0.00015824884056378423\n",
      "plant_id_1740 0.00015747654753571128\n",
      "plant_id_55202 0.0001549829212327153\n",
      "operator_id_6452.0 0.00015305173907726428\n",
      "plant_id_6043 0.00015279029296654667\n",
      "supplier_IGI 0.00015213604242486466\n",
      "plant_id_7953 0.00015145582043257257\n",
      "plant_id_7238 0.000151320030933591\n",
      "supplier_QEP RESOURCES 0.0001508283579428168\n",
      "plant_id_7456 0.00014976071127170427\n",
      "supplier_PEOPLES NATURAL GAS 0.00014944631009349701\n",
      "plant_state_CT 0.00014798473071600185\n",
      "plant_id_1363 0.0001475932966965765\n",
      "supplier_GAZPROM MT 0.00014650607865140274\n",
      "plant_id_7348 0.0001462145788507782\n",
      "supplier_FB ENERGY CANADA 0.00014553633481313963\n",
      "plant_id_7799 0.00014428416205045276\n",
      "operator_id_17828.0 0.00014406721287161278\n",
      "supplier_UBS AG 0.0001440117677169803\n",
      "plant_id_59338 0.00014291494848529487\n",
      "supplier_GREEN PLAINS TRADE GROUP LLC 0.00014243983898852864\n",
      "supplier_HESS 0.00014148371819640933\n",
      "plant_id_2723 0.00014147955204502308\n",
      "plant_id_7834 0.0001414258894183693\n",
      "plant_id_7931 0.00014082753676994278\n",
      "supplier_MADISON GAS AND ELECTRIC CO 0.0001406051101687177\n",
      "supplier_ApacheCorp 0.00014029846546309373\n",
      "supplier_EVANGELINE GAS PIPELINE 0.00014025942363491236\n"
     ]
    },
    {
     "name": "stdout",
     "output_type": "stream",
     "text": [
      "supplier_EDF 0.00014015904709287522\n",
      "operator_id_814.0 0.00014007405781769327\n",
      "operator_id_17568.0 0.00013992749408381325\n",
      "plant_id_2517 0.00013992357448104514\n",
      "plant_id_673 0.00013980869923950975\n",
      "supplier_PNMR 0.00013947184582467485\n",
      "plant_id_56013 0.0001393333760478173\n",
      "supplier_NWPL 0.00013824334519430486\n",
      "supplier_PAIUTE 0.00013714636860960396\n",
      "supplier_EXELON 0.0001371396321633617\n",
      "plant_id_26 0.00013590602118342444\n",
      "supplier_MUNICH RE TRADING 0.00013502843916024396\n",
      "plant_id_7946 0.00013477485824810943\n",
      "plant_id_7032 0.00013461600677097514\n",
      "supplier_COLUMBIA GULF TRANSMISSION 0.000134398132499227\n",
      "operator_id_40229.0 0.00013408279222454285\n",
      "plant_state_MA 0.0001338507838422429\n",
      "plant_id_2079 0.00013253223033230684\n",
      "combined_heat_and_power_plant_N 0.00013216248428837314\n",
      "plant_id_6046 0.00013120139498343008\n",
      "supplier_Odyssey 0.0001308403948151063\n",
      "plant_id_7839 0.00012949253759561607\n",
      "supplier_NGPL 0.00012829936508357306\n",
      "plant_id_1167 0.00012797908853848984\n",
      "plant_id_8054 0.00012788743059139672\n",
      "supplier_NAVAJO TRIBAL AUTHORITY 0.00012496544588144835\n",
      "plant_id_1394 0.00012490292102545247\n",
      "plant_id_2053 0.00012468190906425917\n",
      "operator_id_40606.0 0.00012455024613012303\n",
      "plant_id_55343 0.00012443722299675954\n",
      "plant_id_3008 0.00012368905792243447\n",
      "plant_id_8002 0.0001225558156947195\n",
      "plant_id_55087 0.00012232131244790769\n",
      "plant_id_55197 0.00012214938199524042\n",
      "plant_id_7145 0.00012209295131944983\n",
      "supplier_CONSTELLATION ENERGY 0.00012099183896086312\n",
      "plant_id_2511 0.00011977210682234186\n",
      "operator_id_19804.0 0.00011888103508515825\n",
      "supplier_NEXEN 0.00011872331286187133\n",
      "supplier_INTEGRYS ENERGY 0.00011832841261636586\n",
      "plant_id_1131 0.00011826074113273162\n",
      "operator_id_13478.0 0.00011795836727930258\n",
      "operator_id_11479.0 0.00011754882899627914\n",
      "operator_id_20860.0 0.00011752248966976336\n",
      "plant_id_7999 0.00011750728696634229\n",
      "supplier_INFINITE ENERGY 0.00011727267755392571\n",
      "supplier_ONEOK ENERGY MARKETING AND TRADING 0.00011709555857269687\n",
      "supplier_HUSKY ENERGY 0.00011687432873001532\n",
      "supplier_ANADARKO 0.00011627819683024\n",
      "plant_id_56237 0.00011584704693211622\n",
      "plant_id_7829 0.00011582897340770511\n",
      "supplier_COLORADO INTERSTATE GAS 0.0001156327348833763\n",
      "plant_id_2277 0.00011554874022183933\n",
      "plant_id_675 0.00011501877610870816\n",
      "supplier_TUSCARORA 0.00011475872559118988\n",
      "plant_id_8832 0.00011451468492874364\n",
      "supplier_WASHINGTON GAS 0.00011429442356695838\n",
      "operator_id_2409.0 0.00011418008014126992\n",
      "plant_id_55306 0.00011407416521931932\n",
      "operator_id_16181.0 0.00011398109477015352\n",
      "plant_id_56807 0.00011350293885351205\n",
      "plant_id_1250 0.0001134238833999363\n",
      "operator_id_9996.0 0.00011312822668103467\n",
      "plant_id_663 0.00011231158281743208\n",
      "operator_id_14268.0 0.00011168498780910002\n",
      "supplier_COLUMBIA GULF 0.00011056912763676451\n",
      "plant_id_55482 0.00011050691365449948\n",
      "plant_id_56232 0.0001103492650456511\n",
      "plant_id_7699 0.00010966300130034342\n",
      "plant_id_4937 0.00010963437088366012\n",
      "plant_id_6373 0.00010902633503823973\n",
      "plant_id_55700 0.00010838490818563914\n",
      "supplier_REPSOL 0.00010811884630418692\n",
      "supplier_NORTHERN NATURAL 0.00010803923854855791\n",
      "plant_id_7805 0.00010762043761085943\n",
      "plant_id_7270 0.00010736291066670798\n",
      "supplier_FINA 0.00010715750666442441\n",
      "supplier_SOUTHERN INDUSTRIAL GAS PIPELINE 0.00010704096854425578\n",
      "plant_state_KY 0.00010695951020420541\n",
      "plant_id_3609 0.00010649365195239085\n",
      "supplier_WE ENERGIES 0.00010583179791996554\n",
      "supplier_DISTRIGAS OF MASSACHUSETTS 0.00010517743500437043\n",
      "operator_id_10376.0 0.00010435724834787586\n",
      "operator_id_18715.0 0.00010434820325530577\n",
      "supplier_OXY CANADA 0.00010330843676064787\n",
      "operator_id_14610.0 0.00010302059112119256\n",
      "plant_id_7203 0.00010296201161537439\n",
      "plant_id_8056 0.00010210218261219435\n",
      "operator_id_30151.0 0.00010201475240337985\n",
      "operator_id_55936.0 0.00010151725092838085\n",
      "plant_id_55382 0.00010151451946881503\n",
      "plant_id_1271 0.00010119398122992509\n",
      "supplier_CASTLETON COMMODITIES MERCHANT TRADING LP 0.00010115026084441237\n",
      "plant_id_2513 0.00010088511743285944\n",
      "operator_id_13407.0 0.00010074442956873754\n",
      "plant_id_4162 0.00010064330660384388\n",
      "operator_id_10000.0 0.0001004153093954162\n",
      "plant_id_589 0.00010005065520553686\n",
      "plant_id_55694 0.00010000384257059864\n",
      "plant_id_6021 9.982440556285494e-05\n",
      "supplier_PACIFIC GAS & ELECTRIC 9.899951552491456e-05\n",
      "operator_id_24211.0 9.822735331488475e-05\n",
      "operator_id_56771.0 9.811134279347885e-05\n",
      "supplier_ENSTOR GAS LLC 9.735746307436702e-05\n",
      "supplier_TEJAS GAS 9.731182594327295e-05\n",
      "supplier_SEMINOLE ENERGY SERVICES 9.728675759342508e-05\n",
      "supplier_CIMA ENERGY 9.645138841072317e-05\n",
      "operator_id_20910.0 9.638006493683238e-05\n",
      "supplier_CGPENNSYLV 9.527147768562928e-05\n",
      "supplier_NISOURCE 9.505163882795173e-05\n",
      "supplier_PANHANDLE EASTERN 9.470693139703969e-05\n",
      "plant_id_7212 9.3385865079185e-05\n",
      "plant_id_58697 9.329730265636384e-05\n",
      "supplier_TRANSCO 9.235878135425861e-05\n",
      "plant_id_56249 9.222264216239379e-05\n",
      "supplier_ScissorTL 9.175699868193945e-05\n",
      "supplier_ENABLE ENERGY RESOURCES LLC 9.117951301823014e-05\n",
      "supplier_CROSS TIMBERS ROYALTY TRUST 9.11555278951527e-05\n",
      "plant_id_8068 9.044948526364479e-05\n",
      "plant_id_1295 8.946960417230365e-05\n",
      "plant_id_55322 8.875145432698603e-05\n",
      "supplier_THE ENERGY AUTHORITY 8.858481555151639e-05\n",
      "supplier_HESS ENERGY 8.8046115290075e-05\n",
      "plant_state_OR 8.758918083101671e-05\n",
      "operator_id_7570.0 8.732644107808857e-05\n",
      "plant_id_7277 8.720965757605377e-05\n",
      "plant_id_404 8.638708439933995e-05\n",
      "supplier_SOUTHERN STAR CENTRAL PIPELINE 8.635039892350225e-05\n",
      "supplier_CenterPt 8.596213806117947e-05\n",
      "plant_id_2514 8.589772293426408e-05\n",
      "plant_id_617 8.574731778938131e-05\n",
      "plant_id_7902 8.559345876404442e-05\n",
      "plant_id_6664 8.482231343365186e-05\n",
      "plant_id_1743 8.48206641961575e-05\n",
      "plant_id_7231 8.476749867499549e-05\n",
      "supplier_NOBLE GAS MARKETING 8.369072844023048e-05\n",
      "supplier_SWE 8.354006893581027e-05\n",
      "plant_id_56497 8.286958113712464e-05\n",
      "supplier_SOUTHWESTERN ENERGY SERVICES 8.263160795684691e-05\n",
      "plant_id_56041 8.2420803156601e-05\n",
      "plant_id_1910 8.238142489783733e-05\n",
      "plant_id_56108 8.220425117265678e-05\n",
      "supplier_TEXAS EASTERN TRANSMISSION 8.142381672734061e-05\n",
      "plant_id_7960 8.120120540048942e-05\n",
      "plant_id_1731 8.10948341982009e-05\n",
      "supplier_TEA ENERGY 8.054356907362639e-05\n",
      "plant_id_56407 8.028145557336197e-05\n",
      "supplier_JP MORGAN VENTURES ENERGY 8.020646056474984e-05\n",
      "plant_id_2038 8.002302776590621e-05\n",
      "supplier_MERRILL LYNCH COMMODITIES, INC. 8.001515206252356e-05\n",
      "plant_id_990 7.966411753294068e-05\n",
      "plant_id_2491 7.924276777038738e-05\n",
      "primary_transportation_mode_N/A 7.911112297774236e-05\n",
      "operator_id_22500.0 7.905328640481675e-05\n",
      "supplier_EAGLE ENERGY PARTNERS I, L.P. 7.883893958674872e-05\n",
      "reported_prime_mover_CS 7.794443316909579e-05\n",
      "supplier_CONSUMERS ENERGY 7.693138901789232e-05\n",
      "supplier_Enogex Inc 7.68940999460058e-05\n",
      "operator_id_15466.0 7.683939089055457e-05\n",
      "plant_id_2039 7.658630441730036e-05\n",
      "supplier_COLUMBIA ENERGY SERVICES CORP 7.654639001119329e-05\n",
      "operator_id_16609.0 7.647803853588313e-05\n",
      "supplier_TUCSON ELECTRIC 7.645145933356393e-05\n",
      "operator_id_2144.0 7.63995229249659e-05\n",
      "plant_id_55733 7.633338031007357e-05\n",
      "supplier_REGENCY FIELD SERVICES 7.630249819454027e-05\n",
      "plant_id_7843 7.595596146683024e-05\n",
      "plant_id_56227 7.521623905079883e-05\n",
      "supplier_NOBLE ENERGY MARKETING 7.45258328230586e-05\n",
      "plant_id_116 7.438857681368078e-05\n",
      "plant_id_1077 7.430155484269415e-05\n",
      "plant_id_56150 7.401488775676572e-05\n",
      "plant_id_7450 7.37867181258766e-05\n",
      "supplier_CONSOLIDATED EDISON ENERGY INC. 7.36714009958809e-05\n",
      "plant_id_1242 7.36019485306376e-05\n",
      "operator_id_9191.0 7.331558296512443e-05\n",
      "plant_id_55116 7.324399721752869e-05\n",
      "plant_id_120 7.296694391300895e-05\n",
      "supplier_TETCO 7.213972477240378e-05\n",
      "plant_id_638 7.164326917122976e-05\n",
      "supplier_OGE ENERGY RESOURCES INC 7.136837695679272e-05\n",
      "plant_id_1915 7.135142391624828e-05\n",
      "plant_id_1912 7.038648463499509e-05\n",
      "plant_id_1073 7.01464010905399e-05\n",
      "plant_id_2952 7.009734600135099e-05\n",
      "operator_id_6958.0 6.995489280774499e-05\n",
      "supplier_TENNEESSE GAS 6.946329956867178e-05\n",
      "plant_id_728 6.934782504604388e-05\n",
      "plant_id_3809 6.928988327043584e-05\n",
      "supplier_TRANSWESTERN PIPELINE CO 6.890103720532492e-05\n",
      "supplier_CONAGRA 6.867593856364292e-05\n",
      "plant_id_7836 6.827088509302307e-05\n",
      "reported_prime_mover_IC 6.76157135604804e-05\n",
      "operator_id_3265.0 6.722995952958565e-05\n",
      "supplier_LACLEDE 6.720641016711146e-05\n",
      "supplier_DETM 6.719415611204284e-05\n",
      "supplier_TEXAS MUNICIPAL GAS 6.694830490879767e-05\n",
      "supplier_BG LNG SERVICES 6.68090740364799e-05\n",
      "operator_id_18454.0 6.655639342546747e-05\n",
      "supplier_BAY STATE 6.653739442655708e-05\n",
      "supplier_MORGAN STANLEY 6.57236119374422e-05\n",
      "operator_id_343.0 6.5419891289768e-05\n",
      "supplier_EXELON GENERATION LLC 6.524588545080471e-05\n",
      "plant_id_7909 6.52317757236699e-05\n",
      "plant_id_7335 6.502602612904463e-05\n",
      "supplier_NATIONAL GAS PIPELINE 6.485354467119223e-05\n",
      "plant_id_1403 6.471042326304146e-05\n",
      "supplier_SOUTH CAROLINA PIPELINE 6.435342389019374e-05\n",
      "plant_id_50966 6.42204276836549e-05\n",
      "supplier_SOUTH JERSEY RESOURCES 6.418605483056018e-05\n",
      "plant_id_4072 6.278726120091452e-05\n",
      "plant_id_57036 6.276961378434089e-05\n",
      "supplier_VIRGINIA ENERGY 6.248248557541328e-05\n",
      "plant_id_963 6.218115309172e-05\n",
      "plant_id_56046 6.185053895770817e-05\n",
      "plant_id_1364 6.182392283984132e-05\n",
      "operator_id_1307.0 6.113295141095937e-05\n",
      "supplier_HYDROCARBON EXCHANGE CORP 6.095824770336062e-05\n",
      "operator_id_6616.0 6.048048126245869e-05\n",
      "plant_id_7928 6.0258482476530914e-05\n",
      "plant_id_55836 6.018436781105365e-05\n",
      "plant_id_55927 5.9943509254617275e-05\n",
      "supplier_GULFSOUTH PIPELINE 5.9943509254617275e-05\n",
      "plant_id_7759 5.991528613204415e-05\n",
      "supplier_Delta 5.9685436972230734e-05\n",
      "plant_id_2713 5.9681221429358193e-05\n",
      "plant_id_55234 5.9123335302701595e-05\n",
      "supplier_DOMINION PIPELINE 5.906240484072228e-05\n",
      "plant_id_7991 5.8512849627877295e-05\n",
      "plant_id_3405 5.8498648944567884e-05\n",
      "supplier_FORTIS ENERGY MARKETING & TRADING GP 5.7887151711418096e-05\n",
      "supplier_CASTLETON COMMODITIES INTERNATIONAL LLC 5.774263926210516e-05\n",
      "plant_id_8073 5.7631724111186374e-05\n",
      "plant_id_7097 5.7484019671747054e-05\n",
      "supplier_J. ARON AND COMPANY 5.669488717322099e-05\n",
      "plant_id_7848 5.6476917938025666e-05\n",
      "operator_id_11571.0 5.642058773924655e-05\n",
      "plant_id_564 5.606790508768104e-05\n",
      "plant_id_55386 5.59216947778097e-05\n",
      "supplier_MARTIN ENERGY SERVICES 5.5849573333890455e-05\n",
      "plant_id_3457 5.58229922247149e-05\n",
      "supplier_WILLIAMS 5.567084933083674e-05\n",
      "plant_id_56102 5.566075519672684e-05\n",
      "plant_id_3406 5.556913513040329e-05\n",
      "plant_id_1104 5.540569017924163e-05\n",
      "plant_id_492 5.523326216996713e-05\n",
      "plant_id_4041 5.499119386583706e-05\n",
      "plant_id_1239 5.489466044900036e-05\n",
      "plant_id_7158 5.448284906148018e-05\n",
      "plant_id_1358 5.443164898216654e-05\n",
      "plant_id_7838 5.4275747838209894e-05\n",
      "plant_id_54844 5.41268641795356e-05\n",
      "plant_id_3797 5.4106076256153817e-05\n",
      "plant_id_6063 5.408742357052053e-05\n",
      "operator_id_7977.0 5.402597849582615e-05\n",
      "supplier_AMEREN UE 5.401745870621292e-05\n",
      "plant_id_1660 5.391560061265986e-05\n",
      "plant_id_55502 5.3416862241941344e-05\n",
      "plant_id_54854 5.339254153997481e-05\n",
      "supplier_COLUMBIA GAS 5.3389936453566106e-05\n",
      "supplier_TARGA 5.319678588282342e-05\n",
      "plant_id_55204 5.312902202209843e-05\n",
      "supplier_BNP PARIBAS ENERGY TRADING 5.304632939481466e-05\n",
      "plant_id_4014 5.2953996422654943e-05\n",
      "supplier_TRUNKLINE GAS 5.265138776251513e-05\n",
      "plant_id_2123 5.2519732890624704e-05\n",
      "plant_id_7449 5.2062015524262394e-05\n",
      "plant_id_7749 5.1961849087869065e-05\n",
      "operator_id_7004.0 5.1687923891600954e-05\n",
      "plant_id_6246 5.118889401738179e-05\n",
      "supplier_MICHIGAN CONSOLIDATED 5.1030329899871314e-05\n",
      "plant_id_7237 5.0962270382110125e-05\n",
      "supplier_ENBRIDGE MARKETING 5.095775818133654e-05\n",
      "supplier_METROPOLITAN UTILITIES DISTRICT 5.081377638397608e-05\n",
      "plant_id_710 5.072710197525771e-05\n",
      "supplier_NEVADA POWER 5.029942542259358e-05\n",
      "supplier_VPEM 4.978910711564648e-05\n",
      "plant_id_2092 4.945799723591306e-05\n",
      "plant_id_1007 4.8953481968959186e-05\n",
      "plant_id_3484 4.8789114823907845e-05\n",
      "supplier_NEGT 4.8501821620391306e-05\n",
      "operator_id_15248.0 4.85018216203913e-05\n",
      "plant_id_4005 4.829915145532794e-05\n",
      "operator_id_18445.0 4.8054977884962456e-05\n",
      "supplier_RAINBOW GAS 4.792009473763225e-05\n",
      "plant_id_59391 4.784314698015839e-05\n",
      "plant_id_2132 4.7755668134586766e-05\n",
      "operator_id_590.0 4.737925557463122e-05\n",
      "supplier_XCEL 4.727525580384346e-05\n",
      "supplier_TRANSCANADA 4.7275255803843443e-05\n",
      "plant_id_169 4.700767180381563e-05\n",
      "supplier_NGTS 4.689456618313565e-05\n",
      "supplier_MISSISSIPPI RIVER TRANS 4.685540284115634e-05\n",
      "operator_id_16655.0 4.6728546615058125e-05\n",
      "plant_id_2444 4.670680590361553e-05\n",
      "plant_id_55135 4.664748903225348e-05\n",
      "supplier_CORAL ENERGY RESOURCES 4.658579529094367e-05\n",
      "plant_id_7872 4.575943281799277e-05\n",
      "supplier_COPANO ENERGY SERVICES 4.571134841958068e-05\n",
      "supplier_HESS CORP ENERGY MARKETING DIVISION 4.540425854747998e-05\n",
      "plant_id_55503 4.52506059721308e-05\n",
      "operator_id_21554.0 4.514831384906892e-05\n",
      "plant_id_55651 4.487964080877518e-05\n",
      "operator_id_13100.0 4.460190164818715e-05\n",
      "supplier_IBERDROLA RENEWABLES CANADA 4.4416861087355604e-05\n",
      "supplier_Kinder Morgan Texas Pipeline 4.4399231483123766e-05\n",
      "supplier_EAGLE FUELS 4.437906537104428e-05\n",
      "supplier_KINDER MORGAN TEJAS 4.412200139565061e-05\n",
      "plant_id_55077 4.411727537103961e-05\n",
      "supplier_ENCORE ENERGY,INC. 4.4045098901579725e-05\n",
      "operator_id_17633.0 4.344421364188785e-05\n",
      "plant_id_535 4.344421364188785e-05\n",
      "plant_id_54538 4.344421364188785e-05\n",
      "supplier_SPRAGUE ENERGY 4.3017426378325054e-05\n",
      "plant_id_55457 4.1758558660257346e-05\n",
      "operator_id_58620.0 4.161245749620657e-05\n",
      "plant_id_56151 4.137809979176401e-05\n",
      "operator_id_21048.0 4.116103732960928e-05\n",
      "plant_id_56319 4.0989699648900315e-05\n",
      "plant_state_MD 4.093372961738288e-05\n",
      "plant_id_1048 4.0723029346234105e-05\n",
      "plant_id_1825 4.0534847242557614e-05\n",
      "plant_id_1416 4.000752553661634e-05\n",
      "supplier_ARIZONA PUBLIC SERVICE 3.9962339503078185e-05\n",
      "primary_transportation_mode_RR 3.993411638050509e-05\n",
      "plant_id_2848 3.976974112956864e-05\n",
      "plant_id_2050 3.9767123161926635e-05\n",
      "supplier_TD ENERGY TRADING 3.95814069779264e-05\n",
      "supplier_MARATHON PETROLEUM 3.932603616821397e-05\n",
      "plant_id_54537 3.931404317068694e-05\n",
      "plant_id_10761 3.9205363747651664e-05\n",
      "plant_id_4125 3.8964625047786846e-05\n",
      "plant_id_1206 3.868021367740894e-05\n",
      "plant_id_6635 3.83866056633844e-05\n",
      "supplier_BRIDGELINE 3.816958075755891e-05\n",
      "operator_id_12524.0 3.7991915729268546e-05\n",
      "plant_id_7910 3.7891490362839764e-05\n",
      "plant_id_613 3.7724298595002585e-05\n",
      "plant_id_2292 3.748368918628465e-05\n",
      "plant_id_55970 3.714199477342045e-05\n",
      "operator_id_4922.0 3.6928710450735354e-05\n",
      "operator_id_16088.0 3.606241953087402e-05\n",
      "plant_id_619 3.606241953087402e-05\n",
      "plant_id_7900 3.606241953087402e-05\n",
      "supplier_Ldreyfus 3.606241953087402e-05\n",
      "supplier_COLUMBIA ENERGY 3.594349335642709e-05\n",
      "plant_id_1091 3.5875032188028696e-05\n",
      "plant_id_99 3.582853212435692e-05\n",
      "supplier_CONCORD 3.573732103594801e-05\n",
      "plant_id_2070 3.492743161531471e-05\n",
      "operator_id_14534.0 3.4892500155649146e-05\n",
      "plant_id_693 3.4808503345156086e-05\n",
      "supplier_KAISER MARKETING APPALACHIAN, LLC 3.479062779857741e-05\n",
      "plant_id_1012 3.438139310145699e-05\n",
      "plant_id_667 3.436922687771206e-05\n",
      "plant_id_6248 3.351372871076066e-05\n",
      "supplier_GAS COMPANY OF NEW MEXICO 3.290739520753709e-05\n",
      "supplier_ALLIANT ENERGY 3.2537179158216336e-05\n",
      "plant_id_1235 3.253717915821629e-05\n",
      "operator_id_49974.0 3.242057184105638e-05\n",
      "plant_id_1402 3.242057184105638e-05\n",
      "plant_id_3344 3.242057184105638e-05\n",
      "supplier_SOUTHERN UNION GAS ENERGY 3.242057184105638e-05\n",
      "supplier_TECO ENERGY 3.242057184105638e-05\n",
      "plant_id_6064 3.234099922224013e-05\n",
      "plant_id_207 3.190442727628332e-05\n",
      "plant_id_55841 3.178914665965454e-05\n",
      "combined_heat_and_power_plant_Y 3.161024472861039e-05\n",
      "plant_id_7948 3.0832606632436984e-05\n",
      "supplier_CHESAPEAK GAS 3.0610492128173425e-05\n",
      "plant_id_1393 3.000365283448475e-05\n",
      "operator_id_4716.0 2.9850544795085093e-05\n",
      "plant_id_113 2.9799456844813912e-05\n",
      "plant_id_408 2.977340943027714e-05\n",
      "supplier_QUESTAR 2.8751310359401386e-05\n",
      "supplier_BP NORTH AMERICA 2.8673801357236846e-05\n",
      "plant_id_2847 2.8561699245413267e-05\n",
      "supplier_CHESAPEAKE BAY 2.840409605869671e-05\n",
      "supplier_VA  POWER 2.80473813808101e-05\n",
      "supplier_CABOT 2.795842926950931e-05\n",
      "plant_id_7515 2.7712048357351406e-05\n",
      "operator_id_55729.0 2.752293741356089e-05\n",
      "operator_id_807.0 2.752293741356089e-05\n",
      "plant_id_118 2.752293741356089e-05\n",
      "plant_id_1719 2.752293741356089e-05\n",
      "supplier_CENTANA 2.752293741356089e-05\n",
      "supplier_CPS 2.752293741356089e-05\n",
      "supplier_MERCURIA 2.752293741356089e-05\n",
      "supplier_NATURAL GAS PIPELINE 2.752293741356089e-05\n",
      "supplier_ONEOK ENERGY SERVICES 2.752293741356089e-05\n",
      "supplier_SPECTRA ENERGY 2.752293741356089e-05\n",
      "supplier_TOTAL GAS  & POWER 2.752293741356089e-05\n",
      "supplier_SOUTHERN NATURAL GAS 2.727208545048603e-05\n",
      "supplier_DPL ENERGY 2.639266319909897e-05\n",
      "supplier_SUPERIOR NAT GAS 2.598825095042813e-05\n",
      "supplier_NORTHWESTERN ENERGY 2.5895666971612815e-05\n",
      "plant_id_55029 2.5448694491659227e-05\n",
      "supplier_OCCIDENTAL 2.5431059009094036e-05\n",
      "plant_id_55232 2.4878804179034583e-05\n",
      "supplier_SWN ENERGY 2.4825629280443265e-05\n",
      "supplier_WGL MIDSTREAM INC. 2.4632412580290198e-05\n",
      "plant_id_6223 2.4400655537530116e-05\n",
      "plant_id_7964 2.4400655537530116e-05\n",
      "supplier_MIECO INC 2.4400655537530116e-05\n",
      "secondary_transportation_mode_TR 2.4223825563008297e-05\n",
      "plant_id_525 2.4175272271416182e-05\n",
      "plant_id_6077 2.3089467904552603e-05\n",
      "plant_id_6253 2.2579262132884916e-05\n",
      "supplier_LAKESHORE ENERGY SERVICES,LLC 2.2396451624808884e-05\n",
      "plant_id_389 2.2230720872501888e-05\n",
      "operator_id_40582.0 2.2111205511860285e-05\n",
      "supplier_DIRECT ENERGY BUSINESS MARKETING 2.116304263370777e-05\n",
      "supplier_Regency FS 2.0978884206830416e-05\n",
      "supplier_NOBLE AMERICAS GAS & POWER 2.0872559191568558e-05\n",
      "plant_id_6073 2.0803053299956005e-05\n",
      "plant_id_6085 2.0776214041767047e-05\n",
      "plant_id_3485 2.062987407548275e-05\n",
      "supplier_BP ENERGY CO. 2.0447947881197147e-05\n",
      "plant_id_976 2.0404093738395948e-05\n",
      "plant_id_55148 2.0399215584933595e-05\n",
      "supplier_BP LNG 2.0323795355277832e-05\n",
      "supplier_PETROCOM 2.0323795355277825e-05\n",
      "plant_id_7873 2.008231993621011e-05\n",
      "plant_id_55340 2.0031188091348295e-05\n",
      "plant_id_56166 1.9981169751539093e-05\n",
      "plant_id_56400 1.9981169751539093e-05\n",
      "plant_id_666 1.9981169751539093e-05\n",
      "plant_id_7846 1.9981169751539093e-05\n",
      "supplier_ProLiance 1.9981169751539093e-05\n",
      "plant_id_1130 1.9332465427595445e-05\n",
      "plant_id_3264 1.921858849208508e-05\n",
      "supplier_ESERVICES, LLC 1.898345529624777e-05\n",
      "supplier_Macquarie 1.898345529624777e-05\n",
      "operator_id_9130.0 1.8983455296247756e-05\n",
      "plant_id_151 1.8826710661207777e-05\n",
      "supplier_STORAGE TRANSFERS 1.8174777421296144e-05\n",
      "plant_id_87 1.7727668558569913e-05\n",
      "operator_id_40577.0 1.7190696550728497e-05\n",
      "operator_id_11806.0 1.7115438136241187e-05\n",
      "supplier_Wachovia 1.608124977933493e-05\n",
      "operator_id_17833.0 1.608124977933492e-05\n",
      "plant_id_1079 1.5921276228326964e-05\n",
      "supplier_LIG 1.5847362372817777e-05\n",
      "supplier_COMFORTSYSTEMS - CITY OF DULUTH 1.584420676117682e-05\n",
      "supplier_NORTHERN BORDER 1.5286205489106985e-05\n",
      "supplier_HOUSTON PIPELINE COMPANY 1.4950975564873003e-05\n",
      "plant_id_3612 1.4094353126682314e-05\n",
      "supplier_REGENCY GAS 1.3568143489877657e-05\n",
      "supplier_WFEC PIPELINE 1.3088106413460928e-05\n",
      "plant_id_1251 1.2439402089517292e-05\n",
      "plant_id_1897 1.2439402089517292e-05\n",
      "plant_id_2161 1.2439402089517292e-05\n",
      "supplier_ENABLE GAS TRANSMISSION LLC 1.2439402089517292e-05\n",
      "supplier_Phoenix 1.2439402089517292e-05\n",
      "supplier_TGNPA (MICHCON PIPELINE) 1.2439402089517292e-05\n",
      "plant_id_688 1.2131069539009296e-05\n",
      "plant_id_56143 1.1441687634225964e-05\n",
      "supplier_ALTN PIPELINE 1.1441687634225955e-05\n",
      "operator_id_19281.0 1.118361535183945e-05\n",
      "supplier_TGP 1.1023641800831462e-05\n",
      "plant_id_3576 9.68179536765481e-06\n",
      "plant_id_8049 9.274053803709751e-06\n",
      "plant_id_124 8.539482117313127e-06\n",
      "supplier_TRANS TEXAS GAS 8.539482117313127e-06\n",
      "plant_id_1678 8.539482117313122e-06\n",
      "supplier_MARK WEST 8.539482117313122e-06\n",
      "supplier_SWEnergy 7.5417676620218e-06\n",
      "supplier_VIKING CORNING 7.5417676620218e-06\n",
      "plant_id_55504 5.475653811897961e-06\n",
      "contract_type_NC 0.0\n",
      "operator_id_10171.0 0.0\n",
      "operator_id_10325.0 0.0\n",
      "operator_id_10620.0 0.0\n",
      "operator_id_11142.0 0.0\n",
      "operator_id_11269.0 0.0\n",
      "operator_id_11292.0 0.0\n",
      "operator_id_11732.0 0.0\n",
      "operator_id_11740.0 0.0\n",
      "operator_id_12208.0 0.0\n",
      "operator_id_12667.0 0.0\n",
      "operator_id_12796.0 0.0\n",
      "operator_id_12807.0 0.0\n",
      "operator_id_12927.0 0.0\n",
      "operator_id_13143.0 0.0\n",
      "operator_id_13228.0 0.0\n",
      "operator_id_13488.0 0.0\n",
      "operator_id_13809.0 0.0\n",
      "operator_id_14006.0 0.0\n",
      "operator_id_14077.0 0.0\n",
      "operator_id_14127.0 0.0\n",
      "operator_id_14194.0 0.0\n",
      "operator_id_14232.0 0.0\n",
      "operator_id_14328.0 0.0\n",
      "operator_id_14381.0 0.0\n",
      "operator_id_14605.0 0.0\n",
      "operator_id_15143.0 0.0\n",
      "operator_id_15776.0 0.0\n",
      "operator_id_16183.0 0.0\n",
      "operator_id_16295.0 0.0\n",
      "operator_id_1692.0 0.0\n",
      "operator_id_17543.0 0.0\n",
      "operator_id_17554.0 0.0\n",
      "operator_id_17609.0 0.0\n",
      "operator_id_17632.0 0.0\n",
      "operator_id_17874.0 0.0\n",
      "operator_id_18488.0 0.0\n",
      "operator_id_19558.0 0.0\n",
      "operator_id_19728.0 0.0\n",
      "operator_id_20169.0 0.0\n",
      "operator_id_20421.0 0.0\n",
      "operator_id_20447.0 0.0\n",
      "operator_id_20858.0 0.0\n",
      "operator_id_22053.0 0.0\n",
      "operator_id_23279.0 0.0\n",
      "operator_id_2442.0 0.0\n",
      "operator_id_24431.0 0.0\n",
      "operator_id_2507.0 0.0\n",
      "operator_id_25422.0 0.0\n",
      "operator_id_2548.0 0.0\n",
      "operator_id_26253.0 0.0\n",
      "operator_id_29116.0 0.0\n",
      "operator_id_298.0 0.0\n",
      "operator_id_3203.0 0.0\n",
      "operator_id_3258.0 0.0\n"
     ]
    },
    {
     "name": "stdout",
     "output_type": "stream",
     "text": [
      "operator_id_3355.0 0.0\n",
      "operator_id_3486.0 0.0\n",
      "operator_id_3522.0 0.0\n",
      "operator_id_3542.0 0.0\n",
      "operator_id_3702.0 0.0\n",
      "operator_id_3892.0 0.0\n",
      "operator_id_39347.0 0.0\n",
      "operator_id_40211.0 0.0\n",
      "operator_id_40307.0 0.0\n",
      "operator_id_4045.0 0.0\n",
      "operator_id_40613.0 0.0\n",
      "operator_id_40614.0 0.0\n",
      "operator_id_4062.0 0.0\n",
      "operator_id_4180.0 0.0\n",
      "operator_id_4363.0 0.0\n",
      "operator_id_50111.0 0.0\n",
      "operator_id_50168.0 0.0\n",
      "operator_id_50172.0 0.0\n",
      "operator_id_5063.0 0.0\n",
      "operator_id_5107.0 0.0\n",
      "operator_id_5269.0 0.0\n",
      "operator_id_5532.0 0.0\n",
      "operator_id_5580.0 0.0\n",
      "operator_id_55937.0 0.0\n",
      "operator_id_55987.0 0.0\n",
      "operator_id_56815.0 0.0\n",
      "operator_id_57393.0 0.0\n",
      "operator_id_599.0 0.0\n",
      "operator_id_59917.0 0.0\n",
      "operator_id_61919.0 0.0\n",
      "operator_id_62032.0 0.0\n",
      "operator_id_6204.0 0.0\n",
      "operator_id_6526.0 0.0\n",
      "operator_id_6775.0 0.0\n",
      "operator_id_6779.0 0.0\n",
      "operator_id_7349.0 0.0\n",
      "operator_id_7483.0 0.0\n",
      "operator_id_7490.0 0.0\n",
      "operator_id_7634.0 0.0\n",
      "operator_id_796.0 0.0\n",
      "operator_id_8567.0 0.0\n",
      "operator_id_8723.0 0.0\n",
      "operator_id_8795.0 0.0\n",
      "operator_id_8884.0 0.0\n",
      "operator_id_9216.0 0.0\n",
      "operator_id_9231.0 0.0\n",
      "operator_id_9234.0 0.0\n",
      "operator_id_9275.0 0.0\n",
      "operator_id_9879.0 0.0\n",
      "plant_id_1004 0.0\n",
      "plant_id_1011 0.0\n",
      "plant_id_1032 0.0\n",
      "plant_id_1046 0.0\n",
      "plant_id_1058 0.0\n",
      "plant_id_10755 0.0\n",
      "plant_id_10771 0.0\n",
      "plant_id_10773 0.0\n",
      "plant_id_108 0.0\n",
      "plant_id_1081 0.0\n",
      "plant_id_1084 0.0\n",
      "plant_id_1150 0.0\n",
      "plant_id_117 0.0\n",
      "plant_id_1217 0.0\n",
      "plant_id_1218 0.0\n",
      "plant_id_1230 0.0\n",
      "plant_id_1233 0.0\n",
      "plant_id_1243 0.0\n",
      "plant_id_1248 0.0\n",
      "plant_id_1268 0.0\n",
      "plant_id_1305 0.0\n",
      "plant_id_1336 0.0\n",
      "plant_id_1353 0.0\n",
      "plant_id_1355 0.0\n",
      "plant_id_1374 0.0\n",
      "plant_id_1378 0.0\n",
      "plant_id_1381 0.0\n",
      "plant_id_1383 0.0\n",
      "plant_id_1391 0.0\n",
      "plant_id_1396 0.0\n",
      "plant_id_1409 0.0\n",
      "plant_id_1439 0.0\n",
      "plant_id_1443 0.0\n",
      "plant_id_1449 0.0\n",
      "plant_id_1450 0.0\n",
      "plant_id_160 0.0\n",
      "plant_id_165 0.0\n",
      "plant_id_167 0.0\n",
      "plant_id_168 0.0\n",
      "plant_id_1695 0.0\n",
      "plant_id_1706 0.0\n",
      "plant_id_171 0.0\n",
      "plant_id_1720 0.0\n",
      "plant_id_1726 0.0\n",
      "plant_id_1728 0.0\n",
      "plant_id_1730 0.0\n",
      "plant_id_1734 0.0\n",
      "plant_id_1745 0.0\n",
      "plant_id_1822 0.0\n",
      "plant_id_1830 0.0\n",
      "plant_id_1866 0.0\n",
      "plant_id_1877 0.0\n",
      "plant_id_1888 0.0\n",
      "plant_id_1891 0.0\n",
      "plant_id_1893 0.0\n",
      "plant_id_1914 0.0\n",
      "plant_id_2001 0.0\n",
      "plant_id_2008 0.0\n",
      "plant_id_201 0.0\n",
      "plant_id_202 0.0\n",
      "plant_id_203 0.0\n",
      "plant_id_2046 0.0\n",
      "plant_id_2047 0.0\n",
      "plant_id_2048 0.0\n",
      "plant_id_2051 0.0\n",
      "plant_id_2098 0.0\n",
      "plant_id_2131 0.0\n",
      "plant_id_2144 0.0\n",
      "plant_id_2226 0.0\n",
      "plant_id_2240 0.0\n",
      "plant_id_2265 0.0\n",
      "plant_id_2291 0.0\n",
      "plant_id_2324 0.0\n",
      "plant_id_2326 0.0\n",
      "plant_id_2330 0.0\n",
      "plant_id_2442 0.0\n",
      "plant_id_2446 0.0\n",
      "plant_id_2450 0.0\n",
      "plant_id_246 0.0\n",
      "plant_id_2493 0.0\n",
      "plant_id_2516 0.0\n",
      "plant_id_2682 0.0\n",
      "plant_id_2721 0.0\n",
      "plant_id_2732 0.0\n",
      "plant_id_2831 0.0\n",
      "plant_id_2854 0.0\n",
      "plant_id_2917 0.0\n",
      "plant_id_2935 0.0\n",
      "plant_id_2950 0.0\n",
      "plant_id_2966 0.0\n",
      "plant_id_3006 0.0\n",
      "plant_id_3251 0.0\n",
      "plant_id_3254 0.0\n",
      "plant_id_3285 0.0\n",
      "plant_id_3287 0.0\n",
      "plant_id_3291 0.0\n",
      "plant_id_3298 0.0\n",
      "plant_id_3325 0.0\n",
      "plant_id_3393 0.0\n",
      "plant_id_3456 0.0\n",
      "plant_id_3459 0.0\n",
      "plant_id_3476 0.0\n",
      "plant_id_3478 0.0\n",
      "plant_id_3482 0.0\n",
      "plant_id_3559 0.0\n",
      "plant_id_358 0.0\n",
      "plant_id_3601 0.0\n",
      "plant_id_3602 0.0\n",
      "plant_id_3604 0.0\n",
      "plant_id_3611 0.0\n",
      "plant_id_3613 0.0\n",
      "plant_id_3627 0.0\n",
      "plant_id_3630 0.0\n",
      "plant_id_3631 0.0\n",
      "plant_id_3648 0.0\n",
      "plant_id_3775 0.0\n",
      "plant_id_3796 0.0\n",
      "plant_id_3944 0.0\n",
      "plant_id_3982 0.0\n",
      "plant_id_399 0.0\n",
      "plant_id_3991 0.0\n",
      "plant_id_3992 0.0\n",
      "plant_id_400 0.0\n",
      "plant_id_4040 0.0\n",
      "plant_id_4042 0.0\n",
      "plant_id_4048 0.0\n",
      "plant_id_4057 0.0\n",
      "plant_id_4076 0.0\n",
      "plant_id_4195 0.0\n",
      "plant_id_420 0.0\n",
      "plant_id_422 0.0\n",
      "plant_id_4259 0.0\n",
      "plant_id_4266 0.0\n",
      "plant_id_464 0.0\n",
      "plant_id_465 0.0\n",
      "plant_id_468 0.0\n",
      "plant_id_47 0.0\n",
      "plant_id_478 0.0\n",
      "plant_id_493 0.0\n",
      "plant_id_50707 0.0\n",
      "plant_id_51 0.0\n",
      "plant_id_52087 0.0\n",
      "plant_id_550 0.0\n",
      "plant_id_55063 0.0\n",
      "plant_id_55065 0.0\n",
      "plant_id_55111 0.0\n",
      "plant_id_55137 0.0\n",
      "plant_id_55141 0.0\n",
      "plant_id_55154 0.0\n",
      "plant_id_55164 0.0\n",
      "plant_id_55165 0.0\n",
      "plant_id_55173 0.0\n",
      "plant_id_55218 0.0\n",
      "plant_id_55220 0.0\n",
      "plant_id_55221 0.0\n",
      "plant_id_55228 0.0\n",
      "plant_id_55230 0.0\n",
      "plant_id_55244 0.0\n",
      "plant_id_55251 0.0\n",
      "plant_id_55270 0.0\n",
      "plant_id_55276 0.0\n",
      "plant_id_55334 0.0\n",
      "plant_id_55350 0.0\n",
      "plant_id_55364 0.0\n",
      "plant_id_55380 0.0\n",
      "plant_id_55395 0.0\n",
      "plant_id_55402 0.0\n",
      "plant_id_55412 0.0\n",
      "plant_id_55451 0.0\n",
      "plant_id_55455 0.0\n",
      "plant_id_55463 0.0\n",
      "plant_id_55505 0.0\n",
      "plant_id_55514 0.0\n",
      "plant_id_55522 0.0\n",
      "plant_id_55622 0.0\n",
      "plant_id_55641 0.0\n",
      "plant_id_55645 0.0\n",
      "plant_id_55664 0.0\n",
      "plant_id_55687 0.0\n",
      "plant_id_55701 0.0\n",
      "plant_id_55714 0.0\n",
      "plant_id_55718 0.0\n",
      "plant_id_55835 0.0\n",
      "plant_id_55939 0.0\n",
      "plant_id_55951 0.0\n",
      "plant_id_55972 0.0\n",
      "plant_id_55977 0.0\n",
      "plant_id_56018 0.0\n",
      "plant_id_56026 0.0\n",
      "plant_id_56031 0.0\n",
      "plant_id_56078 0.0\n",
      "plant_id_56135 0.0\n",
      "plant_id_56238 0.0\n",
      "plant_id_56239 0.0\n",
      "plant_id_56253 0.0\n",
      "plant_id_56283 0.0\n",
      "plant_id_56292 0.0\n",
      "plant_id_56298 0.0\n",
      "plant_id_56326 0.0\n",
      "plant_id_56476 0.0\n",
      "plant_id_56480 0.0\n",
      "plant_id_56505 0.0\n",
      "plant_id_56532 0.0\n",
      "plant_id_56564 0.0\n",
      "plant_id_56565 0.0\n",
      "plant_id_56569 0.0\n",
      "plant_id_56603 0.0\n",
      "plant_id_56604 0.0\n",
      "plant_id_56606 0.0\n",
      "plant_id_56610 0.0\n",
      "plant_id_56674 0.0\n",
      "plant_id_56786 0.0\n",
      "plant_id_56908 0.0\n",
      "plant_id_57037 0.0\n",
      "plant_id_57703 0.0\n",
      "plant_id_57842 0.0\n",
      "plant_id_57865 0.0\n",
      "plant_id_57881 0.0\n",
      "plant_id_57943 0.0\n",
      "plant_id_57978 0.0\n",
      "plant_id_58236 0.0\n",
      "plant_id_58260 0.0\n",
      "plant_id_58266 0.0\n",
      "plant_id_58503 0.0\n",
      "plant_id_58562 0.0\n",
      "plant_id_58835 0.0\n",
      "plant_id_59220 0.0\n",
      "plant_id_59913 0.0\n",
      "plant_id_59926 0.0\n",
      "plant_id_6002 0.0\n",
      "plant_id_6013 0.0\n",
      "plant_id_6019 0.0\n",
      "plant_id_6034 0.0\n",
      "plant_id_6058 0.0\n",
      "plant_id_6060 0.0\n",
      "plant_id_6074 0.0\n",
      "plant_id_6081 0.0\n",
      "plant_id_6089 0.0\n",
      "plant_id_609 0.0\n",
      "plant_id_6096 0.0\n",
      "plant_id_610 0.0\n",
      "plant_id_6112 0.0\n",
      "plant_id_6124 0.0\n",
      "plant_id_6136 0.0\n",
      "plant_id_6137 0.0\n",
      "plant_id_61643 0.0\n",
      "plant_id_6181 0.0\n",
      "plant_id_6193 0.0\n",
      "plant_id_6194 0.0\n",
      "plant_id_6195 0.0\n",
      "plant_id_620 0.0\n",
      "plant_id_621 0.0\n",
      "plant_id_6210 0.0\n",
      "plant_id_624 0.0\n",
      "plant_id_628 0.0\n",
      "plant_id_6292 0.0\n",
      "plant_id_630 0.0\n",
      "plant_id_6358 0.0\n",
      "plant_id_643 0.0\n",
      "plant_id_645 0.0\n",
      "plant_id_6469 0.0\n",
      "plant_id_6515 0.0\n",
      "plant_id_6558 0.0\n",
      "plant_id_6559 0.0\n",
      "plant_id_658 0.0\n",
      "plant_id_664 0.0\n",
      "plant_id_665 0.0\n",
      "plant_id_672 0.0\n",
      "plant_id_6761 0.0\n",
      "plant_id_683 0.0\n",
      "plant_id_7082 0.0\n",
      "plant_id_7138 0.0\n",
      "plant_id_7210 0.0\n",
      "plant_id_7242 0.0\n",
      "plant_id_7268 0.0\n",
      "plant_id_7286 0.0\n",
      "plant_id_7294 0.0\n",
      "plant_id_7302 0.0\n",
      "plant_id_7307 0.0\n",
      "plant_id_7315 0.0\n",
      "plant_id_7336 0.0\n",
      "plant_id_7350 0.0\n",
      "plant_id_7425 0.0\n",
      "plant_id_7452 0.0\n",
      "plant_id_75 0.0\n",
      "plant_id_7546 0.0\n",
      "plant_id_7604 0.0\n",
      "plant_id_7697 0.0\n",
      "plant_id_7698 0.0\n",
      "plant_id_7706 0.0\n",
      "plant_id_7721 0.0\n",
      "plant_id_7754 0.0\n",
      "plant_id_7757 0.0\n",
      "plant_id_7763 0.0\n",
      "plant_id_7784 0.0\n",
      "plant_id_7813 0.0\n",
      "plant_id_7818 0.0\n",
      "plant_id_7825 0.0\n",
      "plant_id_7842 0.0\n",
      "plant_id_7863 0.0\n",
      "plant_id_7869 0.0\n",
      "plant_id_7870 0.0\n",
      "plant_id_7903 0.0\n",
      "plant_id_7916 0.0\n",
      "plant_id_7917 0.0\n",
      "plant_id_7929 0.0\n",
      "plant_id_7932 0.0\n",
      "plant_id_7947 0.0\n",
      "plant_id_7967 0.0\n",
      "plant_id_7972 0.0\n",
      "plant_id_7975 0.0\n",
      "plant_id_7984 0.0\n",
      "plant_id_7987 0.0\n",
      "plant_id_7988 0.0\n",
      "plant_id_7989 0.0\n",
      "plant_id_8029 0.0\n",
      "plant_id_8037 0.0\n",
      "plant_id_8048 0.0\n",
      "plant_id_8067 0.0\n",
      "plant_id_8831 0.0\n",
      "plant_id_8847 0.0\n",
      "plant_id_8853 0.0\n",
      "plant_id_899 0.0\n",
      "plant_id_9 0.0\n",
      "plant_id_96 0.0\n",
      "plant_id_991 0.0\n",
      "plant_id_997 0.0\n",
      "plant_state_MT 0.0\n",
      "plant_state_ND 0.0\n",
      "plant_state_NH 0.0\n",
      "plant_state_NJ 0.0\n",
      "plant_state_UT 0.0\n",
      "plant_state_VT 0.0\n",
      "plant_state_WV 0.0\n",
      "primary_transportation_mode_RV 0.0\n",
      "primary_transportation_mode_TP 0.0\n",
      "primary_transportation_mode_TR 0.0\n",
      "regulated_REG 0.0\n",
      "secondary_transportation_mode_SP 0.0\n",
      "supplier_1081 MINE 0.0\n",
      "supplier_381 NORTH MINE 0.0\n",
      "supplier_ACADIA PIPELINE PARTNERS 0.0\n",
      "supplier_ADAMS RESOURCES MARKETING 0.0\n",
      "supplier_AGGREGATE 0.0\n",
      "supplier_AITKEN CREEK GAS STORAGE 0.0\n",
      "supplier_ALABAMA GAS 0.0\n",
      "supplier_ALAGAS CO 0.0\n",
      "supplier_ALLEGHENY ENERGY 0.0\n",
      "supplier_ALLIED ENERGY RESOURCES 0.0\n",
      "supplier_AMEREN CILCO 0.0\n",
      "supplier_AMEREN ENERGY 0.0\n",
      "supplier_AMERICAN ELECTRIC POWER (AEP) 0.0\n",
      "supplier_AML&P 0.0\n",
      "supplier_ANAHAU ENERGY 0.0\n",
      "supplier_ANTERO RESOURCES CORPORATION 0.0\n",
      "supplier_ARCADIA 0.0\n",
      "supplier_ARCH COAL SALES 0.0\n",
      "supplier_ARKLA 0.0\n",
      "supplier_ARMSTRONG COAL 0.0\n",
      "supplier_ASCENT RESOURCES - UTICA, LLC 0.0\n",
      "supplier_ASSOCIATED ENERGY 0.0\n",
      "supplier_ATLANTA GAS & LIGHT 0.0\n",
      "supplier_ATMOS 0.0\n",
      "supplier_AUTOMATED PETROLEUM & ENERGY 0.0\n",
      "supplier_B P AMOCO 0.0\n",
      "supplier_BAY GAS PIPELINE 0.0\n",
      "supplier_BGE 0.0\n",
      "supplier_BIOENERGY - WASHINGTON 0.0\n",
      "supplier_BIOURJA 0.0\n",
      "supplier_BLACK HILLS ENERGY 0.0\n",
      "supplier_BLUEWATER 0.0\n",
      "supplier_BP ENERGY COMPANY 0.0\n",
      "supplier_CALIFORNIA DEPARTMENT OF WATER RESOURCES 0.0\n",
      "supplier_CALPINE ENERGY 0.0\n",
      "supplier_CAPITOL ENERGY VENTURES CORP 0.0\n",
      "supplier_CASTLETON 0.0\n",
      "supplier_CENTERPOINT 0.0\n",
      "supplier_CENTRAL CRUDE 0.0\n",
      "supplier_CGKENTUCKY 0.0\n",
      "supplier_CGOhio 0.0\n",
      "supplier_CGT 0.0\n",
      "supplier_CGVirginia 0.0\n",
      "supplier_CHENIERE ENERGY 0.0\n",
      "supplier_CHIEF PETROLEUM 0.0\n",
      "supplier_CIMA 0.0\n",
      "supplier_CITI 0.0\n",
      "supplier_CITIZENS ENERGY GROUP 0.0\n",
      "supplier_CITIZENS GAS 0.0\n",
      "supplier_CITY OF LAKELAND 0.0\n",
      "supplier_CITY OF VERNON 0.0\n",
      "supplier_CLEARWATER ENTERPRISES 0.0\n",
      "supplier_CNX GAS COMPANY LLC 0.0\n",
      "supplier_CNX GAS CORPORATION 0.0\n",
      "supplier_COAL CREEK 0.0\n",
      "supplier_COAL ENERGY 0.0\n",
      "supplier_COAST TO COAST PARTNERS 0.0\n",
      "supplier_COLUMBIA 0.0\n",
      "supplier_COLUMBIA PIPELINE 0.0\n",
      "supplier_CON ED 0.0\n",
      "supplier_CONECTIV ENERGY 0.0\n",
      "supplier_CONEXUS ENERGY,LLC 0.0\n",
      "supplier_CONOCOPHILLIPS CANADA 0.0\n",
      "supplier_CONSOL 0.0\n",
      "supplier_CONSOL ENERGY 0.0\n",
      "supplier_CONTINENTAL 0.0\n",
      "supplier_CONTINUUM 0.0\n",
      "supplier_CONTINUUM ENERGY 0.0\n",
      "supplier_COOK & SONS 0.0\n",
      "supplier_CORAL CANADA-USA 0.0\n",
      "supplier_CORAL ENERGY MANGEMENT 0.0\n",
      "supplier_CP ENERGY MARKETING 0.0\n",
      "supplier_CPENN 0.0\n",
      "supplier_CPEnergySv 0.0\n",
      "supplier_CREDIT SUISSE ENERGY 0.0\n",
      "supplier_CROSS TIMBERS ENERGY LLC 0.0\n",
      "supplier_CSP_SALES 0.0\n",
      "supplier_CYPRESS 0.0\n",
      "supplier_CYPRESS GAS PIPELINE 0.0\n",
      "supplier_ColumbiaTC 0.0\n",
      "supplier_DAKOTA GASIFICATION COMPANY 0.0\n",
      "supplier_DB ENERGY 0.0\n",
      "supplier_DCPMM 0.0\n",
      "supplier_DEAN VENTURES NATURAL GAS TRADING, LLC 0.0\n",
      "supplier_DEFINITE ENERGY GROUP 0.0\n",
      "supplier_DELTA ENERGY 0.0\n",
      "supplier_DEM 0.0\n",
      "supplier_DEVON CANADA 0.0\n",
      "supplier_DILLION ENERGY SERVICE,INC 0.0\n",
      "supplier_DISTR ENSTAR NATURAL GAS 0.0\n",
      "supplier_DISTR ENSTAR NATURAL GAS (#5 & #7) 0.0\n",
      "supplier_DOMINION HOPE 0.0\n",
      "supplier_DOMINION TRANSMISSION 0.0\n",
      "supplier_DTE COAL SERVICES 0.0\n",
      "supplier_DTE GAS RES 0.0\n",
      "supplier_DTI 0.0\n",
      "supplier_DUKE ENERGY CAM 0.0\n",
      "supplier_DUKE ENERGY OHIO 0.0\n",
      "supplier_Duke Energy 0.0\n",
      "supplier_EAST TENNESSEE NATURAL GAS 0.0\n",
      "supplier_ECO  ENERGY 0.0\n",
      "supplier_ECOENEGERY 0.0\n",
      "supplier_ECORP ENERGY MARKETING LLC 0.0\n",
      "supplier_EL PASO 0.0\n",
      "supplier_EL PASO ENERGY 0.0\n",
      "supplier_EL PASO GAS COMPANY 0.0\n",
      "supplier_ELEVATION ENERGY GROUP, LLC 0.0\n",
      "supplier_EMBRIDGE 0.0\n",
      "supplier_EMERA ENERGY SERVICES INC 0.0\n",
      "supplier_EMPIRE ENERGY 0.0\n",
      "supplier_ENABLEER 0.0\n",
      "supplier_ENABLEGT 0.0\n",
      "supplier_ENABLEOK 0.0\n",
      "supplier_ENCANA MARKETING USA 0.0\n",
      "supplier_ENERGY AMERICA 0.0\n",
      "supplier_ENERGY TRANSFER PARTNERS 0.0\n",
      "supplier_ENERVEST 0.0\n",
      "supplier_ENGIE ENERGY MARKETING NA,Inc, 0.0\n",
      "supplier_ENI 0.0\n",
      "supplier_ENLINK MIDSTREAM LLC 0.0\n",
      "supplier_ENOGEX RES 0.0\n",
      "supplier_ENTERGY KOCH 0.0\n",
      "supplier_ENTERPRISE TEXAS PIPELINE 0.0\n",
      "supplier_EOG RESOURCES 0.0\n",
      "supplier_EQT 0.0\n",
      "supplier_EQUITABLE 0.0\n",
      "supplier_EQUITGASCO 0.0\n",
      "supplier_EVERGREEN 0.0\n",
      "supplier_EXXON 0.0\n",
      "supplier_EXXONMOBIL 0.0\n",
      "supplier_Energy Transfer 0.0\n",
      "supplier_FAUSER ENERGY 0.0\n",
      "supplier_FIELDWOOD ENERGY LLC 0.0\n",
      "supplier_FLORIDA GAS UTILITY 0.0\n",
      "supplier_FLORIDA POWER & LIGHT 0.0\n",
      "supplier_FREEPOINT COMMODITIES LLC 0.0\n",
      "supplier_FURIE OPERATING ALASKA, LLC 0.0\n",
      "supplier_GASEARCH 0.0\n",
      "supplier_GOLDMAN SACHS 0.0\n",
      "supplier_GORDONSVILLE 0.0\n",
      "supplier_GULF SOUTH PIPELINE, LP 0.0\n",
      "supplier_GUNVOR USA LLC 0.0\n",
      "supplier_HOUSTON PIPE LINE 0.0\n",
      "supplier_HPL 0.0\n",
      "supplier_Hess Corp 0.0\n",
      "supplier_IDAHO POWER 0.0\n",
      "supplier_IGS 0.0\n",
      "supplier_IGS ENERGY 0.0\n",
      "supplier_INTEGRA 0.0\n",
      "supplier_INTERCON RESOURCES 0.0\n",
      "supplier_INTERRUPTIBLE SPOT MARKET 0.0\n",
      "supplier_Integrys 0.0\n",
      "supplier_JAT OIL 0.0\n",
      "supplier_JEFFERSON ISLAND STORAGE & HUB 0.0\n",
      "supplier_JETCO ENERGY SERVICES 0.0\n",
      "supplier_JLA 0.0\n",
      "supplier_K2 COMMODITIES 0.0\n",
      "supplier_KAISER MARKETING NORTHEAST,LLC 0.0\n",
      "supplier_KANSAS GAS SERVICE 0.0\n",
      "supplier_KAZTEX MANAGEMENT 0.0\n",
      "supplier_KERN RIVER GAS TRANSMISSION 0.0\n",
      "supplier_KINETREX ENERGY 0.0\n",
      "supplier_KM Tejas 0.0\n",
      "supplier_KMPL 0.0\n",
      "supplier_KN MARKETING 0.0\n",
      "supplier_KOCH 0.0\n",
      "supplier_KOCH ENERGY SERVICE (KES) 0.0\n",
      "supplier_KOCH TRADING AND SUPPLIES 0.0\n",
      "supplier_LACLED 0.0\n",
      "supplier_LOUISIANA INTERSTATE GAS 0.0\n",
      "supplier_MAIN STREET NATURAL GAS,Inc 0.0\n",
      "supplier_MANSFIELD 0.0\n",
      "supplier_MARATHON OIL COMPANY 0.0\n",
      "supplier_MARITIMES & NORTHEAST 0.0\n",
      "supplier_MASEFIELD 0.0\n",
      "supplier_MCE 0.0\n",
      "supplier_MCQUARIE COOK ENERGY 0.0\n",
      "supplier_MEMS,INC. 0.0\n",
      "supplier_MERCURIA ENERGY TRADING INC 0.0\n",
      "supplier_MERRIMAC ENERGY GROUP 0.0\n",
      "supplier_MGC 0.0\n",
      "supplier_MICON TEXAS PIPELINE 0.0\n",
      "supplier_MIDCOAST ENERGY PARTNERS,LP. 0.0\n",
      "supplier_MIDSTREAM FUEL SERVICE 0.0\n",
      "supplier_MINNESOTA ENERGY RESOURCES 0.0\n",
      "supplier_MIST NATURAL GAS STORAGE 0.0\n",
      "supplier_MITSUI & CO 0.0\n",
      "supplier_MLGW PIPELINE 0.0\n",
      "supplier_MMGS, Inc. 0.0\n",
      "supplier_MORGAN 0.0\n",
      "supplier_MUNICH RE 0.0\n",
      "supplier_MUNICIPAL GAS AUTHORITY OF GA 0.0\n",
      "supplier_MUNIGAS - MACQUARIE COOK 0.0\n",
      "supplier_MUNIGAS - SHELL ENERGY 0.0\n",
      "supplier_MURPHY GAS MARKETING 0.0\n",
      "supplier_MUSTANG FUEL CORPORATION 0.0\n",
      "supplier_NATIONAL ENERGY & TRADE 0.0\n",
      "supplier_NATIONAL FUEL MARKETING 0.0\n",
      "supplier_NATIONAL GRID 0.0\n",
      "supplier_NATURAL GAS EXCHANGE 0.0\n",
      "supplier_NCGA 0.0\n",
      "supplier_NEW JERSEY NATURAL GAS 0.0\n",
      "supplier_NFMCO 0.0\n",
      "supplier_NICOR 0.0\n",
      "supplier_NIPSCO 0.0\n",
      "supplier_NOBLE AMERICAS 0.0\n",
      "supplier_NORTH BAY ENERGY 0.0\n",
      "supplier_NRG 0.0\n",
      "supplier_NRJ 0.0\n",
      "supplier_Natl Enrgy 0.0\n",
      "supplier_OASIS 0.0\n",
      "supplier_OGT 0.0\n",
      "supplier_OILCO 0.0\n",
      "supplier_OILCO GAS CO.,L.C 0.0\n",
      "supplier_ONE ENERGY MARKETING AND TRADING 0.0\n",
      "supplier_ONEOK ENERGY SERVICES COMPANY, L.P. 0.0\n",
      "supplier_ONEOK PIPELINE 0.0\n",
      "supplier_OXY USA 0.0\n",
      "supplier_OZARK NATURAL GAS 0.0\n",
      "supplier_PAC SUM 0.0\n",
      "supplier_PEABODY 0.0\n",
      "supplier_PEABODY COAL 0.0\n",
      "supplier_PENDING 0.0\n",
      "supplier_PENN OAK SERVICES,LLC. 0.0\n",
      "supplier_PEOPLES GAS 0.0\n",
      "supplier_PHELPS DODGE 0.0\n",
      "supplier_PLAINS ALL AMERICAN NATURAL GAS STORAGE 0.0\n",
      "supplier_PNG MARKETING, LLC 0.0\n",
      "supplier_PORTLAND GENERAL ELECTRIC 0.0\n",
      "supplier_PPL ENERGY 0.0\n",
      "supplier_PPL ENERGY PLUS 0.0\n",
      "supplier_PRIOR ENERGY 0.0\n",
      "supplier_PROGRESS ENERGY 0.0\n",
      "supplier_PSE - NORTHWEST PIPELINE 0.0\n",
      "supplier_PSNC ENERGY 0.0\n",
      "supplier_PUBLIC GAS PARTNERS OPERATING,LLC 0.0\n",
      "supplier_PUBLIC SERVICE 0.0\n",
      "supplier_PUGET SOUND ENERGY 0.0\n",
      "supplier_QEP 0.0\n",
      "supplier_QUESTAR GAS 0.0\n",
      "supplier_RANGE RESOURCES 0.0\n",
      "supplier_RANGEAPP 0.0\n",
      "supplier_RBC CAPITAL MARKETS 0.0\n",
      "supplier_REGENCY IN 0.0\n",
      "supplier_REGENERGY 0.0\n",
      "supplier_RELIANT ENERGY 0.0\n",
      "supplier_RENAISSANCE TRADING 0.0\n",
      "supplier_RENRE 0.0\n",
      "supplier_RICE ENERGY INC. 0.0\n",
      "supplier_ROSA 0.0\n",
      "supplier_Regency GM 0.0\n",
      "supplier_SABINE PASS LIQUEFACTION,LLC 0.0\n",
      "supplier_SAMSON RESOURCES 0.0\n",
      "supplier_SELF-PRODUCED 0.0\n",
      "supplier_SEMPRA ENERGY 0.0\n",
      "supplier_SEMPRA MID 0.0\n",
      "supplier_SEQUENT ENERGY 0.0\n",
      "supplier_SEQUOIA ENERGY 0.0\n",
      "supplier_SHELL CANADA 0.0\n",
      "supplier_SHELL TRADING 0.0\n",
      "supplier_SIERRA PACIFIC 0.0\n",
      "supplier_SJ FUEL CO.,INC 0.0\n",
      "supplier_SJRPP 0.0\n",
      "supplier_SNYDER BROTHERS, INC. 0.0\n",
      "supplier_SNYDER GAS PLANT 0.0\n",
      "supplier_SO JERSEY 0.0\n",
      "supplier_SOUTHCROSS 0.0\n",
      "supplier_SOUTHEAST ALABAMA GAS DISTRICT 0.0\n",
      "supplier_SOUTHERN CAL GAS 0.0\n",
      "supplier_SOUTHERN UNION 0.0\n",
      "supplier_SPIRE, INC. 0.0\n",
      "supplier_STEUBEN COAL ANTHONY MINIBARNESVILLE 0.0\n",
      "supplier_SUNCO 0.0\n",
      "supplier_SUPERIER 0.0\n",
      "supplier_SUPERIOR NATURAL GAS 0.0\n",
      "supplier_SWE ENERGY 0.0\n",
      "supplier_SWESCO 0.0\n",
      "supplier_TAUBER 0.0\n",
      "supplier_TENASKA MARKETING CANADA 0.0\n",
      "supplier_TENASKA POWER SERVICES 0.0\n",
      "supplier_TETCO PIPELINE 0.0\n",
      "supplier_TEXAS EASTERN 0.0\n",
      "supplier_TEXAS EASTERN M3 0.0\n",
      "supplier_TEXAS ENERGY TRANSFER 0.0\n",
      "supplier_TEXON 0.0\n",
      "supplier_TEXPAR ENERGY 0.0\n",
      "supplier_TIDAL ENERGY MARKETING, INC. 0.0\n",
      "supplier_TOTAL GAS & POWER NORTH AMERICA,INC. 0.0\n",
      "supplier_TRANS LOUISIANA GAS PIPELINE 0.0\n",
      "supplier_TRANSALTA ENERGY MARKETING 0.0\n",
      "supplier_TRANSCONTINENTAL GAS 0.0\n",
      "supplier_TRANSPARENT ENERGY, LLC 0.0\n",
      "supplier_TRI-STATE 0.0\n",
      "supplier_TWIN EAGLE 0.0\n",
      "supplier_UNI SOURCE ENERGY 0.0\n",
      "supplier_UNIMARK 0.0\n",
      "supplier_UNIPER GLOBAL COMMODITIES NORTH AMERICA,LLC 0.0\n",
      "supplier_UTILITY RESOURCE SOLUTIONS 0.0\n",
      "supplier_United 0.0\n",
      "supplier_VEPM 0.0\n",
      "supplier_VERMONT GAS SYSTEMS 0.0\n",
      "supplier_VIRGINIA FUEL CORP 0.0\n",
      "supplier_VITOL 0.0\n",
      "supplier_WATERFRONT 0.0\n",
      "supplier_WELLS FARGO COMMODITIES 0.0\n",
      "supplier_WILLIAMS ENERGY 0.0\n",
      "supplier_WILLIAMS PIPELINE 0.0\n",
      "supplier_WILLISTON BASIN INTERSTATE PiPELINE 0.0\n",
      "supplier_WOODWARD 0.0\n",
      "supplier_WORLD FUEL SERVICES INC. 0.0\n",
      "supplier_Wells 0.0\n",
      "supplier_XCEL ENERGY 0.0\n",
      "supplier_XTO ENERGY 0.0\n",
      "supplier_YAKA ENERGY 0.0\n",
      "nerc_region_ASCC 0.0\n",
      "nerc_region_N/A 0.0\n"
     ]
    }
   ],
   "source": [
    "for a,b in sorted(zip(X.columns, results.feature_importances_), key=lambda x: x[1], reverse=True):\n",
    "    print(a,b)"
   ]
  },
  {
   "cell_type": "markdown",
   "metadata": {
    "heading_collapsed": true
   },
   "source": [
    "# Analyze False Positives and Negatives"
   ]
  },
  {
   "cell_type": "code",
   "execution_count": 13,
   "metadata": {
    "ExecuteTime": {
     "end_time": "2019-07-25T14:54:58.181137Z",
     "start_time": "2019-07-25T14:54:50.017759Z"
    },
    "hidden": true
   },
   "outputs": [],
   "source": [
    "y_pred = results.predict(X)"
   ]
  },
  {
   "cell_type": "code",
   "execution_count": 14,
   "metadata": {
    "ExecuteTime": {
     "end_time": "2019-07-25T14:55:04.965110Z",
     "start_time": "2019-07-25T14:55:04.934236Z"
    },
    "hidden": true
   },
   "outputs": [],
   "source": [
    "wrongs = (y_pred != y)"
   ]
  },
  {
   "cell_type": "code",
   "execution_count": 15,
   "metadata": {
    "ExecuteTime": {
     "end_time": "2019-07-25T14:55:11.755288Z",
     "start_time": "2019-07-25T14:55:11.722378Z"
    },
    "hidden": true,
    "scrolled": true
   },
   "outputs": [],
   "source": [
    "df_ng[\"wrong\"] = wrongs"
   ]
  },
  {
   "cell_type": "code",
   "execution_count": 17,
   "metadata": {
    "ExecuteTime": {
     "end_time": "2019-07-25T14:55:59.280011Z",
     "start_time": "2019-07-25T14:55:59.256686Z"
    },
    "hidden": true
   },
   "outputs": [
    {
     "data": {
      "text/plain": [
       "1    207599\n",
       "0     60855\n",
       "Name: natural_gas_delivery_contract_type_N/A, dtype: int64"
      ]
     },
     "execution_count": 17,
     "metadata": {},
     "output_type": "execute_result"
    }
   ],
   "source": [
    "df_ng[\"natural_gas_delivery_contract_type_N/A\"].value_counts()"
   ]
  },
  {
   "cell_type": "code",
   "execution_count": 16,
   "metadata": {
    "ExecuteTime": {
     "end_time": "2019-07-25T14:55:35.852094Z",
     "start_time": "2019-07-25T14:55:35.557387Z"
    },
    "hidden": true,
    "scrolled": true
   },
   "outputs": [
    {
     "data": {
      "text/plain": [
       "1    3031\n",
       "0     187\n",
       "Name: natural_gas_delivery_contract_type_N/A, dtype: int64"
      ]
     },
     "execution_count": 16,
     "metadata": {},
     "output_type": "execute_result"
    }
   ],
   "source": [
    "df_ng[df_ng[\"wrong\"] == True][\"natural_gas_delivery_contract_type_N/A\"].value_counts()"
   ]
  },
  {
   "cell_type": "code",
   "execution_count": 20,
   "metadata": {
    "ExecuteTime": {
     "end_time": "2019-07-25T14:57:04.884871Z",
     "start_time": "2019-07-25T14:57:04.875654Z"
    },
    "hidden": true
   },
   "outputs": [
    {
     "name": "stdout",
     "output_type": "stream",
     "text": [
      "0.061695809963708347\n",
      "0.2931372501794325\n"
     ]
    }
   ],
   "source": [
    "print(187/3031)\n",
    "print(60855/207599)"
   ]
  },
  {
   "cell_type": "markdown",
   "metadata": {
    "hidden": true
   },
   "source": [
    "After some trial and error, large number of incorrect values have a delivery contract of \"N/A\". Maybe we can subset the data of those values and use a separate model."
   ]
  },
  {
   "cell_type": "markdown",
   "metadata": {
    "heading_collapsed": true
   },
   "source": [
    "# Subsetting the Data  Part 1 - Where Delivery Contract != N/A"
   ]
  },
  {
   "cell_type": "code",
   "execution_count": 208,
   "metadata": {
    "ExecuteTime": {
     "end_time": "2019-07-29T18:59:21.997145Z",
     "start_time": "2019-07-29T18:59:06.012458Z"
    },
    "hidden": true
   },
   "outputs": [],
   "source": [
    "df_ng = get_ng()\n",
    "df_ng2 = df_ng[(df_ng[\"natural_gas_delivery_contract_type_N/A\"] != 1)].copy()\n",
    "len(df_ng2)\n",
    "X = df_ng2.drop(columns=\"fuel_cost\")\n",
    "y = (df_ng2.fuel_cost > df_ng.fuel_cost.quantile(.8))\n",
    "X_train, X_test, y_train, y_test = train_test_split(X, y, test_size = 0.2)\n",
    "\n",
    "model = DecisionTreeClassifier(random_state=23, max_depth=10)\n",
    "results = model.fit(X_train, y_train)"
   ]
  },
  {
   "cell_type": "code",
   "execution_count": 209,
   "metadata": {
    "ExecuteTime": {
     "end_time": "2019-07-29T18:59:32.699796Z",
     "start_time": "2019-07-29T18:59:32.407749Z"
    },
    "hidden": true
   },
   "outputs": [
    {
     "name": "stdout",
     "output_type": "stream",
     "text": [
      "Precision: 0.9473684210526315\n",
      "Recall: 0.23309352517985613\n",
      "F1: 0.3741339491916859\n",
      "       0    1\n",
      "0  11467    9\n",
      "1    533  162\n",
      "Cost Function: -0.000806424142716807\n"
     ]
    }
   ],
   "source": [
    "y_pred = results.predict(X_test)\n",
    "get_scores(y_test, y_pred, X_test)"
   ]
  },
  {
   "cell_type": "markdown",
   "metadata": {
    "hidden": true
   },
   "source": [
    "F1 score here is worse, as well as cost, as might be predicted. Although precision is good. \n",
    "Running cross_val to see more.\n",
    "Something about when the delivery contract is known makes prices more unpredictable?"
   ]
  },
  {
   "cell_type": "code",
   "execution_count": 210,
   "metadata": {
    "ExecuteTime": {
     "end_time": "2019-07-29T18:59:42.903128Z",
     "start_time": "2019-07-29T18:59:42.688880Z"
    },
    "hidden": true
   },
   "outputs": [
    {
     "data": {
      "text/plain": [
       "0.7289548911585265"
      ]
     },
     "execution_count": 210,
     "metadata": {},
     "output_type": "execute_result"
    }
   ],
   "source": [
    "get_auc(results, y_test, y_pred)"
   ]
  },
  {
   "cell_type": "code",
   "execution_count": 127,
   "metadata": {
    "ExecuteTime": {
     "end_time": "2019-07-29T16:13:27.226686Z",
     "start_time": "2019-07-29T16:13:08.518835Z"
    },
    "hidden": true,
    "scrolled": false
   },
   "outputs": [
    {
     "name": "stdout",
     "output_type": "stream",
     "text": [
      "Precision: 0.7884615384615384\n",
      "Recall: 0.11614730878186968\n",
      "F1: 0.2024691358024691\n",
      "       0   1\n",
      "0  11444  22\n",
      "1    624  82\n",
      "Cost Function: -0.00022294912627997165\n",
      "       0   1\n",
      "0  11444  22\n",
      "1    624  82\n",
      "Precision: 0.8841059602649006\n",
      "Recall: 0.3781869688385269\n",
      "F1: 0.5297619047619048\n",
      "       0    1\n",
      "0  11430   35\n",
      "1    439  267\n",
      "Cost Function: -0.002058624514887794\n",
      "       0    1\n",
      "0  11430   35\n",
      "1    439  267\n",
      "Precision: 0.8888888888888888\n",
      "Recall: 0.28328611898017\n",
      "F1: 0.4296455424274973\n",
      "       0    1\n",
      "0  11440   25\n",
      "1    506  200\n",
      "Cost Function: -0.0014410330745351942\n",
      "       0    1\n",
      "0  11440   25\n",
      "1    506  200\n",
      "Precision: 0.9125\n",
      "Recall: 0.20679886685552407\n",
      "F1: 0.3371824480369515\n",
      "       0    1\n",
      "0  11451   14\n",
      "1    560  146\n",
      "Cost Function: -0.0013844365181518124\n",
      "       0    1\n",
      "0  11451   14\n",
      "1    560  146\n",
      "Precision: 0.9210526315789473\n",
      "Recall: 0.14893617021276595\n",
      "F1: 0.2564102564102564\n",
      "       0    1\n",
      "0  11456    9\n",
      "1    600  105\n",
      "Cost Function: -0.0006959528478685768\n",
      "       0    1\n",
      "0  11456    9\n",
      "1    600  105\n"
     ]
    },
    {
     "data": {
      "text/plain": [
       "array([-0.00022295, -0.00205862, -0.00144103, -0.00138444, -0.00069595])"
      ]
     },
     "execution_count": 127,
     "metadata": {},
     "output_type": "execute_result"
    }
   ],
   "source": [
    "cross_val_score(results, X, y, scoring=coster, cv=5)"
   ]
  },
  {
   "cell_type": "markdown",
   "metadata": {
    "hidden": true
   },
   "source": [
    "Good thing is very few false negatives, good precision. All the cost values are negative, but not by much. "
   ]
  },
  {
   "cell_type": "code",
   "execution_count": 226,
   "metadata": {
    "ExecuteTime": {
     "end_time": "2019-07-29T21:26:59.666777Z",
     "start_time": "2019-07-29T21:26:59.644339Z"
    },
    "hidden": true
   },
   "outputs": [
    {
     "data": {
      "text/plain": [
       "-0.001160598"
      ]
     },
     "execution_count": 226,
     "metadata": {},
     "output_type": "execute_result"
    }
   ],
   "source": [
    "np.mean([-0.00022295, -0.00205862, -0.00144103, -0.00138444, -0.00069595])"
   ]
  },
  {
   "cell_type": "code",
   "execution_count": 128,
   "metadata": {
    "ExecuteTime": {
     "end_time": "2019-07-29T16:14:23.094062Z",
     "start_time": "2019-07-29T16:14:22.060227Z"
    },
    "hidden": true
   },
   "outputs": [],
   "source": [
    "y_pred = results.predict(X)"
   ]
  },
  {
   "cell_type": "code",
   "execution_count": 129,
   "metadata": {
    "ExecuteTime": {
     "end_time": "2019-07-29T16:14:33.178472Z",
     "start_time": "2019-07-29T16:14:33.172991Z"
    },
    "hidden": true
   },
   "outputs": [],
   "source": [
    "wrong = (y != y_pred)"
   ]
  },
  {
   "cell_type": "code",
   "execution_count": 130,
   "metadata": {
    "ExecuteTime": {
     "end_time": "2019-07-29T16:14:43.588454Z",
     "start_time": "2019-07-29T16:14:43.580232Z"
    },
    "hidden": true
   },
   "outputs": [],
   "source": [
    "df_ng2[\"wrong\"] = wrong"
   ]
  },
  {
   "cell_type": "markdown",
   "metadata": {},
   "source": [
    "# Identify Additional Features That Might Be Associated with Innaccurate Predictions\n",
    "i.e. volatile predictors"
   ]
  },
  {
   "cell_type": "code",
   "execution_count": 70,
   "metadata": {
    "ExecuteTime": {
     "end_time": "2019-07-25T15:36:17.747404Z",
     "start_time": "2019-07-25T15:36:17.708846Z"
    }
   },
   "outputs": [],
   "source": [
    "df_ng4 = df_ng2[df_ng2[\"wrong\"] == True]"
   ]
  },
  {
   "cell_type": "code",
   "execution_count": 206,
   "metadata": {
    "ExecuteTime": {
     "end_time": "2019-07-25T18:30:23.916847Z",
     "start_time": "2019-07-25T18:30:23.602951Z"
    }
   },
   "outputs": [],
   "source": [
    "other_cols = []\n",
    "for col in df_ng4.columns:\n",
    "    sum_ = df_ng4[col].sum()\n",
    "    if sum_ >0: other_cols.append(col)\n"
   ]
  },
  {
   "cell_type": "code",
   "execution_count": 89,
   "metadata": {
    "ExecuteTime": {
     "end_time": "2019-07-25T15:44:59.760578Z",
     "start_time": "2019-07-25T15:44:59.560728Z"
    },
    "scrolled": true
   },
   "outputs": [
    {
     "data": {
      "text/html": [
       "<div>\n",
       "<style scoped>\n",
       "    .dataframe tbody tr th:only-of-type {\n",
       "        vertical-align: middle;\n",
       "    }\n",
       "\n",
       "    .dataframe tbody tr th {\n",
       "        vertical-align: top;\n",
       "    }\n",
       "\n",
       "    .dataframe thead th {\n",
       "        text-align: right;\n",
       "    }\n",
       "</style>\n",
       "<table border=\"1\" class=\"dataframe\">\n",
       "  <thead>\n",
       "    <tr style=\"text-align: right;\">\n",
       "      <th></th>\n",
       "      <th>index</th>\n",
       "      <th>0</th>\n",
       "    </tr>\n",
       "  </thead>\n",
       "  <tbody>\n",
       "    <tr>\n",
       "      <th>1</th>\n",
       "      <td>quantity</td>\n",
       "      <td>1.728757e+08</td>\n",
       "    </tr>\n",
       "    <tr>\n",
       "      <th>0</th>\n",
       "      <td>fuel_cost</td>\n",
       "      <td>6.623665e+07</td>\n",
       "    </tr>\n",
       "    <tr>\n",
       "      <th>4</th>\n",
       "      <td>number_affected</td>\n",
       "      <td>5.058808e+06</td>\n",
       "    </tr>\n",
       "    <tr>\n",
       "      <th>10</th>\n",
       "      <td>natural_gas_transportation_service_N/A</td>\n",
       "      <td>1.353000e+03</td>\n",
       "    </tr>\n",
       "    <tr>\n",
       "      <th>347</th>\n",
       "      <td>secondary_transportation_mode_N/A</td>\n",
       "      <td>1.353000e+03</td>\n",
       "    </tr>\n",
       "    <tr>\n",
       "      <th>344</th>\n",
       "      <td>regulated_REG</td>\n",
       "      <td>1.353000e+03</td>\n",
       "    </tr>\n",
       "    <tr>\n",
       "      <th>340</th>\n",
       "      <td>primary_transportation_mode_PL</td>\n",
       "      <td>1.353000e+03</td>\n",
       "    </tr>\n",
       "    <tr>\n",
       "      <th>489</th>\n",
       "      <td>wrong</td>\n",
       "      <td>1.353000e+03</td>\n",
       "    </tr>\n",
       "    <tr>\n",
       "      <th>5</th>\n",
       "      <td>contract_type_N/A</td>\n",
       "      <td>1.353000e+03</td>\n",
       "    </tr>\n",
       "    <tr>\n",
       "      <th>471</th>\n",
       "      <td>combined_heat_and_power_plant_N</td>\n",
       "      <td>1.317000e+03</td>\n",
       "    </tr>\n",
       "    <tr>\n",
       "      <th>343</th>\n",
       "      <td>purchase_type_S</td>\n",
       "      <td>1.109000e+03</td>\n",
       "    </tr>\n",
       "    <tr>\n",
       "      <th>346</th>\n",
       "      <td>reporting_frequency_M</td>\n",
       "      <td>1.074000e+03</td>\n",
       "    </tr>\n",
       "    <tr>\n",
       "      <th>2</th>\n",
       "      <td>mmbtu_per_unit_gen</td>\n",
       "      <td>1.059780e+03</td>\n",
       "    </tr>\n",
       "    <tr>\n",
       "      <th>6</th>\n",
       "      <td>natural_gas_delivery_contract_type_F</td>\n",
       "      <td>8.800000e+02</td>\n",
       "    </tr>\n",
       "    <tr>\n",
       "      <th>8</th>\n",
       "      <td>natural_gas_supply_contract_type_F</td>\n",
       "      <td>8.650000e+02</td>\n",
       "    </tr>\n",
       "    <tr>\n",
       "      <th>479</th>\n",
       "      <td>nerc_region_SERC</td>\n",
       "      <td>5.520000e+02</td>\n",
       "    </tr>\n",
       "    <tr>\n",
       "      <th>9</th>\n",
       "      <td>natural_gas_supply_contract_type_I</td>\n",
       "      <td>4.880000e+02</td>\n",
       "    </tr>\n",
       "    <tr>\n",
       "      <th>7</th>\n",
       "      <td>natural_gas_delivery_contract_type_I</td>\n",
       "      <td>4.730000e+02</td>\n",
       "    </tr>\n",
       "    <tr>\n",
       "      <th>486</th>\n",
       "      <td>reported_prime_mover_GT</td>\n",
       "      <td>4.540000e+02</td>\n",
       "    </tr>\n",
       "    <tr>\n",
       "      <th>488</th>\n",
       "      <td>reported_prime_mover_ST</td>\n",
       "      <td>3.830000e+02</td>\n",
       "    </tr>\n",
       "    <tr>\n",
       "      <th>345</th>\n",
       "      <td>reporting_frequency_A</td>\n",
       "      <td>2.790000e+02</td>\n",
       "    </tr>\n",
       "    <tr>\n",
       "      <th>482</th>\n",
       "      <td>nerc_region_WECC</td>\n",
       "      <td>2.530000e+02</td>\n",
       "    </tr>\n",
       "    <tr>\n",
       "      <th>483</th>\n",
       "      <td>reported_prime_mover_CA</td>\n",
       "      <td>2.480000e+02</td>\n",
       "    </tr>\n",
       "    <tr>\n",
       "      <th>485</th>\n",
       "      <td>reported_prime_mover_CT</td>\n",
       "      <td>2.480000e+02</td>\n",
       "    </tr>\n",
       "    <tr>\n",
       "      <th>341</th>\n",
       "      <td>purchase_type_C</td>\n",
       "      <td>2.420000e+02</td>\n",
       "    </tr>\n",
       "    <tr>\n",
       "      <th>463</th>\n",
       "      <td>supplier_VARIOUS (NATURAL GAS SPOT PURCHASES O...</td>\n",
       "      <td>2.300000e+02</td>\n",
       "    </tr>\n",
       "    <tr>\n",
       "      <th>336</th>\n",
       "      <td>plant_state_VA</td>\n",
       "      <td>2.130000e+02</td>\n",
       "    </tr>\n",
       "    <tr>\n",
       "      <th>475</th>\n",
       "      <td>nerc_region_MRO</td>\n",
       "      <td>1.940000e+02</td>\n",
       "    </tr>\n",
       "    <tr>\n",
       "      <th>59</th>\n",
       "      <td>operator_id_19876.0</td>\n",
       "      <td>1.870000e+02</td>\n",
       "    </tr>\n",
       "    <tr>\n",
       "      <th>466</th>\n",
       "      <td>supplier_VIRGINIA POWER SERVICES ENERGY</td>\n",
       "      <td>1.860000e+02</td>\n",
       "    </tr>\n",
       "    <tr>\n",
       "      <th>322</th>\n",
       "      <td>plant_state_NC</td>\n",
       "      <td>1.300000e+02</td>\n",
       "    </tr>\n",
       "    <tr>\n",
       "      <th>478</th>\n",
       "      <td>nerc_region_RFC</td>\n",
       "      <td>1.030000e+02</td>\n",
       "    </tr>\n",
       "    <tr>\n",
       "      <th>3</th>\n",
       "      <td>disturbance_events</td>\n",
       "      <td>9.500000e+01</td>\n",
       "    </tr>\n",
       "    <tr>\n",
       "      <th>71</th>\n",
       "      <td>operator_id_3046.0</td>\n",
       "      <td>9.000000e+01</td>\n",
       "    </tr>\n",
       "    <tr>\n",
       "      <th>477</th>\n",
       "      <td>nerc_region_NPCC</td>\n",
       "      <td>8.600000e+01</td>\n",
       "    </tr>\n",
       "    <tr>\n",
       "      <th>480</th>\n",
       "      <td>nerc_region_SPP</td>\n",
       "      <td>7.800000e+01</td>\n",
       "    </tr>\n",
       "    <tr>\n",
       "      <th>183</th>\n",
       "      <td>plant_id_54844</td>\n",
       "      <td>6.400000e+01</td>\n",
       "    </tr>\n",
       "    <tr>\n",
       "      <th>303</th>\n",
       "      <td>plant_state_AZ</td>\n",
       "      <td>5.900000e+01</td>\n",
       "    </tr>\n",
       "    <tr>\n",
       "      <th>306</th>\n",
       "      <td>plant_state_FL</td>\n",
       "      <td>5.200000e+01</td>\n",
       "    </tr>\n",
       "    <tr>\n",
       "      <th>332</th>\n",
       "      <td>plant_state_SC</td>\n",
       "      <td>5.100000e+01</td>\n",
       "    </tr>\n",
       "    <tr>\n",
       "      <th>330</th>\n",
       "      <td>plant_state_OK</td>\n",
       "      <td>5.000000e+01</td>\n",
       "    </tr>\n",
       "    <tr>\n",
       "      <th>82</th>\n",
       "      <td>operator_id_5416.0</td>\n",
       "      <td>4.900000e+01</td>\n",
       "    </tr>\n",
       "    <tr>\n",
       "      <th>56</th>\n",
       "      <td>operator_id_19436.0</td>\n",
       "      <td>4.800000e+01</td>\n",
       "    </tr>\n",
       "    <tr>\n",
       "      <th>31</th>\n",
       "      <td>operator_id_13781.0</td>\n",
       "      <td>4.700000e+01</td>\n",
       "    </tr>\n",
       "    <tr>\n",
       "      <th>45</th>\n",
       "      <td>operator_id_16572.0</td>\n",
       "      <td>4.600000e+01</td>\n",
       "    </tr>\n",
       "    <tr>\n",
       "      <th>314</th>\n",
       "      <td>plant_state_LA</td>\n",
       "      <td>4.500000e+01</td>\n",
       "    </tr>\n",
       "    <tr>\n",
       "      <th>318</th>\n",
       "      <td>plant_state_MN</td>\n",
       "      <td>4.400000e+01</td>\n",
       "    </tr>\n",
       "    <tr>\n",
       "      <th>319</th>\n",
       "      <td>plant_state_MO</td>\n",
       "      <td>4.400000e+01</td>\n",
       "    </tr>\n",
       "    <tr>\n",
       "      <th>339</th>\n",
       "      <td>plant_state_WY</td>\n",
       "      <td>4.300000e+01</td>\n",
       "    </tr>\n",
       "    <tr>\n",
       "      <th>308</th>\n",
       "      <td>plant_state_IA</td>\n",
       "      <td>4.300000e+01</td>\n",
       "    </tr>\n",
       "  </tbody>\n",
       "</table>\n",
       "</div>"
      ],
      "text/plain": [
       "                                                 index             0\n",
       "1                                             quantity  1.728757e+08\n",
       "0                                            fuel_cost  6.623665e+07\n",
       "4                                      number_affected  5.058808e+06\n",
       "10              natural_gas_transportation_service_N/A  1.353000e+03\n",
       "347                  secondary_transportation_mode_N/A  1.353000e+03\n",
       "344                                      regulated_REG  1.353000e+03\n",
       "340                     primary_transportation_mode_PL  1.353000e+03\n",
       "489                                              wrong  1.353000e+03\n",
       "5                                    contract_type_N/A  1.353000e+03\n",
       "471                    combined_heat_and_power_plant_N  1.317000e+03\n",
       "343                                    purchase_type_S  1.109000e+03\n",
       "346                              reporting_frequency_M  1.074000e+03\n",
       "2                                   mmbtu_per_unit_gen  1.059780e+03\n",
       "6                 natural_gas_delivery_contract_type_F  8.800000e+02\n",
       "8                   natural_gas_supply_contract_type_F  8.650000e+02\n",
       "479                                   nerc_region_SERC  5.520000e+02\n",
       "9                   natural_gas_supply_contract_type_I  4.880000e+02\n",
       "7                 natural_gas_delivery_contract_type_I  4.730000e+02\n",
       "486                            reported_prime_mover_GT  4.540000e+02\n",
       "488                            reported_prime_mover_ST  3.830000e+02\n",
       "345                              reporting_frequency_A  2.790000e+02\n",
       "482                                   nerc_region_WECC  2.530000e+02\n",
       "483                            reported_prime_mover_CA  2.480000e+02\n",
       "485                            reported_prime_mover_CT  2.480000e+02\n",
       "341                                    purchase_type_C  2.420000e+02\n",
       "463  supplier_VARIOUS (NATURAL GAS SPOT PURCHASES O...  2.300000e+02\n",
       "336                                     plant_state_VA  2.130000e+02\n",
       "475                                    nerc_region_MRO  1.940000e+02\n",
       "59                                 operator_id_19876.0  1.870000e+02\n",
       "466            supplier_VIRGINIA POWER SERVICES ENERGY  1.860000e+02\n",
       "322                                     plant_state_NC  1.300000e+02\n",
       "478                                    nerc_region_RFC  1.030000e+02\n",
       "3                                   disturbance_events  9.500000e+01\n",
       "71                                  operator_id_3046.0  9.000000e+01\n",
       "477                                   nerc_region_NPCC  8.600000e+01\n",
       "480                                    nerc_region_SPP  7.800000e+01\n",
       "183                                     plant_id_54844  6.400000e+01\n",
       "303                                     plant_state_AZ  5.900000e+01\n",
       "306                                     plant_state_FL  5.200000e+01\n",
       "332                                     plant_state_SC  5.100000e+01\n",
       "330                                     plant_state_OK  5.000000e+01\n",
       "82                                  operator_id_5416.0  4.900000e+01\n",
       "56                                 operator_id_19436.0  4.800000e+01\n",
       "31                                 operator_id_13781.0  4.700000e+01\n",
       "45                                 operator_id_16572.0  4.600000e+01\n",
       "314                                     plant_state_LA  4.500000e+01\n",
       "318                                     plant_state_MN  4.400000e+01\n",
       "319                                     plant_state_MO  4.400000e+01\n",
       "339                                     plant_state_WY  4.300000e+01\n",
       "308                                     plant_state_IA  4.300000e+01"
      ]
     },
     "execution_count": 89,
     "metadata": {},
     "output_type": "execute_result"
    }
   ],
   "source": [
    "df_ng4[other_cols].sum().reset_index().sort_values(0, ascending=False)[0:50]"
   ]
  },
  {
   "cell_type": "code",
   "execution_count": 268,
   "metadata": {
    "ExecuteTime": {
     "end_time": "2019-07-25T19:24:50.319210Z",
     "start_time": "2019-07-25T19:24:32.869339Z"
    }
   },
   "outputs": [
    {
     "name": "stdout",
     "output_type": "stream",
     "text": [
      "0.5309278350515464\n",
      "      0    1\n",
      "0  9043    1\n",
      "1   181  103\n"
     ]
    },
    {
     "data": {
      "text/plain": [
       "0.9810677530017152"
      ]
     },
     "execution_count": 268,
     "metadata": {},
     "output_type": "execute_result"
    }
   ],
   "source": [
    "df_ng = get_ng()\n",
    "df_ng5 = df_ng[(df_ng[\"natural_gas_delivery_contract_type_F\"] == 1) & \\\n",
    "              (df_ng[\"natural_gas_delivery_contract_type_N/A\"] != 1)]\n",
    "X = df_ng5.drop(columns=\"fuel_cost\")\n",
    "y = (df_ng5.fuel_cost > df_ng.fuel_cost.quantile(.8))\n",
    "X_train, X_test, y_train, y_test = train_test_split(X, y, test_size = 0.2)\n",
    "model = DecisionTreeClassifier(random_state=23, max_depth=10)\n",
    "results = model.fit(X_train, y_train)\n",
    "\n",
    "y_pred = results.predict(X_test)\n",
    "get_scores(y_test, y_pred, X_test)"
   ]
  },
  {
   "cell_type": "code",
   "execution_count": 47,
   "metadata": {
    "ExecuteTime": {
     "end_time": "2019-07-26T20:03:12.404185Z",
     "start_time": "2019-07-26T20:02:57.627984Z"
    }
   },
   "outputs": [
    {
     "name": "stdout",
     "output_type": "stream",
     "text": [
      "Precision: 0.9111111111111111\n",
      "Recall: 0.47674418604651164\n",
      "F1: 0.6259541984732825\n",
      "      0    1\n",
      "0  8449   12\n",
      "1   135  123\n",
      "Cost Function: -0.0032483153643423587\n"
     ]
    }
   ],
   "source": [
    "df_ng = get_ng()\n",
    "df_ng5 = df_ng[(df_ng[\"nerc_region_SERC\"] != 1) & \\\n",
    "              (df_ng[\"natural_gas_delivery_contract_type_N/A\"] != 1)]\n",
    "X = df_ng5.drop(columns=\"fuel_cost\")\n",
    "y = (df_ng5.fuel_cost > df_ng.fuel_cost.quantile(.8))\n",
    "X_train, X_test, y_train, y_test = train_test_split(X, y, test_size = 0.2)\n",
    "\n",
    "model = DecisionTreeClassifier(random_state=23, max_depth=10)\n",
    "results = model.fit(X_train, y_train)\n",
    "y_pred = results.predict(X_test)\n",
    "\n",
    "get_scores(y_test, y_pred, X_test)\n"
   ]
  },
  {
   "cell_type": "code",
   "execution_count": 46,
   "metadata": {
    "ExecuteTime": {
     "end_time": "2019-07-26T20:02:47.742956Z",
     "start_time": "2019-07-26T20:02:32.176717Z"
    }
   },
   "outputs": [
    {
     "name": "stdout",
     "output_type": "stream",
     "text": [
      "Precision: 0.7272727272727273\n",
      "Recall: 0.41379310344827586\n",
      "F1: 0.5274725274725275\n",
      "      0   1\n",
      "0  2911  18\n",
      "1    68  48\n",
      "Cost Function: -0.0027501330603776197\n"
     ]
    }
   ],
   "source": [
    "df_ng = get_ng()\n",
    "df_ng5 = df_ng[(df_ng[\"natural_gas_supply_contract_type_I\"] == 1) & \\\n",
    "              (df_ng[\"natural_gas_delivery_contract_type_N/A\"] != 1)]\n",
    "X = df_ng5.drop(columns=\"fuel_cost\")\n",
    "y = (df_ng5.fuel_cost > df_ng.fuel_cost.quantile(.8))\n",
    "X_train, X_test, y_train, y_test = train_test_split(X, y, test_size = 0.2)\n",
    "model = DecisionTreeClassifier(random_state=23, max_depth=10)\n",
    "results = model.fit(X_train, y_train)\n",
    "\n",
    "y_pred = results.predict(X_test)\n",
    "get_scores(y_test, y_pred, X_test)\n",
    "\n"
   ]
  },
  {
   "cell_type": "code",
   "execution_count": 229,
   "metadata": {
    "ExecuteTime": {
     "end_time": "2019-07-29T21:31:54.206855Z",
     "start_time": "2019-07-29T21:31:33.543452Z"
    }
   },
   "outputs": [
    {
     "name": "stdout",
     "output_type": "stream",
     "text": [
      "Precision: 0.864406779661017\n",
      "Recall: 0.53125\n",
      "F1: 0.6580645161290324\n",
      "      0    1\n",
      "0  1589   16\n",
      "1    90  102\n",
      "Cost Function: -0.030956524926279174\n"
     ]
    }
   ],
   "source": [
    "df_ng = get_ng()\n",
    "df_ng5 = df_ng[(df_ng[\"reporting_frequency_A\"] == 1) & \\\n",
    "              (df_ng[\"natural_gas_delivery_contract_type_N/A\"] != 1)]\n",
    "X = df_ng5.drop(columns=\"fuel_cost\")\n",
    "y = (df_ng5.fuel_cost > df_ng.fuel_cost.quantile(.8))\n",
    "X_train, X_test, y_train, y_test = train_test_split(X, y, test_size = 0.2)\n",
    "model = DecisionTreeClassifier(random_state=23, max_depth=10)\n",
    "results = model.fit(X_train, y_train)\n",
    "\n",
    "y_pred = results.predict(X_test)\n",
    "get_scores(y_test, y_pred, X_test)\n"
   ]
  },
  {
   "cell_type": "markdown",
   "metadata": {},
   "source": [
    "Ok, maybe we've found the volatility feature. Automatic reporting with a specified delivery contract can be modeled decently, but manual reporting is maybe erratic?"
   ]
  },
  {
   "cell_type": "code",
   "execution_count": 230,
   "metadata": {
    "ExecuteTime": {
     "end_time": "2019-07-29T21:32:12.730380Z",
     "start_time": "2019-07-29T21:32:11.059968Z"
    },
    "scrolled": true
   },
   "outputs": [
    {
     "name": "stdout",
     "output_type": "stream",
     "text": [
      "Precision: 0.9090909090909091\n",
      "Recall: 0.2631578947368421\n",
      "F1: 0.4081632653061224\n",
      "      0   1\n",
      "0  1602   5\n",
      "1   140  50\n",
      "Cost Function: -0.024561188052915052\n",
      "      0   1\n",
      "0  1602   5\n",
      "1   140  50\n",
      "Precision: 0.8741258741258742\n",
      "Recall: 0.6578947368421053\n",
      "F1: 0.7507507507507508\n",
      "      0    1\n",
      "0  1589   18\n",
      "1    65  125\n",
      "Cost Function: -0.04036119427739065\n",
      "      0    1\n",
      "0  1589   18\n",
      "1    65  125\n",
      "Precision: 0.8888888888888888\n",
      "Recall: 0.7157894736842105\n",
      "F1: 0.7930029154518949\n",
      "      0    1\n",
      "0  1590   17\n",
      "1    54  136\n",
      "Cost Function: -0.04241117274990806\n",
      "      0    1\n",
      "0  1590   17\n",
      "1    54  136\n",
      "Precision: 0.8682170542635659\n",
      "Recall: 0.5925925925925926\n",
      "F1: 0.7044025157232704\n",
      "      0    1\n",
      "0  1589   17\n",
      "1    77  112\n",
      "Cost Function: -0.02603025908106917\n",
      "      0    1\n",
      "0  1589   17\n",
      "1    77  112\n",
      "Precision: 0.7528089887640449\n",
      "Recall: 0.3544973544973545\n",
      "F1: 0.4820143884892085\n",
      "      0   1\n",
      "0  1584  22\n",
      "1   122  67\n",
      "Cost Function: -0.024745282918692706\n",
      "      0   1\n",
      "0  1584  22\n",
      "1   122  67\n"
     ]
    },
    {
     "data": {
      "text/plain": [
       "array([-0.02456119, -0.04036119, -0.04241117, -0.02603026, -0.02474528])"
      ]
     },
     "execution_count": 230,
     "metadata": {},
     "output_type": "execute_result"
    }
   ],
   "source": [
    "cross_val_score(results, X, y, scoring=coster, cv=5)"
   ]
  },
  {
   "cell_type": "code",
   "execution_count": 231,
   "metadata": {
    "ExecuteTime": {
     "end_time": "2019-07-29T21:32:32.871297Z",
     "start_time": "2019-07-29T21:32:32.862300Z"
    }
   },
   "outputs": [
    {
     "data": {
      "text/plain": [
       "-0.031621818"
      ]
     },
     "execution_count": 231,
     "metadata": {},
     "output_type": "execute_result"
    }
   ],
   "source": [
    "np.mean([-0.02456119, -0.04036119, -0.04241117, -0.02603026, -0.02474528])"
   ]
  },
  {
   "cell_type": "code",
   "execution_count": null,
   "metadata": {},
   "outputs": [],
   "source": []
  },
  {
   "cell_type": "code",
   "execution_count": null,
   "metadata": {
    "ExecuteTime": {
     "end_time": "2019-07-29T21:41:57.236199Z",
     "start_time": "2019-07-29T21:41:35.543694Z"
    },
    "scrolled": true
   },
   "outputs": [],
   "source": [
    "df_ng = get_ng()\n",
    "df_ng5 = df_ng[(df_ng[\"reporting_frequency_A\"] != 1) & \\\n",
    "              (df_ng[\"natural_gas_delivery_contract_type_N/A\"] != 1)]\n",
    "X = df_ng5.drop(columns=\"fuel_cost\")\n",
    "y = (df_ng5.fuel_cost > df_ng.fuel_cost.quantile(.8))\n",
    "X_train, X_test, y_train, y_test = train_test_split(X, y, test_size = 0.2)\n",
    "model = DecisionTreeClassifier(random_state=23, max_depth=10)\n",
    "results = model.fit(X_train, y_train)\n",
    "\n",
    "y_pred = results.predict(X_test)"
   ]
  },
  {
   "cell_type": "code",
   "execution_count": 234,
   "metadata": {
    "ExecuteTime": {
     "end_time": "2019-07-29T21:42:25.281324Z",
     "start_time": "2019-07-29T21:42:25.148014Z"
    }
   },
   "outputs": [
    {
     "name": "stdout",
     "output_type": "stream",
     "text": [
      "Precision: 0.8823529411764706\n",
      "Recall: 0.2721774193548387\n",
      "F1: 0.4160246533127889\n",
      "      0    1\n",
      "0  9861   18\n",
      "1   361  135\n",
      "Cost Function: -0.000888331166180569\n"
     ]
    }
   ],
   "source": [
    "get_scores(y_test, y_pred, X_test)"
   ]
  },
  {
   "cell_type": "code",
   "execution_count": 235,
   "metadata": {
    "ExecuteTime": {
     "end_time": "2019-07-29T21:43:05.204589Z",
     "start_time": "2019-07-29T21:42:47.445106Z"
    },
    "scrolled": true
   },
   "outputs": [
    {
     "name": "stdout",
     "output_type": "stream",
     "text": [
      "Precision: 0.8586956521739131\n",
      "Recall: 0.1528046421663443\n",
      "F1: 0.2594417077175698\n",
      "      0   1\n",
      "0  9846  13\n",
      "1   438  79\n",
      "Cost Function: -0.00020166803171062036\n",
      "      0   1\n",
      "0  9846  13\n",
      "1   438  79\n",
      "Precision: 0.786096256684492\n",
      "Recall: 0.28488372093023256\n",
      "F1: 0.4182076813655761\n",
      "      0    1\n",
      "0  9819   40\n",
      "1   369  147\n",
      "Cost Function: -0.0003340459475427819\n",
      "      0    1\n",
      "0  9819   40\n",
      "1   369  147\n",
      "Precision: 0.6879432624113475\n",
      "Recall: 0.187984496124031\n",
      "F1: 0.29528158295281587\n",
      "      0   1\n",
      "0  9815  44\n",
      "1   419  97\n",
      "Cost Function: -0.0012340029092979305\n",
      "      0   1\n",
      "0  9815  44\n",
      "1   419  97\n",
      "Precision: 0.8652482269503546\n",
      "Recall: 0.2364341085271318\n",
      "F1: 0.3713850837138508\n",
      "      0    1\n",
      "0  9839   19\n",
      "1   394  122\n",
      "Cost Function: -0.0014155594326152455\n",
      "      0    1\n",
      "0  9839   19\n",
      "1   394  122\n",
      "Precision: 0.9133333333333333\n",
      "Recall: 0.2655038759689923\n",
      "F1: 0.41141141141141147\n",
      "      0    1\n",
      "0  9845   13\n",
      "1   379  137\n",
      "Cost Function: -0.0007910412982559453\n",
      "      0    1\n",
      "0  9845   13\n",
      "1   379  137\n"
     ]
    },
    {
     "data": {
      "text/plain": [
       "array([-0.00020167, -0.00033405, -0.001234  , -0.00141556, -0.00079104])"
      ]
     },
     "execution_count": 235,
     "metadata": {},
     "output_type": "execute_result"
    }
   ],
   "source": [
    "cross_val_score(results, X, y, scoring=coster, cv=5)"
   ]
  },
  {
   "cell_type": "code",
   "execution_count": 236,
   "metadata": {
    "ExecuteTime": {
     "end_time": "2019-07-29T21:43:51.454925Z",
     "start_time": "2019-07-29T21:43:51.444199Z"
    }
   },
   "outputs": [
    {
     "data": {
      "text/plain": [
       "-0.0007952640000000001"
      ]
     },
     "execution_count": 236,
     "metadata": {},
     "output_type": "execute_result"
    }
   ],
   "source": [
    "np.mean([-0.00020167, -0.00033405, -0.001234  , -0.00141556, -0.00079104])"
   ]
  },
  {
   "cell_type": "code",
   "execution_count": 238,
   "metadata": {
    "ExecuteTime": {
     "end_time": "2019-07-29T21:45:51.714707Z",
     "start_time": "2019-07-29T21:45:51.702621Z"
    }
   },
   "outputs": [
    {
     "data": {
      "text/plain": [
       "0.8222633463106881"
      ]
     },
     "execution_count": 238,
     "metadata": {},
     "output_type": "execute_result"
    }
   ],
   "source": [
    "np.mean([0.8586956521739131,\n",
    "0.786096256684492,\n",
    "0.6879432624113475,\n",
    "0.8652482269503546,\n",
    "0.9133333333333333])"
   ]
  },
  {
   "cell_type": "code",
   "execution_count": 29,
   "metadata": {
    "ExecuteTime": {
     "end_time": "2019-07-25T15:15:07.721794Z",
     "start_time": "2019-07-25T15:15:07.717439Z"
    }
   },
   "outputs": [],
   "source": [
    "# Saving the test and prediction data for later use\n",
    "leaf1_test = y_test\n",
    "leaf1_pred = y_pred"
   ]
  },
  {
   "cell_type": "code",
   "execution_count": 97,
   "metadata": {
    "ExecuteTime": {
     "end_time": "2019-07-22T20:50:19.422048Z",
     "start_time": "2019-07-22T20:49:24.207954Z"
    },
    "scrolled": true
   },
   "outputs": [
    {
     "data": {
      "text/plain": [
       "array([0.92150446, 0.94759881, 0.93289418, 0.93574161, 0.94376913])"
      ]
     },
     "execution_count": 97,
     "metadata": {},
     "output_type": "execute_result"
    }
   ],
   "source": [
    "cross_val_score(results, X, y, cv=5)"
   ]
  },
  {
   "cell_type": "markdown",
   "metadata": {},
   "source": [
    "No abberations in cross_val_score"
   ]
  },
  {
   "cell_type": "markdown",
   "metadata": {},
   "source": [
    "# Modeling Subset of Data - Delivery Contract == N/A"
   ]
  },
  {
   "cell_type": "code",
   "execution_count": 211,
   "metadata": {
    "ExecuteTime": {
     "end_time": "2019-07-29T19:01:04.169144Z",
     "start_time": "2019-07-29T19:00:28.681247Z"
    }
   },
   "outputs": [],
   "source": [
    "df_ng=get_ng()\n",
    "df_ng3 = df_ng[(df_ng[\"natural_gas_delivery_contract_type_N/A\"] == 1)]\n",
    "\n",
    "X = df_ng3.drop(columns=\"fuel_cost\")\n",
    "y = (df_ng3.fuel_cost > df_ng.fuel_cost.quantile(.8))\n",
    "X_train, X_test, y_train, y_test = train_test_split(X, y, test_size = 0.2)\n",
    "\n",
    "model = DecisionTreeClassifier(random_state=23, max_depth=10)\n",
    "results = model.fit(X_train, y_train)"
   ]
  },
  {
   "cell_type": "code",
   "execution_count": 212,
   "metadata": {
    "ExecuteTime": {
     "end_time": "2019-07-29T19:01:17.169008Z",
     "start_time": "2019-07-29T19:01:16.198305Z"
    },
    "scrolled": true
   },
   "outputs": [
    {
     "name": "stdout",
     "output_type": "stream",
     "text": [
      "Precision: 0.7195068251871423\n",
      "Recall: 0.32950191570881227\n",
      "F1: 0.4520055325034578\n",
      "       0     1\n",
      "0  30328  1274\n",
      "1   6650  3268\n",
      "Cost Function: -0.09547856488281592\n"
     ]
    }
   ],
   "source": [
    "y_pred = results.predict(X_test)\n",
    "get_scores(y_test, y_pred, X_test)"
   ]
  },
  {
   "cell_type": "markdown",
   "metadata": {},
   "source": [
    "Very good scores here. "
   ]
  },
  {
   "cell_type": "code",
   "execution_count": 213,
   "metadata": {
    "ExecuteTime": {
     "end_time": "2019-07-29T19:01:28.759719Z",
     "start_time": "2019-07-29T19:01:28.050896Z"
    }
   },
   "outputs": [
    {
     "data": {
      "text/plain": [
       "0.8111649696232606"
      ]
     },
     "execution_count": 213,
     "metadata": {},
     "output_type": "execute_result"
    }
   ],
   "source": [
    "get_auc(results, y_test, y_pred)"
   ]
  },
  {
   "cell_type": "code",
   "execution_count": 133,
   "metadata": {
    "ExecuteTime": {
     "end_time": "2019-07-29T16:17:42.854019Z",
     "start_time": "2019-07-29T16:16:19.652980Z"
    },
    "scrolled": false
   },
   "outputs": [
    {
     "name": "stdout",
     "output_type": "stream",
     "text": [
      "Precision: 0.26490683229813666\n",
      "Recall: 0.5960866526904263\n",
      "F1: 0.3668028380993335\n",
      "       0      1\n",
      "0  14934  16569\n",
      "1   4046   5971\n",
      "Cost Function: -0.11065152058331133\n",
      "       0      1\n",
      "0  14934  16569\n",
      "1   4046   5971\n",
      "Precision: 0.8347076461769115\n",
      "Recall: 0.22232205251073175\n",
      "F1: 0.3511233740638549\n",
      "       0     1\n",
      "0  31062   441\n",
      "1   7790  2227\n",
      "Cost Function: -0.04016438171107114\n",
      "       0     1\n",
      "0  31062   441\n",
      "1   7790  2227\n",
      "Precision: 0.8293203291679366\n",
      "Recall: 0.27163821503444147\n",
      "F1: 0.40923447134907504\n",
      "       0     1\n",
      "0  30943   560\n",
      "1   7296  2721\n",
      "Cost Function: -0.11907093627851568\n",
      "       0     1\n",
      "0  30943   560\n",
      "1   7296  2721\n",
      "Precision: 0.2129032258064516\n",
      "Recall: 0.11200958370769691\n",
      "F1: 0.14679139137829528\n",
      "       0     1\n",
      "0  27355  4148\n",
      "1   8895  1122\n",
      "Cost Function: -0.026741629798990217\n",
      "       0     1\n",
      "0  27355  4148\n",
      "1   8895  1122\n",
      "Precision: 0.7205683355886333\n",
      "Recall: 0.21263851452530697\n",
      "F1: 0.32837431588684185\n",
      "       0     1\n",
      "0  30676   826\n",
      "1   7887  2130\n",
      "Cost Function: -0.15438196567760298\n",
      "       0     1\n",
      "0  30676   826\n",
      "1   7887  2130\n"
     ]
    },
    {
     "data": {
      "text/plain": [
       "array([-0.11065152, -0.04016438, -0.11907094, -0.02674163, -0.15438197])"
      ]
     },
     "execution_count": 133,
     "metadata": {},
     "output_type": "execute_result"
    }
   ],
   "source": [
    "cross_val_score(results, X, y, scoring=coster, cv=5)"
   ]
  },
  {
   "cell_type": "code",
   "execution_count": 227,
   "metadata": {
    "ExecuteTime": {
     "end_time": "2019-07-29T21:27:34.962770Z",
     "start_time": "2019-07-29T21:27:34.951423Z"
    }
   },
   "outputs": [
    {
     "data": {
      "text/plain": [
       "-0.090202088"
      ]
     },
     "execution_count": 227,
     "metadata": {},
     "output_type": "execute_result"
    }
   ],
   "source": [
    "np.mean([-0.11065152, -0.04016438, -0.11907094, -0.02674163, -0.15438197])"
   ]
  },
  {
   "cell_type": "code",
   "execution_count": 228,
   "metadata": {
    "ExecuteTime": {
     "end_time": "2019-07-29T21:30:01.027546Z",
     "start_time": "2019-07-29T21:30:01.009631Z"
    }
   },
   "outputs": [
    {
     "data": {
      "text/plain": [
       "56.4"
      ]
     },
     "execution_count": 228,
     "metadata": {},
     "output_type": "execute_result"
    }
   ],
   "source": [
    "282/5"
   ]
  },
  {
   "cell_type": "markdown",
   "metadata": {},
   "source": [
    "Some bad scores in there, but cost function is generally very good. \n",
    "\n",
    "Maybe quantities are low when it's inaccurate?"
   ]
  },
  {
   "cell_type": "code",
   "execution_count": 316,
   "metadata": {
    "ExecuteTime": {
     "end_time": "2019-07-26T15:35:06.067923Z",
     "start_time": "2019-07-26T15:35:06.044363Z"
    }
   },
   "outputs": [],
   "source": [
    "leaf2_pred = y_pred\n",
    "leaf2_test = y_test"
   ]
  },
  {
   "cell_type": "code",
   "execution_count": 44,
   "metadata": {
    "ExecuteTime": {
     "end_time": "2019-07-26T20:00:21.475275Z",
     "start_time": "2019-07-26T20:00:21.445312Z"
    },
    "scrolled": false
   },
   "outputs": [
    {
     "name": "stdout",
     "output_type": "stream",
     "text": [
      "quantity 0.3065115789271838\n",
      "net_generation_megawatthours 0.17475143706555196\n",
      "mmbtu_per_unit_gen 0.047480963780289084\n",
      "primary_transportation_mode_PL 0.0374495998549301\n",
      "disturbance_events 0.018158446068185993\n",
      "operator_id_19876.0 0.008982741182822147\n",
      "supplier_VARIOUS 0.008915166117318723\n",
      "number_affected 0.008235850094740683\n",
      "contract_type_C 0.007901899785417573\n",
      "operator_id_16534.0 0.007704271132913494\n",
      "reported_prime_mover_CA 0.007595525358214486\n",
      "nerc_region_SPP 0.00719590044945642\n",
      "reported_prime_mover_CT 0.006590752547331757\n",
      "plant_state_NY 0.006232101040383877\n",
      "contract_type_S 0.005633602569983541\n",
      "plant_id_7314 0.005569392988832404\n",
      "plant_state_NC 0.005080406559838078\n",
      "supplier_BPE 0.004520729568905825\n",
      "supplier_MUNIGAS - BP ENERGY 0.004429483889518933\n",
      "nerc_region_WECC 0.004329706084839921\n",
      "nerc_region_FRCC 0.004015608478734724\n",
      "natural_gas_transportation_service_I 0.0036911705047013\n",
      "supplier_LG&E 0.003651576641632353\n",
      "operator_id_16572.0 0.0035956908227096724\n",
      "supplier_IBERDROLA RENEWABLES 0.0034383243084503516\n",
      "natural_gas_transportation_service_F 0.003335995959500248\n",
      "operator_id_12745.0 0.0032388872035070525\n",
      "reported_prime_mover_GT 0.0031933592064025697\n",
      "supplier_CONOCOPHILLIPS 0.0031445088714545126\n",
      "plant_id_7985 0.0029365400310623325\n",
      "operator_id_11249.0 0.0029072089397531443\n",
      "supplier_B P ENERGY 0.0028800024954317117\n",
      "reported_prime_mover_ST 0.00275345730527907\n",
      "plant_state_MI 0.0025180530167577876\n",
      "supplier_VIRGINIA POWER SERVICES ENERGY 0.002511816189149251\n",
      "plant_id_1730 0.002416852061389282\n",
      "secondary_transportation_mode_PL 0.00241479121082495\n",
      "operator_id_11018.0 0.002359241223521233\n",
      "plant_id_8219 0.0023550879117333096\n",
      "plant_id_56328 0.002349912232302974\n",
      "operator_id_17698.0 0.0023469336362269247\n",
      "supplier_KEYSPAN ENERGY 0.0022997883163660927\n",
      "reporting_frequency_A 0.0022945766291467716\n",
      "plant_id_7266 0.002269041582613692\n",
      "plant_id_7552 0.002203650362605041\n",
      "supplier_CORAL 0.0021843230154393535\n",
      "supplier_MERRILL LYNCH 0.0021821411615913803\n",
      "nerc_region_SERC 0.002179831187038551\n",
      "contract_type_N/A 0.0021754441860366873\n",
      "supplier_TENASKA MARKETING 0.0021554337585446555\n"
     ]
    }
   ],
   "source": [
    "for a,b in sorted(zip(X.columns, results.feature_importances_), key=lambda x: x[1], reverse=True)[0:50]:\n",
    "    print(a,b)"
   ]
  },
  {
   "cell_type": "markdown",
   "metadata": {
    "heading_collapsed": true
   },
   "source": [
    "# Combine the Two Leafs to Find Out Combined F1 Score"
   ]
  },
  {
   "cell_type": "code",
   "execution_count": 317,
   "metadata": {
    "ExecuteTime": {
     "end_time": "2019-07-26T15:35:19.524699Z",
     "start_time": "2019-07-26T15:35:19.436473Z"
    },
    "hidden": true
   },
   "outputs": [],
   "source": [
    "leaf1_pred = pd.DataFrame(leaf1_pred)\n",
    "leaf2_pred = pd.DataFrame(leaf2_pred)\n",
    "leaf1_test = pd.DataFrame(leaf1_test)\n",
    "leaf2_test = pd.DataFrame(leaf2_test)\n",
    "\n",
    "leafs_pred = leaf1_pred.append(leaf2_pred)\n",
    "leafs_test = leaf1_test.append(leaf2_test)"
   ]
  },
  {
   "cell_type": "code",
   "execution_count": 326,
   "metadata": {
    "ExecuteTime": {
     "end_time": "2019-07-26T15:39:46.648093Z",
     "start_time": "2019-07-26T15:39:46.530961Z"
    },
    "hidden": true
   },
   "outputs": [
    {
     "name": "stdout",
     "output_type": "stream",
     "text": [
      "Precision: 0.6714258876573361\n",
      "Recall: 0.7064637280094881\n",
      "F1: 0.6884993257561164\n"
     ]
    },
    {
     "ename": "AttributeError",
     "evalue": "'NoneType' object has no attribute 'quantity'",
     "output_type": "error",
     "traceback": [
      "\u001b[0;31m---------------------------------------------------------------------------\u001b[0m",
      "\u001b[0;31mAttributeError\u001b[0m                            Traceback (most recent call last)",
      "\u001b[0;32m<ipython-input-326-c129020dfb2c>\u001b[0m in \u001b[0;36m<module>\u001b[0;34m\u001b[0m\n\u001b[0;32m----> 1\u001b[0;31m \u001b[0mget_scores\u001b[0m\u001b[0;34m(\u001b[0m\u001b[0mleafs_pred\u001b[0m\u001b[0;34m,\u001b[0m \u001b[0mleafs_test\u001b[0m\u001b[0;34m,\u001b[0m \u001b[0;32mNone\u001b[0m\u001b[0;34m)\u001b[0m\u001b[0;34m\u001b[0m\u001b[0;34m\u001b[0m\u001b[0m\n\u001b[0m",
      "\u001b[0;32m<ipython-input-289-e8843aad25b9>\u001b[0m in \u001b[0;36mget_scores\u001b[0;34m(y_test, y_pred, X)\u001b[0m\n\u001b[1;32m      3\u001b[0m     \u001b[0mprint\u001b[0m\u001b[0;34m(\u001b[0m\u001b[0;34m\"Recall: %s\"\u001b[0m \u001b[0;34m%\u001b[0m \u001b[0mrecall_score\u001b[0m\u001b[0;34m(\u001b[0m\u001b[0my_test\u001b[0m\u001b[0;34m,\u001b[0m \u001b[0my_pred\u001b[0m\u001b[0;34m)\u001b[0m\u001b[0;34m)\u001b[0m\u001b[0;34m\u001b[0m\u001b[0;34m\u001b[0m\u001b[0m\n\u001b[1;32m      4\u001b[0m     \u001b[0mprint\u001b[0m\u001b[0;34m(\u001b[0m\u001b[0;34m\"F1: %s\"\u001b[0m \u001b[0;34m%\u001b[0m \u001b[0mf1_score\u001b[0m\u001b[0;34m(\u001b[0m\u001b[0my_test\u001b[0m\u001b[0;34m,\u001b[0m \u001b[0my_pred\u001b[0m\u001b[0;34m)\u001b[0m\u001b[0;34m)\u001b[0m\u001b[0;34m\u001b[0m\u001b[0;34m\u001b[0m\u001b[0m\n\u001b[0;32m----> 5\u001b[0;31m     \u001b[0mprint\u001b[0m\u001b[0;34m(\u001b[0m\u001b[0;34m\"Cost Function: %s\"\u001b[0m \u001b[0;34m%\u001b[0m \u001b[0mcost_function\u001b[0m\u001b[0;34m(\u001b[0m\u001b[0my_test\u001b[0m\u001b[0;34m,\u001b[0m \u001b[0my_pred\u001b[0m\u001b[0;34m,\u001b[0m \u001b[0mX\u001b[0m\u001b[0;34m.\u001b[0m\u001b[0mquantity\u001b[0m\u001b[0;34m.\u001b[0m\u001b[0mvalues\u001b[0m\u001b[0;34m)\u001b[0m\u001b[0;34m)\u001b[0m\u001b[0;34m\u001b[0m\u001b[0;34m\u001b[0m\u001b[0m\n\u001b[0m",
      "\u001b[0;31mAttributeError\u001b[0m: 'NoneType' object has no attribute 'quantity'"
     ]
    }
   ],
   "source": [
    "get_scores(leafs_pred, leafs_test, None)"
   ]
  },
  {
   "cell_type": "code",
   "execution_count": 334,
   "metadata": {
    "ExecuteTime": {
     "end_time": "2019-07-26T15:42:02.551782Z",
     "start_time": "2019-07-26T15:42:02.064444Z"
    },
    "hidden": true
   },
   "outputs": [
    {
     "name": "stdout",
     "output_type": "stream",
     "text": [
      "       0     1\n",
      "0  46883  1749\n",
      "1   1485  3574\n"
     ]
    },
    {
     "data": {
      "text/plain": [
       "-0.056651952841258256"
      ]
     },
     "execution_count": 334,
     "metadata": {},
     "output_type": "execute_result"
    }
   ],
   "source": [
    "cost_function(leafs_pred.values, leafs_test.values, None)"
   ]
  },
  {
   "cell_type": "markdown",
   "metadata": {
    "hidden": true
   },
   "source": [
    "Slight improvement on the model for the whole dataset. Better cost function result."
   ]
  },
  {
   "cell_type": "code",
   "execution_count": null,
   "metadata": {
    "hidden": true
   },
   "outputs": [],
   "source": []
  }
 ],
 "metadata": {
  "kernelspec": {
   "display_name": "Python 3",
   "language": "python",
   "name": "python3"
  },
  "language_info": {
   "codemirror_mode": {
    "name": "ipython",
    "version": 3
   },
   "file_extension": ".py",
   "mimetype": "text/x-python",
   "name": "python",
   "nbconvert_exporter": "python",
   "pygments_lexer": "ipython3",
   "version": "3.7.3"
  },
  "toc": {
   "base_numbering": 1,
   "nav_menu": {},
   "number_sections": true,
   "sideBar": true,
   "skip_h1_title": false,
   "title_cell": "Table of Contents",
   "title_sidebar": "Contents",
   "toc_cell": false,
   "toc_position": {},
   "toc_section_display": true,
   "toc_window_display": false
  },
  "varInspector": {
   "cols": {
    "lenName": 16,
    "lenType": 16,
    "lenVar": 40
   },
   "kernels_config": {
    "python": {
     "delete_cmd_postfix": "",
     "delete_cmd_prefix": "del ",
     "library": "var_list.py",
     "varRefreshCmd": "print(var_dic_list())"
    },
    "r": {
     "delete_cmd_postfix": ") ",
     "delete_cmd_prefix": "rm(",
     "library": "var_list.r",
     "varRefreshCmd": "cat(var_dic_list()) "
    }
   },
   "types_to_exclude": [
    "module",
    "function",
    "builtin_function_or_method",
    "instance",
    "_Feature"
   ],
   "window_display": false
  }
 },
 "nbformat": 4,
 "nbformat_minor": 2
}
