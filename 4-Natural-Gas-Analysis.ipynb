{
 "cells": [
  {
   "cell_type": "markdown",
   "metadata": {
    "heading_collapsed": true
   },
   "source": [
    "# Load Models and Data"
   ]
  },
  {
   "cell_type": "code",
   "execution_count": 239,
   "metadata": {
    "ExecuteTime": {
     "end_time": "2019-07-30T14:23:56.078847Z",
     "start_time": "2019-07-30T14:23:55.580155Z"
    },
    "hidden": true
   },
   "outputs": [],
   "source": [
    "from sklearn.model_selection import train_test_split\n",
    "import matplotlib.pyplot as plt\n",
    "%matplotlib inline\n",
    "import sqlite3\n",
    "import pandas as pd\n",
    "pd.set_option(\"display.max_columns\", 500)\n",
    "from sklearn.preprocessing import LabelEncoder\n",
    "from sklearn.metrics import mean_squared_error\n",
    "from sklearn.model_selection import cross_val_score\n",
    "from sklearn.tree import DecisionTreeClassifier\n",
    "import seaborn as sns\n",
    "from sklearn.metrics import f1_score, recall_score, precision_score\n",
    "from sklearn.metrics import confusion_matrix, auc, roc_curve\n",
    "from sklearn.model_selection import KFold"
   ]
  },
  {
   "cell_type": "code",
   "execution_count": 240,
   "metadata": {
    "ExecuteTime": {
     "end_time": "2019-07-30T14:24:13.601895Z",
     "start_time": "2019-07-30T14:24:13.576656Z"
    },
    "hidden": true
   },
   "outputs": [],
   "source": [
    "def get_auc(results, y_test, y_pred):\n",
    "    y_pred_proba = results.predict_proba(X_test)\n",
    "    y_pred_proba_1 = [x[1] for x in y_pred_proba]\n",
    "    pr = roc_curve(y_test, y_pred_proba_1)\n",
    "    return auc(pr[0], pr[1])"
   ]
  },
  {
   "cell_type": "code",
   "execution_count": 241,
   "metadata": {
    "ExecuteTime": {
     "end_time": "2019-07-30T14:24:30.902514Z",
     "start_time": "2019-07-30T14:24:30.869727Z"
    },
    "hidden": true
   },
   "outputs": [],
   "source": [
    "from utils import cost_function, coster, get_scores"
   ]
  },
  {
   "cell_type": "code",
   "execution_count": 242,
   "metadata": {
    "ExecuteTime": {
     "end_time": "2019-07-30T14:25:35.354684Z",
     "start_time": "2019-07-30T14:24:48.645126Z"
    },
    "hidden": true,
    "scrolled": true
   },
   "outputs": [
    {
     "data": {
      "text/html": [
       "<div>\n",
       "<style scoped>\n",
       "    .dataframe tbody tr th:only-of-type {\n",
       "        vertical-align: middle;\n",
       "    }\n",
       "\n",
       "    .dataframe tbody tr th {\n",
       "        vertical-align: top;\n",
       "    }\n",
       "\n",
       "    .dataframe thead th {\n",
       "        text-align: right;\n",
       "    }\n",
       "</style>\n",
       "<table border=\"1\" class=\"dataframe\">\n",
       "  <thead>\n",
       "    <tr style=\"text-align: right;\">\n",
       "      <th></th>\n",
       "      <th>average_ash_content</th>\n",
       "      <th>average_heat_content</th>\n",
       "      <th>average_mercury_content</th>\n",
       "      <th>average_sulfur_content</th>\n",
       "      <th>chlorine_content</th>\n",
       "      <th>coalmine_county</th>\n",
       "      <th>coalmine_msha_id</th>\n",
       "      <th>coalmine_name</th>\n",
       "      <th>coalmine_state</th>\n",
       "      <th>coalmine_type</th>\n",
       "      <th>contract_expiration_date</th>\n",
       "      <th>contract_type</th>\n",
       "      <th>energy_source</th>\n",
       "      <th>fuel_cost</th>\n",
       "      <th>fuel_group</th>\n",
       "      <th>moisture_content</th>\n",
       "      <th>month</th>\n",
       "      <th>natural_gas_delivery_contract_type</th>\n",
       "      <th>natural_gas_supply_contract_type</th>\n",
       "      <th>natural_gas_transportation_service</th>\n",
       "      <th>operator_id</th>\n",
       "      <th>operator_name</th>\n",
       "      <th>plant_id</th>\n",
       "      <th>plant_name</th>\n",
       "      <th>plant_state</th>\n",
       "      <th>primary_transportation_mode</th>\n",
       "      <th>purchase_type</th>\n",
       "      <th>quantity</th>\n",
       "      <th>regulated</th>\n",
       "      <th>reporting_frequency</th>\n",
       "      <th>secondary_transportation_mode</th>\n",
       "      <th>supplier</th>\n",
       "      <th>year</th>\n",
       "      <th>plant_id_gen</th>\n",
       "      <th>combined_heat_and_power_plant</th>\n",
       "      <th>plant_name_gen</th>\n",
       "      <th>operator_name_gen</th>\n",
       "      <th>state_gen</th>\n",
       "      <th>census_region</th>\n",
       "      <th>nerc_region</th>\n",
       "      <th>reserved_</th>\n",
       "      <th>naics_code</th>\n",
       "      <th>eia_sector_number</th>\n",
       "      <th>sector_name</th>\n",
       "      <th>reported_prime_mover</th>\n",
       "      <th>reported_fuel_type_code</th>\n",
       "      <th>aer_fuel_type_code</th>\n",
       "      <th>reserved_1</th>\n",
       "      <th>reserved_2</th>\n",
       "      <th>physical_unit_label</th>\n",
       "      <th>total_fuel_consumption_quantity</th>\n",
       "      <th>electric_fuel_consumption_quantity</th>\n",
       "      <th>total_fuel_consumption_mmbtu</th>\n",
       "      <th>elec_fuel_consumption_mmbtu</th>\n",
       "      <th>net_generation_megawatthours</th>\n",
       "      <th>year_gen</th>\n",
       "      <th>quantity_gen</th>\n",
       "      <th>elec_quantity_gen</th>\n",
       "      <th>mmbtu_per_unit_gen</th>\n",
       "      <th>tot_mmbtu_gen</th>\n",
       "      <th>elec_mmbtu_gen</th>\n",
       "      <th>netgen_gen</th>\n",
       "      <th>year_month_nerc</th>\n",
       "      <th>number_affected</th>\n",
       "      <th>disturbance_events</th>\n",
       "    </tr>\n",
       "  </thead>\n",
       "  <tbody>\n",
       "    <tr>\n",
       "      <th>0</th>\n",
       "      <td>5.4</td>\n",
       "      <td>23.100</td>\n",
       "      <td>0.0</td>\n",
       "      <td>0.49</td>\n",
       "      <td>0.0</td>\n",
       "      <td>IMP</td>\n",
       "      <td>N/A</td>\n",
       "      <td>MINA PRIBBENOW</td>\n",
       "      <td>CL</td>\n",
       "      <td>SU</td>\n",
       "      <td>408.0</td>\n",
       "      <td>C</td>\n",
       "      <td>BIT</td>\n",
       "      <td>213.5</td>\n",
       "      <td>Coal</td>\n",
       "      <td>0.0</td>\n",
       "      <td>1</td>\n",
       "      <td>N/A</td>\n",
       "      <td>N/A</td>\n",
       "      <td>F</td>\n",
       "      <td>195.0</td>\n",
       "      <td>Alabama Power Co</td>\n",
       "      <td>3</td>\n",
       "      <td>Barry</td>\n",
       "      <td>AL</td>\n",
       "      <td>RV</td>\n",
       "      <td>N/A</td>\n",
       "      <td>259412</td>\n",
       "      <td>REG</td>\n",
       "      <td>M</td>\n",
       "      <td>N/A</td>\n",
       "      <td>INTEROCEAN COAL</td>\n",
       "      <td>2008</td>\n",
       "      <td>3</td>\n",
       "      <td>N</td>\n",
       "      <td>Barry</td>\n",
       "      <td>Alabama Power Co</td>\n",
       "      <td>AL</td>\n",
       "      <td>ESC</td>\n",
       "      <td>SERC</td>\n",
       "      <td>None</td>\n",
       "      <td>22</td>\n",
       "      <td>1</td>\n",
       "      <td>Electric Utility</td>\n",
       "      <td>ST</td>\n",
       "      <td>BIT</td>\n",
       "      <td>COL</td>\n",
       "      <td>None</td>\n",
       "      <td>None</td>\n",
       "      <td>short tons</td>\n",
       "      <td>4208251</td>\n",
       "      <td>4208251</td>\n",
       "      <td>94561606</td>\n",
       "      <td>94561606</td>\n",
       "      <td>9472859</td>\n",
       "      <td>2008</td>\n",
       "      <td>340778</td>\n",
       "      <td>340778</td>\n",
       "      <td>22.59</td>\n",
       "      <td>7697153</td>\n",
       "      <td>7697153</td>\n",
       "      <td>778699</td>\n",
       "      <td>2008-1-SERC</td>\n",
       "      <td>0.0</td>\n",
       "      <td>0.0</td>\n",
       "    </tr>\n",
       "    <tr>\n",
       "      <th>1</th>\n",
       "      <td>5.7</td>\n",
       "      <td>22.800</td>\n",
       "      <td>0.0</td>\n",
       "      <td>0.48</td>\n",
       "      <td>0.0</td>\n",
       "      <td>IMP</td>\n",
       "      <td>N/A</td>\n",
       "      <td>MINA PRIBBENOW</td>\n",
       "      <td>CL</td>\n",
       "      <td>SU</td>\n",
       "      <td>408.0</td>\n",
       "      <td>C</td>\n",
       "      <td>BIT</td>\n",
       "      <td>211.5</td>\n",
       "      <td>Coal</td>\n",
       "      <td>0.0</td>\n",
       "      <td>1</td>\n",
       "      <td>N/A</td>\n",
       "      <td>N/A</td>\n",
       "      <td>F</td>\n",
       "      <td>195.0</td>\n",
       "      <td>Alabama Power Co</td>\n",
       "      <td>3</td>\n",
       "      <td>Barry</td>\n",
       "      <td>AL</td>\n",
       "      <td>RV</td>\n",
       "      <td>N/A</td>\n",
       "      <td>52241</td>\n",
       "      <td>REG</td>\n",
       "      <td>M</td>\n",
       "      <td>N/A</td>\n",
       "      <td>INTEROCEAN COAL</td>\n",
       "      <td>2008</td>\n",
       "      <td>3</td>\n",
       "      <td>N</td>\n",
       "      <td>Barry</td>\n",
       "      <td>Alabama Power Co</td>\n",
       "      <td>AL</td>\n",
       "      <td>ESC</td>\n",
       "      <td>SERC</td>\n",
       "      <td>None</td>\n",
       "      <td>22</td>\n",
       "      <td>1</td>\n",
       "      <td>Electric Utility</td>\n",
       "      <td>ST</td>\n",
       "      <td>BIT</td>\n",
       "      <td>COL</td>\n",
       "      <td>None</td>\n",
       "      <td>None</td>\n",
       "      <td>short tons</td>\n",
       "      <td>4208251</td>\n",
       "      <td>4208251</td>\n",
       "      <td>94561606</td>\n",
       "      <td>94561606</td>\n",
       "      <td>9472859</td>\n",
       "      <td>2008</td>\n",
       "      <td>340778</td>\n",
       "      <td>340778</td>\n",
       "      <td>22.59</td>\n",
       "      <td>7697153</td>\n",
       "      <td>7697153</td>\n",
       "      <td>778699</td>\n",
       "      <td>2008-1-SERC</td>\n",
       "      <td>0.0</td>\n",
       "      <td>0.0</td>\n",
       "    </tr>\n",
       "    <tr>\n",
       "      <th>2</th>\n",
       "      <td>0.0</td>\n",
       "      <td>1.039</td>\n",
       "      <td>0.0</td>\n",
       "      <td>0.00</td>\n",
       "      <td>0.0</td>\n",
       "      <td>N/A</td>\n",
       "      <td>N/A</td>\n",
       "      <td>None</td>\n",
       "      <td>N/A</td>\n",
       "      <td>N/A</td>\n",
       "      <td>None</td>\n",
       "      <td>C</td>\n",
       "      <td>NG</td>\n",
       "      <td>863.1</td>\n",
       "      <td>Natural Gas</td>\n",
       "      <td>0.0</td>\n",
       "      <td>1</td>\n",
       "      <td>N/A</td>\n",
       "      <td>N/A</td>\n",
       "      <td>F</td>\n",
       "      <td>195.0</td>\n",
       "      <td>Alabama Power Co</td>\n",
       "      <td>3</td>\n",
       "      <td>Barry</td>\n",
       "      <td>AL</td>\n",
       "      <td>PL</td>\n",
       "      <td>N/A</td>\n",
       "      <td>2783619</td>\n",
       "      <td>REG</td>\n",
       "      <td>M</td>\n",
       "      <td>N/A</td>\n",
       "      <td>BAY GAS PIPELINE</td>\n",
       "      <td>2008</td>\n",
       "      <td>3</td>\n",
       "      <td>N</td>\n",
       "      <td>Barry</td>\n",
       "      <td>Alabama Power Co</td>\n",
       "      <td>AL</td>\n",
       "      <td>ESC</td>\n",
       "      <td>SERC</td>\n",
       "      <td>None</td>\n",
       "      <td>22</td>\n",
       "      <td>1</td>\n",
       "      <td>Electric Utility</td>\n",
       "      <td>CA</td>\n",
       "      <td>NG</td>\n",
       "      <td>NG</td>\n",
       "      <td>None</td>\n",
       "      <td>None</td>\n",
       "      <td>mcf</td>\n",
       "      <td>3433</td>\n",
       "      <td>3433</td>\n",
       "      <td>3559</td>\n",
       "      <td>3559</td>\n",
       "      <td>1609033</td>\n",
       "      <td>2008</td>\n",
       "      <td>2400</td>\n",
       "      <td>2400</td>\n",
       "      <td>1.04</td>\n",
       "      <td>2489</td>\n",
       "      <td>2489</td>\n",
       "      <td>146327</td>\n",
       "      <td>2008-1-SERC</td>\n",
       "      <td>0.0</td>\n",
       "      <td>0.0</td>\n",
       "    </tr>\n",
       "    <tr>\n",
       "      <th>3</th>\n",
       "      <td>0.0</td>\n",
       "      <td>1.039</td>\n",
       "      <td>0.0</td>\n",
       "      <td>0.00</td>\n",
       "      <td>0.0</td>\n",
       "      <td>N/A</td>\n",
       "      <td>N/A</td>\n",
       "      <td>None</td>\n",
       "      <td>N/A</td>\n",
       "      <td>N/A</td>\n",
       "      <td>None</td>\n",
       "      <td>C</td>\n",
       "      <td>NG</td>\n",
       "      <td>863.1</td>\n",
       "      <td>Natural Gas</td>\n",
       "      <td>0.0</td>\n",
       "      <td>1</td>\n",
       "      <td>N/A</td>\n",
       "      <td>N/A</td>\n",
       "      <td>F</td>\n",
       "      <td>195.0</td>\n",
       "      <td>Alabama Power Co</td>\n",
       "      <td>3</td>\n",
       "      <td>Barry</td>\n",
       "      <td>AL</td>\n",
       "      <td>PL</td>\n",
       "      <td>N/A</td>\n",
       "      <td>2783619</td>\n",
       "      <td>REG</td>\n",
       "      <td>M</td>\n",
       "      <td>N/A</td>\n",
       "      <td>BAY GAS PIPELINE</td>\n",
       "      <td>2008</td>\n",
       "      <td>3</td>\n",
       "      <td>N</td>\n",
       "      <td>Barry</td>\n",
       "      <td>Alabama Power Co</td>\n",
       "      <td>AL</td>\n",
       "      <td>ESC</td>\n",
       "      <td>SERC</td>\n",
       "      <td>None</td>\n",
       "      <td>22</td>\n",
       "      <td>1</td>\n",
       "      <td>Electric Utility</td>\n",
       "      <td>CT</td>\n",
       "      <td>NG</td>\n",
       "      <td>NG</td>\n",
       "      <td>None</td>\n",
       "      <td>None</td>\n",
       "      <td>mcf</td>\n",
       "      <td>30932077</td>\n",
       "      <td>30932077</td>\n",
       "      <td>32090118</td>\n",
       "      <td>32090118</td>\n",
       "      <td>2858195</td>\n",
       "      <td>2008</td>\n",
       "      <td>2781102</td>\n",
       "      <td>2781102</td>\n",
       "      <td>1.04</td>\n",
       "      <td>2884003</td>\n",
       "      <td>2884003</td>\n",
       "      <td>244784</td>\n",
       "      <td>2008-1-SERC</td>\n",
       "      <td>0.0</td>\n",
       "      <td>0.0</td>\n",
       "    </tr>\n",
       "    <tr>\n",
       "      <th>4</th>\n",
       "      <td>0.0</td>\n",
       "      <td>1.039</td>\n",
       "      <td>0.0</td>\n",
       "      <td>0.00</td>\n",
       "      <td>0.0</td>\n",
       "      <td>N/A</td>\n",
       "      <td>N/A</td>\n",
       "      <td>None</td>\n",
       "      <td>N/A</td>\n",
       "      <td>N/A</td>\n",
       "      <td>None</td>\n",
       "      <td>C</td>\n",
       "      <td>NG</td>\n",
       "      <td>863.1</td>\n",
       "      <td>Natural Gas</td>\n",
       "      <td>0.0</td>\n",
       "      <td>1</td>\n",
       "      <td>N/A</td>\n",
       "      <td>N/A</td>\n",
       "      <td>F</td>\n",
       "      <td>195.0</td>\n",
       "      <td>Alabama Power Co</td>\n",
       "      <td>3</td>\n",
       "      <td>Barry</td>\n",
       "      <td>AL</td>\n",
       "      <td>PL</td>\n",
       "      <td>N/A</td>\n",
       "      <td>2783619</td>\n",
       "      <td>REG</td>\n",
       "      <td>M</td>\n",
       "      <td>N/A</td>\n",
       "      <td>BAY GAS PIPELINE</td>\n",
       "      <td>2008</td>\n",
       "      <td>3</td>\n",
       "      <td>N</td>\n",
       "      <td>Barry</td>\n",
       "      <td>Alabama Power Co</td>\n",
       "      <td>AL</td>\n",
       "      <td>ESC</td>\n",
       "      <td>SERC</td>\n",
       "      <td>None</td>\n",
       "      <td>22</td>\n",
       "      <td>1</td>\n",
       "      <td>Electric Utility</td>\n",
       "      <td>ST</td>\n",
       "      <td>NG</td>\n",
       "      <td>NG</td>\n",
       "      <td>None</td>\n",
       "      <td>None</td>\n",
       "      <td>mcf</td>\n",
       "      <td>837652</td>\n",
       "      <td>837652</td>\n",
       "      <td>871270</td>\n",
       "      <td>871270</td>\n",
       "      <td>87265</td>\n",
       "      <td>2008</td>\n",
       "      <td>109281</td>\n",
       "      <td>109281</td>\n",
       "      <td>1.04</td>\n",
       "      <td>113543</td>\n",
       "      <td>113543</td>\n",
       "      <td>11487</td>\n",
       "      <td>2008-1-SERC</td>\n",
       "      <td>0.0</td>\n",
       "      <td>0.0</td>\n",
       "    </tr>\n",
       "  </tbody>\n",
       "</table>\n",
       "</div>"
      ],
      "text/plain": [
       "   average_ash_content  average_heat_content  average_mercury_content  \\\n",
       "0                  5.4                23.100                      0.0   \n",
       "1                  5.7                22.800                      0.0   \n",
       "2                  0.0                 1.039                      0.0   \n",
       "3                  0.0                 1.039                      0.0   \n",
       "4                  0.0                 1.039                      0.0   \n",
       "\n",
       "   average_sulfur_content  chlorine_content coalmine_county coalmine_msha_id  \\\n",
       "0                    0.49               0.0             IMP              N/A   \n",
       "1                    0.48               0.0             IMP              N/A   \n",
       "2                    0.00               0.0             N/A              N/A   \n",
       "3                    0.00               0.0             N/A              N/A   \n",
       "4                    0.00               0.0             N/A              N/A   \n",
       "\n",
       "    coalmine_name coalmine_state coalmine_type contract_expiration_date  \\\n",
       "0  MINA PRIBBENOW             CL            SU                    408.0   \n",
       "1  MINA PRIBBENOW             CL            SU                    408.0   \n",
       "2            None            N/A           N/A                     None   \n",
       "3            None            N/A           N/A                     None   \n",
       "4            None            N/A           N/A                     None   \n",
       "\n",
       "  contract_type energy_source  fuel_cost   fuel_group  moisture_content  \\\n",
       "0             C           BIT      213.5         Coal               0.0   \n",
       "1             C           BIT      211.5         Coal               0.0   \n",
       "2             C            NG      863.1  Natural Gas               0.0   \n",
       "3             C            NG      863.1  Natural Gas               0.0   \n",
       "4             C            NG      863.1  Natural Gas               0.0   \n",
       "\n",
       "   month natural_gas_delivery_contract_type natural_gas_supply_contract_type  \\\n",
       "0      1                                N/A                              N/A   \n",
       "1      1                                N/A                              N/A   \n",
       "2      1                                N/A                              N/A   \n",
       "3      1                                N/A                              N/A   \n",
       "4      1                                N/A                              N/A   \n",
       "\n",
       "  natural_gas_transportation_service operator_id     operator_name plant_id  \\\n",
       "0                                  F       195.0  Alabama Power Co        3   \n",
       "1                                  F       195.0  Alabama Power Co        3   \n",
       "2                                  F       195.0  Alabama Power Co        3   \n",
       "3                                  F       195.0  Alabama Power Co        3   \n",
       "4                                  F       195.0  Alabama Power Co        3   \n",
       "\n",
       "  plant_name plant_state primary_transportation_mode purchase_type  quantity  \\\n",
       "0      Barry          AL                          RV           N/A    259412   \n",
       "1      Barry          AL                          RV           N/A     52241   \n",
       "2      Barry          AL                          PL           N/A   2783619   \n",
       "3      Barry          AL                          PL           N/A   2783619   \n",
       "4      Barry          AL                          PL           N/A   2783619   \n",
       "\n",
       "  regulated reporting_frequency secondary_transportation_mode  \\\n",
       "0       REG                   M                           N/A   \n",
       "1       REG                   M                           N/A   \n",
       "2       REG                   M                           N/A   \n",
       "3       REG                   M                           N/A   \n",
       "4       REG                   M                           N/A   \n",
       "\n",
       "           supplier  year plant_id_gen combined_heat_and_power_plant  \\\n",
       "0   INTEROCEAN COAL  2008            3                             N   \n",
       "1   INTEROCEAN COAL  2008            3                             N   \n",
       "2  BAY GAS PIPELINE  2008            3                             N   \n",
       "3  BAY GAS PIPELINE  2008            3                             N   \n",
       "4  BAY GAS PIPELINE  2008            3                             N   \n",
       "\n",
       "  plant_name_gen operator_name_gen state_gen census_region nerc_region  \\\n",
       "0          Barry  Alabama Power Co        AL          ESC         SERC   \n",
       "1          Barry  Alabama Power Co        AL          ESC         SERC   \n",
       "2          Barry  Alabama Power Co        AL          ESC         SERC   \n",
       "3          Barry  Alabama Power Co        AL          ESC         SERC   \n",
       "4          Barry  Alabama Power Co        AL          ESC         SERC   \n",
       "\n",
       "  reserved_  naics_code  eia_sector_number       sector_name  \\\n",
       "0      None          22                  1  Electric Utility   \n",
       "1      None          22                  1  Electric Utility   \n",
       "2      None          22                  1  Electric Utility   \n",
       "3      None          22                  1  Electric Utility   \n",
       "4      None          22                  1  Electric Utility   \n",
       "\n",
       "  reported_prime_mover reported_fuel_type_code aer_fuel_type_code reserved_1  \\\n",
       "0                   ST                     BIT                COL       None   \n",
       "1                   ST                     BIT                COL       None   \n",
       "2                   CA                      NG                 NG       None   \n",
       "3                   CT                      NG                 NG       None   \n",
       "4                   ST                      NG                 NG       None   \n",
       "\n",
       "  reserved_2 physical_unit_label  total_fuel_consumption_quantity  \\\n",
       "0       None          short tons                          4208251   \n",
       "1       None          short tons                          4208251   \n",
       "2       None                 mcf                             3433   \n",
       "3       None                 mcf                         30932077   \n",
       "4       None                 mcf                           837652   \n",
       "\n",
       "   electric_fuel_consumption_quantity  total_fuel_consumption_mmbtu  \\\n",
       "0                             4208251                      94561606   \n",
       "1                             4208251                      94561606   \n",
       "2                                3433                          3559   \n",
       "3                            30932077                      32090118   \n",
       "4                              837652                        871270   \n",
       "\n",
       "   elec_fuel_consumption_mmbtu  net_generation_megawatthours  year_gen  \\\n",
       "0                     94561606                       9472859      2008   \n",
       "1                     94561606                       9472859      2008   \n",
       "2                         3559                       1609033      2008   \n",
       "3                     32090118                       2858195      2008   \n",
       "4                       871270                         87265      2008   \n",
       "\n",
       "   quantity_gen  elec_quantity_gen  mmbtu_per_unit_gen  tot_mmbtu_gen  \\\n",
       "0        340778             340778               22.59        7697153   \n",
       "1        340778             340778               22.59        7697153   \n",
       "2          2400               2400                1.04           2489   \n",
       "3       2781102            2781102                1.04        2884003   \n",
       "4        109281             109281                1.04         113543   \n",
       "\n",
       "   elec_mmbtu_gen  netgen_gen year_month_nerc  number_affected  \\\n",
       "0         7697153      778699     2008-1-SERC              0.0   \n",
       "1         7697153      778699     2008-1-SERC              0.0   \n",
       "2            2489      146327     2008-1-SERC              0.0   \n",
       "3         2884003      244784     2008-1-SERC              0.0   \n",
       "4          113543       11487     2008-1-SERC              0.0   \n",
       "\n",
       "   disturbance_events  \n",
       "0                 0.0  \n",
       "1                 0.0  \n",
       "2                 0.0  \n",
       "3                 0.0  \n",
       "4                 0.0  "
      ]
     },
     "execution_count": 242,
     "metadata": {},
     "output_type": "execute_result"
    }
   ],
   "source": [
    "conn = sqlite3.connect(\"eia\")\n",
    "cursor = conn.cursor()\n",
    "df = pd.DataFrame(cursor.execute(\"\"\"select * from combined5\"\"\").fetchall())\n",
    "df.columns = [description[0] for description in cursor.description]\n",
    "df = df.drop(columns=[\"index\", \"level_0\"])\n",
    "df.head()"
   ]
  },
  {
   "cell_type": "code",
   "execution_count": 222,
   "metadata": {
    "ExecuteTime": {
     "end_time": "2019-07-29T19:38:56.129523Z",
     "start_time": "2019-07-29T19:38:56.120383Z"
    },
    "hidden": true
   },
   "outputs": [
    {
     "data": {
      "text/plain": [
       "(440666, 65)"
      ]
     },
     "execution_count": 222,
     "metadata": {},
     "output_type": "execute_result"
    }
   ],
   "source": [
    "df.shape"
   ]
  },
  {
   "cell_type": "code",
   "execution_count": 243,
   "metadata": {
    "ExecuteTime": {
     "end_time": "2019-07-30T14:25:52.969011Z",
     "start_time": "2019-07-30T14:25:52.933798Z"
    },
    "hidden": true
   },
   "outputs": [],
   "source": [
    "ng_fields = [ 'contract_type', 'fuel_cost', 'natural_gas_delivery_contract_type', 'natural_gas_supply_contract_type', 'natural_gas_transportation_service', 'operator_id',  'plant_id', 'plant_state', 'primary_transportation_mode', 'purchase_type', 'quantity', 'regulated', \"reporting_frequency\", \"secondary_transportation_mode\", \"supplier\", \"combined_heat_and_power_plant\", \"nerc_region\", \"reported_prime_mover\", \"mmbtu_per_unit_gen\", \"disturbance_events\", \"number_affected\", \"net_generation_megawatthours\"]"
   ]
  },
  {
   "cell_type": "markdown",
   "metadata": {},
   "source": [
    "# Checking Correlations"
   ]
  },
  {
   "cell_type": "code",
   "execution_count": 223,
   "metadata": {
    "ExecuteTime": {
     "end_time": "2019-07-29T19:39:08.139106Z",
     "start_time": "2019-07-29T19:39:08.129524Z"
    }
   },
   "outputs": [
    {
     "data": {
      "text/plain": [
       "(268454, 1708)"
      ]
     },
     "execution_count": 223,
     "metadata": {},
     "output_type": "execute_result"
    }
   ],
   "source": [
    "df_ng.shape"
   ]
  },
  {
   "cell_type": "code",
   "execution_count": 6,
   "metadata": {
    "ExecuteTime": {
     "end_time": "2019-07-23T14:23:49.908088Z",
     "start_time": "2019-07-23T14:23:46.973812Z"
    }
   },
   "outputs": [],
   "source": [
    "# Label encode categorical fields so that they can be correlated\n",
    "df_ng = df[df[\"fuel_group\"] == \"Natural Gas\"][ng_fields]\n",
    "not_encode = []\n",
    "to_encode = []\n",
    "for fld, fld_type in df_ng[ng_fields].dtypes.items():\n",
    "    if \"object\" == fld_type:\n",
    "        to_encode.append(fld)\n",
    "    else:\n",
    "        not_encode.append(fld)\n",
    "le = LabelEncoder()\n",
    "temp1 = df_ng[not_encode].reset_index()\n",
    "temp2 = df_ng[to_encode].apply(le.fit_transform).reset_index()\n",
    "df_ng = temp1.merge(temp2, on=\"index\").set_index(\"index\")"
   ]
  },
  {
   "cell_type": "code",
   "execution_count": 7,
   "metadata": {
    "ExecuteTime": {
     "end_time": "2019-07-23T14:23:53.113876Z",
     "start_time": "2019-07-23T14:23:52.724328Z"
    }
   },
   "outputs": [],
   "source": [
    "corr = df_ng.corr()"
   ]
  },
  {
   "cell_type": "code",
   "execution_count": 8,
   "metadata": {
    "ExecuteTime": {
     "end_time": "2019-07-23T14:23:55.134743Z",
     "start_time": "2019-07-23T14:23:55.084059Z"
    },
    "scrolled": true
   },
   "outputs": [
    {
     "data": {
      "text/plain": [
       "[['natural_gas_delivery_contract_type',\n",
       "  'natural_gas_supply_contract_type',\n",
       "  0.9949670257245146],\n",
       " ['natural_gas_supply_contract_type',\n",
       "  'natural_gas_delivery_contract_type',\n",
       "  0.9949670257245146],\n",
       " ['disturbance_events', 'number_affected', 0.7655082998226197],\n",
       " ['number_affected', 'disturbance_events', 0.7655082998226197],\n",
       " ['mmbtu_per_unit_gen', 'reported_prime_mover', 0.4551813724903194],\n",
       " ['natural_gas_transportation_service', 'purchase_type', 0.375298202366619],\n",
       " ['purchase_type', 'natural_gas_transportation_service', 0.375298202366619],\n",
       " ['contract_type', 'natural_gas_delivery_contract_type', 0.35006057060938583],\n",
       " ['natural_gas_delivery_contract_type', 'contract_type', 0.35006057060938583],\n",
       " ['contract_type', 'natural_gas_supply_contract_type', 0.34927582099496446],\n",
       " ['natural_gas_supply_contract_type', 'contract_type', 0.34927582099496446],\n",
       " ['primary_transportation_mode', 'purchase_type', 0.2942462825380524],\n",
       " ['purchase_type', 'primary_transportation_mode', 0.2942462825380524],\n",
       " ['plant_state', 'reporting_frequency', 0.26971142171420365],\n",
       " ['natural_gas_transportation_service',\n",
       "  'primary_transportation_mode',\n",
       "  0.2688992243365775],\n",
       " ['primary_transportation_mode',\n",
       "  'natural_gas_transportation_service',\n",
       "  0.2688992243365775],\n",
       " ['contract_type', 'nerc_region', 0.26223426909386793],\n",
       " ['purchase_type', 'reporting_frequency', 0.22132451381074086],\n",
       " ['quantity', 'reporting_frequency', 0.21165008245222203],\n",
       " ['natural_gas_transportation_service',\n",
       "  'reporting_frequency',\n",
       "  0.1889542682868365]]"
      ]
     },
     "execution_count": 8,
     "metadata": {},
     "output_type": "execute_result"
    }
   ],
   "source": [
    "corrs = []\n",
    "for col in corr.columns:\n",
    "    top_3 = corr[col].sort_values(ascending=False)[1:6]        \n",
    "    for val in top_3.index:\n",
    "        corrs.append([col, val, top_3[val]])\n",
    "\n",
    "corrs = sorted(corrs, key=lambda x: x[2], reverse=True)\n",
    "corrs[0:20]  "
   ]
  },
  {
   "cell_type": "markdown",
   "metadata": {},
   "source": [
    "Some obvious correlations in here, like gas supply and delivery contract type or disturbance events and number affected (by disturbance events). It helps give an idea of the data, btu it doesn't indicate any changes to features."
   ]
  },
  {
   "cell_type": "markdown",
   "metadata": {
    "ExecuteTime": {
     "end_time": "2019-07-23T14:28:10.442297Z",
     "start_time": "2019-07-23T14:28:10.438360Z"
    }
   },
   "source": [
    "### Checking Correlations Involving Fuel Cost"
   ]
  },
  {
   "cell_type": "code",
   "execution_count": 9,
   "metadata": {
    "ExecuteTime": {
     "end_time": "2019-07-23T14:24:36.416175Z",
     "start_time": "2019-07-23T14:24:36.376303Z"
    },
    "scrolled": true
   },
   "outputs": [
    {
     "data": {
      "text/plain": [
       "[['fuel_cost', 'number_affected', 0.016547105838107864],\n",
       " ['fuel_cost', 'regulated', nan],\n",
       " ['number_affected', 'fuel_cost', 0.016547105838107864],\n",
       " ['fuel_cost', 'disturbance_events', 0.008163806819898293],\n",
       " ['disturbance_events', 'fuel_cost', 0.008163806819898293],\n",
       " ['fuel_cost', 'reporting_frequency', 0.005495275823372207],\n",
       " ['reporting_frequency', 'fuel_cost', 0.005495275823372207],\n",
       " ['fuel_cost', 'nerc_region', 0.00423735556784291],\n",
       " ['nerc_region', 'fuel_cost', 0.00423735556784291],\n",
       " ['fuel_cost', 'plant_id', 0.003095974637123335],\n",
       " ['plant_id', 'fuel_cost', 0.003095974637123335],\n",
       " ['fuel_cost', 'primary_transportation_mode', 0.002930004254140046],\n",
       " ['primary_transportation_mode', 'fuel_cost', 0.002930004254140046],\n",
       " ['fuel_cost', 'supplier', 0.00274519529513206],\n",
       " ['supplier', 'fuel_cost', 0.00274519529513206],\n",
       " ['fuel_cost', 'natural_gas_supply_contract_type', 0.0006275626240884574],\n",
       " ['natural_gas_supply_contract_type', 'fuel_cost', 0.0006275626240884574],\n",
       " ['fuel_cost', 'natural_gas_delivery_contract_type', 0.0003224660167887991],\n",
       " ['natural_gas_delivery_contract_type', 'fuel_cost', 0.0003224660167887991],\n",
       " ['fuel_cost', 'reported_prime_mover', 0.00010096364183117714]]"
      ]
     },
     "execution_count": 9,
     "metadata": {},
     "output_type": "execute_result"
    }
   ],
   "source": [
    "corrs = []\n",
    "for col in corr.columns:\n",
    "    top_3 = corr[col].sort_values(ascending=False)[1:]       \n",
    "    for val in top_3.index:\n",
    "        if col == \"fuel_cost\" or val == \"fuel_cost\":\n",
    "            corrs.append([col, val, top_3[val]])\n",
    "\n",
    "corrs = sorted(corrs, key=lambda x: x[2], reverse=True)\n",
    "corrs[0:20]  "
   ]
  },
  {
   "cell_type": "markdown",
   "metadata": {},
   "source": [
    "Interesting that disturbance events and number affected are correlated to fuel cost, but the correlation is not high. Same for other correlations: interesting but not strong enough to infer anything. On to modelling."
   ]
  },
  {
   "cell_type": "code",
   "execution_count": null,
   "metadata": {},
   "outputs": [],
   "source": []
  },
  {
   "cell_type": "code",
   "execution_count": null,
   "metadata": {},
   "outputs": [],
   "source": []
  },
  {
   "cell_type": "code",
   "execution_count": 299,
   "metadata": {
    "ExecuteTime": {
     "end_time": "2019-07-30T18:21:36.469085Z",
     "start_time": "2019-07-30T18:21:36.442748Z"
    }
   },
   "outputs": [
    {
     "data": {
      "text/plain": [
       "Index(['average_ash_content', 'average_heat_content',\n",
       "       'average_mercury_content', 'average_sulfur_content', 'chlorine_content',\n",
       "       'coalmine_county', 'coalmine_msha_id', 'coalmine_name',\n",
       "       'coalmine_state', 'coalmine_type', 'contract_expiration_date',\n",
       "       'contract_type', 'energy_source', 'fuel_cost', 'fuel_group',\n",
       "       'moisture_content', 'month', 'natural_gas_delivery_contract_type',\n",
       "       'natural_gas_supply_contract_type',\n",
       "       'natural_gas_transportation_service', 'operator_id', 'operator_name',\n",
       "       'plant_id', 'plant_name', 'plant_state', 'primary_transportation_mode',\n",
       "       'purchase_type', 'quantity', 'regulated', 'reporting_frequency',\n",
       "       'secondary_transportation_mode', 'supplier', 'year', 'plant_id_gen',\n",
       "       'combined_heat_and_power_plant', 'plant_name_gen', 'operator_name_gen',\n",
       "       'state_gen', 'census_region', 'nerc_region', 'reserved_', 'naics_code',\n",
       "       'eia_sector_number', 'sector_name', 'reported_prime_mover',\n",
       "       'reported_fuel_type_code', 'aer_fuel_type_code', 'reserved_1',\n",
       "       'reserved_2', 'physical_unit_label', 'total_fuel_consumption_quantity',\n",
       "       'electric_fuel_consumption_quantity', 'total_fuel_consumption_mmbtu',\n",
       "       'elec_fuel_consumption_mmbtu', 'net_generation_megawatthours',\n",
       "       'year_gen', 'quantity_gen', 'elec_quantity_gen', 'mmbtu_per_unit_gen',\n",
       "       'tot_mmbtu_gen', 'elec_mmbtu_gen', 'netgen_gen', 'year_month_nerc',\n",
       "       'number_affected', 'disturbance_events'],\n",
       "      dtype='object')"
      ]
     },
     "execution_count": 299,
     "metadata": {},
     "output_type": "execute_result"
    }
   ],
   "source": [
    "df.columns"
   ]
  },
  {
   "cell_type": "markdown",
   "metadata": {},
   "source": [
    "# Modelling"
   ]
  },
  {
   "cell_type": "code",
   "execution_count": 244,
   "metadata": {
    "ExecuteTime": {
     "end_time": "2019-07-30T14:26:11.611158Z",
     "start_time": "2019-07-30T14:26:11.585428Z"
    }
   },
   "outputs": [],
   "source": [
    "def get_ng():\n",
    "    df_ng = df[df[\"fuel_group\"] == \"Natural Gas\"][ng_fields]\n",
    "    not_encode = []\n",
    "    to_encode = []\n",
    "    for fld, fld_type in df_ng[ng_fields].dtypes.items():\n",
    "        if \"object\" == fld_type:\n",
    "            to_encode.append(fld)\n",
    "        else:\n",
    "            not_encode.append(fld)\n",
    "    temp1 = df_ng[not_encode].reset_index()\n",
    "    temp2 = pd.get_dummies(df_ng[to_encode]).reset_index()\n",
    "    df_ng = temp1.merge(temp2, on=\"index\").set_index(\"index\")\n",
    "    return df_ng"
   ]
  },
  {
   "cell_type": "code",
   "execution_count": 245,
   "metadata": {
    "ExecuteTime": {
     "end_time": "2019-07-30T14:26:28.085834Z",
     "start_time": "2019-07-30T14:26:28.075833Z"
    }
   },
   "outputs": [],
   "source": [
    "def get_xy():\n",
    "    X = df_ng.drop(columns=[\"fuel_cost\"])\n",
    "    y = (df_ng.fuel_cost > df_ng.fuel_cost.quantile(.9))\n",
    "    return X, y"
   ]
  },
  {
   "cell_type": "markdown",
   "metadata": {},
   "source": [
    "## Train-Test Split"
   ]
  },
  {
   "cell_type": "code",
   "execution_count": 273,
   "metadata": {
    "ExecuteTime": {
     "end_time": "2019-07-30T15:34:26.713865Z",
     "start_time": "2019-07-30T15:33:21.834838Z"
    }
   },
   "outputs": [],
   "source": [
    "df_ng = get_ng()\n",
    "X, y = get_xy()\n",
    "\n",
    "X_train, X_test, y_train, y_test = train_test_split(X, y, test_size = 0.2)\n",
    "\n",
    "model = DecisionTreeClassifier(random_state=23, max_depth=10)\n",
    "results = model.fit(X_train, y_train)"
   ]
  },
  {
   "cell_type": "code",
   "execution_count": 163,
   "metadata": {
    "ExecuteTime": {
     "end_time": "2019-07-29T18:06:51.018729Z",
     "start_time": "2019-07-29T18:06:47.507246Z"
    }
   },
   "outputs": [
    {
     "data": {
      "text/plain": [
       "0.9116943684951612"
      ]
     },
     "execution_count": 163,
     "metadata": {},
     "output_type": "execute_result"
    }
   ],
   "source": [
    "results.score(X_test, y_test)"
   ]
  },
  {
   "cell_type": "markdown",
   "metadata": {},
   "source": [
    "Decent score for accuracy, indicating better than baseline == \"no price spikes\" for the imbalanced model (p=.9). But f1 score will be the better determinant."
   ]
  },
  {
   "cell_type": "code",
   "execution_count": 201,
   "metadata": {
    "ExecuteTime": {
     "end_time": "2019-07-29T18:51:37.599155Z",
     "start_time": "2019-07-29T18:51:36.003429Z"
    }
   },
   "outputs": [
    {
     "name": "stdout",
     "output_type": "stream",
     "text": [
      "Precision: 0.7181767648693719\n",
      "Recall: 0.24199288256227758\n",
      "F1: 0.3620061641916503\n",
      "       0     1\n",
      "0  47845   507\n",
      "1   4047  1292\n",
      "Cost Function: -0.015731876629165188\n"
     ]
    }
   ],
   "source": [
    "y_pred = results.predict(X_test)\n",
    "get_scores(y_test, y_pred, X_test)"
   ]
  },
  {
   "cell_type": "markdown",
   "metadata": {},
   "source": [
    "Decent. All scores around 70 is not bad. Cost function is negative indicating a net benefit to  using the model."
   ]
  },
  {
   "cell_type": "markdown",
   "metadata": {
    "ExecuteTime": {
     "end_time": "2019-07-30T17:15:34.354930Z",
     "start_time": "2019-07-30T17:15:34.300058Z"
    }
   },
   "source": [
    "## ROC Curve"
   ]
  },
  {
   "cell_type": "code",
   "execution_count": 290,
   "metadata": {
    "ExecuteTime": {
     "end_time": "2019-07-30T17:50:15.078486Z",
     "start_time": "2019-07-30T17:50:14.172540Z"
    }
   },
   "outputs": [],
   "source": [
    "X,y = get_xy()"
   ]
  },
  {
   "cell_type": "code",
   "execution_count": 291,
   "metadata": {
    "ExecuteTime": {
     "end_time": "2019-07-30T17:50:35.549368Z",
     "start_time": "2019-07-30T17:50:33.293568Z"
    }
   },
   "outputs": [],
   "source": [
    "y_pred_proba = results.predict_proba(X_test)"
   ]
  },
  {
   "cell_type": "code",
   "execution_count": 292,
   "metadata": {
    "ExecuteTime": {
     "end_time": "2019-07-30T17:50:48.215353Z",
     "start_time": "2019-07-30T17:50:48.180492Z"
    }
   },
   "outputs": [],
   "source": [
    "y_pred_proba_1 = [x[1] for x in y_pred_proba]"
   ]
  },
  {
   "cell_type": "code",
   "execution_count": 294,
   "metadata": {
    "ExecuteTime": {
     "end_time": "2019-07-30T17:51:15.914189Z",
     "start_time": "2019-07-30T17:51:15.884123Z"
    }
   },
   "outputs": [],
   "source": [
    "pr = roc_curve(y_test, y_pred_proba_1)"
   ]
  },
  {
   "cell_type": "code",
   "execution_count": 293,
   "metadata": {
    "ExecuteTime": {
     "end_time": "2019-07-30T17:51:02.566437Z",
     "start_time": "2019-07-30T17:51:02.058230Z"
    },
    "scrolled": true
   },
   "outputs": [
    {
     "data": {
      "text/plain": [
       "[<matplotlib.lines.Line2D at 0x1a50aafe10>]"
      ]
     },
     "execution_count": 293,
     "metadata": {},
     "output_type": "execute_result"
    },
    {
     "data": {
      "image/png": "[encoded data removed]",
      "text/plain": [
       "<Figure size 1152x720 with 1 Axes>"
      ]
     },
     "metadata": {
      "needs_background": "light"
     },
     "output_type": "display_data"
    }
   ],
   "source": [
    "fig = plt.figure(figsize=(16,10))\n",
    "plt.title(\"ROC Curve\")\n",
    "plt.xlabel(\"True Positive Rate\")\n",
    "plt.ylabel(\"False Positive Rate\")\n",
    "plt.plot(pr[0], pr[1])\n",
    "plt.plot(pr[0],pr[0])"
   ]
  },
  {
   "cell_type": "code",
   "execution_count": 295,
   "metadata": {
    "ExecuteTime": {
     "end_time": "2019-07-30T17:51:32.306882Z",
     "start_time": "2019-07-30T17:51:32.289139Z"
    },
    "scrolled": false
   },
   "outputs": [
    {
     "data": {
      "text/plain": [
       "0.7314337362886443"
      ]
     },
     "execution_count": 295,
     "metadata": {},
     "output_type": "execute_result"
    }
   ],
   "source": [
    "auc(pr[0], pr[1])"
   ]
  },
  {
   "cell_type": "markdown",
   "metadata": {},
   "source": [
    "## K Folds"
   ]
  },
  {
   "cell_type": "code",
   "execution_count": 247,
   "metadata": {
    "ExecuteTime": {
     "end_time": "2019-07-30T14:27:14.182530Z",
     "start_time": "2019-07-30T14:26:59.599292Z"
    }
   },
   "outputs": [],
   "source": [
    "df_ng = get_ng()\n",
    "X, y = get_xy()"
   ]
  },
  {
   "cell_type": "code",
   "execution_count": 281,
   "metadata": {
    "ExecuteTime": {
     "end_time": "2019-07-30T17:18:09.300955Z",
     "start_time": "2019-07-30T17:18:09.270443Z"
    }
   },
   "outputs": [],
   "source": [
    "\n",
    "def get_scores(y_test, y_pred, X):\n",
    "    from sklearn.metrics import f1_score, recall_score, precision_score\n",
    "    precision = precision_score(y_test, y_pred)\n",
    "    recall =  recall_score(y_test, y_pred)\n",
    "    f1 = f1_score(y_test, y_pred)\n",
    "    cost = cost_function(y_test, y_pred, X)\n",
    "    \n",
    "    print(\"Precision: %s\" % precision)\n",
    "    print(\"Recall: %s\" % recall)\n",
    "    print(\"F1: %s\" % f1)\n",
    "    print(\"Cost Function: %s\" % cost)\n",
    "    return {\"precision\": precision, \"recall\": recall, \"f1\": f1, \"cost\": cost}"
   ]
  },
  {
   "cell_type": "code",
   "execution_count": 286,
   "metadata": {
    "ExecuteTime": {
     "end_time": "2019-07-30T17:26:24.730861Z",
     "start_time": "2019-07-30T17:24:15.675488Z"
    },
    "scrolled": false
   },
   "outputs": [
    {
     "name": "stdout",
     "output_type": "stream",
     "text": [
      "       0    1\n",
      "0  35190  350\n",
      "1  17465  686\n",
      "Precision: 0.6621621621621622\n",
      "Recall: 0.037794060933281914\n",
      "F1: 0.07150674936154687\n",
      "Cost Function: -0.4262904463960912\n",
      "       0    1\n",
      "0  50935  443\n",
      "1   1935  378\n",
      "Precision: 0.46041412911084045\n",
      "Recall: 0.16342412451361868\n",
      "F1: 0.2412252712188896\n",
      "Cost Function: -0.014139870751020273\n",
      "       0    1\n",
      "0  51329  147\n",
      "1   2020  195\n",
      "Precision: 0.5701754385964912\n",
      "Recall: 0.08803611738148984\n",
      "F1: 0.1525224872897927\n",
      "Cost Function: -0.006199393330628399\n",
      "       0    1\n",
      "0  51417  259\n",
      "1   1759  256\n",
      "Precision: 0.4970873786407767\n",
      "Recall: 0.1270471464019851\n",
      "F1: 0.20237154150197625\n",
      "Cost Function: -0.005624875064680656\n",
      "       0    1\n",
      "0  50965  579\n",
      "1   1747  399\n",
      "Precision: 0.40797546012269936\n",
      "Recall: 0.1859273066169618\n",
      "F1: 0.25544174135723435\n",
      "Cost Function: -0.006525741682505816\n"
     ]
    }
   ],
   "source": [
    "scores = []\n",
    "\n",
    "for train_index, test_index in folds.split(X):\n",
    "    X_train, X_test = X.iloc[train_index], X.iloc[test_index]\n",
    "    y_train, y_test = y.iloc[train_index], y.iloc[test_index]\n",
    "    \n",
    "    model = DecisionTreeClassifier(random_state=23, max_depth=10)\n",
    "    y_pred = model.fit(X_train, y_train).predict(X_test)\n",
    "    scores.append(get_scores(y_test, y_pred, X_test))"
   ]
  },
  {
   "cell_type": "markdown",
   "metadata": {},
   "source": [
    "-40% cost is quite good! Other values could certainly be better, but that by itself would certainly make the mdoel worthwhile."
   ]
  },
  {
   "cell_type": "code",
   "execution_count": 288,
   "metadata": {
    "ExecuteTime": {
     "end_time": "2019-07-30T17:27:16.619760Z",
     "start_time": "2019-07-30T17:27:16.233376Z"
    }
   },
   "outputs": [
    {
     "data": {
      "text/plain": [
       "<matplotlib.legend.Legend at 0x1ab46f6a20>"
      ]
     },
     "execution_count": 288,
     "metadata": {},
     "output_type": "execute_result"
    },
    {
     "data": {
      "image/png": "[encoded data removed]",
      "text/plain": [
       "<Figure size 432x288 with 1 Axes>"
      ]
     },
     "metadata": {
      "needs_background": "light"
     },
     "output_type": "display_data"
    }
   ],
   "source": [
    "xs = list(range(1,6))\n",
    "plt.plot(xs, [x[\"precision\"] for x in scores], label=\"Precision\")\n",
    "plt.plot(xs, [x[\"recall\"] for x in scores], label=\"Recall\")\n",
    "plt.plot(xs, [x[\"f1\"] for x in scores], label=\"F1\")\n",
    "plt.plot(xs, [x[\"cost\"] for x in scores], label=\"Cost\")\n",
    "plt.legend()"
   ]
  },
  {
   "cell_type": "markdown",
   "metadata": {},
   "source": [
    "## Analyzing Results of Subsets"
   ]
  },
  {
   "cell_type": "code",
   "execution_count": 278,
   "metadata": {
    "ExecuteTime": {
     "end_time": "2019-07-30T15:45:52.599694Z",
     "start_time": "2019-07-30T15:45:51.151551Z"
    }
   },
   "outputs": [
    {
     "name": "stdout",
     "output_type": "stream",
     "text": [
      "Precision: 0.6976600985221675\n",
      "Recall: 0.22764717701426562\n",
      "F1: 0.3432813210119679\n",
      "       0     1\n",
      "0  35934   491\n",
      "1   3844  1133\n",
      "Cost Function: -0.08077429351139152\n"
     ]
    }
   ],
   "source": [
    "X_test2 = X_test[X_test[\"natural_gas_delivery_contract_type_N/A\"] == 1]\n",
    "y_test2 = y_test[X_test2.index]\n",
    "y_pred = results.predict(X_test2)\n",
    "get_scores(y_test2, y_pred, X_test2)"
   ]
  },
  {
   "cell_type": "markdown",
   "metadata": {},
   "source": [
    "Model performs much better on data where the delivery contract is N/A for some reason"
   ]
  },
  {
   "cell_type": "code",
   "execution_count": 279,
   "metadata": {
    "ExecuteTime": {
     "end_time": "2019-07-30T15:46:11.728298Z",
     "start_time": "2019-07-30T15:46:11.330675Z"
    }
   },
   "outputs": [
    {
     "name": "stdout",
     "output_type": "stream",
     "text": [
      "Precision: 0.9340659340659341\n",
      "Recall: 0.2190721649484536\n",
      "F1: 0.35490605427974947\n",
      "       0   1\n",
      "0  11895   6\n",
      "1    303  85\n",
      "Cost Function: -0.004741251194801035\n"
     ]
    }
   ],
   "source": [
    "X_test2 = X_test[X_test[\"natural_gas_delivery_contract_type_N/A\"] != 1]\n",
    "y_test2 = y_test[X_test2.index]\n",
    "y_pred = results.predict(X_test2)\n",
    "get_scores(y_test2, y_pred, X_test2)"
   ]
  },
  {
   "cell_type": "markdown",
   "metadata": {},
   "source": [
    "When the delivery contract isn't unknown or empty, the model doesn't add much benefit, but that's also because there are few price spikes altogether. And the precision is very good."
   ]
  },
  {
   "cell_type": "markdown",
   "metadata": {
    "heading_collapsed": true
   },
   "source": [
    "# Trying Different Depths"
   ]
  },
  {
   "cell_type": "code",
   "execution_count": 112,
   "metadata": {
    "ExecuteTime": {
     "end_time": "2019-07-29T15:38:37.501308Z",
     "start_time": "2019-07-29T15:35:53.932718Z"
    },
    "hidden": true
   },
   "outputs": [
    {
     "name": "stdout",
     "output_type": "stream",
     "text": [
      "Precision: 0.6085714285714285\n",
      "Recall: 0.03940795559666975\n",
      "F1: 0.07402258905299738\n",
      "       0    1\n",
      "0  48149  137\n",
      "1   5192  213\n",
      "Cost Function: -0.0005723756180906507\n",
      "Precision: 0.7380952380952381\n",
      "Recall: 0.15485661424606845\n",
      "F1: 0.25600244685731766\n",
      "       0    1\n",
      "0  47989  297\n",
      "1   4568  837\n",
      "Cost Function: -0.003781918939984932\n",
      "Precision: 0.7251509054325955\n",
      "Recall: 0.3333950046253469\n",
      "F1: 0.4567807351077313\n",
      "       0     1\n",
      "0  47603   683\n",
      "1   3603  1802\n",
      "Cost Function: -0.009581553377898825\n",
      "Precision: 0.7200360468609192\n",
      "Recall: 0.4434782608695652\n",
      "F1: 0.5488893977558965\n",
      "       0     1\n",
      "0  47354   932\n",
      "1   3008  2397\n",
      "Cost Function: -0.019629702899649003\n",
      "Precision: 0.7108719052744887\n",
      "Recall: 0.6109158186864014\n",
      "F1: 0.6571144278606965\n",
      "       0     1\n",
      "0  46943  1343\n",
      "1   2103  3302\n",
      "Cost Function: -0.028499225948148677\n"
     ]
    }
   ],
   "source": [
    "for depth in [5, 10, 15, 20, 30]:\n",
    "    model = DecisionTreeClassifier(random_state=23, criterion='entropy', max_depth=depth)\n",
    "    results = model.fit(X_train, y_train)\n",
    "    y_pred = results.predict(X_test)\n",
    "    get_scores(y_test, y_pred, X_test)"
   ]
  },
  {
   "cell_type": "markdown",
   "metadata": {
    "hidden": true
   },
   "source": [
    "Precision tops out at depth=10, which is good. Don't need too many levels"
   ]
  },
  {
   "cell_type": "markdown",
   "metadata": {
    "heading_collapsed": true
   },
   "source": [
    "# Trying Different Cutoff Thesholds"
   ]
  },
  {
   "cell_type": "code",
   "execution_count": 48,
   "metadata": {
    "ExecuteTime": {
     "end_time": "2019-07-26T20:09:58.059038Z",
     "start_time": "2019-07-26T20:05:27.550509Z"
    },
    "hidden": true,
    "scrolled": false
   },
   "outputs": [
    {
     "name": "stdout",
     "output_type": "stream",
     "text": [
      "Precision: 0.783563718992615\n",
      "Recall: 0.7734579439252336\n",
      "F1: 0.7784780359326497\n",
      "       0     1\n",
      "0  40705  2286\n",
      "1   2424  8276\n",
      "Cost Function: -0.11831184418460877\n",
      "Precision: 0.7680020283975659\n",
      "Recall: 0.7581977471839799\n",
      "F1: 0.7630683965234917\n",
      "       0     1\n",
      "0  43871  1830\n",
      "1   1932  6058\n",
      "Cost Function: -0.08041131426850526\n",
      "Precision: 0.6982515510434292\n",
      "Recall: 0.6969412647776319\n",
      "F1: 0.6975957926371149\n",
      "       0     1\n",
      "0  46757  1605\n",
      "1   1615  3714\n",
      "Cost Function: -0.04685456535875492\n",
      "Precision: 0.577818853974122\n",
      "Recall: 0.5963372758489126\n",
      "F1: 0.5869320315433721\n",
      "       0     1\n",
      "0  49928  1142\n",
      "1   1058  1563\n",
      "Cost Function: -0.015292740288847901\n",
      "Precision: 0.7903225806451613\n",
      "Recall: 0.735\n",
      "F1: 0.7616580310880828\n",
      "       0    1\n",
      "0  52974  117\n",
      "1    159  441\n",
      "Cost Function: -0.0005302167548820255\n"
     ]
    }
   ],
   "source": [
    "df_ng = get_ng()\n",
    "X = df_ng.drop(columns=[\"fuel_cost\"])\n",
    "\n",
    "for cutoff in [.8, .85, .9, .95, .99]:\n",
    "    y = (df_ng.fuel_cost > df_ng.fuel_cost.quantile(cutoff))\n",
    "\n",
    "    X_train, X_test, y_train, y_test = train_test_split(X, y, test_size = 0.2)\n",
    "\n",
    "    model = DecisionTreeClassifier(random_state=23, criterion='entropy')\n",
    "    results = model.fit(X_train, y_train)\n",
    "    y_pred = results.predict(X_test)\n",
    "    get_scores(y_test, y_pred, X_test)\n",
    "    "
   ]
  },
  {
   "cell_type": "code",
   "execution_count": 55,
   "metadata": {
    "ExecuteTime": {
     "end_time": "2019-07-26T20:58:44.554835Z",
     "start_time": "2019-07-26T20:58:44.112154Z"
    },
    "hidden": true
   },
   "outputs": [
    {
     "data": {
      "text/plain": [
       "[<matplotlib.lines.Line2D at 0x1a5c1eb358>]"
      ]
     },
     "execution_count": 55,
     "metadata": {},
     "output_type": "execute_result"
    },
    {
     "data": {
      "image/png": "[encoded data removed]",
      "text/plain": [
       "<Figure size 432x288 with 1 Axes>"
      ]
     },
     "metadata": {
      "needs_background": "light"
     },
     "output_type": "display_data"
    }
   ],
   "source": [
    "precision = [0.783563718992615, 0.7680020283975659,  0.6982515510434292,   0.577818853974122, 0.7903225806451613]\n",
    "recall = [0.7734579439252336, 0.7581977471839799, 0.6969412647776319, 0.5963372758489126, 0.735]\n",
    "f1 = [0.7784780359326497, 0.7630683965234917, 0.6975957926371149, 0.5869320315433721, 0.7616580310880828]\n",
    "cost = [-0.11831184418460877, -0.08041131426850526, -0.04685456535875492, -0.015292740288847901, -0.015292740288847901]\n",
    "cutoffs = [.8, .85, .9, .95, .99]\n",
    "plt.plot(cutoffs, precision)\n",
    "plt.plot(cutoffs, recall)\n",
    "plt.plot(cutoffs, f1)\n",
    "plt.plot(cutoffs, cost)"
   ]
  },
  {
   "cell_type": "markdown",
   "metadata": {
    "hidden": true
   },
   "source": [
    "Maybe .8 is a better cutoff. Could do .98 but "
   ]
  },
  {
   "cell_type": "markdown",
   "metadata": {
    "heading_collapsed": true
   },
   "source": [
    "# Max Depth=10, Fuel Cost Cutoff = .8"
   ]
  },
  {
   "cell_type": "markdown",
   "metadata": {
    "hidden": true
   },
   "source": [
    "## Stratify vs. Not Stratify"
   ]
  },
  {
   "cell_type": "code",
   "execution_count": 205,
   "metadata": {
    "ExecuteTime": {
     "end_time": "2019-07-29T18:56:44.034049Z",
     "start_time": "2019-07-29T18:55:53.368593Z"
    },
    "hidden": true
   },
   "outputs": [],
   "source": [
    "df_ng = get_ng()\n",
    "X = df_ng.drop(columns=[\"fuel_cost\"])\n",
    "\n",
    "y = (df_ng.fuel_cost > df_ng.fuel_cost.quantile(.8))\n",
    "\n",
    "X_train, X_test, y_train, y_test = train_test_split(X, y, test_size = 0.2, stratify=y)\n",
    "\n",
    "model = DecisionTreeClassifier(random_state=23, max_depth=10)\n",
    "results = model.fit(X_train, y_train)\n"
   ]
  },
  {
   "cell_type": "code",
   "execution_count": 206,
   "metadata": {
    "ExecuteTime": {
     "end_time": "2019-07-29T18:56:58.049531Z",
     "start_time": "2019-07-29T18:56:56.772330Z"
    },
    "hidden": true,
    "scrolled": true
   },
   "outputs": [
    {
     "name": "stdout",
     "output_type": "stream",
     "text": [
      "Precision: 0.6812396236856668\n",
      "Recall: 0.3443998880910193\n",
      "F1: 0.4575074331020812\n",
      "       0     1\n",
      "0  41240  1728\n",
      "1   7030  3693\n",
      "Cost Function: -0.06573906426039261\n"
     ]
    }
   ],
   "source": [
    "y_pred = results.predict(X_test)\n",
    "get_scores(y_test, y_pred, X_test)"
   ]
  },
  {
   "cell_type": "markdown",
   "metadata": {
    "hidden": true
   },
   "source": [
    "Looking good. A number of false positives, but few false negatives and good number of true positives."
   ]
  },
  {
   "cell_type": "code",
   "execution_count": 207,
   "metadata": {
    "ExecuteTime": {
     "end_time": "2019-07-29T18:57:14.643093Z",
     "start_time": "2019-07-29T18:57:13.737473Z"
    },
    "hidden": true
   },
   "outputs": [
    {
     "data": {
      "text/plain": [
       "0.8343156195971843"
      ]
     },
     "execution_count": 207,
     "metadata": {},
     "output_type": "execute_result"
    }
   ],
   "source": [
    "get_auc(results, y_test, y_pred)"
   ]
  },
  {
   "cell_type": "markdown",
   "metadata": {
    "hidden": true
   },
   "source": [
    "Improved AUC"
   ]
  },
  {
   "cell_type": "code",
   "execution_count": 118,
   "metadata": {
    "ExecuteTime": {
     "end_time": "2019-07-29T15:50:12.176857Z",
     "start_time": "2019-07-29T15:48:15.721452Z"
    },
    "hidden": true,
    "scrolled": false
   },
   "outputs": [
    {
     "name": "stdout",
     "output_type": "stream",
     "text": [
      "Precision: 0.27450503083414474\n",
      "Recall: 0.6309801361559265\n",
      "F1: 0.38257329450679933\n",
      "       0      1\n",
      "0  25086  17882\n",
      "1   3957   6766\n",
      "Cost Function: -0.06705154161351794\n",
      "       0      1\n",
      "0  25086  17882\n",
      "1   3957   6766\n",
      "Precision: 0.9548587181254308\n",
      "Recall: 0.25841648792315586\n",
      "F1: 0.40675229357798176\n",
      "       0     1\n",
      "0  42837   131\n",
      "1   7952  2771\n",
      "Cost Function: -0.030963385346891137\n",
      "       0     1\n",
      "0  42837   131\n",
      "1   7952  2771\n",
      "Precision: 0.922633744855967\n",
      "Recall: 0.3136249183997016\n",
      "F1: 0.4681236080178174\n",
      "       0     1\n",
      "0  42686   282\n",
      "1   7360  3363\n",
      "Cost Function: -0.07957151982534372\n",
      "       0     1\n",
      "0  42686   282\n",
      "1   7360  3363\n",
      "Precision: 0.4888673765730881\n",
      "Recall: 0.09419005875221487\n",
      "F1: 0.15794823676597075\n",
      "       0     1\n",
      "0  41912  1056\n",
      "1   9713  1010\n",
      "Cost Function: -0.007081946254419294\n",
      "       0     1\n",
      "0  41912  1056\n",
      "1   9713  1010\n",
      "Precision: 0.5490022172949002\n",
      "Recall: 0.3463905987688864\n",
      "F1: 0.4247726882827243\n",
      "       0     1\n",
      "0  39917  3051\n",
      "1   7008  3714\n",
      "Cost Function: -0.13559833628470905\n",
      "       0     1\n",
      "0  39917  3051\n",
      "1   7008  3714\n"
     ]
    },
    {
     "data": {
      "text/plain": [
       "array([-0.06705154, -0.03096339, -0.07957152, -0.00708195, -0.13559834])"
      ]
     },
     "execution_count": 118,
     "metadata": {},
     "output_type": "execute_result"
    }
   ],
   "source": [
    "cross_val_score(results, X, y, scoring=coster, cv=5)"
   ]
  },
  {
   "cell_type": "code",
   "execution_count": 225,
   "metadata": {
    "ExecuteTime": {
     "end_time": "2019-07-29T20:54:33.567423Z",
     "start_time": "2019-07-29T20:54:33.558233Z"
    },
    "hidden": true
   },
   "outputs": [
    {
     "data": {
      "text/plain": [
       "0.6379734175367061"
      ]
     },
     "execution_count": 225,
     "metadata": {},
     "output_type": "execute_result"
    }
   ],
   "source": [
    "np.mean([0.27450503083414474,\n",
    "0.9548587181254308,\n",
    "0.922633744855967,\n",
    "0.4888673765730881,\n",
    "0.5490022172949002])"
   ]
  },
  {
   "cell_type": "code",
   "execution_count": 224,
   "metadata": {
    "ExecuteTime": {
     "end_time": "2019-07-29T20:53:23.452428Z",
     "start_time": "2019-07-29T20:53:23.425199Z"
    },
    "hidden": true
   },
   "outputs": [
    {
     "data": {
      "text/plain": [
       "-0.064053348"
      ]
     },
     "execution_count": 224,
     "metadata": {},
     "output_type": "execute_result"
    }
   ],
   "source": [
    "np.mean([-0.06705154, -0.03096339, -0.07957152, -0.00708195, -0.13559834])"
   ]
  },
  {
   "cell_type": "markdown",
   "metadata": {
    "hidden": true
   },
   "source": [
    "Some of the scores are not great. But the costs are pretty good, possibly because of the weighting by quantity in the cost function. And some of the precisions (92%) are really good."
   ]
  },
  {
   "cell_type": "code",
   "execution_count": 119,
   "metadata": {
    "ExecuteTime": {
     "end_time": "2019-07-29T15:57:46.306242Z",
     "start_time": "2019-07-29T15:54:47.875458Z"
    },
    "hidden": true,
    "scrolled": true
   },
   "outputs": [
    {
     "name": "stdout",
     "output_type": "stream",
     "text": [
      "Precision: 0.27450503083414474\n",
      "Recall: 0.6309801361559265\n",
      "F1: 0.38257329450679933\n",
      "       0      1\n",
      "0  25086  17882\n",
      "1   3957   6766\n",
      "Cost Function: -0.06705154161351794\n",
      "       0      1\n",
      "0  25086  17882\n",
      "1   3957   6766\n",
      "Precision: 0.9548587181254308\n",
      "Recall: 0.25841648792315586\n",
      "F1: 0.40675229357798176\n",
      "       0     1\n",
      "0  42837   131\n",
      "1   7952  2771\n",
      "Cost Function: -0.030963385346891137\n",
      "       0     1\n",
      "0  42837   131\n",
      "1   7952  2771\n",
      "Precision: 0.922633744855967\n",
      "Recall: 0.3136249183997016\n",
      "F1: 0.4681236080178174\n",
      "       0     1\n",
      "0  42686   282\n",
      "1   7360  3363\n",
      "Cost Function: -0.07957151982534372\n",
      "       0     1\n",
      "0  42686   282\n",
      "1   7360  3363\n",
      "Precision: 0.4888673765730881\n",
      "Recall: 0.09419005875221487\n",
      "F1: 0.15794823676597075\n",
      "       0     1\n",
      "0  41912  1056\n",
      "1   9713  1010\n",
      "Cost Function: -0.007081946254419294\n",
      "       0     1\n",
      "0  41912  1056\n",
      "1   9713  1010\n",
      "Precision: 0.5490022172949002\n",
      "Recall: 0.3463905987688864\n",
      "F1: 0.4247726882827243\n",
      "       0     1\n",
      "0  39917  3051\n",
      "1   7008  3714\n",
      "Cost Function: -0.13559833628470905\n",
      "       0     1\n",
      "0  39917  3051\n",
      "1   7008  3714\n"
     ]
    },
    {
     "data": {
      "text/plain": [
       "array([-0.06705154, -0.03096339, -0.07957152, -0.00708195, -0.13559834])"
      ]
     },
     "execution_count": 119,
     "metadata": {},
     "output_type": "execute_result"
    }
   ],
   "source": [
    "df_ng = get_ng()\n",
    "X = df_ng.drop(columns=[\"fuel_cost\"])\n",
    "\n",
    "y = (df_ng.fuel_cost > df_ng.fuel_cost.quantile(.8))\n",
    "\n",
    "X_train, X_test, y_train, y_test = train_test_split(X, y, test_size = 0.2)\n",
    "\n",
    "model = DecisionTreeClassifier(random_state=23, max_depth=10)\n",
    "results = model.fit(X_train, y_train)\n",
    "cross_val_score(results, X, y, scoring=coster, cv=5)"
   ]
  },
  {
   "cell_type": "markdown",
   "metadata": {
    "ExecuteTime": {
     "end_time": "2019-07-29T15:58:47.862563Z",
     "start_time": "2019-07-29T15:58:47.842461Z"
    },
    "hidden": true
   },
   "source": [
    "No difference with stratifying."
   ]
  },
  {
   "cell_type": "markdown",
   "metadata": {
    "heading_collapsed": true
   },
   "source": [
    "# Removing Features"
   ]
  },
  {
   "cell_type": "code",
   "execution_count": 300,
   "metadata": {
    "ExecuteTime": {
     "end_time": "2019-07-30T18:57:08.988297Z",
     "start_time": "2019-07-30T18:57:07.263701Z"
    },
    "hidden": true
   },
   "outputs": [],
   "source": [
    "X, y = get_xy()\n",
    "updated_fields = list(X.columns)\n",
    "for a,b in sorted(zip(X.columns, results.feature_importances_), key=lambda x: x[1], reverse=True):\n",
    "    if b == 0:\n",
    "        updated_fields.remove(a)"
   ]
  },
  {
   "cell_type": "code",
   "execution_count": 301,
   "metadata": {
    "ExecuteTime": {
     "end_time": "2019-07-30T19:01:21.530266Z",
     "start_time": "2019-07-30T18:58:52.242837Z"
    },
    "hidden": true
   },
   "outputs": [
    {
     "name": "stdout",
     "output_type": "stream",
     "text": [
      "       0    1\n",
      "0  35190  350\n",
      "1  17465  686\n",
      "Precision: 0.6621621621621622\n",
      "Recall: 0.037794060933281914\n",
      "F1: 0.07150674936154687\n",
      "Cost Function: -0.4262904463960912\n",
      "       0    1\n",
      "0  50935  443\n",
      "1   1935  378\n",
      "Precision: 0.46041412911084045\n",
      "Recall: 0.16342412451361868\n",
      "F1: 0.2412252712188896\n",
      "Cost Function: -0.014139870751020273\n",
      "       0    1\n",
      "0  51329  147\n",
      "1   2020  195\n",
      "Precision: 0.5701754385964912\n",
      "Recall: 0.08803611738148984\n",
      "F1: 0.1525224872897927\n",
      "Cost Function: -0.006199393330628399\n",
      "       0    1\n",
      "0  51417  259\n",
      "1   1759  256\n",
      "Precision: 0.4970873786407767\n",
      "Recall: 0.1270471464019851\n",
      "F1: 0.20237154150197625\n",
      "Cost Function: -0.005624875064680656\n",
      "       0    1\n",
      "0  50965  579\n",
      "1   1747  399\n",
      "Precision: 0.40797546012269936\n",
      "Recall: 0.1859273066169618\n",
      "F1: 0.25544174135723435\n",
      "Cost Function: -0.006525741682505816\n"
     ]
    }
   ],
   "source": [
    "scores = []\n",
    "\n",
    "for train_index, test_index in folds.split(X[updated_fields]):\n",
    "    X_train, X_test = X.iloc[train_index], X.iloc[test_index]\n",
    "    y_train, y_test = y.iloc[train_index], y.iloc[test_index]\n",
    "    \n",
    "    model = DecisionTreeClassifier(random_state=23, max_depth=10)\n",
    "    y_pred = model.fit(X_train, y_train).predict(X_test)\n",
    "    scores.append(get_scores(y_test, y_pred, X_test))"
   ]
  },
  {
   "cell_type": "code",
   "execution_count": 302,
   "metadata": {
    "ExecuteTime": {
     "end_time": "2019-07-30T19:01:39.515450Z",
     "start_time": "2019-07-30T19:01:38.884625Z"
    },
    "hidden": true,
    "scrolled": true
   },
   "outputs": [
    {
     "data": {
      "text/plain": [
       "<matplotlib.legend.Legend at 0x1ab91d8400>"
      ]
     },
     "execution_count": 302,
     "metadata": {},
     "output_type": "execute_result"
    },
    {
     "data": {
      "image/png": "[encoded data removed]",
      "text/plain": [
       "<Figure size 432x288 with 1 Axes>"
      ]
     },
     "metadata": {
      "needs_background": "light"
     },
     "output_type": "display_data"
    }
   ],
   "source": [
    "xs = list(range(1,6))\n",
    "plt.plot(xs, [x[\"precision\"] for x in scores], label=\"Precision\")\n",
    "plt.plot(xs, [x[\"recall\"] for x in scores], label=\"Recall\")\n",
    "plt.plot(xs, [x[\"f1\"] for x in scores], label=\"F1\")\n",
    "plt.plot(xs, [x[\"cost\"] for x in scores], label=\"Cost\")\n",
    "plt.legend()"
   ]
  },
  {
   "cell_type": "markdown",
   "metadata": {
    "hidden": true
   },
   "source": [
    "No benefit to feature removal."
   ]
  },
  {
   "cell_type": "markdown",
   "metadata": {
    "heading_collapsed": true
   },
   "source": [
    "# Feature Analysis"
   ]
  },
  {
   "cell_type": "code",
   "execution_count": 296,
   "metadata": {
    "ExecuteTime": {
     "end_time": "2019-07-30T17:56:38.546045Z",
     "start_time": "2019-07-30T17:56:38.087951Z"
    },
    "hidden": true,
    "scrolled": false
   },
   "outputs": [
    {
     "name": "stdout",
     "output_type": "stream",
     "text": [
      "net_generation_megawatthours 0.2000873804818738\n",
      "primary_transportation_mode_PL 0.16883292310929898\n",
      "quantity 0.10335812569910117\n",
      "mmbtu_per_unit_gen 0.039994980759194054\n",
      "disturbance_events 0.03738434137843032\n",
      "operator_id_19876.0 0.03082785674026425\n",
      "supplier_VARIOUS 0.03022527767189032\n",
      "operator_id_12745.0 0.028904979342346666\n",
      "plant_state_NY 0.02545222229682147\n",
      "plant_id_56328 0.02011661237170358\n",
      "supplier_LG&E 0.01975793896187076\n",
      "plant_id_7314 0.019400324671978633\n",
      "secondary_transportation_mode_PL 0.01928613407717607\n",
      "operator_id_15296.0 0.016296218437188235\n",
      "reported_prime_mover_CT 0.015715061493149263\n",
      "plant_id_8219 0.014097304209078\n",
      "nerc_region_FRCC 0.013689890470109711\n",
      "supplier_MUNIGAS - BP ENERGY 0.013618843019710742\n",
      "nerc_region_WECC 0.01255009168427835\n",
      "supplier_VIRGINIA POWER SERVICES ENERGY 0.012390891474241312\n",
      "supplier_BPE 0.009197773077475614\n",
      "number_affected 0.009191551849669412\n",
      "plant_id_7552 0.008044831672479377\n",
      "plant_state_NC 0.007112412537610371\n",
      "reporting_frequency_A 0.005516228079816444\n",
      "supplier_MSR ENERGY AUTHORITY 0.005410096667021559\n",
      "plant_id_2963 0.0053651706692875\n",
      "contract_type_S 0.005167701281393292\n",
      "supplier_JP Morgan 0.004960400564834838\n",
      "supplier_FGU 0.0047273069862869286\n",
      "supplier_KEYSPAN ENERGY 0.004336162492319718\n",
      "operator_id_16572.0 0.0040463327723877516\n",
      "plant_state_KY 0.00401323889308509\n",
      "nerc_region_MRO 0.004009276942608487\n",
      "contract_type_C 0.003366326312710524\n",
      "operator_id_11249.0 0.0032715697760553686\n",
      "supplier_VIRGINIA POWER ENERGY MARKETING 0.0030922693885775056\n",
      "supplier_HIGH PLAINS BIOENERGY,LLC 0.003026899137416195\n",
      "plant_state_KS 0.002750514302903928\n",
      "operator_id_12686.0 0.0027121503076819775\n",
      "supplier_SPARK ENERGY GAS 0.002529139442139622\n",
      "supplier_VECTREN 0.0024997935408038554\n",
      "supplier_BP 0.002426944869749305\n",
      "plant_id_7757 0.002380788609934724\n",
      "plant_id_141 0.0023524680967954197\n",
      "nerc_region_SPP 0.002310145934322908\n",
      "reporting_frequency_M 0.0022068192303294756\n",
      "plant_id_55927 0.0021195279551253386\n",
      "supplier_JLA ENERGY 0.0020709948077157494\n",
      "plant_id_10 0.0018344811836714227\n",
      "natural_gas_transportation_service_I 0.0017362665161164304\n",
      "plant_id_7380 0.0017083453120374144\n",
      "plant_state_MI 0.0016279639330622619\n",
      "supplier_FLORIDA GAS TRANSMISSION 0.0016155209581320907\n",
      "operator_id_15783.0 0.0015135888867600785\n",
      "supplier_CONOCO 0.001364826733470227\n",
      "plant_id_3804 0.0012737602820574487\n",
      "plant_id_1363 0.0012548745835770899\n",
      "plant_state_FL 0.0012291159559356855\n",
      "supplier_VPSE 0.0012030827903075606\n",
      "supplier_ENJET 0.0011959970120591177\n",
      "plant_id_10773 0.0010366223558296256\n",
      "plant_id_1016 0.0010307611263580749\n",
      "supplier_NGPL 0.0010228432705970674\n",
      "natural_gas_delivery_contract_type_N/A 0.0010202623461541963\n",
      "supplier_SOUTHWEST GAS 0.0010016087431274814\n",
      "reported_prime_mover_GT 0.0009482871431497936\n",
      "plant_id_7296 0.0009393971496642891\n",
      "plant_id_2047 0.0009255299766067197\n",
      "supplier_SCANA 0.000809044281747936\n",
      "nerc_region_NPCC 0.0007220194626568985\n",
      "supplier_ENERGY AUTHORITY 0.0006629949839668024\n",
      "plant_id_2493 0.0006616425670597099\n",
      "supplier_FORTIS ENERGY 0.0006392154672233242\n",
      "natural_gas_supply_contract_type_F 0.0006307018769737514\n",
      "plant_id_6042 0.0005874517515919255\n",
      "plant_id_2454 0.0005631446481300135\n",
      "supplier_POWEREX 0.000511542552889016\n",
      "plant_id_54844 0.000489985633909523\n",
      "reported_prime_mover_ST 0.00046915454406550614\n",
      "supplier_Enerfin 0.00045592347526482327\n",
      "natural_gas_supply_contract_type_I 0.0003860178373436029\n",
      "supplier_CIMA ENERGY 0.0003801105062118589\n",
      "supplier_SWE 0.0003565680644020007\n",
      "supplier_MACQUARIE COOK 0.00035599110593868583\n",
      "plant_id_7302 0.0003276581915708882\n",
      "plant_id_1240 0.0003200930578626182\n",
      "natural_gas_delivery_contract_type_I 0.000299210967481416\n",
      "plant_id_634 0.0002958825693331024\n",
      "plant_id_10771 0.0002445991253648202\n",
      "plant_id_3485 0.00024055282598212024\n",
      "plant_id_1904 0.00019709433655429732\n",
      "operator_id_9417.0 0.00019546545773979895\n",
      "supplier_NJR Energy 0.00019029798012139038\n",
      "supplier_ENABLE GAS TRANSMISSION LLC 0.00016893800276082636\n",
      "plant_id_1912 0.00015016711356517892\n",
      "contract_type_N/A 0.000147820752415723\n",
      "plant_id_1678 0.00014061473418201838\n",
      "plant_id_1927 0.0001401559726608335\n",
      "plant_id_52087 0.0001336789553861205\n",
      "supplier_SHELL ENERGY NORTH AMERICA 0.00011063216730557164\n",
      "supplier_ONEOK 9.926912555390432e-05\n",
      "natural_gas_supply_contract_type_N/A 8.446900138041318e-05\n",
      "plant_id_7839 5.797970622358867e-05\n",
      "plant_id_7212 4.623680275099514e-05\n",
      "plant_id_3 1.8301616965756092e-05\n",
      "supplier_COLONIAL 1.4908417765003875e-05\n",
      "plant_id_8832 9.093552780187884e-06\n",
      "contract_type_NC 0.0\n",
      "natural_gas_delivery_contract_type_F 0.0\n",
      "natural_gas_transportation_service_F 0.0\n",
      "natural_gas_transportation_service_N/A 0.0\n",
      "operator_id_10000.0 0.0\n",
      "operator_id_10005.0 0.0\n",
      "operator_id_1015.0 0.0\n",
      "operator_id_10171.0 0.0\n",
      "operator_id_10325.0 0.0\n",
      "operator_id_10376.0 0.0\n",
      "operator_id_10620.0 0.0\n",
      "operator_id_10623.0 0.0\n",
      "operator_id_11018.0 0.0\n",
      "operator_id_11142.0 0.0\n",
      "operator_id_11208.0 0.0\n",
      "operator_id_11241.0 0.0\n",
      "operator_id_11269.0 0.0\n",
      "operator_id_11292.0 0.0\n",
      "operator_id_11479.0 0.0\n",
      "operator_id_11571.0 0.0\n",
      "operator_id_11732.0 0.0\n",
      "operator_id_11740.0 0.0\n",
      "operator_id_11806.0 0.0\n",
      "operator_id_12199.0 0.0\n",
      "operator_id_12208.0 0.0\n",
      "operator_id_12341.0 0.0\n",
      "operator_id_12524.0 0.0\n",
      "operator_id_12647.0 0.0\n",
      "operator_id_12667.0 0.0\n",
      "operator_id_12685.0 0.0\n",
      "operator_id_12796.0 0.0\n",
      "operator_id_12807.0 0.0\n",
      "operator_id_12927.0 0.0\n",
      "operator_id_1307.0 0.0\n",
      "operator_id_13100.0 0.0\n",
      "operator_id_13143.0 0.0\n",
      "operator_id_13228.0 0.0\n",
      "operator_id_13337.0 0.0\n",
      "operator_id_13407.0 0.0\n",
      "operator_id_13478.0 0.0\n",
      "operator_id_13488.0 0.0\n",
      "operator_id_13683.0 0.0\n",
      "operator_id_13756.0 0.0\n",
      "operator_id_13781.0 0.0\n",
      "operator_id_13809.0 0.0\n",
      "operator_id_13994.0 0.0\n",
      "operator_id_14006.0 0.0\n",
      "operator_id_14063.0 0.0\n",
      "operator_id_14077.0 0.0\n",
      "operator_id_14127.0 0.0\n",
      "operator_id_14194.0 0.0\n",
      "operator_id_14232.0 0.0\n",
      "operator_id_14268.0 0.0\n",
      "operator_id_14328.0 0.0\n",
      "operator_id_14354.0 0.0\n",
      "operator_id_14381.0 0.0\n",
      "operator_id_14534.0 0.0\n",
      "operator_id_14605.0 0.0\n",
      "operator_id_14610.0 0.0\n",
      "operator_id_15143.0 0.0\n",
      "operator_id_15248.0 0.0\n",
      "operator_id_15466.0 0.0\n",
      "operator_id_15470.0 0.0\n",
      "operator_id_15472.0 0.0\n",
      "operator_id_15473.0 0.0\n",
      "operator_id_15474.0 0.0\n",
      "operator_id_15500.0 0.0\n",
      "operator_id_15776.0 0.0\n",
      "operator_id_16088.0 0.0\n",
      "operator_id_16181.0 0.0\n",
      "operator_id_16183.0 0.0\n",
      "operator_id_16295.0 0.0\n",
      "operator_id_16534.0 0.0\n",
      "operator_id_16604.0 0.0\n",
      "operator_id_16609.0 0.0\n",
      "operator_id_16655.0 0.0\n",
      "operator_id_1692.0 0.0\n",
      "operator_id_17166.0 0.0\n",
      "operator_id_17539.0 0.0\n",
      "operator_id_17543.0 0.0\n",
      "operator_id_17554.0 0.0\n",
      "operator_id_17568.0 0.0\n",
      "operator_id_17583.0 0.0\n",
      "operator_id_17609.0 0.0\n",
      "operator_id_17632.0 0.0\n",
      "operator_id_17633.0 0.0\n",
      "operator_id_17697.0 0.0\n",
      "operator_id_17698.0 0.0\n",
      "operator_id_17718.0 0.0\n",
      "operator_id_17828.0 0.0\n",
      "operator_id_17833.0 0.0\n",
      "operator_id_17874.0 0.0\n",
      "operator_id_18315.0 0.0\n",
      "operator_id_18445.0 0.0\n",
      "operator_id_18454.0 0.0\n",
      "operator_id_18488.0 0.0\n",
      "operator_id_18642.0 0.0\n",
      "operator_id_18715.0 0.0\n",
      "operator_id_189.0 0.0\n",
      "operator_id_19281.0 0.0\n",
      "operator_id_19436.0 0.0\n",
      "operator_id_195.0 0.0\n",
      "operator_id_19545.0 0.0\n",
      "operator_id_19558.0 0.0\n",
      "operator_id_19728.0 0.0\n",
      "operator_id_19804.0 0.0\n",
      "operator_id_20169.0 0.0\n",
      "operator_id_20421.0 0.0\n",
      "operator_id_20447.0 0.0\n",
      "operator_id_20847.0 0.0\n",
      "operator_id_20856.0 0.0\n",
      "operator_id_20858.0 0.0\n",
      "operator_id_20860.0 0.0\n",
      "operator_id_20910.0 0.0\n",
      "operator_id_21048.0 0.0\n",
      "operator_id_2144.0 0.0\n",
      "operator_id_21554.0 0.0\n",
      "operator_id_2172.0 0.0\n",
      "operator_id_22053.0 0.0\n",
      "operator_id_22500.0 0.0\n",
      "operator_id_23279.0 0.0\n",
      "operator_id_2409.0 0.0\n",
      "operator_id_24211.0 0.0\n",
      "operator_id_2442.0 0.0\n",
      "operator_id_24431.0 0.0\n",
      "operator_id_2507.0 0.0\n",
      "operator_id_25422.0 0.0\n",
      "operator_id_2548.0 0.0\n",
      "operator_id_26253.0 0.0\n",
      "operator_id_29116.0 0.0\n",
      "operator_id_298.0 0.0\n",
      "operator_id_30151.0 0.0\n",
      "operator_id_3046.0 0.0\n",
      "operator_id_3203.0 0.0\n",
      "operator_id_3258.0 0.0\n",
      "operator_id_3265.0 0.0\n",
      "operator_id_3355.0 0.0\n",
      "operator_id_343.0 0.0\n",
      "operator_id_3486.0 0.0\n",
      "operator_id_3522.0 0.0\n",
      "operator_id_3542.0 0.0\n",
      "operator_id_3660.0 0.0\n",
      "operator_id_3702.0 0.0\n",
      "operator_id_3892.0 0.0\n",
      "operator_id_39347.0 0.0\n",
      "operator_id_3989.0 0.0\n",
      "operator_id_40211.0 0.0\n",
      "operator_id_40229.0 0.0\n",
      "operator_id_40307.0 0.0\n",
      "operator_id_4045.0 0.0\n",
      "operator_id_40577.0 0.0\n",
      "operator_id_40582.0 0.0\n",
      "operator_id_40606.0 0.0\n",
      "operator_id_40613.0 0.0\n",
      "operator_id_40614.0 0.0\n",
      "operator_id_4062.0 0.0\n",
      "operator_id_4180.0 0.0\n",
      "operator_id_4226.0 0.0\n",
      "operator_id_4254.0 0.0\n",
      "operator_id_4363.0 0.0\n",
      "operator_id_4716.0 0.0\n",
      "operator_id_4922.0 0.0\n",
      "operator_id_49893.0 0.0\n",
      "operator_id_49974.0 0.0\n",
      "operator_id_50111.0 0.0\n",
      "operator_id_50168.0 0.0\n",
      "operator_id_50172.0 0.0\n",
      "operator_id_5063.0 0.0\n",
      "operator_id_5107.0 0.0\n",
      "operator_id_5109.0 0.0\n",
      "operator_id_5269.0 0.0\n",
      "operator_id_5416.0 0.0\n",
      "operator_id_5532.0 0.0\n",
      "operator_id_55729.0 0.0\n",
      "operator_id_5580.0 0.0\n",
      "operator_id_55936.0 0.0\n",
      "operator_id_55937.0 0.0\n",
      "operator_id_55987.0 0.0\n",
      "operator_id_56211.0 0.0\n",
      "operator_id_56505.0 0.0\n",
      "operator_id_56771.0 0.0\n",
      "operator_id_56815.0 0.0\n",
      "operator_id_5695.0 0.0\n",
      "operator_id_5701.0 0.0\n",
      "operator_id_57393.0 0.0\n",
      "operator_id_5860.0 0.0\n",
      "operator_id_58620.0 0.0\n",
      "operator_id_590.0 0.0\n",
      "operator_id_599.0 0.0\n",
      "operator_id_59917.0 0.0\n",
      "operator_id_61137.0 0.0\n",
      "operator_id_61919.0 0.0\n",
      "operator_id_62032.0 0.0\n",
      "operator_id_6204.0 0.0\n",
      "operator_id_6235.0 0.0\n",
      "operator_id_6452.0 0.0\n",
      "operator_id_6455.0 0.0\n",
      "operator_id_6526.0 0.0\n",
      "operator_id_6616.0 0.0\n",
      "operator_id_6775.0 0.0\n",
      "operator_id_6779.0 0.0\n",
      "operator_id_6909.0 0.0\n",
      "operator_id_6958.0 0.0\n",
      "operator_id_7004.0 0.0\n",
      "operator_id_7140.0 0.0\n",
      "operator_id_7294.0 0.0\n",
      "operator_id_733.0 0.0\n",
      "operator_id_7349.0 0.0\n",
      "operator_id_7483.0 0.0\n",
      "operator_id_7490.0 0.0\n",
      "operator_id_7570.0 0.0\n",
      "operator_id_7634.0 0.0\n",
      "operator_id_7801.0 0.0\n",
      "operator_id_796.0 0.0\n",
      "operator_id_7977.0 0.0\n",
      "operator_id_803.0 0.0\n",
      "operator_id_807.0 0.0\n",
      "operator_id_814.0 0.0\n",
      "operator_id_8567.0 0.0\n",
      "operator_id_8723.0 0.0\n",
      "operator_id_8795.0 0.0\n",
      "operator_id_8884.0 0.0\n",
      "operator_id_9130.0 0.0\n",
      "operator_id_9191.0 0.0\n",
      "operator_id_9216.0 0.0\n",
      "operator_id_9231.0 0.0\n",
      "operator_id_9234.0 0.0\n",
      "operator_id_924.0 0.0\n",
      "operator_id_9267.0 0.0\n",
      "operator_id_9273.0 0.0\n",
      "operator_id_9275.0 0.0\n",
      "operator_id_9617.0 0.0\n",
      "operator_id_9645.0 0.0\n",
      "operator_id_9879.0 0.0\n",
      "operator_id_9996.0 0.0\n",
      "plant_id_1001 0.0\n",
      "plant_id_1004 0.0\n",
      "plant_id_1007 0.0\n",
      "plant_id_1011 0.0\n",
      "plant_id_1012 0.0\n",
      "plant_id_1032 0.0\n",
      "plant_id_1046 0.0\n",
      "plant_id_1048 0.0\n",
      "plant_id_1058 0.0\n",
      "plant_id_1073 0.0\n",
      "plant_id_10755 0.0\n",
      "plant_id_10761 0.0\n",
      "plant_id_1077 0.0\n",
      "plant_id_1079 0.0\n",
      "plant_id_108 0.0\n",
      "plant_id_1081 0.0\n",
      "plant_id_1082 0.0\n",
      "plant_id_1084 0.0\n",
      "plant_id_1091 0.0\n",
      "plant_id_1104 0.0\n",
      "plant_id_113 0.0\n",
      "plant_id_1130 0.0\n",
      "plant_id_1131 0.0\n",
      "plant_id_1150 0.0\n",
      "plant_id_116 0.0\n",
      "plant_id_1167 0.0\n",
      "plant_id_117 0.0\n",
      "plant_id_118 0.0\n",
      "plant_id_120 0.0\n",
      "plant_id_1206 0.0\n",
      "plant_id_1217 0.0\n",
      "plant_id_1218 0.0\n",
      "plant_id_1230 0.0\n",
      "plant_id_1233 0.0\n",
      "plant_id_1235 0.0\n",
      "plant_id_1239 0.0\n",
      "plant_id_124 0.0\n",
      "plant_id_1242 0.0\n",
      "plant_id_1243 0.0\n",
      "plant_id_1248 0.0\n",
      "plant_id_1250 0.0\n",
      "plant_id_1251 0.0\n",
      "plant_id_1252 0.0\n",
      "plant_id_126 0.0\n",
      "plant_id_1268 0.0\n",
      "plant_id_1271 0.0\n",
      "plant_id_1295 0.0\n",
      "plant_id_1305 0.0\n",
      "plant_id_1336 0.0\n",
      "plant_id_1353 0.0\n",
      "plant_id_1355 0.0\n",
      "plant_id_1358 0.0\n",
      "plant_id_1364 0.0\n",
      "plant_id_1366 0.0\n",
      "plant_id_1374 0.0\n",
      "plant_id_1378 0.0\n",
      "plant_id_1381 0.0\n",
      "plant_id_1383 0.0\n",
      "plant_id_1391 0.0\n",
      "plant_id_1393 0.0\n",
      "plant_id_1394 0.0\n",
      "plant_id_1396 0.0\n",
      "plant_id_1400 0.0\n",
      "plant_id_1402 0.0\n",
      "plant_id_1403 0.0\n",
      "plant_id_1404 0.0\n",
      "plant_id_1409 0.0\n",
      "plant_id_1416 0.0\n",
      "plant_id_1417 0.0\n",
      "plant_id_1439 0.0\n",
      "plant_id_1443 0.0\n",
      "plant_id_1449 0.0\n",
      "plant_id_1450 0.0\n",
      "plant_id_147 0.0\n",
      "plant_id_151 0.0\n",
      "plant_id_160 0.0\n",
      "plant_id_165 0.0\n",
      "plant_id_1660 0.0\n",
      "plant_id_167 0.0\n",
      "plant_id_168 0.0\n",
      "plant_id_1682 0.0\n",
      "plant_id_169 0.0\n",
      "plant_id_1695 0.0\n",
      "plant_id_170 0.0\n",
      "plant_id_1702 0.0\n",
      "plant_id_1706 0.0\n",
      "plant_id_171 0.0\n",
      "plant_id_1719 0.0\n",
      "plant_id_1720 0.0\n",
      "plant_id_1726 0.0\n",
      "plant_id_1728 0.0\n",
      "plant_id_1730 0.0\n",
      "plant_id_1731 0.0\n",
      "plant_id_1734 0.0\n",
      "plant_id_1740 0.0\n",
      "plant_id_1743 0.0\n",
      "plant_id_1745 0.0\n",
      "plant_id_1822 0.0\n",
      "plant_id_1825 0.0\n",
      "plant_id_1830 0.0\n",
      "plant_id_1866 0.0\n",
      "plant_id_1877 0.0\n",
      "plant_id_1888 0.0\n",
      "plant_id_1891 0.0\n",
      "plant_id_1893 0.0\n",
      "plant_id_1897 0.0\n",
      "plant_id_1910 0.0\n",
      "plant_id_1913 0.0\n",
      "plant_id_1914 0.0\n",
      "plant_id_1915 0.0\n",
      "plant_id_2001 0.0\n",
      "plant_id_2008 0.0\n",
      "plant_id_201 0.0\n",
      "plant_id_202 0.0\n",
      "plant_id_203 0.0\n",
      "plant_id_2038 0.0\n",
      "plant_id_2039 0.0\n",
      "plant_id_2046 0.0\n",
      "plant_id_2048 0.0\n",
      "plant_id_2049 0.0\n",
      "plant_id_2050 0.0\n",
      "plant_id_2051 0.0\n",
      "plant_id_2053 0.0\n",
      "plant_id_207 0.0\n",
      "plant_id_2070 0.0\n",
      "plant_id_2079 0.0\n",
      "plant_id_2092 0.0\n",
      "plant_id_2098 0.0\n",
      "plant_id_2104 0.0\n",
      "plant_id_2122 0.0\n",
      "plant_id_2123 0.0\n",
      "plant_id_2131 0.0\n",
      "plant_id_2132 0.0\n",
      "plant_id_2144 0.0\n",
      "plant_id_2161 0.0\n",
      "plant_id_2176 0.0\n",
      "plant_id_2226 0.0\n",
      "plant_id_2240 0.0\n",
      "plant_id_2241 0.0\n",
      "plant_id_2265 0.0\n",
      "plant_id_2277 0.0\n",
      "plant_id_2291 0.0\n",
      "plant_id_2292 0.0\n",
      "plant_id_2322 0.0\n",
      "plant_id_2324 0.0\n",
      "plant_id_2326 0.0\n",
      "plant_id_2330 0.0\n",
      "plant_id_2336 0.0\n",
      "plant_id_2367 0.0\n",
      "plant_id_2442 0.0\n",
      "plant_id_2444 0.0\n",
      "plant_id_2446 0.0\n",
      "plant_id_2450 0.0\n",
      "plant_id_246 0.0\n",
      "plant_id_2491 0.0\n",
      "plant_id_2511 0.0\n",
      "plant_id_2513 0.0\n",
      "plant_id_2514 0.0\n",
      "plant_id_2516 0.0\n",
      "plant_id_2517 0.0\n",
      "plant_id_26 0.0\n",
      "plant_id_2679 0.0\n",
      "plant_id_2682 0.0\n",
      "plant_id_2706 0.0\n",
      "plant_id_2709 0.0\n",
      "plant_id_2713 0.0\n",
      "plant_id_2720 0.0\n",
      "plant_id_2721 0.0\n",
      "plant_id_2723 0.0\n",
      "plant_id_2732 0.0\n",
      "plant_id_2790 0.0\n",
      "plant_id_2831 0.0\n",
      "plant_id_2847 0.0\n",
      "plant_id_2848 0.0\n",
      "plant_id_2854 0.0\n",
      "plant_id_2917 0.0\n",
      "plant_id_2935 0.0\n",
      "plant_id_2936 0.0\n",
      "plant_id_2950 0.0\n",
      "plant_id_2951 0.0\n",
      "plant_id_2952 0.0\n",
      "plant_id_2953 0.0\n",
      "plant_id_2956 0.0\n",
      "plant_id_2964 0.0\n",
      "plant_id_2965 0.0\n",
      "plant_id_2966 0.0\n",
      "plant_id_3006 0.0\n",
      "plant_id_3008 0.0\n",
      "plant_id_3250 0.0\n",
      "plant_id_3251 0.0\n",
      "plant_id_3254 0.0\n",
      "plant_id_3264 0.0\n",
      "plant_id_3280 0.0\n",
      "plant_id_3285 0.0\n",
      "plant_id_3287 0.0\n",
      "plant_id_3291 0.0\n",
      "plant_id_3295 0.0\n",
      "plant_id_3298 0.0\n",
      "plant_id_3325 0.0\n",
      "plant_id_3344 0.0\n",
      "plant_id_3393 0.0\n",
      "plant_id_3403 0.0\n",
      "plant_id_3405 0.0\n",
      "plant_id_3406 0.0\n",
      "plant_id_3456 0.0\n",
      "plant_id_3457 0.0\n",
      "plant_id_3459 0.0\n",
      "plant_id_3476 0.0\n",
      "plant_id_3478 0.0\n",
      "plant_id_3482 0.0\n",
      "plant_id_3484 0.0\n",
      "plant_id_3548 0.0\n",
      "plant_id_3559 0.0\n",
      "plant_id_3576 0.0\n",
      "plant_id_358 0.0\n",
      "plant_id_3601 0.0\n",
      "plant_id_3602 0.0\n",
      "plant_id_3604 0.0\n",
      "plant_id_3609 0.0\n",
      "plant_id_3611 0.0\n",
      "plant_id_3612 0.0\n",
      "plant_id_3613 0.0\n",
      "plant_id_3627 0.0\n",
      "plant_id_3628 0.0\n",
      "plant_id_3630 0.0\n",
      "plant_id_3631 0.0\n",
      "plant_id_3648 0.0\n",
      "plant_id_377 0.0\n",
      "plant_id_3775 0.0\n",
      "plant_id_3796 0.0\n",
      "plant_id_3797 0.0\n",
      "plant_id_3809 0.0\n",
      "plant_id_389 0.0\n",
      "plant_id_3944 0.0\n",
      "plant_id_3946 0.0\n",
      "plant_id_3982 0.0\n",
      "plant_id_399 0.0\n",
      "plant_id_3991 0.0\n",
      "plant_id_3992 0.0\n",
      "plant_id_400 0.0\n",
      "plant_id_4005 0.0\n",
      "plant_id_4014 0.0\n",
      "plant_id_404 0.0\n",
      "plant_id_4040 0.0\n",
      "plant_id_4041 0.0\n",
      "plant_id_4042 0.0\n",
      "plant_id_4048 0.0\n",
      "plant_id_4057 0.0\n",
      "plant_id_4072 0.0\n",
      "plant_id_4076 0.0\n",
      "plant_id_4078 0.0\n",
      "plant_id_408 0.0\n",
      "plant_id_4125 0.0\n",
      "plant_id_4162 0.0\n",
      "plant_id_4195 0.0\n",
      "plant_id_420 0.0\n",
      "plant_id_422 0.0\n",
      "plant_id_4259 0.0\n",
      "plant_id_4266 0.0\n",
      "plant_id_464 0.0\n",
      "plant_id_465 0.0\n",
      "plant_id_468 0.0\n",
      "plant_id_469 0.0\n",
      "plant_id_47 0.0\n",
      "plant_id_470 0.0\n",
      "plant_id_477 0.0\n",
      "plant_id_478 0.0\n",
      "plant_id_492 0.0\n",
      "plant_id_493 0.0\n",
      "plant_id_4937 0.0\n",
      "plant_id_4940 0.0\n",
      "plant_id_50555 0.0\n",
      "plant_id_50707 0.0\n",
      "plant_id_50966 0.0\n",
      "plant_id_51 0.0\n",
      "plant_id_525 0.0\n",
      "plant_id_533 0.0\n",
      "plant_id_535 0.0\n",
      "plant_id_54 0.0\n",
      "plant_id_54476 0.0\n",
      "plant_id_54537 0.0\n",
      "plant_id_54538 0.0\n",
      "plant_id_54817 0.0\n",
      "plant_id_54854 0.0\n",
      "plant_id_550 0.0\n",
      "plant_id_55029 0.0\n",
      "plant_id_55063 0.0\n",
      "plant_id_55065 0.0\n",
      "plant_id_55077 0.0\n",
      "plant_id_55081 0.0\n",
      "plant_id_55087 0.0\n",
      "plant_id_55110 0.0\n",
      "plant_id_55111 0.0\n",
      "plant_id_55116 0.0\n",
      "plant_id_55129 0.0\n",
      "plant_id_55135 0.0\n"
     ]
    },
    {
     "name": "stdout",
     "output_type": "stream",
     "text": [
      "plant_id_55137 0.0\n",
      "plant_id_55141 0.0\n",
      "plant_id_55148 0.0\n",
      "plant_id_55154 0.0\n",
      "plant_id_55164 0.0\n",
      "plant_id_55165 0.0\n",
      "plant_id_55173 0.0\n",
      "plant_id_55197 0.0\n",
      "plant_id_55202 0.0\n",
      "plant_id_55204 0.0\n",
      "plant_id_55210 0.0\n",
      "plant_id_55218 0.0\n",
      "plant_id_55220 0.0\n",
      "plant_id_55221 0.0\n",
      "plant_id_55224 0.0\n",
      "plant_id_55228 0.0\n",
      "plant_id_55230 0.0\n",
      "plant_id_55232 0.0\n",
      "plant_id_55234 0.0\n",
      "plant_id_55244 0.0\n",
      "plant_id_55247 0.0\n",
      "plant_id_55251 0.0\n",
      "plant_id_55269 0.0\n",
      "plant_id_55270 0.0\n",
      "plant_id_55276 0.0\n",
      "plant_id_55283 0.0\n",
      "plant_id_55306 0.0\n",
      "plant_id_55322 0.0\n",
      "plant_id_55334 0.0\n",
      "plant_id_55340 0.0\n",
      "plant_id_55343 0.0\n",
      "plant_id_55350 0.0\n",
      "plant_id_55364 0.0\n",
      "plant_id_55380 0.0\n",
      "plant_id_55382 0.0\n",
      "plant_id_55386 0.0\n",
      "plant_id_55395 0.0\n",
      "plant_id_55402 0.0\n",
      "plant_id_55412 0.0\n",
      "plant_id_55417 0.0\n",
      "plant_id_55418 0.0\n",
      "plant_id_55447 0.0\n",
      "plant_id_55451 0.0\n",
      "plant_id_55455 0.0\n",
      "plant_id_55457 0.0\n",
      "plant_id_55463 0.0\n",
      "plant_id_55467 0.0\n",
      "plant_id_55482 0.0\n",
      "plant_id_55496 0.0\n",
      "plant_id_55502 0.0\n",
      "plant_id_55503 0.0\n",
      "plant_id_55504 0.0\n",
      "plant_id_55505 0.0\n",
      "plant_id_55514 0.0\n",
      "plant_id_55522 0.0\n",
      "plant_id_55620 0.0\n",
      "plant_id_55622 0.0\n",
      "plant_id_55641 0.0\n",
      "plant_id_55645 0.0\n",
      "plant_id_55651 0.0\n",
      "plant_id_55662 0.0\n",
      "plant_id_55664 0.0\n",
      "plant_id_55687 0.0\n",
      "plant_id_55694 0.0\n",
      "plant_id_55700 0.0\n",
      "plant_id_55701 0.0\n",
      "plant_id_55714 0.0\n",
      "plant_id_55718 0.0\n",
      "plant_id_55733 0.0\n",
      "plant_id_55835 0.0\n",
      "plant_id_55836 0.0\n",
      "plant_id_55841 0.0\n",
      "plant_id_55939 0.0\n",
      "plant_id_55951 0.0\n",
      "plant_id_55970 0.0\n",
      "plant_id_55972 0.0\n",
      "plant_id_55977 0.0\n",
      "plant_id_55985 0.0\n",
      "plant_id_56013 0.0\n",
      "plant_id_56018 0.0\n",
      "plant_id_56026 0.0\n",
      "plant_id_56031 0.0\n",
      "plant_id_56041 0.0\n",
      "plant_id_56046 0.0\n",
      "plant_id_56068 0.0\n",
      "plant_id_56078 0.0\n",
      "plant_id_56102 0.0\n",
      "plant_id_56108 0.0\n",
      "plant_id_56135 0.0\n",
      "plant_id_56143 0.0\n",
      "plant_id_56150 0.0\n",
      "plant_id_56151 0.0\n",
      "plant_id_56164 0.0\n",
      "plant_id_56166 0.0\n",
      "plant_id_56196 0.0\n",
      "plant_id_56227 0.0\n",
      "plant_id_56232 0.0\n",
      "plant_id_56237 0.0\n",
      "plant_id_56238 0.0\n",
      "plant_id_56239 0.0\n",
      "plant_id_56249 0.0\n",
      "plant_id_56253 0.0\n",
      "plant_id_56283 0.0\n",
      "plant_id_56292 0.0\n",
      "plant_id_56298 0.0\n",
      "plant_id_56319 0.0\n",
      "plant_id_56326 0.0\n",
      "plant_id_564 0.0\n",
      "plant_id_56400 0.0\n",
      "plant_id_56407 0.0\n",
      "plant_id_56476 0.0\n",
      "plant_id_56480 0.0\n",
      "plant_id_56497 0.0\n",
      "plant_id_56502 0.0\n",
      "plant_id_56505 0.0\n",
      "plant_id_56532 0.0\n",
      "plant_id_56564 0.0\n",
      "plant_id_56565 0.0\n",
      "plant_id_56569 0.0\n",
      "plant_id_56596 0.0\n",
      "plant_id_56603 0.0\n",
      "plant_id_56604 0.0\n",
      "plant_id_56606 0.0\n",
      "plant_id_56610 0.0\n",
      "plant_id_56674 0.0\n",
      "plant_id_56786 0.0\n",
      "plant_id_56799 0.0\n",
      "plant_id_56807 0.0\n",
      "plant_id_56908 0.0\n",
      "plant_id_57027 0.0\n",
      "plant_id_57028 0.0\n",
      "plant_id_57036 0.0\n",
      "plant_id_57037 0.0\n",
      "plant_id_57703 0.0\n",
      "plant_id_57842 0.0\n",
      "plant_id_57865 0.0\n",
      "plant_id_57881 0.0\n",
      "plant_id_57943 0.0\n",
      "plant_id_57978 0.0\n",
      "plant_id_58215 0.0\n",
      "plant_id_58236 0.0\n",
      "plant_id_58260 0.0\n",
      "plant_id_58266 0.0\n",
      "plant_id_58503 0.0\n",
      "plant_id_58557 0.0\n",
      "plant_id_58562 0.0\n",
      "plant_id_58697 0.0\n",
      "plant_id_58835 0.0\n",
      "plant_id_589 0.0\n",
      "plant_id_59220 0.0\n",
      "plant_id_59338 0.0\n",
      "plant_id_59391 0.0\n",
      "plant_id_59784 0.0\n",
      "plant_id_59913 0.0\n",
      "plant_id_59926 0.0\n",
      "plant_id_6002 0.0\n",
      "plant_id_6013 0.0\n",
      "plant_id_6019 0.0\n",
      "plant_id_6021 0.0\n",
      "plant_id_6034 0.0\n",
      "plant_id_6035 0.0\n",
      "plant_id_6043 0.0\n",
      "plant_id_6046 0.0\n",
      "plant_id_6058 0.0\n",
      "plant_id_6060 0.0\n",
      "plant_id_6063 0.0\n",
      "plant_id_6064 0.0\n",
      "plant_id_607 0.0\n",
      "plant_id_6071 0.0\n",
      "plant_id_6073 0.0\n",
      "plant_id_6074 0.0\n",
      "plant_id_6077 0.0\n",
      "plant_id_6081 0.0\n",
      "plant_id_6085 0.0\n",
      "plant_id_6088 0.0\n",
      "plant_id_6089 0.0\n",
      "plant_id_609 0.0\n",
      "plant_id_6096 0.0\n",
      "plant_id_610 0.0\n",
      "plant_id_6112 0.0\n",
      "plant_id_612 0.0\n",
      "plant_id_6120 0.0\n",
      "plant_id_6124 0.0\n",
      "plant_id_613 0.0\n",
      "plant_id_6136 0.0\n",
      "plant_id_6137 0.0\n",
      "plant_id_61643 0.0\n",
      "plant_id_617 0.0\n",
      "plant_id_6170 0.0\n",
      "plant_id_6181 0.0\n",
      "plant_id_619 0.0\n",
      "plant_id_6190 0.0\n",
      "plant_id_6193 0.0\n",
      "plant_id_6194 0.0\n",
      "plant_id_6195 0.0\n",
      "plant_id_620 0.0\n",
      "plant_id_621 0.0\n",
      "plant_id_6210 0.0\n",
      "plant_id_6223 0.0\n",
      "plant_id_624 0.0\n",
      "plant_id_6243 0.0\n",
      "plant_id_6246 0.0\n",
      "plant_id_6248 0.0\n",
      "plant_id_6253 0.0\n",
      "plant_id_628 0.0\n",
      "plant_id_6292 0.0\n",
      "plant_id_630 0.0\n",
      "plant_id_6358 0.0\n",
      "plant_id_6373 0.0\n",
      "plant_id_638 0.0\n",
      "plant_id_641 0.0\n",
      "plant_id_643 0.0\n",
      "plant_id_645 0.0\n",
      "plant_id_6469 0.0\n",
      "plant_id_6515 0.0\n",
      "plant_id_6558 0.0\n",
      "plant_id_6559 0.0\n",
      "plant_id_658 0.0\n",
      "plant_id_663 0.0\n",
      "plant_id_6635 0.0\n",
      "plant_id_664 0.0\n",
      "plant_id_665 0.0\n",
      "plant_id_666 0.0\n",
      "plant_id_6664 0.0\n",
      "plant_id_667 0.0\n",
      "plant_id_672 0.0\n",
      "plant_id_673 0.0\n",
      "plant_id_675 0.0\n",
      "plant_id_676 0.0\n",
      "plant_id_6761 0.0\n",
      "plant_id_683 0.0\n",
      "plant_id_688 0.0\n",
      "plant_id_689 0.0\n",
      "plant_id_693 0.0\n",
      "plant_id_7 0.0\n",
      "plant_id_7032 0.0\n",
      "plant_id_7082 0.0\n",
      "plant_id_7097 0.0\n",
      "plant_id_710 0.0\n",
      "plant_id_7138 0.0\n",
      "plant_id_7145 0.0\n",
      "plant_id_7158 0.0\n",
      "plant_id_7159 0.0\n",
      "plant_id_7203 0.0\n",
      "plant_id_7210 0.0\n",
      "plant_id_7231 0.0\n",
      "plant_id_7237 0.0\n",
      "plant_id_7238 0.0\n",
      "plant_id_7242 0.0\n",
      "plant_id_7266 0.0\n",
      "plant_id_7268 0.0\n",
      "plant_id_7270 0.0\n",
      "plant_id_7277 0.0\n",
      "plant_id_728 0.0\n",
      "plant_id_7286 0.0\n",
      "plant_id_7294 0.0\n",
      "plant_id_7307 0.0\n",
      "plant_id_7315 0.0\n",
      "plant_id_733 0.0\n",
      "plant_id_7335 0.0\n",
      "plant_id_7336 0.0\n",
      "plant_id_7348 0.0\n",
      "plant_id_7350 0.0\n",
      "plant_id_7425 0.0\n",
      "plant_id_7449 0.0\n",
      "plant_id_7450 0.0\n",
      "plant_id_7452 0.0\n",
      "plant_id_7456 0.0\n",
      "plant_id_75 0.0\n",
      "plant_id_7504 0.0\n",
      "plant_id_7512 0.0\n",
      "plant_id_7515 0.0\n",
      "plant_id_7527 0.0\n",
      "plant_id_7538 0.0\n",
      "plant_id_7546 0.0\n",
      "plant_id_7551 0.0\n",
      "plant_id_7604 0.0\n",
      "plant_id_7605 0.0\n",
      "plant_id_7697 0.0\n",
      "plant_id_7698 0.0\n",
      "plant_id_7699 0.0\n",
      "plant_id_7706 0.0\n",
      "plant_id_7721 0.0\n",
      "plant_id_7749 0.0\n",
      "plant_id_7754 0.0\n",
      "plant_id_7759 0.0\n",
      "plant_id_7763 0.0\n",
      "plant_id_7784 0.0\n",
      "plant_id_7799 0.0\n",
      "plant_id_7805 0.0\n",
      "plant_id_7813 0.0\n",
      "plant_id_7818 0.0\n",
      "plant_id_7825 0.0\n",
      "plant_id_7829 0.0\n",
      "plant_id_7834 0.0\n",
      "plant_id_7836 0.0\n",
      "plant_id_7837 0.0\n",
      "plant_id_7838 0.0\n",
      "plant_id_7842 0.0\n",
      "plant_id_7843 0.0\n",
      "plant_id_7845 0.0\n",
      "plant_id_7846 0.0\n",
      "plant_id_7848 0.0\n",
      "plant_id_7863 0.0\n",
      "plant_id_7869 0.0\n",
      "plant_id_7870 0.0\n",
      "plant_id_7872 0.0\n",
      "plant_id_7873 0.0\n",
      "plant_id_7887 0.0\n",
      "plant_id_7900 0.0\n",
      "plant_id_7902 0.0\n",
      "plant_id_7903 0.0\n",
      "plant_id_7909 0.0\n",
      "plant_id_7910 0.0\n",
      "plant_id_7913 0.0\n",
      "plant_id_7914 0.0\n",
      "plant_id_7916 0.0\n",
      "plant_id_7917 0.0\n",
      "plant_id_7925 0.0\n",
      "plant_id_7928 0.0\n",
      "plant_id_7929 0.0\n",
      "plant_id_7931 0.0\n",
      "plant_id_7932 0.0\n",
      "plant_id_7946 0.0\n",
      "plant_id_7947 0.0\n",
      "plant_id_7948 0.0\n",
      "plant_id_7953 0.0\n",
      "plant_id_7960 0.0\n",
      "plant_id_7964 0.0\n",
      "plant_id_7967 0.0\n",
      "plant_id_7972 0.0\n",
      "plant_id_7975 0.0\n",
      "plant_id_7981 0.0\n",
      "plant_id_7984 0.0\n",
      "plant_id_7985 0.0\n",
      "plant_id_7987 0.0\n",
      "plant_id_7988 0.0\n",
      "plant_id_7989 0.0\n",
      "plant_id_7991 0.0\n",
      "plant_id_7999 0.0\n",
      "plant_id_8000 0.0\n",
      "plant_id_8002 0.0\n",
      "plant_id_8027 0.0\n",
      "plant_id_8029 0.0\n",
      "plant_id_8031 0.0\n",
      "plant_id_8037 0.0\n",
      "plant_id_8048 0.0\n",
      "plant_id_8049 0.0\n",
      "plant_id_8054 0.0\n",
      "plant_id_8056 0.0\n",
      "plant_id_8059 0.0\n",
      "plant_id_8067 0.0\n",
      "plant_id_8068 0.0\n",
      "plant_id_8073 0.0\n",
      "plant_id_87 0.0\n",
      "plant_id_8831 0.0\n",
      "plant_id_8847 0.0\n",
      "plant_id_8853 0.0\n",
      "plant_id_899 0.0\n",
      "plant_id_9 0.0\n",
      "plant_id_913 0.0\n",
      "plant_id_96 0.0\n",
      "plant_id_963 0.0\n",
      "plant_id_976 0.0\n",
      "plant_id_99 0.0\n",
      "plant_id_990 0.0\n",
      "plant_id_991 0.0\n",
      "plant_id_995 0.0\n",
      "plant_id_997 0.0\n",
      "plant_state_AK 0.0\n",
      "plant_state_AL 0.0\n",
      "plant_state_AR 0.0\n",
      "plant_state_AZ 0.0\n",
      "plant_state_CA 0.0\n",
      "plant_state_CO 0.0\n",
      "plant_state_CT 0.0\n",
      "plant_state_GA 0.0\n",
      "plant_state_IA 0.0\n",
      "plant_state_ID 0.0\n",
      "plant_state_IL 0.0\n",
      "plant_state_IN 0.0\n",
      "plant_state_LA 0.0\n",
      "plant_state_MA 0.0\n",
      "plant_state_MD 0.0\n",
      "plant_state_MN 0.0\n",
      "plant_state_MO 0.0\n",
      "plant_state_MS 0.0\n",
      "plant_state_MT 0.0\n",
      "plant_state_ND 0.0\n",
      "plant_state_NE 0.0\n",
      "plant_state_NH 0.0\n",
      "plant_state_NJ 0.0\n",
      "plant_state_NM 0.0\n",
      "plant_state_NV 0.0\n",
      "plant_state_OH 0.0\n",
      "plant_state_OK 0.0\n",
      "plant_state_OR 0.0\n",
      "plant_state_SC 0.0\n",
      "plant_state_SD 0.0\n",
      "plant_state_TN 0.0\n",
      "plant_state_TX 0.0\n",
      "plant_state_UT 0.0\n",
      "plant_state_VA 0.0\n",
      "plant_state_VT 0.0\n",
      "plant_state_WA 0.0\n",
      "plant_state_WI 0.0\n",
      "plant_state_WV 0.0\n",
      "plant_state_WY 0.0\n",
      "primary_transportation_mode_N/A 0.0\n",
      "primary_transportation_mode_RR 0.0\n",
      "primary_transportation_mode_RV 0.0\n",
      "primary_transportation_mode_TP 0.0\n",
      "primary_transportation_mode_TR 0.0\n",
      "purchase_type_C 0.0\n",
      "purchase_type_N/A 0.0\n",
      "purchase_type_NC 0.0\n",
      "purchase_type_S 0.0\n",
      "regulated_REG 0.0\n",
      "secondary_transportation_mode_N/A 0.0\n",
      "secondary_transportation_mode_SP 0.0\n",
      "secondary_transportation_mode_TR 0.0\n",
      "supplier_1081 MINE 0.0\n",
      "supplier_381 NORTH MINE 0.0\n",
      "supplier_ACADIA PIPELINE PARTNERS 0.0\n",
      "supplier_ADAMS RESOURCES MARKETING 0.0\n",
      "supplier_AGGREGATE 0.0\n",
      "supplier_AITKEN CREEK GAS STORAGE 0.0\n",
      "supplier_ALABAMA GAS 0.0\n",
      "supplier_ALAGAS CO 0.0\n",
      "supplier_ALLEGHENY ENERGY 0.0\n",
      "supplier_ALLIANT 0.0\n",
      "supplier_ALLIANT ENERGY 0.0\n",
      "supplier_ALLIED ENERGY RESOURCES 0.0\n",
      "supplier_ALTN PIPELINE 0.0\n",
      "supplier_AMEREN CILCO 0.0\n",
      "supplier_AMEREN ENERGY 0.0\n",
      "supplier_AMEREN UE 0.0\n",
      "supplier_AMERICAN ELECTRIC POWER (AEP) 0.0\n",
      "supplier_AML&P 0.0\n",
      "supplier_ANADARKO 0.0\n",
      "supplier_ANAHAU ENERGY 0.0\n",
      "supplier_ANR 0.0\n",
      "supplier_ANTERO RESOURCES CORPORATION 0.0\n",
      "supplier_APACHE 0.0\n",
      "supplier_AQUILA 0.0\n",
      "supplier_ARCADIA 0.0\n",
      "supplier_ARCH COAL SALES 0.0\n",
      "supplier_ARIZONA PUBLIC SERVICE 0.0\n",
      "supplier_ARKLA 0.0\n",
      "supplier_ARMSTRONG COAL 0.0\n",
      "supplier_ASCENT RESOURCES - UTICA, LLC 0.0\n",
      "supplier_ASSOCIATED ENERGY 0.0\n",
      "supplier_ATLANTA GAS & LIGHT 0.0\n",
      "supplier_ATMOS 0.0\n",
      "supplier_ATMOS ENERGY 0.0\n",
      "supplier_ATMOS PIPELINE 0.0\n",
      "supplier_AUTOMATED PETROLEUM & ENERGY 0.0\n",
      "supplier_AVISTA 0.0\n",
      "supplier_ApacheCorp 0.0\n",
      "supplier_B P AMOCO 0.0\n",
      "supplier_B P CANADA 0.0\n",
      "supplier_B P ENERGY 0.0\n",
      "supplier_BARCLAY'S CAPITAL 0.0\n",
      "supplier_BAY GAS PIPELINE 0.0\n",
      "supplier_BAY STATE 0.0\n",
      "supplier_BEAR ENERGY 0.0\n",
      "supplier_BG ENERGY 0.0\n",
      "supplier_BG LNG SERVICES 0.0\n",
      "supplier_BGE 0.0\n",
      "supplier_BIOENERGY - WASHINGTON 0.0\n",
      "supplier_BIOURJA 0.0\n",
      "supplier_BLACK HILLS ENERGY 0.0\n",
      "supplier_BLUEWATER 0.0\n",
      "supplier_BNP PARIBAS ENERGY TRADING 0.0\n",
      "supplier_BOSS ENERGY 0.0\n",
      "supplier_BP CANADA ENERGY COMPANY 0.0\n",
      "supplier_BP CANADA ENERGY MARKETING 0.0\n",
      "supplier_BP ENERGY CO. 0.0\n",
      "supplier_BP ENERGY COMPANY 0.0\n",
      "supplier_BP LNG 0.0\n",
      "supplier_BP NORTH AMERICA 0.0\n",
      "supplier_BRIDGELINE 0.0\n",
      "supplier_BRITISH PETROLEUM 0.0\n",
      "supplier_CABOT 0.0\n",
      "supplier_CALIFORNIA DEPARTMENT OF WATER RESOURCES 0.0\n",
      "supplier_CALPINE ENERGY 0.0\n",
      "supplier_CANADIAN NATURAL RESOURCES 0.0\n",
      "supplier_CAPITOL ENERGY VENTURES CORP 0.0\n",
      "supplier_CARGILL 0.0\n",
      "supplier_CASTLETON 0.0\n",
      "supplier_CASTLETON COMMODITIES INTERNATIONAL LLC 0.0\n",
      "supplier_CASTLETON COMMODITIES MERCHANT TRADING LP 0.0\n",
      "supplier_CECG 0.0\n",
      "supplier_CENTANA 0.0\n",
      "supplier_CENTERPOINT 0.0\n",
      "supplier_CENTERPOINT ENERGY 0.0\n",
      "supplier_CENTERPOINT ENERGY GAS TRANSMISSION 0.0\n",
      "supplier_CENTRAL CRUDE 0.0\n",
      "supplier_CGKENTUCKY 0.0\n",
      "supplier_CGOhio 0.0\n",
      "supplier_CGPENNSYLV 0.0\n",
      "supplier_CGT 0.0\n",
      "supplier_CGVirginia 0.0\n",
      "supplier_CHENIERE ENERGY 0.0\n",
      "supplier_CHESAPEAK GAS 0.0\n",
      "supplier_CHESAPEAKE BAY 0.0\n",
      "supplier_CHESAPEAKE ENERGY MARKETING 0.0\n",
      "supplier_CHEVRON 0.0\n",
      "supplier_CHEVRON TEXACO 0.0\n",
      "supplier_CHIEF PETROLEUM 0.0\n",
      "supplier_CIMA 0.0\n",
      "supplier_CITI 0.0\n",
      "supplier_CITIGROUP 0.0\n",
      "supplier_CITIZENS ENERGY GROUP 0.0\n",
      "supplier_CITIZENS GAS 0.0\n",
      "supplier_CITY OF LAKELAND 0.0\n",
      "supplier_CITY OF VERNON 0.0\n",
      "supplier_CLEARWATER ENTERPRISES 0.0\n",
      "supplier_CNX GAS COMPANY LLC 0.0\n",
      "supplier_CNX GAS CORPORATION 0.0\n",
      "supplier_CO OWNED DISTRIBUTION 0.0\n",
      "supplier_COAL CREEK 0.0\n",
      "supplier_COAL ENERGY 0.0\n",
      "supplier_COAST TO COAST PARTNERS 0.0\n",
      "supplier_COLORADO INTERSTATE GAS 0.0\n",
      "supplier_COLORADO SPRINGS UTILITIES ENERGY SUPPLY DEPT 0.0\n",
      "supplier_COLUMBIA 0.0\n",
      "supplier_COLUMBIA ENERGY 0.0\n",
      "supplier_COLUMBIA ENERGY SERVICES CORP 0.0\n",
      "supplier_COLUMBIA GAS 0.0\n",
      "supplier_COLUMBIA GULF 0.0\n",
      "supplier_COLUMBIA GULF TRANSMISSION 0.0\n",
      "supplier_COLUMBIA PIPELINE 0.0\n",
      "supplier_COMFORTSYSTEMS - CITY OF DULUTH 0.0\n",
      "supplier_CON ED 0.0\n",
      "supplier_CONAGRA 0.0\n",
      "supplier_CONCORD 0.0\n",
      "supplier_CONECTIV ENERGY 0.0\n",
      "supplier_CONEXUS ENERGY,LLC 0.0\n",
      "supplier_CONOCOPHILLIPS 0.0\n",
      "supplier_CONOCOPHILLIPS CANADA 0.0\n",
      "supplier_CONSOL 0.0\n",
      "supplier_CONSOL ENERGY 0.0\n",
      "supplier_CONSOLIDATED EDISON ENERGY INC. 0.0\n",
      "supplier_CONSTELLATION ENERGY 0.0\n",
      "supplier_CONSUMERS ENERGY 0.0\n",
      "supplier_CONTINENTAL 0.0\n",
      "supplier_CONTINUUM 0.0\n",
      "supplier_CONTINUUM ENERGY 0.0\n",
      "supplier_COOK & SONS 0.0\n",
      "supplier_COOK INLET 0.0\n",
      "supplier_COPANO ENERGY SERVICES 0.0\n",
      "supplier_CORAL 0.0\n",
      "supplier_CORAL CANADA-USA 0.0\n",
      "supplier_CORAL ENERGY 0.0\n",
      "supplier_CORAL ENERGY MANGEMENT 0.0\n",
      "supplier_CORAL ENERGY RESOURCES 0.0\n",
      "supplier_CORNERSTONE ENERGY 0.0\n",
      "supplier_CP ENERGY MARKETING 0.0\n",
      "supplier_CPENN 0.0\n",
      "supplier_CPEnergySv 0.0\n",
      "supplier_CPS 0.0\n",
      "supplier_CREDIT SUISSE ENERGY 0.0\n",
      "supplier_CROSS TIMBERS ENERGY LLC 0.0\n",
      "supplier_CROSS TIMBERS ROYALTY TRUST 0.0\n",
      "supplier_CROSSTEX 0.0\n",
      "supplier_CSP_SALES 0.0\n",
      "supplier_CYPRESS 0.0\n",
      "supplier_CYPRESS GAS PIPELINE 0.0\n",
      "supplier_CenterPt 0.0\n",
      "supplier_Chesapeake 0.0\n",
      "supplier_Chevron NG 0.0\n",
      "supplier_Cimarex 0.0\n",
      "supplier_ColumbiaTC 0.0\n",
      "supplier_ConocoPhil 0.0\n",
      "supplier_DAKOTA GASIFICATION COMPANY 0.0\n",
      "supplier_DB ENERGY 0.0\n",
      "supplier_DBET 0.0\n",
      "supplier_DCP 0.0\n",
      "supplier_DCPMM 0.0\n",
      "supplier_DEAN VENTURES NATURAL GAS TRADING, LLC 0.0\n",
      "supplier_DEFINITE ENERGY GROUP 0.0\n",
      "supplier_DELTA ENERGY 0.0\n",
      "supplier_DEM 0.0\n",
      "supplier_DETM 0.0\n",
      "supplier_DEVON CANADA 0.0\n",
      "supplier_DEVON ENERGY 0.0\n",
      "supplier_DEVON GAS SERVICES 0.0\n",
      "supplier_DILLION ENERGY SERVICE,INC 0.0\n",
      "supplier_DIRECT ENERGY BUSINESS MARKETING 0.0\n",
      "supplier_DISTR ENSTAR NATURAL GAS 0.0\n",
      "supplier_DISTR ENSTAR NATURAL GAS (#5 & #7) 0.0\n",
      "supplier_DISTRIGAS OF MASSACHUSETTS 0.0\n",
      "supplier_DOMINION 0.0\n",
      "supplier_DOMINION HOPE 0.0\n",
      "supplier_DOMINION PIPELINE 0.0\n",
      "supplier_DOMINION TRANSMISSION 0.0\n",
      "supplier_DPL ENERGY 0.0\n",
      "supplier_DTE COAL SERVICES 0.0\n",
      "supplier_DTE Energy 0.0\n",
      "supplier_DTE GAS RES 0.0\n",
      "supplier_DTI 0.0\n",
      "supplier_DUKE ENERGY CAM 0.0\n",
      "supplier_DUKE ENERGY OHIO 0.0\n",
      "supplier_Delta 0.0\n",
      "supplier_Devon 0.0\n",
      "supplier_Duke Energy 0.0\n",
      "supplier_EAGLE ENERGY 0.0\n",
      "supplier_EAGLE ENERGY PARTNERS I, L.P. 0.0\n",
      "supplier_EAGLE FUELS 0.0\n",
      "supplier_EAST TENNESSEE NATURAL GAS 0.0\n",
      "supplier_ECO  ENERGY 0.0\n",
      "supplier_ECOENEGERY 0.0\n",
      "supplier_ECORP ENERGY MARKETING LLC 0.0\n",
      "supplier_EDF 0.0\n",
      "supplier_EDF TRADING 0.0\n",
      "supplier_EL PASO 0.0\n",
      "supplier_EL PASO ENERGY 0.0\n",
      "supplier_EL PASO GAS COMPANY 0.0\n",
      "supplier_EL PASO NATURAL GAS 0.0\n",
      "supplier_ELEVATION ENERGY GROUP, LLC 0.0\n",
      "supplier_EMBRIDGE 0.0\n",
      "supplier_EMERA ENERGY SERVICES INC 0.0\n",
      "supplier_EMPIRE ENERGY 0.0\n",
      "supplier_ENABLE ENERGY RESOURCES LLC 0.0\n",
      "supplier_ENABLE OKLAHOMA INTRASTATE TRANSMISSION LLC 0.0\n",
      "supplier_ENABLEER 0.0\n",
      "supplier_ENABLEGT 0.0\n",
      "supplier_ENABLEOK 0.0\n",
      "supplier_ENBRIDGE MARKETING 0.0\n",
      "supplier_ENCANA MARKETING USA 0.0\n",
      "supplier_ENCORE ENERGY,INC. 0.0\n",
      "supplier_ENERGY AMERICA 0.0\n",
      "supplier_ENERGY TRANSFER PARTNERS 0.0\n",
      "supplier_ENERVEST 0.0\n",
      "supplier_ENGIE ENERGY MARKETING NA,Inc, 0.0\n",
      "supplier_ENI 0.0\n",
      "supplier_ENLINK MIDSTREAM LLC 0.0\n",
      "supplier_ENOGEX 0.0\n",
      "supplier_ENOGEX RES 0.0\n",
      "supplier_ENSERCO 0.0\n",
      "supplier_ENSTOR GAS LLC 0.0\n",
      "supplier_ENTERGY KOCH 0.0\n",
      "supplier_ENTERPRISE 0.0\n",
      "supplier_ENTERPRISE TEXAS PIPELINE 0.0\n",
      "supplier_EOG RESOURCES 0.0\n",
      "supplier_EQT 0.0\n",
      "supplier_EQUITABLE 0.0\n",
      "supplier_EQUITGASCO 0.0\n",
      "supplier_ESERVICES, LLC 0.0\n",
      "supplier_ET FUEL 0.0\n",
      "supplier_ETC 0.0\n",
      "supplier_EVANGELINE GAS PIPELINE 0.0\n",
      "supplier_EVERGREEN 0.0\n",
      "supplier_EXELON 0.0\n",
      "supplier_EXELON GENERATION LLC 0.0\n",
      "supplier_EXXON 0.0\n",
      "supplier_EXXONMOBIL 0.0\n",
      "supplier_Eagle EP 1 0.0\n",
      "supplier_EnCana 0.0\n",
      "supplier_Enbridge 0.0\n",
      "supplier_Energy Transfer 0.0\n",
      "supplier_Enogex Inc 0.0\n",
      "supplier_FAUSER ENERGY 0.0\n"
     ]
    },
    {
     "name": "stdout",
     "output_type": "stream",
     "text": [
      "supplier_FB ENERGY CANADA 0.0\n",
      "supplier_FGT 0.0\n",
      "supplier_FIELDWOOD ENERGY LLC 0.0\n",
      "supplier_FINA 0.0\n",
      "supplier_FLORIDA GAS 0.0\n",
      "supplier_FLORIDA GAS UTILITY 0.0\n",
      "supplier_FLORIDA POWER & LIGHT 0.0\n",
      "supplier_FORTIS ENERGY MARKETING & TRADING GP 0.0\n",
      "supplier_FREEPOINT COMMODITIES LLC 0.0\n",
      "supplier_FURIE OPERATING ALASKA, LLC 0.0\n",
      "supplier_GAS COMPANY OF NEW MEXICO 0.0\n",
      "supplier_GASEARCH 0.0\n",
      "supplier_GAZPROM MT 0.0\n",
      "supplier_GOLDMAN SACHS 0.0\n",
      "supplier_GORDONSVILLE 0.0\n",
      "supplier_GREEN PLAINS TRADE GROUP LLC 0.0\n",
      "supplier_GULF SOUTH PIPELINE, LP 0.0\n",
      "supplier_GULF STREAM 0.0\n",
      "supplier_GULFSOUTH PIPELINE 0.0\n",
      "supplier_GUNVOR USA LLC 0.0\n",
      "supplier_Gavilon 0.0\n",
      "supplier_Gulf South 0.0\n",
      "supplier_HESS 0.0\n",
      "supplier_HESS CORP ENERGY MARKETING DIVISION 0.0\n",
      "supplier_HESS ENERGY 0.0\n",
      "supplier_HILCORP ENERGY CO 0.0\n",
      "supplier_HOUSTON PIPE LINE 0.0\n",
      "supplier_HOUSTON PIPELINE COMPANY 0.0\n",
      "supplier_HPL 0.0\n",
      "supplier_HUSKY ENERGY 0.0\n",
      "supplier_HYDROCARBON EXCHANGE CORP 0.0\n",
      "supplier_Hess Corp 0.0\n",
      "supplier_IBERDROLA RENEWABLES 0.0\n",
      "supplier_IBERDROLA RENEWABLES CANADA 0.0\n",
      "supplier_IDAHO POWER 0.0\n",
      "supplier_IGI 0.0\n",
      "supplier_IGS 0.0\n",
      "supplier_IGS ENERGY 0.0\n",
      "supplier_INFINITE ENERGY 0.0\n",
      "supplier_INTEGRA 0.0\n",
      "supplier_INTEGRYS ENERGY 0.0\n",
      "supplier_INTERCON RESOURCES 0.0\n",
      "supplier_INTERRUPTIBLE SPOT MARKET 0.0\n",
      "supplier_INTERSTATE GAS MARKET 0.0\n",
      "supplier_INTERSTATE POWER & LIGHT 0.0\n",
      "supplier_Integrys 0.0\n",
      "supplier_J AARON  @ PG&E CITYGATE 0.0\n",
      "supplier_J ARON 0.0\n",
      "supplier_J. ARON AND COMPANY 0.0\n",
      "supplier_JAT OIL 0.0\n",
      "supplier_JEFFERSON ISLAND STORAGE & HUB 0.0\n",
      "supplier_JETCO ENERGY SERVICES 0.0\n",
      "supplier_JLA 0.0\n",
      "supplier_JP MORGAN VENTURES ENERGY 0.0\n",
      "supplier_K2 COMMODITIES 0.0\n",
      "supplier_KAISER MARKETING APPALACHIAN, LLC 0.0\n",
      "supplier_KAISER MARKETING NORTHEAST,LLC 0.0\n",
      "supplier_KANSAS GAS SERVICE 0.0\n",
      "supplier_KAZTEX MANAGEMENT 0.0\n",
      "supplier_KERN RIVER 0.0\n",
      "supplier_KERN RIVER GAS TRANSMISSION 0.0\n",
      "supplier_KINDER MORGAN 0.0\n",
      "supplier_KINDER MORGAN TEJAS 0.0\n",
      "supplier_KINETREX ENERGY 0.0\n",
      "supplier_KM Tejas 0.0\n",
      "supplier_KMPL 0.0\n",
      "supplier_KN MARKETING 0.0\n",
      "supplier_KOCH 0.0\n",
      "supplier_KOCH ENERGY SERVICE (KES) 0.0\n",
      "supplier_KOCH TRADING AND SUPPLIES 0.0\n",
      "supplier_Kinder Morgan Texas Pipeline 0.0\n",
      "supplier_LACLED 0.0\n",
      "supplier_LACLEDE 0.0\n",
      "supplier_LACLEDE ENERGY RESOURCES 0.0\n",
      "supplier_LAKESHORE ENERGY SERVICES,LLC 0.0\n",
      "supplier_LCRA GAS 0.0\n",
      "supplier_LIG 0.0\n",
      "supplier_LOUIS DREYFUS ENERGY 0.0\n",
      "supplier_LOUISIANA INTERSTATE GAS 0.0\n",
      "supplier_Ldreyfus 0.0\n",
      "supplier_MACQUARIE ENERGY 0.0\n",
      "supplier_MADISON GAS AND ELECTRIC CO 0.0\n",
      "supplier_MAIN STREET NATURAL GAS,Inc 0.0\n",
      "supplier_MANSFIELD 0.0\n",
      "supplier_MARATHON OIL COMPANY 0.0\n",
      "supplier_MARATHON PETROLEUM 0.0\n",
      "supplier_MARITIMES & NORTHEAST 0.0\n",
      "supplier_MARK WEST 0.0\n",
      "supplier_MARTIN ENERGY SERVICES 0.0\n",
      "supplier_MASEFIELD 0.0\n",
      "supplier_MCE 0.0\n",
      "supplier_MCQUARIE COOK ENERGY 0.0\n",
      "supplier_MEMS,INC. 0.0\n",
      "supplier_MERCURIA 0.0\n",
      "supplier_MERCURIA ENERGY TRADING INC 0.0\n",
      "supplier_MERRILL LYNCH 0.0\n",
      "supplier_MERRILL LYNCH COMMODITIES, INC. 0.0\n",
      "supplier_MERRIMAC ENERGY GROUP 0.0\n",
      "supplier_METROPOLITAN UTILITIES DISTRICT 0.0\n",
      "supplier_MGC 0.0\n",
      "supplier_MICHIGAN CONSOLIDATED 0.0\n",
      "supplier_MICHIGAN GAS UTILITIES 0.0\n",
      "supplier_MICON TEXAS PIPELINE 0.0\n",
      "supplier_MIDAMERICAN ENERGY 0.0\n",
      "supplier_MIDCOAST ENERGY PARTNERS,LP. 0.0\n",
      "supplier_MIDCONTINENT EXPRESS PIPELINE LLC 0.0\n",
      "supplier_MIDSTREAM FUEL SERVICE 0.0\n",
      "supplier_MIECO INC 0.0\n",
      "supplier_MINNESOTA ENERGY RESOURCES 0.0\n",
      "supplier_MISSISSIPPI RIVER TRANS 0.0\n",
      "supplier_MIST NATURAL GAS STORAGE 0.0\n",
      "supplier_MITSUI & CO 0.0\n",
      "supplier_MLGW PIPELINE 0.0\n",
      "supplier_MMGS, Inc. 0.0\n",
      "supplier_MONTANA-DAKOTA UTILITIES 0.0\n",
      "supplier_MORGAN 0.0\n",
      "supplier_MORGAN STANLEY 0.0\n",
      "supplier_MUNICH RE 0.0\n",
      "supplier_MUNICH RE TRADING 0.0\n",
      "supplier_MUNICIPAL GAS AUTHORITY OF GA 0.0\n",
      "supplier_MUNIGAS - MACQUARIE COOK 0.0\n",
      "supplier_MUNIGAS - SHELL ENERGY 0.0\n",
      "supplier_MUNIGAS - TENASKA 0.0\n",
      "supplier_MURPHY GAS MARKETING 0.0\n",
      "supplier_MUSTANG FUEL CORPORATION 0.0\n",
      "supplier_Macquarie 0.0\n",
      "supplier_Marathon 0.0\n",
      "supplier_NAME PENDING 0.0\n",
      "supplier_NATIONAL ENERGY & TRADE 0.0\n",
      "supplier_NATIONAL FUEL MARKETING 0.0\n",
      "supplier_NATIONAL GAS PIPELINE 0.0\n",
      "supplier_NATIONAL GRID 0.0\n",
      "supplier_NATURAL GAS EXCHANGE 0.0\n",
      "supplier_NATURAL GAS PIPELINE 0.0\n",
      "supplier_NAVAJO TRIBAL AUTHORITY 0.0\n",
      "supplier_NCG1 0.0\n",
      "supplier_NCGA 0.0\n",
      "supplier_NEGT 0.0\n",
      "supplier_NET 0.0\n",
      "supplier_NEVADA POWER 0.0\n",
      "supplier_NEW BRAUNFELS 0.0\n",
      "supplier_NEW JERSEY NATURAL GAS 0.0\n",
      "supplier_NEXEN 0.0\n",
      "supplier_NEXTERA 0.0\n",
      "supplier_NFMCO 0.0\n",
      "supplier_NGTS 0.0\n",
      "supplier_NICOR 0.0\n",
      "supplier_NIPSCO 0.0\n",
      "supplier_NISKA GAS STORAGE 0.0\n",
      "supplier_NISOURCE 0.0\n",
      "supplier_NJR ENERGY SERVICES CO 0.0\n",
      "supplier_NOBLE AMERICAS 0.0\n",
      "supplier_NOBLE AMERICAS GAS & POWER 0.0\n",
      "supplier_NOBLE ENERGY MARKETING 0.0\n",
      "supplier_NOBLE GAS MARKETING 0.0\n",
      "supplier_NORTH BAY ENERGY 0.0\n",
      "supplier_NORTHERN BORDER 0.0\n",
      "supplier_NORTHERN NATURAL 0.0\n",
      "supplier_NORTHWEST PIPELINE 0.0\n",
      "supplier_NORTHWESTERN ENERGY 0.0\n",
      "supplier_NRG 0.0\n",
      "supplier_NRJ 0.0\n",
      "supplier_NWPL 0.0\n",
      "supplier_NWPL - SUMAS 0.0\n",
      "supplier_Natl Enrgy 0.0\n",
      "supplier_Niska 0.0\n",
      "supplier_OASIS 0.0\n",
      "supplier_OCCIDENTAL 0.0\n",
      "supplier_OCCIDENTAL ENERGY 0.0\n",
      "supplier_OCCIDENTAL ENERGY MARKETING 0.0\n",
      "supplier_OGE 0.0\n",
      "supplier_OGE ENERGY 0.0\n",
      "supplier_OGE ENERGY RESOURCES INC 0.0\n",
      "supplier_OGT 0.0\n",
      "supplier_OILCO 0.0\n",
      "supplier_OILCO GAS CO.,L.C 0.0\n",
      "supplier_ONE ENERGY MARKETING AND TRADING 0.0\n",
      "supplier_ONEOK ENERGY MARKETING AND TRADING 0.0\n",
      "supplier_ONEOK ENERGY SERVICES 0.0\n",
      "supplier_ONEOK ENERGY SERVICES COMPANY, L.P. 0.0\n",
      "supplier_ONEOK PIPELINE 0.0\n",
      "supplier_OXY CANADA 0.0\n",
      "supplier_OXY USA 0.0\n",
      "supplier_OZARK NATURAL GAS 0.0\n",
      "supplier_Odyssey 0.0\n",
      "supplier_PAC SUM 0.0\n",
      "supplier_PACIFIC GAS & ELECTRIC 0.0\n",
      "supplier_PACIFIC SUMMIT 0.0\n",
      "supplier_PAIUTE 0.0\n",
      "supplier_PANHANDLE EASTERN 0.0\n",
      "supplier_PANHANDLE EASTERN PIPELINE 0.0\n",
      "supplier_PEABODY 0.0\n",
      "supplier_PEABODY COAL 0.0\n",
      "supplier_PENDING 0.0\n",
      "supplier_PENN OAK SERVICES,LLC. 0.0\n",
      "supplier_PEOPLES GAS 0.0\n",
      "supplier_PEOPLES NATURAL GAS 0.0\n",
      "supplier_PETROCOM 0.0\n",
      "supplier_PG&E 0.0\n",
      "supplier_PHELPS DODGE 0.0\n",
      "supplier_PIEDMONT 0.0\n",
      "supplier_PLAINS ALL AMERICAN NATURAL GAS STORAGE 0.0\n",
      "supplier_PNG MARKETING, LLC 0.0\n",
      "supplier_PNMR 0.0\n",
      "supplier_PORTLAND GENERAL ELECTRIC 0.0\n",
      "supplier_PPL ENERGY 0.0\n",
      "supplier_PPL ENERGY PLUS 0.0\n",
      "supplier_PPM ENERGY 0.0\n",
      "supplier_PRIOR ENERGY 0.0\n",
      "supplier_PROGRESS ENERGY 0.0\n",
      "supplier_PROLIANCE ENERGY 0.0\n",
      "supplier_PSE - NORTHWEST PIPELINE 0.0\n",
      "supplier_PSNC ENERGY 0.0\n",
      "supplier_PUBLIC GAS PARTNERS OPERATING,LLC 0.0\n",
      "supplier_PUBLIC SERVICE 0.0\n",
      "supplier_PUGET SOUND ENERGY 0.0\n",
      "supplier_PUGET SOUND ENERGY - NORTHWEST PIPELINE 0.0\n",
      "supplier_Phoenix 0.0\n",
      "supplier_ProLiance 0.0\n",
      "supplier_QEP 0.0\n",
      "supplier_QEP RESOURCES 0.0\n",
      "supplier_QUESTAR 0.0\n",
      "supplier_QUESTAR GAS 0.0\n",
      "supplier_RAINBOW GAS 0.0\n",
      "supplier_RANGE RESOURCES 0.0\n",
      "supplier_RANGEAPP 0.0\n",
      "supplier_RBC CAPITAL MARKETS 0.0\n",
      "supplier_REGENCY FIELD SERVICES 0.0\n",
      "supplier_REGENCY GAS 0.0\n",
      "supplier_REGENCY IN 0.0\n",
      "supplier_REGENERGY 0.0\n",
      "supplier_RELIANT ENERGY 0.0\n",
      "supplier_RENAISSANCE TRADING 0.0\n",
      "supplier_RENRE 0.0\n",
      "supplier_REPSOL 0.0\n",
      "supplier_RICE ENERGY INC. 0.0\n",
      "supplier_ROSA 0.0\n",
      "supplier_ROSA UNIT @ MILAGRO 0.0\n",
      "supplier_ROYAL BANK OF CANADA 0.0\n",
      "supplier_Regency FS 0.0\n",
      "supplier_Regency GM 0.0\n",
      "supplier_SABINE PASS LIQUEFACTION,LLC 0.0\n",
      "supplier_SAMSON RESOURCES 0.0\n",
      "supplier_SAN DIEGO GAS & ELECTRIC 0.0\n",
      "supplier_SCISSORTAIL ENERGY 0.0\n",
      "supplier_SEACOAST GAS TRANSMISSION 0.0\n",
      "supplier_SELF-PRODUCED 0.0\n",
      "supplier_SEMCO ENERGY 0.0\n",
      "supplier_SEMI 0.0\n",
      "supplier_SEMINOLE 0.0\n",
      "supplier_SEMINOLE ENERGY SERVICES 0.0\n",
      "supplier_SEMPRA ENERGY 0.0\n",
      "supplier_SEMPRA ENERGY TRADING 0.0\n",
      "supplier_SEMPRA MID 0.0\n",
      "supplier_SEQUENT ENERGY 0.0\n",
      "supplier_SEQUOIA ENERGY 0.0\n",
      "supplier_SHELL CANADA 0.0\n",
      "supplier_SHELL CANADA - SUMAS - NORTHWEST PIPELINE 0.0\n",
      "supplier_SHELL GAS 0.0\n",
      "supplier_SHELL TRADING 0.0\n",
      "supplier_SIERRA PACIFIC 0.0\n",
      "supplier_SJ FUEL CO.,INC 0.0\n",
      "supplier_SJRPP 0.0\n",
      "supplier_SNYDER BROTHERS, INC. 0.0\n",
      "supplier_SNYDER GAS PLANT 0.0\n",
      "supplier_SO JERSEY 0.0\n",
      "supplier_SOUTH CAROLINA ELECTRIC & GAS 0.0\n",
      "supplier_SOUTH CAROLINA PIPELINE 0.0\n",
      "supplier_SOUTH JERSEY RESOURCES 0.0\n",
      "supplier_SOUTHCROSS 0.0\n",
      "supplier_SOUTHEAST ALABAMA GAS DISTRICT 0.0\n",
      "supplier_SOUTHERN CAL GAS 0.0\n",
      "supplier_SOUTHERN CALIFORNIA GAS 0.0\n",
      "supplier_SOUTHERN CONN GAS 0.0\n",
      "supplier_SOUTHERN INDUSTRIAL GAS PIPELINE 0.0\n",
      "supplier_SOUTHERN NATURAL GAS 0.0\n",
      "supplier_SOUTHERN STAR CENTRAL PIPELINE 0.0\n",
      "supplier_SOUTHERN UNION 0.0\n",
      "supplier_SOUTHERN UNION GAS ENERGY 0.0\n",
      "supplier_SOUTHWEST ENERGY 0.0\n",
      "supplier_SOUTHWESTERN ENERGY SERVICES 0.0\n",
      "supplier_SPECTRA ENERGY 0.0\n",
      "supplier_SPIRE, INC. 0.0\n",
      "supplier_SPOTLIGHT ENERGY,LLC 0.0\n",
      "supplier_SPRAGUE ENERGY 0.0\n",
      "supplier_STATOIL 0.0\n",
      "supplier_STEUBEN COAL ANTHONY MINIBARNESVILLE 0.0\n",
      "supplier_STORAGE TRANSFERS 0.0\n",
      "supplier_SUNCO 0.0\n",
      "supplier_SUNCOR ENERGY 0.0\n",
      "supplier_SUPERIER 0.0\n",
      "supplier_SUPERIOR NAT GAS 0.0\n",
      "supplier_SUPERIOR NATURAL GAS 0.0\n",
      "supplier_SWE ENERGY 0.0\n",
      "supplier_SWESCO 0.0\n",
      "supplier_SWEnergy 0.0\n",
      "supplier_SWN ENERGY 0.0\n",
      "supplier_ScissorTL 0.0\n",
      "supplier_Sempra 0.0\n",
      "supplier_Sequent 0.0\n",
      "supplier_Shell 0.0\n",
      "supplier_TARGA 0.0\n",
      "supplier_TAUBER 0.0\n",
      "supplier_TD COMMODITIES 0.0\n",
      "supplier_TD ENERGY TRADING 0.0\n",
      "supplier_TEA ENERGY 0.0\n",
      "supplier_TECO ENERGY 0.0\n",
      "supplier_TEJAS GAS 0.0\n",
      "supplier_TENASKA GAS 0.0\n",
      "supplier_TENASKA MARKETING 0.0\n",
      "supplier_TENASKA MARKETING CANADA 0.0\n",
      "supplier_TENASKA MARKETING VENTURES 0.0\n",
      "supplier_TENASKA POWER SERVICES 0.0\n",
      "supplier_TENNEESSE GAS 0.0\n",
      "supplier_TENNESSEE GAS PIPELINE 0.0\n",
      "supplier_TERASEN 0.0\n",
      "supplier_TETCO 0.0\n",
      "supplier_TETCO PIPELINE 0.0\n",
      "supplier_TEXAS EASTERN 0.0\n",
      "supplier_TEXAS EASTERN M3 0.0\n",
      "supplier_TEXAS EASTERN TRANSMISSION 0.0\n",
      "supplier_TEXAS ENERGY TRANSFER 0.0\n",
      "supplier_TEXAS MUNICIPAL GAS 0.0\n",
      "supplier_TEXLA 0.0\n",
      "supplier_TEXON 0.0\n",
      "supplier_TEXPAR ENERGY 0.0\n",
      "supplier_TGNPA (MICHCON PIPELINE) 0.0\n",
      "supplier_TGP 0.0\n",
      "supplier_THE ENERGY AUTHORITY 0.0\n",
      "supplier_TIDAL ENERGY MARKETING, INC. 0.0\n",
      "supplier_TOTAL 0.0\n",
      "supplier_TOTAL GAS  & POWER 0.0\n",
      "supplier_TOTAL GAS & POWER NORTH AMERICA,INC. 0.0\n",
      "supplier_TRANS LOUISIANA GAS PIPELINE 0.0\n",
      "supplier_TRANS TEXAS GAS 0.0\n",
      "supplier_TRANSALTA ENERGY MARKETING 0.0\n",
      "supplier_TRANSCANADA 0.0\n",
      "supplier_TRANSCO 0.0\n",
      "supplier_TRANSCONTINENTAL GAS 0.0\n",
      "supplier_TRANSPARENT ENERGY, LLC 0.0\n",
      "supplier_TRANSWESTERN PIPELINE CO 0.0\n",
      "supplier_TRI-STATE 0.0\n",
      "supplier_TRUNKLINE GAS 0.0\n",
      "supplier_TUCSON ELECTRIC 0.0\n",
      "supplier_TUSCARORA 0.0\n",
      "supplier_TWIN EAGLE 0.0\n",
      "supplier_TWIN EAGLE RESOURCE MANAGEMENT 0.0\n",
      "supplier_Tenaska 0.0\n",
      "supplier_Texas Gas 0.0\n",
      "supplier_UBS 0.0\n",
      "supplier_UBS AG 0.0\n",
      "supplier_UNI SOURCE ENERGY 0.0\n",
      "supplier_UNIMARK 0.0\n",
      "supplier_UNIPER GLOBAL COMMODITIES NORTH AMERICA,LLC 0.0\n",
      "supplier_UNITED COAL 0.0\n",
      "supplier_UNITED ENERGY 0.0\n",
      "supplier_UNITED ENERGY TRADING, LLC 0.0\n",
      "supplier_UTILITY RESOURCE SOLUTIONS 0.0\n",
      "supplier_United 0.0\n",
      "supplier_VA  POWER 0.0\n",
      "supplier_VA PWR SVCS ENERGY 0.0\n",
      "supplier_VARIOUS (NATURAL GAS SPOT PURCHASES ONLY) 0.0\n",
      "supplier_VARIOUS SUPPLIERS (NATURAL GAS ONLY) 0.0\n",
      "supplier_VEPM 0.0\n",
      "supplier_VERMONT GAS SYSTEMS 0.0\n",
      "supplier_VIKING CORNING 0.0\n",
      "supplier_VIRGINIA ENERGY 0.0\n",
      "supplier_VIRGINIA FUEL CORP 0.0\n",
      "supplier_VIRGINIA POWER 0.0\n",
      "supplier_VITOL 0.0\n",
      "supplier_VPEM 0.0\n",
      "supplier_Virginia 0.0\n",
      "supplier_WASHINGTON GAS 0.0\n",
      "supplier_WATERFRONT 0.0\n",
      "supplier_WE ENERGIES 0.0\n",
      "supplier_WELLS FARGO COMMODITIES 0.0\n",
      "supplier_WESTAR ENERGY 0.0\n",
      "supplier_WFEC PIPELINE 0.0\n",
      "supplier_WGL MIDSTREAM INC. 0.0\n",
      "supplier_WILD GOOSE STORAGE 0.0\n",
      "supplier_WILLIAMS 0.0\n",
      "supplier_WILLIAMS ENERGY 0.0\n",
      "supplier_WILLIAMS PIPELINE 0.0\n",
      "supplier_WILLISTON BASIN INTERSTATE PiPELINE 0.0\n",
      "supplier_WOODWARD 0.0\n",
      "supplier_WORLD FUEL SERVICES INC. 0.0\n",
      "supplier_WPS 0.0\n",
      "supplier_Wachovia 0.0\n",
      "supplier_Wells 0.0\n",
      "supplier_XCEL 0.0\n",
      "supplier_XCEL ENERGY 0.0\n",
      "supplier_XTO ENERGY 0.0\n",
      "supplier_YAKA ENERGY 0.0\n",
      "supplier_constellation 0.0\n",
      "combined_heat_and_power_plant_N 0.0\n",
      "combined_heat_and_power_plant_Y 0.0\n",
      "nerc_region_ASCC 0.0\n",
      "nerc_region_N/A 0.0\n",
      "nerc_region_RFC 0.0\n",
      "nerc_region_SERC 0.0\n",
      "nerc_region_TRE 0.0\n",
      "reported_prime_mover_CA 0.0\n",
      "reported_prime_mover_CS 0.0\n",
      "reported_prime_mover_IC 0.0\n"
     ]
    }
   ],
   "source": [
    "for a,b in sorted(zip(X.columns, results.feature_importances_), key=lambda x: x[1], reverse=True):\n",
    "    print(a,b)"
   ]
  },
  {
   "cell_type": "markdown",
   "metadata": {
    "heading_collapsed": true
   },
   "source": [
    "# Analyze False Positives and Negatives"
   ]
  },
  {
   "cell_type": "code",
   "execution_count": 13,
   "metadata": {
    "ExecuteTime": {
     "end_time": "2019-07-25T14:54:58.181137Z",
     "start_time": "2019-07-25T14:54:50.017759Z"
    },
    "hidden": true
   },
   "outputs": [],
   "source": [
    "y_pred = results.predict(X)"
   ]
  },
  {
   "cell_type": "code",
   "execution_count": 14,
   "metadata": {
    "ExecuteTime": {
     "end_time": "2019-07-25T14:55:04.965110Z",
     "start_time": "2019-07-25T14:55:04.934236Z"
    },
    "hidden": true
   },
   "outputs": [],
   "source": [
    "wrongs = (y_pred != y)"
   ]
  },
  {
   "cell_type": "code",
   "execution_count": 15,
   "metadata": {
    "ExecuteTime": {
     "end_time": "2019-07-25T14:55:11.755288Z",
     "start_time": "2019-07-25T14:55:11.722378Z"
    },
    "hidden": true,
    "scrolled": true
   },
   "outputs": [],
   "source": [
    "df_ng[\"wrong\"] = wrongs"
   ]
  },
  {
   "cell_type": "code",
   "execution_count": 17,
   "metadata": {
    "ExecuteTime": {
     "end_time": "2019-07-25T14:55:59.280011Z",
     "start_time": "2019-07-25T14:55:59.256686Z"
    },
    "hidden": true
   },
   "outputs": [
    {
     "data": {
      "text/plain": [
       "1    207599\n",
       "0     60855\n",
       "Name: natural_gas_delivery_contract_type_N/A, dtype: int64"
      ]
     },
     "execution_count": 17,
     "metadata": {},
     "output_type": "execute_result"
    }
   ],
   "source": [
    "df_ng[\"natural_gas_delivery_contract_type_N/A\"].value_counts()"
   ]
  },
  {
   "cell_type": "code",
   "execution_count": 16,
   "metadata": {
    "ExecuteTime": {
     "end_time": "2019-07-25T14:55:35.852094Z",
     "start_time": "2019-07-25T14:55:35.557387Z"
    },
    "hidden": true,
    "scrolled": true
   },
   "outputs": [
    {
     "data": {
      "text/plain": [
       "1    3031\n",
       "0     187\n",
       "Name: natural_gas_delivery_contract_type_N/A, dtype: int64"
      ]
     },
     "execution_count": 16,
     "metadata": {},
     "output_type": "execute_result"
    }
   ],
   "source": [
    "df_ng[df_ng[\"wrong\"] == True][\"natural_gas_delivery_contract_type_N/A\"].value_counts()"
   ]
  },
  {
   "cell_type": "code",
   "execution_count": 20,
   "metadata": {
    "ExecuteTime": {
     "end_time": "2019-07-25T14:57:04.884871Z",
     "start_time": "2019-07-25T14:57:04.875654Z"
    },
    "hidden": true
   },
   "outputs": [
    {
     "name": "stdout",
     "output_type": "stream",
     "text": [
      "0.061695809963708347\n",
      "0.2931372501794325\n"
     ]
    }
   ],
   "source": [
    "print(187/3031)\n",
    "print(60855/207599)"
   ]
  },
  {
   "cell_type": "markdown",
   "metadata": {
    "hidden": true
   },
   "source": [
    "After some trial and error, large number of incorrect values have a delivery contract of \"N/A\". Maybe we can subset the data of those values and use a separate model."
   ]
  },
  {
   "cell_type": "code",
   "execution_count": null,
   "metadata": {
    "hidden": true
   },
   "outputs": [],
   "source": []
  },
  {
   "cell_type": "code",
   "execution_count": null,
   "metadata": {
    "hidden": true
   },
   "outputs": [],
   "source": []
  },
  {
   "cell_type": "code",
   "execution_count": null,
   "metadata": {
    "hidden": true
   },
   "outputs": [],
   "source": []
  },
  {
   "cell_type": "markdown",
   "metadata": {
    "heading_collapsed": true
   },
   "source": [
    "# Subsetting the Data  Part 1 - Where Delivery Contract != N/A"
   ]
  },
  {
   "cell_type": "code",
   "execution_count": 208,
   "metadata": {
    "ExecuteTime": {
     "end_time": "2019-07-29T18:59:21.997145Z",
     "start_time": "2019-07-29T18:59:06.012458Z"
    },
    "hidden": true
   },
   "outputs": [],
   "source": [
    "df_ng = get_ng()\n",
    "df_ng2 = df_ng[(df_ng[\"natural_gas_delivery_contract_type_N/A\"] != 1)].copy()\n",
    "len(df_ng2)\n",
    "X = df_ng2.drop(columns=\"fuel_cost\")\n",
    "y = (df_ng2.fuel_cost > df_ng.fuel_cost.quantile(.8))\n",
    "X_train, X_test, y_train, y_test = train_test_split(X, y, test_size = 0.2)\n",
    "\n",
    "model = DecisionTreeClassifier(random_state=23, max_depth=10)\n",
    "results = model.fit(X_train, y_train)"
   ]
  },
  {
   "cell_type": "code",
   "execution_count": 209,
   "metadata": {
    "ExecuteTime": {
     "end_time": "2019-07-29T18:59:32.699796Z",
     "start_time": "2019-07-29T18:59:32.407749Z"
    },
    "hidden": true
   },
   "outputs": [
    {
     "name": "stdout",
     "output_type": "stream",
     "text": [
      "Precision: 0.9473684210526315\n",
      "Recall: 0.23309352517985613\n",
      "F1: 0.3741339491916859\n",
      "       0    1\n",
      "0  11467    9\n",
      "1    533  162\n",
      "Cost Function: -0.000806424142716807\n"
     ]
    }
   ],
   "source": [
    "y_pred = results.predict(X_test)\n",
    "get_scores(y_test, y_pred, X_test)"
   ]
  },
  {
   "cell_type": "markdown",
   "metadata": {
    "hidden": true
   },
   "source": [
    "F1 score here is worse, as well as cost, as might be predicted. Although precision is good. \n",
    "Running cross_val to see more.\n",
    "Something about when the delivery contract is known makes prices more unpredictable?"
   ]
  },
  {
   "cell_type": "code",
   "execution_count": 210,
   "metadata": {
    "ExecuteTime": {
     "end_time": "2019-07-29T18:59:42.903128Z",
     "start_time": "2019-07-29T18:59:42.688880Z"
    },
    "hidden": true
   },
   "outputs": [
    {
     "data": {
      "text/plain": [
       "0.7289548911585265"
      ]
     },
     "execution_count": 210,
     "metadata": {},
     "output_type": "execute_result"
    }
   ],
   "source": [
    "get_auc(results, y_test, y_pred)"
   ]
  },
  {
   "cell_type": "code",
   "execution_count": 127,
   "metadata": {
    "ExecuteTime": {
     "end_time": "2019-07-29T16:13:27.226686Z",
     "start_time": "2019-07-29T16:13:08.518835Z"
    },
    "hidden": true,
    "scrolled": false
   },
   "outputs": [
    {
     "name": "stdout",
     "output_type": "stream",
     "text": [
      "Precision: 0.7884615384615384\n",
      "Recall: 0.11614730878186968\n",
      "F1: 0.2024691358024691\n",
      "       0   1\n",
      "0  11444  22\n",
      "1    624  82\n",
      "Cost Function: -0.00022294912627997165\n",
      "       0   1\n",
      "0  11444  22\n",
      "1    624  82\n",
      "Precision: 0.8841059602649006\n",
      "Recall: 0.3781869688385269\n",
      "F1: 0.5297619047619048\n",
      "       0    1\n",
      "0  11430   35\n",
      "1    439  267\n",
      "Cost Function: -0.002058624514887794\n",
      "       0    1\n",
      "0  11430   35\n",
      "1    439  267\n",
      "Precision: 0.8888888888888888\n",
      "Recall: 0.28328611898017\n",
      "F1: 0.4296455424274973\n",
      "       0    1\n",
      "0  11440   25\n",
      "1    506  200\n",
      "Cost Function: -0.0014410330745351942\n",
      "       0    1\n",
      "0  11440   25\n",
      "1    506  200\n",
      "Precision: 0.9125\n",
      "Recall: 0.20679886685552407\n",
      "F1: 0.3371824480369515\n",
      "       0    1\n",
      "0  11451   14\n",
      "1    560  146\n",
      "Cost Function: -0.0013844365181518124\n",
      "       0    1\n",
      "0  11451   14\n",
      "1    560  146\n",
      "Precision: 0.9210526315789473\n",
      "Recall: 0.14893617021276595\n",
      "F1: 0.2564102564102564\n",
      "       0    1\n",
      "0  11456    9\n",
      "1    600  105\n",
      "Cost Function: -0.0006959528478685768\n",
      "       0    1\n",
      "0  11456    9\n",
      "1    600  105\n"
     ]
    },
    {
     "data": {
      "text/plain": [
       "array([-0.00022295, -0.00205862, -0.00144103, -0.00138444, -0.00069595])"
      ]
     },
     "execution_count": 127,
     "metadata": {},
     "output_type": "execute_result"
    }
   ],
   "source": [
    "cross_val_score(results, X, y, scoring=coster, cv=5)"
   ]
  },
  {
   "cell_type": "markdown",
   "metadata": {
    "hidden": true
   },
   "source": [
    "Good thing is very few false negatives, good precision. All the cost values are negative, but not by much. "
   ]
  },
  {
   "cell_type": "code",
   "execution_count": 226,
   "metadata": {
    "ExecuteTime": {
     "end_time": "2019-07-29T21:26:59.666777Z",
     "start_time": "2019-07-29T21:26:59.644339Z"
    },
    "hidden": true
   },
   "outputs": [
    {
     "data": {
      "text/plain": [
       "-0.001160598"
      ]
     },
     "execution_count": 226,
     "metadata": {},
     "output_type": "execute_result"
    }
   ],
   "source": [
    "np.mean([-0.00022295, -0.00205862, -0.00144103, -0.00138444, -0.00069595])"
   ]
  },
  {
   "cell_type": "code",
   "execution_count": 128,
   "metadata": {
    "ExecuteTime": {
     "end_time": "2019-07-29T16:14:23.094062Z",
     "start_time": "2019-07-29T16:14:22.060227Z"
    },
    "hidden": true
   },
   "outputs": [],
   "source": [
    "y_pred = results.predict(X)"
   ]
  },
  {
   "cell_type": "code",
   "execution_count": 129,
   "metadata": {
    "ExecuteTime": {
     "end_time": "2019-07-29T16:14:33.178472Z",
     "start_time": "2019-07-29T16:14:33.172991Z"
    },
    "hidden": true
   },
   "outputs": [],
   "source": [
    "wrong = (y != y_pred)"
   ]
  },
  {
   "cell_type": "code",
   "execution_count": 130,
   "metadata": {
    "ExecuteTime": {
     "end_time": "2019-07-29T16:14:43.588454Z",
     "start_time": "2019-07-29T16:14:43.580232Z"
    },
    "hidden": true
   },
   "outputs": [],
   "source": [
    "df_ng2[\"wrong\"] = wrong"
   ]
  },
  {
   "cell_type": "markdown",
   "metadata": {
    "heading_collapsed": true
   },
   "source": [
    "# Identify Additional Features That Might Be Associated with Innaccurate Predictions\n",
    "i.e. volatile predictors"
   ]
  },
  {
   "cell_type": "code",
   "execution_count": 70,
   "metadata": {
    "ExecuteTime": {
     "end_time": "2019-07-25T15:36:17.747404Z",
     "start_time": "2019-07-25T15:36:17.708846Z"
    },
    "hidden": true
   },
   "outputs": [],
   "source": [
    "df_ng4 = df_ng2[df_ng2[\"wrong\"] == True]"
   ]
  },
  {
   "cell_type": "code",
   "execution_count": 206,
   "metadata": {
    "ExecuteTime": {
     "end_time": "2019-07-25T18:30:23.916847Z",
     "start_time": "2019-07-25T18:30:23.602951Z"
    },
    "hidden": true
   },
   "outputs": [],
   "source": [
    "other_cols = []\n",
    "for col in df_ng4.columns:\n",
    "    sum_ = df_ng4[col].sum()\n",
    "    if sum_ >0: other_cols.append(col)\n"
   ]
  },
  {
   "cell_type": "code",
   "execution_count": 89,
   "metadata": {
    "ExecuteTime": {
     "end_time": "2019-07-25T15:44:59.760578Z",
     "start_time": "2019-07-25T15:44:59.560728Z"
    },
    "hidden": true,
    "scrolled": true
   },
   "outputs": [
    {
     "data": {
      "text/html": [
       "<div>\n",
       "<style scoped>\n",
       "    .dataframe tbody tr th:only-of-type {\n",
       "        vertical-align: middle;\n",
       "    }\n",
       "\n",
       "    .dataframe tbody tr th {\n",
       "        vertical-align: top;\n",
       "    }\n",
       "\n",
       "    .dataframe thead th {\n",
       "        text-align: right;\n",
       "    }\n",
       "</style>\n",
       "<table border=\"1\" class=\"dataframe\">\n",
       "  <thead>\n",
       "    <tr style=\"text-align: right;\">\n",
       "      <th></th>\n",
       "      <th>index</th>\n",
       "      <th>0</th>\n",
       "    </tr>\n",
       "  </thead>\n",
       "  <tbody>\n",
       "    <tr>\n",
       "      <th>1</th>\n",
       "      <td>quantity</td>\n",
       "      <td>1.728757e+08</td>\n",
       "    </tr>\n",
       "    <tr>\n",
       "      <th>0</th>\n",
       "      <td>fuel_cost</td>\n",
       "      <td>6.623665e+07</td>\n",
       "    </tr>\n",
       "    <tr>\n",
       "      <th>4</th>\n",
       "      <td>number_affected</td>\n",
       "      <td>5.058808e+06</td>\n",
       "    </tr>\n",
       "    <tr>\n",
       "      <th>10</th>\n",
       "      <td>natural_gas_transportation_service_N/A</td>\n",
       "      <td>1.353000e+03</td>\n",
       "    </tr>\n",
       "    <tr>\n",
       "      <th>347</th>\n",
       "      <td>secondary_transportation_mode_N/A</td>\n",
       "      <td>1.353000e+03</td>\n",
       "    </tr>\n",
       "    <tr>\n",
       "      <th>344</th>\n",
       "      <td>regulated_REG</td>\n",
       "      <td>1.353000e+03</td>\n",
       "    </tr>\n",
       "    <tr>\n",
       "      <th>340</th>\n",
       "      <td>primary_transportation_mode_PL</td>\n",
       "      <td>1.353000e+03</td>\n",
       "    </tr>\n",
       "    <tr>\n",
       "      <th>489</th>\n",
       "      <td>wrong</td>\n",
       "      <td>1.353000e+03</td>\n",
       "    </tr>\n",
       "    <tr>\n",
       "      <th>5</th>\n",
       "      <td>contract_type_N/A</td>\n",
       "      <td>1.353000e+03</td>\n",
       "    </tr>\n",
       "    <tr>\n",
       "      <th>471</th>\n",
       "      <td>combined_heat_and_power_plant_N</td>\n",
       "      <td>1.317000e+03</td>\n",
       "    </tr>\n",
       "    <tr>\n",
       "      <th>343</th>\n",
       "      <td>purchase_type_S</td>\n",
       "      <td>1.109000e+03</td>\n",
       "    </tr>\n",
       "    <tr>\n",
       "      <th>346</th>\n",
       "      <td>reporting_frequency_M</td>\n",
       "      <td>1.074000e+03</td>\n",
       "    </tr>\n",
       "    <tr>\n",
       "      <th>2</th>\n",
       "      <td>mmbtu_per_unit_gen</td>\n",
       "      <td>1.059780e+03</td>\n",
       "    </tr>\n",
       "    <tr>\n",
       "      <th>6</th>\n",
       "      <td>natural_gas_delivery_contract_type_F</td>\n",
       "      <td>8.800000e+02</td>\n",
       "    </tr>\n",
       "    <tr>\n",
       "      <th>8</th>\n",
       "      <td>natural_gas_supply_contract_type_F</td>\n",
       "      <td>8.650000e+02</td>\n",
       "    </tr>\n",
       "    <tr>\n",
       "      <th>479</th>\n",
       "      <td>nerc_region_SERC</td>\n",
       "      <td>5.520000e+02</td>\n",
       "    </tr>\n",
       "    <tr>\n",
       "      <th>9</th>\n",
       "      <td>natural_gas_supply_contract_type_I</td>\n",
       "      <td>4.880000e+02</td>\n",
       "    </tr>\n",
       "    <tr>\n",
       "      <th>7</th>\n",
       "      <td>natural_gas_delivery_contract_type_I</td>\n",
       "      <td>4.730000e+02</td>\n",
       "    </tr>\n",
       "    <tr>\n",
       "      <th>486</th>\n",
       "      <td>reported_prime_mover_GT</td>\n",
       "      <td>4.540000e+02</td>\n",
       "    </tr>\n",
       "    <tr>\n",
       "      <th>488</th>\n",
       "      <td>reported_prime_mover_ST</td>\n",
       "      <td>3.830000e+02</td>\n",
       "    </tr>\n",
       "    <tr>\n",
       "      <th>345</th>\n",
       "      <td>reporting_frequency_A</td>\n",
       "      <td>2.790000e+02</td>\n",
       "    </tr>\n",
       "    <tr>\n",
       "      <th>482</th>\n",
       "      <td>nerc_region_WECC</td>\n",
       "      <td>2.530000e+02</td>\n",
       "    </tr>\n",
       "    <tr>\n",
       "      <th>483</th>\n",
       "      <td>reported_prime_mover_CA</td>\n",
       "      <td>2.480000e+02</td>\n",
       "    </tr>\n",
       "    <tr>\n",
       "      <th>485</th>\n",
       "      <td>reported_prime_mover_CT</td>\n",
       "      <td>2.480000e+02</td>\n",
       "    </tr>\n",
       "    <tr>\n",
       "      <th>341</th>\n",
       "      <td>purchase_type_C</td>\n",
       "      <td>2.420000e+02</td>\n",
       "    </tr>\n",
       "    <tr>\n",
       "      <th>463</th>\n",
       "      <td>supplier_VARIOUS (NATURAL GAS SPOT PURCHASES O...</td>\n",
       "      <td>2.300000e+02</td>\n",
       "    </tr>\n",
       "    <tr>\n",
       "      <th>336</th>\n",
       "      <td>plant_state_VA</td>\n",
       "      <td>2.130000e+02</td>\n",
       "    </tr>\n",
       "    <tr>\n",
       "      <th>475</th>\n",
       "      <td>nerc_region_MRO</td>\n",
       "      <td>1.940000e+02</td>\n",
       "    </tr>\n",
       "    <tr>\n",
       "      <th>59</th>\n",
       "      <td>operator_id_19876.0</td>\n",
       "      <td>1.870000e+02</td>\n",
       "    </tr>\n",
       "    <tr>\n",
       "      <th>466</th>\n",
       "      <td>supplier_VIRGINIA POWER SERVICES ENERGY</td>\n",
       "      <td>1.860000e+02</td>\n",
       "    </tr>\n",
       "    <tr>\n",
       "      <th>322</th>\n",
       "      <td>plant_state_NC</td>\n",
       "      <td>1.300000e+02</td>\n",
       "    </tr>\n",
       "    <tr>\n",
       "      <th>478</th>\n",
       "      <td>nerc_region_RFC</td>\n",
       "      <td>1.030000e+02</td>\n",
       "    </tr>\n",
       "    <tr>\n",
       "      <th>3</th>\n",
       "      <td>disturbance_events</td>\n",
       "      <td>9.500000e+01</td>\n",
       "    </tr>\n",
       "    <tr>\n",
       "      <th>71</th>\n",
       "      <td>operator_id_3046.0</td>\n",
       "      <td>9.000000e+01</td>\n",
       "    </tr>\n",
       "    <tr>\n",
       "      <th>477</th>\n",
       "      <td>nerc_region_NPCC</td>\n",
       "      <td>8.600000e+01</td>\n",
       "    </tr>\n",
       "    <tr>\n",
       "      <th>480</th>\n",
       "      <td>nerc_region_SPP</td>\n",
       "      <td>7.800000e+01</td>\n",
       "    </tr>\n",
       "    <tr>\n",
       "      <th>183</th>\n",
       "      <td>plant_id_54844</td>\n",
       "      <td>6.400000e+01</td>\n",
       "    </tr>\n",
       "    <tr>\n",
       "      <th>303</th>\n",
       "      <td>plant_state_AZ</td>\n",
       "      <td>5.900000e+01</td>\n",
       "    </tr>\n",
       "    <tr>\n",
       "      <th>306</th>\n",
       "      <td>plant_state_FL</td>\n",
       "      <td>5.200000e+01</td>\n",
       "    </tr>\n",
       "    <tr>\n",
       "      <th>332</th>\n",
       "      <td>plant_state_SC</td>\n",
       "      <td>5.100000e+01</td>\n",
       "    </tr>\n",
       "    <tr>\n",
       "      <th>330</th>\n",
       "      <td>plant_state_OK</td>\n",
       "      <td>5.000000e+01</td>\n",
       "    </tr>\n",
       "    <tr>\n",
       "      <th>82</th>\n",
       "      <td>operator_id_5416.0</td>\n",
       "      <td>4.900000e+01</td>\n",
       "    </tr>\n",
       "    <tr>\n",
       "      <th>56</th>\n",
       "      <td>operator_id_19436.0</td>\n",
       "      <td>4.800000e+01</td>\n",
       "    </tr>\n",
       "    <tr>\n",
       "      <th>31</th>\n",
       "      <td>operator_id_13781.0</td>\n",
       "      <td>4.700000e+01</td>\n",
       "    </tr>\n",
       "    <tr>\n",
       "      <th>45</th>\n",
       "      <td>operator_id_16572.0</td>\n",
       "      <td>4.600000e+01</td>\n",
       "    </tr>\n",
       "    <tr>\n",
       "      <th>314</th>\n",
       "      <td>plant_state_LA</td>\n",
       "      <td>4.500000e+01</td>\n",
       "    </tr>\n",
       "    <tr>\n",
       "      <th>318</th>\n",
       "      <td>plant_state_MN</td>\n",
       "      <td>4.400000e+01</td>\n",
       "    </tr>\n",
       "    <tr>\n",
       "      <th>319</th>\n",
       "      <td>plant_state_MO</td>\n",
       "      <td>4.400000e+01</td>\n",
       "    </tr>\n",
       "    <tr>\n",
       "      <th>339</th>\n",
       "      <td>plant_state_WY</td>\n",
       "      <td>4.300000e+01</td>\n",
       "    </tr>\n",
       "    <tr>\n",
       "      <th>308</th>\n",
       "      <td>plant_state_IA</td>\n",
       "      <td>4.300000e+01</td>\n",
       "    </tr>\n",
       "  </tbody>\n",
       "</table>\n",
       "</div>"
      ],
      "text/plain": [
       "                                                 index             0\n",
       "1                                             quantity  1.728757e+08\n",
       "0                                            fuel_cost  6.623665e+07\n",
       "4                                      number_affected  5.058808e+06\n",
       "10              natural_gas_transportation_service_N/A  1.353000e+03\n",
       "347                  secondary_transportation_mode_N/A  1.353000e+03\n",
       "344                                      regulated_REG  1.353000e+03\n",
       "340                     primary_transportation_mode_PL  1.353000e+03\n",
       "489                                              wrong  1.353000e+03\n",
       "5                                    contract_type_N/A  1.353000e+03\n",
       "471                    combined_heat_and_power_plant_N  1.317000e+03\n",
       "343                                    purchase_type_S  1.109000e+03\n",
       "346                              reporting_frequency_M  1.074000e+03\n",
       "2                                   mmbtu_per_unit_gen  1.059780e+03\n",
       "6                 natural_gas_delivery_contract_type_F  8.800000e+02\n",
       "8                   natural_gas_supply_contract_type_F  8.650000e+02\n",
       "479                                   nerc_region_SERC  5.520000e+02\n",
       "9                   natural_gas_supply_contract_type_I  4.880000e+02\n",
       "7                 natural_gas_delivery_contract_type_I  4.730000e+02\n",
       "486                            reported_prime_mover_GT  4.540000e+02\n",
       "488                            reported_prime_mover_ST  3.830000e+02\n",
       "345                              reporting_frequency_A  2.790000e+02\n",
       "482                                   nerc_region_WECC  2.530000e+02\n",
       "483                            reported_prime_mover_CA  2.480000e+02\n",
       "485                            reported_prime_mover_CT  2.480000e+02\n",
       "341                                    purchase_type_C  2.420000e+02\n",
       "463  supplier_VARIOUS (NATURAL GAS SPOT PURCHASES O...  2.300000e+02\n",
       "336                                     plant_state_VA  2.130000e+02\n",
       "475                                    nerc_region_MRO  1.940000e+02\n",
       "59                                 operator_id_19876.0  1.870000e+02\n",
       "466            supplier_VIRGINIA POWER SERVICES ENERGY  1.860000e+02\n",
       "322                                     plant_state_NC  1.300000e+02\n",
       "478                                    nerc_region_RFC  1.030000e+02\n",
       "3                                   disturbance_events  9.500000e+01\n",
       "71                                  operator_id_3046.0  9.000000e+01\n",
       "477                                   nerc_region_NPCC  8.600000e+01\n",
       "480                                    nerc_region_SPP  7.800000e+01\n",
       "183                                     plant_id_54844  6.400000e+01\n",
       "303                                     plant_state_AZ  5.900000e+01\n",
       "306                                     plant_state_FL  5.200000e+01\n",
       "332                                     plant_state_SC  5.100000e+01\n",
       "330                                     plant_state_OK  5.000000e+01\n",
       "82                                  operator_id_5416.0  4.900000e+01\n",
       "56                                 operator_id_19436.0  4.800000e+01\n",
       "31                                 operator_id_13781.0  4.700000e+01\n",
       "45                                 operator_id_16572.0  4.600000e+01\n",
       "314                                     plant_state_LA  4.500000e+01\n",
       "318                                     plant_state_MN  4.400000e+01\n",
       "319                                     plant_state_MO  4.400000e+01\n",
       "339                                     plant_state_WY  4.300000e+01\n",
       "308                                     plant_state_IA  4.300000e+01"
      ]
     },
     "execution_count": 89,
     "metadata": {},
     "output_type": "execute_result"
    }
   ],
   "source": [
    "df_ng4[other_cols].sum().reset_index().sort_values(0, ascending=False)[0:50]"
   ]
  },
  {
   "cell_type": "code",
   "execution_count": 268,
   "metadata": {
    "ExecuteTime": {
     "end_time": "2019-07-25T19:24:50.319210Z",
     "start_time": "2019-07-25T19:24:32.869339Z"
    },
    "hidden": true
   },
   "outputs": [
    {
     "name": "stdout",
     "output_type": "stream",
     "text": [
      "0.5309278350515464\n",
      "      0    1\n",
      "0  9043    1\n",
      "1   181  103\n"
     ]
    },
    {
     "data": {
      "text/plain": [
       "0.9810677530017152"
      ]
     },
     "execution_count": 268,
     "metadata": {},
     "output_type": "execute_result"
    }
   ],
   "source": [
    "df_ng = get_ng()\n",
    "df_ng5 = df_ng[(df_ng[\"natural_gas_delivery_contract_type_F\"] == 1) & \\\n",
    "              (df_ng[\"natural_gas_delivery_contract_type_N/A\"] != 1)]\n",
    "X = df_ng5.drop(columns=\"fuel_cost\")\n",
    "y = (df_ng5.fuel_cost > df_ng.fuel_cost.quantile(.8))\n",
    "X_train, X_test, y_train, y_test = train_test_split(X, y, test_size = 0.2)\n",
    "model = DecisionTreeClassifier(random_state=23, max_depth=10)\n",
    "results = model.fit(X_train, y_train)\n",
    "\n",
    "y_pred = results.predict(X_test)\n",
    "get_scores(y_test, y_pred, X_test)"
   ]
  },
  {
   "cell_type": "code",
   "execution_count": 47,
   "metadata": {
    "ExecuteTime": {
     "end_time": "2019-07-26T20:03:12.404185Z",
     "start_time": "2019-07-26T20:02:57.627984Z"
    },
    "hidden": true
   },
   "outputs": [
    {
     "name": "stdout",
     "output_type": "stream",
     "text": [
      "Precision: 0.9111111111111111\n",
      "Recall: 0.47674418604651164\n",
      "F1: 0.6259541984732825\n",
      "      0    1\n",
      "0  8449   12\n",
      "1   135  123\n",
      "Cost Function: -0.0032483153643423587\n"
     ]
    }
   ],
   "source": [
    "df_ng = get_ng()\n",
    "df_ng5 = df_ng[(df_ng[\"nerc_region_SERC\"] != 1) & \\\n",
    "              (df_ng[\"natural_gas_delivery_contract_type_N/A\"] != 1)]\n",
    "X = df_ng5.drop(columns=\"fuel_cost\")\n",
    "y = (df_ng5.fuel_cost > df_ng.fuel_cost.quantile(.8))\n",
    "X_train, X_test, y_train, y_test = train_test_split(X, y, test_size = 0.2)\n",
    "\n",
    "model = DecisionTreeClassifier(random_state=23, max_depth=10)\n",
    "results = model.fit(X_train, y_train)\n",
    "y_pred = results.predict(X_test)\n",
    "\n",
    "get_scores(y_test, y_pred, X_test)\n"
   ]
  },
  {
   "cell_type": "code",
   "execution_count": 46,
   "metadata": {
    "ExecuteTime": {
     "end_time": "2019-07-26T20:02:47.742956Z",
     "start_time": "2019-07-26T20:02:32.176717Z"
    },
    "hidden": true
   },
   "outputs": [
    {
     "name": "stdout",
     "output_type": "stream",
     "text": [
      "Precision: 0.7272727272727273\n",
      "Recall: 0.41379310344827586\n",
      "F1: 0.5274725274725275\n",
      "      0   1\n",
      "0  2911  18\n",
      "1    68  48\n",
      "Cost Function: -0.0027501330603776197\n"
     ]
    }
   ],
   "source": [
    "df_ng = get_ng()\n",
    "df_ng5 = df_ng[(df_ng[\"natural_gas_supply_contract_type_I\"] == 1) & \\\n",
    "              (df_ng[\"natural_gas_delivery_contract_type_N/A\"] != 1)]\n",
    "X = df_ng5.drop(columns=\"fuel_cost\")\n",
    "y = (df_ng5.fuel_cost > df_ng.fuel_cost.quantile(.8))\n",
    "X_train, X_test, y_train, y_test = train_test_split(X, y, test_size = 0.2)\n",
    "model = DecisionTreeClassifier(random_state=23, max_depth=10)\n",
    "results = model.fit(X_train, y_train)\n",
    "\n",
    "y_pred = results.predict(X_test)\n",
    "get_scores(y_test, y_pred, X_test)\n",
    "\n"
   ]
  },
  {
   "cell_type": "code",
   "execution_count": 229,
   "metadata": {
    "ExecuteTime": {
     "end_time": "2019-07-29T21:31:54.206855Z",
     "start_time": "2019-07-29T21:31:33.543452Z"
    },
    "hidden": true
   },
   "outputs": [
    {
     "name": "stdout",
     "output_type": "stream",
     "text": [
      "Precision: 0.864406779661017\n",
      "Recall: 0.53125\n",
      "F1: 0.6580645161290324\n",
      "      0    1\n",
      "0  1589   16\n",
      "1    90  102\n",
      "Cost Function: -0.030956524926279174\n"
     ]
    }
   ],
   "source": [
    "df_ng = get_ng()\n",
    "df_ng5 = df_ng[(df_ng[\"reporting_frequency_A\"] == 1) & \\\n",
    "              (df_ng[\"natural_gas_delivery_contract_type_N/A\"] != 1)]\n",
    "X = df_ng5.drop(columns=\"fuel_cost\")\n",
    "y = (df_ng5.fuel_cost > df_ng.fuel_cost.quantile(.8))\n",
    "X_train, X_test, y_train, y_test = train_test_split(X, y, test_size = 0.2)\n",
    "model = DecisionTreeClassifier(random_state=23, max_depth=10)\n",
    "results = model.fit(X_train, y_train)\n",
    "\n",
    "y_pred = results.predict(X_test)\n",
    "get_scores(y_test, y_pred, X_test)\n"
   ]
  },
  {
   "cell_type": "markdown",
   "metadata": {
    "hidden": true
   },
   "source": [
    "Ok, maybe we've found the volatility feature. Automatic reporting with a specified delivery contract can be modeled decently, but manual reporting is maybe erratic?"
   ]
  },
  {
   "cell_type": "code",
   "execution_count": 230,
   "metadata": {
    "ExecuteTime": {
     "end_time": "2019-07-29T21:32:12.730380Z",
     "start_time": "2019-07-29T21:32:11.059968Z"
    },
    "hidden": true,
    "scrolled": true
   },
   "outputs": [
    {
     "name": "stdout",
     "output_type": "stream",
     "text": [
      "Precision: 0.9090909090909091\n",
      "Recall: 0.2631578947368421\n",
      "F1: 0.4081632653061224\n",
      "      0   1\n",
      "0  1602   5\n",
      "1   140  50\n",
      "Cost Function: -0.024561188052915052\n",
      "      0   1\n",
      "0  1602   5\n",
      "1   140  50\n",
      "Precision: 0.8741258741258742\n",
      "Recall: 0.6578947368421053\n",
      "F1: 0.7507507507507508\n",
      "      0    1\n",
      "0  1589   18\n",
      "1    65  125\n",
      "Cost Function: -0.04036119427739065\n",
      "      0    1\n",
      "0  1589   18\n",
      "1    65  125\n",
      "Precision: 0.8888888888888888\n",
      "Recall: 0.7157894736842105\n",
      "F1: 0.7930029154518949\n",
      "      0    1\n",
      "0  1590   17\n",
      "1    54  136\n",
      "Cost Function: -0.04241117274990806\n",
      "      0    1\n",
      "0  1590   17\n",
      "1    54  136\n",
      "Precision: 0.8682170542635659\n",
      "Recall: 0.5925925925925926\n",
      "F1: 0.7044025157232704\n",
      "      0    1\n",
      "0  1589   17\n",
      "1    77  112\n",
      "Cost Function: -0.02603025908106917\n",
      "      0    1\n",
      "0  1589   17\n",
      "1    77  112\n",
      "Precision: 0.7528089887640449\n",
      "Recall: 0.3544973544973545\n",
      "F1: 0.4820143884892085\n",
      "      0   1\n",
      "0  1584  22\n",
      "1   122  67\n",
      "Cost Function: -0.024745282918692706\n",
      "      0   1\n",
      "0  1584  22\n",
      "1   122  67\n"
     ]
    },
    {
     "data": {
      "text/plain": [
       "array([-0.02456119, -0.04036119, -0.04241117, -0.02603026, -0.02474528])"
      ]
     },
     "execution_count": 230,
     "metadata": {},
     "output_type": "execute_result"
    }
   ],
   "source": [
    "cross_val_score(results, X, y, scoring=coster, cv=5)"
   ]
  },
  {
   "cell_type": "code",
   "execution_count": 231,
   "metadata": {
    "ExecuteTime": {
     "end_time": "2019-07-29T21:32:32.871297Z",
     "start_time": "2019-07-29T21:32:32.862300Z"
    },
    "hidden": true
   },
   "outputs": [
    {
     "data": {
      "text/plain": [
       "-0.031621818"
      ]
     },
     "execution_count": 231,
     "metadata": {},
     "output_type": "execute_result"
    }
   ],
   "source": [
    "np.mean([-0.02456119, -0.04036119, -0.04241117, -0.02603026, -0.02474528])"
   ]
  },
  {
   "cell_type": "code",
   "execution_count": null,
   "metadata": {
    "hidden": true
   },
   "outputs": [],
   "source": []
  },
  {
   "cell_type": "code",
   "execution_count": null,
   "metadata": {
    "ExecuteTime": {
     "end_time": "2019-07-29T21:41:57.236199Z",
     "start_time": "2019-07-29T21:41:35.543694Z"
    },
    "hidden": true,
    "scrolled": true
   },
   "outputs": [],
   "source": [
    "df_ng = get_ng()\n",
    "df_ng5 = df_ng[(df_ng[\"reporting_frequency_A\"] != 1) & \\\n",
    "              (df_ng[\"natural_gas_delivery_contract_type_N/A\"] != 1)]\n",
    "X = df_ng5.drop(columns=\"fuel_cost\")\n",
    "y = (df_ng5.fuel_cost > df_ng.fuel_cost.quantile(.8))\n",
    "X_train, X_test, y_train, y_test = train_test_split(X, y, test_size = 0.2)\n",
    "model = DecisionTreeClassifier(random_state=23, max_depth=10)\n",
    "results = model.fit(X_train, y_train)\n",
    "\n",
    "y_pred = results.predict(X_test)"
   ]
  },
  {
   "cell_type": "code",
   "execution_count": 234,
   "metadata": {
    "ExecuteTime": {
     "end_time": "2019-07-29T21:42:25.281324Z",
     "start_time": "2019-07-29T21:42:25.148014Z"
    },
    "hidden": true
   },
   "outputs": [
    {
     "name": "stdout",
     "output_type": "stream",
     "text": [
      "Precision: 0.8823529411764706\n",
      "Recall: 0.2721774193548387\n",
      "F1: 0.4160246533127889\n",
      "      0    1\n",
      "0  9861   18\n",
      "1   361  135\n",
      "Cost Function: -0.000888331166180569\n"
     ]
    }
   ],
   "source": [
    "get_scores(y_test, y_pred, X_test)"
   ]
  },
  {
   "cell_type": "code",
   "execution_count": 235,
   "metadata": {
    "ExecuteTime": {
     "end_time": "2019-07-29T21:43:05.204589Z",
     "start_time": "2019-07-29T21:42:47.445106Z"
    },
    "hidden": true,
    "scrolled": true
   },
   "outputs": [
    {
     "name": "stdout",
     "output_type": "stream",
     "text": [
      "Precision: 0.8586956521739131\n",
      "Recall: 0.1528046421663443\n",
      "F1: 0.2594417077175698\n",
      "      0   1\n",
      "0  9846  13\n",
      "1   438  79\n",
      "Cost Function: -0.00020166803171062036\n",
      "      0   1\n",
      "0  9846  13\n",
      "1   438  79\n",
      "Precision: 0.786096256684492\n",
      "Recall: 0.28488372093023256\n",
      "F1: 0.4182076813655761\n",
      "      0    1\n",
      "0  9819   40\n",
      "1   369  147\n",
      "Cost Function: -0.0003340459475427819\n",
      "      0    1\n",
      "0  9819   40\n",
      "1   369  147\n",
      "Precision: 0.6879432624113475\n",
      "Recall: 0.187984496124031\n",
      "F1: 0.29528158295281587\n",
      "      0   1\n",
      "0  9815  44\n",
      "1   419  97\n",
      "Cost Function: -0.0012340029092979305\n",
      "      0   1\n",
      "0  9815  44\n",
      "1   419  97\n",
      "Precision: 0.8652482269503546\n",
      "Recall: 0.2364341085271318\n",
      "F1: 0.3713850837138508\n",
      "      0    1\n",
      "0  9839   19\n",
      "1   394  122\n",
      "Cost Function: -0.0014155594326152455\n",
      "      0    1\n",
      "0  9839   19\n",
      "1   394  122\n",
      "Precision: 0.9133333333333333\n",
      "Recall: 0.2655038759689923\n",
      "F1: 0.41141141141141147\n",
      "      0    1\n",
      "0  9845   13\n",
      "1   379  137\n",
      "Cost Function: -0.0007910412982559453\n",
      "      0    1\n",
      "0  9845   13\n",
      "1   379  137\n"
     ]
    },
    {
     "data": {
      "text/plain": [
       "array([-0.00020167, -0.00033405, -0.001234  , -0.00141556, -0.00079104])"
      ]
     },
     "execution_count": 235,
     "metadata": {},
     "output_type": "execute_result"
    }
   ],
   "source": [
    "cross_val_score(results, X, y, scoring=coster, cv=5)"
   ]
  },
  {
   "cell_type": "code",
   "execution_count": 236,
   "metadata": {
    "ExecuteTime": {
     "end_time": "2019-07-29T21:43:51.454925Z",
     "start_time": "2019-07-29T21:43:51.444199Z"
    },
    "hidden": true
   },
   "outputs": [
    {
     "data": {
      "text/plain": [
       "-0.0007952640000000001"
      ]
     },
     "execution_count": 236,
     "metadata": {},
     "output_type": "execute_result"
    }
   ],
   "source": [
    "np.mean([-0.00020167, -0.00033405, -0.001234  , -0.00141556, -0.00079104])"
   ]
  },
  {
   "cell_type": "code",
   "execution_count": 238,
   "metadata": {
    "ExecuteTime": {
     "end_time": "2019-07-29T21:45:51.714707Z",
     "start_time": "2019-07-29T21:45:51.702621Z"
    },
    "hidden": true
   },
   "outputs": [
    {
     "data": {
      "text/plain": [
       "0.8222633463106881"
      ]
     },
     "execution_count": 238,
     "metadata": {},
     "output_type": "execute_result"
    }
   ],
   "source": [
    "np.mean([0.8586956521739131,\n",
    "0.786096256684492,\n",
    "0.6879432624113475,\n",
    "0.8652482269503546,\n",
    "0.9133333333333333])"
   ]
  },
  {
   "cell_type": "code",
   "execution_count": 29,
   "metadata": {
    "ExecuteTime": {
     "end_time": "2019-07-25T15:15:07.721794Z",
     "start_time": "2019-07-25T15:15:07.717439Z"
    },
    "hidden": true
   },
   "outputs": [],
   "source": [
    "# Saving the test and prediction data for later use\n",
    "leaf1_test = y_test\n",
    "leaf1_pred = y_pred"
   ]
  },
  {
   "cell_type": "code",
   "execution_count": 97,
   "metadata": {
    "ExecuteTime": {
     "end_time": "2019-07-22T20:50:19.422048Z",
     "start_time": "2019-07-22T20:49:24.207954Z"
    },
    "hidden": true,
    "scrolled": true
   },
   "outputs": [
    {
     "data": {
      "text/plain": [
       "array([0.92150446, 0.94759881, 0.93289418, 0.93574161, 0.94376913])"
      ]
     },
     "execution_count": 97,
     "metadata": {},
     "output_type": "execute_result"
    }
   ],
   "source": [
    "cross_val_score(results, X, y, cv=5)"
   ]
  },
  {
   "cell_type": "markdown",
   "metadata": {
    "hidden": true
   },
   "source": [
    "No abberations in cross_val_score"
   ]
  },
  {
   "cell_type": "markdown",
   "metadata": {
    "heading_collapsed": true
   },
   "source": [
    "# Modeling Subset of Data - Delivery Contract == N/A"
   ]
  },
  {
   "cell_type": "code",
   "execution_count": 211,
   "metadata": {
    "ExecuteTime": {
     "end_time": "2019-07-29T19:01:04.169144Z",
     "start_time": "2019-07-29T19:00:28.681247Z"
    },
    "hidden": true
   },
   "outputs": [],
   "source": [
    "df_ng=get_ng()\n",
    "df_ng3 = df_ng[(df_ng[\"natural_gas_delivery_contract_type_N/A\"] == 1)]\n",
    "\n",
    "X = df_ng3.drop(columns=\"fuel_cost\")\n",
    "y = (df_ng3.fuel_cost > df_ng.fuel_cost.quantile(.8))\n",
    "X_train, X_test, y_train, y_test = train_test_split(X, y, test_size = 0.2)\n",
    "\n",
    "model = DecisionTreeClassifier(random_state=23, max_depth=10)\n",
    "results = model.fit(X_train, y_train)"
   ]
  },
  {
   "cell_type": "code",
   "execution_count": 212,
   "metadata": {
    "ExecuteTime": {
     "end_time": "2019-07-29T19:01:17.169008Z",
     "start_time": "2019-07-29T19:01:16.198305Z"
    },
    "hidden": true,
    "scrolled": true
   },
   "outputs": [
    {
     "name": "stdout",
     "output_type": "stream",
     "text": [
      "Precision: 0.7195068251871423\n",
      "Recall: 0.32950191570881227\n",
      "F1: 0.4520055325034578\n",
      "       0     1\n",
      "0  30328  1274\n",
      "1   6650  3268\n",
      "Cost Function: -0.09547856488281592\n"
     ]
    }
   ],
   "source": [
    "y_pred = results.predict(X_test)\n",
    "get_scores(y_test, y_pred, X_test)"
   ]
  },
  {
   "cell_type": "markdown",
   "metadata": {
    "hidden": true
   },
   "source": [
    "Very good scores here. "
   ]
  },
  {
   "cell_type": "code",
   "execution_count": 213,
   "metadata": {
    "ExecuteTime": {
     "end_time": "2019-07-29T19:01:28.759719Z",
     "start_time": "2019-07-29T19:01:28.050896Z"
    },
    "hidden": true
   },
   "outputs": [
    {
     "data": {
      "text/plain": [
       "0.8111649696232606"
      ]
     },
     "execution_count": 213,
     "metadata": {},
     "output_type": "execute_result"
    }
   ],
   "source": [
    "get_auc(results, y_test, y_pred)"
   ]
  },
  {
   "cell_type": "code",
   "execution_count": 133,
   "metadata": {
    "ExecuteTime": {
     "end_time": "2019-07-29T16:17:42.854019Z",
     "start_time": "2019-07-29T16:16:19.652980Z"
    },
    "hidden": true,
    "scrolled": false
   },
   "outputs": [
    {
     "name": "stdout",
     "output_type": "stream",
     "text": [
      "Precision: 0.26490683229813666\n",
      "Recall: 0.5960866526904263\n",
      "F1: 0.3668028380993335\n",
      "       0      1\n",
      "0  14934  16569\n",
      "1   4046   5971\n",
      "Cost Function: -0.11065152058331133\n",
      "       0      1\n",
      "0  14934  16569\n",
      "1   4046   5971\n",
      "Precision: 0.8347076461769115\n",
      "Recall: 0.22232205251073175\n",
      "F1: 0.3511233740638549\n",
      "       0     1\n",
      "0  31062   441\n",
      "1   7790  2227\n",
      "Cost Function: -0.04016438171107114\n",
      "       0     1\n",
      "0  31062   441\n",
      "1   7790  2227\n",
      "Precision: 0.8293203291679366\n",
      "Recall: 0.27163821503444147\n",
      "F1: 0.40923447134907504\n",
      "       0     1\n",
      "0  30943   560\n",
      "1   7296  2721\n",
      "Cost Function: -0.11907093627851568\n",
      "       0     1\n",
      "0  30943   560\n",
      "1   7296  2721\n",
      "Precision: 0.2129032258064516\n",
      "Recall: 0.11200958370769691\n",
      "F1: 0.14679139137829528\n",
      "       0     1\n",
      "0  27355  4148\n",
      "1   8895  1122\n",
      "Cost Function: -0.026741629798990217\n",
      "       0     1\n",
      "0  27355  4148\n",
      "1   8895  1122\n",
      "Precision: 0.7205683355886333\n",
      "Recall: 0.21263851452530697\n",
      "F1: 0.32837431588684185\n",
      "       0     1\n",
      "0  30676   826\n",
      "1   7887  2130\n",
      "Cost Function: -0.15438196567760298\n",
      "       0     1\n",
      "0  30676   826\n",
      "1   7887  2130\n"
     ]
    },
    {
     "data": {
      "text/plain": [
       "array([-0.11065152, -0.04016438, -0.11907094, -0.02674163, -0.15438197])"
      ]
     },
     "execution_count": 133,
     "metadata": {},
     "output_type": "execute_result"
    }
   ],
   "source": [
    "cross_val_score(results, X, y, scoring=coster, cv=5)"
   ]
  },
  {
   "cell_type": "code",
   "execution_count": 227,
   "metadata": {
    "ExecuteTime": {
     "end_time": "2019-07-29T21:27:34.962770Z",
     "start_time": "2019-07-29T21:27:34.951423Z"
    },
    "hidden": true
   },
   "outputs": [
    {
     "data": {
      "text/plain": [
       "-0.090202088"
      ]
     },
     "execution_count": 227,
     "metadata": {},
     "output_type": "execute_result"
    }
   ],
   "source": [
    "np.mean([-0.11065152, -0.04016438, -0.11907094, -0.02674163, -0.15438197])"
   ]
  },
  {
   "cell_type": "code",
   "execution_count": 228,
   "metadata": {
    "ExecuteTime": {
     "end_time": "2019-07-29T21:30:01.027546Z",
     "start_time": "2019-07-29T21:30:01.009631Z"
    },
    "hidden": true
   },
   "outputs": [
    {
     "data": {
      "text/plain": [
       "56.4"
      ]
     },
     "execution_count": 228,
     "metadata": {},
     "output_type": "execute_result"
    }
   ],
   "source": [
    "282/5"
   ]
  },
  {
   "cell_type": "markdown",
   "metadata": {
    "hidden": true
   },
   "source": [
    "Some bad scores in there, but cost function is generally very good. \n",
    "\n",
    "Maybe quantities are low when it's inaccurate?"
   ]
  },
  {
   "cell_type": "code",
   "execution_count": 316,
   "metadata": {
    "ExecuteTime": {
     "end_time": "2019-07-26T15:35:06.067923Z",
     "start_time": "2019-07-26T15:35:06.044363Z"
    },
    "hidden": true
   },
   "outputs": [],
   "source": [
    "leaf2_pred = y_pred\n",
    "leaf2_test = y_test"
   ]
  },
  {
   "cell_type": "code",
   "execution_count": 44,
   "metadata": {
    "ExecuteTime": {
     "end_time": "2019-07-26T20:00:21.475275Z",
     "start_time": "2019-07-26T20:00:21.445312Z"
    },
    "hidden": true,
    "scrolled": false
   },
   "outputs": [
    {
     "name": "stdout",
     "output_type": "stream",
     "text": [
      "quantity 0.3065115789271838\n",
      "net_generation_megawatthours 0.17475143706555196\n",
      "mmbtu_per_unit_gen 0.047480963780289084\n",
      "primary_transportation_mode_PL 0.0374495998549301\n",
      "disturbance_events 0.018158446068185993\n",
      "operator_id_19876.0 0.008982741182822147\n",
      "supplier_VARIOUS 0.008915166117318723\n",
      "number_affected 0.008235850094740683\n",
      "contract_type_C 0.007901899785417573\n",
      "operator_id_16534.0 0.007704271132913494\n",
      "reported_prime_mover_CA 0.007595525358214486\n",
      "nerc_region_SPP 0.00719590044945642\n",
      "reported_prime_mover_CT 0.006590752547331757\n",
      "plant_state_NY 0.006232101040383877\n",
      "contract_type_S 0.005633602569983541\n",
      "plant_id_7314 0.005569392988832404\n",
      "plant_state_NC 0.005080406559838078\n",
      "supplier_BPE 0.004520729568905825\n",
      "supplier_MUNIGAS - BP ENERGY 0.004429483889518933\n",
      "nerc_region_WECC 0.004329706084839921\n",
      "nerc_region_FRCC 0.004015608478734724\n",
      "natural_gas_transportation_service_I 0.0036911705047013\n",
      "supplier_LG&E 0.003651576641632353\n",
      "operator_id_16572.0 0.0035956908227096724\n",
      "supplier_IBERDROLA RENEWABLES 0.0034383243084503516\n",
      "natural_gas_transportation_service_F 0.003335995959500248\n",
      "operator_id_12745.0 0.0032388872035070525\n",
      "reported_prime_mover_GT 0.0031933592064025697\n",
      "supplier_CONOCOPHILLIPS 0.0031445088714545126\n",
      "plant_id_7985 0.0029365400310623325\n",
      "operator_id_11249.0 0.0029072089397531443\n",
      "supplier_B P ENERGY 0.0028800024954317117\n",
      "reported_prime_mover_ST 0.00275345730527907\n",
      "plant_state_MI 0.0025180530167577876\n",
      "supplier_VIRGINIA POWER SERVICES ENERGY 0.002511816189149251\n",
      "plant_id_1730 0.002416852061389282\n",
      "secondary_transportation_mode_PL 0.00241479121082495\n",
      "operator_id_11018.0 0.002359241223521233\n",
      "plant_id_8219 0.0023550879117333096\n",
      "plant_id_56328 0.002349912232302974\n",
      "operator_id_17698.0 0.0023469336362269247\n",
      "supplier_KEYSPAN ENERGY 0.0022997883163660927\n",
      "reporting_frequency_A 0.0022945766291467716\n",
      "plant_id_7266 0.002269041582613692\n",
      "plant_id_7552 0.002203650362605041\n",
      "supplier_CORAL 0.0021843230154393535\n",
      "supplier_MERRILL LYNCH 0.0021821411615913803\n",
      "nerc_region_SERC 0.002179831187038551\n",
      "contract_type_N/A 0.0021754441860366873\n",
      "supplier_TENASKA MARKETING 0.0021554337585446555\n"
     ]
    }
   ],
   "source": [
    "for a,b in sorted(zip(X.columns, results.feature_importances_), key=lambda x: x[1], reverse=True)[0:50]:\n",
    "    print(a,b)"
   ]
  }
 ],
 "metadata": {
  "kernelspec": {
   "display_name": "Python 3",
   "language": "python",
   "name": "python3"
  },
  "language_info": {
   "codemirror_mode": {
    "name": "ipython",
    "version": 3
   },
   "file_extension": ".py",
   "mimetype": "text/x-python",
   "name": "python",
   "nbconvert_exporter": "python",
   "pygments_lexer": "ipython3",
   "version": "3.7.3"
  },
  "toc": {
   "base_numbering": 1,
   "nav_menu": {},
   "number_sections": true,
   "sideBar": true,
   "skip_h1_title": false,
   "title_cell": "Table of Contents",
   "title_sidebar": "Contents",
   "toc_cell": false,
   "toc_position": {},
   "toc_section_display": true,
   "toc_window_display": false
  },
  "varInspector": {
   "cols": {
    "lenName": 16,
    "lenType": 16,
    "lenVar": 40
   },
   "kernels_config": {
    "python": {
     "delete_cmd_postfix": "",
     "delete_cmd_prefix": "del ",
     "library": "var_list.py",
     "varRefreshCmd": "print(var_dic_list())"
    },
    "r": {
     "delete_cmd_postfix": ") ",
     "delete_cmd_prefix": "rm(",
     "library": "var_list.r",
     "varRefreshCmd": "cat(var_dic_list()) "
    }
   },
   "types_to_exclude": [
    "module",
    "function",
    "builtin_function_or_method",
    "instance",
    "_Feature"
   ],
   "window_display": false
  }
 },
 "nbformat": 4,
 "nbformat_minor": 2
}
